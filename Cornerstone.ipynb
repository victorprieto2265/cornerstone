{
  "nbformat": 4,
  "nbformat_minor": 0,
  "metadata": {
    "colab": {
      "provenance": [],
      "toc_visible": true,
      "authorship_tag": "ABX9TyOJQkCMHXD8tL7OmTKt2J1O",
      "include_colab_link": true
    },
    "kernelspec": {
      "name": "python3",
      "display_name": "Python 3"
    },
    "language_info": {
      "name": "python"
    }
  },
  "cells": [
    {
      "cell_type": "markdown",
      "metadata": {
        "id": "view-in-github",
        "colab_type": "text"
      },
      "source": [
        "<a href=\"https://colab.research.google.com/github/victorprieto2265/cornerstone/blob/main/Cornerstone.ipynb\" target=\"_parent\"><img src=\"https://colab.research.google.com/assets/colab-badge.svg\" alt=\"Open In Colab\"/></a>"
      ]
    },
    {
      "cell_type": "markdown",
      "source": [
        "# TODO + RFE\n",
        "\n"
      ],
      "metadata": {
        "id": "IwJ6m76Ee1va"
      }
    },
    {
      "cell_type": "markdown",
      "source": [
        "TODO\n",
        "\n",
        "* Fix import problem again... I'm uploading the playoffs data file but it keeps seeing only the prelims one...\n",
        " * update: the cause of this bug was discovered - cornerstone will only use the first uploaded file even if additional spreadsheets with the same name are uploaded, it ignores the copy. The manual workaround is to delete the first original copy if changes are made.\n",
        "* Import computer modern typeface for use (consider open sans or interstate as an alternative).\n",
        "* Detect and split up tables that run over multiple pages (likely documents other than individual schedules for any 32+ team tournaments).\n",
        "* Qr_toggle keeps returning as false despite being updated differently in prelims_input, can't figure out the github new file issue!\n",
        "* Write new error check for duplicates and length limits. The old one is currently commented out.\n",
        "* There's an encoding problem for text: FPDF2 only accepts Latin-1, and I don't know enough around encoding except to tell users not to use anything outside Latin-1. Notably, an em dash and an ellipsis character will cause an encoding problem (the latter is what led me to identify this problem). This could affect all text inputs anywhere, not just individual text schedule inputs.\n",
        "* Finish the crossover templates in rr_templates.xlsx at some point. Right now crossovers are kind of a mess.\n",
        "\n",
        "RFE\n",
        "\n",
        "* Someone has pointed out 3-letter team codes are unnecessary for everything outside of the complete schedule. It's included in the team index, but not actually used in any documents other than the complete schedule. After Cornerstone has been in use for some time, re-evaluate the necessity of the 3-letter code, and correspondingly the complete schedule.\n",
        " * Cornerstone relies on 3-letter codes for a lot of functions. To avoid rewriting half the program, instead assign a unique short string to each team upon input - for instance, T1 through Tn would be fine.\n",
        "* In class definition for individual room schedules, add a row for score confirmation + signature.\n"
      ],
      "metadata": {
        "id": "QEwWOlwXfE0H"
      }
    },
    {
      "cell_type": "markdown",
      "source": [
        "\n",
        "# Import modules / libraries"
      ],
      "metadata": {
        "id": "LxPWT_oriuCh"
      }
    },
    {
      "cell_type": "code",
      "source": [
        "!pip install fpdf2\n",
        "!pip install qrcode\n",
        "!pip install texttable\n",
        "\n",
        "import sys\n",
        "import pandas as pd\n",
        "import warnings\n",
        "warnings.simplefilter('default', DeprecationWarning)\n",
        "from fpdf import FPDF\n",
        "import fpdf\n",
        "from base64 import b64encode\n",
        "import IPython\n",
        "from IPython.display import display, HTML\n",
        "import qrcode\n",
        "import base64\n",
        "import requests\n",
        "from google.colab import files\n",
        "import texttable"
      ],
      "metadata": {
        "id": "pl18nTJ1uVlv",
        "colab": {
          "base_uri": "https://localhost:8080/"
        },
        "outputId": "43df3209-061b-4e66-81bc-5b8a5da46ebc"
      },
      "execution_count": 1,
      "outputs": [
        {
          "output_type": "stream",
          "name": "stdout",
          "text": [
            "Looking in indexes: https://pypi.org/simple, https://us-python.pkg.dev/colab-wheels/public/simple/\n",
            "Requirement already satisfied: fpdf2 in /usr/local/lib/python3.8/dist-packages (2.6.1)\n",
            "Requirement already satisfied: fonttools>=4.34.0 in /usr/local/lib/python3.8/dist-packages (from fpdf2) (4.38.0)\n",
            "Requirement already satisfied: Pillow!=9.2.*,>=6.2.2 in /usr/local/lib/python3.8/dist-packages (from fpdf2) (7.1.2)\n",
            "Requirement already satisfied: defusedxml in /usr/local/lib/python3.8/dist-packages (from fpdf2) (0.7.1)\n",
            "Looking in indexes: https://pypi.org/simple, https://us-python.pkg.dev/colab-wheels/public/simple/\n",
            "Requirement already satisfied: qrcode in /usr/local/lib/python3.8/dist-packages (7.4.2)\n",
            "Requirement already satisfied: pypng in /usr/local/lib/python3.8/dist-packages (from qrcode) (0.20220715.0)\n",
            "Requirement already satisfied: typing-extensions in /usr/local/lib/python3.8/dist-packages (from qrcode) (4.5.0)\n",
            "Looking in indexes: https://pypi.org/simple, https://us-python.pkg.dev/colab-wheels/public/simple/\n",
            "Requirement already satisfied: texttable in /usr/local/lib/python3.8/dist-packages (1.6.7)\n"
          ]
        }
      ]
    },
    {
      "cell_type": "markdown",
      "source": [
        "# Cornerstone Input\n",
        "\n",
        "This section imports all of the input files, except tournament format,\n",
        "which is handled by the tournament_format script.\n",
        "\n",
        "TODO uncomment sys.exit at end of this script for testing\n",
        "\n",
        "TODO figure out how to handle blank spaces and/or none in input file...\n",
        "There was an unusual error where integers were being converted to floats\n",
        "if one of the cells in a range was empty instead of string 'none'.\n",
        "\n",
        "TODO apparently bracket names (and presumably other things) are case-sensitive.\n",
        "\n",
        "TODO currently a global variable for checking for errors, which is a no no?\n"
      ],
      "metadata": {
        "id": "jaurrPCkdJTm"
      }
    },
    {
      "cell_type": "code",
      "source": [
        "error = 0\n",
        "\n",
        "# checks for duplicates and (optional) character limits\n",
        "def error_check(alist, listname, max_length=float('inf'), max_duplicates=1):\n",
        "    global error  # TODO this is apparently a no no, but works for now\n",
        "    print('\\n')\n",
        "    # duplicate checker\n",
        "    seen = {}\n",
        "    duplicates = []\n",
        "    for item in alist:\n",
        "        if item not in seen:\n",
        "            seen[item] = 1\n",
        "        else:\n",
        "            seen[item] += 1\n",
        "            if seen[item] > max_duplicates:\n",
        "                duplicates.append(' - ' + str(item))\n",
        "    if not duplicates:\n",
        "        if max_duplicates > 1:\n",
        "            print(f'No excess duplicates detected for {listname}.')\n",
        "        else:\n",
        "            print(f'No duplicates detected for {listname}.')\n",
        "    else:\n",
        "        # error = True\n",
        "        error += 1\n",
        "        print(f'\\nDuplicates detected for {listname}:')\n",
        "        print(*duplicates, sep='\\n')\n",
        "\n",
        "    # character length checker\n",
        "    long_items = [' - ' + item for item in alist if len(item) > max_length]\n",
        "    if not long_items:\n",
        "        print(f'No character lengths exceeded for {listname}.')\n",
        "    else:\n",
        "        error += 1\n",
        "        # error = True\n",
        "        print(f'Character lengths exceeded for {listname}:')\n",
        "        print(*long_items, sep='\\n')"
      ],
      "metadata": {
        "id": "Hd9MUoAjgvDO"
      },
      "execution_count": 129,
      "outputs": []
    },
    {
      "cell_type": "markdown",
      "source": [
        "Function definition: analyze sheet and generate list from pandas dataframe."
      ],
      "metadata": {
        "id": "_Jl-_l1RkTvk"
      }
    },
    {
      "cell_type": "code",
      "source": [
        "def analyze_input(sheet_name, df_dict):\n",
        "    df = df_dict[sheet_name]\n",
        "    temp_list = df.values.tolist()  # note: temp_list may be multiple lists!\n",
        "    return temp_list"
      ],
      "metadata": {
        "id": "fwaKQucMkRJT"
      },
      "execution_count": 130,
      "outputs": []
    },
    {
      "cell_type": "markdown",
      "source": [
        "---\n",
        "\n",
        "Upload the prelims_data excel spreadsheet from local computer, and create dictionary containing the sheet name and each dataframe.\n",
        "\n",
        "TODO For now, this is commented out. While testing Cornerstone as I'm porting over to Colab, I will be directly pulling the excel file from a dedicated location in github."
      ],
      "metadata": {
        "id": "QIwjrPCFjYas"
      }
    },
    {
      "cell_type": "code",
      "source": [
        "file_upload = files.upload()\n",
        "file_upload = list(file_upload.keys())[0]\n",
        "\n",
        "sheet_names = ['tournament format', 'list of teams', 'team codes',\n",
        "                'group names', 'room assignments',\n",
        "                'QR codes', 'text input']\n",
        "df_dict = pd.read_excel(file_upload,\n",
        "                               sheet_name=sheet_names)"
      ],
      "metadata": {
        "id": "xysCWCW7g83a",
        "colab": {
          "base_uri": "https://localhost:8080/",
          "height": 90
        },
        "collapsed": true,
        "outputId": "bda01035-f9af-417b-bce5-742e3d54a392"
      },
      "execution_count": 131,
      "outputs": [
        {
          "output_type": "display_data",
          "data": {
            "text/plain": [
              "<IPython.core.display.HTML object>"
            ],
            "text/html": [
              "\n",
              "     <input type=\"file\" id=\"files-c69df7b3-af7e-4ba6-901c-0304efd6eb51\" name=\"files[]\" multiple disabled\n",
              "        style=\"border:none\" />\n",
              "     <output id=\"result-c69df7b3-af7e-4ba6-901c-0304efd6eb51\">\n",
              "      Upload widget is only available when the cell has been executed in the\n",
              "      current browser session. Please rerun this cell to enable.\n",
              "      </output>\n",
              "      <script>// Copyright 2017 Google LLC\n",
              "//\n",
              "// Licensed under the Apache License, Version 2.0 (the \"License\");\n",
              "// you may not use this file except in compliance with the License.\n",
              "// You may obtain a copy of the License at\n",
              "//\n",
              "//      http://www.apache.org/licenses/LICENSE-2.0\n",
              "//\n",
              "// Unless required by applicable law or agreed to in writing, software\n",
              "// distributed under the License is distributed on an \"AS IS\" BASIS,\n",
              "// WITHOUT WARRANTIES OR CONDITIONS OF ANY KIND, either express or implied.\n",
              "// See the License for the specific language governing permissions and\n",
              "// limitations under the License.\n",
              "\n",
              "/**\n",
              " * @fileoverview Helpers for google.colab Python module.\n",
              " */\n",
              "(function(scope) {\n",
              "function span(text, styleAttributes = {}) {\n",
              "  const element = document.createElement('span');\n",
              "  element.textContent = text;\n",
              "  for (const key of Object.keys(styleAttributes)) {\n",
              "    element.style[key] = styleAttributes[key];\n",
              "  }\n",
              "  return element;\n",
              "}\n",
              "\n",
              "// Max number of bytes which will be uploaded at a time.\n",
              "const MAX_PAYLOAD_SIZE = 100 * 1024;\n",
              "\n",
              "function _uploadFiles(inputId, outputId) {\n",
              "  const steps = uploadFilesStep(inputId, outputId);\n",
              "  const outputElement = document.getElementById(outputId);\n",
              "  // Cache steps on the outputElement to make it available for the next call\n",
              "  // to uploadFilesContinue from Python.\n",
              "  outputElement.steps = steps;\n",
              "\n",
              "  return _uploadFilesContinue(outputId);\n",
              "}\n",
              "\n",
              "// This is roughly an async generator (not supported in the browser yet),\n",
              "// where there are multiple asynchronous steps and the Python side is going\n",
              "// to poll for completion of each step.\n",
              "// This uses a Promise to block the python side on completion of each step,\n",
              "// then passes the result of the previous step as the input to the next step.\n",
              "function _uploadFilesContinue(outputId) {\n",
              "  const outputElement = document.getElementById(outputId);\n",
              "  const steps = outputElement.steps;\n",
              "\n",
              "  const next = steps.next(outputElement.lastPromiseValue);\n",
              "  return Promise.resolve(next.value.promise).then((value) => {\n",
              "    // Cache the last promise value to make it available to the next\n",
              "    // step of the generator.\n",
              "    outputElement.lastPromiseValue = value;\n",
              "    return next.value.response;\n",
              "  });\n",
              "}\n",
              "\n",
              "/**\n",
              " * Generator function which is called between each async step of the upload\n",
              " * process.\n",
              " * @param {string} inputId Element ID of the input file picker element.\n",
              " * @param {string} outputId Element ID of the output display.\n",
              " * @return {!Iterable<!Object>} Iterable of next steps.\n",
              " */\n",
              "function* uploadFilesStep(inputId, outputId) {\n",
              "  const inputElement = document.getElementById(inputId);\n",
              "  inputElement.disabled = false;\n",
              "\n",
              "  const outputElement = document.getElementById(outputId);\n",
              "  outputElement.innerHTML = '';\n",
              "\n",
              "  const pickedPromise = new Promise((resolve) => {\n",
              "    inputElement.addEventListener('change', (e) => {\n",
              "      resolve(e.target.files);\n",
              "    });\n",
              "  });\n",
              "\n",
              "  const cancel = document.createElement('button');\n",
              "  inputElement.parentElement.appendChild(cancel);\n",
              "  cancel.textContent = 'Cancel upload';\n",
              "  const cancelPromise = new Promise((resolve) => {\n",
              "    cancel.onclick = () => {\n",
              "      resolve(null);\n",
              "    };\n",
              "  });\n",
              "\n",
              "  // Wait for the user to pick the files.\n",
              "  const files = yield {\n",
              "    promise: Promise.race([pickedPromise, cancelPromise]),\n",
              "    response: {\n",
              "      action: 'starting',\n",
              "    }\n",
              "  };\n",
              "\n",
              "  cancel.remove();\n",
              "\n",
              "  // Disable the input element since further picks are not allowed.\n",
              "  inputElement.disabled = true;\n",
              "\n",
              "  if (!files) {\n",
              "    return {\n",
              "      response: {\n",
              "        action: 'complete',\n",
              "      }\n",
              "    };\n",
              "  }\n",
              "\n",
              "  for (const file of files) {\n",
              "    const li = document.createElement('li');\n",
              "    li.append(span(file.name, {fontWeight: 'bold'}));\n",
              "    li.append(span(\n",
              "        `(${file.type || 'n/a'}) - ${file.size} bytes, ` +\n",
              "        `last modified: ${\n",
              "            file.lastModifiedDate ? file.lastModifiedDate.toLocaleDateString() :\n",
              "                                    'n/a'} - `));\n",
              "    const percent = span('0% done');\n",
              "    li.appendChild(percent);\n",
              "\n",
              "    outputElement.appendChild(li);\n",
              "\n",
              "    const fileDataPromise = new Promise((resolve) => {\n",
              "      const reader = new FileReader();\n",
              "      reader.onload = (e) => {\n",
              "        resolve(e.target.result);\n",
              "      };\n",
              "      reader.readAsArrayBuffer(file);\n",
              "    });\n",
              "    // Wait for the data to be ready.\n",
              "    let fileData = yield {\n",
              "      promise: fileDataPromise,\n",
              "      response: {\n",
              "        action: 'continue',\n",
              "      }\n",
              "    };\n",
              "\n",
              "    // Use a chunked sending to avoid message size limits. See b/62115660.\n",
              "    let position = 0;\n",
              "    do {\n",
              "      const length = Math.min(fileData.byteLength - position, MAX_PAYLOAD_SIZE);\n",
              "      const chunk = new Uint8Array(fileData, position, length);\n",
              "      position += length;\n",
              "\n",
              "      const base64 = btoa(String.fromCharCode.apply(null, chunk));\n",
              "      yield {\n",
              "        response: {\n",
              "          action: 'append',\n",
              "          file: file.name,\n",
              "          data: base64,\n",
              "        },\n",
              "      };\n",
              "\n",
              "      let percentDone = fileData.byteLength === 0 ?\n",
              "          100 :\n",
              "          Math.round((position / fileData.byteLength) * 100);\n",
              "      percent.textContent = `${percentDone}% done`;\n",
              "\n",
              "    } while (position < fileData.byteLength);\n",
              "  }\n",
              "\n",
              "  // All done.\n",
              "  yield {\n",
              "    response: {\n",
              "      action: 'complete',\n",
              "    }\n",
              "  };\n",
              "}\n",
              "\n",
              "scope.google = scope.google || {};\n",
              "scope.google.colab = scope.google.colab || {};\n",
              "scope.google.colab._files = {\n",
              "  _uploadFiles,\n",
              "  _uploadFilesContinue,\n",
              "};\n",
              "})(self);\n",
              "</script> "
            ]
          },
          "metadata": {}
        },
        {
          "output_type": "stream",
          "name": "stdout",
          "text": [
            "Saving playoffs_data_columbia.xlsx to playoffs_data_columbia.xlsx\n"
          ]
        }
      ]
    },
    {
      "cell_type": "code",
      "source": [
        "# sheet_names = ['tournament format', 'list of teams', 'team codes',\n",
        "#                 'group names', 'room assignments',\n",
        "#                 'QR codes', 'text input']\n",
        "# url = \"https://github.com/victorprieto2265/cornerstone/blob/main/data%20input/prelims_data.xlsx?raw=true\"\n",
        "# df_dict = pd.read_excel(url,\n",
        "#                                sheet_name=sheet_names)\n"
      ],
      "metadata": {
        "id": "Y1gg7KUvlGRK"
      },
      "execution_count": 132,
      "outputs": []
    },
    {
      "cell_type": "markdown",
      "source": [
        "Determine phase of the tournament based on import filename."
      ],
      "metadata": {
        "id": "Ym7NjjhXATSB"
      }
    },
    {
      "cell_type": "code",
      "source": [
        "# check to make sure filename has the correct prefix for tournament phase\n",
        "acceptable_file_prefixes = ('prelims', 'playoffs', 'super')\n",
        "if not file_upload.startswith(acceptable_file_prefixes):\n",
        "  print('\\nWARNING: filename must start with one of the following:')\n",
        "  for prefix in acceptable_file_prefixes:\n",
        "    print(prefix)\n",
        "  sys.exit()\n",
        "\n",
        "if file_upload.startswith('prelims'):\n",
        "  tournament_phase = 'prelims'\n",
        "elif file_upload.startswith('playoffs'):\n",
        "  tournament_phase = 'playoffs'\n",
        "elif file_upload.startswith('super'):\n",
        "  tournament_phase = 'superplayoffs'"
      ],
      "metadata": {
        "id": "oLibmsoU-Mv_"
      },
      "execution_count": 133,
      "outputs": []
    },
    {
      "cell_type": "markdown",
      "source": [
        "Using the analyze_input function, create a list from each tab of the spreadsheet corresponding to the relevant information (e.g. a list of room assignments). If in playoffs or superplayoffs, also create the relevant lists there."
      ],
      "metadata": {
        "id": "EvXL0iGwFMH7"
      }
    },
    {
      "cell_type": "code",
      "source": [
        "list_of_teams = analyze_input('list of teams', df_dict)\n",
        "team_codes = analyze_input('team codes', df_dict)\n",
        "room_assignments = analyze_input('room assignments', df_dict)\n",
        "qr_codelist = analyze_input('QR codes', df_dict)\n",
        "textlist = analyze_input('text input', df_dict)\n",
        "tournament_format = analyze_input('tournament format', df_dict)\n",
        "\n",
        "group_names = analyze_input('group names', df_dict)\n",
        "prelim_group_names = [row[0] for row in group_names]\n",
        "\n",
        "if tournament_phase in ['playoffs', 'superplayoffs']:\n",
        "  playoff_bracket_names = [row[1] for row in group_names]\n",
        "  playoff_bracket_names = [x for x in playoff_bracket_names\n",
        "                            if str(x) != 'nan']\n",
        "  playoff_list_of_teams = list_of_teams\n",
        "\n",
        "if tournament_phase == 'superplayoffs':\n",
        "  super_bracket_names = [row[2] for row in group_names]\n",
        "  super_bracket_names = [x for x in super_bracket_names\n",
        "                            if str(x) != 'nan']\n",
        "  super_list_of_teams = list_of_teams\n"
      ],
      "metadata": {
        "id": "3CAhOiL09mfs"
      },
      "execution_count": 134,
      "outputs": []
    },
    {
      "cell_type": "markdown",
      "source": [
        "Sometimes, tournaments don't have enough teams to warrant more than one prelim group. We'll do a quick check to see if that's the case."
      ],
      "metadata": {
        "id": "hMBNDAmFJNuK"
      }
    },
    {
      "cell_type": "code",
      "source": [
        "if len(prelim_group_names) == 1:\n",
        "  single_prelim_group = True\n",
        "else:\n",
        "  single_prelim_group = False"
      ],
      "metadata": {
        "id": "_aY-0K2lJiXN"
      },
      "execution_count": 135,
      "outputs": []
    },
    {
      "cell_type": "markdown",
      "source": [
        "A dictionary containing general information about the tournament is also generated from the tournament_format sheet.\n",
        "\n",
        "It's necessary to convert the datetime value from excel to a more suitable string before printing."
      ],
      "metadata": {
        "id": "irPSh0zaFwLj"
      }
    },
    {
      "cell_type": "code",
      "source": [
        "format_dict = {}\n",
        "for row in tournament_format:\n",
        "    key = row[0]  # item, e.g. \"tournament name\"\n",
        "    value = row[1]  # input, e.g. \"2022 NSC\"\n",
        "    format_dict[key] = value\n",
        "\n",
        "# convert Excel datetime format to more suitable date string\n",
        "date = format_dict['tournament date'].strftime('%B %d, %Y')\n",
        "format_dict['tournament date'] = date"
      ],
      "metadata": {
        "id": "SNGO4QFRkOZ5"
      },
      "execution_count": 136,
      "outputs": []
    },
    {
      "cell_type": "markdown",
      "source": [
        "Next is the analysis section for the text and QR code inputs. Did the user turn these on? If not, these sections are skipped."
      ],
      "metadata": {
        "id": "8EDjXCXfn9Wd"
      }
    },
    {
      "cell_type": "code",
      "source": [
        "if format_dict['QR codes'] == 'Y':\n",
        "    qr_toggle = True\n",
        "\n",
        "    qr_names = [code[0] for code in qr_codelist]\n",
        "    qr_codes = [code[2] for code in qr_codelist]\n",
        "    qr_captions = [code[3] for code in qr_codelist]\n",
        "\n",
        "else:\n",
        "    qr_toggle = False\n",
        "    qr_codes = False\n",
        "    qr_captions = False\n",
        "\n",
        "if format_dict['text'] == 'Y':\n",
        "    text_toggle = True\n",
        "    texts = [text[1] for text in textlist]\n",
        "\n",
        "else:\n",
        "    text_toggle = False\n",
        "    texts = False"
      ],
      "metadata": {
        "id": "cZ3mT363oBcD"
      },
      "execution_count": 137,
      "outputs": []
    },
    {
      "cell_type": "markdown",
      "source": [
        "More dictionary creation here: this time, for team names and team codes.\n",
        "\n",
        "RFE get rid of team codes if the user is okay with foregoing the complete team schedule in favor of individual team schedules."
      ],
      "metadata": {
        "id": "ozsWkM-bHtSP"
      }
    },
    {
      "cell_type": "code",
      "source": [
        "# key is team name\n",
        "# value is team code\n",
        "# also created a dictionary where the key/value pairs are swapped\n",
        "team_code_dict = {}\n",
        "code_team_dict = {}\n",
        "for row in team_codes:\n",
        "    team_name = row[0]\n",
        "    team_code = row[1]\n",
        "    team_code_dict[team_name] = team_code\n",
        "    code_team_dict[team_code] = team_name\n",
        "\n",
        "# key is prelim group and a number (i.e. Accra1)\n",
        "# value is corresponding room (i.e. Grand Ballroom A is Accra1)\n",
        "# also created dictionary where key is a playoff bracket instead\n",
        "prelim_room_dict = {}\n",
        "playoff_room_dict = {}\n",
        "super_room_dict = {}\n",
        "for i in room_assignments:\n",
        "    key = i[1] + str(i[2])\n",
        "    value = i[0]\n",
        "    if tournament_phase == 'prelims':\n",
        "        prelim_room_dict[key] = value\n",
        "    elif tournament_phase == 'playoffs':\n",
        "        playoff_room_dict[key] = value\n",
        "    elif tournament_phase == 'superplayoffs':\n",
        "        super_room_dict[key] = value"
      ],
      "metadata": {
        "id": "zCCyM_MCg-H0"
      },
      "execution_count": 138,
      "outputs": []
    },
    {
      "cell_type": "markdown",
      "source": [
        "Last is the error check section, to see if any of the data submitted by the user was improperly formatted.\n",
        "\n",
        "TODO this whole section needs to be updated... And perhaps error checks should be distributed elsewhere in the program. It's not working well."
      ],
      "metadata": {
        "id": "dKTcWKPmHfV8"
      }
    },
    {
      "cell_type": "code",
      "source": [
        "# TODO modify max_duplicates to be flexible on schedule and not hard coded\n",
        "# or perhaps get rid of max duplicates since it doesn't make a lot of sense\n",
        "\n",
        "# error_check([sublist[0] for sublist in list_of_teams],\n",
        "#             'the team names in list_of_teams',\n",
        "#             max_length=26)\n",
        "\n",
        "# error_check([sublist[2] for sublist in list_of_teams],\n",
        "#             'the prelim groups in list_of_teams',\n",
        "#             max_length=15,\n",
        "#             )\n",
        "\n",
        "# error_check([sublist[1] for sublist in team_codes],\n",
        "#             'the team codes in team_codes',\n",
        "#             max_length=4)\n",
        "\n",
        "# try:\n",
        "#     error_check(prelim_group_names,\n",
        "#                 'the groups in prelim_group_names',\n",
        "#                 max_length=15)\n",
        "# except:  # TODO bare except\n",
        "#     None\n",
        "\n",
        "# try:\n",
        "#     error_check(playoff_bracket_names,\n",
        "#                 'the brackets in playoff_bracket_names',\n",
        "#                 max_length=15)\n",
        "# except:  # TODO bare except\n",
        "#     None\n",
        "\n",
        "# error_check([sublist[0] for sublist in room_assignments],\n",
        "#             'the list of rooms in room_assignments',\n",
        "#             max_length=15)\n",
        "\n",
        "if error == 0:\n",
        "    print('\\n*** No errors detected upon import. ***')\n",
        "else:\n",
        "    print('\\n*** Errors detected during import! ***')\n",
        "    sys.exit()"
      ],
      "metadata": {
        "id": "DhUxZUHJHehk",
        "collapsed": true,
        "colab": {
          "base_uri": "https://localhost:8080/"
        },
        "outputId": "b1ff059a-08fd-47c2-f1a4-8354dad503a0"
      },
      "execution_count": 139,
      "outputs": [
        {
          "output_type": "stream",
          "name": "stdout",
          "text": [
            "\n",
            "*** No errors detected upon import. ***\n"
          ]
        }
      ]
    },
    {
      "cell_type": "markdown",
      "source": [
        "# Function Definitions"
      ],
      "metadata": {
        "id": "owcZyEiJdJTm"
      }
    },
    {
      "cell_type": "markdown",
      "source": [
        "Function for removing duplicates from a list."
      ],
      "metadata": {
        "id": "uQuJVhmyA3CC"
      }
    },
    {
      "cell_type": "code",
      "source": [
        "def remove_duplicates(alist):\n",
        "    newlist = []\n",
        "    [newlist.append(x) for x in alist if x not in newlist]\n",
        "    return newlist"
      ],
      "metadata": {
        "id": "a81URiBdA7G8"
      },
      "execution_count": 140,
      "outputs": []
    },
    {
      "cell_type": "markdown",
      "source": [
        "Functions for reading playoff codes 1 and 2 and returning the correctly sorted list of teams."
      ],
      "metadata": {
        "id": "aoLv-Ht2TI1C"
      }
    },
    {
      "cell_type": "code",
      "source": [
        "def code_1_scheduler(teamlist, code):\n",
        "  code_1 = code.split(',')\n",
        "  newlist = []\n",
        "  for i in code_1:\n",
        "    newlist.append(teamlist[int(i)-1])\n",
        "  return newlist\n",
        "\n",
        "\n",
        "def code_2_scheduler(teamlist, code):\n",
        "  code_2 = code.split(',')\n",
        "  code_2 = [int(i) for i in code_2]\n",
        "  newlist = []\n",
        "  for index, element in enumerate(code_2):\n",
        "    slice1 = sum(code_2[0:index])\n",
        "    slice2 = slice1 + element\n",
        "    newlist.append(teamlist[slice1:slice2])\n",
        "  return newlist"
      ],
      "metadata": {
        "id": "tw-A9wJmTJYr"
      },
      "execution_count": 141,
      "outputs": []
    },
    {
      "cell_type": "markdown",
      "source": [
        "Visual debugging this program often requires visualization of tables. This function is a quick way of displaying pretty tables."
      ],
      "metadata": {
        "id": "LjsKCcri1v-C"
      }
    },
    {
      "cell_type": "code",
      "source": [
        "def visual_debugger(table):\n",
        "  # Create texttable object\n",
        "  tableObj = texttable.Texttable(max_width=250)\n",
        "\n",
        "  # Set columns\n",
        "  tableObj.set_cols_align([\"l\", \"r\", \"c\"])\n",
        "\n",
        "  # Set datatype of each column\n",
        "  tableObj.set_cols_dtype([\"a\", \"i\", \"t\"])\n",
        "\n",
        "  # Adjust columns\n",
        "  tableObj.set_cols_valign([\"t\", \"m\", \"b\"])\n",
        "  # col_widths = [5 for col in table[0]]\n",
        "  # print(col_widths)\n",
        "  # tableObj.set_cols_width(col_widths)\n",
        "\n",
        "  # Insert rows\n",
        "  tableObj.add_rows(table)\n",
        "\n",
        "  # Display table\n",
        "  print(tableObj.draw())\n"
      ],
      "metadata": {
        "id": "81Nm4sRF15oi"
      },
      "execution_count": 142,
      "outputs": []
    },
    {
      "cell_type": "markdown",
      "source": [
        "original function_definitions.py"
      ],
      "metadata": {
        "id": "EUZolcmPAy4y"
      }
    },
    {
      "cell_type": "code",
      "source": [
        "# import time\n",
        "# import sys\n",
        "# from pathlib import Path\n",
        "# from pylatex import (Document, Tabularx, Command,\n",
        "#                       NewPage, HugeText, Package,\n",
        "#                      VerticalSpace)\n",
        "# from pylatex.utils import NoEscape\n",
        "# from cornerstone_input import format_dict\n",
        "\n",
        "# # place additional modules here\n",
        "\n",
        "# header = \"\"\"\n",
        "\n",
        "# Depository for a bunch of class and function definitions shared across\n",
        "# prelim/playoff scripts.\n",
        "\n",
        "# TODO what if snake seed is fed a list with odd number of teams?\n",
        "\n",
        "# TODO what if qr_count ≠ 3?\n",
        "\n",
        "# Created on Mon Nov 1 13:53:44 2021 Eastern Time\n",
        "\n",
        "# @author: Victor Prieto\n",
        "\n",
        "# \"\"\"\n",
        "\n",
        "\n",
        "# # starts program runtime\n",
        "# start_time = time.time()\n",
        "# print('\\n', header)\n",
        "# print('start time: %s' % time.ctime())\n",
        "\n",
        "# # %% function definitions\n",
        "\n",
        "\n",
        "\n",
        "\n",
        "\n",
        "# def split_list(alist, wanted_parts=1):\n",
        "#     length = len(alist)\n",
        "#     return [alist[i*length // wanted_parts: (i+1)*length // wanted_parts]\n",
        "#             for i in range(wanted_parts)]\n",
        "\n",
        "\n",
        "# def snake_seed(list_of_teams, bracket_count):\n",
        "#     \"\"\"\n",
        "#     Parameters\n",
        "#     ----------\n",
        "#     list_of_teams : list\n",
        "#         A list of teams for reordering into playoff brackets by snake seeding.\n",
        "#     bracket_count : int\n",
        "#         Number of playoff brackets to snake seed across.\n",
        "\n",
        "#     Returns\n",
        "#     -------\n",
        "#     newlist : list\n",
        "#         Same list of teams accepted as input, but reordered by snake seeding.\n",
        "#         The list is also split into the number of playoff brackets.\n",
        "#         Example:\n",
        "#             (1, 2, 3, 4... 23, 24)\n",
        "#             snake seeded across four brackets becomes\n",
        "#             ((1, 8, 9, 16, 17, 24), (2, 7, 10, 15, 18... 12, 13, 20, 21))\n",
        "\n",
        "#     \"\"\"\n",
        "\n",
        "#     # generates sequence of indices for snake seeding\n",
        "#     sequence_length = 2 * bracket_count\n",
        "#     reps = len(list_of_teams) / sequence_length\n",
        "#     sequence = []\n",
        "#     for i in range(0, int(sequence_length/2)):\n",
        "#         for j in range(0, int(reps)):\n",
        "#             sequence.append(i+j*sequence_length)\n",
        "#             sequence.append((sequence_length-1-i)+j*sequence_length)\n",
        "\n",
        "#     # quits program if odd number of teams in list_of_teams\n",
        "#     if (len(list_of_teams)) % 2 == 1:\n",
        "#         print('ODD NUMBER OF TEAMS DETECTED')\n",
        "#         sys.exit()\n",
        "\n",
        "#     # use sequence of indices to generate new list of teams\n",
        "#     newlist = (list_of_teams[index] for index in sequence)\n",
        "#     return newlist\n",
        "\n",
        "\n",
        "# def alternating_rows(doc, color):\n",
        "#     return doc.append(NoEscape(r'\\rowcolors{3}{white}{%s}' % color))\n",
        "\n",
        "\n",
        "# def duplicate_checker(alist):\n",
        "#     seen = set()\n",
        "#     for x in alist:\n",
        "#         if x in seen:\n",
        "#             return True\n",
        "#         seen.add(x)\n",
        "#     return False\n",
        "\n",
        "\n",
        "# # %% classes, mostly not in use\n",
        "# # TODO figure out class inheritance for team/prelim_team/playoff_team\n",
        "# class team:\n",
        "#     def __init__(self,\n",
        "#                  name,\n",
        "#                  code):\n",
        "#         self.name = name\n",
        "#         self.code = code\n",
        "\n",
        "\n",
        "# class prelim_team(team):\n",
        "#     def __init__(self,\n",
        "#                  name,\n",
        "#                  code,\n",
        "#                  prelim_group,\n",
        "#                  prelim_seed):\n",
        "#         super().__init__(name, code)\n",
        "#         self.prelim_group = prelim_group\n",
        "#         self.prelim_seed = prelim_seed\n",
        "\n",
        "\n",
        "# class playoff_team():\n",
        "#     def __init__(self,\n",
        "#                  name,\n",
        "#                  code,\n",
        "#                  prelim_group,\n",
        "#                  playoff_bracket,\n",
        "#                  playoff_seed):  # playoff seed also the prelim finish\n",
        "#         self.name = name\n",
        "#         self.code = code\n",
        "#         self.prelim_group = prelim_group\n",
        "#         self.playoff_bracket = playoff_bracket\n",
        "#         self.playoff_seed = playoff_seed\n",
        "\n",
        "\n",
        "\n",
        "# # %% prints runtime\n",
        "# print('end time: %s' % time.ctime())\n",
        "# print(\"--- %s seconds ---\" % '%.3f' % (time.time() - start_time))\n",
        "# print(\"--- %s minutes ---\" % '%.3f' % (time.time()/60 - start_time/60))"
      ],
      "metadata": {
        "id": "83PLhfS0ArVn"
      },
      "execution_count": 143,
      "outputs": []
    },
    {
      "cell_type": "markdown",
      "source": [
        "# Standard Scheduler Function\n",
        "\n",
        "Created on Mon Nov 22 2021\n",
        "\n",
        "Definition of functions used for creating a table for a round robin schedule,\n",
        "between 4 and 14 teams.\n",
        "\n",
        "TODO if possible, fix pylatex table lines and shading in this function"
      ],
      "metadata": {
        "id": "GEJoeZNfdPrN"
      }
    },
    {
      "cell_type": "markdown",
      "source": [
        "First: retrieve the round robin templates stored on the cornerstone github page. The templates will automatically populate a dictionary.\n",
        "\n",
        "Each key is the name of the sheet corresponding to the round robin template: rr_6 is a basic 6 team round robin, rr_12 is for 12 teams, rr_crossover_A8 is the 8 team playoff roundrobin including crossovers (there are two possible crossovers, A and B, based on [Dwight Wynne's spreadsheet of schedule formats](https://https://docs.google.com/spreadsheets/d/1BPF6jFvhkh5qe7eesGFGU9KH6FVps2tS3YeseFocpIE/edit#gid=16)).\n",
        "\n",
        "The dictionary values are the pandas dataframes for each template.\n",
        "\n",
        "These templates will be used in the standard scheduler function and retrieved based on the key name."
      ],
      "metadata": {
        "id": "Q__BsPTWAtPh"
      }
    },
    {
      "cell_type": "code",
      "source": [
        "url = \"https://github.com/victorprieto2265/cornerstone/blob/main/templates/rr_schedules/rr_templates.xlsx?raw=true\"\n",
        "rr_template_dict = pd.read_excel(url,\n",
        "                                 sheet_name = None)"
      ],
      "metadata": {
        "id": "7FtnKegkiJUy",
        "collapsed": true
      },
      "execution_count": 144,
      "outputs": []
    },
    {
      "cell_type": "markdown",
      "source": [
        "Definition of the standard scheduler function is below."
      ],
      "metadata": {
        "id": "rLOCcNtEFpce"
      }
    },
    {
      "cell_type": "code",
      "source": [
        "def standard_schedule(group_name, teamcode_dict, room_dict, roundstart=1,\n",
        "                      multiple_rr=1, crossover=False, superplayoff=False):\n",
        "    \"\"\"\n",
        "\n",
        "\n",
        "    Parameters\n",
        "    ----------\n",
        "    groupname : string\n",
        "        String of the prelim group or playoff bracket name.\n",
        "        Example: Lilongwe\n",
        "    teamcode_dict : dict\n",
        "        k : v = a group/bracket code : teamcode corresponding to that code\n",
        "        example: Lilongwe4 = MBA\n",
        "    room_dict : dict\n",
        "        k : v = a group/bracket code : room corresponding to that code\n",
        "        example: Lilongwe2 = Suite 1132\n",
        "    roundstart : int, optional\n",
        "        Number for the first round in the schedule. The default is 1.\n",
        "\n",
        "    Returns\n",
        "    -------\n",
        "    schedule_grid : list\n",
        "        Latex-friendly table. First row = table header, remaining rows =\n",
        "        schedule for each round.\n",
        "\n",
        "    \"\"\"\n",
        "\n",
        "    # produce teamlist\n",
        "    teamlist = [k for k, v in list(teamcode_dict.items())\n",
        "                if k.startswith(group_name)]\n",
        "    sorted_list = sorted(teamlist)\n",
        "    teamlist = [teamcode_dict[i] for i in sorted_list]\n",
        "\n",
        "    # identify number of teams in teamlist and appropriate number of rooms\n",
        "    teamcount = len(teamlist)\n",
        "    roomcount = teamcount // 2\n",
        "\n",
        "    if teamcount <= 2:\n",
        "      print('Unable to produce round robins smaller than 3.')\n",
        "      sys.exit()\n",
        "\n",
        "    if teamcount >= 15:\n",
        "      print('Unable to produce round robins larger than 14.')\n",
        "      sys.exit()\n",
        "\n",
        "    # retrieve correct rr_template from rr_template_dict\n",
        "    if multiple_rr >= 2 or not isinstance(multiple_rr, int):\n",
        "      key = f'rr_{teamcount}_{multiple_rr}x'\n",
        "    elif crossover is False:\n",
        "      key = f'rr_{teamcount}'\n",
        "    else:\n",
        "      key = f'rr_crossover_{crossover}{teamcount}'\n",
        "\n",
        "    try:\n",
        "      rr_schedule = rr_template_dict[key].values.tolist()\n",
        "    except KeyError:\n",
        "      print('Warning! Round robin template not found. Please check your '\n",
        "            + 'input and try again.')\n",
        "      sys.exit()\n",
        "    \n",
        "\n",
        "    # produce roomlist\n",
        "    roomlist = [k for k, v in list(room_dict.items())\n",
        "                if k.startswith(group_name)]\n",
        "    roomlist = [room_dict[i] for i in sorted(roomlist)]\n",
        "\n",
        "    # populate header with room names\n",
        "    rooms = []\n",
        "    header = ['']\n",
        "    for index in range(roomcount):\n",
        "        room = roomlist[index]\n",
        "        header.append(room)\n",
        "\n",
        "    # the last element in the header should be BYE if teamcount is odd\n",
        "    if teamcount % 2 == 1:\n",
        "        header.append('BYE')\n",
        "\n",
        "    # use rr_schedule template and roundstart to produce rest of schedule grid\n",
        "    schedule_grid = [header]\n",
        "    for round_num, row in enumerate(rr_schedule):\n",
        "        round_num += roundstart\n",
        "        new_row = [f'Round {round_num}']\n",
        "        for index in row:\n",
        "            code = group_name + str(index)\n",
        "            team = teamcode_dict[code]\n",
        "            new_row.append(team)\n",
        "        schedule_grid.append(new_row)\n",
        "\n",
        "    return schedule_grid"
      ],
      "metadata": {
        "id": "wlG8swh1trsX"
      },
      "execution_count": 145,
      "outputs": []
    },
    {
      "cell_type": "markdown",
      "source": [
        "# Individual Schedule Functions "
      ],
      "metadata": {
        "id": "5n9ob-8odPkM"
      }
    },
    {
      "cell_type": "markdown",
      "source": [
        "This section contains the functions that extract individual team and room schedules from a schedule grid.\n",
        "\n",
        "Use get_team_list() and get_room_list() to generate a list of teams and a list of rooms from a schedule grid."
      ],
      "metadata": {
        "id": "wS0ljqoELnJq"
      }
    },
    {
      "cell_type": "code",
      "source": [
        "def get_team_list(schedule_grid):\n",
        "    team_list = sorted(schedule_grid[1][1:])\n",
        "    return team_list\n",
        "\n",
        "\n",
        "def get_room_list(schedule_grid):\n",
        "    # remove first element in header, which should be an empty string\n",
        "    header = schedule_grid[0][1:]\n",
        "    \n",
        "    # retrieve room list\n",
        "    room_list = [i for i in header]\n",
        "    if 'BYE' in header:\n",
        "        room_list[-1] = 'BYE'\n",
        "    return room_list"
      ],
      "metadata": {
        "id": "WPJyVdz1Ltml"
      },
      "execution_count": 146,
      "outputs": []
    },
    {
      "cell_type": "markdown",
      "source": [
        "For a given team in a given round, what team do they play and where? Use find_opponent().\n"
      ],
      "metadata": {
        "id": "a7OD0aUxL8W9"
      }
    },
    {
      "cell_type": "code",
      "source": [
        "def find_opponent(team, row, room_list, code_dict):\n",
        "    index = row.index(team)\n",
        "    room = room_list[index]\n",
        "    if row[-1] == team and room_list[-1] == 'BYE':\n",
        "        opponent = 'BYE'\n",
        "    elif index % 2 == 0:\n",
        "        opponent_code = row[index+1]\n",
        "        opponent = code_dict[opponent_code]\n",
        "    else:\n",
        "        opponent_code = row[index-1]\n",
        "        opponent = code_dict[opponent_code]\n",
        "    return room, opponent"
      ],
      "metadata": {
        "id": "KJH6zps2NyoC"
      },
      "execution_count": 147,
      "outputs": []
    },
    {
      "cell_type": "markdown",
      "source": [
        "what teams are in a room at a given round?"
      ],
      "metadata": {
        "id": "7UtVnnn7N2ei"
      }
    },
    {
      "cell_type": "code",
      "source": [
        "def find_teams(row, room, roomlist, code_dict):\n",
        "    index = roomlist.index(room)\n",
        "    teams = row[2*index:2*index+2]\n",
        "    teams = [*map(code_dict.get, teams)]\n",
        "    return sorted(teams)  # alphabetically sorts teams"
      ],
      "metadata": {
        "id": "BqybAya0N24c"
      },
      "execution_count": 148,
      "outputs": []
    },
    {
      "cell_type": "markdown",
      "source": [
        "The clean_up_grid function is sometimes used to remove the header row (room list) and the round number column on the left."
      ],
      "metadata": {
        "id": "uU0U0j32OBUN"
      }
    },
    {
      "cell_type": "code",
      "source": [
        "def clean_up_grid(schedule_grid):\n",
        "    no_header = schedule_grid[1:]\n",
        "    basic_schedule_grid = []\n",
        "    for index, row in enumerate(no_header):\n",
        "        basic_schedule_grid.append(row[1:])\n",
        "\n",
        "    return basic_schedule_grid"
      ],
      "metadata": {
        "id": "kBKx4V4WN98S"
      },
      "execution_count": 149,
      "outputs": []
    },
    {
      "cell_type": "markdown",
      "source": [
        "The specific_team_scheduler function is the key for generating a schedule grid for a single team."
      ],
      "metadata": {
        "id": "cNyCExgmOLlu"
      }
    },
    {
      "cell_type": "code",
      "source": [
        "def specific_team_scheduler(team, schedule_grid, room_list, code_dict,\n",
        "                            round_start=1):\n",
        "    \n",
        "    # generate room_list with duplicated values\n",
        "    # need this for finding an opponent at a particular index\n",
        "    dup_room_list = [room for room in room_list for _ in (0, 1)]\n",
        "\n",
        "    # how many rounds in the grid?\n",
        "    rounds = len(schedule_grid)\n",
        "\n",
        "    specific_grid = [['', 'Room Name', 'Opponent']]\n",
        "    for i in range(0, rounds):\n",
        "        room, opponent = find_opponent(team,\n",
        "                                       schedule_grid[i],\n",
        "                                       dup_room_list,\n",
        "                                       code_dict)\n",
        "\n",
        "        specific_grid.append([f'Round {round_start+i}', room, opponent])\n",
        "\n",
        "    return specific_grid"
      ],
      "metadata": {
        "id": "Ap0lkVL1OOKM"
      },
      "execution_count": 150,
      "outputs": []
    },
    {
      "cell_type": "markdown",
      "source": [
        "Like specific_team_scheduler(), specific_room_scheduler is the key for generating the schedule for an individual room."
      ],
      "metadata": {
        "id": "kD6q752_O-jC"
      }
    },
    {
      "cell_type": "code",
      "source": [
        "def specific_room_scheduler(room, schedule_grid, room_list,\n",
        "                            code_dict, round_start=1):\n",
        "\n",
        "    specific_grid = [['', 'Team 1', 'Team 2']]\n",
        "    for index, row in enumerate(basic_schedule_grid):\n",
        "        teams = find_teams(row, room, room_list, code_dict)\n",
        "        if room == 'BYE':\n",
        "            return 'BYE'\n",
        "        specific_grid.append([f'Round {round_start+index}',\n",
        "                              teams[0], teams[1]])\n",
        "\n",
        "    return specific_grid"
      ],
      "metadata": {
        "id": "xfuyEiYnPG1p"
      },
      "execution_count": 151,
      "outputs": []
    },
    {
      "cell_type": "markdown",
      "source": [
        "# Class Definitions for fpdf2"
      ],
      "metadata": {
        "id": "A5Qp8Ae2cA7Z"
      }
    },
    {
      "cell_type": "markdown",
      "source": [
        "There are five types of tables that Cornerstone will need to generate:\n",
        "*  the full schedule\n",
        "*  the individualized team schedule\n",
        "*  the individualized room schedule\n",
        "*  the team index (includes toggle for prelims/playoffs/superplayoffs)\n",
        "*  the playoff quickstart schedule (first playoff room for all teams)\n",
        "\n",
        "The last one will not be needed for the prelim writer, but will be necessary for playoffs (and superplayoffs if needed).\n",
        "\n",
        "For all of these tables, we will create a unique class via fpdf2 for writing the table onto a PDF. These five classes are at the bottom of this section. First, we will define a few templates used across the printed documents:\n",
        "\n",
        "*  the title page\n",
        "*  the header\n",
        "*  the footer\n"
      ],
      "metadata": {
        "id": "6_mFRVFAcFY9"
      }
    },
    {
      "cell_type": "markdown",
      "source": [
        "First is the title page to start each document. A nice touch, albeit not 100% necessary and may add a toggle for this later.\n",
        "\n",
        "Important: this is the first instance of the PDF class. Therefore, the argument is FPDF, while all other later class instances have PDF instead to build on the existing class."
      ],
      "metadata": {
        "id": "580yHo0SklgX"
      }
    },
    {
      "cell_type": "code",
      "source": [
        "class PDF(FPDF):\n",
        "\n",
        "    def title_page(self, tournament_name, tournament_location, tournament_date,\n",
        "                   document_title):\n",
        "                \n",
        "        # Setting font: bold times 11, black\n",
        "        self.set_text_color(0)\n",
        "\n",
        "        # move cursor 6.2 cm down the page\n",
        "        self.set_y(62)\n",
        "\n",
        "        # write the tournament name, location, and date\n",
        "        self.set_font(\"times\", size=16)\n",
        "        self.cell(0, None, tournament_name, align=\"C\",\n",
        "                  new_x=\"LEFT\", new_y=\"NEXT\")\n",
        "        self.ln(10)  # line break\n",
        "\n",
        "        self.set_font(\"times\", size=12)\n",
        "        self.cell(0, None, tournament_location, align=\"C\")\n",
        "        self.ln(10)  # line break\n",
        "        self.cell(0, None, tournament_date, align=\"C\")\n",
        "        self.ln(45)  # line break\n",
        "\n",
        "        self.set_font(\"times\", size=24)\n",
        "        self.cell(0, None, document_title, align=\"C\")"
      ],
      "metadata": {
        "id": "N2BgXfyLkzy7"
      },
      "execution_count": 152,
      "outputs": []
    },
    {
      "cell_type": "code",
      "source": [
        "class PDF(PDF):\n",
        "\n",
        "    def page_header(self, tournament_name, tournament_date):\n",
        "                \n",
        "        # Setting font: bold times 11\n",
        "        font_size = 11\n",
        "        self.set_font(\"times\", style=\"I\", size=font_size)\n",
        "\n",
        "        # Print tournament name in upper left:\n",
        "        self.cell(None, 2, tournament_name, new_x=\"LEFT\")\n",
        "\n",
        "        # Create empty cell with bottom border (can modify for centered text)\n",
        "        self.cell(0, None, \" \", \"B\", align=\"C\")\n",
        "\n",
        "        # Print tournament date in upper right\n",
        "        self.cell(0, 2, tournament_date, align=\"R\")\n",
        "\n",
        "        # Performing a line break:\n",
        "        self.ln(20)\n",
        "\n",
        "    def page_footer(self):\n",
        "        \n",
        "        # # putting in a logo:\n",
        "        # self.image(\"../docs/fpdf2-logo.png\", 10, 8, 33)\n",
        "        \n",
        "        # Position cursor at left and 26.04 cm from bottom:\n",
        "        # self.set_y(0, 260.4)\n",
        "        self.set_y(-27)\n",
        "\n",
        "        # Setting font: times italic 11\n",
        "        font_size = 11\n",
        "        self.set_text_color(0)\n",
        "        self.set_font(\"times\", style=\"I\", size=font_size)\n",
        "        \n",
        "        # Print footer text:\n",
        "        self.cell(0, 6, \"Created by Cornerstone.\", border=\"B\", align=\"R\")\n"
      ],
      "metadata": {
        "id": "m_slBLE2dOK0"
      },
      "execution_count": 175,
      "outputs": []
    },
    {
      "cell_type": "markdown",
      "source": [
        "## Full Schedule"
      ],
      "metadata": {
        "id": "T3jjXFPX1gTK"
      }
    },
    {
      "cell_type": "markdown",
      "source": [
        "This class generates the tables used for the full schedule."
      ],
      "metadata": {
        "id": "uX138nHO9JVN"
      }
    },
    {
      "cell_type": "code",
      "source": [
        "class PDF(PDF):\n",
        "\n",
        "    def full_schedule(self, header, rows,\n",
        "                      header_color=(135, 135, 135), row_color=(210, 210, 210)):\n",
        "\n",
        "      header_count = len(header)\n",
        "      if header[-1] == 'BYE':\n",
        "        cell_count = header_count * 2 - 2\n",
        "      else:\n",
        "        cell_count = header_count * 2 - 1\n",
        "      col_width = pdf.epw / cell_count  # distribute columns evenly\n",
        "\n",
        "      header_widths = [col_width * 2] * (header_count - 1)  # populate list with col widths\n",
        "      header_widths.insert(0, col_width)\n",
        "      if header[-1] == 'BYE':\n",
        "        header_widths[-1] = col_width\n",
        "\n",
        "      cell_widths = [col_width] * cell_count\n",
        "\n",
        "      self.set_fill_color(*header_color)  # * required to unpack tuple\n",
        "      self.set_text_color(255)\n",
        "      self.set_draw_color(36, 36, 36)\n",
        "      self.set_line_width(0.3)\n",
        "      self.set_font(style=\"B\", size=14)\n",
        "      for col_width, heading in zip(header_widths, header):\n",
        "          self.cell(col_width, 8, heading, border=1, align=\"C\", fill=True)\n",
        "      self.ln()\n",
        "\n",
        "      # Color and font restoration:\n",
        "      self.set_fill_color(*row_color)  # * required to unpack tuple\n",
        "      self.set_text_color(0)\n",
        "      self.set_font_size(12)\n",
        "      fill = False\n",
        "      for row in rows:\n",
        "        for index, item in enumerate(row):          \n",
        "          if index == 0:\n",
        "            self.set_font(style=\"B\")\n",
        "          else:\n",
        "            self.set_font()\n",
        "          self.cell(cell_widths[index],\n",
        "                    7,\n",
        "                    item,\n",
        "                    border=\"LR\",\n",
        "                    align=\"C\",\n",
        "                    fill=fill)\n",
        "        self.ln()\n",
        "        fill = not fill\n",
        "\n",
        "      self.set_fill_color(*header_color)  # * required to unpack tuple\n",
        "      self.set_text_color(255)\n",
        "      self.set_draw_color(36, 36, 36)\n",
        "      self.set_line_width(0.3)\n",
        "      self.set_font(style=\"B\", size=14)\n",
        "      for col_width, heading in zip(header_widths, header):\n",
        "          self.cell(col_width, 8, heading, border=1, align=\"C\", fill=True)\n",
        "\n",
        "      self.ln(14)"
      ],
      "metadata": {
        "id": "2sXgrSqj4QQz"
      },
      "execution_count": 154,
      "outputs": []
    },
    {
      "cell_type": "markdown",
      "source": [
        "## Individual Team/Room Schedule"
      ],
      "metadata": {
        "id": "Lsvgg3XgLlT9"
      }
    },
    {
      "cell_type": "markdown",
      "source": [
        "This class is used to generate the tables for individual team and room schedules, which are nearly identical except the room schedules will have a confirmation box for team scores and signatures."
      ],
      "metadata": {
        "id": "wvG1_G3o8wDb"
      }
    },
    {
      "cell_type": "code",
      "source": [
        "class PDF(PDF):\n",
        "\n",
        "    def individual_schedule(self, header, rows, signature=False,\n",
        "                      header_color=(135, 135, 135), row_color=(210, 210, 210)):\n",
        "\n",
        "      # start table at 15.45, draw cells 33 + 66 + 66 for each column\n",
        "      # right margin will also be 15.45\n",
        "\n",
        "      self.set_x(25.45)\n",
        "      cell_widths = [33, 66, 66]\n",
        "\n",
        "      self.set_fill_color(*header_color)  # * required to unpack tuple\n",
        "      self.set_text_color(255)\n",
        "      self.set_draw_color(36, 36, 36)\n",
        "      self.set_line_width(0.3)\n",
        "      self.set_font(style=\"B\", size=14)\n",
        "      for cell_width, heading in zip(cell_widths, header):\n",
        "          self.cell(cell_width, 8, heading, border=1, align=\"C\", fill=True)\n",
        "      self.ln()\n",
        "      self.set_x(25.45)\n",
        "\n",
        "      # Color and font restoration:\n",
        "      self.set_fill_color(*row_color)  # * required to unpack tuple\n",
        "      self.set_text_color(0)\n",
        "      self.set_font()\n",
        "      fill = False\n",
        "      if len(rows) >= 12:\n",
        "        font_size = 10\n",
        "        row_height = 6\n",
        "      else:\n",
        "        font_size = 12\n",
        "        row_height = 7\n",
        "      for row in rows:\n",
        "        for index, item in enumerate(row):          \n",
        "          if index == 0:\n",
        "            self.set_font(style=\"B\", size=font_size)\n",
        "          else:\n",
        "            self.set_font(size=font_size)\n",
        "          self.cell(cell_widths[index],\n",
        "                    row_height,\n",
        "                    item,\n",
        "                    border=\"LR\",\n",
        "                    align=\"C\",\n",
        "                    fill=fill)\n",
        "        fill = not fill  # I am pretty sure this is what alternates row colors!\n",
        "\n",
        "        self.ln()\n",
        "        self.set_x(25.45)\n",
        "\n",
        "        # RFE add row for team score + signature confirmation\n",
        "        if signature == True:\n",
        "          pass\n",
        "\n",
        "      self.set_fill_color(*header_color)  # * required to unpack tuple\n",
        "      self.set_text_color(255)\n",
        "      self.set_draw_color(36, 36, 36)\n",
        "      self.set_line_width(0.3)\n",
        "      self.set_font(style=\"B\", size=14)\n",
        "      for cell_width, heading in zip(cell_widths, header):\n",
        "          self.cell(cell_width, 8, heading, border=1, align=\"C\", fill=True)\n",
        "\n",
        "      self.ln(14)"
      ],
      "metadata": {
        "id": "HEELLKhcL8_O"
      },
      "execution_count": 155,
      "outputs": []
    },
    {
      "cell_type": "markdown",
      "source": [
        "## Team Index\n",
        "\n",
        "This class is for making the tables for the team index documents."
      ],
      "metadata": {
        "id": "ptuF5eUpelc4"
      }
    },
    {
      "cell_type": "markdown",
      "source": [
        "# Prelim Scheduler\n",
        "\n",
        "This section reads the list of prelim teams and information from the tournament format dictionary to produce a set of prelim schedules."
      ],
      "metadata": {
        "id": "K4OmpZngcsFP"
      }
    },
    {
      "cell_type": "markdown",
      "source": [
        "**This is the start of the prelim scheduling section.  Every block starts with %%skip $should_skip and should_skip is set to True if we are running a playoff or superplayoffs input file.**"
      ],
      "metadata": {
        "id": "c3bGRbS_Y_hC"
      }
    },
    {
      "cell_type": "code",
      "source": [
        "file_upload = files.upload()\n",
        "\n",
        "%load_ext skip_kernel_extension\n",
        "\n",
        "if tournament_phase != 'prelims':\n",
        "  should_skip = True\n",
        "else:\n",
        "  should_skip = False"
      ],
      "metadata": {
        "colab": {
          "base_uri": "https://localhost:8080/",
          "height": 108
        },
        "id": "aIu0_T55ZaSo",
        "outputId": "b0c4ea21-b7cf-4577-fc36-298a29f7aca9"
      },
      "execution_count": 156,
      "outputs": [
        {
          "output_type": "display_data",
          "data": {
            "text/plain": [
              "<IPython.core.display.HTML object>"
            ],
            "text/html": [
              "\n",
              "     <input type=\"file\" id=\"files-cb8d3ff3-a2ba-4b5c-8f6a-37118112738b\" name=\"files[]\" multiple disabled\n",
              "        style=\"border:none\" />\n",
              "     <output id=\"result-cb8d3ff3-a2ba-4b5c-8f6a-37118112738b\">\n",
              "      Upload widget is only available when the cell has been executed in the\n",
              "      current browser session. Please rerun this cell to enable.\n",
              "      </output>\n",
              "      <script>// Copyright 2017 Google LLC\n",
              "//\n",
              "// Licensed under the Apache License, Version 2.0 (the \"License\");\n",
              "// you may not use this file except in compliance with the License.\n",
              "// You may obtain a copy of the License at\n",
              "//\n",
              "//      http://www.apache.org/licenses/LICENSE-2.0\n",
              "//\n",
              "// Unless required by applicable law or agreed to in writing, software\n",
              "// distributed under the License is distributed on an \"AS IS\" BASIS,\n",
              "// WITHOUT WARRANTIES OR CONDITIONS OF ANY KIND, either express or implied.\n",
              "// See the License for the specific language governing permissions and\n",
              "// limitations under the License.\n",
              "\n",
              "/**\n",
              " * @fileoverview Helpers for google.colab Python module.\n",
              " */\n",
              "(function(scope) {\n",
              "function span(text, styleAttributes = {}) {\n",
              "  const element = document.createElement('span');\n",
              "  element.textContent = text;\n",
              "  for (const key of Object.keys(styleAttributes)) {\n",
              "    element.style[key] = styleAttributes[key];\n",
              "  }\n",
              "  return element;\n",
              "}\n",
              "\n",
              "// Max number of bytes which will be uploaded at a time.\n",
              "const MAX_PAYLOAD_SIZE = 100 * 1024;\n",
              "\n",
              "function _uploadFiles(inputId, outputId) {\n",
              "  const steps = uploadFilesStep(inputId, outputId);\n",
              "  const outputElement = document.getElementById(outputId);\n",
              "  // Cache steps on the outputElement to make it available for the next call\n",
              "  // to uploadFilesContinue from Python.\n",
              "  outputElement.steps = steps;\n",
              "\n",
              "  return _uploadFilesContinue(outputId);\n",
              "}\n",
              "\n",
              "// This is roughly an async generator (not supported in the browser yet),\n",
              "// where there are multiple asynchronous steps and the Python side is going\n",
              "// to poll for completion of each step.\n",
              "// This uses a Promise to block the python side on completion of each step,\n",
              "// then passes the result of the previous step as the input to the next step.\n",
              "function _uploadFilesContinue(outputId) {\n",
              "  const outputElement = document.getElementById(outputId);\n",
              "  const steps = outputElement.steps;\n",
              "\n",
              "  const next = steps.next(outputElement.lastPromiseValue);\n",
              "  return Promise.resolve(next.value.promise).then((value) => {\n",
              "    // Cache the last promise value to make it available to the next\n",
              "    // step of the generator.\n",
              "    outputElement.lastPromiseValue = value;\n",
              "    return next.value.response;\n",
              "  });\n",
              "}\n",
              "\n",
              "/**\n",
              " * Generator function which is called between each async step of the upload\n",
              " * process.\n",
              " * @param {string} inputId Element ID of the input file picker element.\n",
              " * @param {string} outputId Element ID of the output display.\n",
              " * @return {!Iterable<!Object>} Iterable of next steps.\n",
              " */\n",
              "function* uploadFilesStep(inputId, outputId) {\n",
              "  const inputElement = document.getElementById(inputId);\n",
              "  inputElement.disabled = false;\n",
              "\n",
              "  const outputElement = document.getElementById(outputId);\n",
              "  outputElement.innerHTML = '';\n",
              "\n",
              "  const pickedPromise = new Promise((resolve) => {\n",
              "    inputElement.addEventListener('change', (e) => {\n",
              "      resolve(e.target.files);\n",
              "    });\n",
              "  });\n",
              "\n",
              "  const cancel = document.createElement('button');\n",
              "  inputElement.parentElement.appendChild(cancel);\n",
              "  cancel.textContent = 'Cancel upload';\n",
              "  const cancelPromise = new Promise((resolve) => {\n",
              "    cancel.onclick = () => {\n",
              "      resolve(null);\n",
              "    };\n",
              "  });\n",
              "\n",
              "  // Wait for the user to pick the files.\n",
              "  const files = yield {\n",
              "    promise: Promise.race([pickedPromise, cancelPromise]),\n",
              "    response: {\n",
              "      action: 'starting',\n",
              "    }\n",
              "  };\n",
              "\n",
              "  cancel.remove();\n",
              "\n",
              "  // Disable the input element since further picks are not allowed.\n",
              "  inputElement.disabled = true;\n",
              "\n",
              "  if (!files) {\n",
              "    return {\n",
              "      response: {\n",
              "        action: 'complete',\n",
              "      }\n",
              "    };\n",
              "  }\n",
              "\n",
              "  for (const file of files) {\n",
              "    const li = document.createElement('li');\n",
              "    li.append(span(file.name, {fontWeight: 'bold'}));\n",
              "    li.append(span(\n",
              "        `(${file.type || 'n/a'}) - ${file.size} bytes, ` +\n",
              "        `last modified: ${\n",
              "            file.lastModifiedDate ? file.lastModifiedDate.toLocaleDateString() :\n",
              "                                    'n/a'} - `));\n",
              "    const percent = span('0% done');\n",
              "    li.appendChild(percent);\n",
              "\n",
              "    outputElement.appendChild(li);\n",
              "\n",
              "    const fileDataPromise = new Promise((resolve) => {\n",
              "      const reader = new FileReader();\n",
              "      reader.onload = (e) => {\n",
              "        resolve(e.target.result);\n",
              "      };\n",
              "      reader.readAsArrayBuffer(file);\n",
              "    });\n",
              "    // Wait for the data to be ready.\n",
              "    let fileData = yield {\n",
              "      promise: fileDataPromise,\n",
              "      response: {\n",
              "        action: 'continue',\n",
              "      }\n",
              "    };\n",
              "\n",
              "    // Use a chunked sending to avoid message size limits. See b/62115660.\n",
              "    let position = 0;\n",
              "    do {\n",
              "      const length = Math.min(fileData.byteLength - position, MAX_PAYLOAD_SIZE);\n",
              "      const chunk = new Uint8Array(fileData, position, length);\n",
              "      position += length;\n",
              "\n",
              "      const base64 = btoa(String.fromCharCode.apply(null, chunk));\n",
              "      yield {\n",
              "        response: {\n",
              "          action: 'append',\n",
              "          file: file.name,\n",
              "          data: base64,\n",
              "        },\n",
              "      };\n",
              "\n",
              "      let percentDone = fileData.byteLength === 0 ?\n",
              "          100 :\n",
              "          Math.round((position / fileData.byteLength) * 100);\n",
              "      percent.textContent = `${percentDone}% done`;\n",
              "\n",
              "    } while (position < fileData.byteLength);\n",
              "  }\n",
              "\n",
              "  // All done.\n",
              "  yield {\n",
              "    response: {\n",
              "      action: 'complete',\n",
              "    }\n",
              "  };\n",
              "}\n",
              "\n",
              "scope.google = scope.google || {};\n",
              "scope.google.colab = scope.google.colab || {};\n",
              "scope.google.colab._files = {\n",
              "  _uploadFiles,\n",
              "  _uploadFilesContinue,\n",
              "};\n",
              "})(self);\n",
              "</script> "
            ]
          },
          "metadata": {}
        },
        {
          "output_type": "stream",
          "name": "stdout",
          "text": [
            "Saving skip_kernel_extension.py to skip_kernel_extension (7).py\n",
            "The skip_kernel_extension extension is already loaded. To reload it, use:\n",
            "  %reload_ext skip_kernel_extension\n"
          ]
        }
      ]
    },
    {
      "cell_type": "markdown",
      "source": [
        "A series of lists and dictionaries are created here, which will be useful at various points throughout the program:\n",
        "* prelim_group_names: a list of prelim group names\n",
        "* prelim_team_dict: a dictionary where every prelim group and seed is matched up with a group name + seed\n",
        "* prelim_teamcode_dict: identical, but a teamcode instead of a full team name\n",
        "* team_group_dict: same as prelim_team_dict, but the key/value pairs are swapped\n",
        "* teamcode_group_dict: again, identical but with a teamcode instead of full team name\n",
        "* prelim_room_dict: matches a prelim group and room assignment (e.g. group 2, room 3) with an actual room name"
      ],
      "metadata": {
        "id": "Is1C6X6cAbNi"
      }
    },
    {
      "cell_type": "code",
      "source": [
        "%%skip $should_skip\n",
        "\n",
        "prelim_group_names = [sublist[1] for sublist in list_of_teams]\n",
        "prelim_group_names = remove_duplicates(prelim_group_names)\n",
        "\n",
        "# key is a prelim group name and a seed (i.e. Belmopan6)\n",
        "# value is the corresponding team (i.e. Great Valley A for Belmopan6)\n",
        "# also created a dictionary where values are team codes (i.e. GVA)\n",
        "prelim_team_dict = {}\n",
        "prelim_teamcode_dict = {}\n",
        "team_group_dict = {}\n",
        "teamcode_group_dict = {}\n",
        "for i in list_of_teams:\n",
        "    # key = i[2] + str(i[3])\n",
        "    key = i[1] + str(i[2])\n",
        "    value = i[0]  # team name\n",
        "    prelim_team_dict[key] = value\n",
        "    # also created dictionary where k/v pairs are swapped\n",
        "    team_group_dict[value] = key\n",
        "    # value = i[1]  # team code\n",
        "    value = team_code_dict[value]\n",
        "    prelim_teamcode_dict[key] = value\n",
        "    # also created dictionary where k/v pairs are swapped\n",
        "    teamcode_group_dict[value] = key\n",
        "\n",
        "# key is prelim group and a number (i.e. Accra1)\n",
        "# value is corresponding room (i.e. Grand Ballroom A is Accra1)\n",
        "# also created dictionary where key is a playoff bracket instead\n",
        "prelim_room_dict = {}\n",
        "for i in room_assignments:\n",
        "    key = i[1] + str(i[2])\n",
        "    value = i[0]\n",
        "    prelim_room_dict[key] = value"
      ],
      "metadata": {
        "id": "yqDIBPxpAXbJ"
      },
      "execution_count": 157,
      "outputs": []
    },
    {
      "cell_type": "code",
      "source": [
        "%%skip $should_skip\n",
        "\n",
        "full_schedule_grid = []\n",
        "\n",
        "# playoffs input doesn't have multiple_rr or is set to non-integer...\n",
        "# set multiple_rr = 1\n",
        "try:\n",
        "  multiple_rr = format_dict['repeat round robin']\n",
        "except KeyError:\n",
        "  multiple_rr=1\n",
        "if not isinstance(multiple_rr, int):\n",
        "  multiple_rr = 1\n",
        "\n",
        "# perform this process for each prelim group, add to full_schedule_grid\n",
        "for group_name in prelim_group_names:\n",
        "  schedule_grid = (standard_schedule(group_name,\n",
        "                                     prelim_teamcode_dict,\n",
        "                                     prelim_room_dict,\n",
        "                                     multiple_rr=multiple_rr))\n",
        "  full_schedule_grid.append(schedule_grid)\n",
        "\n",
        "# # for visual debugging\n",
        "# for index, prelim_group in enumerate(prelim_group_names):\n",
        "#     print(f'\\nPrelim Group: {prelim_group}')\n",
        "#     print(*full_schedule_grid[index], sep='\\n')"
      ],
      "metadata": {
        "id": "9Q-DolBuAaJZ"
      },
      "execution_count": 158,
      "outputs": []
    },
    {
      "cell_type": "markdown",
      "source": [
        "# Playoff Scheduler\n",
        "\n",
        "This section ranks teams by prelim group finish, then PPB. The list is then provided to the playoff scheduler."
      ],
      "metadata": {
        "id": "_YfbhDePdJTn"
      }
    },
    {
      "cell_type": "markdown",
      "source": [
        "**This is the start of the playoff scheduling section. Every block will run %%skip $should_skip if the tournament phase is set to prelims or playoffs.**"
      ],
      "metadata": {
        "id": "eYceE5HBeJ5T"
      }
    },
    {
      "cell_type": "code",
      "source": [
        "if tournament_phase != 'playoffs':\n",
        "  should_skip = True\n",
        "else:\n",
        "  should_skip = False"
      ],
      "metadata": {
        "id": "Rda5QW4IeUpu"
      },
      "execution_count": 159,
      "outputs": []
    },
    {
      "cell_type": "markdown",
      "source": [
        "Once again, a series of dictionaries is used to label each team with the following information:\n",
        "* prelim group placement\n",
        "* prelim PPB\n",
        "\n",
        "The reverse dictionary of the first one is also created, named placement_team.\n",
        "^ is this actually needed?\n"
      ],
      "metadata": {
        "id": "mH2YRcOXhqMR"
      }
    },
    {
      "cell_type": "code",
      "source": [
        "%%skip $should_skip\n",
        "\n",
        "team_placement = {rows[0]: (rows[1], str(rows[2])) for rows in list_of_teams}\n",
        "team_ppb = {rows[0]: (rows[3]) for rows in list_of_teams}\n",
        "\n",
        "# is this actually needed?\n",
        "# placement_team = {(rows[1] + str(rows[2])): rows[0] for rows in list_of_teams}"
      ],
      "metadata": {
        "id": "JFuSjMq0hYhJ"
      },
      "execution_count": 160,
      "outputs": []
    },
    {
      "cell_type": "code",
      "source": [
        "%%skip $should_skip\n",
        "\n",
        "advance_count = format_dict['the number of teams that advance to each bracket'\n",
        "                            + ' (e.g. top 2 or top 3)']\n",
        "\n",
        "crossover = format_dict['crossover']\n",
        "\n",
        "# sort list by index 1 descending (finish), then index 2 ascending (PPB)\n",
        "sorted_list = sorted(list_of_teams, key=lambda x: (x[2], -x[3], -x[4]))\n",
        "if crossover != 'N':\n",
        "    # ignore PPB if using crossover schedule\n",
        "    # TODO I don't know if this is best method but it works for now\n",
        "    sorted_list = sorted(list_of_teams, key=lambda x: (x[2]))\n",
        "\n",
        "# # %% for visual debugging\n",
        "# print('*** sorted_list ***\\n')\n",
        "# print(*sorted_list, sep='\\n')\n",
        "# if len(sorted_list) > 20:\n",
        "#   print('continued...')"
      ],
      "metadata": {
        "id": "D43m6UGxiIiK"
      },
      "execution_count": 161,
      "outputs": []
    },
    {
      "cell_type": "markdown",
      "source": [
        "Reorganize sorted_list according to the playoff schedule codes 1 and 2:\n",
        "* Code 1 is for reordering the list of teams according to the playoff format (most of the time, it will be in order from 1 through N).\n",
        "* Code 2 is for splitting the list of teams into different brackets (most of the time, it will be the same number repeated, but occasionally it will be different numbers if not all brackets have the same size)."
      ],
      "metadata": {
        "id": "pQr8QtKkqDNq"
      }
    },
    {
      "cell_type": "code",
      "source": [
        "%%skip $should_skip\n",
        "\n",
        "schedule_code_1 = format_dict['playoff schedule code 1']\n",
        "sorted_list = code_1_scheduler(sorted_list, schedule_code_1)\n",
        "\n",
        "schedule_code_2 = format_dict['playoff schedule code 2']\n",
        "sorted_list = code_2_scheduler(sorted_list, schedule_code_2)"
      ],
      "metadata": {
        "id": "mhFhOqxFp4KJ"
      },
      "execution_count": 162,
      "outputs": []
    },
    {
      "cell_type": "markdown",
      "source": [
        "Some tournament format information needed.\n",
        "* How many rounds of prelims were there (and what number is the first round of playoffs)?\n",
        "* Is this a crossover format?\n",
        "\n",
        "We'll also create a series of dictionaries pertaining to playoff team seeding."
      ],
      "metadata": {
        "id": "RvVNorn0yU0n"
      }
    },
    {
      "cell_type": "code",
      "source": [
        "%%skip $should_skip\n",
        "\n",
        "prelim_round_count = format_dict['number of prelim rounds '\n",
        "                                 + '(do not include tiebreakers)']\n",
        "\n",
        "crossover = format_dict['crossover']\n",
        "if crossover == 'N':\n",
        "  crossover = False\n",
        "\n",
        "# %% generate playoff seed / team dictionary\n",
        "\n",
        "# key is a playoff bracket name and a seed (i.e. Berg6)\n",
        "# value is the corresponding team (i.e. Great Valley A for Berg6)\n",
        "# also created a dictionary where the two values are team codes (i.e. GVA)\n",
        "playoff_team_dict = {}\n",
        "playoff_teamcode_dict = {}\n",
        "teamcode_playoff_dict = {}\n",
        "\n",
        "for index, bracket_name in enumerate(playoff_bracket_names):\n",
        "\n",
        "  # # visual debugging\n",
        "  # print(f'\\n\\nbracket_name = {bracket_name}')\n",
        "\n",
        "  for index2, team in enumerate(sorted_list[index]):\n",
        "\n",
        "    key = bracket_name + str(index2+1)\n",
        "    value = team[0]\n",
        "    playoff_team_dict[key] = value\n",
        "\n",
        "    # # visual debugging\n",
        "    # print(f'team = {team}')\n",
        "    # print(f'key = {key} \\nvalue = {value}\\n')\n",
        "\n",
        "    value = team_code_dict[value]\n",
        "    playoff_teamcode_dict[key] = value\n",
        "\n",
        "    # creating a dictionary where k:v pairs are flipped\n",
        "    teamcode_playoff_dict[value] = key"
      ],
      "metadata": {
        "id": "WCckm3FEyTEf"
      },
      "execution_count": 163,
      "outputs": []
    },
    {
      "cell_type": "markdown",
      "source": [
        "Finally, the creation of the full schedule grid."
      ],
      "metadata": {
        "id": "o6jwf2sqz4XB"
      }
    },
    {
      "cell_type": "code",
      "source": [
        "%%skip $should_skip\n",
        "\n",
        "# %% create full schedule grid + first playoff room dict\n",
        "\n",
        "full_schedule_grid = []\n",
        "first_playoff_rooms = {}\n",
        "\n",
        "# perform this process for each prelim group, add to full_schedule_grid\n",
        "for bracket_name in playoff_bracket_names:\n",
        "\n",
        "  # this schedule grid will contain all match information split up by line\n",
        "  schedule_grid = (standard_schedule(bracket_name,\n",
        "                                     playoff_teamcode_dict,\n",
        "                                     playoff_room_dict,\n",
        "                                     crossover=crossover,\n",
        "                                     roundstart=prelim_round_count+1))\n",
        "\n",
        "  full_schedule_grid.append(schedule_grid)\n",
        "\n",
        "  # produce roomlist + bye if needed\n",
        "  roomlist = [k for k, v in list(playoff_room_dict.items())\n",
        "              if k.startswith(bracket_name)]\n",
        "  roomlist = [playoff_room_dict[i] for i in roomlist]\n",
        "\n",
        "  if schedule_grid[0][-1] == 'BYE':\n",
        "    roomlist.append('BYE')\n",
        "\n",
        "  # populate first_playoff_rooms dict\n",
        "  first_row = schedule_grid[1]\n",
        "  for index, team in enumerate(first_row[1:]):\n",
        "    room_index = int(index//2)\n",
        "    first_room = roomlist[room_index]\n",
        "    first_playoff_rooms[team] = first_room\n",
        "\n",
        "# # prints output for visual debugging\n",
        "# for index, playoff_bracket in enumerate(playoff_bracket_names):\n",
        "#     print(f'\\nPlayoff Bracket: {playoff_bracket}')\n",
        "#     # visual_debugger(full_schedule_grid[index])\n"
      ],
      "metadata": {
        "id": "F3MOT6_cz7wy"
      },
      "execution_count": 164,
      "outputs": []
    },
    {
      "cell_type": "markdown",
      "source": [
        "# Superplayoff Scheduler"
      ],
      "metadata": {
        "id": "Qb5McvXKdPxF"
      }
    },
    {
      "cell_type": "markdown",
      "source": [
        "# PDF Writer"
      ],
      "metadata": {
        "id": "-G75IfqqdJTn"
      }
    },
    {
      "cell_type": "markdown",
      "source": [
        "The list of group names needs to be defined prior to writing the PDF files."
      ],
      "metadata": {
        "id": "SqtzUYIm5QTe"
      }
    },
    {
      "cell_type": "code",
      "source": [
        "phase_capitalized = tournament_phase.capitalize()\n",
        "if tournament_phase == 'prelims':\n",
        "  groups = prelim_group_names\n",
        "elif tournament_phase == 'playoffs':\n",
        "  groups = playoff_bracket_names\n",
        "elif tournament_phase == 'superplayoffs':\n",
        "  pass"
      ],
      "metadata": {
        "id": "I8PrwzXb5WlQ"
      },
      "execution_count": 165,
      "outputs": []
    },
    {
      "cell_type": "markdown",
      "source": [
        "First to generate: full schedule for all teams, all rooms."
      ],
      "metadata": {
        "id": "dpuJ3YH8Px9l"
      }
    },
    {
      "cell_type": "code",
      "source": [
        "pdf = PDF(format=\"letter\")  # default is A4, need to specify US letter\n",
        "\n",
        "# title page\n",
        "pdf.add_page()\n",
        "\n",
        "doc_title = f\"{phase_capitalized} - Complete Schedule\"\n",
        "pdf.title_page(format_dict['tournament name'],\n",
        "               format_dict['tournament location'],\n",
        "               format_dict['tournament date'],\n",
        "               doc_title)\n",
        "\n",
        "# full schedule page\n",
        "pdf.add_page()\n",
        "\n",
        "pdf.page_header(format_dict['tournament name'],\n",
        "                format_dict['tournament date'])\n",
        "\n",
        "for index, grid in enumerate(full_schedule_grid):\n",
        "  \n",
        "  # write group name above grid\n",
        "  group = groups[index]\n",
        "  pdf.set_text_color(0)\n",
        "  pdf.set_font(style='I', size=16)\n",
        "  pdf.cell(w=0, h=None, txt=f'Group - {group}',\n",
        "            align=\"L\", new_x=\"LEFT\", new_y=\"NEXT\")\n",
        "  pdf.ln(5)\n",
        "\n",
        "  # print grid\n",
        "  header = grid[0]\n",
        "  schedule = grid[1:]\n",
        "  pdf.full_schedule(header, schedule)\n",
        "  \n",
        "  # line break spacer\n",
        "  pdf.ln(10)\n",
        "\n",
        "pdf.page_footer()\n",
        "\n",
        "pdf.output(f\"full_{tournament_phase}_schedule.pdf\")\n",
        "pdf_bytes = pdf.output()\n",
        "full_schedule = b64encode(pdf_bytes).decode(\"utf-8\")"
      ],
      "metadata": {
        "id": "wqJPg3lP4pq8"
      },
      "execution_count": 166,
      "outputs": []
    },
    {
      "cell_type": "markdown",
      "source": [
        "Next, we'll generate the individualized team schedules."
      ],
      "metadata": {
        "id": "Xpwa3vsEQC4E"
      }
    },
    {
      "cell_type": "code",
      "source": [
        "pdf = PDF(format=\"letter\")  # default is A4, need to specify US letter\n",
        "\n",
        "# title page\n",
        "pdf.add_page()\n",
        "\n",
        "doc_title = f\"{phase_capitalized} - Individual Team Schedules\"\n",
        "pdf.title_page(format_dict['tournament name'],\n",
        "               format_dict['tournament location'],\n",
        "               format_dict['tournament date'],\n",
        "               doc_title)\n",
        "\n",
        "# sort list of teams alphabetically, so documents easier to distribute\n",
        "list_of_teams = sorted(list_of_teams, key=lambda x: (x[0]))\n",
        "\n",
        "for team in list_of_teams:\n",
        "\n",
        "  # iterate through schedule grids. Is the team in that grid?\n",
        "  for index, schedule_grid in enumerate(full_schedule_grid):\n",
        "\n",
        "    team_name = team[0]  # full team name \n",
        "    team_code = team_code_dict[team_name]  # 3-letter team code\n",
        "    team_list = get_team_list(schedule_grid)  # list of teams in grid\n",
        "\n",
        "    if team_code in team_list:\n",
        "      group = groups[index]  # group name\n",
        "      room_list = get_room_list(schedule_grid)\n",
        "      basic_schedule_grid = clean_up_grid(schedule_grid)\n",
        "      \n",
        "      # create page and add header\n",
        "      pdf.add_page()\n",
        "      pdf.page_header(format_dict['tournament name'],\n",
        "                      format_dict['tournament date'])\n",
        "      \n",
        "      # add team name, a line break, and group name\n",
        "      pdf.set_font(\"times\", size=24)\n",
        "      pdf.cell(w=0, h=None, txt=f'{tournament_phase.capitalize()} Schedule: {team_name}',\n",
        "                align=\"C\", new_x=\"LEFT\", new_y=\"NEXT\")\n",
        "      \n",
        "      if single_prelim_group == True:   \n",
        "        pdf.ln(15)\n",
        "      if single_prelim_group == False:   \n",
        "        pdf.ln(5)\n",
        "        pdf.set_font(\"times\", size=17)\n",
        "        pdf.cell(w=0, h=None, txt=f'Group: {group}',\n",
        "                  align=\"C\", new_x=\"LEFT\", new_y=\"NEXT\")\n",
        "        pdf.ln(10)\n",
        "\n",
        "      grid = specific_team_scheduler(team_code,\n",
        "                                     basic_schedule_grid,\n",
        "                                     room_list,\n",
        "                                     code_team_dict)\n",
        "\n",
        "      header = grid[0]\n",
        "      schedule = grid[1:]\n",
        "      pdf.individual_schedule(header, schedule)\n",
        "\n",
        "      if text_toggle is True:\n",
        "\n",
        "        # todo: figure out latin-1 encoding issue\n",
        "        text = texts[0]\n",
        "        text = text.encode('latin-1', 'ignore').decode('latin-1')\n",
        "\n",
        "        pdf.set_x(25.45)\n",
        "        font_size = 14\n",
        "        pdf.set_font(\"times\", size=font_size)\n",
        "        pdf.set_text_color(0)\n",
        "        pdf.multi_cell(165, 6, text, new_x=\"LMARGIN\")\n",
        "\n",
        "      if qr_toggle is True:\n",
        "          qr_codes_1 = qr_codes[0:3]\n",
        "          qr_captions_1 = qr_captions[0:3]\n",
        "\n",
        "          qr_positions = [35, 93, 151]\n",
        "          for index, qr_code in enumerate(qr_codes_1):\n",
        "            img = qrcode.make(qr_code)\n",
        "            x_pos = qr_positions[index]\n",
        "            pdf.image(img.get_image(), x=x_pos, y=210, w=30, h=30)\n",
        "\n",
        "          for index, qr_caption in enumerate(qr_captions_1):\n",
        "            x_pos = qr_positions[index] - 5\n",
        "            pdf.set_xy(x_pos, 241)\n",
        "            pdf.cell(w=40, h=None, txt=qr_caption,\n",
        "                     align=\"C\")\n",
        "\n",
        "      pdf.page_footer()\n",
        "\n",
        "      break  # saves time by ending search for team name in other schedule grids\n",
        "\n",
        "pdf.output(f\"{tournament_phase}_individual_team_schedules.pdf\")\n",
        "pdf_bytes = pdf.output()\n",
        "individual_team_schedules = b64encode(pdf_bytes).decode(\"utf-8\")"
      ],
      "metadata": {
        "id": "k_zGqv3NQDPU"
      },
      "execution_count": 167,
      "outputs": []
    },
    {
      "cell_type": "markdown",
      "source": [
        "We'll do the same individual schedules, but for rooms instead of teams."
      ],
      "metadata": {
        "id": "aFFPYMqzMhCC"
      }
    },
    {
      "cell_type": "code",
      "source": [
        "pdf = PDF(format=\"letter\")  # default is A4, need to specify US letter\n",
        "\n",
        "# title page\n",
        "pdf.add_page()\n",
        "\n",
        "doc_title = f\"{phase_capitalized} - Individual Room Schedules\"\n",
        "pdf.title_page(format_dict['tournament name'],\n",
        "               format_dict['tournament location'],\n",
        "               format_dict['tournament date'],\n",
        "               doc_title)\n",
        "\n",
        "for index, schedule_grid in enumerate(full_schedule_grid):\n",
        "\n",
        "  group = groups[index]\n",
        "  room_list = get_room_list(schedule_grid)\n",
        "  basic_schedule_grid = clean_up_grid(schedule_grid)\n",
        "\n",
        "  # iterate for each room in room_list\n",
        "  for room in room_list:\n",
        "    if room == 'BYE':\n",
        "      continue\n",
        "  \n",
        "    # create page and add header\n",
        "    pdf.add_page()\n",
        "    pdf.page_header(format_dict['tournament name'],\n",
        "                    format_dict['tournament date'])\n",
        "\n",
        "    # add team name, a line break, and prelim group name\n",
        "    pdf.set_font(\"times\", size=24)\n",
        "    \n",
        "    pdf.cell(w=0, h=None, txt=f'{tournament_phase.capitalize()} Schedule: {room}',\n",
        "              align=\"C\", new_x=\"LEFT\", new_y=\"NEXT\")\n",
        "\n",
        "    # skip the prelim group name if only one prelim group\n",
        "    if single_prelim_group == True:   \n",
        "      pdf.ln(15)\n",
        "    if single_prelim_group == False:   \n",
        "      pdf.ln(5)\n",
        "      pdf.set_font(\"times\", size=17)\n",
        "      pdf.cell(w=0, h=None, txt=f'Group: {group}',\n",
        "                align=\"C\", new_x=\"LEFT\", new_y=\"NEXT\")\n",
        "      pdf.ln(10)\n",
        "\n",
        "    grid = specific_room_scheduler(room,\n",
        "                                   basic_schedule_grid,\n",
        "                                   room_list,\n",
        "                                   code_team_dict)\n",
        "\n",
        "    header = grid[0]\n",
        "    schedule = grid[1:]\n",
        "    pdf.individual_schedule(header, schedule)\n",
        "\n",
        "    if text_toggle is True:\n",
        "\n",
        "        # todo: figure out latin-1 encoding issue\n",
        "        text = texts[1]\n",
        "        text = text.encode('latin-1', 'ignore').decode('latin-1')\n",
        "\n",
        "        pdf.set_x(25.45)\n",
        "        font_size = 14\n",
        "        pdf.set_font(\"times\", size=font_size)\n",
        "        pdf.set_text_color(0)\n",
        "        pdf.multi_cell(165, 6, text, new_x=\"LMARGIN\")\n",
        "\n",
        "    if qr_toggle is True:\n",
        "        qr_codes_2 = qr_codes[3:6]\n",
        "        qr_captions_2 = qr_captions[3:6]\n",
        "\n",
        "        qr_positions = [35, 93, 151]\n",
        "        for index, qr_code in enumerate(qr_codes_2):\n",
        "          img = qrcode.make(qr_code)\n",
        "          x_pos = qr_positions[index]\n",
        "          pdf.image(img.get_image(), x=x_pos, y=210, w=30, h=30)\n",
        "\n",
        "        for index, qr_caption in enumerate(qr_captions_2):\n",
        "          x_pos = qr_positions[index] - 5\n",
        "          pdf.set_xy(x_pos, 241)\n",
        "          pdf.cell(w=40, h=None, txt=qr_caption,\n",
        "                    align=\"C\")\n",
        "\n",
        "    pdf.page_footer()\n",
        "\n",
        "pdf.output(f\"{tournament_phase}_individual_room_schedules.pdf\")\n",
        "pdf_bytes = pdf.output()\n",
        "individual_room_schedules = b64encode(pdf_bytes).decode(\"utf-8\")"
      ],
      "metadata": {
        "id": "PyNdY14VMlLL"
      },
      "execution_count": 168,
      "outputs": []
    },
    {
      "cell_type": "code",
      "source": [
        "class PDF(PDF):\n",
        "\n",
        "    def team_index(self, list_of_teams, phase='prelims',\n",
        "                   header_color=(135, 135, 135), row_color=(210, 210, 210)):\n",
        "\n",
        "      # depending on phase, create header and cell widths\n",
        "      if phase == 'prelims':\n",
        "        header = ['Team Name', 'Team Code', 'Prelim Group']\n",
        "        cell_widths = [66, 33, 66]\n",
        "\n",
        "      elif phase == 'playoffs':\n",
        "        header = ['Team Name', 'Prelim Group', 'Finish',\n",
        "                  'PPB', 'Playoff Bracket']\n",
        "        cell_widths = [47, 23.5, 23.5, 23.5, 47]\n",
        "      elif phase == 'superplayoffs':\n",
        "        header = ['Team Name', 'Playoff Bracket', 'Finish',\n",
        "                  'PPB*', 'Super-playoff Bracket', 'W-L']  # may be too long\n",
        "        cell_widths = [30, 45, 15, 15, 45, 15]\n",
        "        \n",
        "\n",
        "      # start table at 25.45, draw cells depending on cell widths\n",
        "      # right margin will also be 25.45\n",
        "\n",
        "      self.set_x(25.45)\n",
        "\n",
        "      self.set_fill_color(*header_color)  # * required to unpack tuple\n",
        "      self.set_text_color(255)\n",
        "      self.set_draw_color(36, 36, 36)\n",
        "      self.set_line_width(0.3)\n",
        "      self.set_font(style=\"B\", size=12)\n",
        "      for cell_width, heading in zip(cell_widths, header):\n",
        "          self.cell(cell_width, 8, heading, border=1, align=\"C\", fill=True)\n",
        "      self.ln()\n",
        "      self.set_x(25.45)\n",
        "\n",
        "      # Color and font restoration:\n",
        "      self.set_fill_color(*row_color)  # * required to unpack tuple\n",
        "      self.set_text_color(0)\n",
        "      self.set_font()\n",
        "      fill = False\n",
        "      if len(list_of_teams) >= 12:\n",
        "        font_size = 10\n",
        "        row_height = 6\n",
        "      else:\n",
        "        font_size = 12\n",
        "        row_height = 8\n",
        "      for team in list_of_teams:\n",
        "        print(team)\n",
        "        continue\n",
        "        for index, item in enumerate(team):       \n",
        "          if index == 0:\n",
        "            self.set_font(style=\"B\", size=font_size)\n",
        "          else:\n",
        "            self.set_font(size=font_size)\n",
        "          self.cell(cell_widths[index],\n",
        "                    row_height,\n",
        "                    item,\n",
        "                    border=\"LR\",\n",
        "                    align=\"C\",\n",
        "                    fill=fill)\n",
        "        fill = not fill  # I am pretty sure this is what alternates row colors!\n",
        "\n",
        "# *** Latex Writer Code ***\n",
        "\n",
        "#     for i in list_of_teams:\n",
        "#         teamcode = team_code_dict[i[0]]\n",
        "#         playoff_seed = teamcode_playoff_dict[teamcode][-1]\n",
        "#         prelim_finish = i[2]\n",
        "#         ppb = '%s' % '%.2f' % i[3]\n",
        "#         playoff_bracket = teamcode_playoff_dict[teamcode][:-1]\n",
        "#         team = playoff_team(i[0], teamcode, i[1],\n",
        "#                             playoff_bracket, playoff_seed)\n",
        "#         table.add_row(team.name,\n",
        "#                       team.prelim_group, prelim_finish,\n",
        "#                       ppb, team.playoff_bracket)\n",
        "        self.ln()\n",
        "        self.set_x(25.45)\n",
        "\n",
        "      self.set_fill_color(*header_color)  # * required to unpack tuple\n",
        "      self.set_text_color(255)\n",
        "      self.set_draw_color(36, 36, 36)\n",
        "      self.set_line_width(0.3)\n",
        "      self.set_font(style=\"B\", size=12)\n",
        "      for cell_width, heading in zip(cell_widths, header):\n",
        "          self.cell(cell_width, 8, heading, border=1, align=\"C\", fill=True)\n",
        "\n",
        "      self.ln(14)"
      ],
      "metadata": {
        "id": "dUZ1HOfyhk5q"
      },
      "execution_count": 169,
      "outputs": []
    },
    {
      "cell_type": "code",
      "source": [
        "# team index class, in progress\n",
        "\n",
        "pdf = PDF(format=\"letter\")  # default is A4, need to specify US letter\n",
        "\n",
        "# title page\n",
        "pdf.add_page()\n",
        "\n",
        "doc_title = f\"{phase_capitalized} - Team Index\"\n",
        "pdf.title_page(format_dict['tournament name'],\n",
        "               format_dict['tournament location'],\n",
        "               format_dict['tournament date'],\n",
        "               doc_title)\n",
        "\n",
        "# full schedule page\n",
        "pdf.add_page()\n",
        "\n",
        "pdf.page_header(format_dict['tournament name'],\n",
        "                format_dict['tournament date'])\n",
        "\n",
        "pdf.team_index(list_of_teams, phase=tournament_phase)\n",
        "\n",
        "pdf.page_footer()\n",
        "\n",
        "pdf.output(f\"{tournament_phase}_team_index.pdf\")\n",
        "pdf_bytes = pdf.output()\n",
        "team_index = b64encode(pdf_bytes).decode(\"utf-8\")"
      ],
      "metadata": {
        "colab": {
          "base_uri": "https://localhost:8080/"
        },
        "id": "Et4zWr0cpiWg",
        "outputId": "c7dd9d0f-a653-4595-9056-6d27a346a63b"
      },
      "execution_count": 170,
      "outputs": [
        {
          "output_type": "stream",
          "name": "stdout",
          "text": [
            "['Amherst', 'A', 5, 0, 14.35]\n",
            "['Bard College', 'B', 6, 0, 13.5]\n",
            "['Bates', 'A', 6, 0, 11.62]\n",
            "['NYU A', 'A', 2, 0, 20.44]\n",
            "['NYU B', 'B', 2, 0, 19.49]\n",
            "['Penn', 'B', 5, 0, 14.19]\n",
            "['Princeton A', 'B', 4, 0, 14.9]\n",
            "['Princeton B', 'A', 4, 0, 17.33]\n",
            "['Rutgers A', 'A', 3, 0, 20.07]\n",
            "['Rutgers B', 'B', 3, 0, 18.81]\n",
            "['Yale A', 'B', 1, 0, 21.14]\n",
            "['Yale B', 'A', 1, 0, 23.59]\n"
          ]
        }
      ]
    },
    {
      "cell_type": "markdown",
      "source": [
        "## Download PDFs"
      ],
      "metadata": {
        "id": "ejmFTFC8LQVB"
      }
    },
    {
      "cell_type": "code",
      "source": [
        "# Diplay a download button:\n",
        "display(HTML(f'<a style=\"font-size: 30px\" download=\"{tournament_phase}_full_schedule.pdf\" href=\"data:application/pdf;base64,{full_schedule}\">Click to download PDF of full schedule.</a>'))"
      ],
      "metadata": {
        "id": "EfFoOvgwS1Ir",
        "collapsed": true,
        "colab": {
          "base_uri": "https://localhost:8080/",
          "height": 54
        },
        "outputId": "70deea49-d898-456d-ed8d-5ec817ef7654"
      },
      "execution_count": 171,
      "outputs": [
        {
          "output_type": "display_data",
          "data": {
            "text/plain": [
              "<IPython.core.display.HTML object>"
            ],
            "text/html": [
              "<a style=\"font-size: 30px\" download=\"playoffs_full_schedule.pdf\" href=\"data:application/pdf;base64,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\">Click to download PDF of full schedule.</a>"
            ]
          },
          "metadata": {}
        }
      ]
    },
    {
      "cell_type": "code",
      "source": [
        "# Diplay a download button:\n",
        "display(HTML(f'<a style=\"font-size: 30px\" download=\"{tournament_phase}_individual_team_schedules.pdf\" href=\"data:application/pdf;base64,{individual_team_schedules}\">Click to download PDF of individual team schedules.</a>'))"
      ],
      "metadata": {
        "collapsed": true,
        "id": "EsFqwdMJQDam",
        "colab": {
          "base_uri": "https://localhost:8080/",
          "height": 54
        },
        "outputId": "8cbeacfa-198c-40b5-d10e-c44f6225abf8"
      },
      "execution_count": 172,
      "outputs": [
        {
          "output_type": "display_data",
          "data": {
            "text/plain": [
              "<IPython.core.display.HTML object>"
            ],
            "text/html": [
              "<a style=\"font-size: 30px\" download=\"playoffs_individual_team_schedules.pdf\" href=\"data:application/pdf;base64,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\">Click to download PDF of individual team schedules.</a>"
            ]
          },
          "metadata": {}
        }
      ]
    },
    {
      "cell_type": "code",
      "source": [
        "# Diplay a download button:\n",
        "display(HTML(f'<a style=\"font-size: 30px\" download=\"{tournament_phase}_individual_room_schedules.pdf\" href=\"data:application/pdf;base64,{individual_room_schedules}\">Click to download PDF of individual room schedules.</a>'))"
      ],
      "metadata": {
        "id": "o_Ny_J3AaYq0",
        "colab": {
          "base_uri": "https://localhost:8080/",
          "height": 54
        },
        "outputId": "98cddfeb-e638-4520-c7e6-ab2fc54211ab"
      },
      "execution_count": 173,
      "outputs": [
        {
          "output_type": "display_data",
          "data": {
            "text/plain": [
              "<IPython.core.display.HTML object>"
            ],
            "text/html": [
              "<a style=\"font-size: 30px\" download=\"playoffs_individual_room_schedules.pdf\" href=\"data:application/pdf;base64,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\">Click to download PDF of individual room schedules.</a>"
            ]
          },
          "metadata": {}
        }
      ]
    },
    {
      "cell_type": "code",
      "source": [
        "stop here"
      ],
      "metadata": {
        "colab": {
          "base_uri": "https://localhost:8080/",
          "height": 131
        },
        "id": "CSK1KFv4Aj37",
        "outputId": "5326d14c-fda7-452d-cb2c-a5be3d4b1473"
      },
      "execution_count": 174,
      "outputs": [
        {
          "output_type": "error",
          "ename": "SyntaxError",
          "evalue": "ignored",
          "traceback": [
            "\u001b[0;36m  File \u001b[0;32m\"<ipython-input-174-a96ba3aab008>\"\u001b[0;36m, line \u001b[0;32m1\u001b[0m\n\u001b[0;31m    stop here\u001b[0m\n\u001b[0m         ^\u001b[0m\n\u001b[0;31mSyntaxError\u001b[0m\u001b[0;31m:\u001b[0m invalid syntax\n"
          ]
        }
      ]
    },
    {
      "cell_type": "markdown",
      "source": [
        "# NSC Scheduler"
      ],
      "metadata": {
        "id": "b3l5IrdtdrTf"
      }
    },
    {
      "cell_type": "markdown",
      "source": [
        "# *** Workspace below this point ***"
      ],
      "metadata": {
        "id": "qagHkeo1VeeJ"
      }
    },
    {
      "cell_type": "markdown",
      "source": [
        "\n",
        "\n",
        "---\n",
        "\n"
      ],
      "metadata": {
        "id": "_k8_duRuVhG4"
      }
    },
    {
      "cell_type": "markdown",
      "source": [
        "# Importing csv files from Github\n",
        "This will be useful later when grabbing templates for the scheduling functions.\n",
        "\n",
        "For more info on loading external files into Colabs, see [this article](https://towardsdatascience.com/7-ways-to-load-external-data-into-google-colab-7ba73e7d5fc7)."
      ],
      "metadata": {
        "id": "rLwWCJ3lixKD"
      }
    },
    {
      "cell_type": "code",
      "source": [
        "filename = 'templates/rr_schedules/rr_10.xlsx'\n",
        "\n",
        "df = pd.read_csv('https://raw.githubusercontent.com/victorprieto2265/cornerstone/main/archive/brackets.csv')\n",
        "\n",
        "# get_all_values gives a list of rows.\n",
        "print(df)"
      ],
      "metadata": {
        "id": "-Wd7s6KAj9it"
      },
      "execution_count": null,
      "outputs": []
    },
    {
      "cell_type": "markdown",
      "source": [
        "What about uploading excel files? Will that work?"
      ],
      "metadata": {
        "id": "8iW6m7Oz0w52"
      }
    },
    {
      "cell_type": "code",
      "source": [
        "url = \"https://github.com/victorprieto2265/cornerstone/blob/main/templates/rr_schedules/rr_templates.xlsx?raw=true\"\n",
        "db=pd.read_excel(url, sheet_name=None)\n",
        "\n",
        "print(type(db))\n",
        "print(db.keys())"
      ],
      "metadata": {
        "id": "Kd83cUbR00zf"
      },
      "execution_count": null,
      "outputs": []
    }
  ]
}