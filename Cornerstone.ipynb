{
  "nbformat": 4,
  "nbformat_minor": 0,
  "metadata": {
    "colab": {
      "provenance": [],
      "toc_visible": true,
      "collapsed_sections": [
        "LxPWT_oriuCh",
        "owcZyEiJdJTm",
        "5n9ob-8odPkM",
        "Lsvgg3XgLlT9",
        "ejmFTFC8LQVB",
        "iKG1VUXVdJTn",
        "Qb5McvXKdPxF",
        "qagHkeo1VeeJ",
        "rLwWCJ3lixKD"
      ],
      "authorship_tag": "ABX9TyOtdMiRlaMDrd/KDqma+CsI",
      "include_colab_link": true
    },
    "kernelspec": {
      "name": "python3",
      "display_name": "Python 3"
    },
    "language_info": {
      "name": "python"
    }
  },
  "cells": [
    {
      "cell_type": "markdown",
      "metadata": {
        "id": "view-in-github",
        "colab_type": "text"
      },
      "source": [
        "<a href=\"https://colab.research.google.com/github/victorprieto2265/cornerstone/blob/main/Cornerstone.ipynb\" target=\"_parent\"><img src=\"https://colab.research.google.com/assets/colab-badge.svg\" alt=\"Open In Colab\"/></a>"
      ]
    },
    {
      "cell_type": "markdown",
      "source": [
        "# TODO + RFE\n",
        "\n"
      ],
      "metadata": {
        "id": "IwJ6m76Ee1va"
      }
    },
    {
      "cell_type": "markdown",
      "source": [
        "TODO\n",
        "\n",
        "* Import computer modern typeface for use (consider open sans or interstate as an alternative).\n",
        "* Detect and split up tables that run over multiple pages (likely documents other than individual schedules for any 32+ team tournaments).\n",
        "* Qr_toggle keeps returning as false despite being updated differently in prelims_input, can't figure out the github new file issue!\n",
        "* Write new error check for duplicates and length limits. The old one is currently commented out.\n",
        "* There's an encoding problem for text: FPDF2 only accepts Latin-1, and I don't know enough around encoding except to tell users not to use anything outside Latin-1. Notably, an em dash and an ellipsis character will cause an encoding problem (the latter is what led me to identify this problem). This could affect all text inputs anywhere, not just individual text schedule inputs.\n",
        "* Finish the crossover templates in rr_templates.xlsx at some point. Right now crossovers are kind of a mess.\n",
        "\n",
        "RFE\n",
        "\n",
        "* Someone has pointed out 3-letter team codes are unnecessary for everything outside of the complete schedule. It's included in the team index, but not actually used in any documents other than the complete schedule. After Cornerstone has been in use for some time, re-evaluate the necessity of the 3-letter code, and correspondingly the complete schedule.\n",
        " * Cornerstone relies on 3-letter codes for a lot of functions. To avoid rewriting half the program, instead assign a unique short string to each team upon input - for instance, T1 through Tn would be fine.\n",
        "* In class definition for individual room schedules, add a row for score confirmation + signature.\n"
      ],
      "metadata": {
        "id": "QEwWOlwXfE0H"
      }
    },
    {
      "cell_type": "markdown",
      "source": [
        "\n",
        "# Import modules / libraries"
      ],
      "metadata": {
        "id": "LxPWT_oriuCh"
      }
    },
    {
      "cell_type": "code",
      "source": [
        "!pip install fpdf2\n",
        "!pip install qrcode\n",
        "\n",
        "import sys\n",
        "import pandas as pd\n",
        "import warnings\n",
        "warnings.simplefilter('default', DeprecationWarning)\n",
        "from fpdf import FPDF\n",
        "import fpdf\n",
        "from base64 import b64encode\n",
        "import IPython\n",
        "from IPython.display import display, HTML\n",
        "import qrcode"
      ],
      "metadata": {
        "id": "pl18nTJ1uVlv",
        "colab": {
          "base_uri": "https://localhost:8080/"
        },
        "outputId": "12ca4739-47fb-4cd5-b1f7-647b4deeee45"
      },
      "execution_count": 1,
      "outputs": [
        {
          "output_type": "stream",
          "name": "stdout",
          "text": [
            "Looking in indexes: https://pypi.org/simple, https://us-python.pkg.dev/colab-wheels/public/simple/\n",
            "Collecting fpdf2\n",
            "  Downloading fpdf2-2.6.1-py2.py3-none-any.whl (255 kB)\n",
            "\u001b[2K     \u001b[90m━━━━━━━━━━━━━━━━━━━━━━━━━━━━━━━━━━━━━━━\u001b[0m \u001b[32m255.6/255.6 KB\u001b[0m \u001b[31m5.2 MB/s\u001b[0m eta \u001b[36m0:00:00\u001b[0m\n",
            "\u001b[?25hRequirement already satisfied: defusedxml in /usr/local/lib/python3.8/dist-packages (from fpdf2) (0.7.1)\n",
            "Requirement already satisfied: Pillow!=9.2.*,>=6.2.2 in /usr/local/lib/python3.8/dist-packages (from fpdf2) (7.1.2)\n",
            "Collecting fonttools>=4.34.0\n",
            "  Downloading fonttools-4.38.0-py3-none-any.whl (965 kB)\n",
            "\u001b[2K     \u001b[90m━━━━━━━━━━━━━━━━━━━━━━━━━━━━━━━━━━━━━━\u001b[0m \u001b[32m965.4/965.4 KB\u001b[0m \u001b[31m16.4 MB/s\u001b[0m eta \u001b[36m0:00:00\u001b[0m\n",
            "\u001b[?25hInstalling collected packages: fonttools, fpdf2\n",
            "Successfully installed fonttools-4.38.0 fpdf2-2.6.1\n",
            "Looking in indexes: https://pypi.org/simple, https://us-python.pkg.dev/colab-wheels/public/simple/\n",
            "Collecting qrcode\n",
            "  Downloading qrcode-7.4.2-py3-none-any.whl (46 kB)\n",
            "\u001b[2K     \u001b[90m━━━━━━━━━━━━━━━━━━━━━━━━━━━━━━━━━━━━━━━━\u001b[0m \u001b[32m46.2/46.2 KB\u001b[0m \u001b[31m1.6 MB/s\u001b[0m eta \u001b[36m0:00:00\u001b[0m\n",
            "\u001b[?25hRequirement already satisfied: typing-extensions in /usr/local/lib/python3.8/dist-packages (from qrcode) (4.4.0)\n",
            "Collecting pypng\n",
            "  Downloading pypng-0.20220715.0-py3-none-any.whl (58 kB)\n",
            "\u001b[2K     \u001b[90m━━━━━━━━━━━━━━━━━━━━━━━━━━━━━━━━━━━━━━━━\u001b[0m \u001b[32m58.1/58.1 KB\u001b[0m \u001b[31m4.2 MB/s\u001b[0m eta \u001b[36m0:00:00\u001b[0m\n",
            "\u001b[?25hInstalling collected packages: pypng, qrcode\n",
            "Successfully installed pypng-0.20220715.0 qrcode-7.4.2\n"
          ]
        }
      ]
    },
    {
      "cell_type": "markdown",
      "source": [
        "# Cornerstone Input\n",
        "\n",
        "This section imports all of the input files, except tournament format,\n",
        "which is handled by the tournament_format script.\n",
        "\n",
        "TODO uncomment sys.exit at end of this script for testing\n",
        "\n",
        "TODO figure out how to handle blank spaces and/or none in input file...\n",
        "There was an unusual error where integers were being converted to floats\n",
        "if one of the cells in a range was empty instead of string 'none'.\n",
        "\n",
        "TODO apparently bracket names (and presumably other things) are case-sensitive.\n",
        "\n",
        "TODO currently a global variable for checking for errors, which is a no no?\n"
      ],
      "metadata": {
        "id": "jaurrPCkdJTm"
      }
    },
    {
      "cell_type": "code",
      "source": [
        "error = 0\n",
        "\n",
        "# checks for duplicates and (optional) character limits\n",
        "def error_check(alist, listname, max_length=float('inf'), max_duplicates=1):\n",
        "    global error  # TODO this is apparently a no no, but works for now\n",
        "    print('\\n')\n",
        "    # duplicate checker\n",
        "    seen = {}\n",
        "    duplicates = []\n",
        "    for item in alist:\n",
        "        if item not in seen:\n",
        "            seen[item] = 1\n",
        "        else:\n",
        "            seen[item] += 1\n",
        "            if seen[item] > max_duplicates:\n",
        "                duplicates.append(' - ' + str(item))\n",
        "    if not duplicates:\n",
        "        if max_duplicates > 1:\n",
        "            print(f'No excess duplicates detected for {listname}.')\n",
        "        else:\n",
        "            print(f'No duplicates detected for {listname}.')\n",
        "    else:\n",
        "        # error = True\n",
        "        error += 1\n",
        "        print(f'\\nDuplicates detected for {listname}:')\n",
        "        print(*duplicates, sep='\\n')\n",
        "\n",
        "    # character length checker\n",
        "    long_items = [' - ' + item for item in alist if len(item) > max_length]\n",
        "    if not long_items:\n",
        "        print(f'No character lengths exceeded for {listname}.')\n",
        "    else:\n",
        "        error += 1\n",
        "        # error = True\n",
        "        print(f'Character lengths exceeded for {listname}:')\n",
        "        print(*long_items, sep='\\n')"
      ],
      "metadata": {
        "id": "Hd9MUoAjgvDO"
      },
      "execution_count": 2,
      "outputs": []
    },
    {
      "cell_type": "markdown",
      "source": [
        "Function definition: analyze sheet and generate list from pandas dataframe."
      ],
      "metadata": {
        "id": "_Jl-_l1RkTvk"
      }
    },
    {
      "cell_type": "code",
      "source": [
        "def analyze_input(sheet_name, df_dict):\n",
        "    df = df_dict[sheet_name]\n",
        "    temp_list = df.values.tolist()  # note: temp_list may be multiple lists!\n",
        "    return temp_list"
      ],
      "metadata": {
        "id": "fwaKQucMkRJT"
      },
      "execution_count": 3,
      "outputs": []
    },
    {
      "cell_type": "markdown",
      "source": [
        "---\n",
        "\n",
        "Upload the prelims_data excel spreadsheet from local computer, and create dictionary containing the sheet name and each dataframe.\n",
        "\n",
        "TODO For now, this is commented out. While testing Cornerstone as I'm porting over to Colab, I will be directly pulling the excel file from a dedicated location in github."
      ],
      "metadata": {
        "id": "QIwjrPCFjYas"
      }
    },
    {
      "cell_type": "code",
      "source": [
        "from google.colab import files\n",
        "file_upload = files.upload()\n",
        "file_upload = list(file_upload.keys())[0]\n",
        "\n",
        "sheet_names = ['tournament format', 'list of teams', 'team codes',\n",
        "                'group names', 'room assignments',\n",
        "                'QR codes', 'text input']\n",
        "df_dict_prelim = pd.read_excel(file_upload,\n",
        "                               sheet_name=sheet_names)"
      ],
      "metadata": {
        "id": "xysCWCW7g83a",
        "colab": {
          "base_uri": "https://localhost:8080/",
          "height": 90
        },
        "collapsed": true,
        "outputId": "8ceb212b-4d34-4eac-ed5e-0a987d059a06"
      },
      "execution_count": 4,
      "outputs": [
        {
          "output_type": "display_data",
          "data": {
            "text/plain": [
              "<IPython.core.display.HTML object>"
            ],
            "text/html": [
              "\n",
              "     <input type=\"file\" id=\"files-f97a54b4-48e0-4f79-a333-021ef662cabe\" name=\"files[]\" multiple disabled\n",
              "        style=\"border:none\" />\n",
              "     <output id=\"result-f97a54b4-48e0-4f79-a333-021ef662cabe\">\n",
              "      Upload widget is only available when the cell has been executed in the\n",
              "      current browser session. Please rerun this cell to enable.\n",
              "      </output>\n",
              "      <script>// Copyright 2017 Google LLC\n",
              "//\n",
              "// Licensed under the Apache License, Version 2.0 (the \"License\");\n",
              "// you may not use this file except in compliance with the License.\n",
              "// You may obtain a copy of the License at\n",
              "//\n",
              "//      http://www.apache.org/licenses/LICENSE-2.0\n",
              "//\n",
              "// Unless required by applicable law or agreed to in writing, software\n",
              "// distributed under the License is distributed on an \"AS IS\" BASIS,\n",
              "// WITHOUT WARRANTIES OR CONDITIONS OF ANY KIND, either express or implied.\n",
              "// See the License for the specific language governing permissions and\n",
              "// limitations under the License.\n",
              "\n",
              "/**\n",
              " * @fileoverview Helpers for google.colab Python module.\n",
              " */\n",
              "(function(scope) {\n",
              "function span(text, styleAttributes = {}) {\n",
              "  const element = document.createElement('span');\n",
              "  element.textContent = text;\n",
              "  for (const key of Object.keys(styleAttributes)) {\n",
              "    element.style[key] = styleAttributes[key];\n",
              "  }\n",
              "  return element;\n",
              "}\n",
              "\n",
              "// Max number of bytes which will be uploaded at a time.\n",
              "const MAX_PAYLOAD_SIZE = 100 * 1024;\n",
              "\n",
              "function _uploadFiles(inputId, outputId) {\n",
              "  const steps = uploadFilesStep(inputId, outputId);\n",
              "  const outputElement = document.getElementById(outputId);\n",
              "  // Cache steps on the outputElement to make it available for the next call\n",
              "  // to uploadFilesContinue from Python.\n",
              "  outputElement.steps = steps;\n",
              "\n",
              "  return _uploadFilesContinue(outputId);\n",
              "}\n",
              "\n",
              "// This is roughly an async generator (not supported in the browser yet),\n",
              "// where there are multiple asynchronous steps and the Python side is going\n",
              "// to poll for completion of each step.\n",
              "// This uses a Promise to block the python side on completion of each step,\n",
              "// then passes the result of the previous step as the input to the next step.\n",
              "function _uploadFilesContinue(outputId) {\n",
              "  const outputElement = document.getElementById(outputId);\n",
              "  const steps = outputElement.steps;\n",
              "\n",
              "  const next = steps.next(outputElement.lastPromiseValue);\n",
              "  return Promise.resolve(next.value.promise).then((value) => {\n",
              "    // Cache the last promise value to make it available to the next\n",
              "    // step of the generator.\n",
              "    outputElement.lastPromiseValue = value;\n",
              "    return next.value.response;\n",
              "  });\n",
              "}\n",
              "\n",
              "/**\n",
              " * Generator function which is called between each async step of the upload\n",
              " * process.\n",
              " * @param {string} inputId Element ID of the input file picker element.\n",
              " * @param {string} outputId Element ID of the output display.\n",
              " * @return {!Iterable<!Object>} Iterable of next steps.\n",
              " */\n",
              "function* uploadFilesStep(inputId, outputId) {\n",
              "  const inputElement = document.getElementById(inputId);\n",
              "  inputElement.disabled = false;\n",
              "\n",
              "  const outputElement = document.getElementById(outputId);\n",
              "  outputElement.innerHTML = '';\n",
              "\n",
              "  const pickedPromise = new Promise((resolve) => {\n",
              "    inputElement.addEventListener('change', (e) => {\n",
              "      resolve(e.target.files);\n",
              "    });\n",
              "  });\n",
              "\n",
              "  const cancel = document.createElement('button');\n",
              "  inputElement.parentElement.appendChild(cancel);\n",
              "  cancel.textContent = 'Cancel upload';\n",
              "  const cancelPromise = new Promise((resolve) => {\n",
              "    cancel.onclick = () => {\n",
              "      resolve(null);\n",
              "    };\n",
              "  });\n",
              "\n",
              "  // Wait for the user to pick the files.\n",
              "  const files = yield {\n",
              "    promise: Promise.race([pickedPromise, cancelPromise]),\n",
              "    response: {\n",
              "      action: 'starting',\n",
              "    }\n",
              "  };\n",
              "\n",
              "  cancel.remove();\n",
              "\n",
              "  // Disable the input element since further picks are not allowed.\n",
              "  inputElement.disabled = true;\n",
              "\n",
              "  if (!files) {\n",
              "    return {\n",
              "      response: {\n",
              "        action: 'complete',\n",
              "      }\n",
              "    };\n",
              "  }\n",
              "\n",
              "  for (const file of files) {\n",
              "    const li = document.createElement('li');\n",
              "    li.append(span(file.name, {fontWeight: 'bold'}));\n",
              "    li.append(span(\n",
              "        `(${file.type || 'n/a'}) - ${file.size} bytes, ` +\n",
              "        `last modified: ${\n",
              "            file.lastModifiedDate ? file.lastModifiedDate.toLocaleDateString() :\n",
              "                                    'n/a'} - `));\n",
              "    const percent = span('0% done');\n",
              "    li.appendChild(percent);\n",
              "\n",
              "    outputElement.appendChild(li);\n",
              "\n",
              "    const fileDataPromise = new Promise((resolve) => {\n",
              "      const reader = new FileReader();\n",
              "      reader.onload = (e) => {\n",
              "        resolve(e.target.result);\n",
              "      };\n",
              "      reader.readAsArrayBuffer(file);\n",
              "    });\n",
              "    // Wait for the data to be ready.\n",
              "    let fileData = yield {\n",
              "      promise: fileDataPromise,\n",
              "      response: {\n",
              "        action: 'continue',\n",
              "      }\n",
              "    };\n",
              "\n",
              "    // Use a chunked sending to avoid message size limits. See b/62115660.\n",
              "    let position = 0;\n",
              "    do {\n",
              "      const length = Math.min(fileData.byteLength - position, MAX_PAYLOAD_SIZE);\n",
              "      const chunk = new Uint8Array(fileData, position, length);\n",
              "      position += length;\n",
              "\n",
              "      const base64 = btoa(String.fromCharCode.apply(null, chunk));\n",
              "      yield {\n",
              "        response: {\n",
              "          action: 'append',\n",
              "          file: file.name,\n",
              "          data: base64,\n",
              "        },\n",
              "      };\n",
              "\n",
              "      let percentDone = fileData.byteLength === 0 ?\n",
              "          100 :\n",
              "          Math.round((position / fileData.byteLength) * 100);\n",
              "      percent.textContent = `${percentDone}% done`;\n",
              "\n",
              "    } while (position < fileData.byteLength);\n",
              "  }\n",
              "\n",
              "  // All done.\n",
              "  yield {\n",
              "    response: {\n",
              "      action: 'complete',\n",
              "    }\n",
              "  };\n",
              "}\n",
              "\n",
              "scope.google = scope.google || {};\n",
              "scope.google.colab = scope.google.colab || {};\n",
              "scope.google.colab._files = {\n",
              "  _uploadFiles,\n",
              "  _uploadFilesContinue,\n",
              "};\n",
              "})(self);\n",
              "</script> "
            ]
          },
          "metadata": {}
        },
        {
          "output_type": "stream",
          "name": "stdout",
          "text": [
            "Saving prelims_data_columbia.xlsx to prelims_data_columbia.xlsx\n"
          ]
        }
      ]
    },
    {
      "cell_type": "code",
      "source": [
        "# sheet_names = ['tournament format', 'list of teams', 'team codes',\n",
        "#                 'group names', 'room assignments',\n",
        "#                 'QR codes', 'text input']\n",
        "# url = \"https://github.com/victorprieto2265/cornerstone/blob/main/data%20input/prelims_data.xlsx?raw=true\"\n",
        "# df_dict_prelim = pd.read_excel(url,\n",
        "#                                sheet_name=sheet_names)\n"
      ],
      "metadata": {
        "id": "Y1gg7KUvlGRK"
      },
      "execution_count": 5,
      "outputs": []
    },
    {
      "cell_type": "markdown",
      "source": [
        "Determine phase of the tournament based on import filename."
      ],
      "metadata": {
        "id": "Ym7NjjhXATSB"
      }
    },
    {
      "cell_type": "code",
      "source": [
        "# check to make sure filename has the correct prefix for tournament phase\n",
        "acceptable_file_prefixes = ('prelims', 'playoffs', 'superplayoffs')\n",
        "if not file_upload.startswith(acceptable_file_prefixes):\n",
        "  print('\\nWARNING: filename must start with one of the following:')\n",
        "  for prefix in acceptable_file_prefixes:\n",
        "    print(prefix)\n",
        "  sys.exit()\n",
        "\n",
        "if file_upload.startswith('prelims'):\n",
        "  tournament_phase = 'prelims'\n",
        "elif file_upload.startswith('playoffs'):\n",
        "  tournament_phase = 'playoffs'\n",
        "elif file_upload.startswith('super'):\n",
        "  tournament_phase = 'super'"
      ],
      "metadata": {
        "id": "oLibmsoU-Mv_"
      },
      "execution_count": 6,
      "outputs": []
    },
    {
      "cell_type": "markdown",
      "source": [
        "Using the analyze_input function, create a list from each tab of the spreadsheet corresponding to the relevant information (e.g. a list of room assignments). If in playoffs or superplayoffs, also create the relevant lists there."
      ],
      "metadata": {
        "id": "EvXL0iGwFMH7"
      }
    },
    {
      "cell_type": "code",
      "source": [
        "list_of_teams = analyze_input('list of teams', df_dict_prelim)\n",
        "team_codes = analyze_input('team codes', df_dict_prelim)\n",
        "room_assignments = analyze_input('room assignments', df_dict_prelim)\n",
        "qr_codelist = analyze_input('QR codes', df_dict_prelim)\n",
        "textlist = analyze_input('text input', df_dict_prelim)\n",
        "tournament_format = analyze_input('tournament format', df_dict_prelim)\n",
        "\n",
        "group_names = analyze_input('group names', df_dict_prelim)\n",
        "prelim_group_names = [row[0] for row in group_names]\n",
        "\n",
        "if tournament_phase in ['playoffs', 'super']:\n",
        "    playoff_bracket_names = [row[1] for row in group_names]\n",
        "    playoff_bracket_names = [x for x in playoff_bracket_names\n",
        "                             if str(x) != 'nan']\n",
        "if tournament_phase == 'super':\n",
        "    super_bracket_names = [row[2] for row in group_names]\n",
        "    super_bracket_names = [x for x in super_bracket_names\n",
        "                             if str(x) != 'nan']"
      ],
      "metadata": {
        "id": "3CAhOiL09mfs"
      },
      "execution_count": 7,
      "outputs": []
    },
    {
      "cell_type": "markdown",
      "source": [
        "Sometimes, tournaments don't have enough teams to warrant more than one prelim group. We'll do a quick check to see if that's the case."
      ],
      "metadata": {
        "id": "hMBNDAmFJNuK"
      }
    },
    {
      "cell_type": "code",
      "source": [
        "if len(prelim_group_names) == 1:\n",
        "  single_prelim_group = True\n",
        "else:\n",
        "  single_prelim_group = False"
      ],
      "metadata": {
        "id": "_aY-0K2lJiXN"
      },
      "execution_count": 8,
      "outputs": []
    },
    {
      "cell_type": "markdown",
      "source": [
        "A dictionary containing general information about the tournament is also generated from the tournament_format sheet.\n",
        "\n",
        "It's necessary to convert the datetime value from excel to a more suitable string before printing."
      ],
      "metadata": {
        "id": "irPSh0zaFwLj"
      }
    },
    {
      "cell_type": "code",
      "source": [
        "format_dict = {}\n",
        "for row in tournament_format:\n",
        "    key = row[0]  # item, e.g. \"tournament name\"\n",
        "    value = row[1]  # input, e.g. \"2022 NSC\"\n",
        "    format_dict[key] = value\n",
        "\n",
        "# convert Excel datetime format to more suitable date string\n",
        "date = format_dict['tournament date'].strftime('%B %d, %Y')\n",
        "format_dict['tournament date'] = date"
      ],
      "metadata": {
        "id": "SNGO4QFRkOZ5"
      },
      "execution_count": 9,
      "outputs": []
    },
    {
      "cell_type": "markdown",
      "source": [
        "Next is the analysis section for the text and QR code inputs. Did the user turn these on? If not, these sections are skipped."
      ],
      "metadata": {
        "id": "8EDjXCXfn9Wd"
      }
    },
    {
      "cell_type": "code",
      "source": [
        "if format_dict['QR codes'] == 'Y':\n",
        "    qr_toggle = True\n",
        "\n",
        "    qr_names = [code[0] for code in qr_codelist]\n",
        "    qr_codes = [code[2] for code in qr_codelist]\n",
        "    qr_captions = [code[3] for code in qr_codelist]\n",
        "\n",
        "else:\n",
        "    qr_toggle = False\n",
        "    qr_codes = False\n",
        "    qr_captions = False\n",
        "\n",
        "if format_dict['text'] == 'Y':\n",
        "    text_toggle = True\n",
        "    texts = [text[1] for text in textlist]\n",
        "\n",
        "else:\n",
        "    text_toggle = False\n",
        "    texts = False"
      ],
      "metadata": {
        "id": "cZ3mT363oBcD"
      },
      "execution_count": 38,
      "outputs": []
    },
    {
      "cell_type": "markdown",
      "source": [
        "More dictionary creation here: this time, for team names and team codes.\n",
        "\n",
        "RFE get rid of team codes if the user is okay with foregoing the complete team schedule in favor of individual team schedules."
      ],
      "metadata": {
        "id": "ozsWkM-bHtSP"
      }
    },
    {
      "cell_type": "code",
      "source": [
        "# key is team name\n",
        "# value is team code\n",
        "# also created a dictionary where the key/value pairs are swapped\n",
        "team_code_dict = {}\n",
        "code_team_dict = {}\n",
        "for row in team_codes:\n",
        "    team_name = row[0]\n",
        "    team_code = row[1]\n",
        "    team_code_dict[team_name] = team_code\n",
        "    code_team_dict[team_code] = team_name\n",
        "\n",
        "# key is prelim group and a number (i.e. Accra1)\n",
        "# value is corresponding room (i.e. Grand Ballroom A is Accra1)\n",
        "# also created dictionary where key is a playoff bracket instead\n",
        "prelim_room_dict = {}\n",
        "playoff_room_dict = {}\n",
        "super_room_dict = {}\n",
        "for i in room_assignments:\n",
        "    key = i[1] + str(i[2])\n",
        "    value = i[0]\n",
        "    if tournament_phase == 'prelims':\n",
        "        prelim_room_dict[key] = value\n",
        "    elif tournament_phase == 'playoffs':\n",
        "        playoff_room_dict[key] = value\n",
        "    elif tournament_phase == 'super':\n",
        "        super_room_dict[key] = value"
      ],
      "metadata": {
        "id": "zCCyM_MCg-H0"
      },
      "execution_count": 11,
      "outputs": []
    },
    {
      "cell_type": "markdown",
      "source": [
        "Last is the error check section, to see if any of the data submitted by the user was improperly formatted.\n",
        "\n",
        "TODO this whole section needs to be updated... And perhaps error checks should be distributed elsewhere in the program. It's not working well."
      ],
      "metadata": {
        "id": "dKTcWKPmHfV8"
      }
    },
    {
      "cell_type": "code",
      "source": [
        "# TODO modify max_duplicates to be flexible on schedule and not hard coded\n",
        "# or perhaps get rid of max duplicates since it doesn't make a lot of sense\n",
        "\n",
        "# error_check([sublist[0] for sublist in list_of_teams],\n",
        "#             'the team names in list_of_teams',\n",
        "#             max_length=26)\n",
        "\n",
        "# error_check([sublist[2] for sublist in list_of_teams],\n",
        "#             'the prelim groups in list_of_teams',\n",
        "#             max_length=15,\n",
        "#             )\n",
        "\n",
        "# error_check([sublist[1] for sublist in team_codes],\n",
        "#             'the team codes in team_codes',\n",
        "#             max_length=4)\n",
        "\n",
        "# try:\n",
        "#     error_check(prelim_group_names,\n",
        "#                 'the groups in prelim_group_names',\n",
        "#                 max_length=15)\n",
        "# except:  # TODO bare except\n",
        "#     None\n",
        "\n",
        "# try:\n",
        "#     error_check(playoff_bracket_names,\n",
        "#                 'the brackets in playoff_bracket_names',\n",
        "#                 max_length=15)\n",
        "# except:  # TODO bare except\n",
        "#     None\n",
        "\n",
        "# error_check([sublist[0] for sublist in room_assignments],\n",
        "#             'the list of rooms in room_assignments',\n",
        "#             max_length=15)\n",
        "\n",
        "if error == 0:\n",
        "    print('\\n*** No errors detected upon import. ***')\n",
        "else:\n",
        "    print('\\n*** Errors detected during import! ***')\n",
        "    sys.exit()"
      ],
      "metadata": {
        "id": "DhUxZUHJHehk",
        "collapsed": true,
        "colab": {
          "base_uri": "https://localhost:8080/"
        },
        "outputId": "833903fc-5a57-430e-9bed-2cac8826daa5"
      },
      "execution_count": 12,
      "outputs": [
        {
          "output_type": "stream",
          "name": "stdout",
          "text": [
            "\n",
            "*** No errors detected upon import. ***\n"
          ]
        }
      ]
    },
    {
      "cell_type": "markdown",
      "source": [
        "# Function Definitions"
      ],
      "metadata": {
        "id": "owcZyEiJdJTm"
      }
    },
    {
      "cell_type": "markdown",
      "source": [
        "Function for removing duplicates from a list."
      ],
      "metadata": {
        "id": "uQuJVhmyA3CC"
      }
    },
    {
      "cell_type": "code",
      "source": [
        "def remove_duplicates(alist):\n",
        "    newlist = []\n",
        "    [newlist.append(x) for x in alist if x not in newlist]\n",
        "    return newlist"
      ],
      "metadata": {
        "id": "a81URiBdA7G8"
      },
      "execution_count": 13,
      "outputs": []
    },
    {
      "cell_type": "markdown",
      "source": [
        "original function_definitions.py"
      ],
      "metadata": {
        "id": "EUZolcmPAy4y"
      }
    },
    {
      "cell_type": "code",
      "source": [
        "# import time\n",
        "# import sys\n",
        "# from pathlib import Path\n",
        "# from pylatex import (Document, Tabularx, Command,\n",
        "#                       NewPage, HugeText, Package,\n",
        "#                      VerticalSpace)\n",
        "# from pylatex.utils import NoEscape\n",
        "# from cornerstone_input import format_dict\n",
        "\n",
        "# # place additional modules here\n",
        "\n",
        "# header = \"\"\"\n",
        "\n",
        "# Depository for a bunch of class and function definitions shared across\n",
        "# prelim/playoff scripts.\n",
        "\n",
        "# TODO what if snake seed is fed a list with odd number of teams?\n",
        "\n",
        "# TODO what if qr_count ≠ 3?\n",
        "\n",
        "# Created on Mon Nov 1 13:53:44 2021 Eastern Time\n",
        "\n",
        "# @author: Victor Prieto\n",
        "\n",
        "# \"\"\"\n",
        "\n",
        "\n",
        "# # starts program runtime\n",
        "# start_time = time.time()\n",
        "# print('\\n', header)\n",
        "# print('start time: %s' % time.ctime())\n",
        "\n",
        "# # %% function definitions\n",
        "\n",
        "\n",
        "\n",
        "\n",
        "\n",
        "# def split_list(alist, wanted_parts=1):\n",
        "#     length = len(alist)\n",
        "#     return [alist[i*length // wanted_parts: (i+1)*length // wanted_parts]\n",
        "#             for i in range(wanted_parts)]\n",
        "\n",
        "\n",
        "# def snake_seed(list_of_teams, bracket_count):\n",
        "#     \"\"\"\n",
        "#     Parameters\n",
        "#     ----------\n",
        "#     list_of_teams : list\n",
        "#         A list of teams for reordering into playoff brackets by snake seeding.\n",
        "#     bracket_count : int\n",
        "#         Number of playoff brackets to snake seed across.\n",
        "\n",
        "#     Returns\n",
        "#     -------\n",
        "#     newlist : list\n",
        "#         Same list of teams accepted as input, but reordered by snake seeding.\n",
        "#         The list is also split into the number of playoff brackets.\n",
        "#         Example:\n",
        "#             (1, 2, 3, 4... 23, 24)\n",
        "#             snake seeded across four brackets becomes\n",
        "#             ((1, 8, 9, 16, 17, 24), (2, 7, 10, 15, 18... 12, 13, 20, 21))\n",
        "\n",
        "#     \"\"\"\n",
        "\n",
        "#     # generates sequence of indices for snake seeding\n",
        "#     sequence_length = 2 * bracket_count\n",
        "#     reps = len(list_of_teams) / sequence_length\n",
        "#     sequence = []\n",
        "#     for i in range(0, int(sequence_length/2)):\n",
        "#         for j in range(0, int(reps)):\n",
        "#             sequence.append(i+j*sequence_length)\n",
        "#             sequence.append((sequence_length-1-i)+j*sequence_length)\n",
        "\n",
        "#     # quits program if odd number of teams in list_of_teams\n",
        "#     if (len(list_of_teams)) % 2 == 1:\n",
        "#         print('ODD NUMBER OF TEAMS DETECTED')\n",
        "#         sys.exit()\n",
        "\n",
        "#     # use sequence of indices to generate new list of teams\n",
        "#     newlist = (list_of_teams[index] for index in sequence)\n",
        "#     return newlist\n",
        "\n",
        "\n",
        "# def alternating_rows(doc, color):\n",
        "#     return doc.append(NoEscape(r'\\rowcolors{3}{white}{%s}' % color))\n",
        "\n",
        "\n",
        "# def duplicate_checker(alist):\n",
        "#     seen = set()\n",
        "#     for x in alist:\n",
        "#         if x in seen:\n",
        "#             return True\n",
        "#         seen.add(x)\n",
        "#     return False\n",
        "\n",
        "\n",
        "# def start_latex(filename_input, docname, title=True, fontsize=False):\n",
        "\n",
        "#     Path(\"./output/\").mkdir(parents=True, exist_ok=True)\n",
        "#     file_path = r'./output/'\n",
        "#     Path(file_path).mkdir(parents=True, exist_ok=True)\n",
        "#     filename = file_path + filename_input        \n",
        "    \n",
        "#     geometry_options = {\n",
        "#         \"includeheadfoot\": True\n",
        "#     }\n",
        "\n",
        "#     doc = Document(filename, geometry_options=geometry_options)\n",
        "\n",
        "#     # this changed font sizes, but it doesn't work so well\n",
        "#     if fontsize is True:\n",
        "#         doc = Document(filename_input, geometry_options=geometry_options,\n",
        "#                        font_size='')\n",
        "#         doc.append(Command('fontsize', arguments=['12', '12']))\n",
        "#         doc.append(Command('selectfont'))\n",
        "\n",
        "#     doc.preamble.append(Command('title', format_dict['tournament name']))\n",
        "#     doc.preamble.append(Command('author', format_dict['tournament location']))\n",
        "#     doc.preamble.append(Command('date', format_dict['tournament date']))\n",
        "    \n",
        "#     doc.packages.append(Package('qrcode'))  # add qrcode to packages\n",
        "#     doc.packages.append(Package('fancyhdr'))  # add qrcode to packages\n",
        "\n",
        "#     doc.append(NoEscape(r'\\newcolumntype{Y}{>{\\centering\\arraybackslash}X}'))\n",
        "\n",
        "#     # TODO vertically center docname text on page\n",
        "#     if title is True:\n",
        "#         doc.append(NoEscape(r'\\maketitle'))\n",
        "#         doc.append(VerticalSpace('48pt'))\n",
        "#         doc.append(NoEscape(r'\\begin{center}'))\n",
        "#         doc.append(HugeText(docname))\n",
        "#         doc.append(NoEscape(r'\\end{center}'))\n",
        "#         doc.append(NewPage())\n",
        "    \n",
        "#     doc.append(NoEscape(r'\\pagestyle{fancy}'))\n",
        "#     doc.append(NoEscape(r'\\fancyhf{}'))\n",
        "#     date = '{' + format_dict['tournament date'] + '}'\n",
        "#     name = '{' + format_dict['tournament name'] + '}'\n",
        "#     doc.append(NoEscape(fr'\\rhead{date}'))\n",
        "#     doc.append(NoEscape(fr'\\lhead{name}'))\n",
        "#     doc.append(NoEscape(r'\\rfoot{Created by Cornerstone.}'))\n",
        "        \n",
        "#     return doc\n",
        "\n",
        "\n",
        "# def close_latex(filename_input, doc_input):\n",
        "#     file_path = r'./output/'\n",
        "#     filename = file_path + filename_input\n",
        "#     doc_input.generate_tex()\n",
        "#     doc_input.generate_pdf()\n",
        "\n",
        "#     file = open(filename + '.tex')\n",
        "#     latex_string = file.read()\n",
        "#     bad_string = '\\\\usepackage{lastpage}%'\n",
        "#     good_string = '\\\\usepackage[table]{xcolor}%'\n",
        "#     # print(latex_string)\n",
        "#     latex_string = latex_string.replace(bad_string, good_string)\n",
        "\n",
        "#     # for visual debugging\n",
        "#     # print('\\n\\n', latex_string[0:700], '\\n\\n')\n",
        "\n",
        "#     with open(f'{filename}.tex', 'w') as f:\n",
        "#         f.write(latex_string)\n",
        "\n",
        "\n",
        "# # %% classes, mostly not in use\n",
        "# # TODO figure out class inheritance for team/prelim_team/playoff_team\n",
        "# class team:\n",
        "#     def __init__(self,\n",
        "#                  name,\n",
        "#                  code):\n",
        "#         self.name = name\n",
        "#         self.code = code\n",
        "\n",
        "\n",
        "# class prelim_team(team):\n",
        "#     def __init__(self,\n",
        "#                  name,\n",
        "#                  code,\n",
        "#                  prelim_group,\n",
        "#                  prelim_seed):\n",
        "#         super().__init__(name, code)\n",
        "#         self.prelim_group = prelim_group\n",
        "#         self.prelim_seed = prelim_seed\n",
        "\n",
        "\n",
        "# class playoff_team():\n",
        "#     def __init__(self,\n",
        "#                  name,\n",
        "#                  code,\n",
        "#                  prelim_group,\n",
        "#                  playoff_bracket,\n",
        "#                  playoff_seed):  # playoff seed also the prelim finish\n",
        "#         self.name = name\n",
        "#         self.code = code\n",
        "#         self.prelim_group = prelim_group\n",
        "#         self.playoff_bracket = playoff_bracket\n",
        "#         self.playoff_seed = playoff_seed\n",
        "\n",
        "# # %% more function definitions\n",
        "\n",
        "\n",
        "# def header_stringify(teamcount, tabularx=False):\n",
        "#     \"\"\"\n",
        "\n",
        "#     Parameters\n",
        "#     ----------\n",
        "#     teamcount : int\n",
        "#         Number of teams in the round robin.\n",
        "#     tabularx : bool, optional\n",
        "#         Changes header string to account for newcolumntype Y, used in tabularx.\n",
        "#         The default is False.\n",
        "\n",
        "#     Returns\n",
        "#     -------\n",
        "#     A string for pylatex to use when defining the table.\n",
        "#     Example: '|l|cc|cc|cc|cc|'\n",
        "\n",
        "#     If tabularx is set to True, returns a string that utilizes newcolumntype Y.\n",
        "#     Example: '|l|Y|Y|Y|Y|Y|Y|'\n",
        "\n",
        "#     \"\"\"\n",
        "\n",
        "#     roomcount = teamcount // 2\n",
        "\n",
        "#     header_string = '|l' + ('|cc' * roomcount + '|')\n",
        "#     if teamcount % 2 == 1:\n",
        "#         header_string = header_string + 'c|'\n",
        "\n",
        "#     if tabularx is True:\n",
        "#         header_string = '|l' + ('|Y' * teamcount + '|')\n",
        "\n",
        "#     return header_string\n",
        "\n",
        "\n",
        "# # %% prints runtime\n",
        "# print('end time: %s' % time.ctime())\n",
        "# print(\"--- %s seconds ---\" % '%.3f' % (time.time() - start_time))\n",
        "# print(\"--- %s minutes ---\" % '%.3f' % (time.time()/60 - start_time/60))"
      ],
      "metadata": {
        "id": "83PLhfS0ArVn"
      },
      "execution_count": 14,
      "outputs": []
    },
    {
      "cell_type": "markdown",
      "source": [
        "# Standard Scheduler Function\n",
        "\n",
        "Created on Mon Nov 22 2021\n",
        "\n",
        "Definition of functions used for creating a table for a round robin schedule,\n",
        "between 4 and 14 teams.\n",
        "\n",
        "TODO if possible, fix pylatex table lines and shading in this function"
      ],
      "metadata": {
        "id": "GEJoeZNfdPrN"
      }
    },
    {
      "cell_type": "markdown",
      "source": [
        "First: retrieve the round robin templates stored on the cornerstone github page. The templates will automatically populate a dictionary.\n",
        "\n",
        "Each key is the name of the sheet corresponding to the round robin template: rr_6 is a basic 6 team round robin, rr_12 is for 12 teams, rr_crossover_A8 is the 8 team playoff roundrobin including crossovers (there are two possible crossovers, A and B, based on [Dwight Wynne's spreadsheet of schedule formats](https://https://docs.google.com/spreadsheets/d/1BPF6jFvhkh5qe7eesGFGU9KH6FVps2tS3YeseFocpIE/edit#gid=16)).\n",
        "\n",
        "The dictionary values are the pandas dataframes for each template.\n",
        "\n",
        "These templates will be used in the standard scheduler function and retrieved based on the key name."
      ],
      "metadata": {
        "id": "Q__BsPTWAtPh"
      }
    },
    {
      "cell_type": "code",
      "source": [
        "url = \"https://github.com/victorprieto2265/cornerstone/blob/main/templates/rr_schedules/rr_templates.xlsx?raw=true\"\n",
        "rr_template_dict = pd.read_excel(url,\n",
        "                                 sheet_name = None)\n",
        "rr_template_dict.keys()"
      ],
      "metadata": {
        "id": "7FtnKegkiJUy",
        "collapsed": true,
        "colab": {
          "base_uri": "https://localhost:8080/"
        },
        "outputId": "f80303c8-8d8c-43df-c751-6583bcfaf9b4"
      },
      "execution_count": 48,
      "outputs": [
        {
          "output_type": "execute_result",
          "data": {
            "text/plain": [
              "dict_keys(['rr_3', 'rr_4', 'rr_4_2x', 'rr_4_3x', 'rr_5', 'rr_5_2x', 'rr_6', 'rr_6_2x', 'rr_7', 'rr_7_2x', 'rr_8', 'rr_8_2x', 'rr_9', 'rr_10', 'rr_11', 'rr_12', 'rr_13', 'rr_14', 'rr_crossover_B3', 'rr_crossover_A6', 'rr_crossover_B6', 'rr_crossover_B7', 'rr_crossover_A8', 'rr_crossover_B8'])"
            ]
          },
          "metadata": {},
          "execution_count": 48
        }
      ]
    },
    {
      "cell_type": "markdown",
      "source": [
        "Definition of the standard scheduler function is below."
      ],
      "metadata": {
        "id": "rLOCcNtEFpce"
      }
    },
    {
      "cell_type": "code",
      "source": [
        "def standard_schedule(group_name, teamcode_dict, room_dict, roundstart=1,\n",
        "                      multiple_rr=1, crossover=False, superplayoff=False):\n",
        "    \"\"\"\n",
        "\n",
        "\n",
        "    Parameters\n",
        "    ----------\n",
        "    groupname : string\n",
        "        String of the prelim group or playoff bracket name.\n",
        "        Example: Lilongwe\n",
        "    teamcode_dict : dict\n",
        "        k : v = a group/bracket code : teamcode corresponding to that code\n",
        "        example: Lilongwe4 = MBA\n",
        "    room_dict : dict\n",
        "        k : v = a group/bracket code : room corresponding to that code\n",
        "        example: Lilongwe2 = Suite 1132\n",
        "    roundstart : int, optional\n",
        "        Number for the first round in the schedule. The default is 1.\n",
        "\n",
        "    Returns\n",
        "    -------\n",
        "    schedule_grid : list\n",
        "        Latex-friendly table. First row = table header, remaining rows =\n",
        "        schedule for each round.\n",
        "\n",
        "    \"\"\"\n",
        "\n",
        "    # produce teamlist\n",
        "    teamlist = [k for k, v in list(teamcode_dict.items())\n",
        "                if k.startswith(group_name)]\n",
        "    sorted_list = sorted(teamlist)\n",
        "    teamlist = [teamcode_dict[i] for i in sorted_list]\n",
        "\n",
        "    # identify number of teams in teamlist and appropriate number of rooms\n",
        "    teamcount = len(teamlist)\n",
        "    roomcount = teamcount // 2\n",
        "\n",
        "    if len(teamlist) <= 2:\n",
        "      print('Unable to produce round robins smaller than 3.')\n",
        "      sys.exit()\n",
        "\n",
        "    if len(teamlist) >= 15:\n",
        "      print('Unable to produce round robins larger than 14.')\n",
        "      sys.exit()\n",
        "\n",
        "    # retrieve correct rr_template from rr_template_dict\n",
        "    if multiple_rr >= 2:\n",
        "      key = f'rr_{teamcount}_{multiple_rr}x'\n",
        "    elif crossover is False:\n",
        "      key = f'rr_{teamcount}'\n",
        "    else:\n",
        "      key = f'rr_crossover_{crossover}{teamcount}'\n",
        "\n",
        "    try:\n",
        "      rr_schedule = rr_template_dict[key].values.tolist()\n",
        "    except KeyError:\n",
        "      print('Warning! Round robin template not found. Please check your '\n",
        "            + 'input and try again.')\n",
        "      sys.exit()\n",
        "    \n",
        "\n",
        "    # produce roomlist\n",
        "    roomlist = [k for k, v in list(room_dict.items())\n",
        "                if k.startswith(group_name)]\n",
        "    roomlist = [room_dict[i] for i in sorted(roomlist)]\n",
        "\n",
        "    # populate header with room names\n",
        "    rooms = []\n",
        "    header = ['']\n",
        "    for index in range(roomcount):\n",
        "        room = roomlist[index]\n",
        "        header.append(room)\n",
        "\n",
        "    # the last element in the header should be BYE if teamcount is odd\n",
        "    if teamcount % 2 == 1:\n",
        "        header.append('BYE')\n",
        "\n",
        "    # use rr_schedule template and roundstart to produce rest of schedule grid\n",
        "    schedule_grid = [header]\n",
        "    for round_num, row in enumerate(rr_schedule):\n",
        "        round_num += roundstart\n",
        "        new_row = [f'Round {round_num}']\n",
        "        for index in row:\n",
        "            code = group_name + str(index)\n",
        "            team = teamcode_dict[code]\n",
        "            new_row.append(team)\n",
        "        schedule_grid.append(new_row)\n",
        "\n",
        "    return schedule_grid"
      ],
      "metadata": {
        "id": "wlG8swh1trsX"
      },
      "execution_count": 64,
      "outputs": []
    },
    {
      "cell_type": "markdown",
      "source": [
        "# Individual Schedule Functions "
      ],
      "metadata": {
        "id": "5n9ob-8odPkM"
      }
    },
    {
      "cell_type": "markdown",
      "source": [
        "This section contains the functions that extract individual team and room schedules from a schedule grid.\n",
        "\n",
        "Use get_team_list() and get_room_list() to generate a list of teams and a list of rooms from a schedule grid."
      ],
      "metadata": {
        "id": "wS0ljqoELnJq"
      }
    },
    {
      "cell_type": "code",
      "source": [
        "def get_team_list(schedule_grid):\n",
        "    team_list = sorted(schedule_grid[1][1:])\n",
        "    return team_list\n",
        "\n",
        "\n",
        "def get_room_list(schedule_grid):\n",
        "    # remove first element in header, which should be an empty string\n",
        "    header = schedule_grid[0][1:]\n",
        "    \n",
        "    # retrieve room list\n",
        "    room_list = [i for i in header]\n",
        "    if 'BYE' in header:\n",
        "        room_list[-1] = 'BYE'\n",
        "    return room_list"
      ],
      "metadata": {
        "id": "WPJyVdz1Ltml"
      },
      "execution_count": 18,
      "outputs": []
    },
    {
      "cell_type": "markdown",
      "source": [
        "For a given team in a given round, what team do they play and where? Use find_opponent().\n"
      ],
      "metadata": {
        "id": "a7OD0aUxL8W9"
      }
    },
    {
      "cell_type": "code",
      "source": [
        "def find_opponent(team, row, room_list, code_dict):\n",
        "    index = row.index(team)\n",
        "    room = room_list[index]\n",
        "    if row[-1] == team and room_list[-1] == 'BYE':\n",
        "        opponent = 'BYE'\n",
        "    elif index % 2 == 0:\n",
        "        opponent_code = row[index+1]\n",
        "        opponent = code_dict[opponent_code]\n",
        "    else:\n",
        "        opponent_code = row[index-1]\n",
        "        opponent = code_dict[opponent_code]\n",
        "    return room, opponent"
      ],
      "metadata": {
        "id": "KJH6zps2NyoC"
      },
      "execution_count": 19,
      "outputs": []
    },
    {
      "cell_type": "markdown",
      "source": [
        "what teams are in a room at a given round?"
      ],
      "metadata": {
        "id": "7UtVnnn7N2ei"
      }
    },
    {
      "cell_type": "code",
      "source": [
        "def find_teams(row, room, roomlist, code_dict):\n",
        "    index = roomlist.index(room)\n",
        "    teams = row[2*index:2*index+2]\n",
        "    teams = [*map(code_dict.get, teams)]\n",
        "    return sorted(teams)  # alphabetically sorts teams"
      ],
      "metadata": {
        "id": "BqybAya0N24c"
      },
      "execution_count": 20,
      "outputs": []
    },
    {
      "cell_type": "markdown",
      "source": [
        "The clean_up_grid function is sometimes used to remove the header row (room list) and the round number column on the left."
      ],
      "metadata": {
        "id": "uU0U0j32OBUN"
      }
    },
    {
      "cell_type": "code",
      "source": [
        "def clean_up_grid(schedule_grid):\n",
        "    no_header = schedule_grid[1:]\n",
        "    basic_schedule_grid = []\n",
        "    for index, row in enumerate(no_header):\n",
        "        basic_schedule_grid.append(row[1:])\n",
        "\n",
        "    return basic_schedule_grid"
      ],
      "metadata": {
        "id": "kBKx4V4WN98S"
      },
      "execution_count": 21,
      "outputs": []
    },
    {
      "cell_type": "markdown",
      "source": [
        "The specific_team_scheduler function is the key for generating a schedule grid for a single team."
      ],
      "metadata": {
        "id": "cNyCExgmOLlu"
      }
    },
    {
      "cell_type": "code",
      "source": [
        "def specific_team_scheduler(team, schedule_grid, room_list, code_dict,\n",
        "                            round_start=1):\n",
        "    \n",
        "    # generate room_list with duplicated values\n",
        "    # need this for finding an opponent at a particular index\n",
        "    dup_room_list = [room for room in room_list for _ in (0, 1)]\n",
        "\n",
        "    # how many rounds in the grid?\n",
        "    rounds = len(schedule_grid)\n",
        "\n",
        "    specific_grid = [['', 'Room Name', 'Opponent']]\n",
        "    for i in range(0, rounds):\n",
        "        room, opponent = find_opponent(team,\n",
        "                                       schedule_grid[i],\n",
        "                                       dup_room_list,\n",
        "                                       code_dict)\n",
        "\n",
        "        specific_grid.append([f'Round {round_start+i}', room, opponent])\n",
        "\n",
        "    return specific_grid"
      ],
      "metadata": {
        "id": "Ap0lkVL1OOKM"
      },
      "execution_count": 22,
      "outputs": []
    },
    {
      "cell_type": "markdown",
      "source": [
        "Like specific_team_scheduler(), specific_room_scheduler is the key for generating the schedule for an individual room."
      ],
      "metadata": {
        "id": "kD6q752_O-jC"
      }
    },
    {
      "cell_type": "code",
      "source": [
        "def specific_room_scheduler(room, schedule_grid, room_list,\n",
        "                            code_dict, round_start=1):\n",
        "\n",
        "    specific_grid = [['', 'Team 1', 'Team 2']]\n",
        "    for index, row in enumerate(basic_schedule_grid):\n",
        "        teams = find_teams(row, room, room_list, code_dict)\n",
        "        if room == 'BYE':\n",
        "            return 'BYE'\n",
        "        specific_grid.append([f'Round {round_start+index}',\n",
        "                              teams[0], teams[1]])\n",
        "\n",
        "    return specific_grid"
      ],
      "metadata": {
        "id": "xfuyEiYnPG1p"
      },
      "execution_count": 23,
      "outputs": []
    },
    {
      "cell_type": "markdown",
      "source": [
        "# Prelim Scheduler\n",
        "\n",
        "This section reads the list of prelim teams and information from the tournament format dictionary to produce a set of prelim schedules."
      ],
      "metadata": {
        "id": "K4OmpZngcsFP"
      }
    },
    {
      "cell_type": "markdown",
      "source": [
        "A series of lists and dictionaries are created here, which will be useful at various points throughout the program:\n",
        "* prelim_group_names: a list of prelim group names\n",
        "* prelim_team_dict: a dictionary where every prelim group and seed is matched up with a group name + seed\n",
        "* prelim_teamcode_dict: identical, but a teamcode instead of a full team name\n",
        "* team_group_dict: same as prelim_team_dict, but the key/value pairs are swapped\n",
        "* teamcode_group_dict: again, identical but with a teamcode instead of full team name\n",
        "* prelim_room_dict: matches a prelim group and room assignment (e.g. group 2, room 3) with an actual room name"
      ],
      "metadata": {
        "id": "Is1C6X6cAbNi"
      }
    },
    {
      "cell_type": "code",
      "source": [
        "prelim_group_names = [sublist[1] for sublist in list_of_teams]\n",
        "prelim_group_names = remove_duplicates(prelim_group_names)\n",
        "\n",
        "# key is a prelim group name and a seed (i.e. Belmopan6)\n",
        "# value is the corresponding team (i.e. Great Valley A for Belmopan6)\n",
        "# also created a dictionary where values are team codes (i.e. GVA)\n",
        "prelim_team_dict = {}\n",
        "prelim_teamcode_dict = {}\n",
        "team_group_dict = {}\n",
        "teamcode_group_dict = {}\n",
        "for i in list_of_teams:\n",
        "    # key = i[2] + str(i[3])\n",
        "    key = i[1] + str(i[2])\n",
        "    value = i[0]  # team name\n",
        "    prelim_team_dict[key] = value\n",
        "    # also created dictionary where k/v pairs are swapped\n",
        "    team_group_dict[value] = key\n",
        "    # value = i[1]  # team code\n",
        "    value = team_code_dict[value]\n",
        "    prelim_teamcode_dict[key] = value\n",
        "    # also created dictionary where k/v pairs are swapped\n",
        "    teamcode_group_dict[value] = key\n",
        "\n",
        "# key is prelim group and a number (i.e. Accra1)\n",
        "# value is corresponding room (i.e. Grand Ballroom A is Accra1)\n",
        "# also created dictionary where key is a playoff bracket instead\n",
        "prelim_room_dict = {}\n",
        "for i in room_assignments:\n",
        "    key = i[1] + str(i[2])\n",
        "    value = i[0]\n",
        "    prelim_room_dict[key] = value"
      ],
      "metadata": {
        "id": "yqDIBPxpAXbJ"
      },
      "execution_count": 24,
      "outputs": []
    },
    {
      "cell_type": "markdown",
      "source": [
        "Using standard_schedule, a schedule grid is created for each group in order, and assembled into **full_schedule_grid**."
      ],
      "metadata": {
        "id": "rAozDnfXAiC6"
      }
    },
    {
      "cell_type": "code",
      "source": [
        "full_schedule_grid = []\n",
        "multiple_rr = format_dict['repeat round robin']\n",
        "\n",
        "# perform this process for each prelim group, add to full_schedule_grid\n",
        "for group_name in prelim_group_names:\n",
        "    schedule_grid = (standard_schedule(group_name,\n",
        "                                       prelim_teamcode_dict,\n",
        "                                       prelim_room_dict,\n",
        "                                       multiple_rr=multiple_rr))\n",
        "    full_schedule_grid.append(schedule_grid)"
      ],
      "metadata": {
        "id": "9Q-DolBuAaJZ"
      },
      "execution_count": 65,
      "outputs": []
    },
    {
      "cell_type": "markdown",
      "source": [
        "To make sure the full_schedule_grid was populated correctly, we'll print it out line by line."
      ],
      "metadata": {
        "id": "2yJI1x6PBUjr"
      }
    },
    {
      "cell_type": "code",
      "source": [
        "# for visual debugging\n",
        "for index, prelim_group in enumerate(prelim_group_names):\n",
        "    print(f'\\nPrelim Group: {prelim_group}')\n",
        "    print(*full_schedule_grid[index], sep='\\n')"
      ],
      "metadata": {
        "id": "Ozt12wMnBT2A",
        "collapsed": true,
        "colab": {
          "base_uri": "https://localhost:8080/"
        },
        "outputId": "8fcea51c-e3e5-42b8-aabf-ebff39806578"
      },
      "execution_count": 66,
      "outputs": [
        {
          "output_type": "stream",
          "name": "stdout",
          "text": [
            "\n",
            "Prelim Group: none\n",
            "['', 'Room 1', 'Room 2', 'Room 3', 'Room 4']\n",
            "['Round 1', 'NYUB', 'T7', 'PRIN', 'COLA', 'NYUA', 'T8', 'YALE', 'JOHN']\n",
            "['Round 2', 'NYUA', 'JOHN', 'YALE', 'COLA', 'PRIN', 'T7', 'NYUB', 'T8']\n",
            "['Round 3', 'PRIN', 'T8', 'NYUA', 'T7', 'JOHN', 'COLA', 'YALE', 'NYUB']\n",
            "['Round 4', 'COLA', 'T7', 'YALE', 'T8', 'JOHN', 'NYUB', 'NYUA', 'PRIN']\n",
            "['Round 5', 'PRIN', 'NYUB', 'JOHN', 'T8', 'YALE', 'T7', 'NYUA', 'COLA']\n",
            "['Round 6', 'COLA', 'T8', 'NYUA', 'NYUB', 'YALE', 'PRIN', 'JOHN', 'T7']\n",
            "['Round 7', 'YALE', 'NYUA', 'PRIN', 'JOHN', 'NYUB', 'COLA', 'T7', 'T8']\n",
            "['Round 8', 'T8', 'YALE', 'NYUB', 'T7', 'PRIN', 'COLA', 'NYUA', 'JOHN']\n",
            "['Round 9', 'T7', 'NYUB', 'NYUA', 'JOHN', 'YALE', 'COLA', 'PRIN', 'T8']\n",
            "['Round 10', 'COLA', 'YALE', 'PRIN', 'T8', 'NYUA', 'T7', 'JOHN', 'NYUB']\n",
            "['Round 11', 'NYUB', 'NYUA', 'COLA', 'T7', 'YALE', 'T8', 'JOHN', 'PRIN']\n",
            "['Round 12', 'T7', 'NYUA', 'PRIN', 'NYUB', 'JOHN', 'T8', 'YALE', 'COLA']\n",
            "['Round 13', 'PRIN', 'JOHN', 'COLA', 'T8', 'NYUA', 'NYUB', 'YALE', 'T7']\n",
            "['Round 14', 'COLA', 'T7', 'YALE', 'NYUA', 'PRIN', 'JOHN', 'NYUB', 'T8']\n"
          ]
        }
      ]
    },
    {
      "cell_type": "markdown",
      "source": [
        "# Class Definitions for fpdf2"
      ],
      "metadata": {
        "id": "A5Qp8Ae2cA7Z"
      }
    },
    {
      "cell_type": "markdown",
      "source": [
        "There are five types of tables that Cornerstone will need to generate:\n",
        "*  the full schedule\n",
        "*  the individualized team schedule\n",
        "*  the individualized room schedule\n",
        "*  the team index (includes toggle for prelims/playoffs/superplayoffs)\n",
        "*  the playoff quickstart schedule (first playoff room for all teams)\n",
        "\n",
        "The last one will not be needed for the prelim writer, but will be necessary for playoffs (and superplayoffs if needed).\n",
        "\n",
        "For all of these tables, we will create a unique class via fpdf2 for writing the table onto a PDF. These five classes are at the bottom of this section. First, we will define a few templates used across the printed documents:\n",
        "\n",
        "*  the title page\n",
        "*  the header\n",
        "*  the footer\n"
      ],
      "metadata": {
        "id": "6_mFRVFAcFY9"
      }
    },
    {
      "cell_type": "markdown",
      "source": [
        "First is the title page to start each document. A nice touch, albeit not 100% necessary and may add a toggle for this later.\n",
        "\n",
        "Important: this is the first instance of the PDF class. Therefore, the argument is FPDF, while all other later class instances have PDF instead to build on the existing class."
      ],
      "metadata": {
        "id": "580yHo0SklgX"
      }
    },
    {
      "cell_type": "code",
      "source": [
        "class PDF(FPDF):\n",
        "\n",
        "    def title_page(self, tournament_name, tournament_location, tournament_date,\n",
        "                   document_title):\n",
        "                \n",
        "        # Setting font: bold times 11, black\n",
        "        self.set_text_color(0)\n",
        "\n",
        "        # move cursor 6.2 cm down the page\n",
        "        self.set_y(62)\n",
        "\n",
        "        # write the tournament name, location, and date\n",
        "        self.set_font(\"times\", size=16)\n",
        "        self.cell(0, None, tournament_name, align=\"C\",\n",
        "                  new_x=\"LEFT\", new_y=\"NEXT\")\n",
        "        self.ln(10)  # line break\n",
        "\n",
        "        self.set_font(\"times\", size=12)\n",
        "        self.cell(0, None, tournament_location, align=\"C\")\n",
        "        self.ln(10)  # line break\n",
        "        self.cell(0, None, tournament_date, align=\"C\")\n",
        "        self.ln(45)  # line break\n",
        "\n",
        "        self.set_font(\"times\", size=24)\n",
        "        self.cell(0, None, document_title, align=\"C\")"
      ],
      "metadata": {
        "id": "N2BgXfyLkzy7"
      },
      "execution_count": 27,
      "outputs": []
    },
    {
      "cell_type": "code",
      "source": [
        "class PDF(PDF):\n",
        "\n",
        "    def page_header(self, tournament_name, tournament_date):\n",
        "                \n",
        "        # Setting font: bold times 11\n",
        "        font_size = 11\n",
        "        self.set_font(\"times\", style=\"I\", size=font_size)\n",
        "\n",
        "        # Print tournament name in upper left:\n",
        "        self.cell(None, 2, tournament_name, new_x=\"LEFT\")\n",
        "\n",
        "        # Create empty cell with bottom border (can modify for centered text)\n",
        "        self.cell(0, None, \" \", \"B\", align=\"C\")\n",
        "\n",
        "        # Print tournament date in upper right\n",
        "        self.cell(0, 2, tournament_date, align=\"R\")\n",
        "\n",
        "        # Performing a line break:\n",
        "        self.ln(20)\n",
        "\n",
        "    def page_footer(self):\n",
        "        \n",
        "        # # putting in a logo:\n",
        "        # self.image(\"../docs/fpdf2-logo.png\", 10, 8, 33)\n",
        "        \n",
        "        # Position cursor at left and 26.04 cm from bottom:\n",
        "        # self.set_y(0, 260.4)\n",
        "        self.set_y(-27)\n",
        "\n",
        "        # Setting font: times italic 11\n",
        "        font_size = 11\n",
        "        self.set_text_color(0)\n",
        "        self.set_font(\"times\", style=\"I\", size=font_size)\n",
        "        \n",
        "        # Print footer text:\n",
        "        self.cell(0, 6, \"Created by Cornerstone\", border=\"B\", align=\"R\")\n"
      ],
      "metadata": {
        "id": "m_slBLE2dOK0"
      },
      "execution_count": 28,
      "outputs": []
    },
    {
      "cell_type": "markdown",
      "source": [
        "## Prelims - Complete Schedule"
      ],
      "metadata": {
        "id": "T3jjXFPX1gTK"
      }
    },
    {
      "cell_type": "markdown",
      "source": [
        "This class generates the tables used for the full schedule."
      ],
      "metadata": {
        "id": "uX138nHO9JVN"
      }
    },
    {
      "cell_type": "code",
      "source": [
        "class PDF(PDF):\n",
        "\n",
        "    def full_schedule(self, header, rows,\n",
        "                      header_color=(135, 135, 135), row_color=(210, 210, 210)):\n",
        "      \n",
        "      header_count = len(header)\n",
        "      if header[-1] == 'BYE':\n",
        "        cell_count = header_count * 2 - 2\n",
        "      else:\n",
        "        cell_count = header_count * 2 - 1\n",
        "      col_width = pdf.epw / cell_count  # distribute columns evenly\n",
        "\n",
        "      header_widths = [col_width * 2] * (header_count - 2)  # populate list with col widths\n",
        "      header_widths.insert(0, col_width)\n",
        "      header_widths.append(col_width)\n",
        "\n",
        "      cell_widths = [col_width] * cell_count\n",
        "\n",
        "      self.set_fill_color(*header_color)  # * required to unpack tuple\n",
        "      self.set_text_color(255)\n",
        "      self.set_draw_color(36, 36, 36)\n",
        "      self.set_line_width(0.3)\n",
        "      self.set_font(style=\"B\")\n",
        "      for col_width, heading in zip(header_widths, header):\n",
        "          self.cell(col_width, 7, heading, border=1, align=\"C\", fill=True)\n",
        "      self.ln()\n",
        "\n",
        "      # Color and font restoration:\n",
        "      self.set_fill_color(*row_color)  # * required to unpack tuple\n",
        "      self.set_text_color(0)\n",
        "      self.set_font()\n",
        "      fill = False\n",
        "      for row in rows:\n",
        "        for index, item in enumerate(row):          \n",
        "          if index == 0:\n",
        "            self.set_font(style=\"B\")\n",
        "          else:\n",
        "            self.set_font()\n",
        "          self.cell(cell_widths[index],\n",
        "                    7,\n",
        "                    item,\n",
        "                    border=\"LR\",\n",
        "                    align=\"C\",\n",
        "                    fill=fill)\n",
        "        self.ln()\n",
        "        fill = not fill\n",
        "\n",
        "      self.set_fill_color(*header_color)  # * required to unpack tuple\n",
        "      self.set_text_color(255)\n",
        "      self.set_draw_color(36, 36, 36)\n",
        "      self.set_line_width(0.3)\n",
        "      self.set_font(style=\"B\")\n",
        "      for col_width, heading in zip(header_widths, header):\n",
        "          self.cell(col_width, 7, heading, border=1, align=\"C\", fill=True)\n",
        "\n",
        "      self.ln(14)"
      ],
      "metadata": {
        "id": "2sXgrSqj4QQz"
      },
      "execution_count": 45,
      "outputs": []
    },
    {
      "cell_type": "markdown",
      "source": [
        "## Prelims - Individual Schedule"
      ],
      "metadata": {
        "id": "Lsvgg3XgLlT9"
      }
    },
    {
      "cell_type": "markdown",
      "source": [
        "This class is used to generate the tables for individual team and room schedules, which are nearly identical except the room schedules will have a confirmation box for team scores and signatures."
      ],
      "metadata": {
        "id": "wvG1_G3o8wDb"
      }
    },
    {
      "cell_type": "code",
      "source": [
        "class PDF(PDF):\n",
        "\n",
        "    def individual_schedule(self, header, rows, signature=False,\n",
        "                      header_color=(135, 135, 135), row_color=(210, 210, 210)):\n",
        "\n",
        "      # start table at 15.45, draw cells 33 + 66 + 66 for each column\n",
        "      # right margin will also be 15.45\n",
        "\n",
        "      self.set_x(25.45)\n",
        "      cell_widths = [33, 66, 66]\n",
        "\n",
        "      self.set_fill_color(*header_color)  # * required to unpack tuple\n",
        "      self.set_text_color(255)\n",
        "      self.set_draw_color(36, 36, 36)\n",
        "      self.set_line_width(0.3)\n",
        "      self.set_font(style=\"B\")\n",
        "      for cell_width, heading in zip(cell_widths, header):\n",
        "          self.cell(cell_width, 8, heading, border=1, align=\"C\", fill=True)\n",
        "      self.ln()\n",
        "      self.set_x(25.45)\n",
        "\n",
        "      # Color and font restoration:\n",
        "      self.set_fill_color(*row_color)  # * required to unpack tuple\n",
        "      self.set_text_color(0)\n",
        "      self.set_font()\n",
        "      fill = False\n",
        "      for row in rows:\n",
        "        for index, item in enumerate(row):          \n",
        "          if index == 0:\n",
        "            self.set_font(style=\"B\")\n",
        "          else:\n",
        "            self.set_font()\n",
        "          self.cell(cell_widths[index],\n",
        "                    8,\n",
        "                    item,\n",
        "                    border=\"LR\",\n",
        "                    align=\"C\",\n",
        "                    fill=fill)\n",
        "        fill = not fill  # I am pretty sure this is what alternates row colors!\n",
        "\n",
        "        self.ln()\n",
        "        self.set_x(25.45)\n",
        "\n",
        "        # RFE add row for team score + signature confirmation\n",
        "        if signature == True:\n",
        "          pass\n",
        "\n",
        "      self.set_fill_color(*header_color)  # * required to unpack tuple\n",
        "      self.set_text_color(255)\n",
        "      self.set_draw_color(36, 36, 36)\n",
        "      self.set_line_width(0.3)\n",
        "      self.set_font(style=\"B\")\n",
        "      for cell_width, heading in zip(cell_widths, header):\n",
        "          self.cell(cell_width, 8, heading, border=1, align=\"C\", fill=True)\n",
        "\n",
        "      self.ln(14)"
      ],
      "metadata": {
        "id": "HEELLKhcL8_O"
      },
      "execution_count": 30,
      "outputs": []
    },
    {
      "cell_type": "markdown",
      "source": [
        "# Prelim PDF Writer"
      ],
      "metadata": {
        "id": "-G75IfqqdJTn"
      }
    },
    {
      "cell_type": "markdown",
      "source": [
        "First to generate: full prelim schedule for all teams, all rooms."
      ],
      "metadata": {
        "id": "dpuJ3YH8Px9l"
      }
    },
    {
      "cell_type": "code",
      "source": [
        "pdf = PDF(format=\"letter\")  # default is A4, need to specify US letter\n",
        "\n",
        "# title page\n",
        "pdf.add_page()\n",
        "\n",
        "pdf.title_page(format_dict['tournament name'],\n",
        "               format_dict['tournament location'],\n",
        "               format_dict['tournament date'],\n",
        "               \"Prelims - Complete Schedule\")\n",
        "\n",
        "# full schedule page\n",
        "pdf.add_page()\n",
        "\n",
        "pdf.page_header(format_dict['tournament name'],\n",
        "                format_dict['tournament date'])\n",
        "\n",
        "for index, grid in enumerate(full_schedule_grid):\n",
        "  \n",
        "  header = grid[0]\n",
        "  schedule = grid[1:]\n",
        "  pdf.full_schedule(header, schedule)\n",
        "\n",
        "pdf.page_footer()\n",
        "\n",
        "pdf.output(\"full_prelim_schedule.pdf\")\n",
        "pdf_bytes = pdf.output()\n",
        "full_prelim_schedule = b64encode(pdf_bytes).decode(\"utf-8\")"
      ],
      "metadata": {
        "id": "wqJPg3lP4pq8"
      },
      "execution_count": 46,
      "outputs": []
    },
    {
      "cell_type": "markdown",
      "source": [
        "Next, we'll generate the individualized team schedules."
      ],
      "metadata": {
        "id": "Xpwa3vsEQC4E"
      }
    },
    {
      "cell_type": "code",
      "source": [
        "pdf = PDF(format=\"letter\")  # default is A4, need to specify US letter\n",
        "\n",
        "# title page\n",
        "pdf.add_page()\n",
        "\n",
        "pdf.title_page(format_dict['tournament name'],\n",
        "               format_dict['tournament location'],\n",
        "               format_dict['tournament date'],\n",
        "               \"Prelims - Individual Team Schedules\")\n",
        "\n",
        "# sort list of teams alphabetically, so documents easier to distribute\n",
        "list_of_teams = sorted(list_of_teams, key=lambda x: (x[0]))\n",
        "\n",
        "for team in list_of_teams:\n",
        "\n",
        "  # iterate through schedule grids. Is the team in that grid?\n",
        "  for index, schedule_grid in enumerate(full_schedule_grid):\n",
        "\n",
        "    team_name = team[0]  # full team name \n",
        "    team_code = team_code_dict[team_name]  # 3-letter team code\n",
        "    team_list = get_team_list(schedule_grid)  # list of teams in grid\n",
        "\n",
        "    if team_code in team_list:\n",
        "      group = team[1]  # prelim group name\n",
        "      room_list = get_room_list(schedule_grid)\n",
        "      basic_schedule_grid = clean_up_grid(schedule_grid)\n",
        "      \n",
        "      # create page and add header\n",
        "      pdf.add_page()\n",
        "      pdf.page_header(format_dict['tournament name'],\n",
        "                      format_dict['tournament date'])\n",
        "      \n",
        "      # add team name, a line break, and prelim group name\n",
        "      pdf.set_font(\"times\", size=24)\n",
        "      pdf.cell(w=0, h=None, txt=f'Prelim Schedule - {team_name}',\n",
        "                align=\"C\", new_x=\"LEFT\", new_y=\"NEXT\")\n",
        "      \n",
        "      # skip the prelim group name if only one prelim group\n",
        "      if single_prelim_group == True:   \n",
        "        pdf.ln(5)\n",
        "        pdf.set_font(\"times\", size=17)\n",
        "        pdf.cell(w=0, h=None, txt=f'Group - {group}',\n",
        "                  align=\"C\", new_x=\"LEFT\", new_y=\"NEXT\")\n",
        "        pdf.ln(10)\n",
        "      else:\n",
        "        pdf.ln(15)\n",
        "\n",
        "      grid = specific_team_scheduler(team_code,\n",
        "                                     basic_schedule_grid,\n",
        "                                     room_list,\n",
        "                                     code_team_dict)\n",
        "\n",
        "      header = grid[0]\n",
        "      schedule = grid[1:]\n",
        "      pdf.individual_schedule(header, schedule)\n",
        "\n",
        "      if text_toggle is True:\n",
        "\n",
        "        # todo: figure out latin-1 encoding issue\n",
        "        text = texts[0]\n",
        "        text = text.encode('latin-1', 'ignore').decode('latin-1')\n",
        "\n",
        "        pdf.set_x(25.45)\n",
        "        font_size = 14\n",
        "        pdf.set_font(\"times\", size=font_size)\n",
        "        pdf.set_text_color(0)\n",
        "        pdf.multi_cell(165, 6, text, new_x=\"LMARGIN\")\n",
        "\n",
        "      if qr_toggle is True:\n",
        "          qr_codes_1 = qr_codes[0:3]\n",
        "          qr_captions_1 = qr_captions[0:3]\n",
        "\n",
        "          qr_positions = [35, 93, 151]\n",
        "          for index, qr_code in enumerate(qr_codes_1):\n",
        "            img = qrcode.make(qr_code)\n",
        "            x_pos = qr_positions[index]\n",
        "            pdf.image(img.get_image(), x=x_pos, y=210, w=30, h=30)\n",
        "\n",
        "          for index, qr_caption in enumerate(qr_captions_1):\n",
        "            x_pos = qr_positions[index] - 5\n",
        "            pdf.set_xy(x_pos, 241)\n",
        "            pdf.cell(w=40, h=None, txt=qr_caption,\n",
        "                     align=\"C\")\n",
        "\n",
        "      pdf.page_footer()\n",
        "\n",
        "      break  # saves time by ending search for team name in other schedule grids\n",
        "\n",
        "pdf.output(\"prelim_individual_team_schedules.pdf\")\n",
        "pdf_bytes = pdf.output()\n",
        "prelim_individual_team_schedules = b64encode(pdf_bytes).decode(\"utf-8\")"
      ],
      "metadata": {
        "id": "k_zGqv3NQDPU"
      },
      "execution_count": 32,
      "outputs": []
    },
    {
      "cell_type": "markdown",
      "source": [
        "We'll do the same individual schedules, but for rooms instead of teams."
      ],
      "metadata": {
        "id": "aFFPYMqzMhCC"
      }
    },
    {
      "cell_type": "code",
      "source": [
        "pdf = PDF(format=\"letter\")  # default is A4, need to specify US letter\n",
        "\n",
        "# title page\n",
        "pdf.add_page()\n",
        "\n",
        "pdf.title_page(format_dict['tournament name'],\n",
        "               format_dict['tournament location'],\n",
        "               format_dict['tournament date'],\n",
        "               \"Prelims - Individual Room Schedules\")\n",
        "\n",
        "for index, schedule_grid in enumerate(full_schedule_grid):\n",
        "\n",
        "  group = prelim_group_names[index]\n",
        "  room_list = get_room_list(schedule_grid)\n",
        "  basic_schedule_grid = clean_up_grid(schedule_grid)\n",
        "\n",
        "  # iterate for each room in room_list\n",
        "  for room in room_list:\n",
        "    if room == 'BYE':\n",
        "      continue\n",
        "  \n",
        "    # create page and add header\n",
        "    pdf.add_page()\n",
        "    pdf.page_header(format_dict['tournament name'],\n",
        "                    format_dict['tournament date'])\n",
        "\n",
        "    # add team name, a line break, and prelim group name\n",
        "    pdf.set_font(\"times\", size=24)\n",
        "    pdf.cell(w=0, h=None, txt=f'Prelim Schedule - {room}',\n",
        "              align=\"C\", new_x=\"LEFT\", new_y=\"NEXT\")\n",
        "\n",
        "    # skip the prelim group name if only one prelim group\n",
        "    if single_prelim_group == True:       \n",
        "      pdf.ln(5)\n",
        "      pdf.set_font(\"times\", size=17)\n",
        "      pdf.cell(w=0, h=None, txt=f'Group - {group}',\n",
        "                align=\"C\", new_x=\"LEFT\", new_y=\"NEXT\")\n",
        "      pdf.ln(15)\n",
        "    else:\n",
        "      pdf.ln(20)\n",
        "\n",
        "    grid = specific_room_scheduler(room,\n",
        "                                   basic_schedule_grid,\n",
        "                                   room_list,\n",
        "                                   code_team_dict)\n",
        "\n",
        "    header = grid[0]\n",
        "    schedule = grid[1:]\n",
        "    pdf.individual_schedule(header, schedule)\n",
        "\n",
        "    if text_toggle is True:\n",
        "\n",
        "        # todo: figure out latin-1 encoding issue\n",
        "        text = texts[1]\n",
        "        text = text.encode('latin-1', 'ignore').decode('latin-1')\n",
        "\n",
        "        pdf.set_x(25.45)\n",
        "        font_size = 14\n",
        "        pdf.set_font(\"times\", size=font_size)\n",
        "        pdf.set_text_color(0)\n",
        "        pdf.multi_cell(165, 6, text, new_x=\"LMARGIN\")\n",
        "\n",
        "    if qr_toggle is True:\n",
        "        qr_codes_2 = qr_codes[3:6]\n",
        "        qr_captions_2 = qr_captions[3:6]\n",
        "\n",
        "        qr_positions = [35, 93, 151]\n",
        "        for index, qr_code in enumerate(qr_codes_2):\n",
        "          img = qrcode.make(qr_code)\n",
        "          x_pos = qr_positions[index]\n",
        "          pdf.image(img.get_image(), x=x_pos, y=210, w=30, h=30)\n",
        "\n",
        "        for index, qr_caption in enumerate(qr_captions_2):\n",
        "          x_pos = qr_positions[index] - 5\n",
        "          pdf.set_xy(x_pos, 241)\n",
        "          pdf.cell(w=40, h=None, txt=qr_caption,\n",
        "                    align=\"C\")\n",
        "\n",
        "    pdf.page_footer()\n",
        "\n",
        "pdf.output(\"prelim_individual_room_schedules.pdf\")\n",
        "pdf_bytes = pdf.output()\n",
        "prelim_individual_room_schedules = b64encode(pdf_bytes).decode(\"utf-8\")"
      ],
      "metadata": {
        "id": "PyNdY14VMlLL"
      },
      "execution_count": 33,
      "outputs": []
    },
    {
      "cell_type": "markdown",
      "source": [
        "## Download Prelim PDFs"
      ],
      "metadata": {
        "id": "ejmFTFC8LQVB"
      }
    },
    {
      "cell_type": "code",
      "source": [
        "# Diplay a download button:\n",
        "display(HTML(f'<a style=\"font-size: 30px\" download=\"full_prelim_schedule.pdf\" href=\"data:application/pdf;base64,{full_prelim_schedule}\">Click to download PDF of full schedule.</a>'))"
      ],
      "metadata": {
        "id": "EfFoOvgwS1Ir",
        "collapsed": true,
        "colab": {
          "base_uri": "https://localhost:8080/",
          "height": 54
        },
        "outputId": "e34b312d-08c7-40f3-c0c4-877f84b07bd2"
      },
      "execution_count": 34,
      "outputs": [
        {
          "output_type": "display_data",
          "data": {
            "text/plain": [
              "<IPython.core.display.HTML object>"
            ],
            "text/html": [
              "<a style=\"font-size: 30px\" download=\"full_prelim_schedule.pdf\" href=\"data:application/pdf;base64,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\">Click to download PDF of full schedule.</a>"
            ]
          },
          "metadata": {}
        }
      ]
    },
    {
      "cell_type": "code",
      "source": [
        "# Diplay a download button:\n",
        "display(HTML(f'<a style=\"font-size: 30px\" download=\"prelim_individual_team_schedules.pdf\" href=\"data:application/pdf;base64,{prelim_individual_team_schedules}\">Click to download PDF of individual team schedules.</a>'))"
      ],
      "metadata": {
        "collapsed": true,
        "id": "EsFqwdMJQDam",
        "colab": {
          "base_uri": "https://localhost:8080/",
          "height": 54
        },
        "outputId": "85c781d8-5cc7-47b5-ecf0-e33197116caf"
      },
      "execution_count": 35,
      "outputs": [
        {
          "output_type": "display_data",
          "data": {
            "text/plain": [
              "<IPython.core.display.HTML object>"
            ],
            "text/html": [
              "<a style=\"font-size: 30px\" download=\"prelim_individual_team_schedules.pdf\" href=\"data:application/pdf;base64,JVBERi0xLjMKMSAwIG9iago8PAovQ291bnQgOQovS2lkcyBbMyAwIFIKNSAwIFIKNyAwIFIKOSAwIFIKMTEgMCBSCjEzIDAgUgoxNSAwIFIKMTcgMCBSCjE5IDAgUl0KL01lZGlhQm94IFswIDAgNjEyLjAwIDc5Mi4wMF0KL1R5cGUgL1BhZ2VzCj4+CmVuZG9iagoyIDAgb2JqCjw8Ci9PcGVuQWN0aW9uIFszIDAgUiAvRml0SCBudWxsXQovUGFnZUxheW91dCAvT25lQ29sdW1uCi9QYWdlcyAxIDAgUgovVHlwZSAvQ2F0YWxvZwo+PgplbmRvYmoKMyAwIG9iago8PAovQ29udGVudHMgNCAwIFIKL1BhcmVudCAxIDAgUgovUmVzb3VyY2VzIDI3IDAgUgovVHlwZSAvUGFnZQo+PgplbmRvYmoKNCAwIG9iago8PAovRmlsdGVyIC9GbGF0ZURlY29kZQovTGVuZ3RoIDE4OAo+PgpzdHJlYW0KeJxdzcEOwUAYBOC7p5gjwW/33+5qb0JIOIjEOvRYumJpSbZKvL1oSHCdzHzDWLQE6SHurbHFYCYhDQkBu8fUviKWTEkEIxRFGjZHe9LtYoTJpajLrc+wOfubC5W/Pjqwx/eqgfgXMgnJGNowKdlAS3dHegmnHpbp15aNpDiCVooS0xRnbhvqLDzAugcWrP6eOPp5khyTYKjEUCwaYBVc4csKfczPub/5vM4KWJeVWO8OLq8LV33IJyvVROgKZW5kc3RyZWFtCmVuZG9iago1IDAgb2JqCjw8Ci9Db250ZW50cyA2IDAgUgovUGFyZW50IDEgMCBSCi9SZXNvdXJjZXMgMjcgMCBSCi9UeXBlIC9QYWdlCj4+CmVuZG9iago2IDAgb2JqCjw8Ci9GaWx0ZXIgL0ZsYXRlRGVjb2RlCi9MZW5ndGggMTIwNgo+PgpzdHJlYW0KeJytWMty2zYU3ecr7rKdOAheBMhu2tqtM/VM09SRF1nSEmSx4UOmqDju1/fyAQEwSYuLjj0jgTw49+AcgALI4eYNJZGGpzeXK3h/zYBLQimstvD7qr/EgbHgkmCExaAjTSIOqw38cPX2LfwCV1V+LO6zFO7K7JupD1nz/COs/mk78ZiICHtwoiIoIIpF+2Vo5/AZWlYqieJ4UZI46mjBdse7MokJ5X7Ra3NfH9P6GXh0AZxy4aEnxsFUQpQGFWuiVUfwqTZ5VsDn9c5sjrmBd6cRvGBiOmDiihIVg4oiwpKO6UNdHffYv6xKY/uiqTyREH7UD3idScYh/Lj9gNdx1EMIIij5CJojDBQXREpIBIkkvOO8FVEbuIS/EcJURFRiMQxHSZMAxOChdZkz2XHRvgCKv62qAj6mhVXe0QmMRuvzdJImJAno/trv0YWycWw4Mo7phx/oxLS7s6OntA2uGJqRjltJ7dyxQ7eAoe0haC8WR5FonHySCDEM/VhugDmpE5IeF/BbtyxiaI8VcMEJfSEB3edT1s+TRSIhsXKIoT0uJ5kgWvjlPtVZuTZNVb4Y87TnA+PLGbcNb58iwQUhmR/JCWDbDhFGolj7IHCR8GWRDPyj6bldICC01dk8kmgz8zXOZDav53y1MEQX6kiPFJTwQM+XNDfL8uzJToHhyHB6+IFZgG07RBiYiNsPF5hYGNg8f+iIc2ikwObhS8A8xFQe82Shvc7uUTnJFImpX+6m2pVwkz4vs7wnnF1C/e1TIowSqoJELMC2HSJMBGXyxEtELkyk539lCc0LCF11Lo8k2sh8jRgZm4psVs/5amGGLtORni5T5utZmRQz+HlZpD2fzUyiVBEHmVnA0PYQQWYSZ4XiXmbRwszm+UNTTiaNFQyRBBIwEjkVyTxZ6PDJ8XE5yXD3Jf1yH7/cwa+L/B7Y5pbQcPsUh5JEUz+OE8C2HSKMQ9N2L+PiUMviGPjnl9ArAkJLncUjiTYvX+PMEprXc75aGKALdKRnWEKenm4JxcuW0MB3ykzydnPvZ2YBtu0QYWYyJlx5memFmc3zh6Y4k0YKbCS+hJkfolfIQoed46NykuNhgfnl2iV06e+z/+8TxyDi1RPHgDl74pA8IlFy9sRxlm44cXh04xOHTV76Qxps1JIkMYgYn0fdlhhdQLtXTziBd9kB8L/ZGdjn6drsqnxjamjM9wa2Vd3f6A+NB3tozMpN9i3bHNM8+9dsOphJ1zvslBbEH19YHv215bmOu/J3B7M95rDPzNocoNoiNbIVaZNVJTQVNtf5cdNWRCEo82DW3a20Nj+B+b7HJgo4NGndQJMVBtJyMy8A9z39g5jheUx3AnJTPjS7tnLXvR1KfizXu4tASSsmw6O3Sb/iGf8CnnYG40F9tdlXWPo+XX+FdNuYer447qUU67LrCvjAOCIUJy/+9d+ShHBMkrF2rq0LeP8Hg9+qSShX3Y+Lj+VzWMlxmy0CrLDYQSvD9SZQgLbb7OuqPhaHiVHxBFOkHvIWZ8YUUEaaaO4B/0z3L2Zt+LLlEfo3J1FCIuFenPRN/9mAxko8osp249O9kcF82ulw/wxXVV1iUo17N4G1/gMuzw9KCmVuZHN0cmVhbQplbmRvYmoKNyAwIG9iago8PAovQ29udGVudHMgOCAwIFIKL1BhcmVudCAxIDAgUgovUmVzb3VyY2VzIDI3IDAgUgovVHlwZSAvUGFnZQo+PgplbmRvYmoKOCAwIG9iago8PAovRmlsdGVyIC9GbGF0ZURlY29kZQovTGVuZ3RoIDEyMDQKPj4Kc3RyZWFtCnictZhLc9s2FIX3/hV32U4cBC8SZDdt7daZeiZp6siLLGkJstjwoVJUHPfX9/IBAhBJiZuOPSPDvDr34HwgBYjD/RUlUQAvVzcreHfHgTFCKay28PsKrzDJOPgvD+/x/wGPJfgv1fPVP0DhGVBIMMIiUIHCS7DawA+3b97AL3BbZsf8KU3gsUi/6eqQ1q8/wupvbAV/4Zt5RESA7+IkDCCHIBLNH/04g8+DOpUk5HhBNs4beXBl+ioZR4Ry18SdfqqOSfUKPLgGTrmw72onz4BLO/lBiKmACAlhpIgKW6FPlc7SHD6vd3pzzDS8hftyV8B98jpSZGpCkYeUhBGEQUBY3Cq+r8rjHnWKstBWYy7neS6WpDhprTiWQcgFkRJiQQIJbzlvbFQabtrgWBiQMDY1DOdLY6+I9faZbLVo1wDtP5RlDh+TXLscBIJT6rKcpDGJPbk/93vMoajdJCKOa8N/wSQmUj43e0obhHk/DFTUWGpWlpm6KejHTkWPDmcRK1yakgjRT/1YbIBdAH9Z36RlKvrx2AEXnNATC5i+nIp+XiwQMYlCW9GPx+2koIR77b4kmT6Z7nTcvdjpYtv6lwcaeDdI5tIYCszYVvg0QtY8ISwNvoxGrz9amdsFBvxEbcIjiwaX6xFxsQlc834ud/P5WZ4jP5LFJJSun49fHuHXZUA7tYEYTk0Jj5gpMGNb4RMTUfNiiY0fxdPE5vX9SGxEIwcGiGsBgYgpIPNifr4271E7fDQTFbntzKfgssg7wdl7qLs8EGGU0NAjYgrM2Fb4RFhIeOwQkQuJdPpn7qF5A36qNuWRRYPM9TiHbNbP5W4+Q8t05Edy/Mxlrp/mHrpZBrRTM8QkGhWRR8wU9GOnwiMmcU2E3CEWLCQ2r+9HMkQ0dtAD8SwgED4FZF7Mz3fIe9xOYtARc9utdJJD9POixHu9uVuovzwACSVR1AUyFJixrfCBKNrsYyyQcBmQXn/+FjpjwA/VhjyyaIi5Hmd2DfN+LnfzEVqkIz8GqfXTIlULkXZ6AzPJm62+y8wUmLGt8JnJiPDQYaYWMpvX90OxIY0cGCSuhZmb6IyYn7BNfNROMtE81px2n6q0WOu6LP7PE0dv5OyJo6+5eOKQPCBBfPHEcVGuP3E4cuMTh6E/dSJUksQRiAh3Uu2WGFPAyFcvuIh36QHwt95p2GfJWu/KbKMrqPX3GrZl1V3ojo8Hc3xMi036Ld0ckyz9V2/aMp2sd/imJCcTJ9u+PeZr2nPcYTTtHw96e8xgn+q1PkC5RWlUy5M6LQuoSxyus+Om6YhG0OZBr9tLSaV/Av19j0M0cKiTqoY6zTUkxWbeAO59uscxw/OYag1kuniud03n9u3NVLJjsd5de04aMykexnXyVVeHa3jZacSD/iq9L7H1U7L+Csm21tV8c9xPhaxl1zZwC6OAUFy8+NP9FceEI0nGmrW2zuHdHwx+KydLedh+xLi1fK5WctxrC69WmFrz1QFuFAQaUGavfVdWx/wwMSseI0XqVD7gypgqlIEiijuFH5L9yar1v8Qx36sEMQmE/VqlG7rPBwxW4hFVNk+Jdp+KfJrl8PQKt2VVIKna+3biP++5HcYKZW5kc3RyZWFtCmVuZG9iago5IDAgb2JqCjw8Ci9Db250ZW50cyAxMCAwIFIKL1BhcmVudCAxIDAgUgovUmVzb3VyY2VzIDI3IDAgUgovVHlwZSAvUGFnZQo+PgplbmRvYmoKMTAgMCBvYmoKPDwKL0ZpbHRlciAvRmxhdGVEZWNvZGUKL0xlbmd0aCAxMjAyCj4+CnN0cmVhbQp4nLWYTXPbNhCG7/4Ve2wnDoIvEmQvbe3WmXomaerIhxxpCbLY8EOlqDjur++CJAjAJC1dOtYMBWP57ot9AAogh9sLSpIIni6uVvDuhgNjhFJYbeH3FfYwyTiEl7v3+P+IpxLCS/N48Q9QeAQUEoywBFSksAtWG/jh+s0b+AWu6+JYPuQZ3Ff5N90c8vb5R1j9jangL7yZJ0REeBcncQQlRIkwX4Z2AZ9HdSpJzLFDGudGHnyZIUqmCaHcN3GjH5pj1jwDjy6BUy7cXd3gGXDpBj8KMZUaX3GiiIo7oU+NLvISPq93enMsNLyFj1/u4deJHFMzcjymJE4gjiLC0k7ufVMf9yhS1ZV2GktFXobiMIoXqRXHMIi5IFJCKkgk4S3nxkaj4aqrGosjEqc2huFgaRoEscE+k50W7ROg/bu6LuFjVmofgkBqSp2WkzQlaSD3536PdahavxIJRwDhBSsxU+XXRk+p4VcOzUglxpKZVnboNmBoexEDOhxFqnBeSiLEMPRjtQF2AvxpfVstGzG0pw644IS+sIDVF3OlXxaLREqS2EUM7Wk6yWKSMD/dSmclJD+/GPF8xQe9l/NtG3aPQHBBSOYDGQNs20WEQGJmnhAOCD8PyKA/mZzbMwyERXVFnli0xHyPSIzNEFv2czpbiNAhnfjpkFLfz229q+A2ez6PaS84QsPRKRFAswG27SJCaCIxFwdt+jSeh7asH1bFVWniwDLxLSATPsdkWSwssSv5JJ1dRS5dt4rUmauo11tcRX33CIRRQuMAiA2wbRcRAkGXPPWAyDOB9PqvrKJlA2FRXZEnFi0x3yMSk3PEFv2czhYidEgnfiQTJsLz86nJq7Vu6+o8qL2ipSbRrEgCajZgaHsRATWJ8yLmHrXoTGrL+mFZxjJNHQxQAgtLUJbFwhqPNZ+mw30OUYmfzu4nzyr5ILi0jobukUgsiaI+kTHAtl1ESERRs6NxROLziAz6y+voFQNhVV2VJxYtMt/jwpNv2c/pbCFDx3TiR3LcwDLfj9lJX50HtFcbiUlu9vs+MRtg2y4iJCYTwmOPmDqT2LJ+WBJXookDC8S3sLA9eEUsrK+r9ySdFJTwIN2XrPhfDx2Dh1cPHUPMyUOH5BGJ0pOHjpNyw6HDk5seOiz4uROhkiRNQCQpibtdMVYBq716wh/2XX4A/LQ7DfsiW+tdXWx0A63+3sK2bvqO/vh4sMfHvNrk3/LNMSvyf/WmC9PZeoc3ZSWZOdkO6bG+Nj3H56JJf3/Q22MB+1yv9QHqLUqjWpm1eV1BW2NzXRw3JiMaQZsHve66skb/BPr7Hpto4NBmTQttXmrIqs2yAdz49A9ihkcy1RkodPXY7kzm7nYzlOJYrXeXgRNjJsfDuM6+6uZwCU87jXjQX6P3NaZ+yNZfIdu2ullOjpupmHXsugR+YBIRipMX//pvaUo4kmTMzLV1Ce/+YPBbPRvK4+7HxY/lS7GS415bBLHCxtpXB/h4E2hA2b32Td0cy8PMqHiKFKkXeYczYy5QRooo7gV+yPYvZm34Ese+V4lSEgn3WqVv+o8GLKzEU6o0G5vu1xX5mOnw8AzXdVMhqTZ4QfEfZE8dxAplbmRzdHJlYW0KZW5kb2JqCjExIDAgb2JqCjw8Ci9Db250ZW50cyAxMiAwIFIKL1BhcmVudCAxIDAgUgovUmVzb3VyY2VzIDI3IDAgUgovVHlwZSAvUGFnZQo+PgplbmRvYmoKMTIgMCBvYmoKPDwKL0ZpbHRlciAvRmxhdGVEZWNvZGUKL0xlbmd0aCAxMjAyCj4+CnN0cmVhbQp4nLWYS3PbNhSF9/4Vd9lOHAQvvrppa7fO1DNJU0deZElLkMWGD5Wi4ri/vhckQQAiKXHTsWdkmJfnHpwPpAhyuL+iJA7g5epmBe/uODBGKIXVFn5f4REmGQf/4+E9/j/giQT/o36++gcoPAMKCUZYDFEQ4SFYbeCH2zdv4Be4rfJj8ZSl8Fhm31R9yJrXH2H1N7aCv/BkHhMR4FmchAEUEMRC/9GPc/g8qFNJQo4HpHau5cGV6atkEhPKXRN36qk+pvUr8OAaOOXCntVOngGXdvKDEIspoQzCOCJR2Ap9qlWeFfB5vVObY67gLXz88gg3IzkWTcjxkJIwhjAICEtaufd1ddyjSFmVymrMhTwPxWIUJ60jjmUQckGkhESQQMJbzrWNWsFNmxoLAxImpobhZGniFbHePpOtFu0aoP2HqirgY1ooF4JAalF0WU7ShCSe3J/7PeZQNm4SMceF4X9gEhMpn5s9pZpf0Q+DKNaW9LIyUzcF/dip6NHhLJII16UkQvRTP5YbYBfAX9Y3aZmKfjx2wAUn9MQCps+mop8XC0RC4tBW9ONxO8lCEjO33UqlmODPJzOeTrzXO11vW//wAAQvCMlcIEOBGdsKH0jI9B3CAuHLgPT6o8W5XWDAD9WGPLJoiLkekZicIDbv53I3H6FFOvJjkFo/LdJ4IdJOb2CGk4uEx8wUmLGt8JmJWH9YZuOb8TSzeX0/FBvSyIFB4lqYQzIv5idsEx+1k4IS7rX7kuZqWdyd2OwV1B0eaDD8ogo9GqbAjG2FTwMXBU8cGnIhjU7/zBU0b8BP1CY8smhwuR4Rl5jCNevncjefn+U58tNeQdT1c1/tSrhPX5cx7QQNNIleRexBMwX92KnwoElcFiF3oAULoc3r+6kMKY0d9Ew8CzPfQ2fE/IiHyMftJBMaitPuU52Va9VU5aLMe8W566g/PCAJJYmoi2QoMGNb4SOJqH6asUjCZUh6/fnr6IwBP1Yb88iiYeZ6RGZ8gtm8n8vdfIgW6siPZAkJpetHP0X/ugxopzYQk1w/67vETIEZ2wqfmIwJDx1i0UJi8/p+JDaikQMDxLUwc2M7I+bna/MetcN9Aolit53Zj/2fm47ex9lNR19zcdMheUCC5OKm46Jcv+lw5MabDgN/akcYSZLEIGJcv+1TMaaAia9e8Flqlx0Af5udgn2ertWuyjeqhkZ9b2Bb1d2Bbvt4MNvHrNxk37LNMc2zf9WmLVPpeocnpQWZ2Nn27TFf054jV93+8aC2xxz2mVqrA1RblEa1Im2yqoSmwuE6P250RzSCNg9q3R5Ka/UTqO97HKKBQ5PWDTRZoSAtN/MG8Mmnuxsz3JJFrYFclc/NTnduT9dTyY/lenftOdFmMtyMq/Srqg/X8LJTiAf91WpfYeundP0V0m2j6vnm+DQVspZd28AtjANCcfHiT/dXkhCOJBnTa21dwLs/GPxWTZbysP2GcWv5XK3k+KwtvFphas2rA06JQAOReda+q+pjcZiYFU+QInUqH3BlTBXKICIRdwo/pPuTVeu/xDHvVYKEBMK+VumG7u0Bg5W4S5X6m7a9OyAfvRyeXuG2qksk1XgvKP4DIisdxgplbmRzdHJlYW0KZW5kb2JqCjEzIDAgb2JqCjw8Ci9Db250ZW50cyAxNCAwIFIKL1BhcmVudCAxIDAgUgovUmVzb3VyY2VzIDI3IDAgUgovVHlwZSAvUGFnZQo+PgplbmRvYmoKMTQgMCBvYmoKPDwKL0ZpbHRlciAvRmxhdGVEZWNvZGUKL0xlbmd0aCAxMjAzCj4+CnN0cmVhbQp4nLWYS3PbNhSF9/4Vd9lOHAQvEmQ3be3WmXomaerIiyxpCbLY8KFSVBz31/fyAQIQSYmbjj0jw7w69+B8IAWIw/0VJVEAL1c3K3h3x4ExQimstvD7Cq8wyTj4Lw/v8f8BjyX4L9Xz1T9A4RlQSDDCIlCBwkuw2sAPt2/ewC9wW2bH/ClN4LFIv+nqkNavP8Lqb2wFf+GbeUREgO/iJAwghyASzR/9OIPPgzqVJOR4QTbOG3lwZfoqGUeEctfEnX6qjkn1Cjy4Bk65sO9qJ8+ASzv5QYgpjIRBGCmiwlboU6WzNIfP653eHDMNb+FTlRZrXZfFSJKpCUkeUhJGEAYBYXEr+b4qj3sUKspCW425oOfBWJTipLXiWAYhF0RKiAUJJLzlvLFRabhpk2NhQMLY1DCcMI29ItbbZ7LVol0DtP9Qljl8THLtghBITqnLcpLGJPbk/tzvMYeidpOIOC4O/wWTmEj53OwpbRjm/TBQUWOpWVpm6qagHzsVPTqcRaxwbUoiRD/1Y7EBdgH8ZX2Tlqnox2MHXHBCTyxg+nwq+nmxQMQkCm1FPx63w6VFVOS2M7fxyZSnI+8FTxfc1r88EME7QjKXyFBgxrbCJxKy5jFhifBlRHr90ercLjDgp2pTHlk0yFyPiExMIJv3c7mbz9AyHfmRLCQRc/2sdIIMfl6GtNMbmOHklPCYmQIzthU+MxE1L5bZ+Ik8zWxe3w/FhjRyYJC4FhAJm0IyL+YnbBMftTOJ23Zt4tHCxDu92ZuouzwAYZTQ0ANiCszYVvhA0CWPHSByIZBO/8xNNG/AD9WGPLJoiLkekZicIjbr53I3H6FFOvIjWUxC6fr5+OURfl0GtFMzxCQaFZFHzBT0Y6fCIyZxTYTcIRYsJDav70cyRDR20APxLMzdQvNifr5D3uN2kuNGh7ntmrxvFuXdq83dQP3lAUcoiaIujqHAjG2Fj0PRZitjcYTLcPT68zfQGQN+pDbikUXDy/U48yk07+dyNx+gBTryIwUl3PPzJcn0Mp6d2ABM8mav7wIzBWZsK3xgMiI8dICphcDm9f1EbEIjB4aHa2FmI3dGzI/Xxj1q134EUbfdfbkr4D55/T8PHL2PsweOvubigUPygATxxQPHRbn+wOHIjQ8cBv7UiVBJEkcgInz+tztiTAETX73gh/ouPQD+1jsN+yxZ612ZbXQFtf5ew7asugvd8fFgjo9psUm/pZtjkqX/6k1bppP1Dt+U5GTiZNu3x3xNe44b9Kb940FvjxnsU73WByi3KI1qeVKnZQF1icN1dtw0HdEI2jzodXspqfRPoL/vcYgGDnVS1VCnuYak2MwbwE1P9yBmeBxTrYFMF8/1runcvr2ZSnYs1rtrz0ljJsXDuE6+6upwDS87jXjQX6X3JbZ+StZfIdnWuppvjhupkLXs2gZuYRQQiosXf7q/4phwJMlYs9bWObz7g8Fv5WQpD9sPF7eWz9VKjtts4dUKU2u+OsCPLIEGlNlm35XVMT9MzIrHSJE6lQ+4MqYKZaCI4k7hh2R/smr9L3HM9ypBTAJhv1bphu7jAYOVeEKVzbanPeYhn2Y5PL3CbVkVSKr2vpz4D2YSHboKZW5kc3RyZWFtCmVuZG9iagoxNSAwIG9iago8PAovQ29udGVudHMgMTYgMCBSCi9QYXJlbnQgMSAwIFIKL1Jlc291cmNlcyAyNyAwIFIKL1R5cGUgL1BhZ2UKPj4KZW5kb2JqCjE2IDAgb2JqCjw8Ci9GaWx0ZXIgL0ZsYXRlRGVjb2RlCi9MZW5ndGggMTIwNwo+PgpzdHJlYW0KeJy1mEtz2zYUhff+FXfZThwELwJkN2nt1pl6pmnqyIssaQmy2PChUlQc99f38gECMElLm449I8O8PPfgfCBFkMPtBSVxBE8XVyt4d8OBMUIprLbw2wqPMMk4hB93H/D/EU8khB/148U/QOERUEgwwmLQkcZDsNrAD9dv3sDPcF3lx+IhS+G+zL6Z+pA1zz/C6m9sBX/hyTwmIsKzOFERFBDFov1jGOfweVSnkiiOB2TrvJUHX2aokklMKPdN3JiH+pjWz8CjS+CUC3dWN3kGXLrJj0JMR0QoULEmWnVCn2qTZwV8Xu/M5pgbeAsrkxag308EmZ4R5IoSFYOKIsKSTvBDXR33KFNWpXEaSzEvY3EgxYvWmmMZKC6IlJAIEkl4y3lrozZw1eXGVERUYmsYTpcmQREb7DPZadG+Adq/q6oCPqaF8TEI5Kb1aTlJE5IEcn/u95hD2fhJxByXRviBScyk/NrsKW0JFsMw0nFrqV1Yduq2YBh7FQM6nEWicWVKIsQw9WO5AXYC/Gl9m5atGMZTB1xwQl9YwPTZXPTLYpFISKxcxTCetpMc1xfz2338cg9XL+Y7n/eg9nK1bcPDIw68HCTzcYwFduwqQhyKtXcIh4Ofh2PQnyzN7RkGwkhdxBOLlpfvEXmJGV7Lfk53CwE6oBM/kgmihe/nU52Va9NU5XlQe8WRGk4P5XxqtsCOXUVITcTth6M2vR3PU1vWD2NxMU0cWCi+BYTC56Asi4UZu8wn7SRLiJJ+u/Yi+uW8vHu1xYuoPzziYJRQFeCwBXbsKkIcTBGeeDjkmTh6/VcuomUDYaQu4olFy8v3uHDTW/ZzulsI0AGd+MEvXKJj3499tDmPaS9ooUn0KuIAmi0Yxl5FAE3islDcgxadCW1ZP0xlTGnqYGASWFi6sS2LhRGPkU/bSUEJD9p9SXNzVtyD2NIlNBweaShJNPVpjAV27CpCGpq2TzKOhjqPxqC/fAm9YiBM1CU8sWhx+R4Rl5zBtezndLeQn+M58SPx2omp7+e22pVwmz6fx7QXHKFJ3j7s+9BsgR27ihCajAlXHjR9JrRl/TAVl9LEgWXiW1hisiwWRuwin7TrImd+u27bEr//P7ccg41XtxxDzckth+QRiZKTW46TcsOWw5Obbjks+7kdoZYkiUHE+K3ePRNjChj46gkD3WUHwN9mZ2Cfp2uzq/KNqaEx3xvYVnV/oN8+Huz2MSs32bdsc0zz7F+z6cpMut7hSWlBZna2Q3vM17bn+GXUtr8/mO0xh31m1uYA1RalUa1Im6wqoalwuM6Pm7YjGkGbB7PuDqW1+QnM9z0O0cChSesGmqwwkJabZQP43NPfihluyHRnIDflY7NrO3ent1PJj+V6dxk4ac1kuBk36VdTHy7haWcQD/qrzb7C1g/p+iuk28bUy83xWUqxjl3XwC+MI0Jx8eJP/1eSEI4kGWvX2rqAd78z+LWaLeWq+3rxa/lSreT4rC2CWmFr7asD3D0JNKDts/ZNVR+Lw8yseIIUqVd5hytjrlBGmmjuFf6R7l+s2vAljn2vEiUkEu61Sj/07w4YrMQ9qmyffbpHGuTTLoeHZ7iu6hJJNcHrif8AIYsdxgplbmRzdHJlYW0KZW5kb2JqCjE3IDAgb2JqCjw8Ci9Db250ZW50cyAxOCAwIFIKL1BhcmVudCAxIDAgUgovUmVzb3VyY2VzIDI3IDAgUgovVHlwZSAvUGFnZQo+PgplbmRvYmoKMTggMCBvYmoKPDwKL0ZpbHRlciAvRmxhdGVEZWNvZGUKL0xlbmd0aCAxMjA2Cj4+CnN0cmVhbQp4nLWYS3PbNhSF9/4Vd9lOHAQvAmQ3ae3WmXqmaerIiyxpCbLY8KFSVBz31/fyAQIwSUubTjIjw7w89+B8IA2Iw+0FJXEETxdXK3h3w4ExQimstvDbCq8wyTiEH3cf8PcRTySEH/XjxT9A4RFQSDDCYtCRxkuw2sAP12/ewM9wXeXH4iFL4b7Mvpn6kDXPP8Lqb2wFf+HNPCYiwrs4UREUEMWi/WEY5/B5VKeSKI4XZOu8lQdfZqiSSUwo903cmIf6mNbPwKNL4JQLd1c3eQZcusmPQkxHRChQsSZadUKfapNnBXxe78zmmBt4CyuTFhC/nwgyPSPIFSUqBhVFhCWd4Ie6Ou5RpqxK4zSWYl7G4kCKF601xzJQXBApIREkkvCW89ZGbeCqy42piKjE1jCcLk2CIjbYZ7LTon0DtH9XVQV8TAvjYxDITevTcpImJAnk/tzvMYey8ZOIOS6N8AOTmEn5tdlT2hIshmGk49ZSu7Ds1G3BMPYqBnQ4i0TjypREiGHqx3ID7AT40/o2LVsxjKcOuOCEvrCA6Yu56JfFIpGQWLmKYTxtJ1lClPTbffxyD7+8mO983oPay9W2DS+POPBxkMzHMRbYsasIcSjWviEcDn4ejkF/sjS3ZxgII3URTyxaXr5H5CVneC37Od0tBOiATvxIji8M5vtpgV6dB7RXG4nh1LQIiNkCO3YVITERtx+O2PRVPE9sWT+MxEU0cWCB+BYQCJsDsiwW5uvynrSTTLS/8dp9qrNybZqqPC/zXnHxIeovj0gYJVQFSGyBHbuKEAlThCceEnkmkl7/lYdo2UAYq4t5YtEy8z0iMz7HbNHP6W4hRAd14kcKSnjg50uam/N49mIWmESfIg6A2YJh7FUEwCQuCcU9YNGZwJb1w0TGhKYOBh6BhSUey2JhvGPc03YSc46p3+622pVwmz6fFfkguPQIDZdHIkoSTX0iY4Edu4qQiKbtTsYRUecRGfSXH6FXDISpupQnFi0y3+PCa2/Zz+luIUPHdOIH96xEx74fezo4j2kvOEKTvN3s+9BsgR27ihCajAlXHjR9JrRl/TAVl9LEgWXiW1jYG7wiFkbsIp+06x4j5rfrji36/f955BhsvHrkGGpOHjkkj0iUnDxynJQbjhye3PTIYdnPnQi1JEkMIsatcbcnxhQw8NUTBrrLDoD/m52BfZ6uza7KN6aGxnxvYFvV/YX++Hiwx8es3GTfss0xzbN/zaYrM+l6hzelBZk52Q7tMV/bnuOT1La/P5jtMYd9ZtbmANUWpVGtSJusKqGpcLjOj5u2IxpBmwez7i6ltfkJzPc9DtHAoUnrBpqsMJCWm2UDuPfpX8cMD2S6M5Cb8rHZtZ2729up5MdyvbsMnLRmMjyMm/SrqQ+X8LQziAf91WZfYeuHdP0V0m1j6uXmuJ9SrGPXNfAL44hQXLz4r/8pSQhHkoy1a21dwLvfGfxazZZy1f2J8Wv5Uq3kuNcWQa2wtfarA9xsCzSg7V77pqqPxWFmVjxBitSrvMOVMVcoI0009wr/SPcvVm34JY79XiVKSCTc1yr90H87YLASz6iy3ft072Pk0y6Hh2e4ruoSSTXB1xP/AXMuHcUKZW5kc3RyZWFtCmVuZG9iagoxOSAwIG9iago8PAovQ29udGVudHMgMjAgMCBSCi9QYXJlbnQgMSAwIFIKL1Jlc291cmNlcyAyNyAwIFIKL1R5cGUgL1BhZ2UKPj4KZW5kb2JqCjIwIDAgb2JqCjw8Ci9GaWx0ZXIgL0ZsYXRlRGVjb2RlCi9MZW5ndGggMTIwMwo+PgpzdHJlYW0KeJy1WE1z2zYUvPtXvGM7cRAABEGyl7Z260w9kzR15EOOtARZbPihUlQc99f3gSQIQCQlXjr2jAxjuW+xC0AAOdxfURKH8HJ1s4J3dxwYI5TCagu/r7CHCcbB/3h4j/8PeSLA/6ifr/4BCs+ARAEjLIYojLALVhv44fbNG/gFbqv8WDxlKTyW2TdVH7Lm9UdY/Y2l4C98mMckCPEpTmQIBYRxoP/o2zl8HtipIJJjh9DKNT24ND1KJDGh3BVxp57qY1q/Ag+vgVMe2KfawTPgwg5+IGKJ0LpkHJFItkSfapVnBXxe79TmmCt4C1/SXI3YWDTBxiUlMgYZhoQlLdv7ujrukaOsSodjzuP5TGyKwUnpiCMMJA+IEJAEJBTwlnMto1Zw05rGZEhkYjAMx0oTD8R6+Uy0XLQrgPIfqqqAj2mh3AwCDC2KLtMJmpDEo/tzv0cfysZ1Iubov/+BTky4fG70lOr4ir4ZRrGWpGeVGboB9G0H0UeHo0ginJY4HYJ+6MdyA+xC8Jf5jVsG0bfHCnjACT2RgO6LKevnycIgIbG0iL49LieYJDF1y91XuxLu09eTIU9b3hOeTrit3z0kgitCMDeRAWDaFuEnIpneIWwifFkiPf9odm4XCPBdtS6PJJrIXI0YGZ+IbF7P5Wp+hjbTkR7cLkgUu3rMrrws045wCA1HFwVeaAZg2hbhhxbE+sOGNt6Np0Ob5/ddsS6NFJhMXAkzy+gMmW+xtXxUTnDcpplb7uOXR7hZ5nfHNruGuu4hDkYJlV4cBmDaFuHHgUudJ04cYmEcHf+ZNTQvwLfUWjySaPJyNc6toVk9l6v5AdpAR3rafZG5elYqLSD+eVmkHZ/JTKDUIPYyM4C+7SC8zATOCsmdzMKFmc3z+6YMJo0V9JF4EjCSYCqSeTLf4cHxcbnecadc63i0zPGeb24R9d1DIFKQiLqBDADTtgg/kIjq04wNRC4LpOefX0RnBPimWpNHEk1irsaZxOb1XK7mR2gjHekRLNDLzNHzqc7KtWqqclmoHeOQmuD6uO+mZgCmbRF+aiImXDqpRQtTm+f3bbE2jRSYUFwJGAqbCmWezPfYej4qJ1hCpHDL6W+iX//PW0cv4uyto8dcvHUIHpIwuXjruEjX3zocuvGtwyQ/dSOMBEliCGI0sz0Wowto9+oFd6VddgD8bXYK9nm6Vrsq36gaGvW9gW1Vdx3d9fFgro9Zucm+ZZtjmmf/qk0LU+l6hw+lBZm42fbl0V9TnuOJTpd/PKjtMYd9ptbqANUWqZGtSJusKqGpsLnOjxtdEYWgzINat11prX4C9X2PTRRwaNK6gSYrFKTlZl4AHny6zZjhnSxqBeSqfG52unL7uB5KfizXu2tPiRaT4WVcpV9VfbiGl53CeFBfrfYVln5K118h3Taqni+OhynJ2uzaAi4wDgnFyYs/3V9JQjgmyZiea+sC3v3B4LdqEspl+wXjYvkcVnA8awceNjBY8+oAT34BCojMWfuuqo/FYWJUPMEUqYN8wJkxBRRhRCLuAD+k+5NZ67/EMe9VwoSEgX2t0jXdvQGNFXhNFXpXbu8FmI+eDk+vcFvVJSbVeG8o/gO/+B3LCmVuZHN0cmVhbQplbmRvYmoKMjEgMCBvYmoKPDwKL0Jhc2VGb250IC9UaW1lcy1Sb21hbgovRW5jb2RpbmcgL1dpbkFuc2lFbmNvZGluZwovU3VidHlwZSAvVHlwZTEKL1R5cGUgL0ZvbnQKPj4KZW5kb2JqCjIyIDAgb2JqCjw8Ci9CYXNlRm9udCAvVGltZXMtSXRhbGljCi9FbmNvZGluZyAvV2luQW5zaUVuY29kaW5nCi9TdWJ0eXBlIC9UeXBlMQovVHlwZSAvRm9udAo+PgplbmRvYmoKMjMgMCBvYmoKPDwKL0Jhc2VGb250IC9UaW1lcy1Cb2xkCi9FbmNvZGluZyAvV2luQW5zaUVuY29kaW5nCi9TdWJ0eXBlIC9UeXBlMQovVHlwZSAvRm9udAo+PgplbmRvYmoKMjQgMCBvYmoKPDwKL0JpdHNQZXJDb21wb25lbnQgMQovQ29sb3JTcGFjZSAvRGV2aWNlR3JheQovRGVjb2RlUGFybXMgPDwvUHJlZGljdG9yIDE1IC9Db2xvcnMgMSAvQ29sdW1ucyA0MTAgL0JpdHNQZXJDb21wb25lbnQgMT4+Ci9GaWx0ZXIgL0ZsYXRlRGVjb2RlCi9IZWlnaHQgNDEwCi9MZW5ndGggNTIzCi9TdWJ0eXBlIC9JbWFnZQovVHlwZSAvWE9iamVjdAovV2lkdGggNDEwCj4+CnN0cmVhbQp4nO2aQa6DMAxELXEAjsTVORIHQMpv7BnHv+2mWzxe0AB+rEaxPamN3+M0QYIECRIkSJAgQobYXuvLbJy7v3vd+mo+izgENYH8ZlzbXN3lGS7XNkqeoA7QFMpBCCsXzw7IRSaoIYQs7jPnPlUlqC+ECAXdJqgtFKlTN8Z8j5MbS8kT1ABCbINV5u3CBEFNoBVsQr0Dsbi8pQhqANUBxUdW7ztsKQg7jqA+EK2LkFGUmnjGCTYsDkE9oGJceb2ZEd+wvKxmVVAD6EyNRE+6Z6kJl+vGBw9BPaDacBIKHG99dQtqA8WTHFTxjvWGhUhQH8jyZGzJyAvMOiirxoagx0MhGbSeqSWWGs+3D6NT0IMh2NyhpdqO4paqEtQFWsNIDKpZYN5MDEFdINib3mNYtqMcS3wV9UZQH+j+v7rT9WY+cEFdoMGuM2Q0768tfU9Uo0/tCXoohPbiho91ltqCPtU+/XJBD4aQahQKp9WqKu49gnpAeEyvApuIexpRZconBT0fwgGYlYkEkL/1+DLnCnoqtAL1Jr3ubDlCUIKaQBBKthzpYy07nPOKoB6QyyNOzwmtdrTsLoegLlCejI2ScNtqPtiVCOoH1T3FtRRFJwUlqBeUrjf/nrcNCsoENYL858KB6VhHp0VaX2wtQY+FELC+OaCkvkZKS1AP6LcQJEiQIEGCBAma0B+tqEtDCmVuZHN0cmVhbQplbmRvYmoKMjUgMCBvYmoKPDwKL0JpdHNQZXJDb21wb25lbnQgMQovQ29sb3JTcGFjZSAvRGV2aWNlR3JheQovRGVjb2RlUGFybXMgPDwvUHJlZGljdG9yIDE1IC9Db2xvcnMgMSAvQ29sdW1ucyAzNzAgL0JpdHNQZXJDb21wb25lbnQgMT4+Ci9GaWx0ZXIgL0ZsYXRlRGVjb2RlCi9IZWlnaHQgMzcwCi9MZW5ndGggNDM2Ci9TdWJ0eXBlIC9JbWFnZQovVHlwZSAvWE9iamVjdAovV2lkdGggMzcwCj4+CnN0cmVhbQp4nO3aQY7DIAwFUEs5QI6Uq+dIHADJE7ANDo1GM1I3P/osaAOPbmLAIRX9VzmFnp6enp6e/ktevGytZbPL69tVaYm+gx7X9wstm0ZzA6VXmyZCD+pH37lX6SOvUq2tBwr9O3yb4DbLD/tG/yYvsqsP8vWc/g2+f8R872X6ROgxvZd228tSRR89rk/l3NWSbsu8j6WXHtHPALBUW2yQR8FVVaHH9jJa+lI+QsHW+KfnKXoYb7u0rd22Xw8VmTc9sPeLuO0yy6HP850eycdj072kyKhrPkYP5c/WM0LB22K+P63n9Fg+TkEmyJn3ZzzQQ/l2Nh2DPOlOSZmdYdMD+zIekOO8+vd4oIfy97MPX9l3Vd+v1/NqeizvGXWJ901z5qul2ks80GP5uONVIjOrkts+1nN6KB+p9m3SS7x5mm30mH6W2wNUjfOQj/Mxeijv9118PffXE/P/PGs+Rg/m+4Vv0Hm4LwSP6zk9kB9RIOnNRIy0X6N/gZ9PyTHLY/hB/wLvc7vkqW6RQY/s+0c6yvRKbA9/fv9ID+Ml+vLIyMJm5k2P6f9c6Onp6enp6b/gfwC+sq4WCmVuZHN0cmVhbQplbmRvYmoKMjYgMCBvYmoKPDwKL0JpdHNQZXJDb21wb25lbnQgMQovQ29sb3JTcGFjZSAvRGV2aWNlR3JheQovRGVjb2RlUGFybXMgPDwvUHJlZGljdG9yIDE1IC9Db2xvcnMgMSAvQ29sdW1ucyAzNzAgL0JpdHNQZXJDb21wb25lbnQgMT4+Ci9GaWx0ZXIgL0ZsYXRlRGVjb2RlCi9IZWlnaHQgMzcwCi9MZW5ndGggNDQ0Ci9TdWJ0eXBlIC9JbWFnZQovVHlwZSAvWE9iamVjdAovV2lkdGggMzcwCj4+CnN0cmVhbQp4nO3aXa6DIBAF4ElYgEty6y6JBZhQmT+otLm9SV9Oc3iwWj98cRhgWmn/aofQ09PT09PTf8mLt3Kd19Jkb+d1tZ3X3Rr3dnpcrxdKe1PVjsvLXkubCD2o769d7x1b9OxBEc8o9D/jzwwFof81f2Vx/VpH+QfxQI/h9aO6su42S/+R/+khvLf+2uvtkD3pYf3cMgB6u9+kh/QjAGy+tu+mg39HD+slR75O2mcMc/E1+Dq/08N4K3vssYvyyJA42F16XH9Y7tatVFxaFMQzwtEjepulp/V2nPl4P5f4oYfy+cbTB8jIoMf1x5bvXifpAUb5ix7b22uXkdlzKSbbkv/poXxvRqdSprb6Jp/TY/nYJUtEhvaMHFDe5X96BG9lj9wqz0UvG+q3eKDH8rbs8v2UpnLxs97zVf6nR/Je76q5tjblOd5CgR7Xj+Zb5dhP+WGtj9EjefHmtcux8o7IuOd/eiyvF+0pFEYVxP4D0uiB/fR7RHZvI58v8UCP6ZuvrZ+K1ms+pwf1Y2xHePRC58vfl+mBvH7UuV5tZ9nJHkKP6b2VLIq0CIXX+Zweyn/c6Onp6enp6b/gH24ewh8KZW5kc3RyZWFtCmVuZG9iagoyNyAwIG9iago8PAovRm9udCA8PC9GMSAyMSAwIFIKL0YyIDIyIDAgUgovRjMgMjMgMCBSPj4KL1Byb2NTZXQgWy9QREYgL1RleHQgL0ltYWdlQiAvSW1hZ2VDIC9JbWFnZUldCi9YT2JqZWN0IDw8L0kxIDI0IDAgUgovSTIgMjUgMCBSCi9JMyAyNiAwIFI+Pgo+PgplbmRvYmoKMjggMCBvYmoKPDwKL0NyZWF0aW9uRGF0ZSAoRDoyMDIzMDIxNjEzMTEwM1oxMycxMScpCj4+CmVuZG9iagp4cmVmCjAgMjkKMDAwMDAwMDAwMCA2NTUzNSBmIAowMDAwMDAwMDA5IDAwMDAwIG4gCjAwMDAwMDAxNDkgMDAwMDAgbiAKMDAwMDAwMDI1MiAwMDAwMCBuIAowMDAwMDAwMzMzIDAwMDAwIG4gCjAwMDAwMDA1OTMgMDAwMDAgbiAKMDAwMDAwMDY3NCAwMDAwMCBuIAowMDAwMDAxOTUzIDAwMDAwIG4gCjAwMDAwMDIwMzQgMDAwMDAgbiAKMDAwMDAwMzMxMSAwMDAwMCBuIAowMDAwMDAzMzkzIDAwMDAwIG4gCjAwMDAwMDQ2NjkgMDAwMDAgbiAKMDAwMDAwNDc1MiAwMDAwMCBuIAowMDAwMDA2MDI4IDAwMDAwIG4gCjAwMDAwMDYxMTEgMDAwMDAgbiAKMDAwMDAwNzM4OCAwMDAwMCBuIAowMDAwMDA3NDcxIDAwMDAwIG4gCjAwMDAwMDg3NTIgMDAwMDAgbiAKMDAwMDAwODgzNSAwMDAwMCBuIAowMDAwMDEwMTE1IDAwMDAwIG4gCjAwMDAwMTAxOTggMDAwMDAgbiAKMDAwMDAxMTQ3NSAwMDAwMCBuIAowMDAwMDExNTc1IDAwMDAwIG4gCjAwMDAwMTE2NzYgMDAwMDAgbiAKMDAwMDAxMTc3NSAwMDAwMCBuIAowMDAwMDEyNTQzIDAwMDAwIG4gCjAwMDAwMTMyMjQgMDAwMDAgbiAKMDAwMDAxMzkxMyAwMDAwMCBuIAowMDAwMDE0MDcwIDAwMDAwIG4gCnRyYWlsZXIKPDwKL1NpemUgMjkKL1Jvb3QgMiAwIFIKL0luZm8gMjggMCBSCi9JRCBbPDg4RkUwMjIwNENEODlCQ0ZFNkNCQjM0MDBFRjRFMzgyPjw4OEZFMDIyMDRDRDg5QkNGRTZDQkIzNDAwRUY0RTM4Mj5dCj4+CnN0YXJ0eHJlZgoxNDEzMgolJUVPRgo=\">Click to download PDF of individual team schedules.</a>"
            ]
          },
          "metadata": {}
        }
      ]
    },
    {
      "cell_type": "code",
      "source": [
        "# Diplay a download button:\n",
        "display(HTML(f'<a style=\"font-size: 30px\" download=\"prelim_individual_room_schedules.pdf\" href=\"data:application/pdf;base64,{prelim_individual_room_schedules}\">Click to download PDF of individual room schedules.</a>'))"
      ],
      "metadata": {
        "id": "o_Ny_J3AaYq0",
        "colab": {
          "base_uri": "https://localhost:8080/",
          "height": 54
        },
        "outputId": "11841725-f3e5-4850-8b42-768a26951bd9"
      },
      "execution_count": 36,
      "outputs": [
        {
          "output_type": "display_data",
          "data": {
            "text/plain": [
              "<IPython.core.display.HTML object>"
            ],
            "text/html": [
              "<a style=\"font-size: 30px\" download=\"prelim_individual_room_schedules.pdf\" href=\"data:application/pdf;base64,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\">Click to download PDF of individual room schedules.</a>"
            ]
          },
          "metadata": {}
        }
      ]
    },
    {
      "cell_type": "code",
      "source": [
        "stop here"
      ],
      "metadata": {
        "collapsed": true,
        "id": "VNcIYjguqvFB",
        "colab": {
          "base_uri": "https://localhost:8080/",
          "height": 131
        },
        "outputId": "608fd2df-c4a8-4a66-da21-fe149ca01822"
      },
      "execution_count": 37,
      "outputs": [
        {
          "output_type": "error",
          "ename": "SyntaxError",
          "evalue": "ignored",
          "traceback": [
            "\u001b[0;36m  File \u001b[0;32m\"<ipython-input-37-a96ba3aab008>\"\u001b[0;36m, line \u001b[0;32m1\u001b[0m\n\u001b[0;31m    stop here\u001b[0m\n\u001b[0m         ^\u001b[0m\n\u001b[0;31mSyntaxError\u001b[0m\u001b[0;31m:\u001b[0m invalid syntax\n"
          ]
        }
      ]
    },
    {
      "cell_type": "markdown",
      "source": [
        "# Prelim Analysis"
      ],
      "metadata": {
        "id": "iKG1VUXVdJTn"
      }
    },
    {
      "cell_type": "markdown",
      "source": [
        "# Playoff Scheduler"
      ],
      "metadata": {
        "id": "_YfbhDePdJTn"
      }
    },
    {
      "cell_type": "markdown",
      "source": [
        "# Playoff PDF Writer"
      ],
      "metadata": {
        "id": "eexAPF__dJTn"
      }
    },
    {
      "cell_type": "markdown",
      "source": [
        "# Superplayoff Scheduler"
      ],
      "metadata": {
        "id": "Qb5McvXKdPxF"
      }
    },
    {
      "cell_type": "markdown",
      "source": [
        "# Superplayoff PDF Writer "
      ],
      "metadata": {
        "id": "--DoUNDedPuN"
      }
    },
    {
      "cell_type": "markdown",
      "source": [
        "# NSC Scheduler"
      ],
      "metadata": {
        "id": "b3l5IrdtdrTf"
      }
    },
    {
      "cell_type": "markdown",
      "source": [
        "# *** Workspace below this point ***"
      ],
      "metadata": {
        "id": "qagHkeo1VeeJ"
      }
    },
    {
      "cell_type": "markdown",
      "source": [
        "\n",
        "\n",
        "---\n",
        "\n"
      ],
      "metadata": {
        "id": "_k8_duRuVhG4"
      }
    },
    {
      "cell_type": "markdown",
      "source": [
        "# Importing csv files from Github\n",
        "This will be useful later when grabbing templates for the scheduling functions.\n",
        "\n",
        "For more info on loading external files into Colabs, see [this article](https://towardsdatascience.com/7-ways-to-load-external-data-into-google-colab-7ba73e7d5fc7)."
      ],
      "metadata": {
        "id": "rLwWCJ3lixKD"
      }
    },
    {
      "cell_type": "code",
      "source": [
        "filename = 'templates/rr_schedules/rr_10.xlsx'\n",
        "\n",
        "df = pd.read_csv('https://raw.githubusercontent.com/victorprieto2265/cornerstone/main/archive/brackets.csv')\n",
        "\n",
        "# get_all_values gives a list of rows.\n",
        "print(df)"
      ],
      "metadata": {
        "id": "-Wd7s6KAj9it"
      },
      "execution_count": null,
      "outputs": []
    },
    {
      "cell_type": "markdown",
      "source": [
        "What about uploading excel files? Will that work?"
      ],
      "metadata": {
        "id": "8iW6m7Oz0w52"
      }
    },
    {
      "cell_type": "code",
      "source": [
        "url = \"https://github.com/victorprieto2265/cornerstone/blob/main/templates/rr_schedules/rr_templates.xlsx?raw=true\"\n",
        "db=pd.read_excel(url, sheet_name=None)\n",
        "\n",
        "print(type(db))\n",
        "print(db.keys())"
      ],
      "metadata": {
        "id": "Kd83cUbR00zf"
      },
      "execution_count": null,
      "outputs": []
    }
  ]
}