{
  "nbformat": 4,
  "nbformat_minor": 0,
  "metadata": {
    "colab": {
      "provenance": [],
      "toc_visible": true,
      "collapsed_sections": [
        "IwJ6m76Ee1va",
        "5n9ob-8odPkM",
        "_YfbhDePdJTn",
        "eexAPF__dJTn",
        "Qb5McvXKdPxF",
        "--DoUNDedPuN",
        "b3l5IrdtdrTf",
        "qagHkeo1VeeJ",
        "rLwWCJ3lixKD",
        "UCnmv2_eVvjP"
      ],
      "authorship_tag": "ABX9TyM1HlmguHgXrY1GH1UKNF9g",
      "include_colab_link": true
    },
    "kernelspec": {
      "name": "python3",
      "display_name": "Python 3"
    },
    "language_info": {
      "name": "python"
    }
  },
  "cells": [
    {
      "cell_type": "markdown",
      "metadata": {
        "id": "view-in-github",
        "colab_type": "text"
      },
      "source": [
        "<a href=\"https://colab.research.google.com/github/victorprieto2265/cornerstone/blob/main/Cornerstone.ipynb\" target=\"_parent\"><img src=\"https://colab.research.google.com/assets/colab-badge.svg\" alt=\"Open In Colab\"/></a>"
      ]
    },
    {
      "cell_type": "markdown",
      "source": [
        "# TODO\n",
        "\n"
      ],
      "metadata": {
        "id": "IwJ6m76Ee1va"
      }
    },
    {
      "cell_type": "markdown",
      "source": [
        "TODO\n",
        "\n",
        "*  import computer modern typeface for use (consider open sans or interstate as an alternative)"
      ],
      "metadata": {
        "id": "QEwWOlwXfE0H"
      }
    },
    {
      "cell_type": "markdown",
      "source": [
        "\n",
        "# Import modules / libraries"
      ],
      "metadata": {
        "id": "LxPWT_oriuCh"
      }
    },
    {
      "cell_type": "code",
      "source": [
        "!pip install fpdf2\n",
        "\n",
        "import sys\n",
        "import pandas as pd\n",
        "import warnings\n",
        "warnings.simplefilter('default', DeprecationWarning)\n",
        "from fpdf import FPDF\n",
        "import fpdf\n",
        "from base64 import b64encode\n",
        "import IPython\n",
        "from IPython.display import display, HTML"
      ],
      "metadata": {
        "id": "pl18nTJ1uVlv",
        "colab": {
          "base_uri": "https://localhost:8080/"
        },
        "outputId": "a46022cb-2d24-4368-abac-b24e1d03d08a"
      },
      "execution_count": null,
      "outputs": [
        {
          "output_type": "stream",
          "name": "stdout",
          "text": [
            "Looking in indexes: https://pypi.org/simple, https://us-python.pkg.dev/colab-wheels/public/simple/\n",
            "Requirement already satisfied: fpdf2 in /usr/local/lib/python3.8/dist-packages (2.6.1)\n",
            "Requirement already satisfied: Pillow!=9.2.*,>=6.2.2 in /usr/local/lib/python3.8/dist-packages (from fpdf2) (7.1.2)\n",
            "Requirement already satisfied: defusedxml in /usr/local/lib/python3.8/dist-packages (from fpdf2) (0.7.1)\n",
            "Requirement already satisfied: fonttools>=4.34.0 in /usr/local/lib/python3.8/dist-packages (from fpdf2) (4.38.0)\n"
          ]
        }
      ]
    },
    {
      "cell_type": "markdown",
      "source": [
        "# Cornerstone Input\n",
        "\n",
        "This section imports all of the input files, except tournament format,\n",
        "which is handled by the tournament_format script.\n",
        "\n",
        "TODO uncomment sys.exit at end of this script for testing\n",
        "\n",
        "TODO figure out how to handle blank spaces and/or none in input file...\n",
        "There was an unusual error where integers were being converted to floats\n",
        "if one of the cells in a range was empty instead of string 'none'.\n",
        "\n",
        "TODO apparently bracket names (and presumably other things) are case-sensitive.\n",
        "\n",
        "TODO currently a global variable for checking for errors, which is a no no?\n"
      ],
      "metadata": {
        "id": "jaurrPCkdJTm"
      }
    },
    {
      "cell_type": "code",
      "source": [
        "error = 0\n",
        "\n",
        "# checks for duplicates and (optional) character limits\n",
        "def error_check(alist, listname, max_length=float('inf'), max_duplicates=1):\n",
        "    global error  # TODO this is apparently a no no, but works for now\n",
        "    print('\\n')\n",
        "    # duplicate checker\n",
        "    seen = {}\n",
        "    duplicates = []\n",
        "    for item in alist:\n",
        "        if item not in seen:\n",
        "            seen[item] = 1\n",
        "        else:\n",
        "            seen[item] += 1\n",
        "            if seen[item] > max_duplicates:\n",
        "                duplicates.append(' - ' + item)\n",
        "    if not duplicates:\n",
        "        if max_duplicates > 1:\n",
        "            print(f'No excess duplicates detected for {listname}.')\n",
        "        else:\n",
        "            print(f'No duplicates detected for {listname}.')\n",
        "    else:\n",
        "        # error = True\n",
        "        error += 1\n",
        "        print(f'\\nDuplicates detected for {listname}:')\n",
        "        print(*duplicates, sep='\\n')\n",
        "\n",
        "    # character length checker\n",
        "    long_items = [' - ' + item for item in alist if len(item) > max_length]\n",
        "    if not long_items:\n",
        "        print(f'No character lengths exceeded for {listname}.')\n",
        "    else:\n",
        "        error += 1\n",
        "        # error = True\n",
        "        print(f'Character lengths exceeded for {listname}:')\n",
        "        print(*long_items, sep='\\n')"
      ],
      "metadata": {
        "id": "Hd9MUoAjgvDO"
      },
      "execution_count": null,
      "outputs": []
    },
    {
      "cell_type": "markdown",
      "source": [
        "Function definition: analyze sheet and generate list from pandas dataframe."
      ],
      "metadata": {
        "id": "_Jl-_l1RkTvk"
      }
    },
    {
      "cell_type": "code",
      "source": [
        "def analyze_input(sheet_name, df_dict):\n",
        "    df = df_dict[sheet_name]\n",
        "    temp_list = df.values.tolist()  # note: temp_list may be multiple lists!\n",
        "    return temp_list"
      ],
      "metadata": {
        "id": "fwaKQucMkRJT"
      },
      "execution_count": null,
      "outputs": []
    },
    {
      "cell_type": "markdown",
      "source": [
        "Prompt user for which tournament phase is being implemented. TODO consider in future to automatically evaluate tournament phase based on file name."
      ],
      "metadata": {
        "id": "TBmhikVaiydS"
      }
    },
    {
      "cell_type": "code",
      "source": [
        "# step 0 = identify which excel files to pull? (not implemented while testing)\n",
        "print('\\n***\\nAre you uploading excel sheets for prelim schedule creation'\n",
        "      + ' or rebracketing for playoffs?')\n",
        "# tournament_phase = input('   enter \"prelims\" or \"playoffs\" => ')\n",
        "tournament_phase = 'prelims'\n",
        "\n",
        "while tournament_phase not in ['prelims', 'playoffs', 'super']:\n",
        "    print('\\n***incorrect input provided, please retry***')\n",
        "    print('\\nSelect either prelim schedule creation or '\n",
        "          + 'rebracketing for playoffs:')\n",
        "    tournament_phase = input('   enter \"prelims\" or \"playoffs\" => ')"
      ],
      "metadata": {
        "colab": {
          "base_uri": "https://localhost:8080/"
        },
        "id": "dH0Bwv5_knSt",
        "outputId": "51f6fc1c-b59e-4185-e6c6-da872b84ab7f"
      },
      "execution_count": null,
      "outputs": [
        {
          "output_type": "stream",
          "name": "stdout",
          "text": [
            "\n",
            "***\n",
            "Are you uploading excel sheets for prelim schedule creation or rebracketing for playoffs?\n"
          ]
        }
      ]
    },
    {
      "cell_type": "markdown",
      "source": [
        "---\n",
        "\n",
        "Upload the prelims_data excel spreadsheet from local computer, and create dictionary containing the sheet name and each dataframe.\n",
        "\n",
        "TODO For now, this is commented out. While testing Cornerstone as I'm porting over to Colab, I will be directly pulling the excel file from a dedicated location in github."
      ],
      "metadata": {
        "id": "QIwjrPCFjYas"
      }
    },
    {
      "cell_type": "code",
      "source": [
        "# from google.colab import files\n",
        "# file_upload = files.upload()\n",
        "# file_upload = list(file_upload.keys())[0]\n",
        "\n",
        "# sheet_names = ['tournament format', 'list of teams', 'team codes',\n",
        "#                 'group names', 'room assignments',\n",
        "#                 'QR codes', 'text input']\n",
        "# df_dict_prelim = pd.read_excel(file_upload,\n",
        "#                                sheet_name=sheet_names)"
      ],
      "metadata": {
        "id": "xysCWCW7g83a"
      },
      "execution_count": null,
      "outputs": []
    },
    {
      "cell_type": "code",
      "source": [
        "sheet_names = ['tournament format', 'list of teams', 'team codes',\n",
        "                'group names', 'room assignments',\n",
        "                'QR codes', 'text input']\n",
        "url = \"https://github.com/victorprieto2265/cornerstone/blob/main/data%20input/prelims_data.xlsx?raw=true\"\n",
        "df_dict_prelim = pd.read_excel(url,\n",
        "                               sheet_name=sheet_names)\n"
      ],
      "metadata": {
        "id": "Y1gg7KUvlGRK"
      },
      "execution_count": null,
      "outputs": []
    },
    {
      "cell_type": "markdown",
      "source": [
        "Using the analyze_input function, create a list from each tab of the spreadsheet corresponding to the relevant information (e.g. a list of room assignments). If in playoffs or superplayoffs, also create the relevant lists there."
      ],
      "metadata": {
        "id": "EvXL0iGwFMH7"
      }
    },
    {
      "cell_type": "code",
      "source": [
        "list_of_teams = analyze_input('list of teams', df_dict_prelim)\n",
        "team_codes = analyze_input('team codes', df_dict_prelim)\n",
        "room_assignments = analyze_input('room assignments', df_dict_prelim)\n",
        "qr_codelist = analyze_input('QR codes', df_dict_prelim)\n",
        "textlist = analyze_input('text input', df_dict_prelim)\n",
        "tournament_format = analyze_input('tournament format', df_dict_prelim)\n",
        "\n",
        "group_names = analyze_input('group names', df_dict_prelim)\n",
        "prelim_group_names = [row[0] for row in group_names]\n",
        "\n",
        "if tournament_phase in ['playoffs', 'super']:\n",
        "    playoff_bracket_names = [row[1] for row in group_names]\n",
        "    playoff_bracket_names = [x for x in playoff_bracket_names\n",
        "                             if str(x) != 'nan']\n",
        "if tournament_phase == 'super':\n",
        "    super_bracket_names = [row[2] for row in group_names]\n",
        "    super_bracket_names = [x for x in super_bracket_names\n",
        "                             if str(x) != 'nan']"
      ],
      "metadata": {
        "id": "3CAhOiL09mfs"
      },
      "execution_count": null,
      "outputs": []
    },
    {
      "cell_type": "markdown",
      "source": [
        "A dictionary containing general information about the tournament is also generated from the tournament_format sheet.\n",
        "\n",
        "It's necessary to convert the datetime value from excel to a more suitable string before printing."
      ],
      "metadata": {
        "id": "irPSh0zaFwLj"
      }
    },
    {
      "cell_type": "code",
      "source": [
        "format_dict = {}\n",
        "for row in tournament_format:\n",
        "    key = row[0]  # item, e.g. \"tournament name\"\n",
        "    value = row[1]  # input, e.g. \"2022 NSC\"\n",
        "    format_dict[key] = value\n",
        "\n",
        "# convert Excel datetime format to more suitable date string\n",
        "date = format_dict['tournament date'].strftime('%B %d, %Y')\n",
        "format_dict['tournament date'] = date"
      ],
      "metadata": {
        "id": "SNGO4QFRkOZ5"
      },
      "execution_count": null,
      "outputs": []
    },
    {
      "cell_type": "markdown",
      "source": [
        "Next is the analysis section for the text and QR code inputs. Did the user turn these on? If not, these sections are skipped.\n",
        "\n",
        "TODO qr_codes used to have a NoEscape function, but that was because of pylatex and has been removed."
      ],
      "metadata": {
        "id": "8EDjXCXfn9Wd"
      }
    },
    {
      "cell_type": "code",
      "source": [
        "if format_dict['QR codes'] == 'Y':\n",
        "    qr_toggle = True\n",
        "\n",
        "    qr_names = [code[0] for code in qr_codelist]\n",
        "    qr_codes = [code[2] for code in qr_codelist]\n",
        "    qr_captions = [code[3] for code in qr_codelist]\n",
        "\n",
        "else:\n",
        "    qr_toggle = False\n",
        "    qr_codes = False\n",
        "    qr_captions = False\n",
        "\n",
        "if format_dict['text'] == 'Y':\n",
        "    text_toggle = True\n",
        "    texts = [text[1] for text in textlist]\n",
        "\n",
        "    # lorem text, delete later\n",
        "    lorem = '''\n",
        "\n",
        "    Lorem ipsum dolor sit amet. Sed iusto reprehenderit ut quis voluptas ea Quis assumenda ut eius magni eum voluptate modi? Id unde libero ad pariatur sunt eos nisi possimus est omnis nisi ut internos laboriosam. Sit nesciunt ducimus et totam maxime est voluptas vero sed itaque nihil. Et expedita culpa et fuga sunt quo esse ipsam eos doloribus autem rem perferendis modi et molestiae vitae.\n",
        "\n",
        "    Sed cumque odio eum temporibus deleniti ad consequatur consequatur aut molestias maiores. Est doloribus tenetur est dolorem ducimus sit quasi provident. Est facere expedita non expedita molestiae non error magnam vel obcaecati debitis et blanditiis reiciendis est cupiditate voluptatem ea soluta consequatur. Qui tempore ipsam eos asperiores aliquid ex unde velit est repellendus temporibus hic quidem assumenda!\n",
        "\n",
        "    Non autem maiores aut reprehenderit nulla sit repellendus dolore ut illum incidunt ut dignissimos eaque! Ex aperiam minima eos quis dolor id consequatur eligendi ut culpa galisum. Non fugiat corporis vel doloremque dignissimos sit vero quasi sed voluptatem explicabo.\n",
        "\n",
        "    '''\n",
        "else:\n",
        "    text_toggle = False\n",
        "    texts = False"
      ],
      "metadata": {
        "id": "cZ3mT363oBcD"
      },
      "execution_count": null,
      "outputs": []
    },
    {
      "cell_type": "markdown",
      "source": [
        "More dictionary creation here: this time, for team names and team codes.\n",
        "\n",
        "RFE get rid of team codes if the user is okay with foregoing the complete team schedule in favor of individual team schedules."
      ],
      "metadata": {
        "id": "ozsWkM-bHtSP"
      }
    },
    {
      "cell_type": "code",
      "source": [
        "# key is team name\n",
        "# value is team code\n",
        "# also created a dictionary where the key/value pairs are swapped\n",
        "team_code_dict = {}\n",
        "code_team_dict = {}\n",
        "for row in team_codes:\n",
        "    team_name = row[0]\n",
        "    team_code = row[1]\n",
        "    team_code_dict[team_name] = team_code\n",
        "    code_team_dict[team_code] = team_name\n",
        "\n",
        "# key is prelim group and a number (i.e. Accra1)\n",
        "# value is corresponding room (i.e. Grand Ballroom A is Accra1)\n",
        "# also created dictionary where key is a playoff bracket instead\n",
        "prelim_room_dict = {}\n",
        "playoff_room_dict = {}\n",
        "super_room_dict = {}\n",
        "for i in room_assignments:\n",
        "    key = i[1] + str(i[2])\n",
        "    value = i[0]\n",
        "    if tournament_phase == 'prelims':\n",
        "        prelim_room_dict[key] = value\n",
        "    elif tournament_phase == 'playoffs':\n",
        "        playoff_room_dict[key] = value\n",
        "    elif tournament_phase == 'super':\n",
        "        super_room_dict[key] = value"
      ],
      "metadata": {
        "id": "zCCyM_MCg-H0"
      },
      "execution_count": null,
      "outputs": []
    },
    {
      "cell_type": "markdown",
      "source": [
        "Last is the error check section, to see if any of the data submitted by the user was improperly formatted."
      ],
      "metadata": {
        "id": "dKTcWKPmHfV8"
      }
    },
    {
      "cell_type": "code",
      "source": [
        "# %% error catching\n",
        "\n",
        "# if prelim_team_count <= 3 or playoff_team_count <= 3:\n",
        "#     print('Unable to produce round robins smaller than 4.')\n",
        "#     sys.exit()\n",
        "\n",
        "# if prelim_team_count >= 15 or playoff_team_count >= 15:\n",
        "#     print('Unable to produce round robins larger than 14.')\n",
        "#     sys.exit()\n",
        "\n",
        "# TODO modify max_duplicates to be flexible on schedule and not hard coded\n",
        "# or perhaps get rid of max duplicates since it doesn't make a lot of sense\n",
        "# error check imported lists/sublists\n",
        "error_check([sublist[0] for sublist in list_of_teams],\n",
        "            'the team names in list_of_teams',\n",
        "            max_length=26)\n",
        "\n",
        "# error_check([sublist[2] for sublist in list_of_teams],\n",
        "#             'the prelim groups in list_of_teams',\n",
        "#             max_length=15,\n",
        "#             )\n",
        "\n",
        "error_check([sublist[1] for sublist in team_codes],\n",
        "            'the team codes in team_codes',\n",
        "            max_length=4)\n",
        "\n",
        "try:\n",
        "    error_check(prelim_group_names,\n",
        "                'the groups in prelim_group_names',\n",
        "                max_length=15)\n",
        "except:  # TODO bare except\n",
        "    None\n",
        "\n",
        "try:\n",
        "    error_check(playoff_bracket_names,\n",
        "                'the brackets in playoff_bracket_names',\n",
        "                max_length=15)\n",
        "except:  # TODO bare except\n",
        "    None\n",
        "\n",
        "error_check([sublist[0] for sublist in room_assignments],\n",
        "            'the list of rooms in room_assignments',\n",
        "            max_length=15)\n",
        "\n",
        "if error == 0:\n",
        "    print('\\n*** No errors detected upon import. ***')\n",
        "else:\n",
        "    print('\\n*** Errors detected during import! ***')\n",
        "    sys.exit()"
      ],
      "metadata": {
        "id": "DhUxZUHJHehk",
        "colab": {
          "base_uri": "https://localhost:8080/"
        },
        "outputId": "e3949786-c4f9-4441-a544-6639da27eb2e"
      },
      "execution_count": null,
      "outputs": [
        {
          "output_type": "stream",
          "name": "stdout",
          "text": [
            "\n",
            "\n",
            "No duplicates detected for the team names in list_of_teams.\n",
            "No character lengths exceeded for the team names in list_of_teams.\n",
            "\n",
            "\n",
            "No duplicates detected for the team codes in team_codes.\n",
            "No character lengths exceeded for the team codes in team_codes.\n",
            "\n",
            "\n",
            "No duplicates detected for the groups in prelim_group_names.\n",
            "No character lengths exceeded for the groups in prelim_group_names.\n",
            "\n",
            "\n",
            "No duplicates detected for the list of rooms in room_assignments.\n",
            "No character lengths exceeded for the list of rooms in room_assignments.\n",
            "\n",
            "*** No errors detected upon import. ***\n"
          ]
        }
      ]
    },
    {
      "cell_type": "markdown",
      "source": [
        "# Function Definitions"
      ],
      "metadata": {
        "id": "owcZyEiJdJTm"
      }
    },
    {
      "cell_type": "markdown",
      "source": [
        "Function for removing duplicates from a list."
      ],
      "metadata": {
        "id": "uQuJVhmyA3CC"
      }
    },
    {
      "cell_type": "code",
      "source": [
        "def remove_duplicates(alist):\n",
        "    newlist = []\n",
        "    [newlist.append(x) for x in alist if x not in newlist]\n",
        "    return newlist"
      ],
      "metadata": {
        "id": "a81URiBdA7G8"
      },
      "execution_count": null,
      "outputs": []
    },
    {
      "cell_type": "markdown",
      "source": [
        "original function_definitions.py"
      ],
      "metadata": {
        "id": "EUZolcmPAy4y"
      }
    },
    {
      "cell_type": "code",
      "source": [
        "# import time\n",
        "# import sys\n",
        "# from pathlib import Path\n",
        "# from pylatex import (Document, Tabularx, Command,\n",
        "#                       NewPage, HugeText, Package,\n",
        "#                      VerticalSpace)\n",
        "# from pylatex.utils import NoEscape\n",
        "# from cornerstone_input import format_dict\n",
        "\n",
        "# # place additional modules here\n",
        "\n",
        "# header = \"\"\"\n",
        "\n",
        "# Depository for a bunch of class and function definitions shared across\n",
        "# prelim/playoff scripts.\n",
        "\n",
        "# TODO what if snake seed is fed a list with odd number of teams?\n",
        "\n",
        "# TODO what if qr_count ≠ 3?\n",
        "\n",
        "# Created on Mon Nov 1 13:53:44 2021 Eastern Time\n",
        "\n",
        "# @author: Victor Prieto\n",
        "\n",
        "# \"\"\"\n",
        "\n",
        "\n",
        "# # starts program runtime\n",
        "# start_time = time.time()\n",
        "# print('\\n', header)\n",
        "# print('start time: %s' % time.ctime())\n",
        "\n",
        "# # %% function definitions\n",
        "\n",
        "\n",
        "# def qr_code(doc, qr_codes, qr_captions):\n",
        "\n",
        "#     doc.append(NoEscape(r'\\rowcolors{3}{white}{white}'))\n",
        "\n",
        "#     qr_count = len(qr_codes)\n",
        "#     if qr_count != 3:\n",
        "#         print('WARNING: number of qr_codes does not equal 3.')\n",
        "#         sys.exit()\n",
        "#     header_string = 'Y' * qr_count\n",
        "#     width = r\"\\textwidth\"\n",
        "\n",
        "#     with doc.create(Tabularx(header_string,\n",
        "#                              width_argument=NoEscape(width))) as table:\n",
        "#         table.add_row(qr_codes, strict=False)\n",
        "#         table.add_empty_row()\n",
        "#         table.add_row(qr_captions, strict=False)\n",
        "\n",
        "\n",
        "# def split_list(alist, wanted_parts=1):\n",
        "#     length = len(alist)\n",
        "#     return [alist[i*length // wanted_parts: (i+1)*length // wanted_parts]\n",
        "#             for i in range(wanted_parts)]\n",
        "\n",
        "\n",
        "# def snake_seed(list_of_teams, bracket_count):\n",
        "#     \"\"\"\n",
        "#     Parameters\n",
        "#     ----------\n",
        "#     list_of_teams : list\n",
        "#         A list of teams for reordering into playoff brackets by snake seeding.\n",
        "#     bracket_count : int\n",
        "#         Number of playoff brackets to snake seed across.\n",
        "\n",
        "#     Returns\n",
        "#     -------\n",
        "#     newlist : list\n",
        "#         Same list of teams accepted as input, but reordered by snake seeding.\n",
        "#         The list is also split into the number of playoff brackets.\n",
        "#         Example:\n",
        "#             (1, 2, 3, 4... 23, 24)\n",
        "#             snake seeded across four brackets becomes\n",
        "#             ((1, 8, 9, 16, 17, 24), (2, 7, 10, 15, 18... 12, 13, 20, 21))\n",
        "\n",
        "#     \"\"\"\n",
        "\n",
        "#     # generates sequence of indices for snake seeding\n",
        "#     sequence_length = 2 * bracket_count\n",
        "#     reps = len(list_of_teams) / sequence_length\n",
        "#     sequence = []\n",
        "#     for i in range(0, int(sequence_length/2)):\n",
        "#         for j in range(0, int(reps)):\n",
        "#             sequence.append(i+j*sequence_length)\n",
        "#             sequence.append((sequence_length-1-i)+j*sequence_length)\n",
        "\n",
        "#     # quits program if odd number of teams in list_of_teams\n",
        "#     if (len(list_of_teams)) % 2 == 1:\n",
        "#         print('ODD NUMBER OF TEAMS DETECTED')\n",
        "#         sys.exit()\n",
        "\n",
        "#     # use sequence of indices to generate new list of teams\n",
        "#     newlist = (list_of_teams[index] for index in sequence)\n",
        "#     return newlist\n",
        "\n",
        "\n",
        "# def alternating_rows(doc, color):\n",
        "#     return doc.append(NoEscape(r'\\rowcolors{3}{white}{%s}' % color))\n",
        "\n",
        "\n",
        "# def duplicate_checker(alist):\n",
        "#     seen = set()\n",
        "#     for x in alist:\n",
        "#         if x in seen:\n",
        "#             return True\n",
        "#         seen.add(x)\n",
        "#     return False\n",
        "\n",
        "\n",
        "# def start_latex(filename_input, docname, title=True, fontsize=False):\n",
        "\n",
        "#     Path(\"./output/\").mkdir(parents=True, exist_ok=True)\n",
        "#     file_path = r'./output/'\n",
        "#     Path(file_path).mkdir(parents=True, exist_ok=True)\n",
        "#     filename = file_path + filename_input        \n",
        "    \n",
        "#     geometry_options = {\n",
        "#         \"includeheadfoot\": True\n",
        "#     }\n",
        "\n",
        "#     doc = Document(filename, geometry_options=geometry_options)\n",
        "\n",
        "#     # this changed font sizes, but it doesn't work so well\n",
        "#     if fontsize is True:\n",
        "#         doc = Document(filename_input, geometry_options=geometry_options,\n",
        "#                        font_size='')\n",
        "#         doc.append(Command('fontsize', arguments=['12', '12']))\n",
        "#         doc.append(Command('selectfont'))\n",
        "\n",
        "#     doc.preamble.append(Command('title', format_dict['tournament name']))\n",
        "#     doc.preamble.append(Command('author', format_dict['tournament location']))\n",
        "#     doc.preamble.append(Command('date', format_dict['tournament date']))\n",
        "    \n",
        "#     doc.packages.append(Package('qrcode'))  # add qrcode to packages\n",
        "#     doc.packages.append(Package('fancyhdr'))  # add qrcode to packages\n",
        "\n",
        "#     doc.append(NoEscape(r'\\newcolumntype{Y}{>{\\centering\\arraybackslash}X}'))\n",
        "\n",
        "#     # TODO vertically center docname text on page\n",
        "#     if title is True:\n",
        "#         doc.append(NoEscape(r'\\maketitle'))\n",
        "#         doc.append(VerticalSpace('48pt'))\n",
        "#         doc.append(NoEscape(r'\\begin{center}'))\n",
        "#         doc.append(HugeText(docname))\n",
        "#         doc.append(NoEscape(r'\\end{center}'))\n",
        "#         doc.append(NewPage())\n",
        "    \n",
        "#     doc.append(NoEscape(r'\\pagestyle{fancy}'))\n",
        "#     doc.append(NoEscape(r'\\fancyhf{}'))\n",
        "#     date = '{' + format_dict['tournament date'] + '}'\n",
        "#     name = '{' + format_dict['tournament name'] + '}'\n",
        "#     doc.append(NoEscape(fr'\\rhead{date}'))\n",
        "#     doc.append(NoEscape(fr'\\lhead{name}'))\n",
        "#     doc.append(NoEscape(r'\\rfoot{Created by Cornerstone.}'))\n",
        "        \n",
        "#     return doc\n",
        "\n",
        "\n",
        "# def close_latex(filename_input, doc_input):\n",
        "#     file_path = r'./output/'\n",
        "#     filename = file_path + filename_input\n",
        "#     doc_input.generate_tex()\n",
        "#     doc_input.generate_pdf()\n",
        "\n",
        "#     file = open(filename + '.tex')\n",
        "#     latex_string = file.read()\n",
        "#     bad_string = '\\\\usepackage{lastpage}%'\n",
        "#     good_string = '\\\\usepackage[table]{xcolor}%'\n",
        "#     # print(latex_string)\n",
        "#     latex_string = latex_string.replace(bad_string, good_string)\n",
        "\n",
        "#     # for visual debugging\n",
        "#     # print('\\n\\n', latex_string[0:700], '\\n\\n')\n",
        "\n",
        "#     with open(f'{filename}.tex', 'w') as f:\n",
        "#         f.write(latex_string)\n",
        "\n",
        "\n",
        "# # %% classes, mostly not in use\n",
        "# # TODO figure out class inheritance for team/prelim_team/playoff_team\n",
        "# class team:\n",
        "#     def __init__(self,\n",
        "#                  name,\n",
        "#                  code):\n",
        "#         self.name = name\n",
        "#         self.code = code\n",
        "\n",
        "\n",
        "# class prelim_team(team):\n",
        "#     def __init__(self,\n",
        "#                  name,\n",
        "#                  code,\n",
        "#                  prelim_group,\n",
        "#                  prelim_seed):\n",
        "#         super().__init__(name, code)\n",
        "#         self.prelim_group = prelim_group\n",
        "#         self.prelim_seed = prelim_seed\n",
        "\n",
        "\n",
        "# class playoff_team():\n",
        "#     def __init__(self,\n",
        "#                  name,\n",
        "#                  code,\n",
        "#                  prelim_group,\n",
        "#                  playoff_bracket,\n",
        "#                  playoff_seed):  # playoff seed also the prelim finish\n",
        "#         self.name = name\n",
        "#         self.code = code\n",
        "#         self.prelim_group = prelim_group\n",
        "#         self.playoff_bracket = playoff_bracket\n",
        "#         self.playoff_seed = playoff_seed\n",
        "\n",
        "# # %% more function definitions\n",
        "\n",
        "\n",
        "# def header_stringify(teamcount, tabularx=False):\n",
        "#     \"\"\"\n",
        "\n",
        "#     Parameters\n",
        "#     ----------\n",
        "#     teamcount : int\n",
        "#         Number of teams in the round robin.\n",
        "#     tabularx : bool, optional\n",
        "#         Changes header string to account for newcolumntype Y, used in tabularx.\n",
        "#         The default is False.\n",
        "\n",
        "#     Returns\n",
        "#     -------\n",
        "#     A string for pylatex to use when defining the table.\n",
        "#     Example: '|l|cc|cc|cc|cc|'\n",
        "\n",
        "#     If tabularx is set to True, returns a string that utilizes newcolumntype Y.\n",
        "#     Example: '|l|Y|Y|Y|Y|Y|Y|'\n",
        "\n",
        "#     \"\"\"\n",
        "\n",
        "#     roomcount = teamcount // 2\n",
        "\n",
        "#     header_string = '|l' + ('|cc' * roomcount + '|')\n",
        "#     if teamcount % 2 == 1:\n",
        "#         header_string = header_string + 'c|'\n",
        "\n",
        "#     if tabularx is True:\n",
        "#         header_string = '|l' + ('|Y' * teamcount + '|')\n",
        "\n",
        "#     return header_string\n",
        "\n",
        "\n",
        "# # %% prints runtime\n",
        "# print('end time: %s' % time.ctime())\n",
        "# print(\"--- %s seconds ---\" % '%.3f' % (time.time() - start_time))\n",
        "# print(\"--- %s minutes ---\" % '%.3f' % (time.time()/60 - start_time/60))"
      ],
      "metadata": {
        "id": "83PLhfS0ArVn"
      },
      "execution_count": null,
      "outputs": []
    },
    {
      "cell_type": "markdown",
      "source": [
        "# Standard Scheduler Function\n",
        "\n",
        "Created on Mon Nov 22 2021\n",
        "\n",
        "Definition of functions used for creating a table for a round robin schedule,\n",
        "between 4 and 14 teams.\n",
        "\n",
        "TODO if possible, fix pylatex table lines and shading in this function"
      ],
      "metadata": {
        "id": "GEJoeZNfdPrN"
      }
    },
    {
      "cell_type": "markdown",
      "source": [
        "First: retrieve the round robin templates stored on the cornerstone github page. The templates will automatically populate a dictionary.\n",
        "\n",
        "Each key is the name of the sheet corresponding to the round robin template: rr_6 is a basic 6 team round robin, rr_12 is for 12 teams, rr_crossover_A8 is the 8 team playoff roundrobin including crossovers (there are two possible crossovers, A and B, based on [Dwight Wynne's spreadsheet of schedule formats](https://https://docs.google.com/spreadsheets/d/1BPF6jFvhkh5qe7eesGFGU9KH6FVps2tS3YeseFocpIE/edit#gid=16)).\n",
        "\n",
        "The dictionary values are the pandas dataframes for each template.\n",
        "\n",
        "These templates will be used in the standard scheduler function and retrieved based on the key name."
      ],
      "metadata": {
        "id": "Q__BsPTWAtPh"
      }
    },
    {
      "cell_type": "code",
      "source": [
        "url = \"https://github.com/victorprieto2265/cornerstone/blob/main/templates/rr_schedules/rr_templates.xlsx?raw=true\"\n",
        "rr_template_dict = pd.read_excel(url,\n",
        "                                 sheet_name = None)\n",
        "rr_template_dict.keys()"
      ],
      "metadata": {
        "colab": {
          "base_uri": "https://localhost:8080/"
        },
        "id": "7FtnKegkiJUy",
        "outputId": "b0ce9b85-2d1c-4518-8d94-4726e75d6c18"
      },
      "execution_count": null,
      "outputs": [
        {
          "output_type": "execute_result",
          "data": {
            "text/plain": [
              "dict_keys(['rr_3', 'rr_4', 'rr_5', 'rr_6', 'rr_7', 'rr_8', 'rr_9', 'rr_10', 'rr_11', 'rr_12', 'rr_13', 'rr_14', 'rr_crossover_B3', 'rr_crossover_A6', 'rr_crossover_B6', 'rr_crossover_B7', 'rr_crossover_A8', 'rr_crossover_B8'])"
            ]
          },
          "metadata": {},
          "execution_count": 112
        }
      ]
    },
    {
      "cell_type": "markdown",
      "source": [
        "DONE \n",
        "\n",
        "*  testing of proper schedule retrieval from rr_template_dict\n",
        "\n",
        "TODO\n",
        "\n",
        "*  fix the crossover templates in the excel file, which right now are a mess "
      ],
      "metadata": {
        "id": "szp10lDJkBo2"
      }
    },
    {
      "cell_type": "code",
      "source": [
        "teamcount = 8\n",
        "crossover = 'A'\n",
        "\n",
        "if crossover is False:\n",
        "  key = f'rr_{teamcount}'\n",
        "else:\n",
        "  key = f'rr_crossover_{crossover}{teamcount}'\n",
        "\n",
        "rr_schedule = rr_template_dict[key].values.tolist()\n",
        "\n",
        "print(*rr_schedule, sep='\\n')"
      ],
      "metadata": {
        "id": "xDcLJrurF1zG",
        "colab": {
          "base_uri": "https://localhost:8080/"
        },
        "outputId": "88e5289d-11b5-4d4b-c771-25f6c3463ccb"
      },
      "execution_count": null,
      "outputs": [
        {
          "output_type": "stream",
          "name": "stdout",
          "text": [
            "['A1', 'B2', 'C1', 'D2', 'B1', 'A2', 'D1', 'C2']\n",
            "['C1', 'A2', 'A1', 'C2', 'D1', 'B2', 'B1', 'D2']\n",
            "['B1', 'C2', 'D1', 'A2', 'A1', 'D2', 'C1', 'B2']\n",
            "['A1', 'D1', 'B2', 'C2', 'B1', 'C1', 'A2', 'D2']\n",
            "['B2', 'D2', 'B1', 'D1', 'A2', 'C2', 'A1', 'C1']\n",
            "['C1', 'D1', 'A1', 'B1', 'C2', 'D2', 'A2', 'B2']\n"
          ]
        }
      ]
    },
    {
      "cell_type": "markdown",
      "source": [
        "Definition of the standard scheduler function is below."
      ],
      "metadata": {
        "id": "rLOCcNtEFpce"
      }
    },
    {
      "cell_type": "code",
      "source": [
        "def standard_schedule(group_name, teamcode_dict, room_dict, roundstart=1,\n",
        "                      crossover=False, superplayoff=False):\n",
        "    \"\"\"\n",
        "\n",
        "\n",
        "    Parameters\n",
        "    ----------\n",
        "    groupname : string\n",
        "        String of the prelim group or playoff bracket name.\n",
        "        Example: Lilongwe\n",
        "    teamcode_dict : dict\n",
        "        k : v = a group/bracket code : teamcode corresponding to that code\n",
        "        example: Lilongwe4 = MBA\n",
        "    room_dict : dict\n",
        "        k : v = a group/bracket code : room corresponding to that code\n",
        "        example: Lilongwe2 = Suite 1132\n",
        "    roundstart : int, optional\n",
        "        Number for the first round in the schedule. The default is 1.\n",
        "\n",
        "    Returns\n",
        "    -------\n",
        "    schedule_grid : list\n",
        "        Latex-friendly table. First row = table header, remaining rows =\n",
        "        schedule for each round.\n",
        "\n",
        "    \"\"\"\n",
        "\n",
        "    # produce teamlist\n",
        "    teamlist = [k for k, v in list(teamcode_dict.items())\n",
        "                if k.startswith(group_name)]\n",
        "    sorted_list = sorted(teamlist)\n",
        "    teamlist = [teamcode_dict[i] for i in sorted_list]\n",
        "\n",
        "    # identify number of teams in teamlist and appropriate number of rooms\n",
        "    teamcount = len(teamlist)\n",
        "    roomcount = teamcount // 2\n",
        "\n",
        "    # retrieve correct rr_template from rr_template_dict\n",
        "    if crossover is False:\n",
        "      key = f'rr_{teamcount}'\n",
        "    else:\n",
        "      key = f'rr_crossover_{crossover}{teamcount}'\n",
        "\n",
        "    rr_schedule = rr_template_dict[key].values.tolist()\n",
        "\n",
        "    # produce roomlist\n",
        "    roomlist = [k for k, v in list(room_dict.items())\n",
        "                if k.startswith(group_name)]\n",
        "    roomlist = [room_dict[i] for i in sorted(roomlist)]\n",
        "\n",
        "    # populate header with room names\n",
        "    rooms = []\n",
        "    header = ['']\n",
        "    for index in range(roomcount):\n",
        "        room = roomlist[index]\n",
        "        header.append(room)\n",
        "\n",
        "    # the last element in the header should be BYE if teamcount is odd\n",
        "    if teamcount % 2 == 1:\n",
        "        header.append('BYE')\n",
        "\n",
        "    # use rr_schedule template and roundstart to produce rest of schedule grid\n",
        "    schedule_grid = [header]\n",
        "    for round_num, row in enumerate(rr_schedule):\n",
        "        round_num += roundstart\n",
        "        new_row = [f'Round {round_num}']\n",
        "        for index in row:\n",
        "            code = group_name + str(index)\n",
        "            team = teamcode_dict[code]\n",
        "            new_row.append(team)\n",
        "        schedule_grid.append(new_row)\n",
        "\n",
        "    return schedule_grid"
      ],
      "metadata": {
        "id": "wlG8swh1trsX"
      },
      "execution_count": null,
      "outputs": []
    },
    {
      "cell_type": "markdown",
      "source": [
        "## Individual Schedule Functions "
      ],
      "metadata": {
        "id": "5n9ob-8odPkM"
      }
    },
    {
      "cell_type": "markdown",
      "source": [
        "# Prelim Scheduler\n",
        "\n",
        "This section reads the list of prelim teams and information from the tournament format dictionary to produce a set of prelim schedules."
      ],
      "metadata": {
        "id": "K4OmpZngcsFP"
      }
    },
    {
      "cell_type": "markdown",
      "source": [
        "dictionary creation\n",
        "\n",
        "prelim group names"
      ],
      "metadata": {
        "id": "Is1C6X6cAbNi"
      }
    },
    {
      "cell_type": "code",
      "source": [
        "prelim_group_names = [sublist[1] for sublist in list_of_teams]\n",
        "prelim_group_names = remove_duplicates(prelim_group_names)\n",
        "\n",
        "# key is a prelim group name and a seed (i.e. Belmopan6)\n",
        "# value is the corresponding team (i.e. Great Valley A for Belmopan6)\n",
        "# also created a dictionary where values are team codes (i.e. GVA)\n",
        "prelim_team_dict = {}\n",
        "prelim_teamcode_dict = {}\n",
        "team_group_dict = {}\n",
        "teamcode_group_dict = {}\n",
        "for i in list_of_teams:\n",
        "    # key = i[2] + str(i[3])\n",
        "    key = i[1] + str(i[2])\n",
        "    value = i[0]  # team name\n",
        "    prelim_team_dict[key] = value\n",
        "    # also created dictionary where k/v pairs are swapped\n",
        "    team_group_dict[value] = key\n",
        "    # value = i[1]  # team code\n",
        "    value = team_code_dict[value]\n",
        "    prelim_teamcode_dict[key] = value\n",
        "    # also created dictionary where k/v pairs are swapped\n",
        "    teamcode_group_dict[value] = key\n",
        "\n",
        "# key is prelim group and a number (i.e. Accra1)\n",
        "# value is corresponding room (i.e. Grand Ballroom A is Accra1)\n",
        "# also created dictionary where key is a playoff bracket instead\n",
        "prelim_room_dict = {}\n",
        "for i in room_assignments:\n",
        "    key = i[1] + str(i[2])\n",
        "    value = i[0]\n",
        "    prelim_room_dict[key] = value"
      ],
      "metadata": {
        "id": "yqDIBPxpAXbJ"
      },
      "execution_count": null,
      "outputs": []
    },
    {
      "cell_type": "markdown",
      "source": [
        "full schedule grid creation"
      ],
      "metadata": {
        "id": "rAozDnfXAiC6"
      }
    },
    {
      "cell_type": "code",
      "source": [
        "full_schedule_grid = []\n",
        "\n",
        "# perform this process for each prelim group, add to full_schedule_grid\n",
        "for group_name in prelim_group_names:\n",
        "    schedule_grid = (standard_schedule(group_name,\n",
        "                                       prelim_teamcode_dict,\n",
        "                                       prelim_room_dict))\n",
        "    full_schedule_grid.append(schedule_grid)"
      ],
      "metadata": {
        "id": "9Q-DolBuAaJZ"
      },
      "execution_count": null,
      "outputs": []
    },
    {
      "cell_type": "markdown",
      "source": [
        "To make sure the full_schedule_grid was populated correctly, we'll print it out line by line."
      ],
      "metadata": {
        "id": "2yJI1x6PBUjr"
      }
    },
    {
      "cell_type": "code",
      "source": [
        "# for visual debugging\n",
        "for index, prelim_group in enumerate(prelim_group_names):\n",
        "    print(f'\\nPrelim Group: {prelim_group}')\n",
        "    print(*full_schedule_grid[index], sep='\\n')"
      ],
      "metadata": {
        "id": "Ozt12wMnBT2A",
        "colab": {
          "base_uri": "https://localhost:8080/"
        },
        "outputId": "974a2d34-c5de-46e5-a2b4-7c63347cf333"
      },
      "execution_count": null,
      "outputs": [
        {
          "output_type": "stream",
          "name": "stdout",
          "text": [
            "\n",
            "Prelim Group: Spooky\n",
            "['', 'Room 205', 'Room 206', 'Room 207', 'BYE']\n",
            "['Round 1', 'HNB', 'NBB', 'VSS', 'DRA', 'KPB', 'HTC', 'CHE']\n",
            "['Round 2', 'NBB', 'DRA', 'HNB', 'HTC', 'VSS', 'CHE', 'KPB']\n",
            "['Round 3', 'DRA', 'HTC', 'NBB', 'CHE', 'HNB', 'KPB', 'VSS']\n",
            "['Round 4', 'CHE', 'HTC', 'KPB', 'DRA', 'VSS', 'NBB', 'HNB']\n",
            "['Round 5', 'KPB', 'CHE', 'VSS', 'HTC', 'HNB', 'DRA', 'NBB']\n",
            "['Round 6', 'VSS', 'KPB', 'HNB', 'CHE', 'NBB', 'HTC', 'DRA']\n",
            "['Round 7', 'HNB', 'VSS', 'NBB', 'KPB', 'DRA', 'CHE', 'HTC']\n",
            "\n",
            "Prelim Group: Scary\n",
            "['', 'Room 232', 'Room 238', 'Room 239', 'BYE']\n",
            "['Round 1', 'KPC', 'NBA', 'ILT', 'HTB', 'DRB', 'MPB', 'HNA']\n",
            "['Round 2', 'NBA', 'HTB', 'KPC', 'MPB', 'ILT', 'HNA', 'DRB']\n",
            "['Round 3', 'HTB', 'MPB', 'NBA', 'HNA', 'KPC', 'DRB', 'ILT']\n",
            "['Round 4', 'HNA', 'MPB', 'DRB', 'HTB', 'ILT', 'NBA', 'KPC']\n",
            "['Round 5', 'DRB', 'HNA', 'ILT', 'MPB', 'KPC', 'HTB', 'NBA']\n",
            "['Round 6', 'ILT', 'DRB', 'KPC', 'HNA', 'NBA', 'MPB', 'HTB']\n",
            "['Round 7', 'KPC', 'ILT', 'NBA', 'DRB', 'HTB', 'HNA', 'MPB']\n",
            "\n",
            "Prelim Group: Skeletons\n",
            "['', 'Room 240', 'Room 241', 'Room 242', 'BYE']\n",
            "['Round 1', 'KPD', 'MPA', 'HTA', 'PJF', 'WLR', 'HNC', 'WIL']\n",
            "['Round 2', 'MPA', 'PJF', 'KPD', 'HNC', 'HTA', 'WIL', 'WLR']\n",
            "['Round 3', 'PJF', 'HNC', 'MPA', 'WIL', 'KPD', 'WLR', 'HTA']\n",
            "['Round 4', 'WIL', 'HNC', 'WLR', 'PJF', 'HTA', 'MPA', 'KPD']\n",
            "['Round 5', 'WLR', 'WIL', 'HTA', 'HNC', 'KPD', 'PJF', 'MPA']\n",
            "['Round 6', 'HTA', 'WLR', 'KPD', 'WIL', 'MPA', 'HNC', 'PJF']\n",
            "['Round 7', 'KPD', 'HTA', 'MPA', 'WLR', 'PJF', 'WIL', 'HNC']\n"
          ]
        }
      ]
    },
    {
      "cell_type": "markdown",
      "source": [
        "# Class Definitions for fpdf2"
      ],
      "metadata": {
        "id": "A5Qp8Ae2cA7Z"
      }
    },
    {
      "cell_type": "markdown",
      "source": [
        "There are five types of tables that Cornerstone will need to generate:\n",
        "*  the full schedule\n",
        "*  the individualized team schedule\n",
        "*  the individualized room schedule\n",
        "*  the team index\n",
        "*  the playoff quickstart schedule (first playoff room for all teams)\n",
        "\n",
        "The last one will not be needed for the prelim writer, but will be necessary for playoffs (and superplayoffs if needed).\n",
        "\n",
        "For all of these tables, we will create a unique class via fpdf2 for writing the table onto a PDF. "
      ],
      "metadata": {
        "id": "6_mFRVFAcFY9"
      }
    },
    {
      "cell_type": "code",
      "source": [
        "class PDF(FPDF):\n",
        "\n",
        "    def full_schedule(self, header, rows,\n",
        "                      header_color=(28, 97, 57), row_color=(255, 248, 206)):\n",
        "      \n",
        "      header_count = len(header)\n",
        "      if header[-1] == 'BYE':\n",
        "        cell_count = header_count * 2 - 2\n",
        "      else:\n",
        "        cell_count = header_count * 2 - 1\n",
        "      col_width = pdf.epw / cell_count  # distribute columns evenly\n",
        "\n",
        "      header_widths = [col_width * 2] * (header_count - 2)  # populate list with col widths\n",
        "      header_widths.insert(0, col_width)\n",
        "      header_widths.append(col_width)\n",
        "\n",
        "      cell_widths = [col_width] * cell_count\n",
        "\n",
        "      self.set_fill_color(*header_color)  # * required to unpack tuple\n",
        "      self.set_text_color(255)\n",
        "      self.set_draw_color(36, 36, 36)\n",
        "      self.set_line_width(0.3)\n",
        "      self.set_font(style=\"B\")\n",
        "      for col_width, heading in zip(header_widths, header):\n",
        "          self.cell(col_width, 7, heading, border=1, align=\"C\", fill=True)\n",
        "      self.ln()\n",
        "\n",
        "      # Color and font restoration:\n",
        "      self.set_fill_color(*row_color)  # * required to unpack tuple\n",
        "      self.set_text_color(0)\n",
        "      self.set_font()\n",
        "      fill = False\n",
        "      for row in rows:\n",
        "        for index, item in enumerate(row):          \n",
        "          if index == 0:\n",
        "            self.set_font(style=\"B\")\n",
        "          else:\n",
        "            self.set_font()\n",
        "          self.cell(cell_widths[index],\n",
        "                    7,\n",
        "                    item,\n",
        "                    border=\"LR\",\n",
        "                    align=\"C\",\n",
        "                    fill=fill)\n",
        "        self.ln()\n",
        "        fill = not fill\n",
        "        # self.cell(sum(col_widths), 0, \"\", \"T\")  # this was in the original but broke things so it's commented out for now\n",
        "\n",
        "      self.set_fill_color(*header_color)  # * required to unpack tuple\n",
        "      self.set_text_color(255)\n",
        "      self.set_draw_color(36, 36, 36)\n",
        "      self.set_line_width(0.3)\n",
        "      self.set_font(style=\"B\")\n",
        "      for col_width, heading in zip(header_widths, header):\n",
        "          self.cell(col_width, 7, heading, border=1, align=\"C\", fill=True)\n",
        "\n",
        "      self.ln(14)"
      ],
      "metadata": {
        "id": "2sXgrSqj4QQz"
      },
      "execution_count": null,
      "outputs": []
    },
    {
      "cell_type": "code",
      "source": [
        "class PDF(PDF):\n",
        "\n",
        "    def fancy_table(self, header, rows, col_widths=(42, 39, 35, 42)):\n",
        "        # Colors, line width and bold font:\n",
        "        self.set_fill_color(255, 100, 0)\n",
        "        self.set_text_color(255)\n",
        "        self.set_draw_color(255, 0, 0)\n",
        "        self.set_line_width(0.3)\n",
        "        self.set_font(style=\"B\")\n",
        "        for col_width, heading in zip(col_widths, header):\n",
        "            self.cell(col_width, 7, heading, border=1, align=\"C\", fill=True)\n",
        "        self.ln()\n",
        "        # Color and font restoration:\n",
        "        self.set_fill_color(224, 235, 255)\n",
        "        self.set_text_color(0)\n",
        "        self.set_font()\n",
        "        fill = False\n",
        "        for row in rows:\n",
        "            self.cell(col_widths[0], 6, row[0], border=\"LR\", align=\"L\", fill=fill)\n",
        "            self.cell(col_widths[1], 6, row[1], border=\"LR\", align=\"L\", fill=fill)\n",
        "            self.cell(col_widths[2], 6, row[2], border=\"LR\", align=\"R\", fill=fill)\n",
        "            self.cell(col_widths[3], 6, row[3], border=\"LR\", align=\"R\", fill=fill)\n",
        "            self.ln()\n",
        "            fill = not fill\n",
        "        self.cell(sum(col_widths), 0, \"\", \"T\")"
      ],
      "metadata": {
        "id": "nJM6QIB9Auu2"
      },
      "execution_count": null,
      "outputs": []
    },
    {
      "cell_type": "markdown",
      "source": [
        "We will also need to generate class definitions for the page header and page footer."
      ],
      "metadata": {
        "id": "NwhcaSCMcuNA"
      }
    },
    {
      "cell_type": "code",
      "source": [
        "class PDF(PDF):\n",
        "\n",
        "    def page_header(self, tournament_name, tournament_date):\n",
        "                \n",
        "        # Setting font: bold times 11\n",
        "        font_size = 11\n",
        "        self.set_font(\"times\", style=\"I\", size=font_size)\n",
        "\n",
        "        # Print tournament name in upper left:\n",
        "        self.cell(None, 2, tournament_name, new_x=\"LEFT\")\n",
        "\n",
        "        # Create empty cell with bottom border (can modify for centered text)\n",
        "        self.cell(0, None, \" \", \"B\", align=\"C\")\n",
        "\n",
        "        # Print tournament date in upper right\n",
        "        self.cell(0, 2, tournament_date, align=\"R\")\n",
        "\n",
        "        # Performing a line break:\n",
        "        self.ln(20)\n",
        "\n",
        "    def page_footer(self):\n",
        "        \n",
        "        # # putting in a logo:\n",
        "        # self.image(\"../docs/fpdf2-logo.png\", 10, 8, 33)\n",
        "        \n",
        "        # Position cursor at left and 1.5 cm from bottom:\n",
        "        self.set_x(0)\n",
        "        self.set_y(-35)\n",
        "        \n",
        "        # Setting font: times italic 11\n",
        "        font_size = 11\n",
        "        self.set_text_color(0)\n",
        "        self.set_font(\"times\", style=\"I\", size=font_size)\n",
        "        \n",
        "        # Print footer text:\n",
        "        self.cell(0, 6, \"Created by Cornerstone\", border=\"T\", align=\"R\")\n"
      ],
      "metadata": {
        "id": "m_slBLE2dOK0"
      },
      "execution_count": 315,
      "outputs": []
    },
    {
      "cell_type": "markdown",
      "source": [
        "# Prelim PDF Writer"
      ],
      "metadata": {
        "id": "-G75IfqqdJTn"
      }
    },
    {
      "cell_type": "code",
      "source": [
        "print(format_dict['tournament name'])\n",
        "print(format_dict['tournament location'])\n",
        "print(format_dict['tournament date'])\n",
        "\n",
        "pdf = PDF(format=\"letter\")  # default is A4, need to specify US letter\n",
        "\n",
        "# title page\n",
        "pdf.add_page()\n",
        "pdf.page_header(format_dict['tournament name'],\n",
        "                format_dict['tournament date'])\n",
        "\n",
        "header = full_schedule_grid[0][0]\n",
        "grid = full_schedule_grid[0][1:]\n",
        "\n",
        "for index, grid in enumerate(full_schedule_grid):\n",
        "  \n",
        "  header = grid[0]\n",
        "  schedule = grid[1:]\n",
        "  pdf.full_schedule(header, schedule)\n",
        "\n",
        "pdf.page_footer()\n",
        "\n",
        "pdf.output(\"test_output.pdf\")\n",
        "pdf_bytes = pdf.output()\n",
        "base64_pdf = b64encode(pdf_bytes).decode(\"utf-8\")"
      ],
      "metadata": {
        "colab": {
          "base_uri": "https://localhost:8080/"
        },
        "id": "wqJPg3lP4pq8",
        "outputId": "593155d7-15c0-4c4f-dada-1e7bfddb47fc"
      },
      "execution_count": 316,
      "outputs": [
        {
          "output_type": "stream",
          "name": "stdout",
          "text": [
            "LIFT XXI\n",
            "Uniondale, NY\n",
            "October 29, 2022\n"
          ]
        }
      ]
    },
    {
      "cell_type": "code",
      "source": [
        "# Diplay a download button:\n",
        "display(HTML(f'<a style=\"font-size: 30px\" download=\"test_output.pdf\" href=\"data:application/pdf;base64,{base64_pdf}\">Click to download PDF</a>'))"
      ],
      "metadata": {
        "colab": {
          "base_uri": "https://localhost:8080/",
          "height": 54
        },
        "id": "EfFoOvgwS1Ir",
        "outputId": "f9d4174f-2add-490c-b7c3-f3cf19154413"
      },
      "execution_count": 317,
      "outputs": [
        {
          "output_type": "display_data",
          "data": {
            "text/plain": [
              "<IPython.core.display.HTML object>"
            ],
            "text/html": [
              "<a style=\"font-size: 30px\" download=\"test_output.pdf\" href=\"data:application/pdf;base64,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\">Click to download PDF</a>"
            ]
          },
          "metadata": {}
        }
      ]
    },
    {
      "cell_type": "code",
      "source": [
        "stop here"
      ],
      "metadata": {
        "colab": {
          "base_uri": "https://localhost:8080/",
          "height": 130
        },
        "id": "rvXWhkDebPmM",
        "outputId": "9f5e8493-b60c-44ca-c155-019b0595c083"
      },
      "execution_count": 318,
      "outputs": [
        {
          "output_type": "error",
          "ename": "SyntaxError",
          "evalue": "ignored",
          "traceback": [
            "\u001b[0;36m  File \u001b[0;32m\"<ipython-input-318-a96ba3aab008>\"\u001b[0;36m, line \u001b[0;32m1\u001b[0m\n\u001b[0;31m    stop here\u001b[0m\n\u001b[0m         ^\u001b[0m\n\u001b[0;31mSyntaxError\u001b[0m\u001b[0;31m:\u001b[0m invalid syntax\n"
          ]
        }
      ]
    },
    {
      "cell_type": "markdown",
      "source": [
        " Prelim Analysis"
      ],
      "metadata": {
        "id": "iKG1VUXVdJTn"
      }
    },
    {
      "cell_type": "markdown",
      "source": [
        "# Playoff Scheduler"
      ],
      "metadata": {
        "id": "_YfbhDePdJTn"
      }
    },
    {
      "cell_type": "markdown",
      "source": [
        "# Playoff PDF Writer"
      ],
      "metadata": {
        "id": "eexAPF__dJTn"
      }
    },
    {
      "cell_type": "markdown",
      "source": [
        "# Superplayoff Scheduler"
      ],
      "metadata": {
        "id": "Qb5McvXKdPxF"
      }
    },
    {
      "cell_type": "markdown",
      "source": [
        "# Superplayoff PDF Writer "
      ],
      "metadata": {
        "id": "--DoUNDedPuN"
      }
    },
    {
      "cell_type": "markdown",
      "source": [
        "# NSC Scheduler"
      ],
      "metadata": {
        "id": "b3l5IrdtdrTf"
      }
    },
    {
      "cell_type": "markdown",
      "source": [
        "# *** Workspace below this point ***"
      ],
      "metadata": {
        "id": "qagHkeo1VeeJ"
      }
    },
    {
      "cell_type": "markdown",
      "source": [
        "\n",
        "\n",
        "---\n",
        "\n"
      ],
      "metadata": {
        "id": "_k8_duRuVhG4"
      }
    },
    {
      "cell_type": "markdown",
      "source": [
        "# Importing csv files from Github\n",
        "This will be useful later when grabbing templates for the scheduling functions.\n",
        "\n",
        "For more info on loading external files into Colabs, see [this article](https://towardsdatascience.com/7-ways-to-load-external-data-into-google-colab-7ba73e7d5fc7)."
      ],
      "metadata": {
        "id": "rLwWCJ3lixKD"
      }
    },
    {
      "cell_type": "code",
      "source": [
        "filename = 'templates/rr_schedules/rr_10.xlsx'\n",
        "\n",
        "df = pd.read_csv('https://raw.githubusercontent.com/victorprieto2265/cornerstone/main/archive/brackets.csv')\n",
        "\n",
        "# get_all_values gives a list of rows.\n",
        "print(df)"
      ],
      "metadata": {
        "id": "-Wd7s6KAj9it"
      },
      "execution_count": null,
      "outputs": []
    },
    {
      "cell_type": "markdown",
      "source": [
        "What about uploading excel files? Will that work?"
      ],
      "metadata": {
        "id": "8iW6m7Oz0w52"
      }
    },
    {
      "cell_type": "code",
      "source": [
        "url = \"https://github.com/victorprieto2265/cornerstone/blob/main/templates/rr_schedules/rr_templates.xlsx?raw=true\"\n",
        "db=pd.read_excel(url, sheet_name=None)\n",
        "\n",
        "print(type(db))\n",
        "print(db.keys())"
      ],
      "metadata": {
        "id": "Kd83cUbR00zf"
      },
      "execution_count": null,
      "outputs": []
    },
    {
      "cell_type": "markdown",
      "source": [
        "# Compiling latex files (incomplete)"
      ],
      "metadata": {
        "id": "UCnmv2_eVvjP"
      }
    },
    {
      "cell_type": "markdown",
      "source": [
        "Load a sample Latex file from my github repo. In this case, it's team index, which does not have any QR codes."
      ],
      "metadata": {
        "id": "tXq_OSEUWkBH"
      }
    },
    {
      "cell_type": "code",
      "source": [
        "import base64\n",
        "import requests\n",
        "\n",
        "url = 'https://raw.githubusercontent.com/victorprieto2265/cornerstone/main/output/prelim_team_index.tex'\n",
        "\n",
        "req = requests.get(url)\n",
        "req = req.text"
      ],
      "metadata": {
        "id": "6LUaIVrQV-nW"
      },
      "execution_count": null,
      "outputs": []
    },
    {
      "cell_type": "code",
      "source": [
        "from pdflatex import PDFLaTeX\n",
        "from google.colab import drive\n",
        "drive.mount('/content/drive')"
      ],
      "metadata": {
        "id": "sEhER_lVX-Pg"
      },
      "execution_count": null,
      "outputs": []
    },
    {
      "cell_type": "code",
      "source": [
        "filename = 'prelim_team_index.tex'\n",
        "with open(f'/content/drive/My Drive/{filename}', 'w') as f:\n",
        "  f.write(req)\n",
        "!cat /content/drive/My\\ Drive/prelim_team_index.tex"
      ],
      "metadata": {
        "id": "AnU54_nSbHHa"
      },
      "execution_count": null,
      "outputs": []
    },
    {
      "cell_type": "code",
      "source": [
        "!sudo apt install cm-super dvipng texlive-latex-extra texlive-latex-recommended"
      ],
      "metadata": {
        "id": "Nv7ztIeVbVxV"
      },
      "execution_count": null,
      "outputs": []
    },
    {
      "cell_type": "code",
      "source": [
        "!pip install pdflatex\n",
        "from pdflatex import PDFLaTeX\n",
        "pdfl = PDFLaTeX.from_texfile(req)\n",
        "pdf, log, completed_process = pdfl.create_pdf(keep_pdf_file=True, keep_log_file=False)\n"
      ],
      "metadata": {
        "id": "8F3Yx_Tca_2V"
      },
      "execution_count": null,
      "outputs": []
    },
    {
      "cell_type": "code",
      "source": [
        "# drive.flush_and_unmount()"
      ],
      "metadata": {
        "id": "M32Sg87hcZDZ"
      },
      "execution_count": null,
      "outputs": []
    }
  ]
}