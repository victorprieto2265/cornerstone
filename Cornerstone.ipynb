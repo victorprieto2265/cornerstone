{
  "nbformat": 4,
  "nbformat_minor": 0,
  "metadata": {
    "colab": {
      "provenance": [],
      "toc_visible": true,
      "collapsed_sections": [
        "IwJ6m76Ee1va",
        "LxPWT_oriuCh",
        "5n9ob-8odPkM",
        "K4OmpZngcsFP",
        "-G75IfqqdJTn",
        "iKG1VUXVdJTn",
        "_YfbhDePdJTn",
        "eexAPF__dJTn",
        "Qb5McvXKdPxF",
        "--DoUNDedPuN",
        "b3l5IrdtdrTf",
        "qagHkeo1VeeJ",
        "rLwWCJ3lixKD",
        "UCnmv2_eVvjP"
      ],
      "authorship_tag": "ABX9TyMYWtDt5CDOpxt1bYWL6duH",
      "include_colab_link": true
    },
    "kernelspec": {
      "name": "python3",
      "display_name": "Python 3"
    },
    "language_info": {
      "name": "python"
    }
  },
  "cells": [
    {
      "cell_type": "markdown",
      "metadata": {
        "id": "view-in-github",
        "colab_type": "text"
      },
      "source": [
        "<a href=\"https://colab.research.google.com/github/victorprieto2265/cornerstone/blob/main/Cornerstone.ipynb\" target=\"_parent\"><img src=\"https://colab.research.google.com/assets/colab-badge.svg\" alt=\"Open In Colab\"/></a>"
      ]
    },
    {
      "cell_type": "markdown",
      "source": [
        "# TODO\n",
        "\n"
      ],
      "metadata": {
        "id": "IwJ6m76Ee1va"
      }
    },
    {
      "cell_type": "markdown",
      "source": [
        "TODO placeholder\n"
      ],
      "metadata": {
        "id": "QEwWOlwXfE0H"
      }
    },
    {
      "cell_type": "markdown",
      "source": [
        "# Import modules / libraries"
      ],
      "metadata": {
        "id": "LxPWT_oriuCh"
      }
    },
    {
      "cell_type": "code",
      "source": [
        "import sys\n",
        "import pandas as pd\n",
        "!pip install fpdf2\n",
        "import warnings\n",
        "warnings.simplefilter('default', DeprecationWarning)\n",
        "from fpdf import FPDF\n",
        "from base64 import b64encode\n",
        "from IPython.display import display, HTML"
      ],
      "metadata": {
        "id": "pl18nTJ1uVlv",
        "colab": {
          "base_uri": "https://localhost:8080/"
        },
        "outputId": "316f49e4-4d69-48b2-bf55-6b60bb474422"
      },
      "execution_count": 1,
      "outputs": [
        {
          "output_type": "stream",
          "name": "stdout",
          "text": [
            "Looking in indexes: https://pypi.org/simple, https://us-python.pkg.dev/colab-wheels/public/simple/\n",
            "Requirement already satisfied: fpdf2 in /usr/local/lib/python3.8/dist-packages (2.6.1)\n",
            "Requirement already satisfied: defusedxml in /usr/local/lib/python3.8/dist-packages (from fpdf2) (0.7.1)\n",
            "Requirement already satisfied: Pillow!=9.2.*,>=6.2.2 in /usr/local/lib/python3.8/dist-packages (from fpdf2) (7.1.2)\n",
            "Requirement already satisfied: fonttools>=4.34.0 in /usr/local/lib/python3.8/dist-packages (from fpdf2) (4.38.0)\n"
          ]
        }
      ]
    },
    {
      "cell_type": "markdown",
      "source": [
        "# Cornerstone Input\n",
        "\n",
        "This section imports all of the input files, except tournament format,\n",
        "which is handled by the tournament_format script.\n",
        "\n",
        "TODO uncomment sys.exit at end of this script for testing\n",
        "\n",
        "TODO figure out how to handle blank spaces and/or none in input file...\n",
        "There was an unusual error where integers were being converted to floats\n",
        "if one of the cells in a range was empty instead of string 'none'.\n",
        "\n",
        "TODO apparently bracket names (and presumably other things) are case-sensitive.\n",
        "\n",
        "TODO currently a global variable for checking for errors, which is a no no?\n"
      ],
      "metadata": {
        "id": "jaurrPCkdJTm"
      }
    },
    {
      "cell_type": "code",
      "source": [
        "error = 0\n",
        "\n",
        "# checks for duplicates and (optional) character limits\n",
        "def error_check(alist, listname, max_length=float('inf'), max_duplicates=1):\n",
        "    global error  # TODO this is apparently a no no, but works for now\n",
        "    print('\\n')\n",
        "    # duplicate checker\n",
        "    seen = {}\n",
        "    duplicates = []\n",
        "    for item in alist:\n",
        "        if item not in seen:\n",
        "            seen[item] = 1\n",
        "        else:\n",
        "            seen[item] += 1\n",
        "            if seen[item] > max_duplicates:\n",
        "                duplicates.append(' - ' + item)\n",
        "    if not duplicates:\n",
        "        if max_duplicates > 1:\n",
        "            print(f'No excess duplicates detected for {listname}.')\n",
        "        else:\n",
        "            print(f'No duplicates detected for {listname}.')\n",
        "    else:\n",
        "        # error = True\n",
        "        error += 1\n",
        "        print(f'\\nDuplicates detected for {listname}:')\n",
        "        print(*duplicates, sep='\\n')\n",
        "\n",
        "    # character length checker\n",
        "    long_items = [' - ' + item for item in alist if len(item) > max_length]\n",
        "    if not long_items:\n",
        "        print(f'No character lengths exceeded for {listname}.')\n",
        "    else:\n",
        "        error += 1\n",
        "        # error = True\n",
        "        print(f'Character lengths exceeded for {listname}:')\n",
        "        print(*long_items, sep='\\n')"
      ],
      "metadata": {
        "id": "Hd9MUoAjgvDO"
      },
      "execution_count": 2,
      "outputs": []
    },
    {
      "cell_type": "markdown",
      "source": [
        "Function definition: analyze sheet and generate list from pandas dataframe."
      ],
      "metadata": {
        "id": "_Jl-_l1RkTvk"
      }
    },
    {
      "cell_type": "code",
      "source": [
        "def analyze_input(sheet_name, df_dict):\n",
        "    df = df_dict[sheet_name]\n",
        "    temp_list = df.values.tolist()  # note: temp_list may be multiple lists!\n",
        "    return temp_list"
      ],
      "metadata": {
        "id": "fwaKQucMkRJT"
      },
      "execution_count": 3,
      "outputs": []
    },
    {
      "cell_type": "markdown",
      "source": [
        "Prompt user for which tournament phase is being implemented. TODO consider in future to automatically evaluate tournament phase based on file name."
      ],
      "metadata": {
        "id": "TBmhikVaiydS"
      }
    },
    {
      "cell_type": "code",
      "source": [
        "# step 0 = identify which excel files to pull? (not implemented while testing)\n",
        "print('\\n***\\nAre you uploading excel sheets for prelim schedule creation'\n",
        "      + ' or rebracketing for playoffs?')\n",
        "# tournament_phase = input('   enter \"prelims\" or \"playoffs\" => ')\n",
        "tournament_phase = 'prelims'\n",
        "\n",
        "while tournament_phase not in ['prelims', 'playoffs', 'super']:\n",
        "    print('\\n***incorrect input provided, please retry***')\n",
        "    print('\\nSelect either prelim schedule creation or '\n",
        "          + 'rebracketing for playoffs:')\n",
        "    tournament_phase = input('   enter \"prelims\" or \"playoffs\" => ')"
      ],
      "metadata": {
        "colab": {
          "base_uri": "https://localhost:8080/"
        },
        "id": "dH0Bwv5_knSt",
        "outputId": "03d794cb-3030-4887-b539-99f4343967c2"
      },
      "execution_count": 4,
      "outputs": [
        {
          "output_type": "stream",
          "name": "stdout",
          "text": [
            "\n",
            "***\n",
            "Are you uploading excel sheets for prelim schedule creation or rebracketing for playoffs?\n"
          ]
        }
      ]
    },
    {
      "cell_type": "markdown",
      "source": [
        "---\n",
        "\n",
        "Upload the prelims_data excel spreadsheet from local computer, and create dictionary containing the sheet name and each dataframe."
      ],
      "metadata": {
        "id": "QIwjrPCFjYas"
      }
    },
    {
      "cell_type": "code",
      "source": [
        "from google.colab import files\n",
        "file_upload = files.upload()\n",
        "file_upload = list(file_upload.keys())[0]"
      ],
      "metadata": {
        "colab": {
          "base_uri": "https://localhost:8080/",
          "height": 73
        },
        "id": "xysCWCW7g83a",
        "outputId": "ee8360f6-31ef-4a33-a12a-14ea75c668e6"
      },
      "execution_count": 5,
      "outputs": [
        {
          "output_type": "display_data",
          "data": {
            "text/plain": [
              "<IPython.core.display.HTML object>"
            ],
            "text/html": [
              "\n",
              "     <input type=\"file\" id=\"files-77c14a5b-ec4c-4df1-a393-e38ea795446c\" name=\"files[]\" multiple disabled\n",
              "        style=\"border:none\" />\n",
              "     <output id=\"result-77c14a5b-ec4c-4df1-a393-e38ea795446c\">\n",
              "      Upload widget is only available when the cell has been executed in the\n",
              "      current browser session. Please rerun this cell to enable.\n",
              "      </output>\n",
              "      <script>// Copyright 2017 Google LLC\n",
              "//\n",
              "// Licensed under the Apache License, Version 2.0 (the \"License\");\n",
              "// you may not use this file except in compliance with the License.\n",
              "// You may obtain a copy of the License at\n",
              "//\n",
              "//      http://www.apache.org/licenses/LICENSE-2.0\n",
              "//\n",
              "// Unless required by applicable law or agreed to in writing, software\n",
              "// distributed under the License is distributed on an \"AS IS\" BASIS,\n",
              "// WITHOUT WARRANTIES OR CONDITIONS OF ANY KIND, either express or implied.\n",
              "// See the License for the specific language governing permissions and\n",
              "// limitations under the License.\n",
              "\n",
              "/**\n",
              " * @fileoverview Helpers for google.colab Python module.\n",
              " */\n",
              "(function(scope) {\n",
              "function span(text, styleAttributes = {}) {\n",
              "  const element = document.createElement('span');\n",
              "  element.textContent = text;\n",
              "  for (const key of Object.keys(styleAttributes)) {\n",
              "    element.style[key] = styleAttributes[key];\n",
              "  }\n",
              "  return element;\n",
              "}\n",
              "\n",
              "// Max number of bytes which will be uploaded at a time.\n",
              "const MAX_PAYLOAD_SIZE = 100 * 1024;\n",
              "\n",
              "function _uploadFiles(inputId, outputId) {\n",
              "  const steps = uploadFilesStep(inputId, outputId);\n",
              "  const outputElement = document.getElementById(outputId);\n",
              "  // Cache steps on the outputElement to make it available for the next call\n",
              "  // to uploadFilesContinue from Python.\n",
              "  outputElement.steps = steps;\n",
              "\n",
              "  return _uploadFilesContinue(outputId);\n",
              "}\n",
              "\n",
              "// This is roughly an async generator (not supported in the browser yet),\n",
              "// where there are multiple asynchronous steps and the Python side is going\n",
              "// to poll for completion of each step.\n",
              "// This uses a Promise to block the python side on completion of each step,\n",
              "// then passes the result of the previous step as the input to the next step.\n",
              "function _uploadFilesContinue(outputId) {\n",
              "  const outputElement = document.getElementById(outputId);\n",
              "  const steps = outputElement.steps;\n",
              "\n",
              "  const next = steps.next(outputElement.lastPromiseValue);\n",
              "  return Promise.resolve(next.value.promise).then((value) => {\n",
              "    // Cache the last promise value to make it available to the next\n",
              "    // step of the generator.\n",
              "    outputElement.lastPromiseValue = value;\n",
              "    return next.value.response;\n",
              "  });\n",
              "}\n",
              "\n",
              "/**\n",
              " * Generator function which is called between each async step of the upload\n",
              " * process.\n",
              " * @param {string} inputId Element ID of the input file picker element.\n",
              " * @param {string} outputId Element ID of the output display.\n",
              " * @return {!Iterable<!Object>} Iterable of next steps.\n",
              " */\n",
              "function* uploadFilesStep(inputId, outputId) {\n",
              "  const inputElement = document.getElementById(inputId);\n",
              "  inputElement.disabled = false;\n",
              "\n",
              "  const outputElement = document.getElementById(outputId);\n",
              "  outputElement.innerHTML = '';\n",
              "\n",
              "  const pickedPromise = new Promise((resolve) => {\n",
              "    inputElement.addEventListener('change', (e) => {\n",
              "      resolve(e.target.files);\n",
              "    });\n",
              "  });\n",
              "\n",
              "  const cancel = document.createElement('button');\n",
              "  inputElement.parentElement.appendChild(cancel);\n",
              "  cancel.textContent = 'Cancel upload';\n",
              "  const cancelPromise = new Promise((resolve) => {\n",
              "    cancel.onclick = () => {\n",
              "      resolve(null);\n",
              "    };\n",
              "  });\n",
              "\n",
              "  // Wait for the user to pick the files.\n",
              "  const files = yield {\n",
              "    promise: Promise.race([pickedPromise, cancelPromise]),\n",
              "    response: {\n",
              "      action: 'starting',\n",
              "    }\n",
              "  };\n",
              "\n",
              "  cancel.remove();\n",
              "\n",
              "  // Disable the input element since further picks are not allowed.\n",
              "  inputElement.disabled = true;\n",
              "\n",
              "  if (!files) {\n",
              "    return {\n",
              "      response: {\n",
              "        action: 'complete',\n",
              "      }\n",
              "    };\n",
              "  }\n",
              "\n",
              "  for (const file of files) {\n",
              "    const li = document.createElement('li');\n",
              "    li.append(span(file.name, {fontWeight: 'bold'}));\n",
              "    li.append(span(\n",
              "        `(${file.type || 'n/a'}) - ${file.size} bytes, ` +\n",
              "        `last modified: ${\n",
              "            file.lastModifiedDate ? file.lastModifiedDate.toLocaleDateString() :\n",
              "                                    'n/a'} - `));\n",
              "    const percent = span('0% done');\n",
              "    li.appendChild(percent);\n",
              "\n",
              "    outputElement.appendChild(li);\n",
              "\n",
              "    const fileDataPromise = new Promise((resolve) => {\n",
              "      const reader = new FileReader();\n",
              "      reader.onload = (e) => {\n",
              "        resolve(e.target.result);\n",
              "      };\n",
              "      reader.readAsArrayBuffer(file);\n",
              "    });\n",
              "    // Wait for the data to be ready.\n",
              "    let fileData = yield {\n",
              "      promise: fileDataPromise,\n",
              "      response: {\n",
              "        action: 'continue',\n",
              "      }\n",
              "    };\n",
              "\n",
              "    // Use a chunked sending to avoid message size limits. See b/62115660.\n",
              "    let position = 0;\n",
              "    do {\n",
              "      const length = Math.min(fileData.byteLength - position, MAX_PAYLOAD_SIZE);\n",
              "      const chunk = new Uint8Array(fileData, position, length);\n",
              "      position += length;\n",
              "\n",
              "      const base64 = btoa(String.fromCharCode.apply(null, chunk));\n",
              "      yield {\n",
              "        response: {\n",
              "          action: 'append',\n",
              "          file: file.name,\n",
              "          data: base64,\n",
              "        },\n",
              "      };\n",
              "\n",
              "      let percentDone = fileData.byteLength === 0 ?\n",
              "          100 :\n",
              "          Math.round((position / fileData.byteLength) * 100);\n",
              "      percent.textContent = `${percentDone}% done`;\n",
              "\n",
              "    } while (position < fileData.byteLength);\n",
              "  }\n",
              "\n",
              "  // All done.\n",
              "  yield {\n",
              "    response: {\n",
              "      action: 'complete',\n",
              "    }\n",
              "  };\n",
              "}\n",
              "\n",
              "scope.google = scope.google || {};\n",
              "scope.google.colab = scope.google.colab || {};\n",
              "scope.google.colab._files = {\n",
              "  _uploadFiles,\n",
              "  _uploadFilesContinue,\n",
              "};\n",
              "})(self);\n",
              "</script> "
            ]
          },
          "metadata": {}
        },
        {
          "output_type": "stream",
          "name": "stdout",
          "text": [
            "Saving prelims_data.xlsx to prelims_data (3).xlsx\n"
          ]
        }
      ]
    },
    {
      "cell_type": "code",
      "source": [
        "sheet_names = ['tournament format', 'list of teams', 'team codes',\n",
        "                'group names', 'room assignments',\n",
        "                'QR codes', 'text input']\n",
        "df_dict_prelim = pd.read_excel(file_upload,\n",
        "                               sheet_name=sheet_names)"
      ],
      "metadata": {
        "id": "Y1gg7KUvlGRK"
      },
      "execution_count": 6,
      "outputs": []
    },
    {
      "cell_type": "markdown",
      "source": [
        "Using the analyze_input function, create a list from each tab of the spreadsheet corresponding to the relevant information (e.g. a list of room assignments). If in playoffs or superplayoffs, also create the relevant lists there."
      ],
      "metadata": {
        "id": "EvXL0iGwFMH7"
      }
    },
    {
      "cell_type": "code",
      "source": [
        "list_of_teams = analyze_input('list of teams', df_dict_prelim)\n",
        "team_codes = analyze_input('team codes', df_dict_prelim)\n",
        "room_assignments = analyze_input('room assignments', df_dict_prelim)\n",
        "qr_codelist = analyze_input('QR codes', df_dict_prelim)\n",
        "textlist = analyze_input('text input', df_dict_prelim)\n",
        "tournament_format = analyze_input('tournament format', df_dict_prelim)\n",
        "\n",
        "group_names = analyze_input('group names', df_dict_prelim)\n",
        "prelim_group_names = [row[0] for row in group_names]\n",
        "\n",
        "if tournament_phase in ['playoffs', 'super']:\n",
        "    playoff_bracket_names = [row[1] for row in group_names]\n",
        "    playoff_bracket_names = [x for x in playoff_bracket_names\n",
        "                             if str(x) != 'nan']\n",
        "if tournament_phase == 'super':\n",
        "    super_bracket_names = [row[2] for row in group_names]\n",
        "    super_bracket_names = [x for x in super_bracket_names\n",
        "                             if str(x) != 'nan']"
      ],
      "metadata": {
        "id": "3CAhOiL09mfs"
      },
      "execution_count": 7,
      "outputs": []
    },
    {
      "cell_type": "markdown",
      "source": [
        "A dictionary containing general information about the tournament is also generated from the tournament_format sheet.\n",
        "\n",
        "It's necessary to convert the datetime value from excel to a more suitable string before printing."
      ],
      "metadata": {
        "id": "irPSh0zaFwLj"
      }
    },
    {
      "cell_type": "code",
      "source": [
        "format_dict = {}\n",
        "for row in tournament_format:\n",
        "    key = row[0]  # item, e.g. \"tournament name\"\n",
        "    value = row[1]  # input, e.g. \"2022 NSC\"\n",
        "    format_dict[key] = value\n",
        "\n",
        "# convert Excel datetime format to more suitable date string\n",
        "date = format_dict['tournament date'].strftime('%B %d, %Y')\n",
        "format_dict['tournament date'] = date"
      ],
      "metadata": {
        "id": "SNGO4QFRkOZ5"
      },
      "execution_count": 8,
      "outputs": []
    },
    {
      "cell_type": "markdown",
      "source": [
        "Next is the analysis section for the text and QR code inputs. Did the user turn these on? If not, these sections are skipped.\n",
        "\n",
        "TODO qr_codes used to have a NoEscape function, but that was because of pylatex and has been removed."
      ],
      "metadata": {
        "id": "8EDjXCXfn9Wd"
      }
    },
    {
      "cell_type": "code",
      "source": [
        "if format_dict['QR codes'] == 'Y':\n",
        "    qr_toggle = True\n",
        "\n",
        "    qr_names = [code[0] for code in qr_codelist]\n",
        "    qr_codes = [code[2] for code in qr_codelist]\n",
        "    qr_captions = [code[3] for code in qr_codelist]\n",
        "\n",
        "else:\n",
        "    qr_toggle = False\n",
        "    qr_codes = False\n",
        "    qr_captions = False\n",
        "\n",
        "if format_dict['text'] == 'Y':\n",
        "    text_toggle = True\n",
        "    texts = [text[1] for text in textlist]\n",
        "\n",
        "    # lorem text, delete later\n",
        "    lorem = '''\n",
        "\n",
        "    Lorem ipsum dolor sit amet. Sed iusto reprehenderit ut quis voluptas ea Quis assumenda ut eius magni eum voluptate modi? Id unde libero ad pariatur sunt eos nisi possimus est omnis nisi ut internos laboriosam. Sit nesciunt ducimus et totam maxime est voluptas vero sed itaque nihil. Et expedita culpa et fuga sunt quo esse ipsam eos doloribus autem rem perferendis modi et molestiae vitae.\n",
        "\n",
        "    Sed cumque odio eum temporibus deleniti ad consequatur consequatur aut molestias maiores. Est doloribus tenetur est dolorem ducimus sit quasi provident. Est facere expedita non expedita molestiae non error magnam vel obcaecati debitis et blanditiis reiciendis est cupiditate voluptatem ea soluta consequatur. Qui tempore ipsam eos asperiores aliquid ex unde velit est repellendus temporibus hic quidem assumenda!\n",
        "\n",
        "    Non autem maiores aut reprehenderit nulla sit repellendus dolore ut illum incidunt ut dignissimos eaque! Ex aperiam minima eos quis dolor id consequatur eligendi ut culpa galisum. Non fugiat corporis vel doloremque dignissimos sit vero quasi sed voluptatem explicabo.\n",
        "\n",
        "    '''\n",
        "else:\n",
        "    text_toggle = False\n",
        "    texts = False"
      ],
      "metadata": {
        "id": "cZ3mT363oBcD"
      },
      "execution_count": 9,
      "outputs": []
    },
    {
      "cell_type": "markdown",
      "source": [
        "More dictionary creation here: this time, for team names and team codes.\n",
        "\n",
        "RFE get rid of team codes if the user is okay with foregoing the complete team schedule in favor of individual team schedules."
      ],
      "metadata": {
        "id": "ozsWkM-bHtSP"
      }
    },
    {
      "cell_type": "code",
      "source": [
        "# key is team name\n",
        "# value is team code\n",
        "# also created a dictionary where the key/value pairs are swapped\n",
        "team_code_dict = {}\n",
        "code_team_dict = {}\n",
        "for row in team_codes:\n",
        "    team_name = row[0]\n",
        "    team_code = row[1]\n",
        "    team_code_dict[team_name] = team_code\n",
        "    code_team_dict[team_code] = team_name\n",
        "\n",
        "# key is prelim group and a number (i.e. Accra1)\n",
        "# value is corresponding room (i.e. Grand Ballroom A is Accra1)\n",
        "# also created dictionary where key is a playoff bracket instead\n",
        "prelim_room_dict = {}\n",
        "playoff_room_dict = {}\n",
        "super_room_dict = {}\n",
        "for i in room_assignments:\n",
        "    key = i[1] + str(i[2])\n",
        "    value = i[0]\n",
        "    if tournament_phase == 'prelims':\n",
        "        prelim_room_dict[key] = value\n",
        "    elif tournament_phase == 'playoffs':\n",
        "        playoff_room_dict[key] = value\n",
        "    elif tournament_phase == 'super':\n",
        "        super_room_dict[key] = value"
      ],
      "metadata": {
        "id": "zCCyM_MCg-H0"
      },
      "execution_count": 10,
      "outputs": []
    },
    {
      "cell_type": "markdown",
      "source": [
        "Last is the error check section, to see if any of the data submitted by the user was improperly formatted."
      ],
      "metadata": {
        "id": "dKTcWKPmHfV8"
      }
    },
    {
      "cell_type": "code",
      "source": [
        "# %% error catching\n",
        "\n",
        "# if prelim_team_count <= 3 or playoff_team_count <= 3:\n",
        "#     print('Unable to produce round robins smaller than 4.')\n",
        "#     sys.exit()\n",
        "\n",
        "# if prelim_team_count >= 15 or playoff_team_count >= 15:\n",
        "#     print('Unable to produce round robins larger than 14.')\n",
        "#     sys.exit()\n",
        "\n",
        "# TODO modify max_duplicates to be flexible on schedule and not hard coded\n",
        "# or perhaps get rid of max duplicates since it doesn't make a lot of sense\n",
        "# error check imported lists/sublists\n",
        "error_check([sublist[0] for sublist in list_of_teams],\n",
        "            'the team names in list_of_teams',\n",
        "            max_length=26)\n",
        "\n",
        "# error_check([sublist[2] for sublist in list_of_teams],\n",
        "#             'the prelim groups in list_of_teams',\n",
        "#             max_length=15,\n",
        "#             )\n",
        "\n",
        "error_check([sublist[1] for sublist in team_codes],\n",
        "            'the team codes in team_codes',\n",
        "            max_length=4)\n",
        "\n",
        "try:\n",
        "    error_check(prelim_group_names,\n",
        "                'the groups in prelim_group_names',\n",
        "                max_length=15)\n",
        "except:  # TODO bare except\n",
        "    None\n",
        "\n",
        "try:\n",
        "    error_check(playoff_bracket_names,\n",
        "                'the brackets in playoff_bracket_names',\n",
        "                max_length=15)\n",
        "except:  # TODO bare except\n",
        "    None\n",
        "\n",
        "error_check([sublist[0] for sublist in room_assignments],\n",
        "            'the list of rooms in room_assignments',\n",
        "            max_length=15)\n",
        "\n",
        "if error == 0:\n",
        "    print('\\n*** No errors detected upon import. ***')\n",
        "else:\n",
        "    print('\\n*** Errors detected during import! ***')\n",
        "    sys.exit()"
      ],
      "metadata": {
        "id": "DhUxZUHJHehk",
        "colab": {
          "base_uri": "https://localhost:8080/"
        },
        "outputId": "5a7e9137-5730-430b-99a7-992a79686b31"
      },
      "execution_count": 11,
      "outputs": [
        {
          "output_type": "stream",
          "name": "stdout",
          "text": [
            "\n",
            "\n",
            "No duplicates detected for the team names in list_of_teams.\n",
            "No character lengths exceeded for the team names in list_of_teams.\n",
            "\n",
            "\n",
            "No duplicates detected for the team codes in team_codes.\n",
            "No character lengths exceeded for the team codes in team_codes.\n",
            "\n",
            "\n",
            "No duplicates detected for the groups in prelim_group_names.\n",
            "No character lengths exceeded for the groups in prelim_group_names.\n",
            "\n",
            "\n",
            "No duplicates detected for the list of rooms in room_assignments.\n",
            "No character lengths exceeded for the list of rooms in room_assignments.\n",
            "\n",
            "*** No errors detected upon import. ***\n"
          ]
        }
      ]
    },
    {
      "cell_type": "markdown",
      "source": [
        "# Function Definitions"
      ],
      "metadata": {
        "id": "owcZyEiJdJTm"
      }
    },
    {
      "cell_type": "markdown",
      "source": [
        "Function for removing duplicates from a list."
      ],
      "metadata": {
        "id": "uQuJVhmyA3CC"
      }
    },
    {
      "cell_type": "code",
      "source": [
        "def remove_duplicates(alist):\n",
        "    newlist = []\n",
        "    [newlist.append(x) for x in alist if x not in newlist]\n",
        "    return newlist"
      ],
      "metadata": {
        "id": "a81URiBdA7G8"
      },
      "execution_count": 12,
      "outputs": []
    },
    {
      "cell_type": "markdown",
      "source": [
        "original function_definitions.py"
      ],
      "metadata": {
        "id": "EUZolcmPAy4y"
      }
    },
    {
      "cell_type": "code",
      "source": [
        "import time\n",
        "import sys\n",
        "from pathlib import Path\n",
        "from pylatex import (Document, Tabularx, Command,\n",
        "                      NewPage, HugeText, Package,\n",
        "                     VerticalSpace)\n",
        "from pylatex.utils import NoEscape\n",
        "from cornerstone_input import format_dict\n",
        "\n",
        "# place additional modules here\n",
        "\n",
        "header = \"\"\"\n",
        "\n",
        "Depository for a bunch of class and function definitions shared across\n",
        "prelim/playoff scripts.\n",
        "\n",
        "TODO what if snake seed is fed a list with odd number of teams?\n",
        "\n",
        "TODO what if qr_count ≠ 3?\n",
        "\n",
        "Created on Mon Nov 1 13:53:44 2021 Eastern Time\n",
        "\n",
        "@author: Victor Prieto\n",
        "\n",
        "\"\"\"\n",
        "\n",
        "\n",
        "# starts program runtime\n",
        "start_time = time.time()\n",
        "print('\\n', header)\n",
        "print('start time: %s' % time.ctime())\n",
        "\n",
        "# %% function definitions\n",
        "\n",
        "\n",
        "def qr_code(doc, qr_codes, qr_captions):\n",
        "\n",
        "    doc.append(NoEscape(r'\\rowcolors{3}{white}{white}'))\n",
        "\n",
        "    qr_count = len(qr_codes)\n",
        "    if qr_count != 3:\n",
        "        print('WARNING: number of qr_codes does not equal 3.')\n",
        "        sys.exit()\n",
        "    header_string = 'Y' * qr_count\n",
        "    width = r\"\\textwidth\"\n",
        "\n",
        "    with doc.create(Tabularx(header_string,\n",
        "                             width_argument=NoEscape(width))) as table:\n",
        "        table.add_row(qr_codes, strict=False)\n",
        "        table.add_empty_row()\n",
        "        table.add_row(qr_captions, strict=False)\n",
        "\n",
        "\n",
        "def split_list(alist, wanted_parts=1):\n",
        "    length = len(alist)\n",
        "    return [alist[i*length // wanted_parts: (i+1)*length // wanted_parts]\n",
        "            for i in range(wanted_parts)]\n",
        "\n",
        "\n",
        "def snake_seed(list_of_teams, bracket_count):\n",
        "    \"\"\"\n",
        "    Parameters\n",
        "    ----------\n",
        "    list_of_teams : list\n",
        "        A list of teams for reordering into playoff brackets by snake seeding.\n",
        "    bracket_count : int\n",
        "        Number of playoff brackets to snake seed across.\n",
        "\n",
        "    Returns\n",
        "    -------\n",
        "    newlist : list\n",
        "        Same list of teams accepted as input, but reordered by snake seeding.\n",
        "        The list is also split into the number of playoff brackets.\n",
        "        Example:\n",
        "            (1, 2, 3, 4... 23, 24)\n",
        "            snake seeded across four brackets becomes\n",
        "            ((1, 8, 9, 16, 17, 24), (2, 7, 10, 15, 18... 12, 13, 20, 21))\n",
        "\n",
        "    \"\"\"\n",
        "\n",
        "    # generates sequence of indices for snake seeding\n",
        "    sequence_length = 2 * bracket_count\n",
        "    reps = len(list_of_teams) / sequence_length\n",
        "    sequence = []\n",
        "    for i in range(0, int(sequence_length/2)):\n",
        "        for j in range(0, int(reps)):\n",
        "            sequence.append(i+j*sequence_length)\n",
        "            sequence.append((sequence_length-1-i)+j*sequence_length)\n",
        "\n",
        "    # quits program if odd number of teams in list_of_teams\n",
        "    if (len(list_of_teams)) % 2 == 1:\n",
        "        print('ODD NUMBER OF TEAMS DETECTED')\n",
        "        sys.exit()\n",
        "\n",
        "    # use sequence of indices to generate new list of teams\n",
        "    newlist = (list_of_teams[index] for index in sequence)\n",
        "    return newlist\n",
        "\n",
        "\n",
        "def alternating_rows(doc, color):\n",
        "    return doc.append(NoEscape(r'\\rowcolors{3}{white}{%s}' % color))\n",
        "\n",
        "\n",
        "def duplicate_checker(alist):\n",
        "    seen = set()\n",
        "    for x in alist:\n",
        "        if x in seen:\n",
        "            return True\n",
        "        seen.add(x)\n",
        "    return False\n",
        "\n",
        "\n",
        "def start_latex(filename_input, docname, title=True, fontsize=False):\n",
        "\n",
        "    Path(\"./output/\").mkdir(parents=True, exist_ok=True)\n",
        "    file_path = r'./output/'\n",
        "    Path(file_path).mkdir(parents=True, exist_ok=True)\n",
        "    filename = file_path + filename_input        \n",
        "    \n",
        "    geometry_options = {\n",
        "        \"includeheadfoot\": True\n",
        "    }\n",
        "\n",
        "    doc = Document(filename, geometry_options=geometry_options)\n",
        "\n",
        "    # this changed font sizes, but it doesn't work so well\n",
        "    if fontsize is True:\n",
        "        doc = Document(filename_input, geometry_options=geometry_options,\n",
        "                       font_size='')\n",
        "        doc.append(Command('fontsize', arguments=['12', '12']))\n",
        "        doc.append(Command('selectfont'))\n",
        "\n",
        "    doc.preamble.append(Command('title', format_dict['tournament name']))\n",
        "    doc.preamble.append(Command('author', format_dict['tournament location']))\n",
        "    doc.preamble.append(Command('date', format_dict['tournament date']))\n",
        "    \n",
        "    doc.packages.append(Package('qrcode'))  # add qrcode to packages\n",
        "    doc.packages.append(Package('fancyhdr'))  # add qrcode to packages\n",
        "\n",
        "    doc.append(NoEscape(r'\\newcolumntype{Y}{>{\\centering\\arraybackslash}X}'))\n",
        "\n",
        "    # TODO vertically center docname text on page\n",
        "    if title is True:\n",
        "        doc.append(NoEscape(r'\\maketitle'))\n",
        "        doc.append(VerticalSpace('48pt'))\n",
        "        doc.append(NoEscape(r'\\begin{center}'))\n",
        "        doc.append(HugeText(docname))\n",
        "        doc.append(NoEscape(r'\\end{center}'))\n",
        "        doc.append(NewPage())\n",
        "    \n",
        "    doc.append(NoEscape(r'\\pagestyle{fancy}'))\n",
        "    doc.append(NoEscape(r'\\fancyhf{}'))\n",
        "    date = '{' + format_dict['tournament date'] + '}'\n",
        "    name = '{' + format_dict['tournament name'] + '}'\n",
        "    doc.append(NoEscape(fr'\\rhead{date}'))\n",
        "    doc.append(NoEscape(fr'\\lhead{name}'))\n",
        "    doc.append(NoEscape(r'\\rfoot{Created by Cornerstone.}'))\n",
        "        \n",
        "    return doc\n",
        "\n",
        "\n",
        "def close_latex(filename_input, doc_input):\n",
        "    file_path = r'./output/'\n",
        "    filename = file_path + filename_input\n",
        "    doc_input.generate_tex()\n",
        "    doc_input.generate_pdf()\n",
        "\n",
        "    file = open(filename + '.tex')\n",
        "    latex_string = file.read()\n",
        "    bad_string = '\\\\usepackage{lastpage}%'\n",
        "    good_string = '\\\\usepackage[table]{xcolor}%'\n",
        "    # print(latex_string)\n",
        "    latex_string = latex_string.replace(bad_string, good_string)\n",
        "\n",
        "    # for visual debugging\n",
        "    # print('\\n\\n', latex_string[0:700], '\\n\\n')\n",
        "\n",
        "    with open(f'{filename}.tex', 'w') as f:\n",
        "        f.write(latex_string)\n",
        "\n",
        "\n",
        "# %% classes, mostly not in use\n",
        "# TODO figure out class inheritance for team/prelim_team/playoff_team\n",
        "class team:\n",
        "    def __init__(self,\n",
        "                 name,\n",
        "                 code):\n",
        "        self.name = name\n",
        "        self.code = code\n",
        "\n",
        "\n",
        "class prelim_team(team):\n",
        "    def __init__(self,\n",
        "                 name,\n",
        "                 code,\n",
        "                 prelim_group,\n",
        "                 prelim_seed):\n",
        "        super().__init__(name, code)\n",
        "        self.prelim_group = prelim_group\n",
        "        self.prelim_seed = prelim_seed\n",
        "\n",
        "\n",
        "class playoff_team():\n",
        "    def __init__(self,\n",
        "                 name,\n",
        "                 code,\n",
        "                 prelim_group,\n",
        "                 playoff_bracket,\n",
        "                 playoff_seed):  # playoff seed also the prelim finish\n",
        "        self.name = name\n",
        "        self.code = code\n",
        "        self.prelim_group = prelim_group\n",
        "        self.playoff_bracket = playoff_bracket\n",
        "        self.playoff_seed = playoff_seed\n",
        "\n",
        "# %% more function definitions\n",
        "\n",
        "\n",
        "def header_stringify(teamcount, tabularx=False):\n",
        "    \"\"\"\n",
        "\n",
        "    Parameters\n",
        "    ----------\n",
        "    teamcount : int\n",
        "        Number of teams in the round robin.\n",
        "    tabularx : bool, optional\n",
        "        Changes header string to account for newcolumntype Y, used in tabularx.\n",
        "        The default is False.\n",
        "\n",
        "    Returns\n",
        "    -------\n",
        "    A string for pylatex to use when defining the table.\n",
        "    Example: '|l|cc|cc|cc|cc|'\n",
        "\n",
        "    If tabularx is set to True, returns a string that utilizes newcolumntype Y.\n",
        "    Example: '|l|Y|Y|Y|Y|Y|Y|'\n",
        "\n",
        "    \"\"\"\n",
        "\n",
        "    roomcount = teamcount // 2\n",
        "\n",
        "    header_string = '|l' + ('|cc' * roomcount + '|')\n",
        "    if teamcount % 2 == 1:\n",
        "        header_string = header_string + 'c|'\n",
        "\n",
        "    if tabularx is True:\n",
        "        header_string = '|l' + ('|Y' * teamcount + '|')\n",
        "\n",
        "    return header_string\n",
        "\n",
        "\n",
        "# %% prints runtime\n",
        "print('end time: %s' % time.ctime())\n",
        "print(\"--- %s seconds ---\" % '%.3f' % (time.time() - start_time))\n",
        "print(\"--- %s minutes ---\" % '%.3f' % (time.time()/60 - start_time/60))"
      ],
      "metadata": {
        "colab": {
          "base_uri": "https://localhost:8080/",
          "height": 373
        },
        "id": "83PLhfS0ArVn",
        "outputId": "15375978-17cf-4dea-cd6a-3b6420fe4f86"
      },
      "execution_count": 13,
      "outputs": [
        {
          "output_type": "error",
          "ename": "ModuleNotFoundError",
          "evalue": "ignored",
          "traceback": [
            "\u001b[0;31m---------------------------------------------------------------------------\u001b[0m",
            "\u001b[0;31mModuleNotFoundError\u001b[0m                       Traceback (most recent call last)",
            "\u001b[0;32m<ipython-input-13-b039f5a5915f>\u001b[0m in \u001b[0;36m<module>\u001b[0;34m\u001b[0m\n\u001b[1;32m      2\u001b[0m \u001b[0;32mimport\u001b[0m \u001b[0msys\u001b[0m\u001b[0;34m\u001b[0m\u001b[0;34m\u001b[0m\u001b[0m\n\u001b[1;32m      3\u001b[0m \u001b[0;32mfrom\u001b[0m \u001b[0mpathlib\u001b[0m \u001b[0;32mimport\u001b[0m \u001b[0mPath\u001b[0m\u001b[0;34m\u001b[0m\u001b[0;34m\u001b[0m\u001b[0m\n\u001b[0;32m----> 4\u001b[0;31m from pylatex import (Document, Tabularx, Command,\n\u001b[0m\u001b[1;32m      5\u001b[0m                       \u001b[0mNewPage\u001b[0m\u001b[0;34m,\u001b[0m \u001b[0mHugeText\u001b[0m\u001b[0;34m,\u001b[0m \u001b[0mPackage\u001b[0m\u001b[0;34m,\u001b[0m\u001b[0;34m\u001b[0m\u001b[0;34m\u001b[0m\u001b[0m\n\u001b[1;32m      6\u001b[0m                      VerticalSpace)\n",
            "\u001b[0;31mModuleNotFoundError\u001b[0m: No module named 'pylatex'",
            "",
            "\u001b[0;31m---------------------------------------------------------------------------\u001b[0;32m\nNOTE: If your import is failing due to a missing package, you can\nmanually install dependencies using either !pip or !apt.\n\nTo view examples of installing some common dependencies, click the\n\"Open Examples\" button below.\n\u001b[0;31m---------------------------------------------------------------------------\u001b[0m\n"
          ],
          "errorDetails": {
            "actions": [
              {
                "action": "open_url",
                "actionText": "Open Examples",
                "url": "/notebooks/snippets/importing_libraries.ipynb"
              }
            ]
          }
        }
      ]
    },
    {
      "cell_type": "markdown",
      "source": [
        "# Standard Scheduler Function\n",
        "\n",
        "Created on Mon Nov 22 2021\n",
        "\n",
        "Definition of functions used for creating a table for a round robin schedule,\n",
        "between 4 and 14 teams.\n",
        "\n",
        "TODO if possible, fix pylatex table lines and shading in this function"
      ],
      "metadata": {
        "id": "GEJoeZNfdPrN"
      }
    },
    {
      "cell_type": "markdown",
      "source": [
        "First: retrieve the round robin templates stored on the cornerstone github page. The templates will automatically populate a dictionary.\n",
        "\n",
        "Each key is the name of the sheet corresponding to the round robin template: rr_6 is a basic 6 team round robin, rr_12 is for 12 teams, rr_crossover_A8 is the 8 team playoff roundrobin including crossovers (there are two possible crossovers, A and B, based on [Dwight Wynne's spreadsheet of schedule formats](https://https://docs.google.com/spreadsheets/d/1BPF6jFvhkh5qe7eesGFGU9KH6FVps2tS3YeseFocpIE/edit#gid=16)).\n",
        "\n",
        "The dictionary values are the pandas dataframes for each template.\n",
        "\n",
        "These templates will be used in the standard scheduler function and retrieved based on the key name."
      ],
      "metadata": {
        "id": "Q__BsPTWAtPh"
      }
    },
    {
      "cell_type": "code",
      "source": [
        "url = \"https://github.com/victorprieto2265/cornerstone/blob/main/templates/rr_schedules/rr_templates.xlsx?raw=true\"\n",
        "rr_template_dict = pd.read_excel(url,\n",
        "                                 sheet_name = None)\n",
        "rr_template_dict.keys()"
      ],
      "metadata": {
        "colab": {
          "base_uri": "https://localhost:8080/"
        },
        "id": "7FtnKegkiJUy",
        "outputId": "ac425429-ec20-44f7-f520-1aa9c1d5a692"
      },
      "execution_count": 14,
      "outputs": [
        {
          "output_type": "execute_result",
          "data": {
            "text/plain": [
              "dict_keys(['rr_3', 'rr_4', 'rr_5', 'rr_6', 'rr_7', 'rr_8', 'rr_9', 'rr_10', 'rr_11', 'rr_12', 'rr_13', 'rr_14', 'rr_crossover_B3', 'rr_crossover_A6', 'rr_crossover_B6', 'rr_crossover_B7', 'rr_crossover_A8', 'rr_crossover_B8'])"
            ]
          },
          "metadata": {},
          "execution_count": 14
        }
      ]
    },
    {
      "cell_type": "markdown",
      "source": [
        "DONE \n",
        "\n",
        "testing of proper schedule retrieval from rr_template_dict"
      ],
      "metadata": {
        "id": "szp10lDJkBo2"
      }
    },
    {
      "cell_type": "code",
      "source": [
        "teamcount = 8\n",
        "crossover = 'A'\n",
        "\n",
        "if crossover is False:\n",
        "  key = f'rr_{teamcount}'\n",
        "else:\n",
        "  key = f'rr_crossover_{crossover}{teamcount}'\n",
        "\n",
        "rr_schedule = rr_template_dict[key].values.tolist()\n",
        "\n",
        "print(*rr_schedule, sep='\\n')"
      ],
      "metadata": {
        "id": "xDcLJrurF1zG",
        "colab": {
          "base_uri": "https://localhost:8080/"
        },
        "outputId": "22b6bed2-4b9e-4c0f-de65-326463597507"
      },
      "execution_count": 15,
      "outputs": [
        {
          "output_type": "stream",
          "name": "stdout",
          "text": [
            "['A1', 'B2', 'C1', 'D2', 'B1', 'A2', 'D1', 'C2']\n",
            "['C1', 'A2', 'A1', 'C2', 'D1', 'B2', 'B1', 'D2']\n",
            "['B1', 'C2', 'D1', 'A2', 'A1', 'D2', 'C1', 'B2']\n",
            "['A1', 'D1', 'B2', 'C2', 'B1', 'C1', 'A2', 'D2']\n",
            "['B2', 'D2', 'B1', 'D1', 'A2', 'C2', 'A1', 'C1']\n",
            "['C1', 'D1', 'A1', 'B1', 'C2', 'D2', 'A2', 'B2']\n"
          ]
        }
      ]
    },
    {
      "cell_type": "markdown",
      "source": [
        "Definition of the standard scheduler function is below."
      ],
      "metadata": {
        "id": "rLOCcNtEFpce"
      }
    },
    {
      "cell_type": "code",
      "source": [
        "def standard_schedule(group_name, teamcode_dict, room_dict, roundstart=1,\n",
        "                      crossover=False, superplayoff=False):\n",
        "    \"\"\"\n",
        "\n",
        "\n",
        "    Parameters\n",
        "    ----------\n",
        "    groupname : string\n",
        "        String of the prelim group or playoff bracket name.\n",
        "        Example: Lilongwe\n",
        "    teamcode_dict : dict\n",
        "        k : v = a group/bracket code : teamcode corresponding to that code\n",
        "        example: Lilongwe4 = MBA\n",
        "    room_dict : dict\n",
        "        k : v = a group/bracket code : room corresponding to that code\n",
        "        example: Lilongwe2 = Suite 1132\n",
        "    roundstart : int, optional\n",
        "        Number for the first round in the schedule. The default is 1.\n",
        "\n",
        "    Returns\n",
        "    -------\n",
        "    schedule_grid : list\n",
        "        Latex-friendly table. First row = table header, remaining rows =\n",
        "        schedule for each round.\n",
        "\n",
        "    \"\"\"\n",
        "\n",
        "    # produce teamlist\n",
        "    teamlist = [k for k, v in list(teamcode_dict.items())\n",
        "                if k.startswith(group_name)]\n",
        "    sorted_list = sorted(teamlist)\n",
        "    teamlist = [teamcode_dict[i] for i in sorted_list]\n",
        "\n",
        "    # identify number of teams in teamlist and appropriate number of rooms\n",
        "    teamcount = len(teamlist)\n",
        "    roomcount = teamcount // 2\n",
        "\n",
        "    # retrieve correct rr_template from rr_template_dict\n",
        "    if crossover is False:\n",
        "      key = f'rr_{teamcount}'\n",
        "    else:\n",
        "      key = f'rr_crossover_{crossover}{teamcount}'\n",
        "\n",
        "    rr_schedule = rr_template_dict[key].values.tolist()\n",
        "\n",
        "    # produce roomlist\n",
        "    roomlist = [k for k, v in list(room_dict.items())\n",
        "                if k.startswith(group_name)]\n",
        "    roomlist = [room_dict[i] for i in sorted(roomlist)]\n",
        "\n",
        "    # populate header with room names\n",
        "    rooms = []\n",
        "    header = ['']\n",
        "    for index in range(roomcount):\n",
        "        room = roomlist[index]\n",
        "        header.append(room)\n",
        "        header.append(room)  # super unpythonic, but header needs fixing anyway\n",
        "\n",
        "    # the last element in the header should be BYE if teamcount is odd\n",
        "    if teamcount % 2 == 1:\n",
        "        header.append('BYE')\n",
        "\n",
        "    # use rr_schedule template and roundstart to produce rest of schedule grid\n",
        "    schedule_grid = [header]\n",
        "    for round_num, row in enumerate(rr_schedule):\n",
        "        round_num += roundstart\n",
        "        new_row = [f'Round {round_num}']\n",
        "        for index in row:\n",
        "            code = group_name + str(index)\n",
        "            team = teamcode_dict[code]\n",
        "            new_row.append(team)\n",
        "        schedule_grid.append(new_row)\n",
        "\n",
        "    return schedule_grid"
      ],
      "metadata": {
        "id": "wlG8swh1trsX"
      },
      "execution_count": 16,
      "outputs": []
    },
    {
      "cell_type": "markdown",
      "source": [
        "## Individual Schedule Functions "
      ],
      "metadata": {
        "id": "5n9ob-8odPkM"
      }
    },
    {
      "cell_type": "markdown",
      "source": [
        "# Prelim Scheduler\n",
        "\n",
        "This section reads the list of prelim teams and information from the tournament format dictionary to produce a set of prelim schedules."
      ],
      "metadata": {
        "id": "K4OmpZngcsFP"
      }
    },
    {
      "cell_type": "markdown",
      "source": [
        "dictionary creation\n",
        "\n",
        "prelim group names"
      ],
      "metadata": {
        "id": "Is1C6X6cAbNi"
      }
    },
    {
      "cell_type": "code",
      "source": [
        "prelim_group_names = [sublist[1] for sublist in list_of_teams]\n",
        "prelim_group_names = remove_duplicates(prelim_group_names)\n",
        "\n",
        "# key is a prelim group name and a seed (i.e. Belmopan6)\n",
        "# value is the corresponding team (i.e. Great Valley A for Belmopan6)\n",
        "# also created a dictionary where values are team codes (i.e. GVA)\n",
        "prelim_team_dict = {}\n",
        "prelim_teamcode_dict = {}\n",
        "team_group_dict = {}\n",
        "teamcode_group_dict = {}\n",
        "for i in list_of_teams:\n",
        "    # key = i[2] + str(i[3])\n",
        "    key = i[1] + str(i[2])\n",
        "    value = i[0]  # team name\n",
        "    prelim_team_dict[key] = value\n",
        "    # also created dictionary where k/v pairs are swapped\n",
        "    team_group_dict[value] = key\n",
        "    # value = i[1]  # team code\n",
        "    value = team_code_dict[value]\n",
        "    prelim_teamcode_dict[key] = value\n",
        "    # also created dictionary where k/v pairs are swapped\n",
        "    teamcode_group_dict[value] = key\n",
        "\n",
        "# key is prelim group and a number (i.e. Accra1)\n",
        "# value is corresponding room (i.e. Grand Ballroom A is Accra1)\n",
        "# also created dictionary where key is a playoff bracket instead\n",
        "prelim_room_dict = {}\n",
        "for i in room_assignments:\n",
        "    key = i[1] + str(i[2])\n",
        "    value = i[0]\n",
        "    prelim_room_dict[key] = value"
      ],
      "metadata": {
        "id": "yqDIBPxpAXbJ"
      },
      "execution_count": 17,
      "outputs": []
    },
    {
      "cell_type": "markdown",
      "source": [
        "full schedule grid creation"
      ],
      "metadata": {
        "id": "rAozDnfXAiC6"
      }
    },
    {
      "cell_type": "code",
      "source": [
        "full_schedule_grid = []\n",
        "\n",
        "# perform this process for each prelim group, add to full_schedule_grid\n",
        "for group_name in prelim_group_names:\n",
        "    schedule_grid = (standard_schedule(group_name,\n",
        "                                       prelim_teamcode_dict,\n",
        "                                       prelim_room_dict))\n",
        "    full_schedule_grid.append(schedule_grid)"
      ],
      "metadata": {
        "id": "9Q-DolBuAaJZ"
      },
      "execution_count": 18,
      "outputs": []
    },
    {
      "cell_type": "markdown",
      "source": [
        "To make sure the full_schedule_grid was populated correctly, we'll print it out line by line."
      ],
      "metadata": {
        "id": "2yJI1x6PBUjr"
      }
    },
    {
      "cell_type": "code",
      "source": [
        "# for visual debugging\n",
        "for index, prelim_group in enumerate(prelim_group_names):\n",
        "    print(f'\\nPrelim Group: {prelim_group}')\n",
        "    print(*full_schedule_grid[index], sep='\\n')"
      ],
      "metadata": {
        "id": "Ozt12wMnBT2A",
        "colab": {
          "base_uri": "https://localhost:8080/"
        },
        "outputId": "2903e6ff-81c9-463a-dc98-3037a68dbf0b"
      },
      "execution_count": 19,
      "outputs": [
        {
          "output_type": "stream",
          "name": "stdout",
          "text": [
            "\n",
            "Prelim Group: Spooky\n",
            "['', 'Room 205', 'Room 205', 'Room 206', 'Room 206', 'Room 207', 'Room 207', 'BYE']\n",
            "['Round 1', 'HNB', 'NBB', 'VSS', 'DRA', 'KPB', 'HTC', 'CHE']\n",
            "['Round 2', 'NBB', 'DRA', 'HNB', 'HTC', 'VSS', 'CHE', 'KPB']\n",
            "['Round 3', 'DRA', 'HTC', 'NBB', 'CHE', 'HNB', 'KPB', 'VSS']\n",
            "['Round 4', 'CHE', 'HTC', 'KPB', 'DRA', 'VSS', 'NBB', 'HNB']\n",
            "['Round 5', 'KPB', 'CHE', 'VSS', 'HTC', 'HNB', 'DRA', 'NBB']\n",
            "['Round 6', 'VSS', 'KPB', 'HNB', 'CHE', 'NBB', 'HTC', 'DRA']\n",
            "['Round 7', 'HNB', 'VSS', 'NBB', 'KPB', 'DRA', 'CHE', 'HTC']\n",
            "\n",
            "Prelim Group: Scary\n",
            "['', 'Room 232', 'Room 232', 'Room 238', 'Room 238', 'Room 239', 'Room 239', 'BYE']\n",
            "['Round 1', 'KPC', 'NBA', 'ILT', 'HTB', 'DRB', 'MPB', 'HNA']\n",
            "['Round 2', 'NBA', 'HTB', 'KPC', 'MPB', 'ILT', 'HNA', 'DRB']\n",
            "['Round 3', 'HTB', 'MPB', 'NBA', 'HNA', 'KPC', 'DRB', 'ILT']\n",
            "['Round 4', 'HNA', 'MPB', 'DRB', 'HTB', 'ILT', 'NBA', 'KPC']\n",
            "['Round 5', 'DRB', 'HNA', 'ILT', 'MPB', 'KPC', 'HTB', 'NBA']\n",
            "['Round 6', 'ILT', 'DRB', 'KPC', 'HNA', 'NBA', 'MPB', 'HTB']\n",
            "['Round 7', 'KPC', 'ILT', 'NBA', 'DRB', 'HTB', 'HNA', 'MPB']\n",
            "\n",
            "Prelim Group: Skeletons\n",
            "['', 'Room 240', 'Room 240', 'Room 241', 'Room 241', 'Room 242', 'Room 242', 'BYE']\n",
            "['Round 1', 'KPD', 'MPA', 'HTA', 'PJF', 'WLR', 'HNC', 'WIL']\n",
            "['Round 2', 'MPA', 'PJF', 'KPD', 'HNC', 'HTA', 'WIL', 'WLR']\n",
            "['Round 3', 'PJF', 'HNC', 'MPA', 'WIL', 'KPD', 'WLR', 'HTA']\n",
            "['Round 4', 'WIL', 'HNC', 'WLR', 'PJF', 'HTA', 'MPA', 'KPD']\n",
            "['Round 5', 'WLR', 'WIL', 'HTA', 'HNC', 'KPD', 'PJF', 'MPA']\n",
            "['Round 6', 'HTA', 'WLR', 'KPD', 'WIL', 'MPA', 'HNC', 'PJF']\n",
            "['Round 7', 'KPD', 'HTA', 'MPA', 'WLR', 'PJF', 'WIL', 'HNC']\n"
          ]
        }
      ]
    },
    {
      "cell_type": "markdown",
      "source": [
        "# Prelim PDF Writer"
      ],
      "metadata": {
        "id": "-G75IfqqdJTn"
      }
    },
    {
      "cell_type": "markdown",
      "source": [
        "This section will rely on Quarto to output PDF files. For testing purposes, we may rely on HTML first.\n",
        "\n",
        "Our first objective: "
      ],
      "metadata": {
        "id": "IbLX9e88sfyI"
      }
    },
    {
      "cell_type": "code",
      "source": [
        "class PDF(FPDF):\n",
        "    \n",
        "    def basic_table(self, headings, rows):\n",
        "        for heading in headings:\n",
        "            self.cell(40, 7, heading, 1)\n",
        "        self.ln()\n",
        "        for row in rows:\n",
        "            for col in row:\n",
        "                self.cell(40, 6, col, 1)\n",
        "            self.ln()\n",
        "            \n",
        "    def fancy_table(self, headings, rows, col_widths=(42, 39, 35, 42)):\n",
        "        # Colors, line width and bold font:\n",
        "        self.set_fill_color(255, 100, 0)\n",
        "        self.set_text_color(255)\n",
        "        self.set_draw_color(255, 0, 0)\n",
        "        self.set_line_width(0.3)\n",
        "        self.set_font(style=\"B\")\n",
        "        for col_width, heading in zip(col_widths, headings):\n",
        "            self.cell(col_width, 7, heading, border=1, align=\"C\", fill=True)\n",
        "        self.ln()\n",
        "        # Color and font restoration:\n",
        "        self.set_fill_color(224, 235, 255)\n",
        "        self.set_text_color(0)\n",
        "        self.set_font()\n",
        "        fill = False\n",
        "        for row in rows:\n",
        "            self.cell(col_widths[0], 6, row[0], border=\"LR\", align=\"L\", fill=fill)\n",
        "            self.cell(col_widths[1], 6, row[1], border=\"LR\", align=\"L\", fill=fill)\n",
        "            self.cell(col_widths[2], 6, row[2], border=\"LR\", align=\"R\", fill=fill)\n",
        "            self.cell(col_widths[3], 6, row[3], border=\"LR\", align=\"R\", fill=fill)\n",
        "            self.ln()\n",
        "            fill = not fill\n",
        "        self.cell(sum(col_widths), 0, \"\", \"T\")"
      ],
      "metadata": {
        "id": "2sXgrSqj4QQz"
      },
      "execution_count": 30,
      "outputs": []
    },
    {
      "cell_type": "code",
      "source": [
        "col_names = full_schedule_grid[0][0]\n",
        "data = full_schedule_grid[0][1:]"
      ],
      "metadata": {
        "id": "Wl4_Ccpu4jgA"
      },
      "execution_count": 21,
      "outputs": []
    },
    {
      "cell_type": "code",
      "source": [
        "pdf = PDF()\n",
        "pdf.set_font(\"helvetica\", size=11)\n",
        "pdf.add_page()\n",
        "pdf.basic_table(col_names, data)\n",
        "pdf.add_page()\n",
        "pdf.fancy_table(col_names, data)\n",
        "# pdf.add_page()\n",
        "# pdf.colored_table(col_names, data)\n",
        "pdf.output(\"test_output.pdf\")\n",
        "pdf_bytes = pdf.output()\n",
        "\n",
        "WIDTH, HEIGHT = 800, 400 \n",
        "base64_pdf = b64encode(pdf_bytes).decode(\"utf-8\")"
      ],
      "metadata": {
        "id": "wqJPg3lP4pq8"
      },
      "execution_count": 33,
      "outputs": []
    },
    {
      "cell_type": "code",
      "source": [
        "# Diplay a download button:\n",
        "display(HTML(f'<a download=\"test_output.pdf\" href=\"data:application/pdf;base64,{base64_pdf}\">Click to download PDF</a>'))"
      ],
      "metadata": {
        "colab": {
          "base_uri": "https://localhost:8080/",
          "height": 34
        },
        "id": "ymvmWxJr4B1N",
        "outputId": "ee29229f-d225-4c31-992c-7a5e80d9e1d5"
      },
      "execution_count": 34,
      "outputs": [
        {
          "output_type": "display_data",
          "data": {
            "text/plain": [
              "<IPython.core.display.HTML object>"
            ],
            "text/html": [
              "<a download=\"test_output.pdf\" href=\"data:application/pdf;base64,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\">Click to download PDF</a>"
            ]
          },
          "metadata": {}
        }
      ]
    },
    {
      "cell_type": "markdown",
      "source": [
        " Prelim Analysis"
      ],
      "metadata": {
        "id": "iKG1VUXVdJTn"
      }
    },
    {
      "cell_type": "markdown",
      "source": [
        "# Playoff Scheduler"
      ],
      "metadata": {
        "id": "_YfbhDePdJTn"
      }
    },
    {
      "cell_type": "markdown",
      "source": [
        "# Playoff PDF Writer"
      ],
      "metadata": {
        "id": "eexAPF__dJTn"
      }
    },
    {
      "cell_type": "markdown",
      "source": [
        "# Superplayoff Scheduler"
      ],
      "metadata": {
        "id": "Qb5McvXKdPxF"
      }
    },
    {
      "cell_type": "markdown",
      "source": [
        "# Superplayoff PDF Writer "
      ],
      "metadata": {
        "id": "--DoUNDedPuN"
      }
    },
    {
      "cell_type": "markdown",
      "source": [
        "# NSC Scheduler"
      ],
      "metadata": {
        "id": "b3l5IrdtdrTf"
      }
    },
    {
      "cell_type": "markdown",
      "source": [
        "# *** Workspace below this point ***"
      ],
      "metadata": {
        "id": "qagHkeo1VeeJ"
      }
    },
    {
      "cell_type": "markdown",
      "source": [
        "\n",
        "\n",
        "---\n",
        "\n"
      ],
      "metadata": {
        "id": "_k8_duRuVhG4"
      }
    },
    {
      "cell_type": "markdown",
      "source": [
        "# Importing csv files from Github\n",
        "This will be useful later when grabbing templates for the scheduling functions.\n",
        "\n",
        "For more info on loading external files into Colabs, see [this article](https://towardsdatascience.com/7-ways-to-load-external-data-into-google-colab-7ba73e7d5fc7)."
      ],
      "metadata": {
        "id": "rLwWCJ3lixKD"
      }
    },
    {
      "cell_type": "code",
      "source": [
        "filename = 'templates/rr_schedules/rr_10.xlsx'\n",
        "\n",
        "df = pd.read_csv('https://raw.githubusercontent.com/victorprieto2265/cornerstone/main/archive/brackets.csv')\n",
        "\n",
        "# get_all_values gives a list of rows.\n",
        "print(df)"
      ],
      "metadata": {
        "id": "-Wd7s6KAj9it"
      },
      "execution_count": null,
      "outputs": []
    },
    {
      "cell_type": "markdown",
      "source": [
        "What about uploading excel files? Will that work?"
      ],
      "metadata": {
        "id": "8iW6m7Oz0w52"
      }
    },
    {
      "cell_type": "code",
      "source": [
        "url = \"https://github.com/victorprieto2265/cornerstone/blob/main/templates/rr_schedules/rr_templates.xlsx?raw=true\"\n",
        "db=pd.read_excel(url, sheet_name=None)\n",
        "\n",
        "print(type(db))\n",
        "print(db.keys())"
      ],
      "metadata": {
        "id": "Kd83cUbR00zf"
      },
      "execution_count": null,
      "outputs": []
    },
    {
      "cell_type": "markdown",
      "source": [
        "# Compiling latex files"
      ],
      "metadata": {
        "id": "UCnmv2_eVvjP"
      }
    },
    {
      "cell_type": "markdown",
      "source": [
        "Load a sample Latex file from my github repo. In this case, it's team index, which does not have any QR codes."
      ],
      "metadata": {
        "id": "tXq_OSEUWkBH"
      }
    },
    {
      "cell_type": "code",
      "source": [
        "import base64\n",
        "import requests\n",
        "\n",
        "url = 'https://raw.githubusercontent.com/victorprieto2265/cornerstone/main/output/prelim_team_index.tex'\n",
        "\n",
        "req = requests.get(url)\n",
        "req = req.text"
      ],
      "metadata": {
        "id": "6LUaIVrQV-nW"
      },
      "execution_count": null,
      "outputs": []
    },
    {
      "cell_type": "code",
      "source": [
        "from pdflatex import PDFLaTeX\n",
        "from google.colab import drive\n",
        "drive.mount('/content/drive')"
      ],
      "metadata": {
        "id": "sEhER_lVX-Pg"
      },
      "execution_count": null,
      "outputs": []
    },
    {
      "cell_type": "code",
      "source": [
        "filename = 'prelim_team_index.tex'\n",
        "with open(f'/content/drive/My Drive/{filename}', 'w') as f:\n",
        "  f.write(req)\n",
        "!cat /content/drive/My\\ Drive/prelim_team_index.tex"
      ],
      "metadata": {
        "id": "AnU54_nSbHHa"
      },
      "execution_count": null,
      "outputs": []
    },
    {
      "cell_type": "code",
      "source": [
        "!sudo apt install cm-super dvipng texlive-latex-extra texlive-latex-recommended"
      ],
      "metadata": {
        "id": "Nv7ztIeVbVxV"
      },
      "execution_count": null,
      "outputs": []
    },
    {
      "cell_type": "code",
      "source": [
        "pdfl = PDFLaTeX.from_texfile(f'/content/drive/My Drive/{filename}')\n",
        "pdf, log, completed_process = pdfl.create_pdf(keep_pdf_file=True, keep_log_file=False)\n"
      ],
      "metadata": {
        "id": "8F3Yx_Tca_2V"
      },
      "execution_count": null,
      "outputs": []
    },
    {
      "cell_type": "code",
      "source": [
        "# drive.flush_and_unmount()"
      ],
      "metadata": {
        "id": "M32Sg87hcZDZ"
      },
      "execution_count": null,
      "outputs": []
    }
  ]
}