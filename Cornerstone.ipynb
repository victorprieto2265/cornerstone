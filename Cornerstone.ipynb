{
  "nbformat": 4,
  "nbformat_minor": 0,
  "metadata": {
    "colab": {
      "provenance": [],
      "collapsed_sections": [
        "LxPWT_oriuCh",
        "owcZyEiJdJTm",
        "5n9ob-8odPkM",
        "Lsvgg3XgLlT9",
        "ejmFTFC8LQVB",
        "iKG1VUXVdJTn",
        "Qb5McvXKdPxF",
        "qagHkeo1VeeJ",
        "rLwWCJ3lixKD"
      ],
      "authorship_tag": "ABX9TyNFSKv/LYUb/ecPVx9WlMTx",
      "include_colab_link": true
    },
    "kernelspec": {
      "name": "python3",
      "display_name": "Python 3"
    },
    "language_info": {
      "name": "python"
    }
  },
  "cells": [
    {
      "cell_type": "markdown",
      "metadata": {
        "id": "view-in-github",
        "colab_type": "text"
      },
      "source": [
        "<a href=\"https://colab.research.google.com/github/victorprieto2265/cornerstone/blob/main/Cornerstone.ipynb\" target=\"_parent\"><img src=\"https://colab.research.google.com/assets/colab-badge.svg\" alt=\"Open In Colab\"/></a>"
      ]
    },
    {
      "cell_type": "markdown",
      "source": [
        "# TODO + RFE\n",
        "\n"
      ],
      "metadata": {
        "id": "IwJ6m76Ee1va"
      }
    },
    {
      "cell_type": "markdown",
      "source": [
        "TODO\n",
        "\n",
        "* Import computer modern typeface for use (consider open sans or interstate as an alternative).\n",
        "* Detect and split up tables that run over multiple pages (likely documents other than individual schedules for any 32+ team tournaments).\n",
        "* Qr_toggle keeps returning as false despite being updated differently in prelims_input, can't figure out the github new file issue!\n",
        "* Write new error check for duplicates and length limits. The old one is currently commented out.\n",
        "* There's an encoding problem for text: FPDF2 only accepts Latin-1, and I don't know enough around encoding except to tell users not to use anything outside Latin-1. Notably, an em dash and an ellipsis character will cause an encoding problem (the latter is what led me to identify this problem). This could affect all text inputs anywhere, not just individual text schedule inputs.\n",
        "* Finish the crossover templates in rr_templates.xlsx at some point. Right now crossovers are kind of a mess.\n",
        "\n",
        "RFE\n",
        "\n",
        "* Someone has pointed out 3-letter team codes are unnecessary for everything outside of the complete schedule. It's included in the team index, but not actually used in any documents other than the complete schedule. After Cornerstone has been in use for some time, re-evaluate the necessity of the 3-letter code, and correspondingly the complete schedule.\n",
        " * Cornerstone relies on 3-letter codes for a lot of functions. To avoid rewriting half the program, instead assign a unique short string to each team upon input - for instance, T1 through Tn would be fine.\n",
        "* In class definition for individual room schedules, add a row for score confirmation + signature.\n"
      ],
      "metadata": {
        "id": "QEwWOlwXfE0H"
      }
    },
    {
      "cell_type": "markdown",
      "source": [
        "\n",
        "# Import modules / libraries"
      ],
      "metadata": {
        "id": "LxPWT_oriuCh"
      }
    },
    {
      "cell_type": "code",
      "source": [
        "!pip install fpdf2\n",
        "!pip install qrcode\n",
        "\n",
        "import sys\n",
        "import pandas as pd\n",
        "import warnings\n",
        "warnings.simplefilter('default', DeprecationWarning)\n",
        "from fpdf import FPDF\n",
        "import fpdf\n",
        "from base64 import b64encode\n",
        "import IPython\n",
        "from IPython.display import display, HTML\n",
        "import qrcode"
      ],
      "metadata": {
        "id": "pl18nTJ1uVlv",
        "colab": {
          "base_uri": "https://localhost:8080/"
        },
        "outputId": "866cadb9-5f51-4a16-bf70-fa148e2b44f5"
      },
      "execution_count": 1,
      "outputs": [
        {
          "output_type": "stream",
          "name": "stdout",
          "text": [
            "Looking in indexes: https://pypi.org/simple, https://us-python.pkg.dev/colab-wheels/public/simple/\n",
            "Collecting fpdf2\n",
            "  Downloading fpdf2-2.6.1-py2.py3-none-any.whl (255 kB)\n",
            "\u001b[2K     \u001b[90m━━━━━━━━━━━━━━━━━━━━━━━━━━━━━━━━━━━━━━━\u001b[0m \u001b[32m255.6/255.6 KB\u001b[0m \u001b[31m4.8 MB/s\u001b[0m eta \u001b[36m0:00:00\u001b[0m\n",
            "\u001b[?25hCollecting fonttools>=4.34.0\n",
            "  Downloading fonttools-4.38.0-py3-none-any.whl (965 kB)\n",
            "\u001b[2K     \u001b[90m━━━━━━━━━━━━━━━━━━━━━━━━━━━━━━━━━━━━━━\u001b[0m \u001b[32m965.4/965.4 KB\u001b[0m \u001b[31m21.9 MB/s\u001b[0m eta \u001b[36m0:00:00\u001b[0m\n",
            "\u001b[?25hRequirement already satisfied: Pillow!=9.2.*,>=6.2.2 in /usr/local/lib/python3.8/dist-packages (from fpdf2) (7.1.2)\n",
            "Requirement already satisfied: defusedxml in /usr/local/lib/python3.8/dist-packages (from fpdf2) (0.7.1)\n",
            "Installing collected packages: fonttools, fpdf2\n",
            "Successfully installed fonttools-4.38.0 fpdf2-2.6.1\n",
            "Looking in indexes: https://pypi.org/simple, https://us-python.pkg.dev/colab-wheels/public/simple/\n",
            "Collecting qrcode\n",
            "  Downloading qrcode-7.4.2-py3-none-any.whl (46 kB)\n",
            "\u001b[2K     \u001b[90m━━━━━━━━━━━━━━━━━━━━━━━━━━━━━━━━━━━━━━━━\u001b[0m \u001b[32m46.2/46.2 KB\u001b[0m \u001b[31m2.2 MB/s\u001b[0m eta \u001b[36m0:00:00\u001b[0m\n",
            "\u001b[?25hRequirement already satisfied: typing-extensions in /usr/local/lib/python3.8/dist-packages (from qrcode) (4.4.0)\n",
            "Collecting pypng\n",
            "  Downloading pypng-0.20220715.0-py3-none-any.whl (58 kB)\n",
            "\u001b[2K     \u001b[90m━━━━━━━━━━━━━━━━━━━━━━━━━━━━━━━━━━━━━━━━\u001b[0m \u001b[32m58.1/58.1 KB\u001b[0m \u001b[31m3.4 MB/s\u001b[0m eta \u001b[36m0:00:00\u001b[0m\n",
            "\u001b[?25hInstalling collected packages: pypng, qrcode\n",
            "Successfully installed pypng-0.20220715.0 qrcode-7.4.2\n"
          ]
        }
      ]
    },
    {
      "cell_type": "markdown",
      "source": [
        "# Cornerstone Input\n",
        "\n",
        "This section imports all of the input files, except tournament format,\n",
        "which is handled by the tournament_format script.\n",
        "\n",
        "TODO uncomment sys.exit at end of this script for testing\n",
        "\n",
        "TODO figure out how to handle blank spaces and/or none in input file...\n",
        "There was an unusual error where integers were being converted to floats\n",
        "if one of the cells in a range was empty instead of string 'none'.\n",
        "\n",
        "TODO apparently bracket names (and presumably other things) are case-sensitive.\n",
        "\n",
        "TODO currently a global variable for checking for errors, which is a no no?\n"
      ],
      "metadata": {
        "id": "jaurrPCkdJTm"
      }
    },
    {
      "cell_type": "code",
      "source": [
        "error = 0\n",
        "\n",
        "# checks for duplicates and (optional) character limits\n",
        "def error_check(alist, listname, max_length=float('inf'), max_duplicates=1):\n",
        "    global error  # TODO this is apparently a no no, but works for now\n",
        "    print('\\n')\n",
        "    # duplicate checker\n",
        "    seen = {}\n",
        "    duplicates = []\n",
        "    for item in alist:\n",
        "        if item not in seen:\n",
        "            seen[item] = 1\n",
        "        else:\n",
        "            seen[item] += 1\n",
        "            if seen[item] > max_duplicates:\n",
        "                duplicates.append(' - ' + str(item))\n",
        "    if not duplicates:\n",
        "        if max_duplicates > 1:\n",
        "            print(f'No excess duplicates detected for {listname}.')\n",
        "        else:\n",
        "            print(f'No duplicates detected for {listname}.')\n",
        "    else:\n",
        "        # error = True\n",
        "        error += 1\n",
        "        print(f'\\nDuplicates detected for {listname}:')\n",
        "        print(*duplicates, sep='\\n')\n",
        "\n",
        "    # character length checker\n",
        "    long_items = [' - ' + item for item in alist if len(item) > max_length]\n",
        "    if not long_items:\n",
        "        print(f'No character lengths exceeded for {listname}.')\n",
        "    else:\n",
        "        error += 1\n",
        "        # error = True\n",
        "        print(f'Character lengths exceeded for {listname}:')\n",
        "        print(*long_items, sep='\\n')"
      ],
      "metadata": {
        "id": "Hd9MUoAjgvDO"
      },
      "execution_count": 2,
      "outputs": []
    },
    {
      "cell_type": "markdown",
      "source": [
        "Function definition: analyze sheet and generate list from pandas dataframe."
      ],
      "metadata": {
        "id": "_Jl-_l1RkTvk"
      }
    },
    {
      "cell_type": "code",
      "source": [
        "def analyze_input(sheet_name, df_dict):\n",
        "    df = df_dict[sheet_name]\n",
        "    temp_list = df.values.tolist()  # note: temp_list may be multiple lists!\n",
        "    return temp_list"
      ],
      "metadata": {
        "id": "fwaKQucMkRJT"
      },
      "execution_count": 3,
      "outputs": []
    },
    {
      "cell_type": "markdown",
      "source": [
        "---\n",
        "\n",
        "Upload the prelims_data excel spreadsheet from local computer, and create dictionary containing the sheet name and each dataframe.\n",
        "\n",
        "TODO For now, this is commented out. While testing Cornerstone as I'm porting over to Colab, I will be directly pulling the excel file from a dedicated location in github."
      ],
      "metadata": {
        "id": "QIwjrPCFjYas"
      }
    },
    {
      "cell_type": "code",
      "source": [
        "from google.colab import files\n",
        "file_upload = files.upload()\n",
        "file_upload = list(file_upload.keys())[0]\n",
        "\n",
        "sheet_names = ['tournament format', 'list of teams', 'team codes',\n",
        "                'group names', 'room assignments',\n",
        "                'QR codes', 'text input']\n",
        "df_dict_prelim = pd.read_excel(file_upload,\n",
        "                               sheet_name=sheet_names)"
      ],
      "metadata": {
        "id": "xysCWCW7g83a",
        "colab": {
          "base_uri": "https://localhost:8080/",
          "height": 73
        },
        "collapsed": true,
        "outputId": "438879e7-8bf3-4101-dbef-5475b056c27a"
      },
      "execution_count": 4,
      "outputs": [
        {
          "output_type": "display_data",
          "data": {
            "text/plain": [
              "<IPython.core.display.HTML object>"
            ],
            "text/html": [
              "\n",
              "     <input type=\"file\" id=\"files-ebaf6224-9b4e-49c1-a62b-3f0be98e8aab\" name=\"files[]\" multiple disabled\n",
              "        style=\"border:none\" />\n",
              "     <output id=\"result-ebaf6224-9b4e-49c1-a62b-3f0be98e8aab\">\n",
              "      Upload widget is only available when the cell has been executed in the\n",
              "      current browser session. Please rerun this cell to enable.\n",
              "      </output>\n",
              "      <script>// Copyright 2017 Google LLC\n",
              "//\n",
              "// Licensed under the Apache License, Version 2.0 (the \"License\");\n",
              "// you may not use this file except in compliance with the License.\n",
              "// You may obtain a copy of the License at\n",
              "//\n",
              "//      http://www.apache.org/licenses/LICENSE-2.0\n",
              "//\n",
              "// Unless required by applicable law or agreed to in writing, software\n",
              "// distributed under the License is distributed on an \"AS IS\" BASIS,\n",
              "// WITHOUT WARRANTIES OR CONDITIONS OF ANY KIND, either express or implied.\n",
              "// See the License for the specific language governing permissions and\n",
              "// limitations under the License.\n",
              "\n",
              "/**\n",
              " * @fileoverview Helpers for google.colab Python module.\n",
              " */\n",
              "(function(scope) {\n",
              "function span(text, styleAttributes = {}) {\n",
              "  const element = document.createElement('span');\n",
              "  element.textContent = text;\n",
              "  for (const key of Object.keys(styleAttributes)) {\n",
              "    element.style[key] = styleAttributes[key];\n",
              "  }\n",
              "  return element;\n",
              "}\n",
              "\n",
              "// Max number of bytes which will be uploaded at a time.\n",
              "const MAX_PAYLOAD_SIZE = 100 * 1024;\n",
              "\n",
              "function _uploadFiles(inputId, outputId) {\n",
              "  const steps = uploadFilesStep(inputId, outputId);\n",
              "  const outputElement = document.getElementById(outputId);\n",
              "  // Cache steps on the outputElement to make it available for the next call\n",
              "  // to uploadFilesContinue from Python.\n",
              "  outputElement.steps = steps;\n",
              "\n",
              "  return _uploadFilesContinue(outputId);\n",
              "}\n",
              "\n",
              "// This is roughly an async generator (not supported in the browser yet),\n",
              "// where there are multiple asynchronous steps and the Python side is going\n",
              "// to poll for completion of each step.\n",
              "// This uses a Promise to block the python side on completion of each step,\n",
              "// then passes the result of the previous step as the input to the next step.\n",
              "function _uploadFilesContinue(outputId) {\n",
              "  const outputElement = document.getElementById(outputId);\n",
              "  const steps = outputElement.steps;\n",
              "\n",
              "  const next = steps.next(outputElement.lastPromiseValue);\n",
              "  return Promise.resolve(next.value.promise).then((value) => {\n",
              "    // Cache the last promise value to make it available to the next\n",
              "    // step of the generator.\n",
              "    outputElement.lastPromiseValue = value;\n",
              "    return next.value.response;\n",
              "  });\n",
              "}\n",
              "\n",
              "/**\n",
              " * Generator function which is called between each async step of the upload\n",
              " * process.\n",
              " * @param {string} inputId Element ID of the input file picker element.\n",
              " * @param {string} outputId Element ID of the output display.\n",
              " * @return {!Iterable<!Object>} Iterable of next steps.\n",
              " */\n",
              "function* uploadFilesStep(inputId, outputId) {\n",
              "  const inputElement = document.getElementById(inputId);\n",
              "  inputElement.disabled = false;\n",
              "\n",
              "  const outputElement = document.getElementById(outputId);\n",
              "  outputElement.innerHTML = '';\n",
              "\n",
              "  const pickedPromise = new Promise((resolve) => {\n",
              "    inputElement.addEventListener('change', (e) => {\n",
              "      resolve(e.target.files);\n",
              "    });\n",
              "  });\n",
              "\n",
              "  const cancel = document.createElement('button');\n",
              "  inputElement.parentElement.appendChild(cancel);\n",
              "  cancel.textContent = 'Cancel upload';\n",
              "  const cancelPromise = new Promise((resolve) => {\n",
              "    cancel.onclick = () => {\n",
              "      resolve(null);\n",
              "    };\n",
              "  });\n",
              "\n",
              "  // Wait for the user to pick the files.\n",
              "  const files = yield {\n",
              "    promise: Promise.race([pickedPromise, cancelPromise]),\n",
              "    response: {\n",
              "      action: 'starting',\n",
              "    }\n",
              "  };\n",
              "\n",
              "  cancel.remove();\n",
              "\n",
              "  // Disable the input element since further picks are not allowed.\n",
              "  inputElement.disabled = true;\n",
              "\n",
              "  if (!files) {\n",
              "    return {\n",
              "      response: {\n",
              "        action: 'complete',\n",
              "      }\n",
              "    };\n",
              "  }\n",
              "\n",
              "  for (const file of files) {\n",
              "    const li = document.createElement('li');\n",
              "    li.append(span(file.name, {fontWeight: 'bold'}));\n",
              "    li.append(span(\n",
              "        `(${file.type || 'n/a'}) - ${file.size} bytes, ` +\n",
              "        `last modified: ${\n",
              "            file.lastModifiedDate ? file.lastModifiedDate.toLocaleDateString() :\n",
              "                                    'n/a'} - `));\n",
              "    const percent = span('0% done');\n",
              "    li.appendChild(percent);\n",
              "\n",
              "    outputElement.appendChild(li);\n",
              "\n",
              "    const fileDataPromise = new Promise((resolve) => {\n",
              "      const reader = new FileReader();\n",
              "      reader.onload = (e) => {\n",
              "        resolve(e.target.result);\n",
              "      };\n",
              "      reader.readAsArrayBuffer(file);\n",
              "    });\n",
              "    // Wait for the data to be ready.\n",
              "    let fileData = yield {\n",
              "      promise: fileDataPromise,\n",
              "      response: {\n",
              "        action: 'continue',\n",
              "      }\n",
              "    };\n",
              "\n",
              "    // Use a chunked sending to avoid message size limits. See b/62115660.\n",
              "    let position = 0;\n",
              "    do {\n",
              "      const length = Math.min(fileData.byteLength - position, MAX_PAYLOAD_SIZE);\n",
              "      const chunk = new Uint8Array(fileData, position, length);\n",
              "      position += length;\n",
              "\n",
              "      const base64 = btoa(String.fromCharCode.apply(null, chunk));\n",
              "      yield {\n",
              "        response: {\n",
              "          action: 'append',\n",
              "          file: file.name,\n",
              "          data: base64,\n",
              "        },\n",
              "      };\n",
              "\n",
              "      let percentDone = fileData.byteLength === 0 ?\n",
              "          100 :\n",
              "          Math.round((position / fileData.byteLength) * 100);\n",
              "      percent.textContent = `${percentDone}% done`;\n",
              "\n",
              "    } while (position < fileData.byteLength);\n",
              "  }\n",
              "\n",
              "  // All done.\n",
              "  yield {\n",
              "    response: {\n",
              "      action: 'complete',\n",
              "    }\n",
              "  };\n",
              "}\n",
              "\n",
              "scope.google = scope.google || {};\n",
              "scope.google.colab = scope.google.colab || {};\n",
              "scope.google.colab._files = {\n",
              "  _uploadFiles,\n",
              "  _uploadFilesContinue,\n",
              "};\n",
              "})(self);\n",
              "</script> "
            ]
          },
          "metadata": {}
        },
        {
          "output_type": "stream",
          "name": "stdout",
          "text": [
            "Saving prelims_data_columbia.xlsx to prelims_data_columbia.xlsx\n"
          ]
        }
      ]
    },
    {
      "cell_type": "code",
      "source": [
        "# sheet_names = ['tournament format', 'list of teams', 'team codes',\n",
        "#                 'group names', 'room assignments',\n",
        "#                 'QR codes', 'text input']\n",
        "# url = \"https://github.com/victorprieto2265/cornerstone/blob/main/data%20input/prelims_data.xlsx?raw=true\"\n",
        "# df_dict_prelim = pd.read_excel(url,\n",
        "#                                sheet_name=sheet_names)\n"
      ],
      "metadata": {
        "id": "Y1gg7KUvlGRK"
      },
      "execution_count": 5,
      "outputs": []
    },
    {
      "cell_type": "markdown",
      "source": [
        "Determine phase of the tournament based on import filename."
      ],
      "metadata": {
        "id": "Ym7NjjhXATSB"
      }
    },
    {
      "cell_type": "code",
      "source": [
        "# check to make sure filename has the correct prefix for tournament phase\n",
        "acceptable_file_prefixes = ('prelims', 'playoffs', 'superplayoffs')\n",
        "if not file_upload.startswith(acceptable_file_prefixes):\n",
        "  print('\\nWARNING: filename must start with one of the following:')\n",
        "  for prefix in acceptable_file_prefixes:\n",
        "    print(prefix)\n",
        "  sys.exit()\n",
        "\n",
        "if file_upload.startswith('prelims'):\n",
        "  tournament_phase = 'prelims'\n",
        "elif file_upload.startswith('playoffs'):\n",
        "  tournament_phase = 'playoffs'\n",
        "elif file_upload.startswith('super'):\n",
        "  tournament_phase = 'super'"
      ],
      "metadata": {
        "id": "oLibmsoU-Mv_"
      },
      "execution_count": 6,
      "outputs": []
    },
    {
      "cell_type": "markdown",
      "source": [
        "Using the analyze_input function, create a list from each tab of the spreadsheet corresponding to the relevant information (e.g. a list of room assignments). If in playoffs or superplayoffs, also create the relevant lists there."
      ],
      "metadata": {
        "id": "EvXL0iGwFMH7"
      }
    },
    {
      "cell_type": "code",
      "source": [
        "list_of_teams = analyze_input('list of teams', df_dict_prelim)\n",
        "team_codes = analyze_input('team codes', df_dict_prelim)\n",
        "room_assignments = analyze_input('room assignments', df_dict_prelim)\n",
        "qr_codelist = analyze_input('QR codes', df_dict_prelim)\n",
        "textlist = analyze_input('text input', df_dict_prelim)\n",
        "tournament_format = analyze_input('tournament format', df_dict_prelim)\n",
        "\n",
        "group_names = analyze_input('group names', df_dict_prelim)\n",
        "prelim_group_names = [row[0] for row in group_names]\n",
        "\n",
        "if tournament_phase in ['playoffs', 'super']:\n",
        "    playoff_bracket_names = [row[1] for row in group_names]\n",
        "    playoff_bracket_names = [x for x in playoff_bracket_names\n",
        "                             if str(x) != 'nan']\n",
        "if tournament_phase == 'super':\n",
        "    super_bracket_names = [row[2] for row in group_names]\n",
        "    super_bracket_names = [x for x in super_bracket_names\n",
        "                             if str(x) != 'nan']"
      ],
      "metadata": {
        "id": "3CAhOiL09mfs"
      },
      "execution_count": 7,
      "outputs": []
    },
    {
      "cell_type": "markdown",
      "source": [
        "Sometimes, tournaments don't have enough teams to warrant more than one prelim group. We'll do a quick check to see if that's the case."
      ],
      "metadata": {
        "id": "hMBNDAmFJNuK"
      }
    },
    {
      "cell_type": "code",
      "source": [
        "if len(prelim_group_names) == 1:\n",
        "  single_prelim_group = True\n",
        "else:\n",
        "  single_prelim_group = False"
      ],
      "metadata": {
        "id": "_aY-0K2lJiXN"
      },
      "execution_count": 8,
      "outputs": []
    },
    {
      "cell_type": "markdown",
      "source": [
        "A dictionary containing general information about the tournament is also generated from the tournament_format sheet.\n",
        "\n",
        "It's necessary to convert the datetime value from excel to a more suitable string before printing."
      ],
      "metadata": {
        "id": "irPSh0zaFwLj"
      }
    },
    {
      "cell_type": "code",
      "source": [
        "format_dict = {}\n",
        "for row in tournament_format:\n",
        "    key = row[0]  # item, e.g. \"tournament name\"\n",
        "    value = row[1]  # input, e.g. \"2022 NSC\"\n",
        "    format_dict[key] = value\n",
        "\n",
        "# convert Excel datetime format to more suitable date string\n",
        "date = format_dict['tournament date'].strftime('%B %d, %Y')\n",
        "format_dict['tournament date'] = date"
      ],
      "metadata": {
        "id": "SNGO4QFRkOZ5"
      },
      "execution_count": 9,
      "outputs": []
    },
    {
      "cell_type": "markdown",
      "source": [
        "Next is the analysis section for the text and QR code inputs. Did the user turn these on? If not, these sections are skipped."
      ],
      "metadata": {
        "id": "8EDjXCXfn9Wd"
      }
    },
    {
      "cell_type": "code",
      "source": [
        "if format_dict['QR codes'] == 'Y':\n",
        "    qr_toggle = True\n",
        "\n",
        "    qr_names = [code[0] for code in qr_codelist]\n",
        "    qr_codes = [code[2] for code in qr_codelist]\n",
        "    qr_captions = [code[3] for code in qr_codelist]\n",
        "\n",
        "else:\n",
        "    qr_toggle = False\n",
        "    qr_codes = False\n",
        "    qr_captions = False\n",
        "\n",
        "if format_dict['text'] == 'Y':\n",
        "    text_toggle = True\n",
        "    texts = [text[1] for text in textlist]\n",
        "\n",
        "else:\n",
        "    text_toggle = False\n",
        "    texts = False"
      ],
      "metadata": {
        "id": "cZ3mT363oBcD"
      },
      "execution_count": 10,
      "outputs": []
    },
    {
      "cell_type": "markdown",
      "source": [
        "More dictionary creation here: this time, for team names and team codes.\n",
        "\n",
        "RFE get rid of team codes if the user is okay with foregoing the complete team schedule in favor of individual team schedules."
      ],
      "metadata": {
        "id": "ozsWkM-bHtSP"
      }
    },
    {
      "cell_type": "code",
      "source": [
        "# key is team name\n",
        "# value is team code\n",
        "# also created a dictionary where the key/value pairs are swapped\n",
        "team_code_dict = {}\n",
        "code_team_dict = {}\n",
        "for row in team_codes:\n",
        "    team_name = row[0]\n",
        "    team_code = row[1]\n",
        "    team_code_dict[team_name] = team_code\n",
        "    code_team_dict[team_code] = team_name\n",
        "\n",
        "# key is prelim group and a number (i.e. Accra1)\n",
        "# value is corresponding room (i.e. Grand Ballroom A is Accra1)\n",
        "# also created dictionary where key is a playoff bracket instead\n",
        "prelim_room_dict = {}\n",
        "playoff_room_dict = {}\n",
        "super_room_dict = {}\n",
        "for i in room_assignments:\n",
        "    key = i[1] + str(i[2])\n",
        "    value = i[0]\n",
        "    if tournament_phase == 'prelims':\n",
        "        prelim_room_dict[key] = value\n",
        "    elif tournament_phase == 'playoffs':\n",
        "        playoff_room_dict[key] = value\n",
        "    elif tournament_phase == 'super':\n",
        "        super_room_dict[key] = value"
      ],
      "metadata": {
        "id": "zCCyM_MCg-H0"
      },
      "execution_count": 11,
      "outputs": []
    },
    {
      "cell_type": "markdown",
      "source": [
        "Last is the error check section, to see if any of the data submitted by the user was improperly formatted.\n",
        "\n",
        "TODO this whole section needs to be updated... And perhaps error checks should be distributed elsewhere in the program. It's not working well."
      ],
      "metadata": {
        "id": "dKTcWKPmHfV8"
      }
    },
    {
      "cell_type": "code",
      "source": [
        "# TODO modify max_duplicates to be flexible on schedule and not hard coded\n",
        "# or perhaps get rid of max duplicates since it doesn't make a lot of sense\n",
        "\n",
        "# error_check([sublist[0] for sublist in list_of_teams],\n",
        "#             'the team names in list_of_teams',\n",
        "#             max_length=26)\n",
        "\n",
        "# error_check([sublist[2] for sublist in list_of_teams],\n",
        "#             'the prelim groups in list_of_teams',\n",
        "#             max_length=15,\n",
        "#             )\n",
        "\n",
        "# error_check([sublist[1] for sublist in team_codes],\n",
        "#             'the team codes in team_codes',\n",
        "#             max_length=4)\n",
        "\n",
        "# try:\n",
        "#     error_check(prelim_group_names,\n",
        "#                 'the groups in prelim_group_names',\n",
        "#                 max_length=15)\n",
        "# except:  # TODO bare except\n",
        "#     None\n",
        "\n",
        "# try:\n",
        "#     error_check(playoff_bracket_names,\n",
        "#                 'the brackets in playoff_bracket_names',\n",
        "#                 max_length=15)\n",
        "# except:  # TODO bare except\n",
        "#     None\n",
        "\n",
        "# error_check([sublist[0] for sublist in room_assignments],\n",
        "#             'the list of rooms in room_assignments',\n",
        "#             max_length=15)\n",
        "\n",
        "if error == 0:\n",
        "    print('\\n*** No errors detected upon import. ***')\n",
        "else:\n",
        "    print('\\n*** Errors detected during import! ***')\n",
        "    sys.exit()"
      ],
      "metadata": {
        "id": "DhUxZUHJHehk",
        "collapsed": true,
        "colab": {
          "base_uri": "https://localhost:8080/"
        },
        "outputId": "07b4b421-a2c1-4ae8-aacc-136831b3b9b6"
      },
      "execution_count": 12,
      "outputs": [
        {
          "output_type": "stream",
          "name": "stdout",
          "text": [
            "\n",
            "*** No errors detected upon import. ***\n"
          ]
        }
      ]
    },
    {
      "cell_type": "markdown",
      "source": [
        "# Function Definitions"
      ],
      "metadata": {
        "id": "owcZyEiJdJTm"
      }
    },
    {
      "cell_type": "markdown",
      "source": [
        "Function for removing duplicates from a list."
      ],
      "metadata": {
        "id": "uQuJVhmyA3CC"
      }
    },
    {
      "cell_type": "code",
      "source": [
        "def remove_duplicates(alist):\n",
        "    newlist = []\n",
        "    [newlist.append(x) for x in alist if x not in newlist]\n",
        "    return newlist"
      ],
      "metadata": {
        "id": "a81URiBdA7G8"
      },
      "execution_count": 13,
      "outputs": []
    },
    {
      "cell_type": "markdown",
      "source": [
        "original function_definitions.py"
      ],
      "metadata": {
        "id": "EUZolcmPAy4y"
      }
    },
    {
      "cell_type": "code",
      "source": [
        "# import time\n",
        "# import sys\n",
        "# from pathlib import Path\n",
        "# from pylatex import (Document, Tabularx, Command,\n",
        "#                       NewPage, HugeText, Package,\n",
        "#                      VerticalSpace)\n",
        "# from pylatex.utils import NoEscape\n",
        "# from cornerstone_input import format_dict\n",
        "\n",
        "# # place additional modules here\n",
        "\n",
        "# header = \"\"\"\n",
        "\n",
        "# Depository for a bunch of class and function definitions shared across\n",
        "# prelim/playoff scripts.\n",
        "\n",
        "# TODO what if snake seed is fed a list with odd number of teams?\n",
        "\n",
        "# TODO what if qr_count ≠ 3?\n",
        "\n",
        "# Created on Mon Nov 1 13:53:44 2021 Eastern Time\n",
        "\n",
        "# @author: Victor Prieto\n",
        "\n",
        "# \"\"\"\n",
        "\n",
        "\n",
        "# # starts program runtime\n",
        "# start_time = time.time()\n",
        "# print('\\n', header)\n",
        "# print('start time: %s' % time.ctime())\n",
        "\n",
        "# # %% function definitions\n",
        "\n",
        "\n",
        "\n",
        "\n",
        "\n",
        "# def split_list(alist, wanted_parts=1):\n",
        "#     length = len(alist)\n",
        "#     return [alist[i*length // wanted_parts: (i+1)*length // wanted_parts]\n",
        "#             for i in range(wanted_parts)]\n",
        "\n",
        "\n",
        "# def snake_seed(list_of_teams, bracket_count):\n",
        "#     \"\"\"\n",
        "#     Parameters\n",
        "#     ----------\n",
        "#     list_of_teams : list\n",
        "#         A list of teams for reordering into playoff brackets by snake seeding.\n",
        "#     bracket_count : int\n",
        "#         Number of playoff brackets to snake seed across.\n",
        "\n",
        "#     Returns\n",
        "#     -------\n",
        "#     newlist : list\n",
        "#         Same list of teams accepted as input, but reordered by snake seeding.\n",
        "#         The list is also split into the number of playoff brackets.\n",
        "#         Example:\n",
        "#             (1, 2, 3, 4... 23, 24)\n",
        "#             snake seeded across four brackets becomes\n",
        "#             ((1, 8, 9, 16, 17, 24), (2, 7, 10, 15, 18... 12, 13, 20, 21))\n",
        "\n",
        "#     \"\"\"\n",
        "\n",
        "#     # generates sequence of indices for snake seeding\n",
        "#     sequence_length = 2 * bracket_count\n",
        "#     reps = len(list_of_teams) / sequence_length\n",
        "#     sequence = []\n",
        "#     for i in range(0, int(sequence_length/2)):\n",
        "#         for j in range(0, int(reps)):\n",
        "#             sequence.append(i+j*sequence_length)\n",
        "#             sequence.append((sequence_length-1-i)+j*sequence_length)\n",
        "\n",
        "#     # quits program if odd number of teams in list_of_teams\n",
        "#     if (len(list_of_teams)) % 2 == 1:\n",
        "#         print('ODD NUMBER OF TEAMS DETECTED')\n",
        "#         sys.exit()\n",
        "\n",
        "#     # use sequence of indices to generate new list of teams\n",
        "#     newlist = (list_of_teams[index] for index in sequence)\n",
        "#     return newlist\n",
        "\n",
        "\n",
        "# def alternating_rows(doc, color):\n",
        "#     return doc.append(NoEscape(r'\\rowcolors{3}{white}{%s}' % color))\n",
        "\n",
        "\n",
        "# def duplicate_checker(alist):\n",
        "#     seen = set()\n",
        "#     for x in alist:\n",
        "#         if x in seen:\n",
        "#             return True\n",
        "#         seen.add(x)\n",
        "#     return False\n",
        "\n",
        "\n",
        "# def start_latex(filename_input, docname, title=True, fontsize=False):\n",
        "\n",
        "#     Path(\"./output/\").mkdir(parents=True, exist_ok=True)\n",
        "#     file_path = r'./output/'\n",
        "#     Path(file_path).mkdir(parents=True, exist_ok=True)\n",
        "#     filename = file_path + filename_input        \n",
        "    \n",
        "#     geometry_options = {\n",
        "#         \"includeheadfoot\": True\n",
        "#     }\n",
        "\n",
        "#     doc = Document(filename, geometry_options=geometry_options)\n",
        "\n",
        "#     # this changed font sizes, but it doesn't work so well\n",
        "#     if fontsize is True:\n",
        "#         doc = Document(filename_input, geometry_options=geometry_options,\n",
        "#                        font_size='')\n",
        "#         doc.append(Command('fontsize', arguments=['12', '12']))\n",
        "#         doc.append(Command('selectfont'))\n",
        "\n",
        "#     doc.preamble.append(Command('title', format_dict['tournament name']))\n",
        "#     doc.preamble.append(Command('author', format_dict['tournament location']))\n",
        "#     doc.preamble.append(Command('date', format_dict['tournament date']))\n",
        "    \n",
        "#     doc.packages.append(Package('qrcode'))  # add qrcode to packages\n",
        "#     doc.packages.append(Package('fancyhdr'))  # add qrcode to packages\n",
        "\n",
        "#     doc.append(NoEscape(r'\\newcolumntype{Y}{>{\\centering\\arraybackslash}X}'))\n",
        "\n",
        "#     # TODO vertically center docname text on page\n",
        "#     if title is True:\n",
        "#         doc.append(NoEscape(r'\\maketitle'))\n",
        "#         doc.append(VerticalSpace('48pt'))\n",
        "#         doc.append(NoEscape(r'\\begin{center}'))\n",
        "#         doc.append(HugeText(docname))\n",
        "#         doc.append(NoEscape(r'\\end{center}'))\n",
        "#         doc.append(NewPage())\n",
        "    \n",
        "#     doc.append(NoEscape(r'\\pagestyle{fancy}'))\n",
        "#     doc.append(NoEscape(r'\\fancyhf{}'))\n",
        "#     date = '{' + format_dict['tournament date'] + '}'\n",
        "#     name = '{' + format_dict['tournament name'] + '}'\n",
        "#     doc.append(NoEscape(fr'\\rhead{date}'))\n",
        "#     doc.append(NoEscape(fr'\\lhead{name}'))\n",
        "#     doc.append(NoEscape(r'\\rfoot{Created by Cornerstone.}'))\n",
        "        \n",
        "#     return doc\n",
        "\n",
        "\n",
        "# def close_latex(filename_input, doc_input):\n",
        "#     file_path = r'./output/'\n",
        "#     filename = file_path + filename_input\n",
        "#     doc_input.generate_tex()\n",
        "#     doc_input.generate_pdf()\n",
        "\n",
        "#     file = open(filename + '.tex')\n",
        "#     latex_string = file.read()\n",
        "#     bad_string = '\\\\usepackage{lastpage}%'\n",
        "#     good_string = '\\\\usepackage[table]{xcolor}%'\n",
        "#     # print(latex_string)\n",
        "#     latex_string = latex_string.replace(bad_string, good_string)\n",
        "\n",
        "#     # for visual debugging\n",
        "#     # print('\\n\\n', latex_string[0:700], '\\n\\n')\n",
        "\n",
        "#     with open(f'{filename}.tex', 'w') as f:\n",
        "#         f.write(latex_string)\n",
        "\n",
        "\n",
        "# # %% classes, mostly not in use\n",
        "# # TODO figure out class inheritance for team/prelim_team/playoff_team\n",
        "# class team:\n",
        "#     def __init__(self,\n",
        "#                  name,\n",
        "#                  code):\n",
        "#         self.name = name\n",
        "#         self.code = code\n",
        "\n",
        "\n",
        "# class prelim_team(team):\n",
        "#     def __init__(self,\n",
        "#                  name,\n",
        "#                  code,\n",
        "#                  prelim_group,\n",
        "#                  prelim_seed):\n",
        "#         super().__init__(name, code)\n",
        "#         self.prelim_group = prelim_group\n",
        "#         self.prelim_seed = prelim_seed\n",
        "\n",
        "\n",
        "# class playoff_team():\n",
        "#     def __init__(self,\n",
        "#                  name,\n",
        "#                  code,\n",
        "#                  prelim_group,\n",
        "#                  playoff_bracket,\n",
        "#                  playoff_seed):  # playoff seed also the prelim finish\n",
        "#         self.name = name\n",
        "#         self.code = code\n",
        "#         self.prelim_group = prelim_group\n",
        "#         self.playoff_bracket = playoff_bracket\n",
        "#         self.playoff_seed = playoff_seed\n",
        "\n",
        "# # %% more function definitions\n",
        "\n",
        "\n",
        "# def header_stringify(teamcount, tabularx=False):\n",
        "#     \"\"\"\n",
        "\n",
        "#     Parameters\n",
        "#     ----------\n",
        "#     teamcount : int\n",
        "#         Number of teams in the round robin.\n",
        "#     tabularx : bool, optional\n",
        "#         Changes header string to account for newcolumntype Y, used in tabularx.\n",
        "#         The default is False.\n",
        "\n",
        "#     Returns\n",
        "#     -------\n",
        "#     A string for pylatex to use when defining the table.\n",
        "#     Example: '|l|cc|cc|cc|cc|'\n",
        "\n",
        "#     If tabularx is set to True, returns a string that utilizes newcolumntype Y.\n",
        "#     Example: '|l|Y|Y|Y|Y|Y|Y|'\n",
        "\n",
        "#     \"\"\"\n",
        "\n",
        "#     roomcount = teamcount // 2\n",
        "\n",
        "#     header_string = '|l' + ('|cc' * roomcount + '|')\n",
        "#     if teamcount % 2 == 1:\n",
        "#         header_string = header_string + 'c|'\n",
        "\n",
        "#     if tabularx is True:\n",
        "#         header_string = '|l' + ('|Y' * teamcount + '|')\n",
        "\n",
        "#     return header_string\n",
        "\n",
        "\n",
        "# # %% prints runtime\n",
        "# print('end time: %s' % time.ctime())\n",
        "# print(\"--- %s seconds ---\" % '%.3f' % (time.time() - start_time))\n",
        "# print(\"--- %s minutes ---\" % '%.3f' % (time.time()/60 - start_time/60))"
      ],
      "metadata": {
        "id": "83PLhfS0ArVn"
      },
      "execution_count": 14,
      "outputs": []
    },
    {
      "cell_type": "markdown",
      "source": [
        "# Standard Scheduler Function\n",
        "\n",
        "Created on Mon Nov 22 2021\n",
        "\n",
        "Definition of functions used for creating a table for a round robin schedule,\n",
        "between 4 and 14 teams.\n",
        "\n",
        "TODO if possible, fix pylatex table lines and shading in this function"
      ],
      "metadata": {
        "id": "GEJoeZNfdPrN"
      }
    },
    {
      "cell_type": "markdown",
      "source": [
        "First: retrieve the round robin templates stored on the cornerstone github page. The templates will automatically populate a dictionary.\n",
        "\n",
        "Each key is the name of the sheet corresponding to the round robin template: rr_6 is a basic 6 team round robin, rr_12 is for 12 teams, rr_crossover_A8 is the 8 team playoff roundrobin including crossovers (there are two possible crossovers, A and B, based on [Dwight Wynne's spreadsheet of schedule formats](https://https://docs.google.com/spreadsheets/d/1BPF6jFvhkh5qe7eesGFGU9KH6FVps2tS3YeseFocpIE/edit#gid=16)).\n",
        "\n",
        "The dictionary values are the pandas dataframes for each template.\n",
        "\n",
        "These templates will be used in the standard scheduler function and retrieved based on the key name."
      ],
      "metadata": {
        "id": "Q__BsPTWAtPh"
      }
    },
    {
      "cell_type": "code",
      "source": [
        "url = \"https://github.com/victorprieto2265/cornerstone/blob/main/templates/rr_schedules/rr_templates.xlsx?raw=true\"\n",
        "rr_template_dict = pd.read_excel(url,\n",
        "                                 sheet_name = None)\n",
        "rr_template_dict.keys()"
      ],
      "metadata": {
        "id": "7FtnKegkiJUy",
        "collapsed": true,
        "colab": {
          "base_uri": "https://localhost:8080/"
        },
        "outputId": "11026b55-3651-4908-d280-db4a25d0799c"
      },
      "execution_count": 15,
      "outputs": [
        {
          "output_type": "execute_result",
          "data": {
            "text/plain": [
              "dict_keys(['rr_3', 'rr_4', 'rr_4_2x', 'rr_4_3x', 'rr_5', 'rr_5_2x', 'rr_6', 'rr_6_2x', 'rr_7', 'rr_7_2x', 'rr_8', 'rr_8_2x', 'rr_9', 'rr_10', 'rr_11', 'rr_12', 'rr_13', 'rr_14', 'rr_crossover_B3', 'rr_crossover_A6', 'rr_crossover_B6', 'rr_crossover_B7', 'rr_crossover_A8', 'rr_crossover_B8'])"
            ]
          },
          "metadata": {},
          "execution_count": 15
        }
      ]
    },
    {
      "cell_type": "markdown",
      "source": [
        "Definition of the standard scheduler function is below."
      ],
      "metadata": {
        "id": "rLOCcNtEFpce"
      }
    },
    {
      "cell_type": "code",
      "source": [
        "def standard_schedule(group_name, teamcode_dict, room_dict, roundstart=1,\n",
        "                      multiple_rr=1, crossover=False, superplayoff=False):\n",
        "    \"\"\"\n",
        "\n",
        "\n",
        "    Parameters\n",
        "    ----------\n",
        "    groupname : string\n",
        "        String of the prelim group or playoff bracket name.\n",
        "        Example: Lilongwe\n",
        "    teamcode_dict : dict\n",
        "        k : v = a group/bracket code : teamcode corresponding to that code\n",
        "        example: Lilongwe4 = MBA\n",
        "    room_dict : dict\n",
        "        k : v = a group/bracket code : room corresponding to that code\n",
        "        example: Lilongwe2 = Suite 1132\n",
        "    roundstart : int, optional\n",
        "        Number for the first round in the schedule. The default is 1.\n",
        "\n",
        "    Returns\n",
        "    -------\n",
        "    schedule_grid : list\n",
        "        Latex-friendly table. First row = table header, remaining rows =\n",
        "        schedule for each round.\n",
        "\n",
        "    \"\"\"\n",
        "\n",
        "    # produce teamlist\n",
        "    teamlist = [k for k, v in list(teamcode_dict.items())\n",
        "                if k.startswith(group_name)]\n",
        "    sorted_list = sorted(teamlist)\n",
        "    teamlist = [teamcode_dict[i] for i in sorted_list]\n",
        "\n",
        "    # identify number of teams in teamlist and appropriate number of rooms\n",
        "    teamcount = len(teamlist)\n",
        "    roomcount = teamcount // 2\n",
        "\n",
        "    if len(teamlist) <= 2:\n",
        "      print('Unable to produce round robins smaller than 3.')\n",
        "      sys.exit()\n",
        "\n",
        "    if len(teamlist) >= 15:\n",
        "      print('Unable to produce round robins larger than 14.')\n",
        "      sys.exit()\n",
        "\n",
        "    # retrieve correct rr_template from rr_template_dict\n",
        "    if multiple_rr >= 2:\n",
        "      key = f'rr_{teamcount}_{multiple_rr}x'\n",
        "    elif crossover is False:\n",
        "      key = f'rr_{teamcount}'\n",
        "    else:\n",
        "      key = f'rr_crossover_{crossover}{teamcount}'\n",
        "\n",
        "    try:\n",
        "      rr_schedule = rr_template_dict[key].values.tolist()\n",
        "    except KeyError:\n",
        "      print('Warning! Round robin template not found. Please check your '\n",
        "            + 'input and try again.')\n",
        "      sys.exit()\n",
        "    \n",
        "\n",
        "    # produce roomlist\n",
        "    roomlist = [k for k, v in list(room_dict.items())\n",
        "                if k.startswith(group_name)]\n",
        "    roomlist = [room_dict[i] for i in sorted(roomlist)]\n",
        "\n",
        "    # populate header with room names\n",
        "    rooms = []\n",
        "    header = ['']\n",
        "    for index in range(roomcount):\n",
        "        room = roomlist[index]\n",
        "        header.append(room)\n",
        "\n",
        "    # the last element in the header should be BYE if teamcount is odd\n",
        "    if teamcount % 2 == 1:\n",
        "        header.append('BYE')\n",
        "\n",
        "    # use rr_schedule template and roundstart to produce rest of schedule grid\n",
        "    schedule_grid = [header]\n",
        "    for round_num, row in enumerate(rr_schedule):\n",
        "        round_num += roundstart\n",
        "        new_row = [f'Round {round_num}']\n",
        "        for index in row:\n",
        "            code = group_name + str(index)\n",
        "            team = teamcode_dict[code]\n",
        "            new_row.append(team)\n",
        "        schedule_grid.append(new_row)\n",
        "\n",
        "    return schedule_grid"
      ],
      "metadata": {
        "id": "wlG8swh1trsX"
      },
      "execution_count": 16,
      "outputs": []
    },
    {
      "cell_type": "markdown",
      "source": [
        "# Individual Schedule Functions "
      ],
      "metadata": {
        "id": "5n9ob-8odPkM"
      }
    },
    {
      "cell_type": "markdown",
      "source": [
        "This section contains the functions that extract individual team and room schedules from a schedule grid.\n",
        "\n",
        "Use get_team_list() and get_room_list() to generate a list of teams and a list of rooms from a schedule grid."
      ],
      "metadata": {
        "id": "wS0ljqoELnJq"
      }
    },
    {
      "cell_type": "code",
      "source": [
        "def get_team_list(schedule_grid):\n",
        "    team_list = sorted(schedule_grid[1][1:])\n",
        "    return team_list\n",
        "\n",
        "\n",
        "def get_room_list(schedule_grid):\n",
        "    # remove first element in header, which should be an empty string\n",
        "    header = schedule_grid[0][1:]\n",
        "    \n",
        "    # retrieve room list\n",
        "    room_list = [i for i in header]\n",
        "    if 'BYE' in header:\n",
        "        room_list[-1] = 'BYE'\n",
        "    return room_list"
      ],
      "metadata": {
        "id": "WPJyVdz1Ltml"
      },
      "execution_count": 17,
      "outputs": []
    },
    {
      "cell_type": "markdown",
      "source": [
        "For a given team in a given round, what team do they play and where? Use find_opponent().\n"
      ],
      "metadata": {
        "id": "a7OD0aUxL8W9"
      }
    },
    {
      "cell_type": "code",
      "source": [
        "def find_opponent(team, row, room_list, code_dict):\n",
        "    index = row.index(team)\n",
        "    room = room_list[index]\n",
        "    if row[-1] == team and room_list[-1] == 'BYE':\n",
        "        opponent = 'BYE'\n",
        "    elif index % 2 == 0:\n",
        "        opponent_code = row[index+1]\n",
        "        opponent = code_dict[opponent_code]\n",
        "    else:\n",
        "        opponent_code = row[index-1]\n",
        "        opponent = code_dict[opponent_code]\n",
        "    return room, opponent"
      ],
      "metadata": {
        "id": "KJH6zps2NyoC"
      },
      "execution_count": 18,
      "outputs": []
    },
    {
      "cell_type": "markdown",
      "source": [
        "what teams are in a room at a given round?"
      ],
      "metadata": {
        "id": "7UtVnnn7N2ei"
      }
    },
    {
      "cell_type": "code",
      "source": [
        "def find_teams(row, room, roomlist, code_dict):\n",
        "    index = roomlist.index(room)\n",
        "    teams = row[2*index:2*index+2]\n",
        "    teams = [*map(code_dict.get, teams)]\n",
        "    return sorted(teams)  # alphabetically sorts teams"
      ],
      "metadata": {
        "id": "BqybAya0N24c"
      },
      "execution_count": 19,
      "outputs": []
    },
    {
      "cell_type": "markdown",
      "source": [
        "The clean_up_grid function is sometimes used to remove the header row (room list) and the round number column on the left."
      ],
      "metadata": {
        "id": "uU0U0j32OBUN"
      }
    },
    {
      "cell_type": "code",
      "source": [
        "def clean_up_grid(schedule_grid):\n",
        "    no_header = schedule_grid[1:]\n",
        "    basic_schedule_grid = []\n",
        "    for index, row in enumerate(no_header):\n",
        "        basic_schedule_grid.append(row[1:])\n",
        "\n",
        "    return basic_schedule_grid"
      ],
      "metadata": {
        "id": "kBKx4V4WN98S"
      },
      "execution_count": 20,
      "outputs": []
    },
    {
      "cell_type": "markdown",
      "source": [
        "The specific_team_scheduler function is the key for generating a schedule grid for a single team."
      ],
      "metadata": {
        "id": "cNyCExgmOLlu"
      }
    },
    {
      "cell_type": "code",
      "source": [
        "def specific_team_scheduler(team, schedule_grid, room_list, code_dict,\n",
        "                            round_start=1):\n",
        "    \n",
        "    # generate room_list with duplicated values\n",
        "    # need this for finding an opponent at a particular index\n",
        "    dup_room_list = [room for room in room_list for _ in (0, 1)]\n",
        "\n",
        "    # how many rounds in the grid?\n",
        "    rounds = len(schedule_grid)\n",
        "\n",
        "    specific_grid = [['', 'Room Name', 'Opponent']]\n",
        "    for i in range(0, rounds):\n",
        "        room, opponent = find_opponent(team,\n",
        "                                       schedule_grid[i],\n",
        "                                       dup_room_list,\n",
        "                                       code_dict)\n",
        "\n",
        "        specific_grid.append([f'Round {round_start+i}', room, opponent])\n",
        "\n",
        "    return specific_grid"
      ],
      "metadata": {
        "id": "Ap0lkVL1OOKM"
      },
      "execution_count": 21,
      "outputs": []
    },
    {
      "cell_type": "markdown",
      "source": [
        "Like specific_team_scheduler(), specific_room_scheduler is the key for generating the schedule for an individual room."
      ],
      "metadata": {
        "id": "kD6q752_O-jC"
      }
    },
    {
      "cell_type": "code",
      "source": [
        "def specific_room_scheduler(room, schedule_grid, room_list,\n",
        "                            code_dict, round_start=1):\n",
        "\n",
        "    specific_grid = [['', 'Team 1', 'Team 2']]\n",
        "    for index, row in enumerate(basic_schedule_grid):\n",
        "        teams = find_teams(row, room, room_list, code_dict)\n",
        "        if room == 'BYE':\n",
        "            return 'BYE'\n",
        "        specific_grid.append([f'Round {round_start+index}',\n",
        "                              teams[0], teams[1]])\n",
        "\n",
        "    return specific_grid"
      ],
      "metadata": {
        "id": "xfuyEiYnPG1p"
      },
      "execution_count": 22,
      "outputs": []
    },
    {
      "cell_type": "markdown",
      "source": [
        "# Prelim Scheduler\n",
        "\n",
        "This section reads the list of prelim teams and information from the tournament format dictionary to produce a set of prelim schedules."
      ],
      "metadata": {
        "id": "K4OmpZngcsFP"
      }
    },
    {
      "cell_type": "markdown",
      "source": [
        "A series of lists and dictionaries are created here, which will be useful at various points throughout the program:\n",
        "* prelim_group_names: a list of prelim group names\n",
        "* prelim_team_dict: a dictionary where every prelim group and seed is matched up with a group name + seed\n",
        "* prelim_teamcode_dict: identical, but a teamcode instead of a full team name\n",
        "* team_group_dict: same as prelim_team_dict, but the key/value pairs are swapped\n",
        "* teamcode_group_dict: again, identical but with a teamcode instead of full team name\n",
        "* prelim_room_dict: matches a prelim group and room assignment (e.g. group 2, room 3) with an actual room name"
      ],
      "metadata": {
        "id": "Is1C6X6cAbNi"
      }
    },
    {
      "cell_type": "code",
      "source": [
        "prelim_group_names = [sublist[1] for sublist in list_of_teams]\n",
        "prelim_group_names = remove_duplicates(prelim_group_names)\n",
        "\n",
        "# key is a prelim group name and a seed (i.e. Belmopan6)\n",
        "# value is the corresponding team (i.e. Great Valley A for Belmopan6)\n",
        "# also created a dictionary where values are team codes (i.e. GVA)\n",
        "prelim_team_dict = {}\n",
        "prelim_teamcode_dict = {}\n",
        "team_group_dict = {}\n",
        "teamcode_group_dict = {}\n",
        "for i in list_of_teams:\n",
        "    # key = i[2] + str(i[3])\n",
        "    key = i[1] + str(i[2])\n",
        "    value = i[0]  # team name\n",
        "    prelim_team_dict[key] = value\n",
        "    # also created dictionary where k/v pairs are swapped\n",
        "    team_group_dict[value] = key\n",
        "    # value = i[1]  # team code\n",
        "    value = team_code_dict[value]\n",
        "    prelim_teamcode_dict[key] = value\n",
        "    # also created dictionary where k/v pairs are swapped\n",
        "    teamcode_group_dict[value] = key\n",
        "\n",
        "# key is prelim group and a number (i.e. Accra1)\n",
        "# value is corresponding room (i.e. Grand Ballroom A is Accra1)\n",
        "# also created dictionary where key is a playoff bracket instead\n",
        "prelim_room_dict = {}\n",
        "for i in room_assignments:\n",
        "    key = i[1] + str(i[2])\n",
        "    value = i[0]\n",
        "    prelim_room_dict[key] = value"
      ],
      "metadata": {
        "id": "yqDIBPxpAXbJ"
      },
      "execution_count": 23,
      "outputs": []
    },
    {
      "cell_type": "markdown",
      "source": [
        "Using standard_schedule, a schedule grid is created for each group in order, and assembled into **full_schedule_grid**."
      ],
      "metadata": {
        "id": "rAozDnfXAiC6"
      }
    },
    {
      "cell_type": "code",
      "source": [
        "full_schedule_grid = []\n",
        "multiple_rr = format_dict['repeat round robin']\n",
        "\n",
        "# perform this process for each prelim group, add to full_schedule_grid\n",
        "for group_name in prelim_group_names:\n",
        "    schedule_grid = (standard_schedule(group_name,\n",
        "                                       prelim_teamcode_dict,\n",
        "                                       prelim_room_dict,\n",
        "                                       multiple_rr=multiple_rr))\n",
        "    full_schedule_grid.append(schedule_grid)"
      ],
      "metadata": {
        "id": "9Q-DolBuAaJZ"
      },
      "execution_count": 24,
      "outputs": []
    },
    {
      "cell_type": "markdown",
      "source": [
        "To make sure the full_schedule_grid was populated correctly, we'll print it out line by line."
      ],
      "metadata": {
        "id": "2yJI1x6PBUjr"
      }
    },
    {
      "cell_type": "code",
      "source": [
        "# for visual debugging\n",
        "for index, prelim_group in enumerate(prelim_group_names):\n",
        "    print(f'\\nPrelim Group: {prelim_group}')\n",
        "    print(*full_schedule_grid[index], sep='\\n')"
      ],
      "metadata": {
        "id": "Ozt12wMnBT2A",
        "collapsed": true,
        "colab": {
          "base_uri": "https://localhost:8080/"
        },
        "outputId": "e0a33b7c-940b-4f62-a115-2e40634ad388"
      },
      "execution_count": 25,
      "outputs": [
        {
          "output_type": "stream",
          "name": "stdout",
          "text": [
            "\n",
            "Prelim Group: none\n",
            "['', 'Room 1', 'Room 2', 'Room 3', 'Room 4']\n",
            "['Round 1', 'NYUB', 'T7', 'PRIN', 'COLA', 'NYUA', 'T8', 'YALE', 'JOHN']\n",
            "['Round 2', 'NYUA', 'JOHN', 'YALE', 'COLA', 'PRIN', 'T7', 'NYUB', 'T8']\n",
            "['Round 3', 'PRIN', 'T8', 'NYUA', 'T7', 'JOHN', 'COLA', 'YALE', 'NYUB']\n",
            "['Round 4', 'COLA', 'T7', 'YALE', 'T8', 'JOHN', 'NYUB', 'NYUA', 'PRIN']\n",
            "['Round 5', 'PRIN', 'NYUB', 'JOHN', 'T8', 'YALE', 'T7', 'NYUA', 'COLA']\n",
            "['Round 6', 'COLA', 'T8', 'NYUA', 'NYUB', 'YALE', 'PRIN', 'JOHN', 'T7']\n",
            "['Round 7', 'YALE', 'NYUA', 'PRIN', 'JOHN', 'NYUB', 'COLA', 'T7', 'T8']\n",
            "['Round 8', 'T8', 'YALE', 'NYUB', 'T7', 'PRIN', 'COLA', 'NYUA', 'JOHN']\n",
            "['Round 9', 'T7', 'NYUB', 'NYUA', 'JOHN', 'YALE', 'COLA', 'PRIN', 'T8']\n",
            "['Round 10', 'COLA', 'YALE', 'PRIN', 'T8', 'NYUA', 'T7', 'JOHN', 'NYUB']\n",
            "['Round 11', 'NYUB', 'NYUA', 'COLA', 'T7', 'YALE', 'T8', 'JOHN', 'PRIN']\n",
            "['Round 12', 'T7', 'NYUA', 'PRIN', 'NYUB', 'JOHN', 'T8', 'YALE', 'COLA']\n",
            "['Round 13', 'PRIN', 'JOHN', 'COLA', 'T8', 'NYUA', 'NYUB', 'YALE', 'T7']\n",
            "['Round 14', 'COLA', 'T7', 'YALE', 'NYUA', 'PRIN', 'JOHN', 'NYUB', 'T8']\n"
          ]
        }
      ]
    },
    {
      "cell_type": "markdown",
      "source": [
        "# Class Definitions for fpdf2"
      ],
      "metadata": {
        "id": "A5Qp8Ae2cA7Z"
      }
    },
    {
      "cell_type": "markdown",
      "source": [
        "There are five types of tables that Cornerstone will need to generate:\n",
        "*  the full schedule\n",
        "*  the individualized team schedule\n",
        "*  the individualized room schedule\n",
        "*  the team index (includes toggle for prelims/playoffs/superplayoffs)\n",
        "*  the playoff quickstart schedule (first playoff room for all teams)\n",
        "\n",
        "The last one will not be needed for the prelim writer, but will be necessary for playoffs (and superplayoffs if needed).\n",
        "\n",
        "For all of these tables, we will create a unique class via fpdf2 for writing the table onto a PDF. These five classes are at the bottom of this section. First, we will define a few templates used across the printed documents:\n",
        "\n",
        "*  the title page\n",
        "*  the header\n",
        "*  the footer\n"
      ],
      "metadata": {
        "id": "6_mFRVFAcFY9"
      }
    },
    {
      "cell_type": "markdown",
      "source": [
        "First is the title page to start each document. A nice touch, albeit not 100% necessary and may add a toggle for this later.\n",
        "\n",
        "Important: this is the first instance of the PDF class. Therefore, the argument is FPDF, while all other later class instances have PDF instead to build on the existing class."
      ],
      "metadata": {
        "id": "580yHo0SklgX"
      }
    },
    {
      "cell_type": "code",
      "source": [
        "class PDF(FPDF):\n",
        "\n",
        "    def title_page(self, tournament_name, tournament_location, tournament_date,\n",
        "                   document_title):\n",
        "                \n",
        "        # Setting font: bold times 11, black\n",
        "        self.set_text_color(0)\n",
        "\n",
        "        # move cursor 6.2 cm down the page\n",
        "        self.set_y(62)\n",
        "\n",
        "        # write the tournament name, location, and date\n",
        "        self.set_font(\"times\", size=16)\n",
        "        self.cell(0, None, tournament_name, align=\"C\",\n",
        "                  new_x=\"LEFT\", new_y=\"NEXT\")\n",
        "        self.ln(10)  # line break\n",
        "\n",
        "        self.set_font(\"times\", size=12)\n",
        "        self.cell(0, None, tournament_location, align=\"C\")\n",
        "        self.ln(10)  # line break\n",
        "        self.cell(0, None, tournament_date, align=\"C\")\n",
        "        self.ln(45)  # line break\n",
        "\n",
        "        self.set_font(\"times\", size=24)\n",
        "        self.cell(0, None, document_title, align=\"C\")"
      ],
      "metadata": {
        "id": "N2BgXfyLkzy7"
      },
      "execution_count": 26,
      "outputs": []
    },
    {
      "cell_type": "code",
      "source": [
        "class PDF(PDF):\n",
        "\n",
        "    def page_header(self, tournament_name, tournament_date):\n",
        "                \n",
        "        # Setting font: bold times 11\n",
        "        font_size = 11\n",
        "        self.set_font(\"times\", style=\"I\", size=font_size)\n",
        "\n",
        "        # Print tournament name in upper left:\n",
        "        self.cell(None, 2, tournament_name, new_x=\"LEFT\")\n",
        "\n",
        "        # Create empty cell with bottom border (can modify for centered text)\n",
        "        self.cell(0, None, \" \", \"B\", align=\"C\")\n",
        "\n",
        "        # Print tournament date in upper right\n",
        "        self.cell(0, 2, tournament_date, align=\"R\")\n",
        "\n",
        "        # Performing a line break:\n",
        "        self.ln(20)\n",
        "\n",
        "    def page_footer(self):\n",
        "        \n",
        "        # # putting in a logo:\n",
        "        # self.image(\"../docs/fpdf2-logo.png\", 10, 8, 33)\n",
        "        \n",
        "        # Position cursor at left and 26.04 cm from bottom:\n",
        "        # self.set_y(0, 260.4)\n",
        "        self.set_y(-27)\n",
        "\n",
        "        # Setting font: times italic 11\n",
        "        font_size = 11\n",
        "        self.set_text_color(0)\n",
        "        self.set_font(\"times\", style=\"I\", size=font_size)\n",
        "        \n",
        "        # Print footer text:\n",
        "        self.cell(0, 6, \"Created by Cornerstone\", border=\"B\", align=\"R\")\n"
      ],
      "metadata": {
        "id": "m_slBLE2dOK0"
      },
      "execution_count": 42,
      "outputs": []
    },
    {
      "cell_type": "markdown",
      "source": [
        "## Prelims - Complete Schedule"
      ],
      "metadata": {
        "id": "T3jjXFPX1gTK"
      }
    },
    {
      "cell_type": "markdown",
      "source": [
        "This class generates the tables used for the full schedule."
      ],
      "metadata": {
        "id": "uX138nHO9JVN"
      }
    },
    {
      "cell_type": "code",
      "source": [
        "class PDF(PDF):\n",
        "\n",
        "    def full_schedule(self, header, rows,\n",
        "                      header_color=(135, 135, 135), row_color=(210, 210, 210)):\n",
        "\n",
        "      header_count = len(header)\n",
        "      if header[-1] == 'BYE':\n",
        "        cell_count = header_count * 2 - 2\n",
        "      else:\n",
        "        cell_count = header_count * 2 - 1\n",
        "      col_width = pdf.epw / cell_count  # distribute columns evenly\n",
        "      print('col_width:')\n",
        "      print(col_width)\n",
        "\n",
        "      header_widths = [col_width * 2] * (header_count - 1)  # populate list with col widths\n",
        "      header_widths.insert(0, col_width)\n",
        "      if header[-1] == 'BYE':\n",
        "        header_widths[-1] = col_width\n",
        "      print(*header_widths, sep='\\n')\n",
        "\n",
        "      cell_widths = [col_width] * cell_count\n",
        "\n",
        "      self.set_fill_color(*header_color)  # * required to unpack tuple\n",
        "      self.set_text_color(255)\n",
        "      self.set_draw_color(36, 36, 36)\n",
        "      self.set_line_width(0.3)\n",
        "      self.set_font(style=\"B\")\n",
        "      for col_width, heading in zip(header_widths, header):\n",
        "          self.cell(col_width, 7, heading, border=1, align=\"C\", fill=True)\n",
        "      self.ln()\n",
        "\n",
        "      # Color and font restoration:\n",
        "      self.set_fill_color(*row_color)  # * required to unpack tuple\n",
        "      self.set_text_color(0)\n",
        "      self.set_font()\n",
        "      fill = False\n",
        "      for row in rows:\n",
        "        for index, item in enumerate(row):          \n",
        "          if index == 0:\n",
        "            self.set_font(style=\"B\")\n",
        "          else:\n",
        "            self.set_font()\n",
        "          self.cell(cell_widths[index],\n",
        "                    7,\n",
        "                    item,\n",
        "                    border=\"LR\",\n",
        "                    align=\"C\",\n",
        "                    fill=fill)\n",
        "        self.ln()\n",
        "        fill = not fill\n",
        "\n",
        "      self.set_fill_color(*header_color)  # * required to unpack tuple\n",
        "      self.set_text_color(255)\n",
        "      self.set_draw_color(36, 36, 36)\n",
        "      self.set_line_width(0.3)\n",
        "      self.set_font(style=\"B\")\n",
        "      for col_width, heading in zip(header_widths, header):\n",
        "          self.cell(col_width, 7, heading, border=1, align=\"C\", fill=True)\n",
        "\n",
        "      self.ln(14)"
      ],
      "metadata": {
        "id": "2sXgrSqj4QQz"
      },
      "execution_count": 53,
      "outputs": []
    },
    {
      "cell_type": "markdown",
      "source": [
        "## Prelims - Individual Schedule"
      ],
      "metadata": {
        "id": "Lsvgg3XgLlT9"
      }
    },
    {
      "cell_type": "markdown",
      "source": [
        "This class is used to generate the tables for individual team and room schedules, which are nearly identical except the room schedules will have a confirmation box for team scores and signatures."
      ],
      "metadata": {
        "id": "wvG1_G3o8wDb"
      }
    },
    {
      "cell_type": "code",
      "source": [
        "class PDF(PDF):\n",
        "\n",
        "    def individual_schedule(self, header, rows, signature=False,\n",
        "                      header_color=(135, 135, 135), row_color=(210, 210, 210)):\n",
        "\n",
        "      # start table at 15.45, draw cells 33 + 66 + 66 for each column\n",
        "      # right margin will also be 15.45\n",
        "\n",
        "      self.set_x(25.45)\n",
        "      cell_widths = [33, 66, 66]\n",
        "\n",
        "      self.set_fill_color(*header_color)  # * required to unpack tuple\n",
        "      self.set_text_color(255)\n",
        "      self.set_draw_color(36, 36, 36)\n",
        "      self.set_line_width(0.3)\n",
        "      self.set_font(style=\"B\")\n",
        "      for cell_width, heading in zip(cell_widths, header):\n",
        "          self.cell(cell_width, 8, heading, border=1, align=\"C\", fill=True)\n",
        "      self.ln()\n",
        "      self.set_x(25.45)\n",
        "\n",
        "      # Color and font restoration:\n",
        "      self.set_fill_color(*row_color)  # * required to unpack tuple\n",
        "      self.set_text_color(0)\n",
        "      self.set_font()\n",
        "      fill = False\n",
        "      for row in rows:\n",
        "        for index, item in enumerate(row):          \n",
        "          if index == 0:\n",
        "            self.set_font(style=\"B\")\n",
        "          else:\n",
        "            self.set_font()\n",
        "          self.cell(cell_widths[index],\n",
        "                    8,\n",
        "                    item,\n",
        "                    border=\"LR\",\n",
        "                    align=\"C\",\n",
        "                    fill=fill)\n",
        "        fill = not fill  # I am pretty sure this is what alternates row colors!\n",
        "\n",
        "        self.ln()\n",
        "        self.set_x(25.45)\n",
        "\n",
        "        # RFE add row for team score + signature confirmation\n",
        "        if signature == True:\n",
        "          pass\n",
        "\n",
        "      self.set_fill_color(*header_color)  # * required to unpack tuple\n",
        "      self.set_text_color(255)\n",
        "      self.set_draw_color(36, 36, 36)\n",
        "      self.set_line_width(0.3)\n",
        "      self.set_font(style=\"B\")\n",
        "      for cell_width, heading in zip(cell_widths, header):\n",
        "          self.cell(cell_width, 8, heading, border=1, align=\"C\", fill=True)\n",
        "\n",
        "      self.ln(14)"
      ],
      "metadata": {
        "id": "HEELLKhcL8_O"
      },
      "execution_count": 29,
      "outputs": []
    },
    {
      "cell_type": "markdown",
      "source": [
        "# Prelim PDF Writer"
      ],
      "metadata": {
        "id": "-G75IfqqdJTn"
      }
    },
    {
      "cell_type": "markdown",
      "source": [
        "First to generate: full prelim schedule for all teams, all rooms."
      ],
      "metadata": {
        "id": "dpuJ3YH8Px9l"
      }
    },
    {
      "cell_type": "code",
      "source": [
        "pdf = PDF(format=\"letter\")  # default is A4, need to specify US letter\n",
        "\n",
        "# title page\n",
        "pdf.add_page()\n",
        "\n",
        "pdf.title_page(format_dict['tournament name'],\n",
        "               format_dict['tournament location'],\n",
        "               format_dict['tournament date'],\n",
        "               \"Prelims - Complete Schedule\")\n",
        "\n",
        "# full schedule page\n",
        "pdf.add_page()\n",
        "\n",
        "pdf.page_header(format_dict['tournament name'],\n",
        "                format_dict['tournament date'])\n",
        "\n",
        "for index, grid in enumerate(full_schedule_grid):\n",
        "  header = grid[0]\n",
        "  schedule = grid[1:]\n",
        "  pdf.full_schedule(header, schedule)\n",
        "\n",
        "pdf.page_footer()\n",
        "\n",
        "pdf.output(\"full_prelim_schedule.pdf\")\n",
        "pdf_bytes = pdf.output()\n",
        "full_prelim_schedule = b64encode(pdf_bytes).decode(\"utf-8\")"
      ],
      "metadata": {
        "id": "wqJPg3lP4pq8",
        "colab": {
          "base_uri": "https://localhost:8080/"
        },
        "outputId": "496c720e-32a1-4180-cef0-759752851651"
      },
      "execution_count": 54,
      "outputs": [
        {
          "output_type": "stream",
          "name": "stdout",
          "text": [
            "col_width:\n",
            "21.766666666666666\n",
            "21.766666666666666\n",
            "43.53333333333333\n",
            "43.53333333333333\n",
            "43.53333333333333\n",
            "43.53333333333333\n"
          ]
        }
      ]
    },
    {
      "cell_type": "markdown",
      "source": [
        "Next, we'll generate the individualized team schedules."
      ],
      "metadata": {
        "id": "Xpwa3vsEQC4E"
      }
    },
    {
      "cell_type": "code",
      "source": [
        "pdf = PDF(format=\"letter\")  # default is A4, need to specify US letter\n",
        "\n",
        "# title page\n",
        "pdf.add_page()\n",
        "\n",
        "pdf.title_page(format_dict['tournament name'],\n",
        "               format_dict['tournament location'],\n",
        "               format_dict['tournament date'],\n",
        "               \"Prelims - Individual Team Schedules\")\n",
        "\n",
        "# sort list of teams alphabetically, so documents easier to distribute\n",
        "list_of_teams = sorted(list_of_teams, key=lambda x: (x[0]))\n",
        "\n",
        "for team in list_of_teams:\n",
        "\n",
        "  # iterate through schedule grids. Is the team in that grid?\n",
        "  for index, schedule_grid in enumerate(full_schedule_grid):\n",
        "\n",
        "    team_name = team[0]  # full team name \n",
        "    team_code = team_code_dict[team_name]  # 3-letter team code\n",
        "    team_list = get_team_list(schedule_grid)  # list of teams in grid\n",
        "\n",
        "    if team_code in team_list:\n",
        "      group = team[1]  # prelim group name\n",
        "      room_list = get_room_list(schedule_grid)\n",
        "      basic_schedule_grid = clean_up_grid(schedule_grid)\n",
        "      \n",
        "      # create page and add header\n",
        "      pdf.add_page()\n",
        "      pdf.page_header(format_dict['tournament name'],\n",
        "                      format_dict['tournament date'])\n",
        "      \n",
        "      # add team name, a line break, and prelim group name\n",
        "      pdf.set_font(\"times\", size=24)\n",
        "      pdf.cell(w=0, h=None, txt=f'Prelim Schedule - {team_name}',\n",
        "                align=\"C\", new_x=\"LEFT\", new_y=\"NEXT\")\n",
        "      \n",
        "      # skip the prelim group name if only one prelim group\n",
        "      if single_prelim_group == True:   \n",
        "        pdf.ln(5)\n",
        "        pdf.set_font(\"times\", size=17)\n",
        "        pdf.cell(w=0, h=None, txt=f'Group - {group}',\n",
        "                  align=\"C\", new_x=\"LEFT\", new_y=\"NEXT\")\n",
        "        pdf.ln(10)\n",
        "      else:\n",
        "        pdf.ln(15)\n",
        "\n",
        "      grid = specific_team_scheduler(team_code,\n",
        "                                     basic_schedule_grid,\n",
        "                                     room_list,\n",
        "                                     code_team_dict)\n",
        "\n",
        "      header = grid[0]\n",
        "      schedule = grid[1:]\n",
        "      pdf.individual_schedule(header, schedule)\n",
        "\n",
        "      if text_toggle is True:\n",
        "\n",
        "        # todo: figure out latin-1 encoding issue\n",
        "        text = texts[0]\n",
        "        text = text.encode('latin-1', 'ignore').decode('latin-1')\n",
        "\n",
        "        pdf.set_x(25.45)\n",
        "        font_size = 14\n",
        "        pdf.set_font(\"times\", size=font_size)\n",
        "        pdf.set_text_color(0)\n",
        "        pdf.multi_cell(165, 6, text, new_x=\"LMARGIN\")\n",
        "\n",
        "      if qr_toggle is True:\n",
        "          qr_codes_1 = qr_codes[0:3]\n",
        "          qr_captions_1 = qr_captions[0:3]\n",
        "\n",
        "          qr_positions = [35, 93, 151]\n",
        "          for index, qr_code in enumerate(qr_codes_1):\n",
        "            img = qrcode.make(qr_code)\n",
        "            x_pos = qr_positions[index]\n",
        "            pdf.image(img.get_image(), x=x_pos, y=210, w=30, h=30)\n",
        "\n",
        "          for index, qr_caption in enumerate(qr_captions_1):\n",
        "            x_pos = qr_positions[index] - 5\n",
        "            pdf.set_xy(x_pos, 241)\n",
        "            pdf.cell(w=40, h=None, txt=qr_caption,\n",
        "                     align=\"C\")\n",
        "\n",
        "      pdf.page_footer()\n",
        "\n",
        "      break  # saves time by ending search for team name in other schedule grids\n",
        "\n",
        "pdf.output(\"prelim_individual_team_schedules.pdf\")\n",
        "pdf_bytes = pdf.output()\n",
        "prelim_individual_team_schedules = b64encode(pdf_bytes).decode(\"utf-8\")"
      ],
      "metadata": {
        "id": "k_zGqv3NQDPU"
      },
      "execution_count": 55,
      "outputs": []
    },
    {
      "cell_type": "markdown",
      "source": [
        "We'll do the same individual schedules, but for rooms instead of teams."
      ],
      "metadata": {
        "id": "aFFPYMqzMhCC"
      }
    },
    {
      "cell_type": "code",
      "source": [
        "pdf = PDF(format=\"letter\")  # default is A4, need to specify US letter\n",
        "\n",
        "# title page\n",
        "pdf.add_page()\n",
        "\n",
        "pdf.title_page(format_dict['tournament name'],\n",
        "               format_dict['tournament location'],\n",
        "               format_dict['tournament date'],\n",
        "               \"Prelims - Individual Room Schedules\")\n",
        "\n",
        "for index, schedule_grid in enumerate(full_schedule_grid):\n",
        "\n",
        "  group = prelim_group_names[index]\n",
        "  room_list = get_room_list(schedule_grid)\n",
        "  basic_schedule_grid = clean_up_grid(schedule_grid)\n",
        "\n",
        "  # iterate for each room in room_list\n",
        "  for room in room_list:\n",
        "    if room == 'BYE':\n",
        "      continue\n",
        "  \n",
        "    # create page and add header\n",
        "    pdf.add_page()\n",
        "    pdf.page_header(format_dict['tournament name'],\n",
        "                    format_dict['tournament date'])\n",
        "\n",
        "    # add team name, a line break, and prelim group name\n",
        "    pdf.set_font(\"times\", size=24)\n",
        "    pdf.cell(w=0, h=None, txt=f'Prelim Schedule - {room}',\n",
        "              align=\"C\", new_x=\"LEFT\", new_y=\"NEXT\")\n",
        "\n",
        "    # skip the prelim group name if only one prelim group\n",
        "    if single_prelim_group == True:       \n",
        "      pdf.ln(5)\n",
        "      pdf.set_font(\"times\", size=17)\n",
        "      pdf.cell(w=0, h=None, txt=f'Group - {group}',\n",
        "                align=\"C\", new_x=\"LEFT\", new_y=\"NEXT\")\n",
        "      pdf.ln(15)\n",
        "    else:\n",
        "      pdf.ln(20)\n",
        "\n",
        "    grid = specific_room_scheduler(room,\n",
        "                                   basic_schedule_grid,\n",
        "                                   room_list,\n",
        "                                   code_team_dict)\n",
        "\n",
        "    header = grid[0]\n",
        "    schedule = grid[1:]\n",
        "    pdf.individual_schedule(header, schedule)\n",
        "\n",
        "    if text_toggle is True:\n",
        "\n",
        "        # todo: figure out latin-1 encoding issue\n",
        "        text = texts[1]\n",
        "        text = text.encode('latin-1', 'ignore').decode('latin-1')\n",
        "\n",
        "        pdf.set_x(25.45)\n",
        "        font_size = 14\n",
        "        pdf.set_font(\"times\", size=font_size)\n",
        "        pdf.set_text_color(0)\n",
        "        pdf.multi_cell(165, 6, text, new_x=\"LMARGIN\")\n",
        "\n",
        "    if qr_toggle is True:\n",
        "        qr_codes_2 = qr_codes[3:6]\n",
        "        qr_captions_2 = qr_captions[3:6]\n",
        "\n",
        "        qr_positions = [35, 93, 151]\n",
        "        for index, qr_code in enumerate(qr_codes_2):\n",
        "          img = qrcode.make(qr_code)\n",
        "          x_pos = qr_positions[index]\n",
        "          pdf.image(img.get_image(), x=x_pos, y=210, w=30, h=30)\n",
        "\n",
        "        for index, qr_caption in enumerate(qr_captions_2):\n",
        "          x_pos = qr_positions[index] - 5\n",
        "          pdf.set_xy(x_pos, 241)\n",
        "          pdf.cell(w=40, h=None, txt=qr_caption,\n",
        "                    align=\"C\")\n",
        "\n",
        "    pdf.page_footer()\n",
        "\n",
        "pdf.output(\"prelim_individual_room_schedules.pdf\")\n",
        "pdf_bytes = pdf.output()\n",
        "prelim_individual_room_schedules = b64encode(pdf_bytes).decode(\"utf-8\")"
      ],
      "metadata": {
        "id": "PyNdY14VMlLL"
      },
      "execution_count": 56,
      "outputs": []
    },
    {
      "cell_type": "markdown",
      "source": [
        "## Download Prelim PDFs"
      ],
      "metadata": {
        "id": "ejmFTFC8LQVB"
      }
    },
    {
      "cell_type": "code",
      "source": [
        "# Diplay a download button:\n",
        "display(HTML(f'<a style=\"font-size: 30px\" download=\"full_prelim_schedule.pdf\" href=\"data:application/pdf;base64,{full_prelim_schedule}\">Click to download PDF of full schedule.</a>'))"
      ],
      "metadata": {
        "id": "EfFoOvgwS1Ir",
        "collapsed": true,
        "colab": {
          "base_uri": "https://localhost:8080/",
          "height": 54
        },
        "outputId": "25501f2a-d37d-4c3b-d732-2aed4f61cc2d"
      },
      "execution_count": 57,
      "outputs": [
        {
          "output_type": "display_data",
          "data": {
            "text/plain": [
              "<IPython.core.display.HTML object>"
            ],
            "text/html": [
              "<a style=\"font-size: 30px\" download=\"full_prelim_schedule.pdf\" href=\"data:application/pdf;base64,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\">Click to download PDF of full schedule.</a>"
            ]
          },
          "metadata": {}
        }
      ]
    },
    {
      "cell_type": "code",
      "source": [
        "# Diplay a download button:\n",
        "display(HTML(f'<a style=\"font-size: 30px\" download=\"prelim_individual_team_schedules.pdf\" href=\"data:application/pdf;base64,{prelim_individual_team_schedules}\">Click to download PDF of individual team schedules.</a>'))"
      ],
      "metadata": {
        "collapsed": true,
        "id": "EsFqwdMJQDam",
        "colab": {
          "base_uri": "https://localhost:8080/",
          "height": 54
        },
        "outputId": "c810623e-dd2a-4cc5-fdb8-edd92db39bf2"
      },
      "execution_count": 58,
      "outputs": [
        {
          "output_type": "display_data",
          "data": {
            "text/plain": [
              "<IPython.core.display.HTML object>"
            ],
            "text/html": [
              "<a style=\"font-size: 30px\" download=\"prelim_individual_team_schedules.pdf\" href=\"data:application/pdf;base64,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\">Click to download PDF of individual team schedules.</a>"
            ]
          },
          "metadata": {}
        }
      ]
    },
    {
      "cell_type": "code",
      "source": [
        "# Diplay a download button:\n",
        "display(HTML(f'<a style=\"font-size: 30px\" download=\"prelim_individual_room_schedules.pdf\" href=\"data:application/pdf;base64,{prelim_individual_room_schedules}\">Click to download PDF of individual room schedules.</a>'))"
      ],
      "metadata": {
        "id": "o_Ny_J3AaYq0",
        "colab": {
          "base_uri": "https://localhost:8080/",
          "height": 54
        },
        "outputId": "74506ad7-b8e2-4ed1-8522-09731e9961b8"
      },
      "execution_count": 59,
      "outputs": [
        {
          "output_type": "display_data",
          "data": {
            "text/plain": [
              "<IPython.core.display.HTML object>"
            ],
            "text/html": [
              "<a style=\"font-size: 30px\" download=\"prelim_individual_room_schedules.pdf\" href=\"data:application/pdf;base64,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\">Click to download PDF of individual room schedules.</a>"
            ]
          },
          "metadata": {}
        }
      ]
    },
    {
      "cell_type": "code",
      "source": [
        "stop here"
      ],
      "metadata": {
        "collapsed": true,
        "id": "VNcIYjguqvFB",
        "colab": {
          "base_uri": "https://localhost:8080/",
          "height": 131
        },
        "outputId": "de38889e-af91-46f8-83ea-1c73d27cf6bc"
      },
      "execution_count": 60,
      "outputs": [
        {
          "output_type": "error",
          "ename": "SyntaxError",
          "evalue": "ignored",
          "traceback": [
            "\u001b[0;36m  File \u001b[0;32m\"<ipython-input-60-a96ba3aab008>\"\u001b[0;36m, line \u001b[0;32m1\u001b[0m\n\u001b[0;31m    stop here\u001b[0m\n\u001b[0m         ^\u001b[0m\n\u001b[0;31mSyntaxError\u001b[0m\u001b[0;31m:\u001b[0m invalid syntax\n"
          ]
        }
      ]
    },
    {
      "cell_type": "markdown",
      "source": [
        "# Prelim Analysis"
      ],
      "metadata": {
        "id": "iKG1VUXVdJTn"
      }
    },
    {
      "cell_type": "markdown",
      "source": [
        "# Playoff Scheduler"
      ],
      "metadata": {
        "id": "_YfbhDePdJTn"
      }
    },
    {
      "cell_type": "markdown",
      "source": [
        "# Playoff PDF Writer"
      ],
      "metadata": {
        "id": "eexAPF__dJTn"
      }
    },
    {
      "cell_type": "markdown",
      "source": [
        "# Superplayoff Scheduler"
      ],
      "metadata": {
        "id": "Qb5McvXKdPxF"
      }
    },
    {
      "cell_type": "markdown",
      "source": [
        "# Superplayoff PDF Writer "
      ],
      "metadata": {
        "id": "--DoUNDedPuN"
      }
    },
    {
      "cell_type": "markdown",
      "source": [
        "# NSC Scheduler"
      ],
      "metadata": {
        "id": "b3l5IrdtdrTf"
      }
    },
    {
      "cell_type": "markdown",
      "source": [
        "# *** Workspace below this point ***"
      ],
      "metadata": {
        "id": "qagHkeo1VeeJ"
      }
    },
    {
      "cell_type": "markdown",
      "source": [
        "\n",
        "\n",
        "---\n",
        "\n"
      ],
      "metadata": {
        "id": "_k8_duRuVhG4"
      }
    },
    {
      "cell_type": "markdown",
      "source": [
        "# Importing csv files from Github\n",
        "This will be useful later when grabbing templates for the scheduling functions.\n",
        "\n",
        "For more info on loading external files into Colabs, see [this article](https://towardsdatascience.com/7-ways-to-load-external-data-into-google-colab-7ba73e7d5fc7)."
      ],
      "metadata": {
        "id": "rLwWCJ3lixKD"
      }
    },
    {
      "cell_type": "code",
      "source": [
        "filename = 'templates/rr_schedules/rr_10.xlsx'\n",
        "\n",
        "df = pd.read_csv('https://raw.githubusercontent.com/victorprieto2265/cornerstone/main/archive/brackets.csv')\n",
        "\n",
        "# get_all_values gives a list of rows.\n",
        "print(df)"
      ],
      "metadata": {
        "id": "-Wd7s6KAj9it"
      },
      "execution_count": null,
      "outputs": []
    },
    {
      "cell_type": "markdown",
      "source": [
        "What about uploading excel files? Will that work?"
      ],
      "metadata": {
        "id": "8iW6m7Oz0w52"
      }
    },
    {
      "cell_type": "code",
      "source": [
        "url = \"https://github.com/victorprieto2265/cornerstone/blob/main/templates/rr_schedules/rr_templates.xlsx?raw=true\"\n",
        "db=pd.read_excel(url, sheet_name=None)\n",
        "\n",
        "print(type(db))\n",
        "print(db.keys())"
      ],
      "metadata": {
        "id": "Kd83cUbR00zf"
      },
      "execution_count": null,
      "outputs": []
    }
  ]
}