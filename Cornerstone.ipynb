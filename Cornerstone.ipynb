{
  "nbformat": 4,
  "nbformat_minor": 0,
  "metadata": {
    "colab": {
      "provenance": [],
      "toc_visible": true,
      "collapsed_sections": [
        "IwJ6m76Ee1va",
        "5n9ob-8odPkM",
        "_YfbhDePdJTn",
        "eexAPF__dJTn",
        "Qb5McvXKdPxF",
        "--DoUNDedPuN",
        "b3l5IrdtdrTf",
        "qagHkeo1VeeJ",
        "rLwWCJ3lixKD",
        "UCnmv2_eVvjP"
      ],
      "authorship_tag": "ABX9TyOx9T0sITNOamQenyxRrTkz",
      "include_colab_link": true
    },
    "kernelspec": {
      "name": "python3",
      "display_name": "Python 3"
    },
    "language_info": {
      "name": "python"
    }
  },
  "cells": [
    {
      "cell_type": "markdown",
      "metadata": {
        "id": "view-in-github",
        "colab_type": "text"
      },
      "source": [
        "<a href=\"https://colab.research.google.com/github/victorprieto2265/cornerstone/blob/main/Cornerstone.ipynb\" target=\"_parent\"><img src=\"https://colab.research.google.com/assets/colab-badge.svg\" alt=\"Open In Colab\"/></a>"
      ]
    },
    {
      "cell_type": "markdown",
      "source": [
        "# TODO\n",
        "\n"
      ],
      "metadata": {
        "id": "IwJ6m76Ee1va"
      }
    },
    {
      "cell_type": "markdown",
      "source": [
        "TODO placeholder\n"
      ],
      "metadata": {
        "id": "QEwWOlwXfE0H"
      }
    },
    {
      "cell_type": "markdown",
      "source": [
        "\n",
        "# Import modules / libraries"
      ],
      "metadata": {
        "id": "LxPWT_oriuCh"
      }
    },
    {
      "cell_type": "code",
      "source": [
        "!pip install fpdf2\n",
        "\n",
        "import sys\n",
        "import pandas as pd\n",
        "import warnings\n",
        "warnings.simplefilter('default', DeprecationWarning)\n",
        "from fpdf import FPDF\n",
        "from base64 import b64encode\n",
        "import IPython\n",
        "from IPython.display import display, HTML"
      ],
      "metadata": {
        "id": "pl18nTJ1uVlv",
        "colab": {
          "base_uri": "https://localhost:8080/"
        },
        "outputId": "a70e664a-4374-46af-bc3e-10c3b7b40d36"
      },
      "execution_count": 2,
      "outputs": [
        {
          "output_type": "stream",
          "name": "stdout",
          "text": [
            "Looking in indexes: https://pypi.org/simple, https://us-python.pkg.dev/colab-wheels/public/simple/\n",
            "Collecting fpdf2\n",
            "  Downloading fpdf2-2.6.1-py2.py3-none-any.whl (255 kB)\n",
            "\u001b[2K     \u001b[90m━━━━━━━━━━━━━━━━━━━━━━━━━━━━━━━━━━━━━━━\u001b[0m \u001b[32m255.6/255.6 KB\u001b[0m \u001b[31m5.6 MB/s\u001b[0m eta \u001b[36m0:00:00\u001b[0m\n",
            "\u001b[?25hCollecting fonttools>=4.34.0\n",
            "  Downloading fonttools-4.38.0-py3-none-any.whl (965 kB)\n",
            "\u001b[2K     \u001b[90m━━━━━━━━━━━━━━━━━━━━━━━━━━━━━━━━━━━━━━\u001b[0m \u001b[32m965.4/965.4 KB\u001b[0m \u001b[31m26.0 MB/s\u001b[0m eta \u001b[36m0:00:00\u001b[0m\n",
            "\u001b[?25hRequirement already satisfied: defusedxml in /usr/local/lib/python3.8/dist-packages (from fpdf2) (0.7.1)\n",
            "Requirement already satisfied: Pillow!=9.2.*,>=6.2.2 in /usr/local/lib/python3.8/dist-packages (from fpdf2) (7.1.2)\n",
            "Installing collected packages: fonttools, fpdf2\n",
            "Successfully installed fonttools-4.38.0 fpdf2-2.6.1\n"
          ]
        }
      ]
    },
    {
      "cell_type": "markdown",
      "source": [
        "# Cornerstone Input\n",
        "\n",
        "This section imports all of the input files, except tournament format,\n",
        "which is handled by the tournament_format script.\n",
        "\n",
        "TODO uncomment sys.exit at end of this script for testing\n",
        "\n",
        "TODO figure out how to handle blank spaces and/or none in input file...\n",
        "There was an unusual error where integers were being converted to floats\n",
        "if one of the cells in a range was empty instead of string 'none'.\n",
        "\n",
        "TODO apparently bracket names (and presumably other things) are case-sensitive.\n",
        "\n",
        "TODO currently a global variable for checking for errors, which is a no no?\n"
      ],
      "metadata": {
        "id": "jaurrPCkdJTm"
      }
    },
    {
      "cell_type": "code",
      "source": [
        "error = 0\n",
        "\n",
        "# checks for duplicates and (optional) character limits\n",
        "def error_check(alist, listname, max_length=float('inf'), max_duplicates=1):\n",
        "    global error  # TODO this is apparently a no no, but works for now\n",
        "    print('\\n')\n",
        "    # duplicate checker\n",
        "    seen = {}\n",
        "    duplicates = []\n",
        "    for item in alist:\n",
        "        if item not in seen:\n",
        "            seen[item] = 1\n",
        "        else:\n",
        "            seen[item] += 1\n",
        "            if seen[item] > max_duplicates:\n",
        "                duplicates.append(' - ' + item)\n",
        "    if not duplicates:\n",
        "        if max_duplicates > 1:\n",
        "            print(f'No excess duplicates detected for {listname}.')\n",
        "        else:\n",
        "            print(f'No duplicates detected for {listname}.')\n",
        "    else:\n",
        "        # error = True\n",
        "        error += 1\n",
        "        print(f'\\nDuplicates detected for {listname}:')\n",
        "        print(*duplicates, sep='\\n')\n",
        "\n",
        "    # character length checker\n",
        "    long_items = [' - ' + item for item in alist if len(item) > max_length]\n",
        "    if not long_items:\n",
        "        print(f'No character lengths exceeded for {listname}.')\n",
        "    else:\n",
        "        error += 1\n",
        "        # error = True\n",
        "        print(f'Character lengths exceeded for {listname}:')\n",
        "        print(*long_items, sep='\\n')"
      ],
      "metadata": {
        "id": "Hd9MUoAjgvDO"
      },
      "execution_count": 3,
      "outputs": []
    },
    {
      "cell_type": "markdown",
      "source": [
        "Function definition: analyze sheet and generate list from pandas dataframe."
      ],
      "metadata": {
        "id": "_Jl-_l1RkTvk"
      }
    },
    {
      "cell_type": "code",
      "source": [
        "def analyze_input(sheet_name, df_dict):\n",
        "    df = df_dict[sheet_name]\n",
        "    temp_list = df.values.tolist()  # note: temp_list may be multiple lists!\n",
        "    return temp_list"
      ],
      "metadata": {
        "id": "fwaKQucMkRJT"
      },
      "execution_count": 4,
      "outputs": []
    },
    {
      "cell_type": "markdown",
      "source": [
        "Prompt user for which tournament phase is being implemented. TODO consider in future to automatically evaluate tournament phase based on file name."
      ],
      "metadata": {
        "id": "TBmhikVaiydS"
      }
    },
    {
      "cell_type": "code",
      "source": [
        "# step 0 = identify which excel files to pull? (not implemented while testing)\n",
        "print('\\n***\\nAre you uploading excel sheets for prelim schedule creation'\n",
        "      + ' or rebracketing for playoffs?')\n",
        "# tournament_phase = input('   enter \"prelims\" or \"playoffs\" => ')\n",
        "tournament_phase = 'prelims'\n",
        "\n",
        "while tournament_phase not in ['prelims', 'playoffs', 'super']:\n",
        "    print('\\n***incorrect input provided, please retry***')\n",
        "    print('\\nSelect either prelim schedule creation or '\n",
        "          + 'rebracketing for playoffs:')\n",
        "    tournament_phase = input('   enter \"prelims\" or \"playoffs\" => ')"
      ],
      "metadata": {
        "colab": {
          "base_uri": "https://localhost:8080/"
        },
        "id": "dH0Bwv5_knSt",
        "outputId": "9e7f957b-80e3-486b-b64c-8d92f38a8d82"
      },
      "execution_count": 5,
      "outputs": [
        {
          "output_type": "stream",
          "name": "stdout",
          "text": [
            "\n",
            "***\n",
            "Are you uploading excel sheets for prelim schedule creation or rebracketing for playoffs?\n"
          ]
        }
      ]
    },
    {
      "cell_type": "markdown",
      "source": [
        "---\n",
        "\n",
        "Upload the prelims_data excel spreadsheet from local computer, and create dictionary containing the sheet name and each dataframe.\n",
        "\n",
        "TODO For now, this is commented out. While testing Cornerstone as I'm porting over to Colab, I will be directly pulling the excel file from a dedicated location in github."
      ],
      "metadata": {
        "id": "QIwjrPCFjYas"
      }
    },
    {
      "cell_type": "code",
      "source": [
        "# from google.colab import files\n",
        "# file_upload = files.upload()\n",
        "# file_upload = list(file_upload.keys())[0]\n",
        "\n",
        "url = \"https://github.com/victorprieto2265/cornerstone/blob/main/data%20input/prelims_data.xlsx?raw=true\"\n",
        "file_upload = pd.read_excel(url, sheet_name = None)\n",
        "file_upload.keys()"
      ],
      "metadata": {
        "colab": {
          "base_uri": "https://localhost:8080/"
        },
        "id": "xysCWCW7g83a",
        "outputId": "c8bad6e0-0a5d-4a1b-d673-0dda33102368"
      },
      "execution_count": 31,
      "outputs": [
        {
          "output_type": "execute_result",
          "data": {
            "text/plain": [
              "dict_keys(['tournament format', 'list of teams', 'team codes', 'group names', 'room assignments', 'QR codes', 'text input'])"
            ]
          },
          "metadata": {},
          "execution_count": 31
        }
      ]
    },
    {
      "cell_type": "code",
      "source": [
        "sheet_names = ['tournament format', 'list of teams', 'team codes',\n",
        "                'group names', 'room assignments',\n",
        "                'QR codes', 'text input']\n",
        "df_dict_prelim = pd.read_excel(file_upload,\n",
        "                               sheet_name=sheet_names)"
      ],
      "metadata": {
        "id": "Y1gg7KUvlGRK"
      },
      "execution_count": 7,
      "outputs": []
    },
    {
      "cell_type": "markdown",
      "source": [
        "Using the analyze_input function, create a list from each tab of the spreadsheet corresponding to the relevant information (e.g. a list of room assignments). If in playoffs or superplayoffs, also create the relevant lists there."
      ],
      "metadata": {
        "id": "EvXL0iGwFMH7"
      }
    },
    {
      "cell_type": "code",
      "source": [
        "list_of_teams = analyze_input('list of teams', df_dict_prelim)\n",
        "team_codes = analyze_input('team codes', df_dict_prelim)\n",
        "room_assignments = analyze_input('room assignments', df_dict_prelim)\n",
        "qr_codelist = analyze_input('QR codes', df_dict_prelim)\n",
        "textlist = analyze_input('text input', df_dict_prelim)\n",
        "tournament_format = analyze_input('tournament format', df_dict_prelim)\n",
        "\n",
        "group_names = analyze_input('group names', df_dict_prelim)\n",
        "prelim_group_names = [row[0] for row in group_names]\n",
        "\n",
        "if tournament_phase in ['playoffs', 'super']:\n",
        "    playoff_bracket_names = [row[1] for row in group_names]\n",
        "    playoff_bracket_names = [x for x in playoff_bracket_names\n",
        "                             if str(x) != 'nan']\n",
        "if tournament_phase == 'super':\n",
        "    super_bracket_names = [row[2] for row in group_names]\n",
        "    super_bracket_names = [x for x in super_bracket_names\n",
        "                             if str(x) != 'nan']"
      ],
      "metadata": {
        "id": "3CAhOiL09mfs"
      },
      "execution_count": 8,
      "outputs": []
    },
    {
      "cell_type": "markdown",
      "source": [
        "A dictionary containing general information about the tournament is also generated from the tournament_format sheet.\n",
        "\n",
        "It's necessary to convert the datetime value from excel to a more suitable string before printing."
      ],
      "metadata": {
        "id": "irPSh0zaFwLj"
      }
    },
    {
      "cell_type": "code",
      "source": [
        "format_dict = {}\n",
        "for row in tournament_format:\n",
        "    key = row[0]  # item, e.g. \"tournament name\"\n",
        "    value = row[1]  # input, e.g. \"2022 NSC\"\n",
        "    format_dict[key] = value\n",
        "\n",
        "# convert Excel datetime format to more suitable date string\n",
        "date = format_dict['tournament date'].strftime('%B %d, %Y')\n",
        "format_dict['tournament date'] = date"
      ],
      "metadata": {
        "id": "SNGO4QFRkOZ5"
      },
      "execution_count": 9,
      "outputs": []
    },
    {
      "cell_type": "markdown",
      "source": [
        "Next is the analysis section for the text and QR code inputs. Did the user turn these on? If not, these sections are skipped.\n",
        "\n",
        "TODO qr_codes used to have a NoEscape function, but that was because of pylatex and has been removed."
      ],
      "metadata": {
        "id": "8EDjXCXfn9Wd"
      }
    },
    {
      "cell_type": "code",
      "source": [
        "if format_dict['QR codes'] == 'Y':\n",
        "    qr_toggle = True\n",
        "\n",
        "    qr_names = [code[0] for code in qr_codelist]\n",
        "    qr_codes = [code[2] for code in qr_codelist]\n",
        "    qr_captions = [code[3] for code in qr_codelist]\n",
        "\n",
        "else:\n",
        "    qr_toggle = False\n",
        "    qr_codes = False\n",
        "    qr_captions = False\n",
        "\n",
        "if format_dict['text'] == 'Y':\n",
        "    text_toggle = True\n",
        "    texts = [text[1] for text in textlist]\n",
        "\n",
        "    # lorem text, delete later\n",
        "    lorem = '''\n",
        "\n",
        "    Lorem ipsum dolor sit amet. Sed iusto reprehenderit ut quis voluptas ea Quis assumenda ut eius magni eum voluptate modi? Id unde libero ad pariatur sunt eos nisi possimus est omnis nisi ut internos laboriosam. Sit nesciunt ducimus et totam maxime est voluptas vero sed itaque nihil. Et expedita culpa et fuga sunt quo esse ipsam eos doloribus autem rem perferendis modi et molestiae vitae.\n",
        "\n",
        "    Sed cumque odio eum temporibus deleniti ad consequatur consequatur aut molestias maiores. Est doloribus tenetur est dolorem ducimus sit quasi provident. Est facere expedita non expedita molestiae non error magnam vel obcaecati debitis et blanditiis reiciendis est cupiditate voluptatem ea soluta consequatur. Qui tempore ipsam eos asperiores aliquid ex unde velit est repellendus temporibus hic quidem assumenda!\n",
        "\n",
        "    Non autem maiores aut reprehenderit nulla sit repellendus dolore ut illum incidunt ut dignissimos eaque! Ex aperiam minima eos quis dolor id consequatur eligendi ut culpa galisum. Non fugiat corporis vel doloremque dignissimos sit vero quasi sed voluptatem explicabo.\n",
        "\n",
        "    '''\n",
        "else:\n",
        "    text_toggle = False\n",
        "    texts = False"
      ],
      "metadata": {
        "id": "cZ3mT363oBcD"
      },
      "execution_count": 10,
      "outputs": []
    },
    {
      "cell_type": "markdown",
      "source": [
        "More dictionary creation here: this time, for team names and team codes.\n",
        "\n",
        "RFE get rid of team codes if the user is okay with foregoing the complete team schedule in favor of individual team schedules."
      ],
      "metadata": {
        "id": "ozsWkM-bHtSP"
      }
    },
    {
      "cell_type": "code",
      "source": [
        "# key is team name\n",
        "# value is team code\n",
        "# also created a dictionary where the key/value pairs are swapped\n",
        "team_code_dict = {}\n",
        "code_team_dict = {}\n",
        "for row in team_codes:\n",
        "    team_name = row[0]\n",
        "    team_code = row[1]\n",
        "    team_code_dict[team_name] = team_code\n",
        "    code_team_dict[team_code] = team_name\n",
        "\n",
        "# key is prelim group and a number (i.e. Accra1)\n",
        "# value is corresponding room (i.e. Grand Ballroom A is Accra1)\n",
        "# also created dictionary where key is a playoff bracket instead\n",
        "prelim_room_dict = {}\n",
        "playoff_room_dict = {}\n",
        "super_room_dict = {}\n",
        "for i in room_assignments:\n",
        "    key = i[1] + str(i[2])\n",
        "    value = i[0]\n",
        "    if tournament_phase == 'prelims':\n",
        "        prelim_room_dict[key] = value\n",
        "    elif tournament_phase == 'playoffs':\n",
        "        playoff_room_dict[key] = value\n",
        "    elif tournament_phase == 'super':\n",
        "        super_room_dict[key] = value"
      ],
      "metadata": {
        "id": "zCCyM_MCg-H0"
      },
      "execution_count": 11,
      "outputs": []
    },
    {
      "cell_type": "markdown",
      "source": [
        "Last is the error check section, to see if any of the data submitted by the user was improperly formatted."
      ],
      "metadata": {
        "id": "dKTcWKPmHfV8"
      }
    },
    {
      "cell_type": "code",
      "source": [
        "# %% error catching\n",
        "\n",
        "# if prelim_team_count <= 3 or playoff_team_count <= 3:\n",
        "#     print('Unable to produce round robins smaller than 4.')\n",
        "#     sys.exit()\n",
        "\n",
        "# if prelim_team_count >= 15 or playoff_team_count >= 15:\n",
        "#     print('Unable to produce round robins larger than 14.')\n",
        "#     sys.exit()\n",
        "\n",
        "# TODO modify max_duplicates to be flexible on schedule and not hard coded\n",
        "# or perhaps get rid of max duplicates since it doesn't make a lot of sense\n",
        "# error check imported lists/sublists\n",
        "error_check([sublist[0] for sublist in list_of_teams],\n",
        "            'the team names in list_of_teams',\n",
        "            max_length=26)\n",
        "\n",
        "# error_check([sublist[2] for sublist in list_of_teams],\n",
        "#             'the prelim groups in list_of_teams',\n",
        "#             max_length=15,\n",
        "#             )\n",
        "\n",
        "error_check([sublist[1] for sublist in team_codes],\n",
        "            'the team codes in team_codes',\n",
        "            max_length=4)\n",
        "\n",
        "try:\n",
        "    error_check(prelim_group_names,\n",
        "                'the groups in prelim_group_names',\n",
        "                max_length=15)\n",
        "except:  # TODO bare except\n",
        "    None\n",
        "\n",
        "try:\n",
        "    error_check(playoff_bracket_names,\n",
        "                'the brackets in playoff_bracket_names',\n",
        "                max_length=15)\n",
        "except:  # TODO bare except\n",
        "    None\n",
        "\n",
        "error_check([sublist[0] for sublist in room_assignments],\n",
        "            'the list of rooms in room_assignments',\n",
        "            max_length=15)\n",
        "\n",
        "if error == 0:\n",
        "    print('\\n*** No errors detected upon import. ***')\n",
        "else:\n",
        "    print('\\n*** Errors detected during import! ***')\n",
        "    sys.exit()"
      ],
      "metadata": {
        "id": "DhUxZUHJHehk",
        "colab": {
          "base_uri": "https://localhost:8080/"
        },
        "outputId": "afff498d-d83a-4474-e6ee-2b4c0a4443c9"
      },
      "execution_count": 12,
      "outputs": [
        {
          "output_type": "stream",
          "name": "stdout",
          "text": [
            "\n",
            "\n",
            "No duplicates detected for the team names in list_of_teams.\n",
            "No character lengths exceeded for the team names in list_of_teams.\n",
            "\n",
            "\n",
            "No duplicates detected for the team codes in team_codes.\n",
            "No character lengths exceeded for the team codes in team_codes.\n",
            "\n",
            "\n",
            "No duplicates detected for the groups in prelim_group_names.\n",
            "No character lengths exceeded for the groups in prelim_group_names.\n",
            "\n",
            "\n",
            "No duplicates detected for the list of rooms in room_assignments.\n",
            "No character lengths exceeded for the list of rooms in room_assignments.\n",
            "\n",
            "*** No errors detected upon import. ***\n"
          ]
        }
      ]
    },
    {
      "cell_type": "markdown",
      "source": [
        "# Function Definitions"
      ],
      "metadata": {
        "id": "owcZyEiJdJTm"
      }
    },
    {
      "cell_type": "markdown",
      "source": [
        "Function for removing duplicates from a list."
      ],
      "metadata": {
        "id": "uQuJVhmyA3CC"
      }
    },
    {
      "cell_type": "code",
      "source": [
        "def remove_duplicates(alist):\n",
        "    newlist = []\n",
        "    [newlist.append(x) for x in alist if x not in newlist]\n",
        "    return newlist"
      ],
      "metadata": {
        "id": "a81URiBdA7G8"
      },
      "execution_count": 13,
      "outputs": []
    },
    {
      "cell_type": "markdown",
      "source": [
        "original function_definitions.py"
      ],
      "metadata": {
        "id": "EUZolcmPAy4y"
      }
    },
    {
      "cell_type": "code",
      "source": [
        "import time\n",
        "import sys\n",
        "from pathlib import Path\n",
        "from pylatex import (Document, Tabularx, Command,\n",
        "                      NewPage, HugeText, Package,\n",
        "                     VerticalSpace)\n",
        "from pylatex.utils import NoEscape\n",
        "from cornerstone_input import format_dict\n",
        "\n",
        "# place additional modules here\n",
        "\n",
        "header = \"\"\"\n",
        "\n",
        "Depository for a bunch of class and function definitions shared across\n",
        "prelim/playoff scripts.\n",
        "\n",
        "TODO what if snake seed is fed a list with odd number of teams?\n",
        "\n",
        "TODO what if qr_count ≠ 3?\n",
        "\n",
        "Created on Mon Nov 1 13:53:44 2021 Eastern Time\n",
        "\n",
        "@author: Victor Prieto\n",
        "\n",
        "\"\"\"\n",
        "\n",
        "\n",
        "# starts program runtime\n",
        "start_time = time.time()\n",
        "print('\\n', header)\n",
        "print('start time: %s' % time.ctime())\n",
        "\n",
        "# %% function definitions\n",
        "\n",
        "\n",
        "def qr_code(doc, qr_codes, qr_captions):\n",
        "\n",
        "    doc.append(NoEscape(r'\\rowcolors{3}{white}{white}'))\n",
        "\n",
        "    qr_count = len(qr_codes)\n",
        "    if qr_count != 3:\n",
        "        print('WARNING: number of qr_codes does not equal 3.')\n",
        "        sys.exit()\n",
        "    header_string = 'Y' * qr_count\n",
        "    width = r\"\\textwidth\"\n",
        "\n",
        "    with doc.create(Tabularx(header_string,\n",
        "                             width_argument=NoEscape(width))) as table:\n",
        "        table.add_row(qr_codes, strict=False)\n",
        "        table.add_empty_row()\n",
        "        table.add_row(qr_captions, strict=False)\n",
        "\n",
        "\n",
        "def split_list(alist, wanted_parts=1):\n",
        "    length = len(alist)\n",
        "    return [alist[i*length // wanted_parts: (i+1)*length // wanted_parts]\n",
        "            for i in range(wanted_parts)]\n",
        "\n",
        "\n",
        "def snake_seed(list_of_teams, bracket_count):\n",
        "    \"\"\"\n",
        "    Parameters\n",
        "    ----------\n",
        "    list_of_teams : list\n",
        "        A list of teams for reordering into playoff brackets by snake seeding.\n",
        "    bracket_count : int\n",
        "        Number of playoff brackets to snake seed across.\n",
        "\n",
        "    Returns\n",
        "    -------\n",
        "    newlist : list\n",
        "        Same list of teams accepted as input, but reordered by snake seeding.\n",
        "        The list is also split into the number of playoff brackets.\n",
        "        Example:\n",
        "            (1, 2, 3, 4... 23, 24)\n",
        "            snake seeded across four brackets becomes\n",
        "            ((1, 8, 9, 16, 17, 24), (2, 7, 10, 15, 18... 12, 13, 20, 21))\n",
        "\n",
        "    \"\"\"\n",
        "\n",
        "    # generates sequence of indices for snake seeding\n",
        "    sequence_length = 2 * bracket_count\n",
        "    reps = len(list_of_teams) / sequence_length\n",
        "    sequence = []\n",
        "    for i in range(0, int(sequence_length/2)):\n",
        "        for j in range(0, int(reps)):\n",
        "            sequence.append(i+j*sequence_length)\n",
        "            sequence.append((sequence_length-1-i)+j*sequence_length)\n",
        "\n",
        "    # quits program if odd number of teams in list_of_teams\n",
        "    if (len(list_of_teams)) % 2 == 1:\n",
        "        print('ODD NUMBER OF TEAMS DETECTED')\n",
        "        sys.exit()\n",
        "\n",
        "    # use sequence of indices to generate new list of teams\n",
        "    newlist = (list_of_teams[index] for index in sequence)\n",
        "    return newlist\n",
        "\n",
        "\n",
        "def alternating_rows(doc, color):\n",
        "    return doc.append(NoEscape(r'\\rowcolors{3}{white}{%s}' % color))\n",
        "\n",
        "\n",
        "def duplicate_checker(alist):\n",
        "    seen = set()\n",
        "    for x in alist:\n",
        "        if x in seen:\n",
        "            return True\n",
        "        seen.add(x)\n",
        "    return False\n",
        "\n",
        "\n",
        "def start_latex(filename_input, docname, title=True, fontsize=False):\n",
        "\n",
        "    Path(\"./output/\").mkdir(parents=True, exist_ok=True)\n",
        "    file_path = r'./output/'\n",
        "    Path(file_path).mkdir(parents=True, exist_ok=True)\n",
        "    filename = file_path + filename_input        \n",
        "    \n",
        "    geometry_options = {\n",
        "        \"includeheadfoot\": True\n",
        "    }\n",
        "\n",
        "    doc = Document(filename, geometry_options=geometry_options)\n",
        "\n",
        "    # this changed font sizes, but it doesn't work so well\n",
        "    if fontsize is True:\n",
        "        doc = Document(filename_input, geometry_options=geometry_options,\n",
        "                       font_size='')\n",
        "        doc.append(Command('fontsize', arguments=['12', '12']))\n",
        "        doc.append(Command('selectfont'))\n",
        "\n",
        "    doc.preamble.append(Command('title', format_dict['tournament name']))\n",
        "    doc.preamble.append(Command('author', format_dict['tournament location']))\n",
        "    doc.preamble.append(Command('date', format_dict['tournament date']))\n",
        "    \n",
        "    doc.packages.append(Package('qrcode'))  # add qrcode to packages\n",
        "    doc.packages.append(Package('fancyhdr'))  # add qrcode to packages\n",
        "\n",
        "    doc.append(NoEscape(r'\\newcolumntype{Y}{>{\\centering\\arraybackslash}X}'))\n",
        "\n",
        "    # TODO vertically center docname text on page\n",
        "    if title is True:\n",
        "        doc.append(NoEscape(r'\\maketitle'))\n",
        "        doc.append(VerticalSpace('48pt'))\n",
        "        doc.append(NoEscape(r'\\begin{center}'))\n",
        "        doc.append(HugeText(docname))\n",
        "        doc.append(NoEscape(r'\\end{center}'))\n",
        "        doc.append(NewPage())\n",
        "    \n",
        "    doc.append(NoEscape(r'\\pagestyle{fancy}'))\n",
        "    doc.append(NoEscape(r'\\fancyhf{}'))\n",
        "    date = '{' + format_dict['tournament date'] + '}'\n",
        "    name = '{' + format_dict['tournament name'] + '}'\n",
        "    doc.append(NoEscape(fr'\\rhead{date}'))\n",
        "    doc.append(NoEscape(fr'\\lhead{name}'))\n",
        "    doc.append(NoEscape(r'\\rfoot{Created by Cornerstone.}'))\n",
        "        \n",
        "    return doc\n",
        "\n",
        "\n",
        "def close_latex(filename_input, doc_input):\n",
        "    file_path = r'./output/'\n",
        "    filename = file_path + filename_input\n",
        "    doc_input.generate_tex()\n",
        "    doc_input.generate_pdf()\n",
        "\n",
        "    file = open(filename + '.tex')\n",
        "    latex_string = file.read()\n",
        "    bad_string = '\\\\usepackage{lastpage}%'\n",
        "    good_string = '\\\\usepackage[table]{xcolor}%'\n",
        "    # print(latex_string)\n",
        "    latex_string = latex_string.replace(bad_string, good_string)\n",
        "\n",
        "    # for visual debugging\n",
        "    # print('\\n\\n', latex_string[0:700], '\\n\\n')\n",
        "\n",
        "    with open(f'{filename}.tex', 'w') as f:\n",
        "        f.write(latex_string)\n",
        "\n",
        "\n",
        "# %% classes, mostly not in use\n",
        "# TODO figure out class inheritance for team/prelim_team/playoff_team\n",
        "class team:\n",
        "    def __init__(self,\n",
        "                 name,\n",
        "                 code):\n",
        "        self.name = name\n",
        "        self.code = code\n",
        "\n",
        "\n",
        "class prelim_team(team):\n",
        "    def __init__(self,\n",
        "                 name,\n",
        "                 code,\n",
        "                 prelim_group,\n",
        "                 prelim_seed):\n",
        "        super().__init__(name, code)\n",
        "        self.prelim_group = prelim_group\n",
        "        self.prelim_seed = prelim_seed\n",
        "\n",
        "\n",
        "class playoff_team():\n",
        "    def __init__(self,\n",
        "                 name,\n",
        "                 code,\n",
        "                 prelim_group,\n",
        "                 playoff_bracket,\n",
        "                 playoff_seed):  # playoff seed also the prelim finish\n",
        "        self.name = name\n",
        "        self.code = code\n",
        "        self.prelim_group = prelim_group\n",
        "        self.playoff_bracket = playoff_bracket\n",
        "        self.playoff_seed = playoff_seed\n",
        "\n",
        "# %% more function definitions\n",
        "\n",
        "\n",
        "def header_stringify(teamcount, tabularx=False):\n",
        "    \"\"\"\n",
        "\n",
        "    Parameters\n",
        "    ----------\n",
        "    teamcount : int\n",
        "        Number of teams in the round robin.\n",
        "    tabularx : bool, optional\n",
        "        Changes header string to account for newcolumntype Y, used in tabularx.\n",
        "        The default is False.\n",
        "\n",
        "    Returns\n",
        "    -------\n",
        "    A string for pylatex to use when defining the table.\n",
        "    Example: '|l|cc|cc|cc|cc|'\n",
        "\n",
        "    If tabularx is set to True, returns a string that utilizes newcolumntype Y.\n",
        "    Example: '|l|Y|Y|Y|Y|Y|Y|'\n",
        "\n",
        "    \"\"\"\n",
        "\n",
        "    roomcount = teamcount // 2\n",
        "\n",
        "    header_string = '|l' + ('|cc' * roomcount + '|')\n",
        "    if teamcount % 2 == 1:\n",
        "        header_string = header_string + 'c|'\n",
        "\n",
        "    if tabularx is True:\n",
        "        header_string = '|l' + ('|Y' * teamcount + '|')\n",
        "\n",
        "    return header_string\n",
        "\n",
        "\n",
        "# %% prints runtime\n",
        "print('end time: %s' % time.ctime())\n",
        "print(\"--- %s seconds ---\" % '%.3f' % (time.time() - start_time))\n",
        "print(\"--- %s minutes ---\" % '%.3f' % (time.time()/60 - start_time/60))"
      ],
      "metadata": {
        "colab": {
          "base_uri": "https://localhost:8080/",
          "height": 373
        },
        "id": "83PLhfS0ArVn",
        "outputId": "26b03473-b776-4cb2-c250-a1f570cf40a0"
      },
      "execution_count": 14,
      "outputs": [
        {
          "output_type": "error",
          "ename": "ModuleNotFoundError",
          "evalue": "ignored",
          "traceback": [
            "\u001b[0;31m---------------------------------------------------------------------------\u001b[0m",
            "\u001b[0;31mModuleNotFoundError\u001b[0m                       Traceback (most recent call last)",
            "\u001b[0;32m<ipython-input-14-b039f5a5915f>\u001b[0m in \u001b[0;36m<module>\u001b[0;34m\u001b[0m\n\u001b[1;32m      2\u001b[0m \u001b[0;32mimport\u001b[0m \u001b[0msys\u001b[0m\u001b[0;34m\u001b[0m\u001b[0;34m\u001b[0m\u001b[0m\n\u001b[1;32m      3\u001b[0m \u001b[0;32mfrom\u001b[0m \u001b[0mpathlib\u001b[0m \u001b[0;32mimport\u001b[0m \u001b[0mPath\u001b[0m\u001b[0;34m\u001b[0m\u001b[0;34m\u001b[0m\u001b[0m\n\u001b[0;32m----> 4\u001b[0;31m from pylatex import (Document, Tabularx, Command,\n\u001b[0m\u001b[1;32m      5\u001b[0m                       \u001b[0mNewPage\u001b[0m\u001b[0;34m,\u001b[0m \u001b[0mHugeText\u001b[0m\u001b[0;34m,\u001b[0m \u001b[0mPackage\u001b[0m\u001b[0;34m,\u001b[0m\u001b[0;34m\u001b[0m\u001b[0;34m\u001b[0m\u001b[0m\n\u001b[1;32m      6\u001b[0m                      VerticalSpace)\n",
            "\u001b[0;31mModuleNotFoundError\u001b[0m: No module named 'pylatex'",
            "",
            "\u001b[0;31m---------------------------------------------------------------------------\u001b[0;32m\nNOTE: If your import is failing due to a missing package, you can\nmanually install dependencies using either !pip or !apt.\n\nTo view examples of installing some common dependencies, click the\n\"Open Examples\" button below.\n\u001b[0;31m---------------------------------------------------------------------------\u001b[0m\n"
          ],
          "errorDetails": {
            "actions": [
              {
                "action": "open_url",
                "actionText": "Open Examples",
                "url": "/notebooks/snippets/importing_libraries.ipynb"
              }
            ]
          }
        }
      ]
    },
    {
      "cell_type": "markdown",
      "source": [
        "# Standard Scheduler Function\n",
        "\n",
        "Created on Mon Nov 22 2021\n",
        "\n",
        "Definition of functions used for creating a table for a round robin schedule,\n",
        "between 4 and 14 teams.\n",
        "\n",
        "TODO if possible, fix pylatex table lines and shading in this function"
      ],
      "metadata": {
        "id": "GEJoeZNfdPrN"
      }
    },
    {
      "cell_type": "markdown",
      "source": [
        "First: retrieve the round robin templates stored on the cornerstone github page. The templates will automatically populate a dictionary.\n",
        "\n",
        "Each key is the name of the sheet corresponding to the round robin template: rr_6 is a basic 6 team round robin, rr_12 is for 12 teams, rr_crossover_A8 is the 8 team playoff roundrobin including crossovers (there are two possible crossovers, A and B, based on [Dwight Wynne's spreadsheet of schedule formats](https://https://docs.google.com/spreadsheets/d/1BPF6jFvhkh5qe7eesGFGU9KH6FVps2tS3YeseFocpIE/edit#gid=16)).\n",
        "\n",
        "The dictionary values are the pandas dataframes for each template.\n",
        "\n",
        "These templates will be used in the standard scheduler function and retrieved based on the key name."
      ],
      "metadata": {
        "id": "Q__BsPTWAtPh"
      }
    },
    {
      "cell_type": "code",
      "source": [
        "url = \"https://github.com/victorprieto2265/cornerstone/blob/main/templates/rr_schedules/rr_templates.xlsx?raw=true\"\n",
        "rr_template_dict = pd.read_excel(url,\n",
        "                                 sheet_name = None)\n",
        "rr_template_dict.keys()"
      ],
      "metadata": {
        "colab": {
          "base_uri": "https://localhost:8080/"
        },
        "id": "7FtnKegkiJUy",
        "outputId": "eaf2d886-73c7-4856-ef62-1821cfada7ee"
      },
      "execution_count": 15,
      "outputs": [
        {
          "output_type": "execute_result",
          "data": {
            "text/plain": [
              "dict_keys(['rr_3', 'rr_4', 'rr_5', 'rr_6', 'rr_7', 'rr_8', 'rr_9', 'rr_10', 'rr_11', 'rr_12', 'rr_13', 'rr_14', 'rr_crossover_B3', 'rr_crossover_A6', 'rr_crossover_B6', 'rr_crossover_B7', 'rr_crossover_A8', 'rr_crossover_B8'])"
            ]
          },
          "metadata": {},
          "execution_count": 15
        }
      ]
    },
    {
      "cell_type": "markdown",
      "source": [
        "DONE \n",
        "\n",
        "*  testing of proper schedule retrieval from rr_template_dict\n",
        "\n",
        "TODO\n",
        "\n",
        "*  fix the crossover templates in the excel file, which right now are a mess "
      ],
      "metadata": {
        "id": "szp10lDJkBo2"
      }
    },
    {
      "cell_type": "code",
      "source": [
        "teamcount = 8\n",
        "crossover = 'A'\n",
        "\n",
        "if crossover is False:\n",
        "  key = f'rr_{teamcount}'\n",
        "else:\n",
        "  key = f'rr_crossover_{crossover}{teamcount}'\n",
        "\n",
        "rr_schedule = rr_template_dict[key].values.tolist()\n",
        "\n",
        "print(*rr_schedule, sep='\\n')"
      ],
      "metadata": {
        "id": "xDcLJrurF1zG",
        "colab": {
          "base_uri": "https://localhost:8080/"
        },
        "outputId": "ade7c9e3-e93f-40a1-8f73-55e628b70230"
      },
      "execution_count": 16,
      "outputs": [
        {
          "output_type": "stream",
          "name": "stdout",
          "text": [
            "['A1', 'B2', 'C1', 'D2', 'B1', 'A2', 'D1', 'C2']\n",
            "['C1', 'A2', 'A1', 'C2', 'D1', 'B2', 'B1', 'D2']\n",
            "['B1', 'C2', 'D1', 'A2', 'A1', 'D2', 'C1', 'B2']\n",
            "['A1', 'D1', 'B2', 'C2', 'B1', 'C1', 'A2', 'D2']\n",
            "['B2', 'D2', 'B1', 'D1', 'A2', 'C2', 'A1', 'C1']\n",
            "['C1', 'D1', 'A1', 'B1', 'C2', 'D2', 'A2', 'B2']\n"
          ]
        }
      ]
    },
    {
      "cell_type": "markdown",
      "source": [
        "Definition of the standard scheduler function is below."
      ],
      "metadata": {
        "id": "rLOCcNtEFpce"
      }
    },
    {
      "cell_type": "code",
      "source": [
        "def standard_schedule(group_name, teamcode_dict, room_dict, roundstart=1,\n",
        "                      crossover=False, superplayoff=False):\n",
        "    \"\"\"\n",
        "\n",
        "\n",
        "    Parameters\n",
        "    ----------\n",
        "    groupname : string\n",
        "        String of the prelim group or playoff bracket name.\n",
        "        Example: Lilongwe\n",
        "    teamcode_dict : dict\n",
        "        k : v = a group/bracket code : teamcode corresponding to that code\n",
        "        example: Lilongwe4 = MBA\n",
        "    room_dict : dict\n",
        "        k : v = a group/bracket code : room corresponding to that code\n",
        "        example: Lilongwe2 = Suite 1132\n",
        "    roundstart : int, optional\n",
        "        Number for the first round in the schedule. The default is 1.\n",
        "\n",
        "    Returns\n",
        "    -------\n",
        "    schedule_grid : list\n",
        "        Latex-friendly table. First row = table header, remaining rows =\n",
        "        schedule for each round.\n",
        "\n",
        "    \"\"\"\n",
        "\n",
        "    # produce teamlist\n",
        "    teamlist = [k for k, v in list(teamcode_dict.items())\n",
        "                if k.startswith(group_name)]\n",
        "    sorted_list = sorted(teamlist)\n",
        "    teamlist = [teamcode_dict[i] for i in sorted_list]\n",
        "\n",
        "    # identify number of teams in teamlist and appropriate number of rooms\n",
        "    teamcount = len(teamlist)\n",
        "    roomcount = teamcount // 2\n",
        "\n",
        "    # retrieve correct rr_template from rr_template_dict\n",
        "    if crossover is False:\n",
        "      key = f'rr_{teamcount}'\n",
        "    else:\n",
        "      key = f'rr_crossover_{crossover}{teamcount}'\n",
        "\n",
        "    rr_schedule = rr_template_dict[key].values.tolist()\n",
        "\n",
        "    # produce roomlist\n",
        "    roomlist = [k for k, v in list(room_dict.items())\n",
        "                if k.startswith(group_name)]\n",
        "    roomlist = [room_dict[i] for i in sorted(roomlist)]\n",
        "\n",
        "    # populate header with room names\n",
        "    rooms = []\n",
        "    header = ['']\n",
        "    for index in range(roomcount):\n",
        "        room = roomlist[index]\n",
        "        header.append(room)\n",
        "        header.append(room)  # super unpythonic, but header needs fixing anyway\n",
        "\n",
        "    # the last element in the header should be BYE if teamcount is odd\n",
        "    if teamcount % 2 == 1:\n",
        "        header.append('BYE')\n",
        "\n",
        "    # use rr_schedule template and roundstart to produce rest of schedule grid\n",
        "    schedule_grid = [header]\n",
        "    for round_num, row in enumerate(rr_schedule):\n",
        "        round_num += roundstart\n",
        "        new_row = [f'Round {round_num}']\n",
        "        for index in row:\n",
        "            code = group_name + str(index)\n",
        "            team = teamcode_dict[code]\n",
        "            new_row.append(team)\n",
        "        schedule_grid.append(new_row)\n",
        "\n",
        "    return schedule_grid"
      ],
      "metadata": {
        "id": "wlG8swh1trsX"
      },
      "execution_count": 17,
      "outputs": []
    },
    {
      "cell_type": "markdown",
      "source": [
        "## Individual Schedule Functions "
      ],
      "metadata": {
        "id": "5n9ob-8odPkM"
      }
    },
    {
      "cell_type": "markdown",
      "source": [
        "# Prelim Scheduler\n",
        "\n",
        "This section reads the list of prelim teams and information from the tournament format dictionary to produce a set of prelim schedules."
      ],
      "metadata": {
        "id": "K4OmpZngcsFP"
      }
    },
    {
      "cell_type": "markdown",
      "source": [
        "dictionary creation\n",
        "\n",
        "prelim group names"
      ],
      "metadata": {
        "id": "Is1C6X6cAbNi"
      }
    },
    {
      "cell_type": "code",
      "source": [
        "prelim_group_names = [sublist[1] for sublist in list_of_teams]\n",
        "prelim_group_names = remove_duplicates(prelim_group_names)\n",
        "\n",
        "# key is a prelim group name and a seed (i.e. Belmopan6)\n",
        "# value is the corresponding team (i.e. Great Valley A for Belmopan6)\n",
        "# also created a dictionary where values are team codes (i.e. GVA)\n",
        "prelim_team_dict = {}\n",
        "prelim_teamcode_dict = {}\n",
        "team_group_dict = {}\n",
        "teamcode_group_dict = {}\n",
        "for i in list_of_teams:\n",
        "    # key = i[2] + str(i[3])\n",
        "    key = i[1] + str(i[2])\n",
        "    value = i[0]  # team name\n",
        "    prelim_team_dict[key] = value\n",
        "    # also created dictionary where k/v pairs are swapped\n",
        "    team_group_dict[value] = key\n",
        "    # value = i[1]  # team code\n",
        "    value = team_code_dict[value]\n",
        "    prelim_teamcode_dict[key] = value\n",
        "    # also created dictionary where k/v pairs are swapped\n",
        "    teamcode_group_dict[value] = key\n",
        "\n",
        "# key is prelim group and a number (i.e. Accra1)\n",
        "# value is corresponding room (i.e. Grand Ballroom A is Accra1)\n",
        "# also created dictionary where key is a playoff bracket instead\n",
        "prelim_room_dict = {}\n",
        "for i in room_assignments:\n",
        "    key = i[1] + str(i[2])\n",
        "    value = i[0]\n",
        "    prelim_room_dict[key] = value"
      ],
      "metadata": {
        "id": "yqDIBPxpAXbJ"
      },
      "execution_count": 18,
      "outputs": []
    },
    {
      "cell_type": "markdown",
      "source": [
        "full schedule grid creation"
      ],
      "metadata": {
        "id": "rAozDnfXAiC6"
      }
    },
    {
      "cell_type": "code",
      "source": [
        "full_schedule_grid = []\n",
        "\n",
        "# perform this process for each prelim group, add to full_schedule_grid\n",
        "for group_name in prelim_group_names:\n",
        "    schedule_grid = (standard_schedule(group_name,\n",
        "                                       prelim_teamcode_dict,\n",
        "                                       prelim_room_dict))\n",
        "    full_schedule_grid.append(schedule_grid)"
      ],
      "metadata": {
        "id": "9Q-DolBuAaJZ"
      },
      "execution_count": 19,
      "outputs": []
    },
    {
      "cell_type": "markdown",
      "source": [
        "To make sure the full_schedule_grid was populated correctly, we'll print it out line by line."
      ],
      "metadata": {
        "id": "2yJI1x6PBUjr"
      }
    },
    {
      "cell_type": "code",
      "source": [
        "# for visual debugging\n",
        "for index, prelim_group in enumerate(prelim_group_names):\n",
        "    print(f'\\nPrelim Group: {prelim_group}')\n",
        "    print(*full_schedule_grid[index], sep='\\n')"
      ],
      "metadata": {
        "id": "Ozt12wMnBT2A",
        "colab": {
          "base_uri": "https://localhost:8080/"
        },
        "outputId": "2efacfd2-54d0-43f9-8f1f-3d684f335419"
      },
      "execution_count": 20,
      "outputs": [
        {
          "output_type": "stream",
          "name": "stdout",
          "text": [
            "\n",
            "Prelim Group: Spooky\n",
            "['', 'Room 205', 'Room 205', 'Room 206', 'Room 206', 'Room 207', 'Room 207', 'BYE']\n",
            "['Round 1', 'HNB', 'NBB', 'VSS', 'DRA', 'KPB', 'HTC', 'CHE']\n",
            "['Round 2', 'NBB', 'DRA', 'HNB', 'HTC', 'VSS', 'CHE', 'KPB']\n",
            "['Round 3', 'DRA', 'HTC', 'NBB', 'CHE', 'HNB', 'KPB', 'VSS']\n",
            "['Round 4', 'CHE', 'HTC', 'KPB', 'DRA', 'VSS', 'NBB', 'HNB']\n",
            "['Round 5', 'KPB', 'CHE', 'VSS', 'HTC', 'HNB', 'DRA', 'NBB']\n",
            "['Round 6', 'VSS', 'KPB', 'HNB', 'CHE', 'NBB', 'HTC', 'DRA']\n",
            "['Round 7', 'HNB', 'VSS', 'NBB', 'KPB', 'DRA', 'CHE', 'HTC']\n",
            "\n",
            "Prelim Group: Scary\n",
            "['', 'Room 232', 'Room 232', 'Room 238', 'Room 238', 'Room 239', 'Room 239', 'BYE']\n",
            "['Round 1', 'KPC', 'NBA', 'ILT', 'HTB', 'DRB', 'MPB', 'HNA']\n",
            "['Round 2', 'NBA', 'HTB', 'KPC', 'MPB', 'ILT', 'HNA', 'DRB']\n",
            "['Round 3', 'HTB', 'MPB', 'NBA', 'HNA', 'KPC', 'DRB', 'ILT']\n",
            "['Round 4', 'HNA', 'MPB', 'DRB', 'HTB', 'ILT', 'NBA', 'KPC']\n",
            "['Round 5', 'DRB', 'HNA', 'ILT', 'MPB', 'KPC', 'HTB', 'NBA']\n",
            "['Round 6', 'ILT', 'DRB', 'KPC', 'HNA', 'NBA', 'MPB', 'HTB']\n",
            "['Round 7', 'KPC', 'ILT', 'NBA', 'DRB', 'HTB', 'HNA', 'MPB']\n",
            "\n",
            "Prelim Group: Skeletons\n",
            "['', 'Room 240', 'Room 240', 'Room 241', 'Room 241', 'Room 242', 'Room 242', 'BYE']\n",
            "['Round 1', 'KPD', 'MPA', 'HTA', 'PJF', 'WLR', 'HNC', 'WIL']\n",
            "['Round 2', 'MPA', 'PJF', 'KPD', 'HNC', 'HTA', 'WIL', 'WLR']\n",
            "['Round 3', 'PJF', 'HNC', 'MPA', 'WIL', 'KPD', 'WLR', 'HTA']\n",
            "['Round 4', 'WIL', 'HNC', 'WLR', 'PJF', 'HTA', 'MPA', 'KPD']\n",
            "['Round 5', 'WLR', 'WIL', 'HTA', 'HNC', 'KPD', 'PJF', 'MPA']\n",
            "['Round 6', 'HTA', 'WLR', 'KPD', 'WIL', 'MPA', 'HNC', 'PJF']\n",
            "['Round 7', 'KPD', 'HTA', 'MPA', 'WLR', 'PJF', 'WIL', 'HNC']\n"
          ]
        }
      ]
    },
    {
      "cell_type": "markdown",
      "source": [
        "# Prelim PDF Writer"
      ],
      "metadata": {
        "id": "-G75IfqqdJTn"
      }
    },
    {
      "cell_type": "markdown",
      "source": [
        "This section will rely on fpdf2 to output PDF files. \n",
        "\n",
        "To start: create a class for writing tables on a PDF.\n",
        "\n",
        "We'll have five types of tables we'll need to generate:\n",
        "*  the full schedule\n",
        "*  the individualized team schedule\n",
        "*  the individualized room schedule\n",
        "*  the team index\n",
        "*  the playoff quickstart schedule (first playoff room for all teams)\n",
        "\n",
        "The last one will not be needed for the prelim writer, but will be helpful for playoffs (and superplayoffs if needed)."
      ],
      "metadata": {
        "id": "IbLX9e88sfyI"
      }
    },
    {
      "cell_type": "code",
      "source": [
        "class PDF(FPDF):\n",
        "\n",
        "    def full_schedule(self, headings, rows):\n",
        "      \n",
        "      col_width = pdf.epw / len(headings)  # distribute columns evenly\n",
        "      col_widths = [col_width] * len(headings)\n",
        "      \n",
        "      self.set_fill_color(255, 100, 0)\n",
        "      self.set_text_color(255)\n",
        "      self.set_draw_color(36, 36, 36)\n",
        "      self.set_line_width(0.3)\n",
        "      self.set_font(style=\"B\")\n",
        "      for col_width, heading in zip(col_widths, headings):\n",
        "          self.cell(col_width, 7, heading, border=1, align=\"C\", fill=True)\n",
        "      self.ln()\n",
        "      # Color and font restoration:\n",
        "      self.set_fill_color(182, 194, 217)\n",
        "      self.set_text_color(0)\n",
        "      self.set_font()\n",
        "      fill = False\n",
        "      for row in rows:\n",
        "        for index, item in enumerate(row):\n",
        "          if index == 0:\n",
        "            self.set_font(style=\"B\")\n",
        "          else:\n",
        "            self.set_font()\n",
        "          self.cell(col_widths[index],\n",
        "                    7,\n",
        "                    item,\n",
        "                    border=\"LR\",\n",
        "                    align=\"C\",\n",
        "                    fill=fill)\n",
        "        self.ln()\n",
        "        fill = not fill\n",
        "        # self.cell(sum(col_widths), 0, \"\", \"T\")  # this was in the original but broke things so it's commented out for now\n",
        "\n",
        "      self.set_fill_color(255, 100, 0)\n",
        "      self.set_text_color(255)\n",
        "      self.set_draw_color(36, 36, 36)\n",
        "      self.set_line_width(0.3)\n",
        "      self.set_font(style=\"B\")\n",
        "      for col_width, heading in zip(col_widths, headings):\n",
        "          self.cell(col_width, 7, heading, border=1, align=\"C\", fill=True)\n"
      ],
      "metadata": {
        "id": "2sXgrSqj4QQz"
      },
      "execution_count": 27,
      "outputs": []
    },
    {
      "cell_type": "code",
      "source": [
        "class PDF(PDF):\n",
        "\n",
        "    def fancy_table(self, headings, rows, col_widths=(42, 39, 35, 42)):\n",
        "        # Colors, line width and bold font:\n",
        "        self.set_fill_color(255, 100, 0)\n",
        "        self.set_text_color(255)\n",
        "        self.set_draw_color(255, 0, 0)\n",
        "        self.set_line_width(0.3)\n",
        "        self.set_font(style=\"B\")\n",
        "        for col_width, heading in zip(col_widths, headings):\n",
        "            self.cell(col_width, 7, heading, border=1, align=\"C\", fill=True)\n",
        "        self.ln()\n",
        "        # Color and font restoration:\n",
        "        self.set_fill_color(224, 235, 255)\n",
        "        self.set_text_color(0)\n",
        "        self.set_font()\n",
        "        fill = False\n",
        "        for row in rows:\n",
        "            self.cell(col_widths[0], 6, row[0], border=\"LR\", align=\"L\", fill=fill)\n",
        "            self.cell(col_widths[1], 6, row[1], border=\"LR\", align=\"L\", fill=fill)\n",
        "            self.cell(col_widths[2], 6, row[2], border=\"LR\", align=\"R\", fill=fill)\n",
        "            self.cell(col_widths[3], 6, row[3], border=\"LR\", align=\"R\", fill=fill)\n",
        "            self.ln()\n",
        "            fill = not fill\n",
        "        self.cell(sum(col_widths), 0, \"\", \"T\")"
      ],
      "metadata": {
        "id": "nJM6QIB9Auu2"
      },
      "execution_count": 28,
      "outputs": []
    },
    {
      "cell_type": "code",
      "source": [
        "header = full_schedule_grid[0][0]\n",
        "grid = full_schedule_grid[0][1:]"
      ],
      "metadata": {
        "id": "Wl4_Ccpu4jgA"
      },
      "execution_count": 23,
      "outputs": []
    },
    {
      "cell_type": "code",
      "source": [
        "pdf = PDF()\n",
        "\n",
        "pdf.set_font(\"times\", size=11)\n",
        "\n",
        "print(grid)\n",
        "\n",
        "pdf.add_page()\n",
        "pdf.full_schedule(header, grid)\n",
        "pdf.add_page()\n",
        "pdf.fancy_table(header, grid)\n",
        "\n",
        "pdf.output(\"test_output.pdf\")\n",
        "pdf_bytes = pdf.output()\n",
        "base64_pdf = b64encode(pdf_bytes).decode(\"utf-8\")"
      ],
      "metadata": {
        "colab": {
          "base_uri": "https://localhost:8080/"
        },
        "id": "wqJPg3lP4pq8",
        "outputId": "68d272e3-942c-488b-c4bd-c75e589b6da5"
      },
      "execution_count": 29,
      "outputs": [
        {
          "output_type": "stream",
          "name": "stdout",
          "text": [
            "[['Round 1', 'HNB', 'NBB', 'VSS', 'DRA', 'KPB', 'HTC', 'CHE'], ['Round 2', 'NBB', 'DRA', 'HNB', 'HTC', 'VSS', 'CHE', 'KPB'], ['Round 3', 'DRA', 'HTC', 'NBB', 'CHE', 'HNB', 'KPB', 'VSS'], ['Round 4', 'CHE', 'HTC', 'KPB', 'DRA', 'VSS', 'NBB', 'HNB'], ['Round 5', 'KPB', 'CHE', 'VSS', 'HTC', 'HNB', 'DRA', 'NBB'], ['Round 6', 'VSS', 'KPB', 'HNB', 'CHE', 'NBB', 'HTC', 'DRA'], ['Round 7', 'HNB', 'VSS', 'NBB', 'KPB', 'DRA', 'CHE', 'HTC']]\n"
          ]
        }
      ]
    },
    {
      "cell_type": "code",
      "source": [
        "# Diplay a download button:\n",
        "display(HTML(f'<a style=\"font-size: 30px\" download=\"test_output.pdf\" href=\"data:application/pdf;base64,{base64_pdf}\">Click to download PDF</a>'))"
      ],
      "metadata": {
        "colab": {
          "base_uri": "https://localhost:8080/",
          "height": 54
        },
        "id": "EfFoOvgwS1Ir",
        "outputId": "d686e005-fa15-43d2-d472-5f892f4ee167"
      },
      "execution_count": 30,
      "outputs": [
        {
          "output_type": "display_data",
          "data": {
            "text/plain": [
              "<IPython.core.display.HTML object>"
            ],
            "text/html": [
              "<a style=\"font-size: 30px\" download=\"test_output.pdf\" href=\"data:application/pdf;base64,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\">Click to download PDF</a>"
            ]
          },
          "metadata": {}
        }
      ]
    },
    {
      "cell_type": "code",
      "source": [
        "stop here"
      ],
      "metadata": {
        "id": "rvXWhkDebPmM"
      },
      "execution_count": null,
      "outputs": []
    },
    {
      "cell_type": "markdown",
      "source": [
        " Prelim Analysis"
      ],
      "metadata": {
        "id": "iKG1VUXVdJTn"
      }
    },
    {
      "cell_type": "markdown",
      "source": [
        "# Playoff Scheduler"
      ],
      "metadata": {
        "id": "_YfbhDePdJTn"
      }
    },
    {
      "cell_type": "markdown",
      "source": [
        "# Playoff PDF Writer"
      ],
      "metadata": {
        "id": "eexAPF__dJTn"
      }
    },
    {
      "cell_type": "markdown",
      "source": [
        "# Superplayoff Scheduler"
      ],
      "metadata": {
        "id": "Qb5McvXKdPxF"
      }
    },
    {
      "cell_type": "markdown",
      "source": [
        "# Superplayoff PDF Writer "
      ],
      "metadata": {
        "id": "--DoUNDedPuN"
      }
    },
    {
      "cell_type": "markdown",
      "source": [
        "# NSC Scheduler"
      ],
      "metadata": {
        "id": "b3l5IrdtdrTf"
      }
    },
    {
      "cell_type": "markdown",
      "source": [
        "# *** Workspace below this point ***"
      ],
      "metadata": {
        "id": "qagHkeo1VeeJ"
      }
    },
    {
      "cell_type": "markdown",
      "source": [
        "\n",
        "\n",
        "---\n",
        "\n"
      ],
      "metadata": {
        "id": "_k8_duRuVhG4"
      }
    },
    {
      "cell_type": "markdown",
      "source": [
        "# Importing csv files from Github\n",
        "This will be useful later when grabbing templates for the scheduling functions.\n",
        "\n",
        "For more info on loading external files into Colabs, see [this article](https://towardsdatascience.com/7-ways-to-load-external-data-into-google-colab-7ba73e7d5fc7)."
      ],
      "metadata": {
        "id": "rLwWCJ3lixKD"
      }
    },
    {
      "cell_type": "code",
      "source": [
        "filename = 'templates/rr_schedules/rr_10.xlsx'\n",
        "\n",
        "df = pd.read_csv('https://raw.githubusercontent.com/victorprieto2265/cornerstone/main/archive/brackets.csv')\n",
        "\n",
        "# get_all_values gives a list of rows.\n",
        "print(df)"
      ],
      "metadata": {
        "id": "-Wd7s6KAj9it"
      },
      "execution_count": null,
      "outputs": []
    },
    {
      "cell_type": "markdown",
      "source": [
        "What about uploading excel files? Will that work?"
      ],
      "metadata": {
        "id": "8iW6m7Oz0w52"
      }
    },
    {
      "cell_type": "code",
      "source": [
        "url = \"https://github.com/victorprieto2265/cornerstone/blob/main/templates/rr_schedules/rr_templates.xlsx?raw=true\"\n",
        "db=pd.read_excel(url, sheet_name=None)\n",
        "\n",
        "print(type(db))\n",
        "print(db.keys())"
      ],
      "metadata": {
        "id": "Kd83cUbR00zf"
      },
      "execution_count": null,
      "outputs": []
    },
    {
      "cell_type": "markdown",
      "source": [
        "# Compiling latex files (incomplete)"
      ],
      "metadata": {
        "id": "UCnmv2_eVvjP"
      }
    },
    {
      "cell_type": "markdown",
      "source": [
        "Load a sample Latex file from my github repo. In this case, it's team index, which does not have any QR codes."
      ],
      "metadata": {
        "id": "tXq_OSEUWkBH"
      }
    },
    {
      "cell_type": "code",
      "source": [
        "import base64\n",
        "import requests\n",
        "\n",
        "url = 'https://raw.githubusercontent.com/victorprieto2265/cornerstone/main/output/prelim_team_index.tex'\n",
        "\n",
        "req = requests.get(url)\n",
        "req = req.text"
      ],
      "metadata": {
        "id": "6LUaIVrQV-nW"
      },
      "execution_count": null,
      "outputs": []
    },
    {
      "cell_type": "code",
      "source": [
        "from pdflatex import PDFLaTeX\n",
        "from google.colab import drive\n",
        "drive.mount('/content/drive')"
      ],
      "metadata": {
        "id": "sEhER_lVX-Pg"
      },
      "execution_count": null,
      "outputs": []
    },
    {
      "cell_type": "code",
      "source": [
        "filename = 'prelim_team_index.tex'\n",
        "with open(f'/content/drive/My Drive/{filename}', 'w') as f:\n",
        "  f.write(req)\n",
        "!cat /content/drive/My\\ Drive/prelim_team_index.tex"
      ],
      "metadata": {
        "id": "AnU54_nSbHHa"
      },
      "execution_count": null,
      "outputs": []
    },
    {
      "cell_type": "code",
      "source": [
        "!sudo apt install cm-super dvipng texlive-latex-extra texlive-latex-recommended"
      ],
      "metadata": {
        "id": "Nv7ztIeVbVxV"
      },
      "execution_count": null,
      "outputs": []
    },
    {
      "cell_type": "code",
      "source": [
        "!pip install pdflatex\n",
        "from pdflatex import PDFLaTeX\n",
        "pdfl = PDFLaTeX.from_texfile(req)\n",
        "pdf, log, completed_process = pdfl.create_pdf(keep_pdf_file=True, keep_log_file=False)\n"
      ],
      "metadata": {
        "id": "8F3Yx_Tca_2V"
      },
      "execution_count": null,
      "outputs": []
    },
    {
      "cell_type": "code",
      "source": [
        "# drive.flush_and_unmount()"
      ],
      "metadata": {
        "id": "M32Sg87hcZDZ"
      },
      "execution_count": null,
      "outputs": []
    }
  ]
}