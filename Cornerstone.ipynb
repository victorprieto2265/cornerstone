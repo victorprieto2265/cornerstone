{
  "nbformat": 4,
  "nbformat_minor": 0,
  "metadata": {
    "colab": {
      "provenance": [],
      "toc_visible": true,
      "collapsed_sections": [
        "--DoUNDedPuN",
        "b3l5IrdtdrTf",
        "qagHkeo1VeeJ",
        "rLwWCJ3lixKD"
      ],
      "authorship_tag": "ABX9TyOYBMgxyJ58Ue6Pm+OKTpAR",
      "include_colab_link": true
    },
    "kernelspec": {
      "name": "python3",
      "display_name": "Python 3"
    },
    "language_info": {
      "name": "python"
    }
  },
  "cells": [
    {
      "cell_type": "markdown",
      "metadata": {
        "id": "view-in-github",
        "colab_type": "text"
      },
      "source": [
        "<a href=\"https://colab.research.google.com/github/victorprieto2265/cornerstone/blob/main/Cornerstone.ipynb\" target=\"_parent\"><img src=\"https://colab.research.google.com/assets/colab-badge.svg\" alt=\"Open In Colab\"/></a>"
      ]
    },
    {
      "cell_type": "markdown",
      "source": [
        "# TODO + RFE\n",
        "\n"
      ],
      "metadata": {
        "id": "IwJ6m76Ee1va"
      }
    },
    {
      "cell_type": "markdown",
      "source": [
        "TODO\n",
        "\n",
        "* Import computer modern typeface for use (consider open sans or interstate as an alternative).\n",
        "* Detect and split up tables that run over multiple pages (likely documents other than individual schedules for any 32+ team tournaments).\n",
        "* Qr_toggle keeps returning as false despite being updated differently in prelims_input, can't figure out the github new file issue!\n",
        "* Write new error check for duplicates and length limits. The old one is currently commented out.\n",
        "* There's an encoding problem for text: FPDF2 only accepts Latin-1, and I don't know enough around encoding except to tell users not to use anything outside Latin-1. Notably, an em dash and an ellipsis character will cause an encoding problem (the latter is what led me to identify this problem). This could affect all text inputs anywhere, not just individual text schedule inputs.\n",
        "\n",
        "RFE\n",
        "\n",
        "* Someone has pointed out 3-letter team codes are unnecessary for everything outside of the complete schedule. It's included in the team index, but not actually used in any documents other than the complete schedule. After Cornerstone has been in use for some time, re-evaluate the necessity of the 3-letter code, and correspondingly the complete schedule.\n",
        " * Cornerstone relies on 3-letter codes for a lot of functions. To avoid rewriting half the program, instead assign a unique short string to each team upon input - for instance, T1 through Tn would be fine.\n",
        "* In class definition for individual room schedules, add a row for score confirmation + signature.\n"
      ],
      "metadata": {
        "id": "QEwWOlwXfE0H"
      }
    },
    {
      "cell_type": "markdown",
      "source": [
        "\n",
        "# Import modules / libraries"
      ],
      "metadata": {
        "id": "LxPWT_oriuCh"
      }
    },
    {
      "cell_type": "code",
      "source": [
        "!pip install fpdf2\n",
        "!pip install qrcode\n",
        "\n",
        "import sys\n",
        "import pandas as pd\n",
        "import warnings\n",
        "warnings.simplefilter('default', DeprecationWarning)\n",
        "from fpdf import FPDF\n",
        "import fpdf\n",
        "from base64 import b64encode\n",
        "import IPython\n",
        "from IPython.display import display, HTML\n",
        "import qrcode"
      ],
      "metadata": {
        "id": "pl18nTJ1uVlv",
        "colab": {
          "base_uri": "https://localhost:8080/"
        },
        "outputId": "30cbade6-88cd-4aed-f55d-0c35ab77e60a",
        "collapsed": true
      },
      "execution_count": 1,
      "outputs": [
        {
          "output_type": "stream",
          "name": "stdout",
          "text": [
            "Looking in indexes: https://pypi.org/simple, https://us-python.pkg.dev/colab-wheels/public/simple/\n",
            "Collecting fpdf2\n",
            "  Downloading fpdf2-2.6.1-py2.py3-none-any.whl (255 kB)\n",
            "\u001b[2K     \u001b[90m━━━━━━━━━━━━━━━━━━━━━━━━━━━━━━━━━━━━━━━\u001b[0m \u001b[32m255.6/255.6 KB\u001b[0m \u001b[31m3.7 MB/s\u001b[0m eta \u001b[36m0:00:00\u001b[0m\n",
            "\u001b[?25hRequirement already satisfied: defusedxml in /usr/local/lib/python3.8/dist-packages (from fpdf2) (0.7.1)\n",
            "Collecting fonttools>=4.34.0\n",
            "  Downloading fonttools-4.38.0-py3-none-any.whl (965 kB)\n",
            "\u001b[2K     \u001b[90m━━━━━━━━━━━━━━━━━━━━━━━━━━━━━━━━━━━━━━\u001b[0m \u001b[32m965.4/965.4 KB\u001b[0m \u001b[31m33.8 MB/s\u001b[0m eta \u001b[36m0:00:00\u001b[0m\n",
            "\u001b[?25hRequirement already satisfied: Pillow!=9.2.*,>=6.2.2 in /usr/local/lib/python3.8/dist-packages (from fpdf2) (7.1.2)\n",
            "Installing collected packages: fonttools, fpdf2\n",
            "Successfully installed fonttools-4.38.0 fpdf2-2.6.1\n",
            "Looking in indexes: https://pypi.org/simple, https://us-python.pkg.dev/colab-wheels/public/simple/\n",
            "Collecting qrcode\n",
            "  Downloading qrcode-7.4.2-py3-none-any.whl (46 kB)\n",
            "\u001b[2K     \u001b[90m━━━━━━━━━━━━━━━━━━━━━━━━━━━━━━━━━━━━━━━━\u001b[0m \u001b[32m46.2/46.2 KB\u001b[0m \u001b[31m3.2 MB/s\u001b[0m eta \u001b[36m0:00:00\u001b[0m\n",
            "\u001b[?25hCollecting pypng\n",
            "  Downloading pypng-0.20220715.0-py3-none-any.whl (58 kB)\n",
            "\u001b[2K     \u001b[90m━━━━━━━━━━━━━━━━━━━━━━━━━━━━━━━━━━━━━━━━\u001b[0m \u001b[32m58.1/58.1 KB\u001b[0m \u001b[31m4.6 MB/s\u001b[0m eta \u001b[36m0:00:00\u001b[0m\n",
            "\u001b[?25hRequirement already satisfied: typing-extensions in /usr/local/lib/python3.8/dist-packages (from qrcode) (4.4.0)\n",
            "Installing collected packages: pypng, qrcode\n",
            "Successfully installed pypng-0.20220715.0 qrcode-7.4.2\n"
          ]
        }
      ]
    },
    {
      "cell_type": "markdown",
      "source": [
        "# Cornerstone Input\n",
        "\n",
        "This section imports all of the input files, except tournament format,\n",
        "which is handled by the tournament_format script.\n",
        "\n",
        "TODO uncomment sys.exit at end of this script for testing\n",
        "\n",
        "TODO figure out how to handle blank spaces and/or none in input file...\n",
        "There was an unusual error where integers were being converted to floats\n",
        "if one of the cells in a range was empty instead of string 'none'.\n",
        "\n",
        "TODO apparently bracket names (and presumably other things) are case-sensitive.\n",
        "\n",
        "TODO currently a global variable for checking for errors, which is a no no?\n"
      ],
      "metadata": {
        "id": "jaurrPCkdJTm"
      }
    },
    {
      "cell_type": "code",
      "source": [
        "error = 0\n",
        "\n",
        "# checks for duplicates and (optional) character limits\n",
        "def error_check(alist, listname, max_length=float('inf'), max_duplicates=1):\n",
        "    global error  # TODO this is apparently a no no, but works for now\n",
        "    print('\\n')\n",
        "    # duplicate checker\n",
        "    seen = {}\n",
        "    duplicates = []\n",
        "    for item in alist:\n",
        "        if item not in seen:\n",
        "            seen[item] = 1\n",
        "        else:\n",
        "            seen[item] += 1\n",
        "            if seen[item] > max_duplicates:\n",
        "                duplicates.append(' - ' + str(item))\n",
        "    if not duplicates:\n",
        "        if max_duplicates > 1:\n",
        "            print(f'No excess duplicates detected for {listname}.')\n",
        "        else:\n",
        "            print(f'No duplicates detected for {listname}.')\n",
        "    else:\n",
        "        # error = True\n",
        "        error += 1\n",
        "        print(f'\\nDuplicates detected for {listname}:')\n",
        "        print(*duplicates, sep='\\n')\n",
        "\n",
        "    # character length checker\n",
        "    long_items = [' - ' + item for item in alist if len(item) > max_length]\n",
        "    if not long_items:\n",
        "        print(f'No character lengths exceeded for {listname}.')\n",
        "    else:\n",
        "        error += 1\n",
        "        # error = True\n",
        "        print(f'Character lengths exceeded for {listname}:')\n",
        "        print(*long_items, sep='\\n')"
      ],
      "metadata": {
        "id": "Hd9MUoAjgvDO"
      },
      "execution_count": 2,
      "outputs": []
    },
    {
      "cell_type": "markdown",
      "source": [
        "Function definition: analyze sheet and generate list from pandas dataframe."
      ],
      "metadata": {
        "id": "_Jl-_l1RkTvk"
      }
    },
    {
      "cell_type": "code",
      "source": [
        "def analyze_input(sheet_name, df_dict):\n",
        "    df = df_dict[sheet_name]\n",
        "    temp_list = df.values.tolist()  # note: temp_list may be multiple lists!\n",
        "    return temp_list"
      ],
      "metadata": {
        "id": "fwaKQucMkRJT"
      },
      "execution_count": 3,
      "outputs": []
    },
    {
      "cell_type": "markdown",
      "source": [
        "---\n",
        "\n",
        "Upload the prelims_data excel spreadsheet from local computer, and create dictionary containing the sheet name and each dataframe.\n",
        "\n",
        "TODO For now, this is commented out. While testing Cornerstone as I'm porting over to Colab, I will be directly pulling the excel file from a dedicated location in github."
      ],
      "metadata": {
        "id": "QIwjrPCFjYas"
      }
    },
    {
      "cell_type": "code",
      "source": [
        "from google.colab import files\n",
        "file_upload = files.upload()\n",
        "file_upload = list(file_upload.keys())[0]\n",
        "\n",
        "sheet_names = ['tournament format', 'list of teams', 'team codes',\n",
        "                'group names', 'room assignments',\n",
        "                'QR codes', 'text input']\n",
        "df_dict_prelim = pd.read_excel(file_upload,\n",
        "                               sheet_name=sheet_names)"
      ],
      "metadata": {
        "id": "xysCWCW7g83a",
        "colab": {
          "base_uri": "https://localhost:8080/",
          "height": 90
        },
        "collapsed": true,
        "outputId": "b58262a0-6dc1-43c1-e7a8-4e087049b3e0"
      },
      "execution_count": 4,
      "outputs": [
        {
          "output_type": "display_data",
          "data": {
            "text/plain": [
              "<IPython.core.display.HTML object>"
            ],
            "text/html": [
              "\n",
              "     <input type=\"file\" id=\"files-63ab0df3-4a19-4e47-b28d-cb9a771d1dd2\" name=\"files[]\" multiple disabled\n",
              "        style=\"border:none\" />\n",
              "     <output id=\"result-63ab0df3-4a19-4e47-b28d-cb9a771d1dd2\">\n",
              "      Upload widget is only available when the cell has been executed in the\n",
              "      current browser session. Please rerun this cell to enable.\n",
              "      </output>\n",
              "      <script>// Copyright 2017 Google LLC\n",
              "//\n",
              "// Licensed under the Apache License, Version 2.0 (the \"License\");\n",
              "// you may not use this file except in compliance with the License.\n",
              "// You may obtain a copy of the License at\n",
              "//\n",
              "//      http://www.apache.org/licenses/LICENSE-2.0\n",
              "//\n",
              "// Unless required by applicable law or agreed to in writing, software\n",
              "// distributed under the License is distributed on an \"AS IS\" BASIS,\n",
              "// WITHOUT WARRANTIES OR CONDITIONS OF ANY KIND, either express or implied.\n",
              "// See the License for the specific language governing permissions and\n",
              "// limitations under the License.\n",
              "\n",
              "/**\n",
              " * @fileoverview Helpers for google.colab Python module.\n",
              " */\n",
              "(function(scope) {\n",
              "function span(text, styleAttributes = {}) {\n",
              "  const element = document.createElement('span');\n",
              "  element.textContent = text;\n",
              "  for (const key of Object.keys(styleAttributes)) {\n",
              "    element.style[key] = styleAttributes[key];\n",
              "  }\n",
              "  return element;\n",
              "}\n",
              "\n",
              "// Max number of bytes which will be uploaded at a time.\n",
              "const MAX_PAYLOAD_SIZE = 100 * 1024;\n",
              "\n",
              "function _uploadFiles(inputId, outputId) {\n",
              "  const steps = uploadFilesStep(inputId, outputId);\n",
              "  const outputElement = document.getElementById(outputId);\n",
              "  // Cache steps on the outputElement to make it available for the next call\n",
              "  // to uploadFilesContinue from Python.\n",
              "  outputElement.steps = steps;\n",
              "\n",
              "  return _uploadFilesContinue(outputId);\n",
              "}\n",
              "\n",
              "// This is roughly an async generator (not supported in the browser yet),\n",
              "// where there are multiple asynchronous steps and the Python side is going\n",
              "// to poll for completion of each step.\n",
              "// This uses a Promise to block the python side on completion of each step,\n",
              "// then passes the result of the previous step as the input to the next step.\n",
              "function _uploadFilesContinue(outputId) {\n",
              "  const outputElement = document.getElementById(outputId);\n",
              "  const steps = outputElement.steps;\n",
              "\n",
              "  const next = steps.next(outputElement.lastPromiseValue);\n",
              "  return Promise.resolve(next.value.promise).then((value) => {\n",
              "    // Cache the last promise value to make it available to the next\n",
              "    // step of the generator.\n",
              "    outputElement.lastPromiseValue = value;\n",
              "    return next.value.response;\n",
              "  });\n",
              "}\n",
              "\n",
              "/**\n",
              " * Generator function which is called between each async step of the upload\n",
              " * process.\n",
              " * @param {string} inputId Element ID of the input file picker element.\n",
              " * @param {string} outputId Element ID of the output display.\n",
              " * @return {!Iterable<!Object>} Iterable of next steps.\n",
              " */\n",
              "function* uploadFilesStep(inputId, outputId) {\n",
              "  const inputElement = document.getElementById(inputId);\n",
              "  inputElement.disabled = false;\n",
              "\n",
              "  const outputElement = document.getElementById(outputId);\n",
              "  outputElement.innerHTML = '';\n",
              "\n",
              "  const pickedPromise = new Promise((resolve) => {\n",
              "    inputElement.addEventListener('change', (e) => {\n",
              "      resolve(e.target.files);\n",
              "    });\n",
              "  });\n",
              "\n",
              "  const cancel = document.createElement('button');\n",
              "  inputElement.parentElement.appendChild(cancel);\n",
              "  cancel.textContent = 'Cancel upload';\n",
              "  const cancelPromise = new Promise((resolve) => {\n",
              "    cancel.onclick = () => {\n",
              "      resolve(null);\n",
              "    };\n",
              "  });\n",
              "\n",
              "  // Wait for the user to pick the files.\n",
              "  const files = yield {\n",
              "    promise: Promise.race([pickedPromise, cancelPromise]),\n",
              "    response: {\n",
              "      action: 'starting',\n",
              "    }\n",
              "  };\n",
              "\n",
              "  cancel.remove();\n",
              "\n",
              "  // Disable the input element since further picks are not allowed.\n",
              "  inputElement.disabled = true;\n",
              "\n",
              "  if (!files) {\n",
              "    return {\n",
              "      response: {\n",
              "        action: 'complete',\n",
              "      }\n",
              "    };\n",
              "  }\n",
              "\n",
              "  for (const file of files) {\n",
              "    const li = document.createElement('li');\n",
              "    li.append(span(file.name, {fontWeight: 'bold'}));\n",
              "    li.append(span(\n",
              "        `(${file.type || 'n/a'}) - ${file.size} bytes, ` +\n",
              "        `last modified: ${\n",
              "            file.lastModifiedDate ? file.lastModifiedDate.toLocaleDateString() :\n",
              "                                    'n/a'} - `));\n",
              "    const percent = span('0% done');\n",
              "    li.appendChild(percent);\n",
              "\n",
              "    outputElement.appendChild(li);\n",
              "\n",
              "    const fileDataPromise = new Promise((resolve) => {\n",
              "      const reader = new FileReader();\n",
              "      reader.onload = (e) => {\n",
              "        resolve(e.target.result);\n",
              "      };\n",
              "      reader.readAsArrayBuffer(file);\n",
              "    });\n",
              "    // Wait for the data to be ready.\n",
              "    let fileData = yield {\n",
              "      promise: fileDataPromise,\n",
              "      response: {\n",
              "        action: 'continue',\n",
              "      }\n",
              "    };\n",
              "\n",
              "    // Use a chunked sending to avoid message size limits. See b/62115660.\n",
              "    let position = 0;\n",
              "    do {\n",
              "      const length = Math.min(fileData.byteLength - position, MAX_PAYLOAD_SIZE);\n",
              "      const chunk = new Uint8Array(fileData, position, length);\n",
              "      position += length;\n",
              "\n",
              "      const base64 = btoa(String.fromCharCode.apply(null, chunk));\n",
              "      yield {\n",
              "        response: {\n",
              "          action: 'append',\n",
              "          file: file.name,\n",
              "          data: base64,\n",
              "        },\n",
              "      };\n",
              "\n",
              "      let percentDone = fileData.byteLength === 0 ?\n",
              "          100 :\n",
              "          Math.round((position / fileData.byteLength) * 100);\n",
              "      percent.textContent = `${percentDone}% done`;\n",
              "\n",
              "    } while (position < fileData.byteLength);\n",
              "  }\n",
              "\n",
              "  // All done.\n",
              "  yield {\n",
              "    response: {\n",
              "      action: 'complete',\n",
              "    }\n",
              "  };\n",
              "}\n",
              "\n",
              "scope.google = scope.google || {};\n",
              "scope.google.colab = scope.google.colab || {};\n",
              "scope.google.colab._files = {\n",
              "  _uploadFiles,\n",
              "  _uploadFilesContinue,\n",
              "};\n",
              "})(self);\n",
              "</script> "
            ]
          },
          "metadata": {}
        },
        {
          "output_type": "stream",
          "name": "stdout",
          "text": [
            "Saving prelims_data.xlsx to prelims_data.xlsx\n"
          ]
        }
      ]
    },
    {
      "cell_type": "code",
      "source": [
        "# sheet_names = ['tournament format', 'list of teams', 'team codes',\n",
        "#                 'group names', 'room assignments',\n",
        "#                 'QR codes', 'text input']\n",
        "# url = \"https://github.com/victorprieto2265/cornerstone/blob/main/data%20input/prelims_data.xlsx?raw=true\"\n",
        "# df_dict_prelim = pd.read_excel(url,\n",
        "#                                sheet_name=sheet_names)\n"
      ],
      "metadata": {
        "id": "Y1gg7KUvlGRK"
      },
      "execution_count": 5,
      "outputs": []
    },
    {
      "cell_type": "markdown",
      "source": [
        "Determine phase of the tournament based on import filename."
      ],
      "metadata": {
        "id": "Ym7NjjhXATSB"
      }
    },
    {
      "cell_type": "code",
      "source": [
        "# check to make sure filename has the correct prefix for tournament phase\n",
        "acceptable_file_prefixes = ('prelims', 'playoffs', 'superplayoffs')\n",
        "if not file_upload.startswith(acceptable_file_prefixes):\n",
        "  print('\\nWARNING: filename must start with one of the following:')\n",
        "  for prefix in acceptable_file_prefixes:\n",
        "    print(prefix)\n",
        "  sys.exit()\n",
        "\n",
        "if file_upload.startswith('prelims'):\n",
        "  tournament_phase = 'prelims'\n",
        "elif file_upload.startswith('playoffs'):\n",
        "  tournament_phase = 'playoffs'\n",
        "elif file_upload.startswith('super'):\n",
        "  tournament_phase = 'super'"
      ],
      "metadata": {
        "id": "oLibmsoU-Mv_"
      },
      "execution_count": 6,
      "outputs": []
    },
    {
      "cell_type": "markdown",
      "source": [
        "Using the analyze_input function, create a list from each tab of the spreadsheet corresponding to the relevant information (e.g. a list of room assignments). If in playoffs or superplayoffs, also create the relevant lists there."
      ],
      "metadata": {
        "id": "EvXL0iGwFMH7"
      }
    },
    {
      "cell_type": "code",
      "source": [
        "list_of_teams = analyze_input('list of teams', df_dict_prelim)\n",
        "team_codes = analyze_input('team codes', df_dict_prelim)\n",
        "room_assignments = analyze_input('room assignments', df_dict_prelim)\n",
        "qr_codelist = analyze_input('QR codes', df_dict_prelim)\n",
        "textlist = analyze_input('text input', df_dict_prelim)\n",
        "tournament_format = analyze_input('tournament format', df_dict_prelim)\n",
        "\n",
        "group_names = analyze_input('group names', df_dict_prelim)\n",
        "prelim_group_names = [row[0] for row in group_names]\n",
        "\n",
        "if tournament_phase in ['playoffs', 'super']:\n",
        "    playoff_bracket_names = [row[1] for row in group_names]\n",
        "    playoff_bracket_names = [x for x in playoff_bracket_names\n",
        "                             if str(x) != 'nan']\n",
        "if tournament_phase == 'super':\n",
        "    super_bracket_names = [row[2] for row in group_names]\n",
        "    super_bracket_names = [x for x in super_bracket_names\n",
        "                             if str(x) != 'nan']"
      ],
      "metadata": {
        "id": "3CAhOiL09mfs"
      },
      "execution_count": 7,
      "outputs": []
    },
    {
      "cell_type": "markdown",
      "source": [
        "A dictionary containing general information about the tournament is also generated from the tournament_format sheet.\n",
        "\n",
        "It's necessary to convert the datetime value from excel to a more suitable string before printing."
      ],
      "metadata": {
        "id": "irPSh0zaFwLj"
      }
    },
    {
      "cell_type": "code",
      "source": [
        "format_dict = {}\n",
        "for row in tournament_format:\n",
        "    key = row[0]  # item, e.g. \"tournament name\"\n",
        "    value = row[1]  # input, e.g. \"2022 NSC\"\n",
        "    format_dict[key] = value\n",
        "\n",
        "# convert Excel datetime format to more suitable date string\n",
        "date = format_dict['tournament date'].strftime('%B %d, %Y')\n",
        "format_dict['tournament date'] = date"
      ],
      "metadata": {
        "id": "SNGO4QFRkOZ5"
      },
      "execution_count": 8,
      "outputs": []
    },
    {
      "cell_type": "markdown",
      "source": [
        "Next is the analysis section for the text and QR code inputs. Did the user turn these on? If not, these sections are skipped."
      ],
      "metadata": {
        "id": "8EDjXCXfn9Wd"
      }
    },
    {
      "cell_type": "code",
      "source": [
        "if format_dict['QR codes'] == 'Y':\n",
        "    qr_toggle = True\n",
        "\n",
        "    qr_names = [code[0] for code in qr_codelist]\n",
        "    qr_codes = [code[2] for code in qr_codelist]\n",
        "    qr_captions = [code[3] for code in qr_codelist]\n",
        "\n",
        "else:\n",
        "    qr_toggle = False\n",
        "    qr_codes = False\n",
        "    qr_captions = False\n",
        "\n",
        "if format_dict['text'] == 'Y':\n",
        "    text_toggle = True\n",
        "    texts = [text[1] for text in textlist]\n",
        "\n",
        "    # lorem text, delete later\n",
        "    lorem = '''\n",
        "\n",
        "    Lorem ipsum dolor sit amet. Sed iusto reprehenderit ut quis voluptas ea Quis assumenda ut eius magni eum voluptate modi? Id unde libero ad pariatur sunt eos nisi possimus est omnis nisi ut internos laboriosam. Sit nesciunt ducimus et totam maxime est voluptas vero sed itaque nihil. Et expedita culpa et fuga sunt quo esse ipsam eos doloribus autem rem perferendis modi et molestiae vitae.\n",
        "\n",
        "    Sed cumque odio eum temporibus deleniti ad consequatur consequatur aut molestias maiores. Est doloribus tenetur est dolorem ducimus sit quasi provident. Est facere expedita non expedita molestiae non error magnam vel obcaecati debitis et blanditiis reiciendis est cupiditate voluptatem ea soluta consequatur. Qui tempore ipsam eos asperiores aliquid ex unde velit est repellendus temporibus hic quidem assumenda!\n",
        "\n",
        "    Non autem maiores aut reprehenderit nulla sit repellendus dolore ut illum incidunt ut dignissimos eaque! Ex aperiam minima eos quis dolor id consequatur eligendi ut culpa galisum. Non fugiat corporis vel doloremque dignissimos sit vero quasi sed voluptatem explicabo.\n",
        "\n",
        "    '''\n",
        "else:\n",
        "    text_toggle = False\n",
        "    texts = False"
      ],
      "metadata": {
        "id": "cZ3mT363oBcD"
      },
      "execution_count": 9,
      "outputs": []
    },
    {
      "cell_type": "markdown",
      "source": [
        "More dictionary creation here: this time, for team names and team codes.\n",
        "\n",
        "RFE get rid of team codes if the user is okay with foregoing the complete team schedule in favor of individual team schedules."
      ],
      "metadata": {
        "id": "ozsWkM-bHtSP"
      }
    },
    {
      "cell_type": "code",
      "source": [
        "# key is team name\n",
        "# value is team code\n",
        "# also created a dictionary where the key/value pairs are swapped\n",
        "team_code_dict = {}\n",
        "code_team_dict = {}\n",
        "for row in team_codes:\n",
        "    team_name = row[0]\n",
        "    team_code = row[1]\n",
        "    team_code_dict[team_name] = team_code\n",
        "    code_team_dict[team_code] = team_name\n",
        "\n",
        "# key is prelim group and a number (i.e. Accra1)\n",
        "# value is corresponding room (i.e. Grand Ballroom A is Accra1)\n",
        "# also created dictionary where key is a playoff bracket instead\n",
        "prelim_room_dict = {}\n",
        "playoff_room_dict = {}\n",
        "super_room_dict = {}\n",
        "for i in room_assignments:\n",
        "    key = i[1] + str(i[2])\n",
        "    value = i[0]\n",
        "    if tournament_phase == 'prelims':\n",
        "        prelim_room_dict[key] = value\n",
        "    elif tournament_phase == 'playoffs':\n",
        "        playoff_room_dict[key] = value\n",
        "    elif tournament_phase == 'super':\n",
        "        super_room_dict[key] = value"
      ],
      "metadata": {
        "id": "zCCyM_MCg-H0"
      },
      "execution_count": 10,
      "outputs": []
    },
    {
      "cell_type": "markdown",
      "source": [
        "Last is the error check section, to see if any of the data submitted by the user was improperly formatted.\n",
        "\n",
        "This whole section needs to be updated... And perhaps distributed elsewhere in the script. It's not working well."
      ],
      "metadata": {
        "id": "dKTcWKPmHfV8"
      }
    },
    {
      "cell_type": "code",
      "source": [
        "# TODO modify max_duplicates to be flexible on schedule and not hard coded\n",
        "# or perhaps get rid of max duplicates since it doesn't make a lot of sense\n",
        "\n",
        "# error_check([sublist[0] for sublist in list_of_teams],\n",
        "#             'the team names in list_of_teams',\n",
        "#             max_length=26)\n",
        "\n",
        "# error_check([sublist[2] for sublist in list_of_teams],\n",
        "#             'the prelim groups in list_of_teams',\n",
        "#             max_length=15,\n",
        "#             )\n",
        "\n",
        "# error_check([sublist[1] for sublist in team_codes],\n",
        "#             'the team codes in team_codes',\n",
        "#             max_length=4)\n",
        "\n",
        "# try:\n",
        "#     error_check(prelim_group_names,\n",
        "#                 'the groups in prelim_group_names',\n",
        "#                 max_length=15)\n",
        "# except:  # TODO bare except\n",
        "#     None\n",
        "\n",
        "# try:\n",
        "#     error_check(playoff_bracket_names,\n",
        "#                 'the brackets in playoff_bracket_names',\n",
        "#                 max_length=15)\n",
        "# except:  # TODO bare except\n",
        "#     None\n",
        "\n",
        "# error_check([sublist[0] for sublist in room_assignments],\n",
        "#             'the list of rooms in room_assignments',\n",
        "#             max_length=15)\n",
        "\n",
        "if error == 0:\n",
        "    print('\\n*** No errors detected upon import. ***')\n",
        "else:\n",
        "    print('\\n*** Errors detected during import! ***')\n",
        "    sys.exit()"
      ],
      "metadata": {
        "id": "DhUxZUHJHehk",
        "colab": {
          "base_uri": "https://localhost:8080/"
        },
        "outputId": "d9827d58-87ff-4e46-d7f2-a521448218f0",
        "collapsed": true
      },
      "execution_count": 11,
      "outputs": [
        {
          "output_type": "stream",
          "name": "stdout",
          "text": [
            "\n",
            "*** No errors detected upon import. ***\n"
          ]
        }
      ]
    },
    {
      "cell_type": "markdown",
      "source": [
        "# Function Definitions"
      ],
      "metadata": {
        "id": "owcZyEiJdJTm"
      }
    },
    {
      "cell_type": "markdown",
      "source": [
        "Function for removing duplicates from a list."
      ],
      "metadata": {
        "id": "uQuJVhmyA3CC"
      }
    },
    {
      "cell_type": "code",
      "source": [
        "def remove_duplicates(alist):\n",
        "    newlist = []\n",
        "    [newlist.append(x) for x in alist if x not in newlist]\n",
        "    return newlist"
      ],
      "metadata": {
        "id": "a81URiBdA7G8"
      },
      "execution_count": 12,
      "outputs": []
    },
    {
      "cell_type": "markdown",
      "source": [
        "original function_definitions.py"
      ],
      "metadata": {
        "id": "EUZolcmPAy4y"
      }
    },
    {
      "cell_type": "code",
      "source": [
        "# import time\n",
        "# import sys\n",
        "# from pathlib import Path\n",
        "# from pylatex import (Document, Tabularx, Command,\n",
        "#                       NewPage, HugeText, Package,\n",
        "#                      VerticalSpace)\n",
        "# from pylatex.utils import NoEscape\n",
        "# from cornerstone_input import format_dict\n",
        "\n",
        "# # place additional modules here\n",
        "\n",
        "# header = \"\"\"\n",
        "\n",
        "# Depository for a bunch of class and function definitions shared across\n",
        "# prelim/playoff scripts.\n",
        "\n",
        "# TODO what if snake seed is fed a list with odd number of teams?\n",
        "\n",
        "# TODO what if qr_count ≠ 3?\n",
        "\n",
        "# Created on Mon Nov 1 13:53:44 2021 Eastern Time\n",
        "\n",
        "# @author: Victor Prieto\n",
        "\n",
        "# \"\"\"\n",
        "\n",
        "\n",
        "# # starts program runtime\n",
        "# start_time = time.time()\n",
        "# print('\\n', header)\n",
        "# print('start time: %s' % time.ctime())\n",
        "\n",
        "# # %% function definitions\n",
        "\n",
        "\n",
        "\n",
        "\n",
        "\n",
        "# def split_list(alist, wanted_parts=1):\n",
        "#     length = len(alist)\n",
        "#     return [alist[i*length // wanted_parts: (i+1)*length // wanted_parts]\n",
        "#             for i in range(wanted_parts)]\n",
        "\n",
        "\n",
        "# def snake_seed(list_of_teams, bracket_count):\n",
        "#     \"\"\"\n",
        "#     Parameters\n",
        "#     ----------\n",
        "#     list_of_teams : list\n",
        "#         A list of teams for reordering into playoff brackets by snake seeding.\n",
        "#     bracket_count : int\n",
        "#         Number of playoff brackets to snake seed across.\n",
        "\n",
        "#     Returns\n",
        "#     -------\n",
        "#     newlist : list\n",
        "#         Same list of teams accepted as input, but reordered by snake seeding.\n",
        "#         The list is also split into the number of playoff brackets.\n",
        "#         Example:\n",
        "#             (1, 2, 3, 4... 23, 24)\n",
        "#             snake seeded across four brackets becomes\n",
        "#             ((1, 8, 9, 16, 17, 24), (2, 7, 10, 15, 18... 12, 13, 20, 21))\n",
        "\n",
        "#     \"\"\"\n",
        "\n",
        "#     # generates sequence of indices for snake seeding\n",
        "#     sequence_length = 2 * bracket_count\n",
        "#     reps = len(list_of_teams) / sequence_length\n",
        "#     sequence = []\n",
        "#     for i in range(0, int(sequence_length/2)):\n",
        "#         for j in range(0, int(reps)):\n",
        "#             sequence.append(i+j*sequence_length)\n",
        "#             sequence.append((sequence_length-1-i)+j*sequence_length)\n",
        "\n",
        "#     # quits program if odd number of teams in list_of_teams\n",
        "#     if (len(list_of_teams)) % 2 == 1:\n",
        "#         print('ODD NUMBER OF TEAMS DETECTED')\n",
        "#         sys.exit()\n",
        "\n",
        "#     # use sequence of indices to generate new list of teams\n",
        "#     newlist = (list_of_teams[index] for index in sequence)\n",
        "#     return newlist\n",
        "\n",
        "\n",
        "# def alternating_rows(doc, color):\n",
        "#     return doc.append(NoEscape(r'\\rowcolors{3}{white}{%s}' % color))\n",
        "\n",
        "\n",
        "# def duplicate_checker(alist):\n",
        "#     seen = set()\n",
        "#     for x in alist:\n",
        "#         if x in seen:\n",
        "#             return True\n",
        "#         seen.add(x)\n",
        "#     return False\n",
        "\n",
        "\n",
        "# def start_latex(filename_input, docname, title=True, fontsize=False):\n",
        "\n",
        "#     Path(\"./output/\").mkdir(parents=True, exist_ok=True)\n",
        "#     file_path = r'./output/'\n",
        "#     Path(file_path).mkdir(parents=True, exist_ok=True)\n",
        "#     filename = file_path + filename_input        \n",
        "    \n",
        "#     geometry_options = {\n",
        "#         \"includeheadfoot\": True\n",
        "#     }\n",
        "\n",
        "#     doc = Document(filename, geometry_options=geometry_options)\n",
        "\n",
        "#     # this changed font sizes, but it doesn't work so well\n",
        "#     if fontsize is True:\n",
        "#         doc = Document(filename_input, geometry_options=geometry_options,\n",
        "#                        font_size='')\n",
        "#         doc.append(Command('fontsize', arguments=['12', '12']))\n",
        "#         doc.append(Command('selectfont'))\n",
        "\n",
        "#     doc.preamble.append(Command('title', format_dict['tournament name']))\n",
        "#     doc.preamble.append(Command('author', format_dict['tournament location']))\n",
        "#     doc.preamble.append(Command('date', format_dict['tournament date']))\n",
        "    \n",
        "#     doc.packages.append(Package('qrcode'))  # add qrcode to packages\n",
        "#     doc.packages.append(Package('fancyhdr'))  # add qrcode to packages\n",
        "\n",
        "#     doc.append(NoEscape(r'\\newcolumntype{Y}{>{\\centering\\arraybackslash}X}'))\n",
        "\n",
        "#     # TODO vertically center docname text on page\n",
        "#     if title is True:\n",
        "#         doc.append(NoEscape(r'\\maketitle'))\n",
        "#         doc.append(VerticalSpace('48pt'))\n",
        "#         doc.append(NoEscape(r'\\begin{center}'))\n",
        "#         doc.append(HugeText(docname))\n",
        "#         doc.append(NoEscape(r'\\end{center}'))\n",
        "#         doc.append(NewPage())\n",
        "    \n",
        "#     doc.append(NoEscape(r'\\pagestyle{fancy}'))\n",
        "#     doc.append(NoEscape(r'\\fancyhf{}'))\n",
        "#     date = '{' + format_dict['tournament date'] + '}'\n",
        "#     name = '{' + format_dict['tournament name'] + '}'\n",
        "#     doc.append(NoEscape(fr'\\rhead{date}'))\n",
        "#     doc.append(NoEscape(fr'\\lhead{name}'))\n",
        "#     doc.append(NoEscape(r'\\rfoot{Created by Cornerstone.}'))\n",
        "        \n",
        "#     return doc\n",
        "\n",
        "\n",
        "# def close_latex(filename_input, doc_input):\n",
        "#     file_path = r'./output/'\n",
        "#     filename = file_path + filename_input\n",
        "#     doc_input.generate_tex()\n",
        "#     doc_input.generate_pdf()\n",
        "\n",
        "#     file = open(filename + '.tex')\n",
        "#     latex_string = file.read()\n",
        "#     bad_string = '\\\\usepackage{lastpage}%'\n",
        "#     good_string = '\\\\usepackage[table]{xcolor}%'\n",
        "#     # print(latex_string)\n",
        "#     latex_string = latex_string.replace(bad_string, good_string)\n",
        "\n",
        "#     # for visual debugging\n",
        "#     # print('\\n\\n', latex_string[0:700], '\\n\\n')\n",
        "\n",
        "#     with open(f'{filename}.tex', 'w') as f:\n",
        "#         f.write(latex_string)\n",
        "\n",
        "\n",
        "# # %% classes, mostly not in use\n",
        "# # TODO figure out class inheritance for team/prelim_team/playoff_team\n",
        "# class team:\n",
        "#     def __init__(self,\n",
        "#                  name,\n",
        "#                  code):\n",
        "#         self.name = name\n",
        "#         self.code = code\n",
        "\n",
        "\n",
        "# class prelim_team(team):\n",
        "#     def __init__(self,\n",
        "#                  name,\n",
        "#                  code,\n",
        "#                  prelim_group,\n",
        "#                  prelim_seed):\n",
        "#         super().__init__(name, code)\n",
        "#         self.prelim_group = prelim_group\n",
        "#         self.prelim_seed = prelim_seed\n",
        "\n",
        "\n",
        "# class playoff_team():\n",
        "#     def __init__(self,\n",
        "#                  name,\n",
        "#                  code,\n",
        "#                  prelim_group,\n",
        "#                  playoff_bracket,\n",
        "#                  playoff_seed):  # playoff seed also the prelim finish\n",
        "#         self.name = name\n",
        "#         self.code = code\n",
        "#         self.prelim_group = prelim_group\n",
        "#         self.playoff_bracket = playoff_bracket\n",
        "#         self.playoff_seed = playoff_seed\n",
        "\n",
        "# # %% more function definitions\n",
        "\n",
        "\n",
        "# def header_stringify(teamcount, tabularx=False):\n",
        "#     \"\"\"\n",
        "\n",
        "#     Parameters\n",
        "#     ----------\n",
        "#     teamcount : int\n",
        "#         Number of teams in the round robin.\n",
        "#     tabularx : bool, optional\n",
        "#         Changes header string to account for newcolumntype Y, used in tabularx.\n",
        "#         The default is False.\n",
        "\n",
        "#     Returns\n",
        "#     -------\n",
        "#     A string for pylatex to use when defining the table.\n",
        "#     Example: '|l|cc|cc|cc|cc|'\n",
        "\n",
        "#     If tabularx is set to True, returns a string that utilizes newcolumntype Y.\n",
        "#     Example: '|l|Y|Y|Y|Y|Y|Y|'\n",
        "\n",
        "#     \"\"\"\n",
        "\n",
        "#     roomcount = teamcount // 2\n",
        "\n",
        "#     header_string = '|l' + ('|cc' * roomcount + '|')\n",
        "#     if teamcount % 2 == 1:\n",
        "#         header_string = header_string + 'c|'\n",
        "\n",
        "#     if tabularx is True:\n",
        "#         header_string = '|l' + ('|Y' * teamcount + '|')\n",
        "\n",
        "#     return header_string\n",
        "\n",
        "\n",
        "# # %% prints runtime\n",
        "# print('end time: %s' % time.ctime())\n",
        "# print(\"--- %s seconds ---\" % '%.3f' % (time.time() - start_time))\n",
        "# print(\"--- %s minutes ---\" % '%.3f' % (time.time()/60 - start_time/60))"
      ],
      "metadata": {
        "id": "83PLhfS0ArVn"
      },
      "execution_count": 13,
      "outputs": []
    },
    {
      "cell_type": "markdown",
      "source": [
        "# Standard Scheduler Function\n",
        "\n",
        "Created on Mon Nov 22 2021\n",
        "\n",
        "Definition of functions used for creating a table for a round robin schedule,\n",
        "between 4 and 14 teams.\n",
        "\n",
        "TODO if possible, fix pylatex table lines and shading in this function"
      ],
      "metadata": {
        "id": "GEJoeZNfdPrN"
      }
    },
    {
      "cell_type": "markdown",
      "source": [
        "First: retrieve the round robin templates stored on the cornerstone github page. The templates will automatically populate a dictionary.\n",
        "\n",
        "Each key is the name of the sheet corresponding to the round robin template: rr_6 is a basic 6 team round robin, rr_12 is for 12 teams, rr_crossover_A8 is the 8 team playoff roundrobin including crossovers (there are two possible crossovers, A and B, based on [Dwight Wynne's spreadsheet of schedule formats](https://https://docs.google.com/spreadsheets/d/1BPF6jFvhkh5qe7eesGFGU9KH6FVps2tS3YeseFocpIE/edit#gid=16)).\n",
        "\n",
        "The dictionary values are the pandas dataframes for each template.\n",
        "\n",
        "These templates will be used in the standard scheduler function and retrieved based on the key name."
      ],
      "metadata": {
        "id": "Q__BsPTWAtPh"
      }
    },
    {
      "cell_type": "code",
      "source": [
        "url = \"https://github.com/victorprieto2265/cornerstone/blob/main/templates/rr_schedules/rr_templates.xlsx?raw=true\"\n",
        "rr_template_dict = pd.read_excel(url,\n",
        "                                 sheet_name = None)\n",
        "rr_template_dict.keys()"
      ],
      "metadata": {
        "colab": {
          "base_uri": "https://localhost:8080/"
        },
        "id": "7FtnKegkiJUy",
        "outputId": "5709fdcb-09a8-4e01-9367-3c86b46c5733",
        "collapsed": true
      },
      "execution_count": 14,
      "outputs": [
        {
          "output_type": "execute_result",
          "data": {
            "text/plain": [
              "dict_keys(['rr_3', 'rr_4', 'rr_5', 'rr_6', 'rr_7', 'rr_8', 'rr_9', 'rr_10', 'rr_11', 'rr_12', 'rr_13', 'rr_14', 'rr_crossover_B3', 'rr_crossover_A6', 'rr_crossover_B6', 'rr_crossover_B7', 'rr_crossover_A8', 'rr_crossover_B8'])"
            ]
          },
          "metadata": {},
          "execution_count": 14
        }
      ]
    },
    {
      "cell_type": "markdown",
      "source": [
        "DONE \n",
        "\n",
        "*  testing of proper schedule retrieval from rr_template_dict\n",
        "\n",
        "TODO\n",
        "\n",
        "*  fix the crossover templates in the excel file, which right now are a mess "
      ],
      "metadata": {
        "id": "szp10lDJkBo2"
      }
    },
    {
      "cell_type": "code",
      "source": [
        "teamcount = 8\n",
        "crossover = 'A'\n",
        "\n",
        "if crossover is False:\n",
        "  key = f'rr_{teamcount}'\n",
        "else:\n",
        "  key = f'rr_crossover_{crossover}{teamcount}'\n",
        "\n",
        "rr_schedule = rr_template_dict[key].values.tolist()\n",
        "\n",
        "print(*rr_schedule, sep='\\n')"
      ],
      "metadata": {
        "id": "xDcLJrurF1zG",
        "colab": {
          "base_uri": "https://localhost:8080/"
        },
        "outputId": "a73dc7ff-96d9-4e60-8783-60a3faf596a5",
        "collapsed": true
      },
      "execution_count": 15,
      "outputs": [
        {
          "output_type": "stream",
          "name": "stdout",
          "text": [
            "['A1', 'B2', 'C1', 'D2', 'B1', 'A2', 'D1', 'C2']\n",
            "['C1', 'A2', 'A1', 'C2', 'D1', 'B2', 'B1', 'D2']\n",
            "['B1', 'C2', 'D1', 'A2', 'A1', 'D2', 'C1', 'B2']\n",
            "['A1', 'D1', 'B2', 'C2', 'B1', 'C1', 'A2', 'D2']\n",
            "['B2', 'D2', 'B1', 'D1', 'A2', 'C2', 'A1', 'C1']\n",
            "['C1', 'D1', 'A1', 'B1', 'C2', 'D2', 'A2', 'B2']\n"
          ]
        }
      ]
    },
    {
      "cell_type": "markdown",
      "source": [
        "Definition of the standard scheduler function is below."
      ],
      "metadata": {
        "id": "rLOCcNtEFpce"
      }
    },
    {
      "cell_type": "code",
      "source": [
        "def standard_schedule(group_name, teamcode_dict, room_dict, roundstart=1,\n",
        "                      crossover=False, superplayoff=False):\n",
        "    \"\"\"\n",
        "\n",
        "\n",
        "    Parameters\n",
        "    ----------\n",
        "    groupname : string\n",
        "        String of the prelim group or playoff bracket name.\n",
        "        Example: Lilongwe\n",
        "    teamcode_dict : dict\n",
        "        k : v = a group/bracket code : teamcode corresponding to that code\n",
        "        example: Lilongwe4 = MBA\n",
        "    room_dict : dict\n",
        "        k : v = a group/bracket code : room corresponding to that code\n",
        "        example: Lilongwe2 = Suite 1132\n",
        "    roundstart : int, optional\n",
        "        Number for the first round in the schedule. The default is 1.\n",
        "\n",
        "    Returns\n",
        "    -------\n",
        "    schedule_grid : list\n",
        "        Latex-friendly table. First row = table header, remaining rows =\n",
        "        schedule for each round.\n",
        "\n",
        "    \"\"\"\n",
        "\n",
        "    # produce teamlist\n",
        "    teamlist = [k for k, v in list(teamcode_dict.items())\n",
        "                if k.startswith(group_name)]\n",
        "    sorted_list = sorted(teamlist)\n",
        "    teamlist = [teamcode_dict[i] for i in sorted_list]\n",
        "\n",
        "    # identify number of teams in teamlist and appropriate number of rooms\n",
        "    teamcount = len(teamlist)\n",
        "    roomcount = teamcount // 2\n",
        "\n",
        "    if len(teamlist) <= 2:\n",
        "      print('Unable to produce round robins smaller than 3.')\n",
        "      sys.exit()\n",
        "\n",
        "    if len(teamlist) >= 15:\n",
        "      print('Unable to produce round robins larger than 14.')\n",
        "      sys.exit()\n",
        "\n",
        "    # retrieve correct rr_template from rr_template_dict\n",
        "    if crossover is False:\n",
        "      key = f'rr_{teamcount}'\n",
        "    else:\n",
        "      key = f'rr_crossover_{crossover}{teamcount}'\n",
        "\n",
        "    rr_schedule = rr_template_dict[key].values.tolist()\n",
        "\n",
        "    # produce roomlist\n",
        "    roomlist = [k for k, v in list(room_dict.items())\n",
        "                if k.startswith(group_name)]\n",
        "    roomlist = [room_dict[i] for i in sorted(roomlist)]\n",
        "\n",
        "    # populate header with room names\n",
        "    rooms = []\n",
        "    header = ['']\n",
        "    for index in range(roomcount):\n",
        "        room = roomlist[index]\n",
        "        header.append(room)\n",
        "\n",
        "    # the last element in the header should be BYE if teamcount is odd\n",
        "    if teamcount % 2 == 1:\n",
        "        header.append('BYE')\n",
        "\n",
        "    # use rr_schedule template and roundstart to produce rest of schedule grid\n",
        "    schedule_grid = [header]\n",
        "    for round_num, row in enumerate(rr_schedule):\n",
        "        round_num += roundstart\n",
        "        new_row = [f'Round {round_num}']\n",
        "        for index in row:\n",
        "            code = group_name + str(index)\n",
        "            team = teamcode_dict[code]\n",
        "            new_row.append(team)\n",
        "        schedule_grid.append(new_row)\n",
        "\n",
        "    return schedule_grid"
      ],
      "metadata": {
        "id": "wlG8swh1trsX"
      },
      "execution_count": 16,
      "outputs": []
    },
    {
      "cell_type": "markdown",
      "source": [
        "# Individual Schedule Functions "
      ],
      "metadata": {
        "id": "5n9ob-8odPkM"
      }
    },
    {
      "cell_type": "markdown",
      "source": [
        "This section contains the functions that extract individual team and room schedules from a schedule grid.\n",
        "\n",
        "Use get_team_list() and get_room_list() to generate a list of teams and a list of rooms from a schedule grid."
      ],
      "metadata": {
        "id": "wS0ljqoELnJq"
      }
    },
    {
      "cell_type": "code",
      "source": [
        "def get_team_list(schedule_grid):\n",
        "    team_list = sorted(schedule_grid[1][1:])\n",
        "    return team_list\n",
        "\n",
        "\n",
        "def get_room_list(schedule_grid):\n",
        "    # remove first element in header, which should be an empty string\n",
        "    header = schedule_grid[0][1:]\n",
        "    \n",
        "    # retrieve room list\n",
        "    room_list = [i for i in header]\n",
        "    if 'BYE' in header:\n",
        "        room_list[-1] = 'BYE'\n",
        "    return room_list"
      ],
      "metadata": {
        "id": "WPJyVdz1Ltml"
      },
      "execution_count": 54,
      "outputs": []
    },
    {
      "cell_type": "markdown",
      "source": [
        "For a given team in a given round, what team do they play and where? Use find_opponent().\n"
      ],
      "metadata": {
        "id": "a7OD0aUxL8W9"
      }
    },
    {
      "cell_type": "code",
      "source": [
        "def find_opponent(team, row, room_list, code_dict):\n",
        "    index = row.index(team)\n",
        "    room = room_list[index]\n",
        "    if row[-1] == team and room_list[-1] == 'BYE':\n",
        "        opponent = 'BYE'\n",
        "    elif index % 2 == 0:\n",
        "        opponent_code = row[index+1]\n",
        "        opponent = code_dict[opponent_code]\n",
        "    else:\n",
        "        opponent_code = row[index-1]\n",
        "        opponent = code_dict[opponent_code]\n",
        "    return room, opponent"
      ],
      "metadata": {
        "id": "KJH6zps2NyoC"
      },
      "execution_count": 55,
      "outputs": []
    },
    {
      "cell_type": "markdown",
      "source": [
        "what teams are in a room at a given round?"
      ],
      "metadata": {
        "id": "7UtVnnn7N2ei"
      }
    },
    {
      "cell_type": "code",
      "source": [
        "def find_teams(row, room, roomlist, code_dict):\n",
        "    index = roomlist.index(room)\n",
        "    teams = row[2*index:2*index+2]\n",
        "    teams = [*map(code_dict.get, teams)]\n",
        "    return sorted(teams)  # alphabetically sorts teams"
      ],
      "metadata": {
        "id": "BqybAya0N24c"
      },
      "execution_count": 56,
      "outputs": []
    },
    {
      "cell_type": "markdown",
      "source": [
        "The clean_up_grid function is sometimes used to remove the header row (room list) and the round number column on the left."
      ],
      "metadata": {
        "id": "uU0U0j32OBUN"
      }
    },
    {
      "cell_type": "code",
      "source": [
        "def clean_up_grid(schedule_grid):\n",
        "    no_header = schedule_grid[1:]\n",
        "    basic_schedule_grid = []\n",
        "    for index, row in enumerate(no_header):\n",
        "        basic_schedule_grid.append(row[1:])\n",
        "\n",
        "    return basic_schedule_grid"
      ],
      "metadata": {
        "id": "kBKx4V4WN98S"
      },
      "execution_count": 57,
      "outputs": []
    },
    {
      "cell_type": "markdown",
      "source": [
        "The specific_team_scheduler function is the key for generating a schedule grid for a single team."
      ],
      "metadata": {
        "id": "cNyCExgmOLlu"
      }
    },
    {
      "cell_type": "code",
      "source": [
        "def specific_team_scheduler(team, schedule_grid, room_list, code_dict,\n",
        "                            round_start=1):\n",
        "    \n",
        "    # generate room_list with duplicated values\n",
        "    # need this for finding an opponent at a particular index\n",
        "    dup_room_list = [room for room in room_list for _ in (0, 1)]\n",
        "\n",
        "    # how many rounds in the grid?\n",
        "    rounds = len(schedule_grid)\n",
        "\n",
        "    specific_grid = [['', 'Room Name', 'Opponent']]\n",
        "    for i in range(0, rounds):\n",
        "        room, opponent = find_opponent(team,\n",
        "                                       schedule_grid[i],\n",
        "                                       dup_room_list,\n",
        "                                       code_dict)\n",
        "\n",
        "        specific_grid.append([f'Round {round_start+i}', room, opponent])\n",
        "\n",
        "    return specific_grid"
      ],
      "metadata": {
        "id": "Ap0lkVL1OOKM"
      },
      "execution_count": 58,
      "outputs": []
    },
    {
      "cell_type": "markdown",
      "source": [
        "Like specific_team_scheduler(), specific_room_scheduler is the key for generating the schedule for an individual room."
      ],
      "metadata": {
        "id": "kD6q752_O-jC"
      }
    },
    {
      "cell_type": "code",
      "source": [
        "def specific_room_scheduler(room, schedule_grid, room_list,\n",
        "                            code_dict, round_start=1):\n",
        "\n",
        "    specific_grid = [['', 'Team 1', 'Team 2']]\n",
        "    for index, row in enumerate(basic_schedule_grid):\n",
        "        teams = find_teams(row, room, room_list, code_dict)\n",
        "        if room == 'BYE':\n",
        "            return 'BYE'\n",
        "        specific_grid.append([f'Round {round_start+index}',\n",
        "                              teams[0], teams[1]])\n",
        "\n",
        "    return specific_grid"
      ],
      "metadata": {
        "id": "xfuyEiYnPG1p"
      },
      "execution_count": 59,
      "outputs": []
    },
    {
      "cell_type": "markdown",
      "source": [
        "# Prelim Scheduler\n",
        "\n",
        "This section reads the list of prelim teams and information from the tournament format dictionary to produce a set of prelim schedules."
      ],
      "metadata": {
        "id": "K4OmpZngcsFP"
      }
    },
    {
      "cell_type": "markdown",
      "source": [
        "dictionary creation\n",
        "\n",
        "prelim group names"
      ],
      "metadata": {
        "id": "Is1C6X6cAbNi"
      }
    },
    {
      "cell_type": "code",
      "source": [
        "prelim_group_names = [sublist[1] for sublist in list_of_teams]\n",
        "prelim_group_names = remove_duplicates(prelim_group_names)\n",
        "\n",
        "# key is a prelim group name and a seed (i.e. Belmopan6)\n",
        "# value is the corresponding team (i.e. Great Valley A for Belmopan6)\n",
        "# also created a dictionary where values are team codes (i.e. GVA)\n",
        "prelim_team_dict = {}\n",
        "prelim_teamcode_dict = {}\n",
        "team_group_dict = {}\n",
        "teamcode_group_dict = {}\n",
        "for i in list_of_teams:\n",
        "    # key = i[2] + str(i[3])\n",
        "    key = i[1] + str(i[2])\n",
        "    value = i[0]  # team name\n",
        "    prelim_team_dict[key] = value\n",
        "    # also created dictionary where k/v pairs are swapped\n",
        "    team_group_dict[value] = key\n",
        "    # value = i[1]  # team code\n",
        "    value = team_code_dict[value]\n",
        "    prelim_teamcode_dict[key] = value\n",
        "    # also created dictionary where k/v pairs are swapped\n",
        "    teamcode_group_dict[value] = key\n",
        "\n",
        "# key is prelim group and a number (i.e. Accra1)\n",
        "# value is corresponding room (i.e. Grand Ballroom A is Accra1)\n",
        "# also created dictionary where key is a playoff bracket instead\n",
        "prelim_room_dict = {}\n",
        "for i in room_assignments:\n",
        "    key = i[1] + str(i[2])\n",
        "    value = i[0]\n",
        "    prelim_room_dict[key] = value"
      ],
      "metadata": {
        "id": "yqDIBPxpAXbJ"
      },
      "execution_count": 60,
      "outputs": []
    },
    {
      "cell_type": "markdown",
      "source": [
        "full schedule grid creation"
      ],
      "metadata": {
        "id": "rAozDnfXAiC6"
      }
    },
    {
      "cell_type": "code",
      "source": [
        "full_schedule_grid = []\n",
        "\n",
        "# perform this process for each prelim group, add to full_schedule_grid\n",
        "for group_name in prelim_group_names:\n",
        "    schedule_grid = (standard_schedule(group_name,\n",
        "                                       prelim_teamcode_dict,\n",
        "                                       prelim_room_dict))\n",
        "    full_schedule_grid.append(schedule_grid)"
      ],
      "metadata": {
        "id": "9Q-DolBuAaJZ"
      },
      "execution_count": 61,
      "outputs": []
    },
    {
      "cell_type": "markdown",
      "source": [
        "To make sure the full_schedule_grid was populated correctly, we'll print it out line by line."
      ],
      "metadata": {
        "id": "2yJI1x6PBUjr"
      }
    },
    {
      "cell_type": "code",
      "source": [
        "# for visual debugging\n",
        "for index, prelim_group in enumerate(prelim_group_names):\n",
        "    print(f'\\nPrelim Group: {prelim_group}')\n",
        "    print(*full_schedule_grid[index], sep='\\n')"
      ],
      "metadata": {
        "id": "Ozt12wMnBT2A",
        "colab": {
          "base_uri": "https://localhost:8080/"
        },
        "outputId": "bdd19b0e-e4bc-4a94-d062-e28cadbfa8f0",
        "collapsed": true
      },
      "execution_count": 62,
      "outputs": [
        {
          "output_type": "stream",
          "name": "stdout",
          "text": [
            "\n",
            "Prelim Group: Spooky\n",
            "['', 'Room 205', 'Room 206', 'Room 207', 'BYE']\n",
            "['Round 1', 'HNB', 'NBB', 'VSS', 'DRA', 'KPB', 'HTC', 'CHE']\n",
            "['Round 2', 'NBB', 'DRA', 'HNB', 'HTC', 'VSS', 'CHE', 'KPB']\n",
            "['Round 3', 'DRA', 'HTC', 'NBB', 'CHE', 'HNB', 'KPB', 'VSS']\n",
            "['Round 4', 'CHE', 'HTC', 'KPB', 'DRA', 'VSS', 'NBB', 'HNB']\n",
            "['Round 5', 'KPB', 'CHE', 'VSS', 'HTC', 'HNB', 'DRA', 'NBB']\n",
            "['Round 6', 'VSS', 'KPB', 'HNB', 'CHE', 'NBB', 'HTC', 'DRA']\n",
            "['Round 7', 'HNB', 'VSS', 'NBB', 'KPB', 'DRA', 'CHE', 'HTC']\n",
            "\n",
            "Prelim Group: Scary\n",
            "['', 'Room 232', 'Room 238', 'Room 239', 'BYE']\n",
            "['Round 1', 'KPC', 'NBA', 'ILT', 'HTB', 'DRB', 'MPB', 'HNA']\n",
            "['Round 2', 'NBA', 'HTB', 'KPC', 'MPB', 'ILT', 'HNA', 'DRB']\n",
            "['Round 3', 'HTB', 'MPB', 'NBA', 'HNA', 'KPC', 'DRB', 'ILT']\n",
            "['Round 4', 'HNA', 'MPB', 'DRB', 'HTB', 'ILT', 'NBA', 'KPC']\n",
            "['Round 5', 'DRB', 'HNA', 'ILT', 'MPB', 'KPC', 'HTB', 'NBA']\n",
            "['Round 6', 'ILT', 'DRB', 'KPC', 'HNA', 'NBA', 'MPB', 'HTB']\n",
            "['Round 7', 'KPC', 'ILT', 'NBA', 'DRB', 'HTB', 'HNA', 'MPB']\n",
            "\n",
            "Prelim Group: Skeletons\n",
            "['', 'Room 240', 'Room 241', 'Room 242', 'BYE']\n",
            "['Round 1', 'KPD', 'MPA', 'HTA', 'PJF', 'WLR', 'HNC', 'WIL']\n",
            "['Round 2', 'MPA', 'PJF', 'KPD', 'HNC', 'HTA', 'WIL', 'WLR']\n",
            "['Round 3', 'PJF', 'HNC', 'MPA', 'WIL', 'KPD', 'WLR', 'HTA']\n",
            "['Round 4', 'WIL', 'HNC', 'WLR', 'PJF', 'HTA', 'MPA', 'KPD']\n",
            "['Round 5', 'WLR', 'WIL', 'HTA', 'HNC', 'KPD', 'PJF', 'MPA']\n",
            "['Round 6', 'HTA', 'WLR', 'KPD', 'WIL', 'MPA', 'HNC', 'PJF']\n",
            "['Round 7', 'KPD', 'HTA', 'MPA', 'WLR', 'PJF', 'WIL', 'HNC']\n"
          ]
        }
      ]
    },
    {
      "cell_type": "markdown",
      "source": [
        "# Class Definitions for fpdf2"
      ],
      "metadata": {
        "id": "A5Qp8Ae2cA7Z"
      }
    },
    {
      "cell_type": "markdown",
      "source": [
        "There are five types of tables that Cornerstone will need to generate:\n",
        "*  the full schedule\n",
        "*  the individualized team schedule\n",
        "*  the individualized room schedule\n",
        "*  the team index (includes toggle for prelims/playoffs/superplayoffs)\n",
        "*  the playoff quickstart schedule (first playoff room for all teams)\n",
        "\n",
        "The last one will not be needed for the prelim writer, but will be necessary for playoffs (and superplayoffs if needed).\n",
        "\n",
        "For all of these tables, we will create a unique class via fpdf2 for writing the table onto a PDF. These five classes are at the bottom of this section. First, we will define a few templates used across the printed documents:\n",
        "\n",
        "*  the title page\n",
        "*  the header\n",
        "*  the footer\n"
      ],
      "metadata": {
        "id": "6_mFRVFAcFY9"
      }
    },
    {
      "cell_type": "markdown",
      "source": [
        "First is the title page to start each document. A nice touch, albeit not 100% necessary and may add a toggle for this later.\n",
        "\n",
        "Important: this is the first instance of the PDF class. Therefore, the argument is FPDF, while all other later class instances have PDF instead to build on the existing class."
      ],
      "metadata": {
        "id": "580yHo0SklgX"
      }
    },
    {
      "cell_type": "code",
      "source": [
        "class PDF(FPDF):\n",
        "\n",
        "    def title_page(self, tournament_name, tournament_location, tournament_date,\n",
        "                   document_title):\n",
        "                \n",
        "        # Setting font: bold times 11, black\n",
        "        self.set_text_color(0)\n",
        "\n",
        "        # move cursor 6.2 cm down the page\n",
        "        self.set_y(62)\n",
        "\n",
        "        # write the tournament name, location, and date\n",
        "        self.set_font(\"times\", size=16)\n",
        "        self.cell(0, None, tournament_name, align=\"C\",\n",
        "                  new_x=\"LEFT\", new_y=\"NEXT\")\n",
        "        self.ln(10)  # line break\n",
        "\n",
        "        self.set_font(\"times\", size=12)\n",
        "        self.cell(0, None, tournament_location, align=\"C\")\n",
        "        self.ln(10)  # line break\n",
        "        self.cell(0, None, tournament_date, align=\"C\")\n",
        "        self.ln(45)  # line break\n",
        "\n",
        "        self.set_font(\"times\", size=24)\n",
        "        self.cell(0, None, document_title, align=\"C\")"
      ],
      "metadata": {
        "id": "N2BgXfyLkzy7"
      },
      "execution_count": 63,
      "outputs": []
    },
    {
      "cell_type": "code",
      "source": [
        "class PDF(PDF):\n",
        "\n",
        "    def page_header(self, tournament_name, tournament_date):\n",
        "                \n",
        "        # Setting font: bold times 11\n",
        "        font_size = 11\n",
        "        self.set_font(\"times\", style=\"I\", size=font_size)\n",
        "\n",
        "        # Print tournament name in upper left:\n",
        "        self.cell(None, 2, tournament_name, new_x=\"LEFT\")\n",
        "\n",
        "        # Create empty cell with bottom border (can modify for centered text)\n",
        "        self.cell(0, None, \" \", \"B\", align=\"C\")\n",
        "\n",
        "        # Print tournament date in upper right\n",
        "        self.cell(0, 2, tournament_date, align=\"R\")\n",
        "\n",
        "        # Performing a line break:\n",
        "        self.ln(20)\n",
        "\n",
        "    def page_footer(self):\n",
        "        \n",
        "        # # putting in a logo:\n",
        "        # self.image(\"../docs/fpdf2-logo.png\", 10, 8, 33)\n",
        "        \n",
        "        # Position cursor at left and 26.04 cm from bottom:\n",
        "        # self.set_y(0, 260.4)\n",
        "        self.set_y(-27)\n",
        "\n",
        "        # Setting font: times italic 11\n",
        "        font_size = 11\n",
        "        self.set_text_color(0)\n",
        "        self.set_font(\"times\", style=\"I\", size=font_size)\n",
        "        \n",
        "        # Print footer text:\n",
        "        self.cell(0, 6, \"Created by Cornerstone\", border=\"B\", align=\"R\")\n"
      ],
      "metadata": {
        "id": "m_slBLE2dOK0"
      },
      "execution_count": 64,
      "outputs": []
    },
    {
      "cell_type": "markdown",
      "source": [
        "## Prelims - Complete Schedule"
      ],
      "metadata": {
        "id": "T3jjXFPX1gTK"
      }
    },
    {
      "cell_type": "markdown",
      "source": [
        "This class generates the tables used for the full schedule."
      ],
      "metadata": {
        "id": "uX138nHO9JVN"
      }
    },
    {
      "cell_type": "code",
      "source": [
        "class PDF(PDF):\n",
        "\n",
        "    def full_schedule(self, header, rows,\n",
        "                      header_color=(135, 135, 135), row_color=(210, 210, 210)):\n",
        "      \n",
        "      header_count = len(header)\n",
        "      if header[-1] == 'BYE':\n",
        "        cell_count = header_count * 2 - 2\n",
        "      else:\n",
        "        cell_count = header_count * 2 - 1\n",
        "      col_width = pdf.epw / cell_count  # distribute columns evenly\n",
        "\n",
        "      header_widths = [col_width * 2] * (header_count - 2)  # populate list with col widths\n",
        "      header_widths.insert(0, col_width)\n",
        "      header_widths.append(col_width)\n",
        "\n",
        "      cell_widths = [col_width] * cell_count\n",
        "\n",
        "      self.set_fill_color(*header_color)  # * required to unpack tuple\n",
        "      self.set_text_color(255)\n",
        "      self.set_draw_color(36, 36, 36)\n",
        "      self.set_line_width(0.3)\n",
        "      self.set_font(style=\"B\")\n",
        "      for col_width, heading in zip(header_widths, header):\n",
        "          self.cell(col_width, 7, heading, border=1, align=\"C\", fill=True)\n",
        "      self.ln()\n",
        "\n",
        "      # Color and font restoration:\n",
        "      self.set_fill_color(*row_color)  # * required to unpack tuple\n",
        "      self.set_text_color(0)\n",
        "      self.set_font()\n",
        "      fill = False\n",
        "      for row in rows:\n",
        "        for index, item in enumerate(row):          \n",
        "          if index == 0:\n",
        "            self.set_font(style=\"B\")\n",
        "          else:\n",
        "            self.set_font()\n",
        "          self.cell(cell_widths[index],\n",
        "                    7,\n",
        "                    item,\n",
        "                    border=\"LR\",\n",
        "                    align=\"C\",\n",
        "                    fill=fill)\n",
        "        self.ln()\n",
        "        fill = not fill\n",
        "        # self.cell(sum(col_widths), 0, \"\", \"T\")  # this was in the original but broke things so it's commented out for now\n",
        "\n",
        "      self.set_fill_color(*header_color)  # * required to unpack tuple\n",
        "      self.set_text_color(255)\n",
        "      self.set_draw_color(36, 36, 36)\n",
        "      self.set_line_width(0.3)\n",
        "      self.set_font(style=\"B\")\n",
        "      for col_width, heading in zip(header_widths, header):\n",
        "          self.cell(col_width, 7, heading, border=1, align=\"C\", fill=True)\n",
        "\n",
        "      self.ln(14)"
      ],
      "metadata": {
        "id": "2sXgrSqj4QQz"
      },
      "execution_count": 65,
      "outputs": []
    },
    {
      "cell_type": "markdown",
      "source": [
        "## Prelims - Individual Schedule"
      ],
      "metadata": {
        "id": "Lsvgg3XgLlT9"
      }
    },
    {
      "cell_type": "markdown",
      "source": [
        "This class is used to generate the tables for individual team and room schedules, which are nearly identical except the room schedules will have a confirmation box for team scores and signatures."
      ],
      "metadata": {
        "id": "wvG1_G3o8wDb"
      }
    },
    {
      "cell_type": "code",
      "source": [
        "class PDF(PDF):\n",
        "\n",
        "    def individual_schedule(self, header, rows, signature=False,\n",
        "                      header_color=(135, 135, 135), row_color=(210, 210, 210)):\n",
        "\n",
        "      # start table at 15.45, draw cells 33 + 66 + 66 for each column\n",
        "      # right margin will also be 15.45\n",
        "\n",
        "      self.set_x(25.45)\n",
        "      cell_widths = [33, 66, 66]\n",
        "\n",
        "      self.set_fill_color(*header_color)  # * required to unpack tuple\n",
        "      self.set_text_color(255)\n",
        "      self.set_draw_color(36, 36, 36)\n",
        "      self.set_line_width(0.3)\n",
        "      self.set_font(style=\"B\")\n",
        "      for cell_width, heading in zip(cell_widths, header):\n",
        "          self.cell(cell_width, 8, heading, border=1, align=\"C\", fill=True)\n",
        "      self.ln()\n",
        "      self.set_x(25.45)\n",
        "\n",
        "      # Color and font restoration:\n",
        "      self.set_fill_color(*row_color)  # * required to unpack tuple\n",
        "      self.set_text_color(0)\n",
        "      self.set_font()\n",
        "      fill = False\n",
        "      for row in rows:\n",
        "        for index, item in enumerate(row):          \n",
        "          if index == 0:\n",
        "            self.set_font(style=\"B\")\n",
        "          else:\n",
        "            self.set_font()\n",
        "          self.cell(cell_widths[index],\n",
        "                    8,\n",
        "                    item,\n",
        "                    border=\"LR\",\n",
        "                    align=\"C\",\n",
        "                    fill=fill)\n",
        "        fill = not fill  # I am pretty sure this is what alternates row colors!\n",
        "\n",
        "        self.ln()\n",
        "        self.set_x(25.45)\n",
        "\n",
        "        # RFE add row for team score + signature confirmation\n",
        "        if signature == True:\n",
        "          pass\n",
        "\n",
        "      self.set_fill_color(*header_color)  # * required to unpack tuple\n",
        "      self.set_text_color(255)\n",
        "      self.set_draw_color(36, 36, 36)\n",
        "      self.set_line_width(0.3)\n",
        "      self.set_font(style=\"B\")\n",
        "      for cell_width, heading in zip(cell_widths, header):\n",
        "          self.cell(cell_width, 8, heading, border=1, align=\"C\", fill=True)\n",
        "\n",
        "      self.ln(14)"
      ],
      "metadata": {
        "id": "HEELLKhcL8_O"
      },
      "execution_count": 66,
      "outputs": []
    },
    {
      "cell_type": "markdown",
      "source": [
        "# Prelim PDF Writer"
      ],
      "metadata": {
        "id": "-G75IfqqdJTn"
      }
    },
    {
      "cell_type": "markdown",
      "source": [
        "First to generate: full prelim schedule for all teams, all rooms."
      ],
      "metadata": {
        "id": "dpuJ3YH8Px9l"
      }
    },
    {
      "cell_type": "code",
      "source": [
        "pdf = PDF(format=\"letter\")  # default is A4, need to specify US letter\n",
        "\n",
        "# title page\n",
        "pdf.add_page()\n",
        "\n",
        "pdf.title_page(format_dict['tournament name'],\n",
        "               format_dict['tournament location'],\n",
        "               format_dict['tournament date'],\n",
        "               \"Prelims - Complete Schedule\")\n",
        "\n",
        "# full schedule page\n",
        "pdf.add_page()\n",
        "\n",
        "pdf.page_header(format_dict['tournament name'],\n",
        "                format_dict['tournament date'])\n",
        "\n",
        "for index, grid in enumerate(full_schedule_grid):\n",
        "  \n",
        "  header = grid[0]\n",
        "  schedule = grid[1:]\n",
        "  pdf.full_schedule(header, schedule)\n",
        "\n",
        "pdf.page_footer()\n",
        "\n",
        "pdf.output(\"full_prelim_schedule.pdf\")\n",
        "pdf_bytes = pdf.output()\n",
        "full_prelim_schedule = b64encode(pdf_bytes).decode(\"utf-8\")"
      ],
      "metadata": {
        "id": "wqJPg3lP4pq8"
      },
      "execution_count": 67,
      "outputs": []
    },
    {
      "cell_type": "markdown",
      "source": [
        "Next, we'll generate the individualized team schedules."
      ],
      "metadata": {
        "id": "Xpwa3vsEQC4E"
      }
    },
    {
      "cell_type": "code",
      "source": [
        "pdf = PDF(format=\"letter\")  # default is A4, need to specify US letter\n",
        "\n",
        "# title page\n",
        "pdf.add_page()\n",
        "\n",
        "pdf.title_page(format_dict['tournament name'],\n",
        "               format_dict['tournament location'],\n",
        "               format_dict['tournament date'],\n",
        "               \"Prelims - Individual Team Schedules\")\n",
        "\n",
        "# sort list of teams alphabetically, so documents easier to distribute\n",
        "list_of_teams = sorted(list_of_teams, key=lambda x: (x[0]))\n",
        "\n",
        "for team in list_of_teams:\n",
        "\n",
        "  # iterate through schedule grids. Is the team in that grid?\n",
        "  for index, schedule_grid in enumerate(full_schedule_grid):\n",
        "\n",
        "    team_name = team[0]  # full team name \n",
        "    team_code = team_code_dict[team_name]  # 3-letter team code\n",
        "    team_list = get_team_list(schedule_grid)  # list of teams in grid\n",
        "\n",
        "    if team_code in team_list:\n",
        "      group = team[1]  # prelim group name\n",
        "      room_list = get_room_list(schedule_grid)\n",
        "      basic_schedule_grid = clean_up_grid(schedule_grid)\n",
        "      \n",
        "      # create page and add header\n",
        "      pdf.add_page()\n",
        "      pdf.page_header(format_dict['tournament name'],\n",
        "                      format_dict['tournament date'])\n",
        "      \n",
        "      # add team name, a line break, and prelim group name\n",
        "      pdf.set_font(\"times\", size=24)\n",
        "      pdf.cell(w=0, h=None, txt=f'Prelim Schedule - {team_name}',\n",
        "                align=\"C\", new_x=\"LEFT\", new_y=\"NEXT\")\n",
        "      \n",
        "      pdf.ln(5)\n",
        "\n",
        "      pdf.set_font(\"times\", size=17)\n",
        "      pdf.cell(w=0, h=None, txt=f'Group - {group}',\n",
        "                align=\"C\", new_x=\"LEFT\", new_y=\"NEXT\")\n",
        "  \n",
        "\n",
        "      pdf.ln(15)\n",
        "\n",
        "      grid = specific_team_scheduler(team_code,\n",
        "                                     basic_schedule_grid,\n",
        "                                     room_list,\n",
        "                                     code_team_dict)\n",
        "\n",
        "      header = grid[0]\n",
        "      schedule = grid[1:]\n",
        "      pdf.individual_schedule(header, schedule)\n",
        "\n",
        "      if text_toggle is True:\n",
        "\n",
        "        # todo: figure out latin-1 encoding issue\n",
        "        text = texts[0]\n",
        "        text = text.encode('latin-1', 'ignore').decode('latin-1')\n",
        "\n",
        "        pdf.set_x(25.45)\n",
        "        font_size = 14\n",
        "        pdf.set_font(\"times\", size=font_size)\n",
        "        pdf.set_text_color(0)\n",
        "        pdf.multi_cell(165, 6, text, new_x=\"LMARGIN\")\n",
        "\n",
        "      if qr_toggle is True:\n",
        "          qr_codes_1 = qr_codes[0:3]\n",
        "          qr_captions_1 = qr_captions[0:3]\n",
        "\n",
        "          qr_positions = [35, 93, 151]\n",
        "          for index, qr_code in enumerate(qr_codes_1):\n",
        "            img = qrcode.make(qr_code)\n",
        "            x_pos = qr_positions[index]\n",
        "            pdf.image(img.get_image(), x=x_pos, y=210, w=30, h=30)\n",
        "\n",
        "          for index, qr_caption in enumerate(qr_captions_1):\n",
        "            x_pos = qr_positions[index] - 5\n",
        "            pdf.set_xy(x_pos, 241)\n",
        "            pdf.cell(w=40, h=None, txt=qr_caption,\n",
        "                     align=\"C\")\n",
        "\n",
        "      pdf.page_footer()\n",
        "\n",
        "      break  # saves time by ending search for team name in other schedule grids\n",
        "\n",
        "pdf.output(\"prelim_individual_team_schedules.pdf\")\n",
        "pdf_bytes = pdf.output()\n",
        "prelim_individual_team_schedules = b64encode(pdf_bytes).decode(\"utf-8\")"
      ],
      "metadata": {
        "id": "k_zGqv3NQDPU"
      },
      "execution_count": 68,
      "outputs": []
    },
    {
      "cell_type": "markdown",
      "source": [
        "We'll do the same individual schedules, but for rooms instead of teams."
      ],
      "metadata": {
        "id": "aFFPYMqzMhCC"
      }
    },
    {
      "cell_type": "code",
      "source": [
        "pdf = PDF(format=\"letter\")  # default is A4, need to specify US letter\n",
        "\n",
        "# title page\n",
        "pdf.add_page()\n",
        "\n",
        "pdf.title_page(format_dict['tournament name'],\n",
        "               format_dict['tournament location'],\n",
        "               format_dict['tournament date'],\n",
        "               \"Prelims - Individual Room Schedules\")\n",
        "\n",
        "for index, schedule_grid in enumerate(full_schedule_grid):\n",
        "\n",
        "  group = prelim_group_names[index]\n",
        "  room_list = get_room_list(schedule_grid)\n",
        "  basic_schedule_grid = clean_up_grid(schedule_grid)\n",
        "\n",
        "  # iterate for each room in room_list\n",
        "  for room in room_list:\n",
        "    if room == 'BYE':\n",
        "      continue\n",
        "  \n",
        "    # create page and add header\n",
        "    pdf.add_page()\n",
        "    pdf.page_header(format_dict['tournament name'],\n",
        "                    format_dict['tournament date'])\n",
        "\n",
        "    # add team name, a line break, and prelim group name\n",
        "    pdf.set_font(\"times\", size=24)\n",
        "    pdf.cell(w=0, h=None, txt=f'Prelim Schedule - {room}',\n",
        "              align=\"C\", new_x=\"LEFT\", new_y=\"NEXT\")\n",
        "    \n",
        "    pdf.ln(5)\n",
        "\n",
        "    pdf.set_font(\"times\", size=17)\n",
        "    pdf.cell(w=0, h=None, txt=f'Group - {group}',\n",
        "              align=\"C\", new_x=\"LEFT\", new_y=\"NEXT\")\n",
        "\n",
        "    pdf.ln(15)\n",
        "\n",
        "    grid = specific_room_scheduler(room,\n",
        "                                   basic_schedule_grid,\n",
        "                                   room_list,\n",
        "                                   code_team_dict)\n",
        "\n",
        "    header = grid[0]\n",
        "    schedule = grid[1:]\n",
        "    pdf.individual_schedule(header, schedule)\n",
        "\n",
        "    if text_toggle is True:\n",
        "\n",
        "        # todo: figure out latin-1 encoding issue\n",
        "        text = texts[1]\n",
        "        text = text.encode('latin-1', 'ignore').decode('latin-1')\n",
        "\n",
        "        pdf.set_x(25.45)\n",
        "        font_size = 14\n",
        "        pdf.set_font(\"times\", size=font_size)\n",
        "        pdf.set_text_color(0)\n",
        "        pdf.multi_cell(165, 6, text, new_x=\"LMARGIN\")\n",
        "\n",
        "    if qr_toggle is True:\n",
        "        qr_codes_2 = qr_codes[3:6]\n",
        "        qr_captions_2 = qr_captions[3:6]\n",
        "\n",
        "        qr_positions = [35, 93, 151]\n",
        "        for index, qr_code in enumerate(qr_codes_2):\n",
        "          img = qrcode.make(qr_code)\n",
        "          x_pos = qr_positions[index]\n",
        "          pdf.image(img.get_image(), x=x_pos, y=210, w=30, h=30)\n",
        "\n",
        "        for index, qr_caption in enumerate(qr_captions_2):\n",
        "          x_pos = qr_positions[index] - 5\n",
        "          pdf.set_xy(x_pos, 241)\n",
        "          pdf.cell(w=40, h=None, txt=qr_caption,\n",
        "                    align=\"C\")\n",
        "\n",
        "    pdf.page_footer()\n",
        "\n",
        "pdf.output(\"prelim_individual_room_schedules.pdf\")\n",
        "pdf_bytes = pdf.output()\n",
        "prelim_individual_room_schedules = b64encode(pdf_bytes).decode(\"utf-8\")"
      ],
      "metadata": {
        "id": "PyNdY14VMlLL"
      },
      "execution_count": 69,
      "outputs": []
    },
    {
      "cell_type": "markdown",
      "source": [
        "## Download Prelim PDFs"
      ],
      "metadata": {
        "id": "ejmFTFC8LQVB"
      }
    },
    {
      "cell_type": "code",
      "source": [
        "# Diplay a download button:\n",
        "display(HTML(f'<a style=\"font-size: 30px\" download=\"full_prelim_schedule.pdf\" href=\"data:application/pdf;base64,{full_prelim_schedule}\">Click to download PDF of full schedule.</a>'))"
      ],
      "metadata": {
        "colab": {
          "base_uri": "https://localhost:8080/",
          "height": 54
        },
        "id": "EfFoOvgwS1Ir",
        "outputId": "70dc5d4e-c981-469b-a261-943cb090b379",
        "collapsed": true
      },
      "execution_count": 70,
      "outputs": [
        {
          "output_type": "display_data",
          "data": {
            "text/plain": [
              "<IPython.core.display.HTML object>"
            ],
            "text/html": [
              "<a style=\"font-size: 30px\" download=\"full_prelim_schedule.pdf\" href=\"data:application/pdf;base64,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\">Click to download PDF of full schedule.</a>"
            ]
          },
          "metadata": {}
        }
      ]
    },
    {
      "cell_type": "code",
      "source": [
        "# Diplay a download button:\n",
        "display(HTML(f'<a style=\"font-size: 30px\" download=\"prelim_individual_team_schedules.pdf\" href=\"data:application/pdf;base64,{prelim_individual_team_schedules}\">Click to download PDF of individual team schedules.</a>'))"
      ],
      "metadata": {
        "colab": {
          "base_uri": "https://localhost:8080/",
          "height": 54
        },
        "collapsed": true,
        "id": "EsFqwdMJQDam",
        "outputId": "bbd1d7b8-7e94-4355-d283-1ed984034cc8"
      },
      "execution_count": 71,
      "outputs": [
        {
          "output_type": "display_data",
          "data": {
            "text/plain": [
              "<IPython.core.display.HTML object>"
            ],
            "text/html": [
              "<a style=\"font-size: 30px\" download=\"prelim_individual_team_schedules.pdf\" href=\"data:application/pdf;base64,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\">Click to download PDF of individual team schedules.</a>"
            ]
          },
          "metadata": {}
        }
      ]
    },
    {
      "cell_type": "code",
      "source": [
        "# Diplay a download button:\n",
        "display(HTML(f'<a style=\"font-size: 30px\" download=\"prelim_individual_room_schedules.pdf\" href=\"data:application/pdf;base64,{prelim_individual_room_schedules}\">Click to download PDF of individual room schedules.</a>'))"
      ],
      "metadata": {
        "colab": {
          "base_uri": "https://localhost:8080/",
          "height": 54
        },
        "collapsed": true,
        "id": "o_Ny_J3AaYq0",
        "outputId": "4bd7471d-0adb-4309-a7e9-8e4ccc819415"
      },
      "execution_count": 72,
      "outputs": [
        {
          "output_type": "display_data",
          "data": {
            "text/plain": [
              "<IPython.core.display.HTML object>"
            ],
            "text/html": [
              "<a style=\"font-size: 30px\" download=\"prelim_individual_room_schedules.pdf\" href=\"data:application/pdf;base64,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\">Click to download PDF of individual room schedules.</a>"
            ]
          },
          "metadata": {}
        }
      ]
    },
    {
      "cell_type": "code",
      "source": [
        "stop here"
      ],
      "metadata": {
        "colab": {
          "base_uri": "https://localhost:8080/",
          "height": 131
        },
        "collapsed": true,
        "id": "VNcIYjguqvFB",
        "outputId": "b4a4acd9-78db-4d68-a01c-c6a402263a2d"
      },
      "execution_count": 73,
      "outputs": [
        {
          "output_type": "error",
          "ename": "SyntaxError",
          "evalue": "ignored",
          "traceback": [
            "\u001b[0;36m  File \u001b[0;32m\"<ipython-input-73-a96ba3aab008>\"\u001b[0;36m, line \u001b[0;32m1\u001b[0m\n\u001b[0;31m    stop here\u001b[0m\n\u001b[0m         ^\u001b[0m\n\u001b[0;31mSyntaxError\u001b[0m\u001b[0;31m:\u001b[0m invalid syntax\n"
          ]
        }
      ]
    },
    {
      "cell_type": "markdown",
      "source": [
        "# Prelim Analysis"
      ],
      "metadata": {
        "id": "iKG1VUXVdJTn"
      }
    },
    {
      "cell_type": "markdown",
      "source": [
        "# Playoff Scheduler"
      ],
      "metadata": {
        "id": "_YfbhDePdJTn"
      }
    },
    {
      "cell_type": "markdown",
      "source": [
        "# Playoff PDF Writer"
      ],
      "metadata": {
        "id": "eexAPF__dJTn"
      }
    },
    {
      "cell_type": "markdown",
      "source": [
        "# Superplayoff Scheduler"
      ],
      "metadata": {
        "id": "Qb5McvXKdPxF"
      }
    },
    {
      "cell_type": "markdown",
      "source": [
        "# Superplayoff PDF Writer "
      ],
      "metadata": {
        "id": "--DoUNDedPuN"
      }
    },
    {
      "cell_type": "markdown",
      "source": [
        "# NSC Scheduler"
      ],
      "metadata": {
        "id": "b3l5IrdtdrTf"
      }
    },
    {
      "cell_type": "markdown",
      "source": [
        "# *** Workspace below this point ***"
      ],
      "metadata": {
        "id": "qagHkeo1VeeJ"
      }
    },
    {
      "cell_type": "markdown",
      "source": [
        "\n",
        "\n",
        "---\n",
        "\n"
      ],
      "metadata": {
        "id": "_k8_duRuVhG4"
      }
    },
    {
      "cell_type": "markdown",
      "source": [
        "# Importing csv files from Github\n",
        "This will be useful later when grabbing templates for the scheduling functions.\n",
        "\n",
        "For more info on loading external files into Colabs, see [this article](https://towardsdatascience.com/7-ways-to-load-external-data-into-google-colab-7ba73e7d5fc7)."
      ],
      "metadata": {
        "id": "rLwWCJ3lixKD"
      }
    },
    {
      "cell_type": "code",
      "source": [
        "filename = 'templates/rr_schedules/rr_10.xlsx'\n",
        "\n",
        "df = pd.read_csv('https://raw.githubusercontent.com/victorprieto2265/cornerstone/main/archive/brackets.csv')\n",
        "\n",
        "# get_all_values gives a list of rows.\n",
        "print(df)"
      ],
      "metadata": {
        "id": "-Wd7s6KAj9it"
      },
      "execution_count": null,
      "outputs": []
    },
    {
      "cell_type": "markdown",
      "source": [
        "What about uploading excel files? Will that work?"
      ],
      "metadata": {
        "id": "8iW6m7Oz0w52"
      }
    },
    {
      "cell_type": "code",
      "source": [
        "url = \"https://github.com/victorprieto2265/cornerstone/blob/main/templates/rr_schedules/rr_templates.xlsx?raw=true\"\n",
        "db=pd.read_excel(url, sheet_name=None)\n",
        "\n",
        "print(type(db))\n",
        "print(db.keys())"
      ],
      "metadata": {
        "id": "Kd83cUbR00zf"
      },
      "execution_count": null,
      "outputs": []
    },
    {
      "cell_type": "markdown",
      "source": [
        "# Compiling latex files (incomplete)"
      ],
      "metadata": {
        "id": "UCnmv2_eVvjP"
      }
    },
    {
      "cell_type": "markdown",
      "source": [
        "Load a sample Latex file from my github repo. In this case, it's team index, which does not have any QR codes."
      ],
      "metadata": {
        "id": "tXq_OSEUWkBH"
      }
    },
    {
      "cell_type": "code",
      "source": [
        "import base64\n",
        "import requests\n",
        "\n",
        "url = 'https://raw.githubusercontent.com/victorprieto2265/cornerstone/main/output/prelim_team_index.tex'\n",
        "\n",
        "req = requests.get(url)\n",
        "req = req.text"
      ],
      "metadata": {
        "id": "6LUaIVrQV-nW"
      },
      "execution_count": null,
      "outputs": []
    },
    {
      "cell_type": "code",
      "source": [
        "from pdflatex import PDFLaTeX\n",
        "from google.colab import drive\n",
        "drive.mount('/content/drive')"
      ],
      "metadata": {
        "id": "sEhER_lVX-Pg"
      },
      "execution_count": null,
      "outputs": []
    },
    {
      "cell_type": "code",
      "source": [
        "filename = 'prelim_team_index.tex'\n",
        "with open(f'/content/drive/My Drive/{filename}', 'w') as f:\n",
        "  f.write(req)\n",
        "!cat /content/drive/My\\ Drive/prelim_team_index.tex"
      ],
      "metadata": {
        "id": "AnU54_nSbHHa"
      },
      "execution_count": null,
      "outputs": []
    },
    {
      "cell_type": "code",
      "source": [
        "!sudo apt install cm-super dvipng texlive-latex-extra texlive-latex-recommended"
      ],
      "metadata": {
        "id": "Nv7ztIeVbVxV"
      },
      "execution_count": null,
      "outputs": []
    },
    {
      "cell_type": "code",
      "source": [
        "!pip install pdflatex\n",
        "from pdflatex import PDFLaTeX\n",
        "pdfl = PDFLaTeX.from_texfile(req)\n",
        "pdf, log, completed_process = pdfl.create_pdf(keep_pdf_file=True, keep_log_file=False)\n"
      ],
      "metadata": {
        "id": "8F3Yx_Tca_2V"
      },
      "execution_count": null,
      "outputs": []
    },
    {
      "cell_type": "code",
      "source": [
        "# drive.flush_and_unmount()"
      ],
      "metadata": {
        "id": "M32Sg87hcZDZ"
      },
      "execution_count": null,
      "outputs": []
    }
  ]
}