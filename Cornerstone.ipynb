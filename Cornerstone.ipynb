{
  "nbformat": 4,
  "nbformat_minor": 0,
  "metadata": {
    "colab": {
      "provenance": [],
      "toc_visible": true,
      "collapsed_sections": [
        "_YfbhDePdJTn",
        "eexAPF__dJTn",
        "Qb5McvXKdPxF",
        "--DoUNDedPuN",
        "b3l5IrdtdrTf",
        "qagHkeo1VeeJ",
        "rLwWCJ3lixKD"
      ],
      "authorship_tag": "ABX9TyNeEk9GYvXcP36in0wN7ERS",
      "include_colab_link": true
    },
    "kernelspec": {
      "name": "python3",
      "display_name": "Python 3"
    },
    "language_info": {
      "name": "python"
    }
  },
  "cells": [
    {
      "cell_type": "markdown",
      "metadata": {
        "id": "view-in-github",
        "colab_type": "text"
      },
      "source": [
        "<a href=\"https://colab.research.google.com/github/victorprieto2265/cornerstone/blob/main/Cornerstone.ipynb\" target=\"_parent\"><img src=\"https://colab.research.google.com/assets/colab-badge.svg\" alt=\"Open In Colab\"/></a>"
      ]
    },
    {
      "cell_type": "markdown",
      "source": [
        "# TODO\n",
        "\n"
      ],
      "metadata": {
        "id": "IwJ6m76Ee1va"
      }
    },
    {
      "cell_type": "markdown",
      "source": [
        "TODO\n",
        "\n",
        "*  import computer modern typeface for use (consider open sans or interstate as an alternative)"
      ],
      "metadata": {
        "id": "QEwWOlwXfE0H"
      }
    },
    {
      "cell_type": "markdown",
      "source": [
        "\n",
        "# Import modules / libraries"
      ],
      "metadata": {
        "id": "LxPWT_oriuCh"
      }
    },
    {
      "cell_type": "code",
      "source": [
        "!pip install fpdf2\n",
        "\n",
        "import sys\n",
        "import pandas as pd\n",
        "import warnings\n",
        "warnings.simplefilter('default', DeprecationWarning)\n",
        "from fpdf import FPDF\n",
        "import fpdf\n",
        "from base64 import b64encode\n",
        "import IPython\n",
        "from IPython.display import display, HTML"
      ],
      "metadata": {
        "id": "pl18nTJ1uVlv",
        "colab": {
          "base_uri": "https://localhost:8080/"
        },
        "outputId": "a46022cb-2d24-4368-abac-b24e1d03d08a"
      },
      "execution_count": null,
      "outputs": [
        {
          "output_type": "stream",
          "name": "stdout",
          "text": [
            "Looking in indexes: https://pypi.org/simple, https://us-python.pkg.dev/colab-wheels/public/simple/\n",
            "Requirement already satisfied: fpdf2 in /usr/local/lib/python3.8/dist-packages (2.6.1)\n",
            "Requirement already satisfied: Pillow!=9.2.*,>=6.2.2 in /usr/local/lib/python3.8/dist-packages (from fpdf2) (7.1.2)\n",
            "Requirement already satisfied: defusedxml in /usr/local/lib/python3.8/dist-packages (from fpdf2) (0.7.1)\n",
            "Requirement already satisfied: fonttools>=4.34.0 in /usr/local/lib/python3.8/dist-packages (from fpdf2) (4.38.0)\n"
          ]
        }
      ]
    },
    {
      "cell_type": "markdown",
      "source": [
        "# Cornerstone Input\n",
        "\n",
        "This section imports all of the input files, except tournament format,\n",
        "which is handled by the tournament_format script.\n",
        "\n",
        "TODO uncomment sys.exit at end of this script for testing\n",
        "\n",
        "TODO figure out how to handle blank spaces and/or none in input file...\n",
        "There was an unusual error where integers were being converted to floats\n",
        "if one of the cells in a range was empty instead of string 'none'.\n",
        "\n",
        "TODO apparently bracket names (and presumably other things) are case-sensitive.\n",
        "\n",
        "TODO currently a global variable for checking for errors, which is a no no?\n"
      ],
      "metadata": {
        "id": "jaurrPCkdJTm"
      }
    },
    {
      "cell_type": "code",
      "source": [
        "error = 0\n",
        "\n",
        "# checks for duplicates and (optional) character limits\n",
        "def error_check(alist, listname, max_length=float('inf'), max_duplicates=1):\n",
        "    global error  # TODO this is apparently a no no, but works for now\n",
        "    print('\\n')\n",
        "    # duplicate checker\n",
        "    seen = {}\n",
        "    duplicates = []\n",
        "    for item in alist:\n",
        "        if item not in seen:\n",
        "            seen[item] = 1\n",
        "        else:\n",
        "            seen[item] += 1\n",
        "            if seen[item] > max_duplicates:\n",
        "                duplicates.append(' - ' + item)\n",
        "    if not duplicates:\n",
        "        if max_duplicates > 1:\n",
        "            print(f'No excess duplicates detected for {listname}.')\n",
        "        else:\n",
        "            print(f'No duplicates detected for {listname}.')\n",
        "    else:\n",
        "        # error = True\n",
        "        error += 1\n",
        "        print(f'\\nDuplicates detected for {listname}:')\n",
        "        print(*duplicates, sep='\\n')\n",
        "\n",
        "    # character length checker\n",
        "    long_items = [' - ' + item for item in alist if len(item) > max_length]\n",
        "    if not long_items:\n",
        "        print(f'No character lengths exceeded for {listname}.')\n",
        "    else:\n",
        "        error += 1\n",
        "        # error = True\n",
        "        print(f'Character lengths exceeded for {listname}:')\n",
        "        print(*long_items, sep='\\n')"
      ],
      "metadata": {
        "id": "Hd9MUoAjgvDO"
      },
      "execution_count": null,
      "outputs": []
    },
    {
      "cell_type": "markdown",
      "source": [
        "Function definition: analyze sheet and generate list from pandas dataframe."
      ],
      "metadata": {
        "id": "_Jl-_l1RkTvk"
      }
    },
    {
      "cell_type": "code",
      "source": [
        "def analyze_input(sheet_name, df_dict):\n",
        "    df = df_dict[sheet_name]\n",
        "    temp_list = df.values.tolist()  # note: temp_list may be multiple lists!\n",
        "    return temp_list"
      ],
      "metadata": {
        "id": "fwaKQucMkRJT"
      },
      "execution_count": null,
      "outputs": []
    },
    {
      "cell_type": "markdown",
      "source": [
        "Prompt user for which tournament phase is being implemented. TODO consider in future to automatically evaluate tournament phase based on file name."
      ],
      "metadata": {
        "id": "TBmhikVaiydS"
      }
    },
    {
      "cell_type": "code",
      "source": [
        "# step 0 = identify which excel files to pull? (not implemented while testing)\n",
        "print('\\n***\\nAre you uploading excel sheets for prelim schedule creation'\n",
        "      + ' or rebracketing for playoffs?')\n",
        "# tournament_phase = input('   enter \"prelims\" or \"playoffs\" => ')\n",
        "tournament_phase = 'prelims'\n",
        "\n",
        "while tournament_phase not in ['prelims', 'playoffs', 'super']:\n",
        "    print('\\n***incorrect input provided, please retry***')\n",
        "    print('\\nSelect either prelim schedule creation or '\n",
        "          + 'rebracketing for playoffs:')\n",
        "    tournament_phase = input('   enter \"prelims\" or \"playoffs\" => ')"
      ],
      "metadata": {
        "colab": {
          "base_uri": "https://localhost:8080/"
        },
        "id": "dH0Bwv5_knSt",
        "outputId": "51f6fc1c-b59e-4185-e6c6-da872b84ab7f"
      },
      "execution_count": null,
      "outputs": [
        {
          "output_type": "stream",
          "name": "stdout",
          "text": [
            "\n",
            "***\n",
            "Are you uploading excel sheets for prelim schedule creation or rebracketing for playoffs?\n"
          ]
        }
      ]
    },
    {
      "cell_type": "markdown",
      "source": [
        "---\n",
        "\n",
        "Upload the prelims_data excel spreadsheet from local computer, and create dictionary containing the sheet name and each dataframe.\n",
        "\n",
        "TODO For now, this is commented out. While testing Cornerstone as I'm porting over to Colab, I will be directly pulling the excel file from a dedicated location in github."
      ],
      "metadata": {
        "id": "QIwjrPCFjYas"
      }
    },
    {
      "cell_type": "code",
      "source": [
        "# from google.colab import files\n",
        "# file_upload = files.upload()\n",
        "# file_upload = list(file_upload.keys())[0]\n",
        "\n",
        "# sheet_names = ['tournament format', 'list of teams', 'team codes',\n",
        "#                 'group names', 'room assignments',\n",
        "#                 'QR codes', 'text input']\n",
        "# df_dict_prelim = pd.read_excel(file_upload,\n",
        "#                                sheet_name=sheet_names)"
      ],
      "metadata": {
        "id": "xysCWCW7g83a"
      },
      "execution_count": null,
      "outputs": []
    },
    {
      "cell_type": "code",
      "source": [
        "sheet_names = ['tournament format', 'list of teams', 'team codes',\n",
        "                'group names', 'room assignments',\n",
        "                'QR codes', 'text input']\n",
        "url = \"https://github.com/victorprieto2265/cornerstone/blob/main/data%20input/prelims_data.xlsx?raw=true\"\n",
        "df_dict_prelim = pd.read_excel(url,\n",
        "                               sheet_name=sheet_names)\n"
      ],
      "metadata": {
        "id": "Y1gg7KUvlGRK"
      },
      "execution_count": null,
      "outputs": []
    },
    {
      "cell_type": "markdown",
      "source": [
        "Using the analyze_input function, create a list from each tab of the spreadsheet corresponding to the relevant information (e.g. a list of room assignments). If in playoffs or superplayoffs, also create the relevant lists there."
      ],
      "metadata": {
        "id": "EvXL0iGwFMH7"
      }
    },
    {
      "cell_type": "code",
      "source": [
        "list_of_teams = analyze_input('list of teams', df_dict_prelim)\n",
        "team_codes = analyze_input('team codes', df_dict_prelim)\n",
        "room_assignments = analyze_input('room assignments', df_dict_prelim)\n",
        "qr_codelist = analyze_input('QR codes', df_dict_prelim)\n",
        "textlist = analyze_input('text input', df_dict_prelim)\n",
        "tournament_format = analyze_input('tournament format', df_dict_prelim)\n",
        "\n",
        "group_names = analyze_input('group names', df_dict_prelim)\n",
        "prelim_group_names = [row[0] for row in group_names]\n",
        "\n",
        "if tournament_phase in ['playoffs', 'super']:\n",
        "    playoff_bracket_names = [row[1] for row in group_names]\n",
        "    playoff_bracket_names = [x for x in playoff_bracket_names\n",
        "                             if str(x) != 'nan']\n",
        "if tournament_phase == 'super':\n",
        "    super_bracket_names = [row[2] for row in group_names]\n",
        "    super_bracket_names = [x for x in super_bracket_names\n",
        "                             if str(x) != 'nan']"
      ],
      "metadata": {
        "id": "3CAhOiL09mfs"
      },
      "execution_count": null,
      "outputs": []
    },
    {
      "cell_type": "markdown",
      "source": [
        "A dictionary containing general information about the tournament is also generated from the tournament_format sheet.\n",
        "\n",
        "It's necessary to convert the datetime value from excel to a more suitable string before printing."
      ],
      "metadata": {
        "id": "irPSh0zaFwLj"
      }
    },
    {
      "cell_type": "code",
      "source": [
        "format_dict = {}\n",
        "for row in tournament_format:\n",
        "    key = row[0]  # item, e.g. \"tournament name\"\n",
        "    value = row[1]  # input, e.g. \"2022 NSC\"\n",
        "    format_dict[key] = value\n",
        "\n",
        "# convert Excel datetime format to more suitable date string\n",
        "date = format_dict['tournament date'].strftime('%B %d, %Y')\n",
        "format_dict['tournament date'] = date"
      ],
      "metadata": {
        "id": "SNGO4QFRkOZ5"
      },
      "execution_count": null,
      "outputs": []
    },
    {
      "cell_type": "markdown",
      "source": [
        "Next is the analysis section for the text and QR code inputs. Did the user turn these on? If not, these sections are skipped.\n",
        "\n",
        "TODO qr_codes used to have a NoEscape function, but that was because of pylatex and has been removed."
      ],
      "metadata": {
        "id": "8EDjXCXfn9Wd"
      }
    },
    {
      "cell_type": "code",
      "source": [
        "if format_dict['QR codes'] == 'Y':\n",
        "    qr_toggle = True\n",
        "\n",
        "    qr_names = [code[0] for code in qr_codelist]\n",
        "    qr_codes = [code[2] for code in qr_codelist]\n",
        "    qr_captions = [code[3] for code in qr_codelist]\n",
        "\n",
        "else:\n",
        "    qr_toggle = False\n",
        "    qr_codes = False\n",
        "    qr_captions = False\n",
        "\n",
        "if format_dict['text'] == 'Y':\n",
        "    text_toggle = True\n",
        "    texts = [text[1] for text in textlist]\n",
        "\n",
        "    # lorem text, delete later\n",
        "    lorem = '''\n",
        "\n",
        "    Lorem ipsum dolor sit amet. Sed iusto reprehenderit ut quis voluptas ea Quis assumenda ut eius magni eum voluptate modi? Id unde libero ad pariatur sunt eos nisi possimus est omnis nisi ut internos laboriosam. Sit nesciunt ducimus et totam maxime est voluptas vero sed itaque nihil. Et expedita culpa et fuga sunt quo esse ipsam eos doloribus autem rem perferendis modi et molestiae vitae.\n",
        "\n",
        "    Sed cumque odio eum temporibus deleniti ad consequatur consequatur aut molestias maiores. Est doloribus tenetur est dolorem ducimus sit quasi provident. Est facere expedita non expedita molestiae non error magnam vel obcaecati debitis et blanditiis reiciendis est cupiditate voluptatem ea soluta consequatur. Qui tempore ipsam eos asperiores aliquid ex unde velit est repellendus temporibus hic quidem assumenda!\n",
        "\n",
        "    Non autem maiores aut reprehenderit nulla sit repellendus dolore ut illum incidunt ut dignissimos eaque! Ex aperiam minima eos quis dolor id consequatur eligendi ut culpa galisum. Non fugiat corporis vel doloremque dignissimos sit vero quasi sed voluptatem explicabo.\n",
        "\n",
        "    '''\n",
        "else:\n",
        "    text_toggle = False\n",
        "    texts = False"
      ],
      "metadata": {
        "id": "cZ3mT363oBcD"
      },
      "execution_count": null,
      "outputs": []
    },
    {
      "cell_type": "markdown",
      "source": [
        "More dictionary creation here: this time, for team names and team codes.\n",
        "\n",
        "RFE get rid of team codes if the user is okay with foregoing the complete team schedule in favor of individual team schedules."
      ],
      "metadata": {
        "id": "ozsWkM-bHtSP"
      }
    },
    {
      "cell_type": "code",
      "source": [
        "# key is team name\n",
        "# value is team code\n",
        "# also created a dictionary where the key/value pairs are swapped\n",
        "team_code_dict = {}\n",
        "code_team_dict = {}\n",
        "for row in team_codes:\n",
        "    team_name = row[0]\n",
        "    team_code = row[1]\n",
        "    team_code_dict[team_name] = team_code\n",
        "    code_team_dict[team_code] = team_name\n",
        "\n",
        "# key is prelim group and a number (i.e. Accra1)\n",
        "# value is corresponding room (i.e. Grand Ballroom A is Accra1)\n",
        "# also created dictionary where key is a playoff bracket instead\n",
        "prelim_room_dict = {}\n",
        "playoff_room_dict = {}\n",
        "super_room_dict = {}\n",
        "for i in room_assignments:\n",
        "    key = i[1] + str(i[2])\n",
        "    value = i[0]\n",
        "    if tournament_phase == 'prelims':\n",
        "        prelim_room_dict[key] = value\n",
        "    elif tournament_phase == 'playoffs':\n",
        "        playoff_room_dict[key] = value\n",
        "    elif tournament_phase == 'super':\n",
        "        super_room_dict[key] = value"
      ],
      "metadata": {
        "id": "zCCyM_MCg-H0"
      },
      "execution_count": null,
      "outputs": []
    },
    {
      "cell_type": "markdown",
      "source": [
        "Last is the error check section, to see if any of the data submitted by the user was improperly formatted."
      ],
      "metadata": {
        "id": "dKTcWKPmHfV8"
      }
    },
    {
      "cell_type": "code",
      "source": [
        "# %% error catching\n",
        "\n",
        "# if prelim_team_count <= 3 or playoff_team_count <= 3:\n",
        "#     print('Unable to produce round robins smaller than 4.')\n",
        "#     sys.exit()\n",
        "\n",
        "# if prelim_team_count >= 15 or playoff_team_count >= 15:\n",
        "#     print('Unable to produce round robins larger than 14.')\n",
        "#     sys.exit()\n",
        "\n",
        "# TODO modify max_duplicates to be flexible on schedule and not hard coded\n",
        "# or perhaps get rid of max duplicates since it doesn't make a lot of sense\n",
        "# error check imported lists/sublists\n",
        "error_check([sublist[0] for sublist in list_of_teams],\n",
        "            'the team names in list_of_teams',\n",
        "            max_length=26)\n",
        "\n",
        "# error_check([sublist[2] for sublist in list_of_teams],\n",
        "#             'the prelim groups in list_of_teams',\n",
        "#             max_length=15,\n",
        "#             )\n",
        "\n",
        "error_check([sublist[1] for sublist in team_codes],\n",
        "            'the team codes in team_codes',\n",
        "            max_length=4)\n",
        "\n",
        "try:\n",
        "    error_check(prelim_group_names,\n",
        "                'the groups in prelim_group_names',\n",
        "                max_length=15)\n",
        "except:  # TODO bare except\n",
        "    None\n",
        "\n",
        "try:\n",
        "    error_check(playoff_bracket_names,\n",
        "                'the brackets in playoff_bracket_names',\n",
        "                max_length=15)\n",
        "except:  # TODO bare except\n",
        "    None\n",
        "\n",
        "error_check([sublist[0] for sublist in room_assignments],\n",
        "            'the list of rooms in room_assignments',\n",
        "            max_length=15)\n",
        "\n",
        "if error == 0:\n",
        "    print('\\n*** No errors detected upon import. ***')\n",
        "else:\n",
        "    print('\\n*** Errors detected during import! ***')\n",
        "    sys.exit()"
      ],
      "metadata": {
        "id": "DhUxZUHJHehk",
        "colab": {
          "base_uri": "https://localhost:8080/"
        },
        "outputId": "e3949786-c4f9-4441-a544-6639da27eb2e"
      },
      "execution_count": null,
      "outputs": [
        {
          "output_type": "stream",
          "name": "stdout",
          "text": [
            "\n",
            "\n",
            "No duplicates detected for the team names in list_of_teams.\n",
            "No character lengths exceeded for the team names in list_of_teams.\n",
            "\n",
            "\n",
            "No duplicates detected for the team codes in team_codes.\n",
            "No character lengths exceeded for the team codes in team_codes.\n",
            "\n",
            "\n",
            "No duplicates detected for the groups in prelim_group_names.\n",
            "No character lengths exceeded for the groups in prelim_group_names.\n",
            "\n",
            "\n",
            "No duplicates detected for the list of rooms in room_assignments.\n",
            "No character lengths exceeded for the list of rooms in room_assignments.\n",
            "\n",
            "*** No errors detected upon import. ***\n"
          ]
        }
      ]
    },
    {
      "cell_type": "markdown",
      "source": [
        "# Function Definitions"
      ],
      "metadata": {
        "id": "owcZyEiJdJTm"
      }
    },
    {
      "cell_type": "markdown",
      "source": [
        "Function for removing duplicates from a list."
      ],
      "metadata": {
        "id": "uQuJVhmyA3CC"
      }
    },
    {
      "cell_type": "code",
      "source": [
        "def remove_duplicates(alist):\n",
        "    newlist = []\n",
        "    [newlist.append(x) for x in alist if x not in newlist]\n",
        "    return newlist"
      ],
      "metadata": {
        "id": "a81URiBdA7G8"
      },
      "execution_count": null,
      "outputs": []
    },
    {
      "cell_type": "markdown",
      "source": [
        "original function_definitions.py"
      ],
      "metadata": {
        "id": "EUZolcmPAy4y"
      }
    },
    {
      "cell_type": "code",
      "source": [
        "# import time\n",
        "# import sys\n",
        "# from pathlib import Path\n",
        "# from pylatex import (Document, Tabularx, Command,\n",
        "#                       NewPage, HugeText, Package,\n",
        "#                      VerticalSpace)\n",
        "# from pylatex.utils import NoEscape\n",
        "# from cornerstone_input import format_dict\n",
        "\n",
        "# # place additional modules here\n",
        "\n",
        "# header = \"\"\"\n",
        "\n",
        "# Depository for a bunch of class and function definitions shared across\n",
        "# prelim/playoff scripts.\n",
        "\n",
        "# TODO what if snake seed is fed a list with odd number of teams?\n",
        "\n",
        "# TODO what if qr_count ≠ 3?\n",
        "\n",
        "# Created on Mon Nov 1 13:53:44 2021 Eastern Time\n",
        "\n",
        "# @author: Victor Prieto\n",
        "\n",
        "# \"\"\"\n",
        "\n",
        "\n",
        "# # starts program runtime\n",
        "# start_time = time.time()\n",
        "# print('\\n', header)\n",
        "# print('start time: %s' % time.ctime())\n",
        "\n",
        "# # %% function definitions\n",
        "\n",
        "\n",
        "# def qr_code(doc, qr_codes, qr_captions):\n",
        "\n",
        "#     doc.append(NoEscape(r'\\rowcolors{3}{white}{white}'))\n",
        "\n",
        "#     qr_count = len(qr_codes)\n",
        "#     if qr_count != 3:\n",
        "#         print('WARNING: number of qr_codes does not equal 3.')\n",
        "#         sys.exit()\n",
        "#     header_string = 'Y' * qr_count\n",
        "#     width = r\"\\textwidth\"\n",
        "\n",
        "#     with doc.create(Tabularx(header_string,\n",
        "#                              width_argument=NoEscape(width))) as table:\n",
        "#         table.add_row(qr_codes, strict=False)\n",
        "#         table.add_empty_row()\n",
        "#         table.add_row(qr_captions, strict=False)\n",
        "\n",
        "\n",
        "# def split_list(alist, wanted_parts=1):\n",
        "#     length = len(alist)\n",
        "#     return [alist[i*length // wanted_parts: (i+1)*length // wanted_parts]\n",
        "#             for i in range(wanted_parts)]\n",
        "\n",
        "\n",
        "# def snake_seed(list_of_teams, bracket_count):\n",
        "#     \"\"\"\n",
        "#     Parameters\n",
        "#     ----------\n",
        "#     list_of_teams : list\n",
        "#         A list of teams for reordering into playoff brackets by snake seeding.\n",
        "#     bracket_count : int\n",
        "#         Number of playoff brackets to snake seed across.\n",
        "\n",
        "#     Returns\n",
        "#     -------\n",
        "#     newlist : list\n",
        "#         Same list of teams accepted as input, but reordered by snake seeding.\n",
        "#         The list is also split into the number of playoff brackets.\n",
        "#         Example:\n",
        "#             (1, 2, 3, 4... 23, 24)\n",
        "#             snake seeded across four brackets becomes\n",
        "#             ((1, 8, 9, 16, 17, 24), (2, 7, 10, 15, 18... 12, 13, 20, 21))\n",
        "\n",
        "#     \"\"\"\n",
        "\n",
        "#     # generates sequence of indices for snake seeding\n",
        "#     sequence_length = 2 * bracket_count\n",
        "#     reps = len(list_of_teams) / sequence_length\n",
        "#     sequence = []\n",
        "#     for i in range(0, int(sequence_length/2)):\n",
        "#         for j in range(0, int(reps)):\n",
        "#             sequence.append(i+j*sequence_length)\n",
        "#             sequence.append((sequence_length-1-i)+j*sequence_length)\n",
        "\n",
        "#     # quits program if odd number of teams in list_of_teams\n",
        "#     if (len(list_of_teams)) % 2 == 1:\n",
        "#         print('ODD NUMBER OF TEAMS DETECTED')\n",
        "#         sys.exit()\n",
        "\n",
        "#     # use sequence of indices to generate new list of teams\n",
        "#     newlist = (list_of_teams[index] for index in sequence)\n",
        "#     return newlist\n",
        "\n",
        "\n",
        "# def alternating_rows(doc, color):\n",
        "#     return doc.append(NoEscape(r'\\rowcolors{3}{white}{%s}' % color))\n",
        "\n",
        "\n",
        "# def duplicate_checker(alist):\n",
        "#     seen = set()\n",
        "#     for x in alist:\n",
        "#         if x in seen:\n",
        "#             return True\n",
        "#         seen.add(x)\n",
        "#     return False\n",
        "\n",
        "\n",
        "# def start_latex(filename_input, docname, title=True, fontsize=False):\n",
        "\n",
        "#     Path(\"./output/\").mkdir(parents=True, exist_ok=True)\n",
        "#     file_path = r'./output/'\n",
        "#     Path(file_path).mkdir(parents=True, exist_ok=True)\n",
        "#     filename = file_path + filename_input        \n",
        "    \n",
        "#     geometry_options = {\n",
        "#         \"includeheadfoot\": True\n",
        "#     }\n",
        "\n",
        "#     doc = Document(filename, geometry_options=geometry_options)\n",
        "\n",
        "#     # this changed font sizes, but it doesn't work so well\n",
        "#     if fontsize is True:\n",
        "#         doc = Document(filename_input, geometry_options=geometry_options,\n",
        "#                        font_size='')\n",
        "#         doc.append(Command('fontsize', arguments=['12', '12']))\n",
        "#         doc.append(Command('selectfont'))\n",
        "\n",
        "#     doc.preamble.append(Command('title', format_dict['tournament name']))\n",
        "#     doc.preamble.append(Command('author', format_dict['tournament location']))\n",
        "#     doc.preamble.append(Command('date', format_dict['tournament date']))\n",
        "    \n",
        "#     doc.packages.append(Package('qrcode'))  # add qrcode to packages\n",
        "#     doc.packages.append(Package('fancyhdr'))  # add qrcode to packages\n",
        "\n",
        "#     doc.append(NoEscape(r'\\newcolumntype{Y}{>{\\centering\\arraybackslash}X}'))\n",
        "\n",
        "#     # TODO vertically center docname text on page\n",
        "#     if title is True:\n",
        "#         doc.append(NoEscape(r'\\maketitle'))\n",
        "#         doc.append(VerticalSpace('48pt'))\n",
        "#         doc.append(NoEscape(r'\\begin{center}'))\n",
        "#         doc.append(HugeText(docname))\n",
        "#         doc.append(NoEscape(r'\\end{center}'))\n",
        "#         doc.append(NewPage())\n",
        "    \n",
        "#     doc.append(NoEscape(r'\\pagestyle{fancy}'))\n",
        "#     doc.append(NoEscape(r'\\fancyhf{}'))\n",
        "#     date = '{' + format_dict['tournament date'] + '}'\n",
        "#     name = '{' + format_dict['tournament name'] + '}'\n",
        "#     doc.append(NoEscape(fr'\\rhead{date}'))\n",
        "#     doc.append(NoEscape(fr'\\lhead{name}'))\n",
        "#     doc.append(NoEscape(r'\\rfoot{Created by Cornerstone.}'))\n",
        "        \n",
        "#     return doc\n",
        "\n",
        "\n",
        "# def close_latex(filename_input, doc_input):\n",
        "#     file_path = r'./output/'\n",
        "#     filename = file_path + filename_input\n",
        "#     doc_input.generate_tex()\n",
        "#     doc_input.generate_pdf()\n",
        "\n",
        "#     file = open(filename + '.tex')\n",
        "#     latex_string = file.read()\n",
        "#     bad_string = '\\\\usepackage{lastpage}%'\n",
        "#     good_string = '\\\\usepackage[table]{xcolor}%'\n",
        "#     # print(latex_string)\n",
        "#     latex_string = latex_string.replace(bad_string, good_string)\n",
        "\n",
        "#     # for visual debugging\n",
        "#     # print('\\n\\n', latex_string[0:700], '\\n\\n')\n",
        "\n",
        "#     with open(f'{filename}.tex', 'w') as f:\n",
        "#         f.write(latex_string)\n",
        "\n",
        "\n",
        "# # %% classes, mostly not in use\n",
        "# # TODO figure out class inheritance for team/prelim_team/playoff_team\n",
        "# class team:\n",
        "#     def __init__(self,\n",
        "#                  name,\n",
        "#                  code):\n",
        "#         self.name = name\n",
        "#         self.code = code\n",
        "\n",
        "\n",
        "# class prelim_team(team):\n",
        "#     def __init__(self,\n",
        "#                  name,\n",
        "#                  code,\n",
        "#                  prelim_group,\n",
        "#                  prelim_seed):\n",
        "#         super().__init__(name, code)\n",
        "#         self.prelim_group = prelim_group\n",
        "#         self.prelim_seed = prelim_seed\n",
        "\n",
        "\n",
        "# class playoff_team():\n",
        "#     def __init__(self,\n",
        "#                  name,\n",
        "#                  code,\n",
        "#                  prelim_group,\n",
        "#                  playoff_bracket,\n",
        "#                  playoff_seed):  # playoff seed also the prelim finish\n",
        "#         self.name = name\n",
        "#         self.code = code\n",
        "#         self.prelim_group = prelim_group\n",
        "#         self.playoff_bracket = playoff_bracket\n",
        "#         self.playoff_seed = playoff_seed\n",
        "\n",
        "# # %% more function definitions\n",
        "\n",
        "\n",
        "# def header_stringify(teamcount, tabularx=False):\n",
        "#     \"\"\"\n",
        "\n",
        "#     Parameters\n",
        "#     ----------\n",
        "#     teamcount : int\n",
        "#         Number of teams in the round robin.\n",
        "#     tabularx : bool, optional\n",
        "#         Changes header string to account for newcolumntype Y, used in tabularx.\n",
        "#         The default is False.\n",
        "\n",
        "#     Returns\n",
        "#     -------\n",
        "#     A string for pylatex to use when defining the table.\n",
        "#     Example: '|l|cc|cc|cc|cc|'\n",
        "\n",
        "#     If tabularx is set to True, returns a string that utilizes newcolumntype Y.\n",
        "#     Example: '|l|Y|Y|Y|Y|Y|Y|'\n",
        "\n",
        "#     \"\"\"\n",
        "\n",
        "#     roomcount = teamcount // 2\n",
        "\n",
        "#     header_string = '|l' + ('|cc' * roomcount + '|')\n",
        "#     if teamcount % 2 == 1:\n",
        "#         header_string = header_string + 'c|'\n",
        "\n",
        "#     if tabularx is True:\n",
        "#         header_string = '|l' + ('|Y' * teamcount + '|')\n",
        "\n",
        "#     return header_string\n",
        "\n",
        "\n",
        "# # %% prints runtime\n",
        "# print('end time: %s' % time.ctime())\n",
        "# print(\"--- %s seconds ---\" % '%.3f' % (time.time() - start_time))\n",
        "# print(\"--- %s minutes ---\" % '%.3f' % (time.time()/60 - start_time/60))"
      ],
      "metadata": {
        "id": "83PLhfS0ArVn"
      },
      "execution_count": null,
      "outputs": []
    },
    {
      "cell_type": "markdown",
      "source": [
        "# Standard Scheduler Function\n",
        "\n",
        "Created on Mon Nov 22 2021\n",
        "\n",
        "Definition of functions used for creating a table for a round robin schedule,\n",
        "between 4 and 14 teams.\n",
        "\n",
        "TODO if possible, fix pylatex table lines and shading in this function"
      ],
      "metadata": {
        "id": "GEJoeZNfdPrN"
      }
    },
    {
      "cell_type": "markdown",
      "source": [
        "First: retrieve the round robin templates stored on the cornerstone github page. The templates will automatically populate a dictionary.\n",
        "\n",
        "Each key is the name of the sheet corresponding to the round robin template: rr_6 is a basic 6 team round robin, rr_12 is for 12 teams, rr_crossover_A8 is the 8 team playoff roundrobin including crossovers (there are two possible crossovers, A and B, based on [Dwight Wynne's spreadsheet of schedule formats](https://https://docs.google.com/spreadsheets/d/1BPF6jFvhkh5qe7eesGFGU9KH6FVps2tS3YeseFocpIE/edit#gid=16)).\n",
        "\n",
        "The dictionary values are the pandas dataframes for each template.\n",
        "\n",
        "These templates will be used in the standard scheduler function and retrieved based on the key name."
      ],
      "metadata": {
        "id": "Q__BsPTWAtPh"
      }
    },
    {
      "cell_type": "code",
      "source": [
        "url = \"https://github.com/victorprieto2265/cornerstone/blob/main/templates/rr_schedules/rr_templates.xlsx?raw=true\"\n",
        "rr_template_dict = pd.read_excel(url,\n",
        "                                 sheet_name = None)\n",
        "rr_template_dict.keys()"
      ],
      "metadata": {
        "colab": {
          "base_uri": "https://localhost:8080/"
        },
        "id": "7FtnKegkiJUy",
        "outputId": "b0ce9b85-2d1c-4518-8d94-4726e75d6c18"
      },
      "execution_count": null,
      "outputs": [
        {
          "output_type": "execute_result",
          "data": {
            "text/plain": [
              "dict_keys(['rr_3', 'rr_4', 'rr_5', 'rr_6', 'rr_7', 'rr_8', 'rr_9', 'rr_10', 'rr_11', 'rr_12', 'rr_13', 'rr_14', 'rr_crossover_B3', 'rr_crossover_A6', 'rr_crossover_B6', 'rr_crossover_B7', 'rr_crossover_A8', 'rr_crossover_B8'])"
            ]
          },
          "metadata": {},
          "execution_count": 112
        }
      ]
    },
    {
      "cell_type": "markdown",
      "source": [
        "DONE \n",
        "\n",
        "*  testing of proper schedule retrieval from rr_template_dict\n",
        "\n",
        "TODO\n",
        "\n",
        "*  fix the crossover templates in the excel file, which right now are a mess "
      ],
      "metadata": {
        "id": "szp10lDJkBo2"
      }
    },
    {
      "cell_type": "code",
      "source": [
        "teamcount = 8\n",
        "crossover = 'A'\n",
        "\n",
        "if crossover is False:\n",
        "  key = f'rr_{teamcount}'\n",
        "else:\n",
        "  key = f'rr_crossover_{crossover}{teamcount}'\n",
        "\n",
        "rr_schedule = rr_template_dict[key].values.tolist()\n",
        "\n",
        "print(*rr_schedule, sep='\\n')"
      ],
      "metadata": {
        "id": "xDcLJrurF1zG",
        "colab": {
          "base_uri": "https://localhost:8080/"
        },
        "outputId": "88e5289d-11b5-4d4b-c771-25f6c3463ccb"
      },
      "execution_count": null,
      "outputs": [
        {
          "output_type": "stream",
          "name": "stdout",
          "text": [
            "['A1', 'B2', 'C1', 'D2', 'B1', 'A2', 'D1', 'C2']\n",
            "['C1', 'A2', 'A1', 'C2', 'D1', 'B2', 'B1', 'D2']\n",
            "['B1', 'C2', 'D1', 'A2', 'A1', 'D2', 'C1', 'B2']\n",
            "['A1', 'D1', 'B2', 'C2', 'B1', 'C1', 'A2', 'D2']\n",
            "['B2', 'D2', 'B1', 'D1', 'A2', 'C2', 'A1', 'C1']\n",
            "['C1', 'D1', 'A1', 'B1', 'C2', 'D2', 'A2', 'B2']\n"
          ]
        }
      ]
    },
    {
      "cell_type": "markdown",
      "source": [
        "Definition of the standard scheduler function is below."
      ],
      "metadata": {
        "id": "rLOCcNtEFpce"
      }
    },
    {
      "cell_type": "code",
      "source": [
        "def standard_schedule(group_name, teamcode_dict, room_dict, roundstart=1,\n",
        "                      crossover=False, superplayoff=False):\n",
        "    \"\"\"\n",
        "\n",
        "\n",
        "    Parameters\n",
        "    ----------\n",
        "    groupname : string\n",
        "        String of the prelim group or playoff bracket name.\n",
        "        Example: Lilongwe\n",
        "    teamcode_dict : dict\n",
        "        k : v = a group/bracket code : teamcode corresponding to that code\n",
        "        example: Lilongwe4 = MBA\n",
        "    room_dict : dict\n",
        "        k : v = a group/bracket code : room corresponding to that code\n",
        "        example: Lilongwe2 = Suite 1132\n",
        "    roundstart : int, optional\n",
        "        Number for the first round in the schedule. The default is 1.\n",
        "\n",
        "    Returns\n",
        "    -------\n",
        "    schedule_grid : list\n",
        "        Latex-friendly table. First row = table header, remaining rows =\n",
        "        schedule for each round.\n",
        "\n",
        "    \"\"\"\n",
        "\n",
        "    # produce teamlist\n",
        "    teamlist = [k for k, v in list(teamcode_dict.items())\n",
        "                if k.startswith(group_name)]\n",
        "    sorted_list = sorted(teamlist)\n",
        "    teamlist = [teamcode_dict[i] for i in sorted_list]\n",
        "\n",
        "    # identify number of teams in teamlist and appropriate number of rooms\n",
        "    teamcount = len(teamlist)\n",
        "    roomcount = teamcount // 2\n",
        "\n",
        "    # retrieve correct rr_template from rr_template_dict\n",
        "    if crossover is False:\n",
        "      key = f'rr_{teamcount}'\n",
        "    else:\n",
        "      key = f'rr_crossover_{crossover}{teamcount}'\n",
        "\n",
        "    rr_schedule = rr_template_dict[key].values.tolist()\n",
        "\n",
        "    # produce roomlist\n",
        "    roomlist = [k for k, v in list(room_dict.items())\n",
        "                if k.startswith(group_name)]\n",
        "    roomlist = [room_dict[i] for i in sorted(roomlist)]\n",
        "\n",
        "    # populate header with room names\n",
        "    rooms = []\n",
        "    header = ['']\n",
        "    for index in range(roomcount):\n",
        "        room = roomlist[index]\n",
        "        header.append(room)\n",
        "\n",
        "    # the last element in the header should be BYE if teamcount is odd\n",
        "    if teamcount % 2 == 1:\n",
        "        header.append('BYE')\n",
        "\n",
        "    # use rr_schedule template and roundstart to produce rest of schedule grid\n",
        "    schedule_grid = [header]\n",
        "    for round_num, row in enumerate(rr_schedule):\n",
        "        round_num += roundstart\n",
        "        new_row = [f'Round {round_num}']\n",
        "        for index in row:\n",
        "            code = group_name + str(index)\n",
        "            team = teamcode_dict[code]\n",
        "            new_row.append(team)\n",
        "        schedule_grid.append(new_row)\n",
        "\n",
        "    return schedule_grid"
      ],
      "metadata": {
        "id": "wlG8swh1trsX"
      },
      "execution_count": null,
      "outputs": []
    },
    {
      "cell_type": "markdown",
      "source": [
        "# Individual Schedule Functions "
      ],
      "metadata": {
        "id": "5n9ob-8odPkM"
      }
    },
    {
      "cell_type": "markdown",
      "source": [
        "This section contains the functions that extract individual team and room schedules from a schedule grid.\n",
        "\n",
        "Use get_team_list() and get_room_list() to generate a list of teams and a list of rooms from a schedule grid."
      ],
      "metadata": {
        "id": "wS0ljqoELnJq"
      }
    },
    {
      "cell_type": "code",
      "source": [
        "def get_team_list(schedule_grid):\n",
        "    team_list = sorted(schedule_grid[1][1:])\n",
        "    return team_list\n",
        "\n",
        "\n",
        "def get_room_list(schedule_grid):\n",
        "    # remove first element in header, which should be an empty string\n",
        "    header = schedule_grid[0][1:]\n",
        "    room_list = [i[0] for i in header]\n",
        "    if 'BYE' in header:\n",
        "        room_list[-1] = 'BYE'\n",
        "    return room_list"
      ],
      "metadata": {
        "id": "WPJyVdz1Ltml"
      },
      "execution_count": 346,
      "outputs": []
    },
    {
      "cell_type": "markdown",
      "source": [
        "For a given team in a given round, what team do they play and where? Use find_opponent().\n"
      ],
      "metadata": {
        "id": "a7OD0aUxL8W9"
      }
    },
    {
      "cell_type": "code",
      "source": [
        "def find_opponent(team, row, room_list, code_dict):\n",
        "    index = row.index(team)\n",
        "    room = room_list[index]\n",
        "    if row[-1] == team and room_list[-1] == 'BYE':\n",
        "        opponent = 'BYE'\n",
        "    elif index % 2 == 0:\n",
        "        opponent_code = row[index+1]\n",
        "        opponent = code_dict[opponent_code]\n",
        "    else:\n",
        "        opponent_code = row[index-1]\n",
        "        opponent = code_dict[opponent_code]\n",
        "    return room, opponent"
      ],
      "metadata": {
        "id": "KJH6zps2NyoC"
      },
      "execution_count": 347,
      "outputs": []
    },
    {
      "cell_type": "markdown",
      "source": [
        "what teams are in a room at a given round?"
      ],
      "metadata": {
        "id": "7UtVnnn7N2ei"
      }
    },
    {
      "cell_type": "code",
      "source": [
        "def find_teams(row, room, roomlist, code_dict):\n",
        "    index = roomlist.index(room)\n",
        "    teams = row[2*index:2*index+2]\n",
        "    teams = [*map(code_dict.get, teams)]\n",
        "    return sorted(teams)  # alphabetically sorts teams"
      ],
      "metadata": {
        "id": "BqybAya0N24c"
      },
      "execution_count": 348,
      "outputs": []
    },
    {
      "cell_type": "markdown",
      "source": [
        "The clean_up_grid function is sometimes used to remove the header row (room list) and the round number column on the left."
      ],
      "metadata": {
        "id": "uU0U0j32OBUN"
      }
    },
    {
      "cell_type": "code",
      "source": [
        "def clean_up_grid(schedule_grid):\n",
        "    no_header = schedule_grid[1:]\n",
        "    basic_schedule_grid = []\n",
        "    for index, row in enumerate(no_header):\n",
        "        basic_schedule_grid.append(row[1:])\n",
        "\n",
        "    return basic_schedule_grid"
      ],
      "metadata": {
        "id": "kBKx4V4WN98S"
      },
      "execution_count": 349,
      "outputs": []
    },
    {
      "cell_type": "markdown",
      "source": [
        "The specific_team_scheduler function is the key for generating a schedule grid for a single team."
      ],
      "metadata": {
        "id": "cNyCExgmOLlu"
      }
    },
    {
      "cell_type": "code",
      "source": [
        "def specific_team_scheduler(team, schedule_grid, room_list, code_dict,\n",
        "                            round_start=1):\n",
        "    \n",
        "    # generate room_list with duplicated values\n",
        "    # need this for finding an opponent at a particular index\n",
        "    dup_room_list = [room for room in room_list for _ in (0, 1)]\n",
        "\n",
        "    # how many rounds in the grid?\n",
        "    rounds = len(schedule_grid)\n",
        "\n",
        "    specific_grid = [['', 'Room Name', 'Opponent']]\n",
        "    for i in range(0, rounds):\n",
        "        room, opponent = find_opponent(team,\n",
        "                                       schedule_grid[i],\n",
        "                                       dup_room_list,\n",
        "                                       code_dict)\n",
        "\n",
        "        specific_grid.append([f'Round {round_start+i}', room, opponent])\n",
        "\n",
        "    return specific_grid"
      ],
      "metadata": {
        "id": "Ap0lkVL1OOKM"
      },
      "execution_count": 351,
      "outputs": []
    },
    {
      "cell_type": "markdown",
      "source": [
        "Like specific_team_scheduler(), specific_room_scheduler is the key for generating the schedule for an individual room."
      ],
      "metadata": {
        "id": "kD6q752_O-jC"
      }
    },
    {
      "cell_type": "code",
      "source": [
        "def specific_room_scheduler(room, schedule_grid, room_list,\n",
        "                            code_dict, round_start=1):\n",
        "    basic_schedule_grid = clean_up_grid(schedule_grid)\n",
        "    specific_grid = [['', 'Team 1', 'Team 2']]\n",
        "    for index, row in enumerate(basic_schedule_grid):\n",
        "        teams = find_teams(row, room, room_list, code_dict)\n",
        "        if room == 'BYE':\n",
        "            return 'BYE'\n",
        "        specific_grid.append([f'Round {round_start+index}',\n",
        "                              teams[0], teams[1]])\n",
        "\n",
        "    return specific_grid"
      ],
      "metadata": {
        "id": "xfuyEiYnPG1p"
      },
      "execution_count": 352,
      "outputs": []
    },
    {
      "cell_type": "markdown",
      "source": [
        "# Prelim Scheduler\n",
        "\n",
        "This section reads the list of prelim teams and information from the tournament format dictionary to produce a set of prelim schedules."
      ],
      "metadata": {
        "id": "K4OmpZngcsFP"
      }
    },
    {
      "cell_type": "markdown",
      "source": [
        "dictionary creation\n",
        "\n",
        "prelim group names"
      ],
      "metadata": {
        "id": "Is1C6X6cAbNi"
      }
    },
    {
      "cell_type": "code",
      "source": [
        "prelim_group_names = [sublist[1] for sublist in list_of_teams]\n",
        "prelim_group_names = remove_duplicates(prelim_group_names)\n",
        "\n",
        "# key is a prelim group name and a seed (i.e. Belmopan6)\n",
        "# value is the corresponding team (i.e. Great Valley A for Belmopan6)\n",
        "# also created a dictionary where values are team codes (i.e. GVA)\n",
        "prelim_team_dict = {}\n",
        "prelim_teamcode_dict = {}\n",
        "team_group_dict = {}\n",
        "teamcode_group_dict = {}\n",
        "for i in list_of_teams:\n",
        "    # key = i[2] + str(i[3])\n",
        "    key = i[1] + str(i[2])\n",
        "    value = i[0]  # team name\n",
        "    prelim_team_dict[key] = value\n",
        "    # also created dictionary where k/v pairs are swapped\n",
        "    team_group_dict[value] = key\n",
        "    # value = i[1]  # team code\n",
        "    value = team_code_dict[value]\n",
        "    prelim_teamcode_dict[key] = value\n",
        "    # also created dictionary where k/v pairs are swapped\n",
        "    teamcode_group_dict[value] = key\n",
        "\n",
        "# key is prelim group and a number (i.e. Accra1)\n",
        "# value is corresponding room (i.e. Grand Ballroom A is Accra1)\n",
        "# also created dictionary where key is a playoff bracket instead\n",
        "prelim_room_dict = {}\n",
        "for i in room_assignments:\n",
        "    key = i[1] + str(i[2])\n",
        "    value = i[0]\n",
        "    prelim_room_dict[key] = value"
      ],
      "metadata": {
        "id": "yqDIBPxpAXbJ"
      },
      "execution_count": null,
      "outputs": []
    },
    {
      "cell_type": "markdown",
      "source": [
        "full schedule grid creation"
      ],
      "metadata": {
        "id": "rAozDnfXAiC6"
      }
    },
    {
      "cell_type": "code",
      "source": [
        "full_schedule_grid = []\n",
        "\n",
        "# perform this process for each prelim group, add to full_schedule_grid\n",
        "for group_name in prelim_group_names:\n",
        "    schedule_grid = (standard_schedule(group_name,\n",
        "                                       prelim_teamcode_dict,\n",
        "                                       prelim_room_dict))\n",
        "    full_schedule_grid.append(schedule_grid)"
      ],
      "metadata": {
        "id": "9Q-DolBuAaJZ"
      },
      "execution_count": null,
      "outputs": []
    },
    {
      "cell_type": "markdown",
      "source": [
        "To make sure the full_schedule_grid was populated correctly, we'll print it out line by line."
      ],
      "metadata": {
        "id": "2yJI1x6PBUjr"
      }
    },
    {
      "cell_type": "code",
      "source": [
        "# for visual debugging\n",
        "for index, prelim_group in enumerate(prelim_group_names):\n",
        "    print(f'\\nPrelim Group: {prelim_group}')\n",
        "    print(*full_schedule_grid[index], sep='\\n')"
      ],
      "metadata": {
        "id": "Ozt12wMnBT2A",
        "colab": {
          "base_uri": "https://localhost:8080/"
        },
        "outputId": "974a2d34-c5de-46e5-a2b4-7c63347cf333"
      },
      "execution_count": null,
      "outputs": [
        {
          "output_type": "stream",
          "name": "stdout",
          "text": [
            "\n",
            "Prelim Group: Spooky\n",
            "['', 'Room 205', 'Room 206', 'Room 207', 'BYE']\n",
            "['Round 1', 'HNB', 'NBB', 'VSS', 'DRA', 'KPB', 'HTC', 'CHE']\n",
            "['Round 2', 'NBB', 'DRA', 'HNB', 'HTC', 'VSS', 'CHE', 'KPB']\n",
            "['Round 3', 'DRA', 'HTC', 'NBB', 'CHE', 'HNB', 'KPB', 'VSS']\n",
            "['Round 4', 'CHE', 'HTC', 'KPB', 'DRA', 'VSS', 'NBB', 'HNB']\n",
            "['Round 5', 'KPB', 'CHE', 'VSS', 'HTC', 'HNB', 'DRA', 'NBB']\n",
            "['Round 6', 'VSS', 'KPB', 'HNB', 'CHE', 'NBB', 'HTC', 'DRA']\n",
            "['Round 7', 'HNB', 'VSS', 'NBB', 'KPB', 'DRA', 'CHE', 'HTC']\n",
            "\n",
            "Prelim Group: Scary\n",
            "['', 'Room 232', 'Room 238', 'Room 239', 'BYE']\n",
            "['Round 1', 'KPC', 'NBA', 'ILT', 'HTB', 'DRB', 'MPB', 'HNA']\n",
            "['Round 2', 'NBA', 'HTB', 'KPC', 'MPB', 'ILT', 'HNA', 'DRB']\n",
            "['Round 3', 'HTB', 'MPB', 'NBA', 'HNA', 'KPC', 'DRB', 'ILT']\n",
            "['Round 4', 'HNA', 'MPB', 'DRB', 'HTB', 'ILT', 'NBA', 'KPC']\n",
            "['Round 5', 'DRB', 'HNA', 'ILT', 'MPB', 'KPC', 'HTB', 'NBA']\n",
            "['Round 6', 'ILT', 'DRB', 'KPC', 'HNA', 'NBA', 'MPB', 'HTB']\n",
            "['Round 7', 'KPC', 'ILT', 'NBA', 'DRB', 'HTB', 'HNA', 'MPB']\n",
            "\n",
            "Prelim Group: Skeletons\n",
            "['', 'Room 240', 'Room 241', 'Room 242', 'BYE']\n",
            "['Round 1', 'KPD', 'MPA', 'HTA', 'PJF', 'WLR', 'HNC', 'WIL']\n",
            "['Round 2', 'MPA', 'PJF', 'KPD', 'HNC', 'HTA', 'WIL', 'WLR']\n",
            "['Round 3', 'PJF', 'HNC', 'MPA', 'WIL', 'KPD', 'WLR', 'HTA']\n",
            "['Round 4', 'WIL', 'HNC', 'WLR', 'PJF', 'HTA', 'MPA', 'KPD']\n",
            "['Round 5', 'WLR', 'WIL', 'HTA', 'HNC', 'KPD', 'PJF', 'MPA']\n",
            "['Round 6', 'HTA', 'WLR', 'KPD', 'WIL', 'MPA', 'HNC', 'PJF']\n",
            "['Round 7', 'KPD', 'HTA', 'MPA', 'WLR', 'PJF', 'WIL', 'HNC']\n"
          ]
        }
      ]
    },
    {
      "cell_type": "markdown",
      "source": [
        "# Class Definitions for fpdf2"
      ],
      "metadata": {
        "id": "A5Qp8Ae2cA7Z"
      }
    },
    {
      "cell_type": "markdown",
      "source": [
        "There are five types of tables that Cornerstone will need to generate:\n",
        "*  the full schedule\n",
        "*  the individualized team schedule\n",
        "*  the individualized room schedule\n",
        "*  the team index\n",
        "*  the playoff quickstart schedule (first playoff room for all teams)\n",
        "\n",
        "The last one will not be needed for the prelim writer, but will be necessary for playoffs (and superplayoffs if needed).\n",
        "\n",
        "For all of these tables, we will create a unique class via fpdf2 for writing the table onto a PDF. "
      ],
      "metadata": {
        "id": "6_mFRVFAcFY9"
      }
    },
    {
      "cell_type": "code",
      "source": [
        "# full schedule\n",
        "\n",
        "class PDF(FPDF):\n",
        "\n",
        "    def full_schedule(self, header, rows,\n",
        "                      header_color=(135, 135, 135), row_color=(210, 210, 210)):\n",
        "      \n",
        "      header_count = len(header)\n",
        "      if header[-1] == 'BYE':\n",
        "        cell_count = header_count * 2 - 2\n",
        "      else:\n",
        "        cell_count = header_count * 2 - 1\n",
        "      col_width = pdf.epw / cell_count  # distribute columns evenly\n",
        "\n",
        "      header_widths = [col_width * 2] * (header_count - 2)  # populate list with col widths\n",
        "      header_widths.insert(0, col_width)\n",
        "      header_widths.append(col_width)\n",
        "\n",
        "      cell_widths = [col_width] * cell_count\n",
        "\n",
        "      self.set_fill_color(*header_color)  # * required to unpack tuple\n",
        "      self.set_text_color(255)\n",
        "      self.set_draw_color(36, 36, 36)\n",
        "      self.set_line_width(0.3)\n",
        "      self.set_font(style=\"B\")\n",
        "      for col_width, heading in zip(header_widths, header):\n",
        "          self.cell(col_width, 7, heading, border=1, align=\"C\", fill=True)\n",
        "      self.ln()\n",
        "\n",
        "      # Color and font restoration:\n",
        "      self.set_fill_color(*row_color)  # * required to unpack tuple\n",
        "      self.set_text_color(0)\n",
        "      self.set_font()\n",
        "      fill = False\n",
        "      for row in rows:\n",
        "        for index, item in enumerate(row):          \n",
        "          if index == 0:\n",
        "            self.set_font(style=\"B\")\n",
        "          else:\n",
        "            self.set_font()\n",
        "          self.cell(cell_widths[index],\n",
        "                    7,\n",
        "                    item,\n",
        "                    border=\"LR\",\n",
        "                    align=\"C\",\n",
        "                    fill=fill)\n",
        "        self.ln()\n",
        "        fill = not fill\n",
        "        # self.cell(sum(col_widths), 0, \"\", \"T\")  # this was in the original but broke things so it's commented out for now\n",
        "\n",
        "      self.set_fill_color(*header_color)  # * required to unpack tuple\n",
        "      self.set_text_color(255)\n",
        "      self.set_draw_color(36, 36, 36)\n",
        "      self.set_line_width(0.3)\n",
        "      self.set_font(style=\"B\")\n",
        "      for col_width, heading in zip(header_widths, header):\n",
        "          self.cell(col_width, 7, heading, border=1, align=\"C\", fill=True)\n",
        "\n",
        "      self.ln(14)"
      ],
      "metadata": {
        "id": "2sXgrSqj4QQz"
      },
      "execution_count": 340,
      "outputs": []
    },
    {
      "cell_type": "code",
      "source": [
        "# team schedules\n",
        "\n",
        "class PDF(PDF):\n",
        "\n",
        "    def team_schedule(self, header, rows,\n",
        "                      header_color=(135, 135, 135), row_color=(210, 210, 210)):\n",
        "      \n",
        "      pass\n",
        "      # blah blah, mostly based on full_schedule()"
      ],
      "metadata": {
        "id": "nJM6QIB9Auu2"
      },
      "execution_count": 341,
      "outputs": []
    },
    {
      "cell_type": "markdown",
      "source": [
        "We will also need to generate class definitions for the page header and page footer."
      ],
      "metadata": {
        "id": "NwhcaSCMcuNA"
      }
    },
    {
      "cell_type": "code",
      "source": [
        "class PDF(PDF):\n",
        "\n",
        "    def page_header(self, tournament_name, tournament_date):\n",
        "                \n",
        "        # Setting font: bold times 11\n",
        "        font_size = 11\n",
        "        self.set_font(\"times\", style=\"I\", size=font_size)\n",
        "\n",
        "        # Print tournament name in upper left:\n",
        "        self.cell(None, 2, tournament_name, new_x=\"LEFT\")\n",
        "\n",
        "        # Create empty cell with bottom border (can modify for centered text)\n",
        "        self.cell(0, None, \" \", \"B\", align=\"C\")\n",
        "\n",
        "        # Print tournament date in upper right\n",
        "        self.cell(0, 2, tournament_date, align=\"R\")\n",
        "\n",
        "        # Performing a line break:\n",
        "        self.ln(20)\n",
        "\n",
        "    def page_footer(self):\n",
        "        \n",
        "        # # putting in a logo:\n",
        "        # self.image(\"../docs/fpdf2-logo.png\", 10, 8, 33)\n",
        "        \n",
        "        # Position cursor at left and 1.5 cm from bottom:\n",
        "        self.set_x(0)\n",
        "        self.set_y(-35)\n",
        "        \n",
        "        # Setting font: times italic 11\n",
        "        font_size = 11\n",
        "        self.set_text_color(0)\n",
        "        self.set_font(\"times\", style=\"I\", size=font_size)\n",
        "        \n",
        "        # Print footer text:\n",
        "        self.cell(0, 6, \"Created by Cornerstone\", border=\"T\", align=\"R\")\n"
      ],
      "metadata": {
        "id": "m_slBLE2dOK0"
      },
      "execution_count": 342,
      "outputs": []
    },
    {
      "cell_type": "markdown",
      "source": [
        "# Prelim PDF Writer"
      ],
      "metadata": {
        "id": "-G75IfqqdJTn"
      }
    },
    {
      "cell_type": "code",
      "source": [
        "print(format_dict['tournament name'])\n",
        "print(format_dict['tournament location'])\n",
        "print(format_dict['tournament date'])\n",
        "\n",
        "pdf = PDF(format=\"letter\")  # default is A4, need to specify US letter\n",
        "\n",
        "# title page\n",
        "pdf.add_page()\n",
        "pdf.page_header(format_dict['tournament name'],\n",
        "                format_dict['tournament date'])\n",
        "\n",
        "header = full_schedule_grid[0][0]\n",
        "grid = full_schedule_grid[0][1:]\n",
        "\n",
        "for index, grid in enumerate(full_schedule_grid):\n",
        "  \n",
        "  header = grid[0]\n",
        "  schedule = grid[1:]\n",
        "  pdf.full_schedule(header, schedule)\n",
        "\n",
        "pdf.page_footer()\n",
        "\n",
        "pdf.output(\"test_output.pdf\")\n",
        "pdf_bytes = pdf.output()\n",
        "base64_pdf = b64encode(pdf_bytes).decode(\"utf-8\")"
      ],
      "metadata": {
        "colab": {
          "base_uri": "https://localhost:8080/"
        },
        "id": "wqJPg3lP4pq8",
        "outputId": "82c0ec3f-0ca2-43a6-e5c2-a07954e6ca8e"
      },
      "execution_count": 343,
      "outputs": [
        {
          "output_type": "stream",
          "name": "stdout",
          "text": [
            "LIFT XXI\n",
            "Uniondale, NY\n",
            "October 29, 2022\n"
          ]
        }
      ]
    },
    {
      "cell_type": "code",
      "source": [
        "# Diplay a download button:\n",
        "display(HTML(f'<a style=\"font-size: 30px\" download=\"test_output.pdf\" href=\"data:application/pdf;base64,{base64_pdf}\">Click to download PDF</a>'))"
      ],
      "metadata": {
        "colab": {
          "base_uri": "https://localhost:8080/",
          "height": 54
        },
        "id": "EfFoOvgwS1Ir",
        "outputId": "fdd1466f-3936-443a-8745-bd73769c59f1"
      },
      "execution_count": 344,
      "outputs": [
        {
          "output_type": "display_data",
          "data": {
            "text/plain": [
              "<IPython.core.display.HTML object>"
            ],
            "text/html": [
              "<a style=\"font-size: 30px\" download=\"test_output.pdf\" href=\"data:application/pdf;base64,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\">Click to download PDF</a>"
            ]
          },
          "metadata": {}
        }
      ]
    },
    {
      "cell_type": "code",
      "source": [
        "stop here"
      ],
      "metadata": {
        "colab": {
          "base_uri": "https://localhost:8080/",
          "height": 130
        },
        "id": "rvXWhkDebPmM",
        "outputId": "73d6962e-0d6b-4d57-9089-617b348e69f0"
      },
      "execution_count": 345,
      "outputs": [
        {
          "output_type": "error",
          "ename": "SyntaxError",
          "evalue": "ignored",
          "traceback": [
            "\u001b[0;36m  File \u001b[0;32m\"<ipython-input-345-a96ba3aab008>\"\u001b[0;36m, line \u001b[0;32m1\u001b[0m\n\u001b[0;31m    stop here\u001b[0m\n\u001b[0m         ^\u001b[0m\n\u001b[0;31mSyntaxError\u001b[0m\u001b[0;31m:\u001b[0m invalid syntax\n"
          ]
        }
      ]
    },
    {
      "cell_type": "markdown",
      "source": [
        " Prelim Analysis"
      ],
      "metadata": {
        "id": "iKG1VUXVdJTn"
      }
    },
    {
      "cell_type": "markdown",
      "source": [
        "# Playoff Scheduler"
      ],
      "metadata": {
        "id": "_YfbhDePdJTn"
      }
    },
    {
      "cell_type": "markdown",
      "source": [
        "# Playoff PDF Writer"
      ],
      "metadata": {
        "id": "eexAPF__dJTn"
      }
    },
    {
      "cell_type": "markdown",
      "source": [
        "# Superplayoff Scheduler"
      ],
      "metadata": {
        "id": "Qb5McvXKdPxF"
      }
    },
    {
      "cell_type": "markdown",
      "source": [
        "# Superplayoff PDF Writer "
      ],
      "metadata": {
        "id": "--DoUNDedPuN"
      }
    },
    {
      "cell_type": "markdown",
      "source": [
        "# NSC Scheduler"
      ],
      "metadata": {
        "id": "b3l5IrdtdrTf"
      }
    },
    {
      "cell_type": "markdown",
      "source": [
        "# *** Workspace below this point ***"
      ],
      "metadata": {
        "id": "qagHkeo1VeeJ"
      }
    },
    {
      "cell_type": "markdown",
      "source": [
        "\n",
        "\n",
        "---\n",
        "\n"
      ],
      "metadata": {
        "id": "_k8_duRuVhG4"
      }
    },
    {
      "cell_type": "markdown",
      "source": [
        "# Importing csv files from Github\n",
        "This will be useful later when grabbing templates for the scheduling functions.\n",
        "\n",
        "For more info on loading external files into Colabs, see [this article](https://towardsdatascience.com/7-ways-to-load-external-data-into-google-colab-7ba73e7d5fc7)."
      ],
      "metadata": {
        "id": "rLwWCJ3lixKD"
      }
    },
    {
      "cell_type": "code",
      "source": [
        "filename = 'templates/rr_schedules/rr_10.xlsx'\n",
        "\n",
        "df = pd.read_csv('https://raw.githubusercontent.com/victorprieto2265/cornerstone/main/archive/brackets.csv')\n",
        "\n",
        "# get_all_values gives a list of rows.\n",
        "print(df)"
      ],
      "metadata": {
        "id": "-Wd7s6KAj9it"
      },
      "execution_count": null,
      "outputs": []
    },
    {
      "cell_type": "markdown",
      "source": [
        "What about uploading excel files? Will that work?"
      ],
      "metadata": {
        "id": "8iW6m7Oz0w52"
      }
    },
    {
      "cell_type": "code",
      "source": [
        "url = \"https://github.com/victorprieto2265/cornerstone/blob/main/templates/rr_schedules/rr_templates.xlsx?raw=true\"\n",
        "db=pd.read_excel(url, sheet_name=None)\n",
        "\n",
        "print(type(db))\n",
        "print(db.keys())"
      ],
      "metadata": {
        "id": "Kd83cUbR00zf"
      },
      "execution_count": null,
      "outputs": []
    },
    {
      "cell_type": "markdown",
      "source": [
        "# Compiling latex files (incomplete)"
      ],
      "metadata": {
        "id": "UCnmv2_eVvjP"
      }
    },
    {
      "cell_type": "markdown",
      "source": [
        "Load a sample Latex file from my github repo. In this case, it's team index, which does not have any QR codes."
      ],
      "metadata": {
        "id": "tXq_OSEUWkBH"
      }
    },
    {
      "cell_type": "code",
      "source": [
        "import base64\n",
        "import requests\n",
        "\n",
        "url = 'https://raw.githubusercontent.com/victorprieto2265/cornerstone/main/output/prelim_team_index.tex'\n",
        "\n",
        "req = requests.get(url)\n",
        "req = req.text"
      ],
      "metadata": {
        "id": "6LUaIVrQV-nW"
      },
      "execution_count": null,
      "outputs": []
    },
    {
      "cell_type": "code",
      "source": [
        "from pdflatex import PDFLaTeX\n",
        "from google.colab import drive\n",
        "drive.mount('/content/drive')"
      ],
      "metadata": {
        "id": "sEhER_lVX-Pg"
      },
      "execution_count": null,
      "outputs": []
    },
    {
      "cell_type": "code",
      "source": [
        "filename = 'prelim_team_index.tex'\n",
        "with open(f'/content/drive/My Drive/{filename}', 'w') as f:\n",
        "  f.write(req)\n",
        "!cat /content/drive/My\\ Drive/prelim_team_index.tex"
      ],
      "metadata": {
        "id": "AnU54_nSbHHa"
      },
      "execution_count": null,
      "outputs": []
    },
    {
      "cell_type": "code",
      "source": [
        "!sudo apt install cm-super dvipng texlive-latex-extra texlive-latex-recommended"
      ],
      "metadata": {
        "id": "Nv7ztIeVbVxV"
      },
      "execution_count": null,
      "outputs": []
    },
    {
      "cell_type": "code",
      "source": [
        "!pip install pdflatex\n",
        "from pdflatex import PDFLaTeX\n",
        "pdfl = PDFLaTeX.from_texfile(req)\n",
        "pdf, log, completed_process = pdfl.create_pdf(keep_pdf_file=True, keep_log_file=False)\n"
      ],
      "metadata": {
        "id": "8F3Yx_Tca_2V"
      },
      "execution_count": null,
      "outputs": []
    },
    {
      "cell_type": "code",
      "source": [
        "# drive.flush_and_unmount()"
      ],
      "metadata": {
        "id": "M32Sg87hcZDZ"
      },
      "execution_count": null,
      "outputs": []
    }
  ]
}