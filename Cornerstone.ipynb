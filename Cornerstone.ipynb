{
  "nbformat": 4,
  "nbformat_minor": 0,
  "metadata": {
    "colab": {
      "provenance": [],
      "toc_visible": true,
      "collapsed_sections": [
        "--DoUNDedPuN",
        "b3l5IrdtdrTf",
        "qagHkeo1VeeJ",
        "rLwWCJ3lixKD"
      ],
      "authorship_tag": "ABX9TyPcrSO8f0vCN7HFpojwGD0U",
      "include_colab_link": true
    },
    "kernelspec": {
      "name": "python3",
      "display_name": "Python 3"
    },
    "language_info": {
      "name": "python"
    }
  },
  "cells": [
    {
      "cell_type": "markdown",
      "metadata": {
        "id": "view-in-github",
        "colab_type": "text"
      },
      "source": [
        "<a href=\"https://colab.research.google.com/github/victorprieto2265/cornerstone/blob/main/Cornerstone.ipynb\" target=\"_parent\"><img src=\"https://colab.research.google.com/assets/colab-badge.svg\" alt=\"Open In Colab\"/></a>"
      ]
    },
    {
      "cell_type": "markdown",
      "source": [
        "# TODO + RFE\n",
        "\n"
      ],
      "metadata": {
        "id": "IwJ6m76Ee1va"
      }
    },
    {
      "cell_type": "markdown",
      "source": [
        "TODO\n",
        "\n",
        "* Import computer modern typeface for use (consider open sans or interstate as an alternative).\n",
        "* Detect and split up tables that run over multiple pages (likely documents other than individual schedules for any 32+ team tournaments).\n",
        "* Qr_toggle keeps returning as false despite being updated differently in prelims_input, can't figure out the github new file issue!\n",
        "* Write new error check for duplicates and length limits. The old one is currently commented out.\n",
        "* There's an encoding problem for text: FPDF2 only accepts Latin-1, and I don't know enough around encoding except to tell users not to use anything outside Latin-1. Notably, an em dash and an ellipsis character will cause an encoding problem (the latter is what led me to identify this problem). This could affect all text inputs anywhere, not just individual text schedule inputs.\n",
        "\n",
        "RFE\n",
        "\n",
        "* Someone has pointed out 3-letter team codes are unnecessary for everything outside of the complete schedule. It's included in the team index, but not actually used in any documents other than the complete schedule. After Cornerstone has been in use for some time, re-evaluate the necessity of the 3-letter code, and correspondingly the complete schedule.\n",
        " * Cornerstone relies on 3-letter codes for a lot of functions. To avoid rewriting half the program, instead assign a unique short string to each team upon input - for instance, T1 through Tn would be fine.\n",
        "* In class definition for individual room schedules, add a row for score confirmation + signature.\n"
      ],
      "metadata": {
        "id": "QEwWOlwXfE0H"
      }
    },
    {
      "cell_type": "markdown",
      "source": [
        "\n",
        "# Import modules / libraries"
      ],
      "metadata": {
        "id": "LxPWT_oriuCh"
      }
    },
    {
      "cell_type": "code",
      "source": [
        "!pip install fpdf2\n",
        "!pip install qrcode\n",
        "\n",
        "import sys\n",
        "import pandas as pd\n",
        "import warnings\n",
        "warnings.simplefilter('default', DeprecationWarning)\n",
        "from fpdf import FPDF\n",
        "import fpdf\n",
        "from base64 import b64encode\n",
        "import IPython\n",
        "from IPython.display import display, HTML\n",
        "import qrcode"
      ],
      "metadata": {
        "id": "pl18nTJ1uVlv",
        "colab": {
          "base_uri": "https://localhost:8080/"
        },
        "outputId": "16731d98-645d-44f0-b7c6-793ff8f763e8"
      },
      "execution_count": 1,
      "outputs": [
        {
          "output_type": "stream",
          "name": "stdout",
          "text": [
            "Looking in indexes: https://pypi.org/simple, https://us-python.pkg.dev/colab-wheels/public/simple/\n",
            "Collecting fpdf2\n",
            "  Downloading fpdf2-2.6.1-py2.py3-none-any.whl (255 kB)\n",
            "\u001b[2K     \u001b[90m━━━━━━━━━━━━━━━━━━━━━━━━━━━━━━━━━━━━━━━\u001b[0m \u001b[32m255.6/255.6 KB\u001b[0m \u001b[31m5.0 MB/s\u001b[0m eta \u001b[36m0:00:00\u001b[0m\n",
            "\u001b[?25hCollecting fonttools>=4.34.0\n",
            "  Downloading fonttools-4.38.0-py3-none-any.whl (965 kB)\n",
            "\u001b[2K     \u001b[90m━━━━━━━━━━━━━━━━━━━━━━━━━━━━━━━━━━━━━━\u001b[0m \u001b[32m965.4/965.4 KB\u001b[0m \u001b[31m24.6 MB/s\u001b[0m eta \u001b[36m0:00:00\u001b[0m\n",
            "\u001b[?25hRequirement already satisfied: Pillow!=9.2.*,>=6.2.2 in /usr/local/lib/python3.8/dist-packages (from fpdf2) (7.1.2)\n",
            "Requirement already satisfied: defusedxml in /usr/local/lib/python3.8/dist-packages (from fpdf2) (0.7.1)\n",
            "Installing collected packages: fonttools, fpdf2\n",
            "Successfully installed fonttools-4.38.0 fpdf2-2.6.1\n",
            "Looking in indexes: https://pypi.org/simple, https://us-python.pkg.dev/colab-wheels/public/simple/\n",
            "Collecting qrcode\n",
            "  Downloading qrcode-7.4.2-py3-none-any.whl (46 kB)\n",
            "\u001b[2K     \u001b[90m━━━━━━━━━━━━━━━━━━━━━━━━━━━━━━━━━━━━━━━━\u001b[0m \u001b[32m46.2/46.2 KB\u001b[0m \u001b[31m1.6 MB/s\u001b[0m eta \u001b[36m0:00:00\u001b[0m\n",
            "\u001b[?25hCollecting pypng\n",
            "  Downloading pypng-0.20220715.0-py3-none-any.whl (58 kB)\n",
            "\u001b[2K     \u001b[90m━━━━━━━━━━━━━━━━━━━━━━━━━━━━━━━━━━━━━━━━\u001b[0m \u001b[32m58.1/58.1 KB\u001b[0m \u001b[31m3.6 MB/s\u001b[0m eta \u001b[36m0:00:00\u001b[0m\n",
            "\u001b[?25hRequirement already satisfied: typing-extensions in /usr/local/lib/python3.8/dist-packages (from qrcode) (4.4.0)\n",
            "Installing collected packages: pypng, qrcode\n",
            "Successfully installed pypng-0.20220715.0 qrcode-7.4.2\n"
          ]
        }
      ]
    },
    {
      "cell_type": "markdown",
      "source": [
        "# Cornerstone Input\n",
        "\n",
        "This section imports all of the input files, except tournament format,\n",
        "which is handled by the tournament_format script.\n",
        "\n",
        "TODO uncomment sys.exit at end of this script for testing\n",
        "\n",
        "TODO figure out how to handle blank spaces and/or none in input file...\n",
        "There was an unusual error where integers were being converted to floats\n",
        "if one of the cells in a range was empty instead of string 'none'.\n",
        "\n",
        "TODO apparently bracket names (and presumably other things) are case-sensitive.\n",
        "\n",
        "TODO currently a global variable for checking for errors, which is a no no?\n"
      ],
      "metadata": {
        "id": "jaurrPCkdJTm"
      }
    },
    {
      "cell_type": "code",
      "source": [
        "error = 0\n",
        "\n",
        "# checks for duplicates and (optional) character limits\n",
        "def error_check(alist, listname, max_length=float('inf'), max_duplicates=1):\n",
        "    global error  # TODO this is apparently a no no, but works for now\n",
        "    print('\\n')\n",
        "    # duplicate checker\n",
        "    seen = {}\n",
        "    duplicates = []\n",
        "    for item in alist:\n",
        "        if item not in seen:\n",
        "            seen[item] = 1\n",
        "        else:\n",
        "            seen[item] += 1\n",
        "            if seen[item] > max_duplicates:\n",
        "                duplicates.append(' - ' + str(item))\n",
        "    if not duplicates:\n",
        "        if max_duplicates > 1:\n",
        "            print(f'No excess duplicates detected for {listname}.')\n",
        "        else:\n",
        "            print(f'No duplicates detected for {listname}.')\n",
        "    else:\n",
        "        # error = True\n",
        "        error += 1\n",
        "        print(f'\\nDuplicates detected for {listname}:')\n",
        "        print(*duplicates, sep='\\n')\n",
        "\n",
        "    # character length checker\n",
        "    long_items = [' - ' + item for item in alist if len(item) > max_length]\n",
        "    if not long_items:\n",
        "        print(f'No character lengths exceeded for {listname}.')\n",
        "    else:\n",
        "        error += 1\n",
        "        # error = True\n",
        "        print(f'Character lengths exceeded for {listname}:')\n",
        "        print(*long_items, sep='\\n')"
      ],
      "metadata": {
        "id": "Hd9MUoAjgvDO"
      },
      "execution_count": 2,
      "outputs": []
    },
    {
      "cell_type": "markdown",
      "source": [
        "Function definition: analyze sheet and generate list from pandas dataframe."
      ],
      "metadata": {
        "id": "_Jl-_l1RkTvk"
      }
    },
    {
      "cell_type": "code",
      "source": [
        "def analyze_input(sheet_name, df_dict):\n",
        "    df = df_dict[sheet_name]\n",
        "    temp_list = df.values.tolist()  # note: temp_list may be multiple lists!\n",
        "    return temp_list"
      ],
      "metadata": {
        "id": "fwaKQucMkRJT"
      },
      "execution_count": 3,
      "outputs": []
    },
    {
      "cell_type": "markdown",
      "source": [
        "---\n",
        "\n",
        "Upload the prelims_data excel spreadsheet from local computer, and create dictionary containing the sheet name and each dataframe.\n",
        "\n",
        "TODO For now, this is commented out. While testing Cornerstone as I'm porting over to Colab, I will be directly pulling the excel file from a dedicated location in github."
      ],
      "metadata": {
        "id": "QIwjrPCFjYas"
      }
    },
    {
      "cell_type": "code",
      "source": [
        "from google.colab import files\n",
        "file_upload = files.upload()\n",
        "file_upload = list(file_upload.keys())[0]\n",
        "\n",
        "sheet_names = ['tournament format', 'list of teams', 'team codes',\n",
        "                'group names', 'room assignments',\n",
        "                'QR codes', 'text input']\n",
        "df_dict_prelim = pd.read_excel(file_upload,\n",
        "                               sheet_name=sheet_names)"
      ],
      "metadata": {
        "id": "xysCWCW7g83a",
        "colab": {
          "base_uri": "https://localhost:8080/",
          "height": 90
        },
        "collapsed": true,
        "outputId": "e2975b4b-14ed-4ea6-b85b-809376dd4ced"
      },
      "execution_count": 4,
      "outputs": [
        {
          "output_type": "display_data",
          "data": {
            "text/plain": [
              "<IPython.core.display.HTML object>"
            ],
            "text/html": [
              "\n",
              "     <input type=\"file\" id=\"files-4d6d04fa-5681-4a22-b862-a3d8d59a850d\" name=\"files[]\" multiple disabled\n",
              "        style=\"border:none\" />\n",
              "     <output id=\"result-4d6d04fa-5681-4a22-b862-a3d8d59a850d\">\n",
              "      Upload widget is only available when the cell has been executed in the\n",
              "      current browser session. Please rerun this cell to enable.\n",
              "      </output>\n",
              "      <script>// Copyright 2017 Google LLC\n",
              "//\n",
              "// Licensed under the Apache License, Version 2.0 (the \"License\");\n",
              "// you may not use this file except in compliance with the License.\n",
              "// You may obtain a copy of the License at\n",
              "//\n",
              "//      http://www.apache.org/licenses/LICENSE-2.0\n",
              "//\n",
              "// Unless required by applicable law or agreed to in writing, software\n",
              "// distributed under the License is distributed on an \"AS IS\" BASIS,\n",
              "// WITHOUT WARRANTIES OR CONDITIONS OF ANY KIND, either express or implied.\n",
              "// See the License for the specific language governing permissions and\n",
              "// limitations under the License.\n",
              "\n",
              "/**\n",
              " * @fileoverview Helpers for google.colab Python module.\n",
              " */\n",
              "(function(scope) {\n",
              "function span(text, styleAttributes = {}) {\n",
              "  const element = document.createElement('span');\n",
              "  element.textContent = text;\n",
              "  for (const key of Object.keys(styleAttributes)) {\n",
              "    element.style[key] = styleAttributes[key];\n",
              "  }\n",
              "  return element;\n",
              "}\n",
              "\n",
              "// Max number of bytes which will be uploaded at a time.\n",
              "const MAX_PAYLOAD_SIZE = 100 * 1024;\n",
              "\n",
              "function _uploadFiles(inputId, outputId) {\n",
              "  const steps = uploadFilesStep(inputId, outputId);\n",
              "  const outputElement = document.getElementById(outputId);\n",
              "  // Cache steps on the outputElement to make it available for the next call\n",
              "  // to uploadFilesContinue from Python.\n",
              "  outputElement.steps = steps;\n",
              "\n",
              "  return _uploadFilesContinue(outputId);\n",
              "}\n",
              "\n",
              "// This is roughly an async generator (not supported in the browser yet),\n",
              "// where there are multiple asynchronous steps and the Python side is going\n",
              "// to poll for completion of each step.\n",
              "// This uses a Promise to block the python side on completion of each step,\n",
              "// then passes the result of the previous step as the input to the next step.\n",
              "function _uploadFilesContinue(outputId) {\n",
              "  const outputElement = document.getElementById(outputId);\n",
              "  const steps = outputElement.steps;\n",
              "\n",
              "  const next = steps.next(outputElement.lastPromiseValue);\n",
              "  return Promise.resolve(next.value.promise).then((value) => {\n",
              "    // Cache the last promise value to make it available to the next\n",
              "    // step of the generator.\n",
              "    outputElement.lastPromiseValue = value;\n",
              "    return next.value.response;\n",
              "  });\n",
              "}\n",
              "\n",
              "/**\n",
              " * Generator function which is called between each async step of the upload\n",
              " * process.\n",
              " * @param {string} inputId Element ID of the input file picker element.\n",
              " * @param {string} outputId Element ID of the output display.\n",
              " * @return {!Iterable<!Object>} Iterable of next steps.\n",
              " */\n",
              "function* uploadFilesStep(inputId, outputId) {\n",
              "  const inputElement = document.getElementById(inputId);\n",
              "  inputElement.disabled = false;\n",
              "\n",
              "  const outputElement = document.getElementById(outputId);\n",
              "  outputElement.innerHTML = '';\n",
              "\n",
              "  const pickedPromise = new Promise((resolve) => {\n",
              "    inputElement.addEventListener('change', (e) => {\n",
              "      resolve(e.target.files);\n",
              "    });\n",
              "  });\n",
              "\n",
              "  const cancel = document.createElement('button');\n",
              "  inputElement.parentElement.appendChild(cancel);\n",
              "  cancel.textContent = 'Cancel upload';\n",
              "  const cancelPromise = new Promise((resolve) => {\n",
              "    cancel.onclick = () => {\n",
              "      resolve(null);\n",
              "    };\n",
              "  });\n",
              "\n",
              "  // Wait for the user to pick the files.\n",
              "  const files = yield {\n",
              "    promise: Promise.race([pickedPromise, cancelPromise]),\n",
              "    response: {\n",
              "      action: 'starting',\n",
              "    }\n",
              "  };\n",
              "\n",
              "  cancel.remove();\n",
              "\n",
              "  // Disable the input element since further picks are not allowed.\n",
              "  inputElement.disabled = true;\n",
              "\n",
              "  if (!files) {\n",
              "    return {\n",
              "      response: {\n",
              "        action: 'complete',\n",
              "      }\n",
              "    };\n",
              "  }\n",
              "\n",
              "  for (const file of files) {\n",
              "    const li = document.createElement('li');\n",
              "    li.append(span(file.name, {fontWeight: 'bold'}));\n",
              "    li.append(span(\n",
              "        `(${file.type || 'n/a'}) - ${file.size} bytes, ` +\n",
              "        `last modified: ${\n",
              "            file.lastModifiedDate ? file.lastModifiedDate.toLocaleDateString() :\n",
              "                                    'n/a'} - `));\n",
              "    const percent = span('0% done');\n",
              "    li.appendChild(percent);\n",
              "\n",
              "    outputElement.appendChild(li);\n",
              "\n",
              "    const fileDataPromise = new Promise((resolve) => {\n",
              "      const reader = new FileReader();\n",
              "      reader.onload = (e) => {\n",
              "        resolve(e.target.result);\n",
              "      };\n",
              "      reader.readAsArrayBuffer(file);\n",
              "    });\n",
              "    // Wait for the data to be ready.\n",
              "    let fileData = yield {\n",
              "      promise: fileDataPromise,\n",
              "      response: {\n",
              "        action: 'continue',\n",
              "      }\n",
              "    };\n",
              "\n",
              "    // Use a chunked sending to avoid message size limits. See b/62115660.\n",
              "    let position = 0;\n",
              "    do {\n",
              "      const length = Math.min(fileData.byteLength - position, MAX_PAYLOAD_SIZE);\n",
              "      const chunk = new Uint8Array(fileData, position, length);\n",
              "      position += length;\n",
              "\n",
              "      const base64 = btoa(String.fromCharCode.apply(null, chunk));\n",
              "      yield {\n",
              "        response: {\n",
              "          action: 'append',\n",
              "          file: file.name,\n",
              "          data: base64,\n",
              "        },\n",
              "      };\n",
              "\n",
              "      let percentDone = fileData.byteLength === 0 ?\n",
              "          100 :\n",
              "          Math.round((position / fileData.byteLength) * 100);\n",
              "      percent.textContent = `${percentDone}% done`;\n",
              "\n",
              "    } while (position < fileData.byteLength);\n",
              "  }\n",
              "\n",
              "  // All done.\n",
              "  yield {\n",
              "    response: {\n",
              "      action: 'complete',\n",
              "    }\n",
              "  };\n",
              "}\n",
              "\n",
              "scope.google = scope.google || {};\n",
              "scope.google.colab = scope.google.colab || {};\n",
              "scope.google.colab._files = {\n",
              "  _uploadFiles,\n",
              "  _uploadFilesContinue,\n",
              "};\n",
              "})(self);\n",
              "</script> "
            ]
          },
          "metadata": {}
        },
        {
          "output_type": "stream",
          "name": "stdout",
          "text": [
            "Saving prelims_data_columbia.xlsx to prelims_data_columbia.xlsx\n"
          ]
        }
      ]
    },
    {
      "cell_type": "code",
      "source": [
        "# sheet_names = ['tournament format', 'list of teams', 'team codes',\n",
        "#                 'group names', 'room assignments',\n",
        "#                 'QR codes', 'text input']\n",
        "# url = \"https://github.com/victorprieto2265/cornerstone/blob/main/data%20input/prelims_data.xlsx?raw=true\"\n",
        "# df_dict_prelim = pd.read_excel(url,\n",
        "#                                sheet_name=sheet_names)\n"
      ],
      "metadata": {
        "id": "Y1gg7KUvlGRK"
      },
      "execution_count": 5,
      "outputs": []
    },
    {
      "cell_type": "markdown",
      "source": [
        "Determine phase of the tournament based on import filename."
      ],
      "metadata": {
        "id": "Ym7NjjhXATSB"
      }
    },
    {
      "cell_type": "code",
      "source": [
        "# check to make sure filename has the correct prefix for tournament phase\n",
        "acceptable_file_prefixes = ('prelims', 'playoffs', 'superplayoffs')\n",
        "if not file_upload.startswith(acceptable_file_prefixes):\n",
        "  print('\\nWARNING: filename must start with one of the following:')\n",
        "  for prefix in acceptable_file_prefixes:\n",
        "    print(prefix)\n",
        "  sys.exit()\n",
        "\n",
        "if file_upload.startswith('prelims'):\n",
        "  tournament_phase = 'prelims'\n",
        "elif file_upload.startswith('playoffs'):\n",
        "  tournament_phase = 'playoffs'\n",
        "elif file_upload.startswith('super'):\n",
        "  tournament_phase = 'super'"
      ],
      "metadata": {
        "id": "oLibmsoU-Mv_"
      },
      "execution_count": 6,
      "outputs": []
    },
    {
      "cell_type": "markdown",
      "source": [
        "Using the analyze_input function, create a list from each tab of the spreadsheet corresponding to the relevant information (e.g. a list of room assignments). If in playoffs or superplayoffs, also create the relevant lists there."
      ],
      "metadata": {
        "id": "EvXL0iGwFMH7"
      }
    },
    {
      "cell_type": "code",
      "source": [
        "list_of_teams = analyze_input('list of teams', df_dict_prelim)\n",
        "team_codes = analyze_input('team codes', df_dict_prelim)\n",
        "room_assignments = analyze_input('room assignments', df_dict_prelim)\n",
        "qr_codelist = analyze_input('QR codes', df_dict_prelim)\n",
        "textlist = analyze_input('text input', df_dict_prelim)\n",
        "tournament_format = analyze_input('tournament format', df_dict_prelim)\n",
        "\n",
        "group_names = analyze_input('group names', df_dict_prelim)\n",
        "prelim_group_names = [row[0] for row in group_names]\n",
        "\n",
        "if tournament_phase in ['playoffs', 'super']:\n",
        "    playoff_bracket_names = [row[1] for row in group_names]\n",
        "    playoff_bracket_names = [x for x in playoff_bracket_names\n",
        "                             if str(x) != 'nan']\n",
        "if tournament_phase == 'super':\n",
        "    super_bracket_names = [row[2] for row in group_names]\n",
        "    super_bracket_names = [x for x in super_bracket_names\n",
        "                             if str(x) != 'nan']"
      ],
      "metadata": {
        "id": "3CAhOiL09mfs"
      },
      "execution_count": 7,
      "outputs": []
    },
    {
      "cell_type": "markdown",
      "source": [
        "Sometimes, tournaments don't have enough teams to warrant more than one prelim group. We'll do a quick check to see if that's the case."
      ],
      "metadata": {
        "id": "hMBNDAmFJNuK"
      }
    },
    {
      "cell_type": "code",
      "source": [
        "if len(prelim_group_names) == 1:\n",
        "  single_prelim_group = True"
      ],
      "metadata": {
        "id": "_aY-0K2lJiXN"
      },
      "execution_count": 12,
      "outputs": []
    },
    {
      "cell_type": "markdown",
      "source": [
        "A dictionary containing general information about the tournament is also generated from the tournament_format sheet.\n",
        "\n",
        "It's necessary to convert the datetime value from excel to a more suitable string before printing."
      ],
      "metadata": {
        "id": "irPSh0zaFwLj"
      }
    },
    {
      "cell_type": "code",
      "source": [
        "format_dict = {}\n",
        "for row in tournament_format:\n",
        "    key = row[0]  # item, e.g. \"tournament name\"\n",
        "    value = row[1]  # input, e.g. \"2022 NSC\"\n",
        "    format_dict[key] = value\n",
        "\n",
        "# convert Excel datetime format to more suitable date string\n",
        "date = format_dict['tournament date'].strftime('%B %d, %Y')\n",
        "format_dict['tournament date'] = date"
      ],
      "metadata": {
        "id": "SNGO4QFRkOZ5"
      },
      "execution_count": 9,
      "outputs": []
    },
    {
      "cell_type": "markdown",
      "source": [
        "Next is the analysis section for the text and QR code inputs. Did the user turn these on? If not, these sections are skipped."
      ],
      "metadata": {
        "id": "8EDjXCXfn9Wd"
      }
    },
    {
      "cell_type": "code",
      "source": [
        "if format_dict['QR codes'] == 'Y':\n",
        "    qr_toggle = True\n",
        "\n",
        "    qr_names = [code[0] for code in qr_codelist]\n",
        "    qr_codes = [code[2] for code in qr_codelist]\n",
        "    qr_captions = [code[3] for code in qr_codelist]\n",
        "\n",
        "else:\n",
        "    qr_toggle = False\n",
        "    qr_codes = False\n",
        "    qr_captions = False\n",
        "\n",
        "if format_dict['text'] == 'Y':\n",
        "    text_toggle = True\n",
        "    texts = [text[1] for text in textlist]\n",
        "\n",
        "    # lorem text, delete later\n",
        "    lorem = '''\n",
        "\n",
        "    Lorem ipsum dolor sit amet. Sed iusto reprehenderit ut quis voluptas ea Quis assumenda ut eius magni eum voluptate modi? Id unde libero ad pariatur sunt eos nisi possimus est omnis nisi ut internos laboriosam. Sit nesciunt ducimus et totam maxime est voluptas vero sed itaque nihil. Et expedita culpa et fuga sunt quo esse ipsam eos doloribus autem rem perferendis modi et molestiae vitae.\n",
        "\n",
        "    Sed cumque odio eum temporibus deleniti ad consequatur consequatur aut molestias maiores. Est doloribus tenetur est dolorem ducimus sit quasi provident. Est facere expedita non expedita molestiae non error magnam vel obcaecati debitis et blanditiis reiciendis est cupiditate voluptatem ea soluta consequatur. Qui tempore ipsam eos asperiores aliquid ex unde velit est repellendus temporibus hic quidem assumenda!\n",
        "\n",
        "    Non autem maiores aut reprehenderit nulla sit repellendus dolore ut illum incidunt ut dignissimos eaque! Ex aperiam minima eos quis dolor id consequatur eligendi ut culpa galisum. Non fugiat corporis vel doloremque dignissimos sit vero quasi sed voluptatem explicabo.\n",
        "\n",
        "    '''\n",
        "else:\n",
        "    text_toggle = False\n",
        "    texts = False"
      ],
      "metadata": {
        "id": "cZ3mT363oBcD"
      },
      "execution_count": 10,
      "outputs": []
    },
    {
      "cell_type": "markdown",
      "source": [
        "More dictionary creation here: this time, for team names and team codes.\n",
        "\n",
        "RFE get rid of team codes if the user is okay with foregoing the complete team schedule in favor of individual team schedules."
      ],
      "metadata": {
        "id": "ozsWkM-bHtSP"
      }
    },
    {
      "cell_type": "code",
      "source": [
        "# key is team name\n",
        "# value is team code\n",
        "# also created a dictionary where the key/value pairs are swapped\n",
        "team_code_dict = {}\n",
        "code_team_dict = {}\n",
        "for row in team_codes:\n",
        "    team_name = row[0]\n",
        "    team_code = row[1]\n",
        "    team_code_dict[team_name] = team_code\n",
        "    code_team_dict[team_code] = team_name\n",
        "\n",
        "# key is prelim group and a number (i.e. Accra1)\n",
        "# value is corresponding room (i.e. Grand Ballroom A is Accra1)\n",
        "# also created dictionary where key is a playoff bracket instead\n",
        "prelim_room_dict = {}\n",
        "playoff_room_dict = {}\n",
        "super_room_dict = {}\n",
        "for i in room_assignments:\n",
        "    key = i[1] + str(i[2])\n",
        "    value = i[0]\n",
        "    if tournament_phase == 'prelims':\n",
        "        prelim_room_dict[key] = value\n",
        "    elif tournament_phase == 'playoffs':\n",
        "        playoff_room_dict[key] = value\n",
        "    elif tournament_phase == 'super':\n",
        "        super_room_dict[key] = value"
      ],
      "metadata": {
        "id": "zCCyM_MCg-H0"
      },
      "execution_count": 11,
      "outputs": []
    },
    {
      "cell_type": "markdown",
      "source": [
        "Last is the error check section, to see if any of the data submitted by the user was improperly formatted.\n",
        "\n",
        "This whole section needs to be updated... And perhaps distributed elsewhere in the script. It's not working well."
      ],
      "metadata": {
        "id": "dKTcWKPmHfV8"
      }
    },
    {
      "cell_type": "code",
      "source": [
        "# TODO modify max_duplicates to be flexible on schedule and not hard coded\n",
        "# or perhaps get rid of max duplicates since it doesn't make a lot of sense\n",
        "\n",
        "# error_check([sublist[0] for sublist in list_of_teams],\n",
        "#             'the team names in list_of_teams',\n",
        "#             max_length=26)\n",
        "\n",
        "# error_check([sublist[2] for sublist in list_of_teams],\n",
        "#             'the prelim groups in list_of_teams',\n",
        "#             max_length=15,\n",
        "#             )\n",
        "\n",
        "# error_check([sublist[1] for sublist in team_codes],\n",
        "#             'the team codes in team_codes',\n",
        "#             max_length=4)\n",
        "\n",
        "# try:\n",
        "#     error_check(prelim_group_names,\n",
        "#                 'the groups in prelim_group_names',\n",
        "#                 max_length=15)\n",
        "# except:  # TODO bare except\n",
        "#     None\n",
        "\n",
        "# try:\n",
        "#     error_check(playoff_bracket_names,\n",
        "#                 'the brackets in playoff_bracket_names',\n",
        "#                 max_length=15)\n",
        "# except:  # TODO bare except\n",
        "#     None\n",
        "\n",
        "# error_check([sublist[0] for sublist in room_assignments],\n",
        "#             'the list of rooms in room_assignments',\n",
        "#             max_length=15)\n",
        "\n",
        "if error == 0:\n",
        "    print('\\n*** No errors detected upon import. ***')\n",
        "else:\n",
        "    print('\\n*** Errors detected during import! ***')\n",
        "    sys.exit()"
      ],
      "metadata": {
        "id": "DhUxZUHJHehk",
        "collapsed": true,
        "colab": {
          "base_uri": "https://localhost:8080/"
        },
        "outputId": "3fd609ce-d55c-47ba-a4e2-101707aaea88"
      },
      "execution_count": 12,
      "outputs": [
        {
          "output_type": "stream",
          "name": "stdout",
          "text": [
            "\n",
            "*** No errors detected upon import. ***\n"
          ]
        }
      ]
    },
    {
      "cell_type": "markdown",
      "source": [
        "# Function Definitions"
      ],
      "metadata": {
        "id": "owcZyEiJdJTm"
      }
    },
    {
      "cell_type": "markdown",
      "source": [
        "Function for removing duplicates from a list."
      ],
      "metadata": {
        "id": "uQuJVhmyA3CC"
      }
    },
    {
      "cell_type": "code",
      "source": [
        "def remove_duplicates(alist):\n",
        "    newlist = []\n",
        "    [newlist.append(x) for x in alist if x not in newlist]\n",
        "    return newlist"
      ],
      "metadata": {
        "id": "a81URiBdA7G8"
      },
      "execution_count": 13,
      "outputs": []
    },
    {
      "cell_type": "markdown",
      "source": [
        "original function_definitions.py"
      ],
      "metadata": {
        "id": "EUZolcmPAy4y"
      }
    },
    {
      "cell_type": "code",
      "source": [
        "# import time\n",
        "# import sys\n",
        "# from pathlib import Path\n",
        "# from pylatex import (Document, Tabularx, Command,\n",
        "#                       NewPage, HugeText, Package,\n",
        "#                      VerticalSpace)\n",
        "# from pylatex.utils import NoEscape\n",
        "# from cornerstone_input import format_dict\n",
        "\n",
        "# # place additional modules here\n",
        "\n",
        "# header = \"\"\"\n",
        "\n",
        "# Depository for a bunch of class and function definitions shared across\n",
        "# prelim/playoff scripts.\n",
        "\n",
        "# TODO what if snake seed is fed a list with odd number of teams?\n",
        "\n",
        "# TODO what if qr_count ≠ 3?\n",
        "\n",
        "# Created on Mon Nov 1 13:53:44 2021 Eastern Time\n",
        "\n",
        "# @author: Victor Prieto\n",
        "\n",
        "# \"\"\"\n",
        "\n",
        "\n",
        "# # starts program runtime\n",
        "# start_time = time.time()\n",
        "# print('\\n', header)\n",
        "# print('start time: %s' % time.ctime())\n",
        "\n",
        "# # %% function definitions\n",
        "\n",
        "\n",
        "\n",
        "\n",
        "\n",
        "# def split_list(alist, wanted_parts=1):\n",
        "#     length = len(alist)\n",
        "#     return [alist[i*length // wanted_parts: (i+1)*length // wanted_parts]\n",
        "#             for i in range(wanted_parts)]\n",
        "\n",
        "\n",
        "# def snake_seed(list_of_teams, bracket_count):\n",
        "#     \"\"\"\n",
        "#     Parameters\n",
        "#     ----------\n",
        "#     list_of_teams : list\n",
        "#         A list of teams for reordering into playoff brackets by snake seeding.\n",
        "#     bracket_count : int\n",
        "#         Number of playoff brackets to snake seed across.\n",
        "\n",
        "#     Returns\n",
        "#     -------\n",
        "#     newlist : list\n",
        "#         Same list of teams accepted as input, but reordered by snake seeding.\n",
        "#         The list is also split into the number of playoff brackets.\n",
        "#         Example:\n",
        "#             (1, 2, 3, 4... 23, 24)\n",
        "#             snake seeded across four brackets becomes\n",
        "#             ((1, 8, 9, 16, 17, 24), (2, 7, 10, 15, 18... 12, 13, 20, 21))\n",
        "\n",
        "#     \"\"\"\n",
        "\n",
        "#     # generates sequence of indices for snake seeding\n",
        "#     sequence_length = 2 * bracket_count\n",
        "#     reps = len(list_of_teams) / sequence_length\n",
        "#     sequence = []\n",
        "#     for i in range(0, int(sequence_length/2)):\n",
        "#         for j in range(0, int(reps)):\n",
        "#             sequence.append(i+j*sequence_length)\n",
        "#             sequence.append((sequence_length-1-i)+j*sequence_length)\n",
        "\n",
        "#     # quits program if odd number of teams in list_of_teams\n",
        "#     if (len(list_of_teams)) % 2 == 1:\n",
        "#         print('ODD NUMBER OF TEAMS DETECTED')\n",
        "#         sys.exit()\n",
        "\n",
        "#     # use sequence of indices to generate new list of teams\n",
        "#     newlist = (list_of_teams[index] for index in sequence)\n",
        "#     return newlist\n",
        "\n",
        "\n",
        "# def alternating_rows(doc, color):\n",
        "#     return doc.append(NoEscape(r'\\rowcolors{3}{white}{%s}' % color))\n",
        "\n",
        "\n",
        "# def duplicate_checker(alist):\n",
        "#     seen = set()\n",
        "#     for x in alist:\n",
        "#         if x in seen:\n",
        "#             return True\n",
        "#         seen.add(x)\n",
        "#     return False\n",
        "\n",
        "\n",
        "# def start_latex(filename_input, docname, title=True, fontsize=False):\n",
        "\n",
        "#     Path(\"./output/\").mkdir(parents=True, exist_ok=True)\n",
        "#     file_path = r'./output/'\n",
        "#     Path(file_path).mkdir(parents=True, exist_ok=True)\n",
        "#     filename = file_path + filename_input        \n",
        "    \n",
        "#     geometry_options = {\n",
        "#         \"includeheadfoot\": True\n",
        "#     }\n",
        "\n",
        "#     doc = Document(filename, geometry_options=geometry_options)\n",
        "\n",
        "#     # this changed font sizes, but it doesn't work so well\n",
        "#     if fontsize is True:\n",
        "#         doc = Document(filename_input, geometry_options=geometry_options,\n",
        "#                        font_size='')\n",
        "#         doc.append(Command('fontsize', arguments=['12', '12']))\n",
        "#         doc.append(Command('selectfont'))\n",
        "\n",
        "#     doc.preamble.append(Command('title', format_dict['tournament name']))\n",
        "#     doc.preamble.append(Command('author', format_dict['tournament location']))\n",
        "#     doc.preamble.append(Command('date', format_dict['tournament date']))\n",
        "    \n",
        "#     doc.packages.append(Package('qrcode'))  # add qrcode to packages\n",
        "#     doc.packages.append(Package('fancyhdr'))  # add qrcode to packages\n",
        "\n",
        "#     doc.append(NoEscape(r'\\newcolumntype{Y}{>{\\centering\\arraybackslash}X}'))\n",
        "\n",
        "#     # TODO vertically center docname text on page\n",
        "#     if title is True:\n",
        "#         doc.append(NoEscape(r'\\maketitle'))\n",
        "#         doc.append(VerticalSpace('48pt'))\n",
        "#         doc.append(NoEscape(r'\\begin{center}'))\n",
        "#         doc.append(HugeText(docname))\n",
        "#         doc.append(NoEscape(r'\\end{center}'))\n",
        "#         doc.append(NewPage())\n",
        "    \n",
        "#     doc.append(NoEscape(r'\\pagestyle{fancy}'))\n",
        "#     doc.append(NoEscape(r'\\fancyhf{}'))\n",
        "#     date = '{' + format_dict['tournament date'] + '}'\n",
        "#     name = '{' + format_dict['tournament name'] + '}'\n",
        "#     doc.append(NoEscape(fr'\\rhead{date}'))\n",
        "#     doc.append(NoEscape(fr'\\lhead{name}'))\n",
        "#     doc.append(NoEscape(r'\\rfoot{Created by Cornerstone.}'))\n",
        "        \n",
        "#     return doc\n",
        "\n",
        "\n",
        "# def close_latex(filename_input, doc_input):\n",
        "#     file_path = r'./output/'\n",
        "#     filename = file_path + filename_input\n",
        "#     doc_input.generate_tex()\n",
        "#     doc_input.generate_pdf()\n",
        "\n",
        "#     file = open(filename + '.tex')\n",
        "#     latex_string = file.read()\n",
        "#     bad_string = '\\\\usepackage{lastpage}%'\n",
        "#     good_string = '\\\\usepackage[table]{xcolor}%'\n",
        "#     # print(latex_string)\n",
        "#     latex_string = latex_string.replace(bad_string, good_string)\n",
        "\n",
        "#     # for visual debugging\n",
        "#     # print('\\n\\n', latex_string[0:700], '\\n\\n')\n",
        "\n",
        "#     with open(f'{filename}.tex', 'w') as f:\n",
        "#         f.write(latex_string)\n",
        "\n",
        "\n",
        "# # %% classes, mostly not in use\n",
        "# # TODO figure out class inheritance for team/prelim_team/playoff_team\n",
        "# class team:\n",
        "#     def __init__(self,\n",
        "#                  name,\n",
        "#                  code):\n",
        "#         self.name = name\n",
        "#         self.code = code\n",
        "\n",
        "\n",
        "# class prelim_team(team):\n",
        "#     def __init__(self,\n",
        "#                  name,\n",
        "#                  code,\n",
        "#                  prelim_group,\n",
        "#                  prelim_seed):\n",
        "#         super().__init__(name, code)\n",
        "#         self.prelim_group = prelim_group\n",
        "#         self.prelim_seed = prelim_seed\n",
        "\n",
        "\n",
        "# class playoff_team():\n",
        "#     def __init__(self,\n",
        "#                  name,\n",
        "#                  code,\n",
        "#                  prelim_group,\n",
        "#                  playoff_bracket,\n",
        "#                  playoff_seed):  # playoff seed also the prelim finish\n",
        "#         self.name = name\n",
        "#         self.code = code\n",
        "#         self.prelim_group = prelim_group\n",
        "#         self.playoff_bracket = playoff_bracket\n",
        "#         self.playoff_seed = playoff_seed\n",
        "\n",
        "# # %% more function definitions\n",
        "\n",
        "\n",
        "# def header_stringify(teamcount, tabularx=False):\n",
        "#     \"\"\"\n",
        "\n",
        "#     Parameters\n",
        "#     ----------\n",
        "#     teamcount : int\n",
        "#         Number of teams in the round robin.\n",
        "#     tabularx : bool, optional\n",
        "#         Changes header string to account for newcolumntype Y, used in tabularx.\n",
        "#         The default is False.\n",
        "\n",
        "#     Returns\n",
        "#     -------\n",
        "#     A string for pylatex to use when defining the table.\n",
        "#     Example: '|l|cc|cc|cc|cc|'\n",
        "\n",
        "#     If tabularx is set to True, returns a string that utilizes newcolumntype Y.\n",
        "#     Example: '|l|Y|Y|Y|Y|Y|Y|'\n",
        "\n",
        "#     \"\"\"\n",
        "\n",
        "#     roomcount = teamcount // 2\n",
        "\n",
        "#     header_string = '|l' + ('|cc' * roomcount + '|')\n",
        "#     if teamcount % 2 == 1:\n",
        "#         header_string = header_string + 'c|'\n",
        "\n",
        "#     if tabularx is True:\n",
        "#         header_string = '|l' + ('|Y' * teamcount + '|')\n",
        "\n",
        "#     return header_string\n",
        "\n",
        "\n",
        "# # %% prints runtime\n",
        "# print('end time: %s' % time.ctime())\n",
        "# print(\"--- %s seconds ---\" % '%.3f' % (time.time() - start_time))\n",
        "# print(\"--- %s minutes ---\" % '%.3f' % (time.time()/60 - start_time/60))"
      ],
      "metadata": {
        "id": "83PLhfS0ArVn"
      },
      "execution_count": 14,
      "outputs": []
    },
    {
      "cell_type": "markdown",
      "source": [
        "# Standard Scheduler Function\n",
        "\n",
        "Created on Mon Nov 22 2021\n",
        "\n",
        "Definition of functions used for creating a table for a round robin schedule,\n",
        "between 4 and 14 teams.\n",
        "\n",
        "TODO if possible, fix pylatex table lines and shading in this function"
      ],
      "metadata": {
        "id": "GEJoeZNfdPrN"
      }
    },
    {
      "cell_type": "markdown",
      "source": [
        "First: retrieve the round robin templates stored on the cornerstone github page. The templates will automatically populate a dictionary.\n",
        "\n",
        "Each key is the name of the sheet corresponding to the round robin template: rr_6 is a basic 6 team round robin, rr_12 is for 12 teams, rr_crossover_A8 is the 8 team playoff roundrobin including crossovers (there are two possible crossovers, A and B, based on [Dwight Wynne's spreadsheet of schedule formats](https://https://docs.google.com/spreadsheets/d/1BPF6jFvhkh5qe7eesGFGU9KH6FVps2tS3YeseFocpIE/edit#gid=16)).\n",
        "\n",
        "The dictionary values are the pandas dataframes for each template.\n",
        "\n",
        "These templates will be used in the standard scheduler function and retrieved based on the key name."
      ],
      "metadata": {
        "id": "Q__BsPTWAtPh"
      }
    },
    {
      "cell_type": "code",
      "source": [
        "url = \"https://github.com/victorprieto2265/cornerstone/blob/main/templates/rr_schedules/rr_templates.xlsx?raw=true\"\n",
        "rr_template_dict = pd.read_excel(url,\n",
        "                                 sheet_name = None)\n",
        "rr_template_dict.keys()"
      ],
      "metadata": {
        "id": "7FtnKegkiJUy",
        "collapsed": true,
        "colab": {
          "base_uri": "https://localhost:8080/"
        },
        "outputId": "bd998a49-39eb-4b45-c0c6-3afb2c74d948"
      },
      "execution_count": 15,
      "outputs": [
        {
          "output_type": "execute_result",
          "data": {
            "text/plain": [
              "dict_keys(['rr_3', 'rr_4', 'rr_5', 'rr_6', 'rr_7', 'rr_8', 'rr_9', 'rr_10', 'rr_11', 'rr_12', 'rr_13', 'rr_14', 'rr_crossover_B3', 'rr_crossover_A6', 'rr_crossover_B6', 'rr_crossover_B7', 'rr_crossover_A8', 'rr_crossover_B8'])"
            ]
          },
          "metadata": {},
          "execution_count": 15
        }
      ]
    },
    {
      "cell_type": "markdown",
      "source": [
        "DONE \n",
        "\n",
        "*  testing of proper schedule retrieval from rr_template_dict\n",
        "\n",
        "TODO\n",
        "\n",
        "*  fix the crossover templates in the excel file, which right now are a mess "
      ],
      "metadata": {
        "id": "szp10lDJkBo2"
      }
    },
    {
      "cell_type": "code",
      "source": [
        "teamcount = 8\n",
        "crossover = 'A'\n",
        "\n",
        "if crossover is False:\n",
        "  key = f'rr_{teamcount}'\n",
        "else:\n",
        "  key = f'rr_crossover_{crossover}{teamcount}'\n",
        "\n",
        "rr_schedule = rr_template_dict[key].values.tolist()\n",
        "\n",
        "print(*rr_schedule, sep='\\n')"
      ],
      "metadata": {
        "id": "xDcLJrurF1zG",
        "collapsed": true,
        "colab": {
          "base_uri": "https://localhost:8080/"
        },
        "outputId": "089dee61-4325-4cbb-c24f-3c3c345e34e6"
      },
      "execution_count": 16,
      "outputs": [
        {
          "output_type": "stream",
          "name": "stdout",
          "text": [
            "['A1', 'B2', 'C1', 'D2', 'B1', 'A2', 'D1', 'C2']\n",
            "['C1', 'A2', 'A1', 'C2', 'D1', 'B2', 'B1', 'D2']\n",
            "['B1', 'C2', 'D1', 'A2', 'A1', 'D2', 'C1', 'B2']\n",
            "['A1', 'D1', 'B2', 'C2', 'B1', 'C1', 'A2', 'D2']\n",
            "['B2', 'D2', 'B1', 'D1', 'A2', 'C2', 'A1', 'C1']\n",
            "['C1', 'D1', 'A1', 'B1', 'C2', 'D2', 'A2', 'B2']\n"
          ]
        }
      ]
    },
    {
      "cell_type": "markdown",
      "source": [
        "Definition of the standard scheduler function is below."
      ],
      "metadata": {
        "id": "rLOCcNtEFpce"
      }
    },
    {
      "cell_type": "code",
      "source": [
        "def standard_schedule(group_name, teamcode_dict, room_dict, roundstart=1,\n",
        "                      crossover=False, superplayoff=False):\n",
        "    \"\"\"\n",
        "\n",
        "\n",
        "    Parameters\n",
        "    ----------\n",
        "    groupname : string\n",
        "        String of the prelim group or playoff bracket name.\n",
        "        Example: Lilongwe\n",
        "    teamcode_dict : dict\n",
        "        k : v = a group/bracket code : teamcode corresponding to that code\n",
        "        example: Lilongwe4 = MBA\n",
        "    room_dict : dict\n",
        "        k : v = a group/bracket code : room corresponding to that code\n",
        "        example: Lilongwe2 = Suite 1132\n",
        "    roundstart : int, optional\n",
        "        Number for the first round in the schedule. The default is 1.\n",
        "\n",
        "    Returns\n",
        "    -------\n",
        "    schedule_grid : list\n",
        "        Latex-friendly table. First row = table header, remaining rows =\n",
        "        schedule for each round.\n",
        "\n",
        "    \"\"\"\n",
        "\n",
        "    # produce teamlist\n",
        "    teamlist = [k for k, v in list(teamcode_dict.items())\n",
        "                if k.startswith(group_name)]\n",
        "    sorted_list = sorted(teamlist)\n",
        "    teamlist = [teamcode_dict[i] for i in sorted_list]\n",
        "\n",
        "    # identify number of teams in teamlist and appropriate number of rooms\n",
        "    teamcount = len(teamlist)\n",
        "    roomcount = teamcount // 2\n",
        "\n",
        "    if len(teamlist) <= 2:\n",
        "      print('Unable to produce round robins smaller than 3.')\n",
        "      sys.exit()\n",
        "\n",
        "    if len(teamlist) >= 15:\n",
        "      print('Unable to produce round robins larger than 14.')\n",
        "      sys.exit()\n",
        "\n",
        "    # retrieve correct rr_template from rr_template_dict\n",
        "    if crossover is False:\n",
        "      key = f'rr_{teamcount}'\n",
        "    else:\n",
        "      key = f'rr_crossover_{crossover}{teamcount}'\n",
        "\n",
        "    rr_schedule = rr_template_dict[key].values.tolist()\n",
        "\n",
        "    # produce roomlist\n",
        "    roomlist = [k for k, v in list(room_dict.items())\n",
        "                if k.startswith(group_name)]\n",
        "    roomlist = [room_dict[i] for i in sorted(roomlist)]\n",
        "\n",
        "    # populate header with room names\n",
        "    rooms = []\n",
        "    header = ['']\n",
        "    for index in range(roomcount):\n",
        "        room = roomlist[index]\n",
        "        header.append(room)\n",
        "\n",
        "    # the last element in the header should be BYE if teamcount is odd\n",
        "    if teamcount % 2 == 1:\n",
        "        header.append('BYE')\n",
        "\n",
        "    # use rr_schedule template and roundstart to produce rest of schedule grid\n",
        "    schedule_grid = [header]\n",
        "    for round_num, row in enumerate(rr_schedule):\n",
        "        round_num += roundstart\n",
        "        new_row = [f'Round {round_num}']\n",
        "        for index in row:\n",
        "            code = group_name + str(index)\n",
        "            team = teamcode_dict[code]\n",
        "            new_row.append(team)\n",
        "        schedule_grid.append(new_row)\n",
        "\n",
        "    return schedule_grid"
      ],
      "metadata": {
        "id": "wlG8swh1trsX"
      },
      "execution_count": 17,
      "outputs": []
    },
    {
      "cell_type": "markdown",
      "source": [
        "# Individual Schedule Functions "
      ],
      "metadata": {
        "id": "5n9ob-8odPkM"
      }
    },
    {
      "cell_type": "markdown",
      "source": [
        "This section contains the functions that extract individual team and room schedules from a schedule grid.\n",
        "\n",
        "Use get_team_list() and get_room_list() to generate a list of teams and a list of rooms from a schedule grid."
      ],
      "metadata": {
        "id": "wS0ljqoELnJq"
      }
    },
    {
      "cell_type": "code",
      "source": [
        "def get_team_list(schedule_grid):\n",
        "    team_list = sorted(schedule_grid[1][1:])\n",
        "    return team_list\n",
        "\n",
        "\n",
        "def get_room_list(schedule_grid):\n",
        "    # remove first element in header, which should be an empty string\n",
        "    header = schedule_grid[0][1:]\n",
        "    \n",
        "    # retrieve room list\n",
        "    room_list = [i for i in header]\n",
        "    if 'BYE' in header:\n",
        "        room_list[-1] = 'BYE'\n",
        "    return room_list"
      ],
      "metadata": {
        "id": "WPJyVdz1Ltml"
      },
      "execution_count": 18,
      "outputs": []
    },
    {
      "cell_type": "markdown",
      "source": [
        "For a given team in a given round, what team do they play and where? Use find_opponent().\n"
      ],
      "metadata": {
        "id": "a7OD0aUxL8W9"
      }
    },
    {
      "cell_type": "code",
      "source": [
        "def find_opponent(team, row, room_list, code_dict):\n",
        "    index = row.index(team)\n",
        "    room = room_list[index]\n",
        "    if row[-1] == team and room_list[-1] == 'BYE':\n",
        "        opponent = 'BYE'\n",
        "    elif index % 2 == 0:\n",
        "        opponent_code = row[index+1]\n",
        "        opponent = code_dict[opponent_code]\n",
        "    else:\n",
        "        opponent_code = row[index-1]\n",
        "        opponent = code_dict[opponent_code]\n",
        "    return room, opponent"
      ],
      "metadata": {
        "id": "KJH6zps2NyoC"
      },
      "execution_count": 19,
      "outputs": []
    },
    {
      "cell_type": "markdown",
      "source": [
        "what teams are in a room at a given round?"
      ],
      "metadata": {
        "id": "7UtVnnn7N2ei"
      }
    },
    {
      "cell_type": "code",
      "source": [
        "def find_teams(row, room, roomlist, code_dict):\n",
        "    index = roomlist.index(room)\n",
        "    teams = row[2*index:2*index+2]\n",
        "    teams = [*map(code_dict.get, teams)]\n",
        "    return sorted(teams)  # alphabetically sorts teams"
      ],
      "metadata": {
        "id": "BqybAya0N24c"
      },
      "execution_count": 20,
      "outputs": []
    },
    {
      "cell_type": "markdown",
      "source": [
        "The clean_up_grid function is sometimes used to remove the header row (room list) and the round number column on the left."
      ],
      "metadata": {
        "id": "uU0U0j32OBUN"
      }
    },
    {
      "cell_type": "code",
      "source": [
        "def clean_up_grid(schedule_grid):\n",
        "    no_header = schedule_grid[1:]\n",
        "    basic_schedule_grid = []\n",
        "    for index, row in enumerate(no_header):\n",
        "        basic_schedule_grid.append(row[1:])\n",
        "\n",
        "    return basic_schedule_grid"
      ],
      "metadata": {
        "id": "kBKx4V4WN98S"
      },
      "execution_count": 21,
      "outputs": []
    },
    {
      "cell_type": "markdown",
      "source": [
        "The specific_team_scheduler function is the key for generating a schedule grid for a single team."
      ],
      "metadata": {
        "id": "cNyCExgmOLlu"
      }
    },
    {
      "cell_type": "code",
      "source": [
        "def specific_team_scheduler(team, schedule_grid, room_list, code_dict,\n",
        "                            round_start=1):\n",
        "    \n",
        "    # generate room_list with duplicated values\n",
        "    # need this for finding an opponent at a particular index\n",
        "    dup_room_list = [room for room in room_list for _ in (0, 1)]\n",
        "\n",
        "    # how many rounds in the grid?\n",
        "    rounds = len(schedule_grid)\n",
        "\n",
        "    specific_grid = [['', 'Room Name', 'Opponent']]\n",
        "    for i in range(0, rounds):\n",
        "        room, opponent = find_opponent(team,\n",
        "                                       schedule_grid[i],\n",
        "                                       dup_room_list,\n",
        "                                       code_dict)\n",
        "\n",
        "        specific_grid.append([f'Round {round_start+i}', room, opponent])\n",
        "\n",
        "    return specific_grid"
      ],
      "metadata": {
        "id": "Ap0lkVL1OOKM"
      },
      "execution_count": 22,
      "outputs": []
    },
    {
      "cell_type": "markdown",
      "source": [
        "Like specific_team_scheduler(), specific_room_scheduler is the key for generating the schedule for an individual room."
      ],
      "metadata": {
        "id": "kD6q752_O-jC"
      }
    },
    {
      "cell_type": "code",
      "source": [
        "def specific_room_scheduler(room, schedule_grid, room_list,\n",
        "                            code_dict, round_start=1):\n",
        "\n",
        "    specific_grid = [['', 'Team 1', 'Team 2']]\n",
        "    for index, row in enumerate(basic_schedule_grid):\n",
        "        teams = find_teams(row, room, room_list, code_dict)\n",
        "        if room == 'BYE':\n",
        "            return 'BYE'\n",
        "        specific_grid.append([f'Round {round_start+index}',\n",
        "                              teams[0], teams[1]])\n",
        "\n",
        "    return specific_grid"
      ],
      "metadata": {
        "id": "xfuyEiYnPG1p"
      },
      "execution_count": 23,
      "outputs": []
    },
    {
      "cell_type": "markdown",
      "source": [
        "# Prelim Scheduler\n",
        "\n",
        "This section reads the list of prelim teams and information from the tournament format dictionary to produce a set of prelim schedules."
      ],
      "metadata": {
        "id": "K4OmpZngcsFP"
      }
    },
    {
      "cell_type": "markdown",
      "source": [
        "dictionary creation\n",
        "\n",
        "prelim group names"
      ],
      "metadata": {
        "id": "Is1C6X6cAbNi"
      }
    },
    {
      "cell_type": "code",
      "source": [
        "prelim_group_names = [sublist[1] for sublist in list_of_teams]\n",
        "prelim_group_names = remove_duplicates(prelim_group_names)\n",
        "\n",
        "# key is a prelim group name and a seed (i.e. Belmopan6)\n",
        "# value is the corresponding team (i.e. Great Valley A for Belmopan6)\n",
        "# also created a dictionary where values are team codes (i.e. GVA)\n",
        "prelim_team_dict = {}\n",
        "prelim_teamcode_dict = {}\n",
        "team_group_dict = {}\n",
        "teamcode_group_dict = {}\n",
        "for i in list_of_teams:\n",
        "    # key = i[2] + str(i[3])\n",
        "    key = i[1] + str(i[2])\n",
        "    value = i[0]  # team name\n",
        "    prelim_team_dict[key] = value\n",
        "    # also created dictionary where k/v pairs are swapped\n",
        "    team_group_dict[value] = key\n",
        "    # value = i[1]  # team code\n",
        "    value = team_code_dict[value]\n",
        "    prelim_teamcode_dict[key] = value\n",
        "    # also created dictionary where k/v pairs are swapped\n",
        "    teamcode_group_dict[value] = key\n",
        "\n",
        "# key is prelim group and a number (i.e. Accra1)\n",
        "# value is corresponding room (i.e. Grand Ballroom A is Accra1)\n",
        "# also created dictionary where key is a playoff bracket instead\n",
        "prelim_room_dict = {}\n",
        "for i in room_assignments:\n",
        "    key = i[1] + str(i[2])\n",
        "    value = i[0]\n",
        "    prelim_room_dict[key] = value"
      ],
      "metadata": {
        "id": "yqDIBPxpAXbJ"
      },
      "execution_count": 24,
      "outputs": []
    },
    {
      "cell_type": "markdown",
      "source": [
        "full schedule grid creation"
      ],
      "metadata": {
        "id": "rAozDnfXAiC6"
      }
    },
    {
      "cell_type": "code",
      "source": [
        "full_schedule_grid = []\n",
        "\n",
        "# perform this process for each prelim group, add to full_schedule_grid\n",
        "for group_name in prelim_group_names:\n",
        "    schedule_grid = (standard_schedule(group_name,\n",
        "                                       prelim_teamcode_dict,\n",
        "                                       prelim_room_dict))\n",
        "    full_schedule_grid.append(schedule_grid)"
      ],
      "metadata": {
        "id": "9Q-DolBuAaJZ"
      },
      "execution_count": 25,
      "outputs": []
    },
    {
      "cell_type": "markdown",
      "source": [
        "To make sure the full_schedule_grid was populated correctly, we'll print it out line by line."
      ],
      "metadata": {
        "id": "2yJI1x6PBUjr"
      }
    },
    {
      "cell_type": "code",
      "source": [
        "# for visual debugging\n",
        "for index, prelim_group in enumerate(prelim_group_names):\n",
        "    print(f'\\nPrelim Group: {prelim_group}')\n",
        "    print(*full_schedule_grid[index], sep='\\n')"
      ],
      "metadata": {
        "id": "Ozt12wMnBT2A",
        "collapsed": true,
        "colab": {
          "base_uri": "https://localhost:8080/"
        },
        "outputId": "f357a0ad-0373-43a9-dc0e-0f3e3b0e3ade"
      },
      "execution_count": 26,
      "outputs": [
        {
          "output_type": "stream",
          "name": "stdout",
          "text": [
            "\n",
            "Prelim Group: none\n",
            "['', 'Room 1', 'Room 2', 'Room 3', 'Room 4']\n",
            "['Round 1', 'NYUB', 'T7', 'PRIN', 'COLA', 'NYUA', 'T8', 'YALE', 'JOHN']\n",
            "['Round 2', 'NYUA', 'JOHN', 'YALE', 'COLA', 'PRIN', 'T7', 'NYUB', 'T8']\n",
            "['Round 3', 'PRIN', 'T8', 'NYUA', 'T7', 'JOHN', 'COLA', 'YALE', 'NYUB']\n",
            "['Round 4', 'COLA', 'T7', 'YALE', 'T8', 'JOHN', 'NYUB', 'NYUA', 'PRIN']\n",
            "['Round 5', 'PRIN', 'NYUB', 'JOHN', 'T8', 'YALE', 'T7', 'NYUA', 'COLA']\n",
            "['Round 6', 'COLA', 'T8', 'NYUA', 'NYUB', 'YALE', 'PRIN', 'JOHN', 'T7']\n",
            "['Round 7', 'YALE', 'NYUA', 'PRIN', 'JOHN', 'NYUB', 'COLA', 'T7', 'T8']\n"
          ]
        }
      ]
    },
    {
      "cell_type": "markdown",
      "source": [
        "# Class Definitions for fpdf2"
      ],
      "metadata": {
        "id": "A5Qp8Ae2cA7Z"
      }
    },
    {
      "cell_type": "markdown",
      "source": [
        "There are five types of tables that Cornerstone will need to generate:\n",
        "*  the full schedule\n",
        "*  the individualized team schedule\n",
        "*  the individualized room schedule\n",
        "*  the team index (includes toggle for prelims/playoffs/superplayoffs)\n",
        "*  the playoff quickstart schedule (first playoff room for all teams)\n",
        "\n",
        "The last one will not be needed for the prelim writer, but will be necessary for playoffs (and superplayoffs if needed).\n",
        "\n",
        "For all of these tables, we will create a unique class via fpdf2 for writing the table onto a PDF. These five classes are at the bottom of this section. First, we will define a few templates used across the printed documents:\n",
        "\n",
        "*  the title page\n",
        "*  the header\n",
        "*  the footer\n"
      ],
      "metadata": {
        "id": "6_mFRVFAcFY9"
      }
    },
    {
      "cell_type": "markdown",
      "source": [
        "First is the title page to start each document. A nice touch, albeit not 100% necessary and may add a toggle for this later.\n",
        "\n",
        "Important: this is the first instance of the PDF class. Therefore, the argument is FPDF, while all other later class instances have PDF instead to build on the existing class."
      ],
      "metadata": {
        "id": "580yHo0SklgX"
      }
    },
    {
      "cell_type": "code",
      "source": [
        "class PDF(FPDF):\n",
        "\n",
        "    def title_page(self, tournament_name, tournament_location, tournament_date,\n",
        "                   document_title):\n",
        "                \n",
        "        # Setting font: bold times 11, black\n",
        "        self.set_text_color(0)\n",
        "\n",
        "        # move cursor 6.2 cm down the page\n",
        "        self.set_y(62)\n",
        "\n",
        "        # write the tournament name, location, and date\n",
        "        self.set_font(\"times\", size=16)\n",
        "        self.cell(0, None, tournament_name, align=\"C\",\n",
        "                  new_x=\"LEFT\", new_y=\"NEXT\")\n",
        "        self.ln(10)  # line break\n",
        "\n",
        "        self.set_font(\"times\", size=12)\n",
        "        self.cell(0, None, tournament_location, align=\"C\")\n",
        "        self.ln(10)  # line break\n",
        "        self.cell(0, None, tournament_date, align=\"C\")\n",
        "        self.ln(45)  # line break\n",
        "\n",
        "        self.set_font(\"times\", size=24)\n",
        "        self.cell(0, None, document_title, align=\"C\")"
      ],
      "metadata": {
        "id": "N2BgXfyLkzy7"
      },
      "execution_count": 27,
      "outputs": []
    },
    {
      "cell_type": "code",
      "source": [
        "class PDF(PDF):\n",
        "\n",
        "    def page_header(self, tournament_name, tournament_date):\n",
        "                \n",
        "        # Setting font: bold times 11\n",
        "        font_size = 11\n",
        "        self.set_font(\"times\", style=\"I\", size=font_size)\n",
        "\n",
        "        # Print tournament name in upper left:\n",
        "        self.cell(None, 2, tournament_name, new_x=\"LEFT\")\n",
        "\n",
        "        # Create empty cell with bottom border (can modify for centered text)\n",
        "        self.cell(0, None, \" \", \"B\", align=\"C\")\n",
        "\n",
        "        # Print tournament date in upper right\n",
        "        self.cell(0, 2, tournament_date, align=\"R\")\n",
        "\n",
        "        # Performing a line break:\n",
        "        self.ln(20)\n",
        "\n",
        "    def page_footer(self):\n",
        "        \n",
        "        # # putting in a logo:\n",
        "        # self.image(\"../docs/fpdf2-logo.png\", 10, 8, 33)\n",
        "        \n",
        "        # Position cursor at left and 26.04 cm from bottom:\n",
        "        # self.set_y(0, 260.4)\n",
        "        self.set_y(-27)\n",
        "\n",
        "        # Setting font: times italic 11\n",
        "        font_size = 11\n",
        "        self.set_text_color(0)\n",
        "        self.set_font(\"times\", style=\"I\", size=font_size)\n",
        "        \n",
        "        # Print footer text:\n",
        "        self.cell(0, 6, \"Created by Cornerstone\", border=\"B\", align=\"R\")\n"
      ],
      "metadata": {
        "id": "m_slBLE2dOK0"
      },
      "execution_count": 28,
      "outputs": []
    },
    {
      "cell_type": "markdown",
      "source": [
        "## Prelims - Complete Schedule"
      ],
      "metadata": {
        "id": "T3jjXFPX1gTK"
      }
    },
    {
      "cell_type": "markdown",
      "source": [
        "This class generates the tables used for the full schedule."
      ],
      "metadata": {
        "id": "uX138nHO9JVN"
      }
    },
    {
      "cell_type": "code",
      "source": [
        "class PDF(PDF):\n",
        "\n",
        "    def full_schedule(self, header, rows,\n",
        "                      header_color=(135, 135, 135), row_color=(210, 210, 210)):\n",
        "      \n",
        "      header_count = len(header)\n",
        "      if header[-1] == 'BYE':\n",
        "        cell_count = header_count * 2 - 2\n",
        "      else:\n",
        "        cell_count = header_count * 2 - 1\n",
        "      col_width = pdf.epw / cell_count  # distribute columns evenly\n",
        "\n",
        "      header_widths = [col_width * 2] * (header_count - 2)  # populate list with col widths\n",
        "      header_widths.insert(0, col_width)\n",
        "      header_widths.append(col_width)\n",
        "\n",
        "      cell_widths = [col_width] * cell_count\n",
        "\n",
        "      self.set_fill_color(*header_color)  # * required to unpack tuple\n",
        "      self.set_text_color(255)\n",
        "      self.set_draw_color(36, 36, 36)\n",
        "      self.set_line_width(0.3)\n",
        "      self.set_font(style=\"B\")\n",
        "      for col_width, heading in zip(header_widths, header):\n",
        "          self.cell(col_width, 7, heading, border=1, align=\"C\", fill=True)\n",
        "      self.ln()\n",
        "\n",
        "      # Color and font restoration:\n",
        "      self.set_fill_color(*row_color)  # * required to unpack tuple\n",
        "      self.set_text_color(0)\n",
        "      self.set_font()\n",
        "      fill = False\n",
        "      for row in rows:\n",
        "        for index, item in enumerate(row):          \n",
        "          if index == 0:\n",
        "            self.set_font(style=\"B\")\n",
        "          else:\n",
        "            self.set_font()\n",
        "          self.cell(cell_widths[index],\n",
        "                    7,\n",
        "                    item,\n",
        "                    border=\"LR\",\n",
        "                    align=\"C\",\n",
        "                    fill=fill)\n",
        "        self.ln()\n",
        "        fill = not fill\n",
        "        # self.cell(sum(col_widths), 0, \"\", \"T\")  # this was in the original but broke things so it's commented out for now\n",
        "\n",
        "      self.set_fill_color(*header_color)  # * required to unpack tuple\n",
        "      self.set_text_color(255)\n",
        "      self.set_draw_color(36, 36, 36)\n",
        "      self.set_line_width(0.3)\n",
        "      self.set_font(style=\"B\")\n",
        "      for col_width, heading in zip(header_widths, header):\n",
        "          self.cell(col_width, 7, heading, border=1, align=\"C\", fill=True)\n",
        "\n",
        "      self.ln(14)"
      ],
      "metadata": {
        "id": "2sXgrSqj4QQz"
      },
      "execution_count": 29,
      "outputs": []
    },
    {
      "cell_type": "markdown",
      "source": [
        "## Prelims - Individual Schedule"
      ],
      "metadata": {
        "id": "Lsvgg3XgLlT9"
      }
    },
    {
      "cell_type": "markdown",
      "source": [
        "This class is used to generate the tables for individual team and room schedules, which are nearly identical except the room schedules will have a confirmation box for team scores and signatures."
      ],
      "metadata": {
        "id": "wvG1_G3o8wDb"
      }
    },
    {
      "cell_type": "code",
      "source": [
        "class PDF(PDF):\n",
        "\n",
        "    def individual_schedule(self, header, rows, signature=False,\n",
        "                      header_color=(135, 135, 135), row_color=(210, 210, 210)):\n",
        "\n",
        "      # start table at 15.45, draw cells 33 + 66 + 66 for each column\n",
        "      # right margin will also be 15.45\n",
        "\n",
        "      self.set_x(25.45)\n",
        "      cell_widths = [33, 66, 66]\n",
        "\n",
        "      self.set_fill_color(*header_color)  # * required to unpack tuple\n",
        "      self.set_text_color(255)\n",
        "      self.set_draw_color(36, 36, 36)\n",
        "      self.set_line_width(0.3)\n",
        "      self.set_font(style=\"B\")\n",
        "      for cell_width, heading in zip(cell_widths, header):\n",
        "          self.cell(cell_width, 8, heading, border=1, align=\"C\", fill=True)\n",
        "      self.ln()\n",
        "      self.set_x(25.45)\n",
        "\n",
        "      # Color and font restoration:\n",
        "      self.set_fill_color(*row_color)  # * required to unpack tuple\n",
        "      self.set_text_color(0)\n",
        "      self.set_font()\n",
        "      fill = False\n",
        "      for row in rows:\n",
        "        for index, item in enumerate(row):          \n",
        "          if index == 0:\n",
        "            self.set_font(style=\"B\")\n",
        "          else:\n",
        "            self.set_font()\n",
        "          self.cell(cell_widths[index],\n",
        "                    8,\n",
        "                    item,\n",
        "                    border=\"LR\",\n",
        "                    align=\"C\",\n",
        "                    fill=fill)\n",
        "        fill = not fill  # I am pretty sure this is what alternates row colors!\n",
        "\n",
        "        self.ln()\n",
        "        self.set_x(25.45)\n",
        "\n",
        "        # RFE add row for team score + signature confirmation\n",
        "        if signature == True:\n",
        "          pass\n",
        "\n",
        "      self.set_fill_color(*header_color)  # * required to unpack tuple\n",
        "      self.set_text_color(255)\n",
        "      self.set_draw_color(36, 36, 36)\n",
        "      self.set_line_width(0.3)\n",
        "      self.set_font(style=\"B\")\n",
        "      for cell_width, heading in zip(cell_widths, header):\n",
        "          self.cell(cell_width, 8, heading, border=1, align=\"C\", fill=True)\n",
        "\n",
        "      self.ln(14)"
      ],
      "metadata": {
        "id": "HEELLKhcL8_O"
      },
      "execution_count": 30,
      "outputs": []
    },
    {
      "cell_type": "markdown",
      "source": [
        "# Prelim PDF Writer"
      ],
      "metadata": {
        "id": "-G75IfqqdJTn"
      }
    },
    {
      "cell_type": "markdown",
      "source": [
        "First to generate: full prelim schedule for all teams, all rooms."
      ],
      "metadata": {
        "id": "dpuJ3YH8Px9l"
      }
    },
    {
      "cell_type": "code",
      "source": [
        "pdf = PDF(format=\"letter\")  # default is A4, need to specify US letter\n",
        "\n",
        "# title page\n",
        "pdf.add_page()\n",
        "\n",
        "pdf.title_page(format_dict['tournament name'],\n",
        "               format_dict['tournament location'],\n",
        "               format_dict['tournament date'],\n",
        "               \"Prelims - Complete Schedule\")\n",
        "\n",
        "# full schedule page\n",
        "pdf.add_page()\n",
        "\n",
        "pdf.page_header(format_dict['tournament name'],\n",
        "                format_dict['tournament date'])\n",
        "\n",
        "for index, grid in enumerate(full_schedule_grid):\n",
        "  \n",
        "  header = grid[0]\n",
        "  schedule = grid[1:]\n",
        "  pdf.full_schedule(header, schedule)\n",
        "\n",
        "pdf.page_footer()\n",
        "\n",
        "pdf.output(\"full_prelim_schedule.pdf\")\n",
        "pdf_bytes = pdf.output()\n",
        "full_prelim_schedule = b64encode(pdf_bytes).decode(\"utf-8\")"
      ],
      "metadata": {
        "id": "wqJPg3lP4pq8"
      },
      "execution_count": 31,
      "outputs": []
    },
    {
      "cell_type": "markdown",
      "source": [
        "Next, we'll generate the individualized team schedules."
      ],
      "metadata": {
        "id": "Xpwa3vsEQC4E"
      }
    },
    {
      "cell_type": "code",
      "source": [
        "pdf = PDF(format=\"letter\")  # default is A4, need to specify US letter\n",
        "\n",
        "# title page\n",
        "pdf.add_page()\n",
        "\n",
        "pdf.title_page(format_dict['tournament name'],\n",
        "               format_dict['tournament location'],\n",
        "               format_dict['tournament date'],\n",
        "               \"Prelims - Individual Team Schedules\")\n",
        "\n",
        "# sort list of teams alphabetically, so documents easier to distribute\n",
        "list_of_teams = sorted(list_of_teams, key=lambda x: (x[0]))\n",
        "\n",
        "for team in list_of_teams:\n",
        "\n",
        "  # iterate through schedule grids. Is the team in that grid?\n",
        "  for index, schedule_grid in enumerate(full_schedule_grid):\n",
        "\n",
        "    team_name = team[0]  # full team name \n",
        "    team_code = team_code_dict[team_name]  # 3-letter team code\n",
        "    team_list = get_team_list(schedule_grid)  # list of teams in grid\n",
        "\n",
        "    if team_code in team_list:\n",
        "      group = team[1]  # prelim group name\n",
        "      room_list = get_room_list(schedule_grid)\n",
        "      basic_schedule_grid = clean_up_grid(schedule_grid)\n",
        "      \n",
        "      # create page and add header\n",
        "      pdf.add_page()\n",
        "      pdf.page_header(format_dict['tournament name'],\n",
        "                      format_dict['tournament date'])\n",
        "      \n",
        "      # add team name, a line break, and prelim group name\n",
        "      pdf.set_font(\"times\", size=24)\n",
        "      pdf.cell(w=0, h=None, txt=f'Prelim Schedule - {team_name}',\n",
        "                align=\"C\", new_x=\"LEFT\", new_y=\"NEXT\")\n",
        "      \n",
        "      # skip the prelim group name if only one prelim group\n",
        "      if single_prelim_group == True:   \n",
        "        pdf.ln(5)\n",
        "        pdf.set_font(\"times\", size=17)\n",
        "        pdf.cell(w=0, h=None, txt=f'Group - {group}',\n",
        "                  align=\"C\", new_x=\"LEFT\", new_y=\"NEXT\")\n",
        "        pdf.ln(10)\n",
        "      else:\n",
        "        pdf.ln(15)\n",
        "\n",
        "\n",
        "      grid = specific_team_scheduler(team_code,\n",
        "                                     basic_schedule_grid,\n",
        "                                     room_list,\n",
        "                                     code_team_dict)\n",
        "\n",
        "      header = grid[0]\n",
        "      schedule = grid[1:]\n",
        "      pdf.individual_schedule(header, schedule)\n",
        "\n",
        "      if text_toggle is True:\n",
        "\n",
        "        # todo: figure out latin-1 encoding issue\n",
        "        text = texts[0]\n",
        "        text = text.encode('latin-1', 'ignore').decode('latin-1')\n",
        "\n",
        "        pdf.set_x(25.45)\n",
        "        font_size = 14\n",
        "        pdf.set_font(\"times\", size=font_size)\n",
        "        pdf.set_text_color(0)\n",
        "        pdf.multi_cell(165, 6, text, new_x=\"LMARGIN\")\n",
        "\n",
        "      if qr_toggle is True:\n",
        "          qr_codes_1 = qr_codes[0:3]\n",
        "          qr_captions_1 = qr_captions[0:3]\n",
        "\n",
        "          qr_positions = [35, 93, 151]\n",
        "          for index, qr_code in enumerate(qr_codes_1):\n",
        "            img = qrcode.make(qr_code)\n",
        "            x_pos = qr_positions[index]\n",
        "            pdf.image(img.get_image(), x=x_pos, y=210, w=30, h=30)\n",
        "\n",
        "          for index, qr_caption in enumerate(qr_captions_1):\n",
        "            x_pos = qr_positions[index] - 5\n",
        "            pdf.set_xy(x_pos, 241)\n",
        "            pdf.cell(w=40, h=None, txt=qr_caption,\n",
        "                     align=\"C\")\n",
        "\n",
        "      pdf.page_footer()\n",
        "\n",
        "      break  # saves time by ending search for team name in other schedule grids\n",
        "\n",
        "pdf.output(\"prelim_individual_team_schedules.pdf\")\n",
        "pdf_bytes = pdf.output()\n",
        "prelim_individual_team_schedules = b64encode(pdf_bytes).decode(\"utf-8\")"
      ],
      "metadata": {
        "id": "k_zGqv3NQDPU"
      },
      "execution_count": 32,
      "outputs": []
    },
    {
      "cell_type": "markdown",
      "source": [
        "We'll do the same individual schedules, but for rooms instead of teams."
      ],
      "metadata": {
        "id": "aFFPYMqzMhCC"
      }
    },
    {
      "cell_type": "code",
      "source": [
        "pdf = PDF(format=\"letter\")  # default is A4, need to specify US letter\n",
        "\n",
        "# title page\n",
        "pdf.add_page()\n",
        "\n",
        "pdf.title_page(format_dict['tournament name'],\n",
        "               format_dict['tournament location'],\n",
        "               format_dict['tournament date'],\n",
        "               \"Prelims - Individual Room Schedules\")\n",
        "\n",
        "for index, schedule_grid in enumerate(full_schedule_grid):\n",
        "\n",
        "  group = prelim_group_names[index]\n",
        "  room_list = get_room_list(schedule_grid)\n",
        "  basic_schedule_grid = clean_up_grid(schedule_grid)\n",
        "\n",
        "  # iterate for each room in room_list\n",
        "  for room in room_list:\n",
        "    if room == 'BYE':\n",
        "      continue\n",
        "  \n",
        "    # create page and add header\n",
        "    pdf.add_page()\n",
        "    pdf.page_header(format_dict['tournament name'],\n",
        "                    format_dict['tournament date'])\n",
        "\n",
        "    # add team name, a line break, and prelim group name\n",
        "    pdf.set_font(\"times\", size=24)\n",
        "    pdf.cell(w=0, h=None, txt=f'Prelim Schedule - {room}',\n",
        "              align=\"C\", new_x=\"LEFT\", new_y=\"NEXT\")\n",
        "\n",
        "    # skip the prelim group name if only one prelim group\n",
        "    if single_prelim_group == True:       \n",
        "      pdf.ln(5)\n",
        "      pdf.set_font(\"times\", size=17)\n",
        "      pdf.cell(w=0, h=None, txt=f'Group - {group}',\n",
        "                align=\"C\", new_x=\"LEFT\", new_y=\"NEXT\")\n",
        "      pdf.ln(15)\n",
        "    else:\n",
        "      pdf.ln(20)\n",
        "\n",
        "    grid = specific_room_scheduler(room,\n",
        "                                   basic_schedule_grid,\n",
        "                                   room_list,\n",
        "                                   code_team_dict)\n",
        "\n",
        "    header = grid[0]\n",
        "    schedule = grid[1:]\n",
        "    pdf.individual_schedule(header, schedule)\n",
        "\n",
        "    if text_toggle is True:\n",
        "\n",
        "        # todo: figure out latin-1 encoding issue\n",
        "        text = texts[1]\n",
        "        text = text.encode('latin-1', 'ignore').decode('latin-1')\n",
        "\n",
        "        pdf.set_x(25.45)\n",
        "        font_size = 14\n",
        "        pdf.set_font(\"times\", size=font_size)\n",
        "        pdf.set_text_color(0)\n",
        "        pdf.multi_cell(165, 6, text, new_x=\"LMARGIN\")\n",
        "\n",
        "    if qr_toggle is True:\n",
        "        qr_codes_2 = qr_codes[3:6]\n",
        "        qr_captions_2 = qr_captions[3:6]\n",
        "\n",
        "        qr_positions = [35, 93, 151]\n",
        "        for index, qr_code in enumerate(qr_codes_2):\n",
        "          img = qrcode.make(qr_code)\n",
        "          x_pos = qr_positions[index]\n",
        "          pdf.image(img.get_image(), x=x_pos, y=210, w=30, h=30)\n",
        "\n",
        "        for index, qr_caption in enumerate(qr_captions_2):\n",
        "          x_pos = qr_positions[index] - 5\n",
        "          pdf.set_xy(x_pos, 241)\n",
        "          pdf.cell(w=40, h=None, txt=qr_caption,\n",
        "                    align=\"C\")\n",
        "\n",
        "    pdf.page_footer()\n",
        "\n",
        "pdf.output(\"prelim_individual_room_schedules.pdf\")\n",
        "pdf_bytes = pdf.output()\n",
        "prelim_individual_room_schedules = b64encode(pdf_bytes).decode(\"utf-8\")"
      ],
      "metadata": {
        "id": "PyNdY14VMlLL"
      },
      "execution_count": 33,
      "outputs": []
    },
    {
      "cell_type": "markdown",
      "source": [
        "## Download Prelim PDFs"
      ],
      "metadata": {
        "id": "ejmFTFC8LQVB"
      }
    },
    {
      "cell_type": "code",
      "source": [
        "# Diplay a download button:\n",
        "display(HTML(f'<a style=\"font-size: 30px\" download=\"full_prelim_schedule.pdf\" href=\"data:application/pdf;base64,{full_prelim_schedule}\">Click to download PDF of full schedule.</a>'))"
      ],
      "metadata": {
        "id": "EfFoOvgwS1Ir",
        "collapsed": true,
        "colab": {
          "base_uri": "https://localhost:8080/",
          "height": 54
        },
        "outputId": "81dd9fb4-bfed-40e4-a87a-78ca7f01cc67"
      },
      "execution_count": 34,
      "outputs": [
        {
          "output_type": "display_data",
          "data": {
            "text/plain": [
              "<IPython.core.display.HTML object>"
            ],
            "text/html": [
              "<a style=\"font-size: 30px\" download=\"full_prelim_schedule.pdf\" href=\"data:application/pdf;base64,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\">Click to download PDF of full schedule.</a>"
            ]
          },
          "metadata": {}
        }
      ]
    },
    {
      "cell_type": "code",
      "source": [
        "# Diplay a download button:\n",
        "display(HTML(f'<a style=\"font-size: 30px\" download=\"prelim_individual_team_schedules.pdf\" href=\"data:application/pdf;base64,{prelim_individual_team_schedules}\">Click to download PDF of individual team schedules.</a>'))"
      ],
      "metadata": {
        "collapsed": true,
        "id": "EsFqwdMJQDam",
        "colab": {
          "base_uri": "https://localhost:8080/",
          "height": 54
        },
        "outputId": "df8b210f-d8e4-4f9c-c1b1-ede48f8ac255"
      },
      "execution_count": 35,
      "outputs": [
        {
          "output_type": "display_data",
          "data": {
            "text/plain": [
              "<IPython.core.display.HTML object>"
            ],
            "text/html": [
              "<a style=\"font-size: 30px\" download=\"prelim_individual_team_schedules.pdf\" href=\"data:application/pdf;base64,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\">Click to download PDF of individual team schedules.</a>"
            ]
          },
          "metadata": {}
        }
      ]
    },
    {
      "cell_type": "code",
      "source": [
        "# Diplay a download button:\n",
        "display(HTML(f'<a style=\"font-size: 30px\" download=\"prelim_individual_room_schedules.pdf\" href=\"data:application/pdf;base64,{prelim_individual_room_schedules}\">Click to download PDF of individual room schedules.</a>'))"
      ],
      "metadata": {
        "id": "o_Ny_J3AaYq0",
        "colab": {
          "base_uri": "https://localhost:8080/",
          "height": 54
        },
        "outputId": "cfe19fc0-9be2-4db5-d351-df930ef36fde"
      },
      "execution_count": 36,
      "outputs": [
        {
          "output_type": "display_data",
          "data": {
            "text/plain": [
              "<IPython.core.display.HTML object>"
            ],
            "text/html": [
              "<a style=\"font-size: 30px\" download=\"prelim_individual_room_schedules.pdf\" href=\"data:application/pdf;base64,JVBERi0xLjMKMSAwIG9iago8PAovQ291bnQgNQovS2lkcyBbMyAwIFIKNSAwIFIKNyAwIFIKOSAwIFIKMTEgMCBSXQovTWVkaWFCb3ggWzAgMCA2MTIuMDAgNzkyLjAwXQovVHlwZSAvUGFnZXMKPj4KZW5kb2JqCjIgMCBvYmoKPDwKL09wZW5BY3Rpb24gWzMgMCBSIC9GaXRIIG51bGxdCi9QYWdlTGF5b3V0IC9PbmVDb2x1bW4KL1BhZ2VzIDEgMCBSCi9UeXBlIC9DYXRhbG9nCj4+CmVuZG9iagozIDAgb2JqCjw8Ci9Db250ZW50cyA0IDAgUgovUGFyZW50IDEgMCBSCi9SZXNvdXJjZXMgMTkgMCBSCi9UeXBlIC9QYWdlCj4+CmVuZG9iago0IDAgb2JqCjw8Ci9GaWx0ZXIgL0ZsYXRlRGVjb2RlCi9MZW5ndGggMTk0Cj4+CnN0cmVhbQp4nF3PzW7CMBAE4DtPMUdQwmKvYze5IRCR2gOqWvfAMRAj3OZHchoQb1/VAqn0upr5Rst4mQjST7hMVhaLUkIaEgL2iI39PbFkKjIYoSjTsDWm6yTBEuu+Gdu9r/DR+bMLg/++zmA/b60I8SNkCpI5tGFSMkJbd8GuD18ptrs/XTaS8gxaKSpMDJZuH8YqXME6BQtW/5Y4e1iSHF9QhaFcROA1uMa3A+Z47mp/9vVYNXjr+xbvh5Orx8YNd/IHLK1E+gplbmRzdHJlYW0KZW5kb2JqCjUgMCBvYmoKPDwKL0NvbnRlbnRzIDYgMCBSCi9QYXJlbnQgMSAwIFIKL1Jlc291cmNlcyAxOSAwIFIKL1R5cGUgL1BhZ2UKPj4KZW5kb2JqCjYgMCBvYmoKPDwKL0ZpbHRlciAvRmxhdGVEZWNvZGUKL0xlbmd0aCAxMTkzCj4+CnN0cmVhbQp4nK1YTXPbNhC951fsMZ04CPFFgL20tdtkmpl2Ukc+5EhTkMVWIm2KiuP++i4/QAAiKTEzHXuGAvn49u0+gMSSwcdXEZEKnl9dr+DdewpMkCiC1QZ+W3WnGFAanOKUUA1KKiIZrNbw+ubNG/gZbsrdcX+fp3BX5F9Ndcjrlx9g9XdzE9OES7yDkVjCHqTmzY9+vIPP0LBGgsQMTwqiZUsL9na8KhJNIuYHfW/uq2NavQCTV8Aixj30RB5UaRIriLUiKm4JPlVml+/hc7Y16+POwFu4Lcs90BMeqgIeFkck1hBLSWjS8nyoyuMj3l2UhbH3YklZIiA8VA94ngrKIDzcfsDzmHNvAQ9CPoFiCIM4SghTkHAiBbxlrBFRGbiGvxBCY0nixGIo5hglAYjCQ1NjxhmJNMiEEc1b8SuTupRbLo6uKHWZS9CEUDXiYo4Lk2Joe3jAIkwXdi5xqWMiE5w1/TDmJKHtpOmzHgB27BBRJxVzSFCpwnp3M+u2PBZrP+0JSU8L+PtaDQg7HilgnDfT15Pw55c7uJ6o+xkuyROiY4ew41E0QWOiqR+ttUb9dJLwTME7vtOZtgkvD34ISpgI/LAAO3aI0A+hiFCeH2yhHx3/aGZuFggIi+qKPJLIWEIU8zV+LLcFfExfpjybVXQ5XmiiM3WkqFlvsfAVNVPol2WWdmyDZ1QTGQeeWYAdO0ToGT5VdeR5xhd6Ns8flsSVaKSAsbh5XXgSPlV5kZm6LKY8mecLS+xKPopo15GL2K4jvXAddXyz66i7bD0RiSRaB55YQD/2EKEnERIwzxOx0JOO/8w6mhcQFnUo8lgiY5KoyNdotwlTns0quhwvNHEwdazImuoUfc/DsecbXFOcsMh3bQDYsUMErgmVECE81+Qy187wh0VxRRop6N9GnoS5t9EZrrDAruCjaIJyorgfbWLdnit5xzi3jvrLgyMSd1s8cMQC7NghQkdk3KToHIkXOtLxz6+jMwLCsroyjyT268jTeGYdzSu6HC+00dk6UtSvI0/R9zwce77BNaaaHbDvmgXYsUOErnHRJOlcUwtdm+cPi+KKNFLQbKfxYeNJOHklPy3gCgvsCj6KJnjU7Mi9aF/SnfG32/93z9FrONtz9JiLPYfAJlLQ8z3HRa6+5zjlmtg4Cj+bvoBKkEQDV5KItgPERg63XKtnZNnmB8D/emvgcZdmZlvu1qaC2nyrYVNW3YWuXzzYfjEv1vnXfH1Md/m/Zt3CTJptocIukvjZheGlJkJ24WWjA8PfHczmuIPH3GTmAOUGqZFtn9Z5WUBd4jDbHddNRBSCMg8may+llfkRtuVzg6nMY1nVKLKszaE+XM0LwG1PJ+B1nWMPbdJ/MFO8L8O0KnMFz1uDNUfKh7JNancssu0VZGVRp1nta/NjaEkinHX41/1KsH1EH9ApnCTZHt79TuHXchLKcO8bswDL5rCCaRLxAMsttk+TsohwFKCa3WL7paCsjvvDREFYErVvlgF5i75OAYVUTTfggH+kjydzLvxK8gTdJw+Z9Iu6++LRDf01jZ4IbNxF84Zsn+roR42z6f4FbsqqMNWhdp8VMNZ/J3f64QplbmRzdHJlYW0KZW5kb2JqCjcgMCBvYmoKPDwKL0NvbnRlbnRzIDggMCBSCi9QYXJlbnQgMSAwIFIKL1Jlc291cmNlcyAxOSAwIFIKL1R5cGUgL1BhZ2UKPj4KZW5kb2JqCjggMCBvYmoKPDwKL0ZpbHRlciAvRmxhdGVEZWNvZGUKL0xlbmd0aCAxMTgzCj4+CnN0cmVhbQp4nK1YTXPbNhC9+1fsMZ04CAECBNhLWrtNpp5pJ3XkQ440BVlsKdIlqTjur+/yAwQgfkiHjj0jwVi+fXgPC2PJ4O4qIErAy9XNBt5/ZEApCQLY7ODXDc5QThn4H/ef8O+CxRz8j+rp6h8I4AkQKKSEKpBC4hRstvDm9u1b+Aluy/x4eMwSeCiyb7qqs+b1B9j8hangT3yYKRIKfIqRSMABhArbL8M4hy8jesBJxHCCt8xbeHBhhigeKxIwl8RH/Vgdk+oVmLgGFrDQPtUtngLjdvEjEJWKRBIiJYmMOqDPlc6zA3xJ93p7zDW8g/uyPACb4FE5g8eigEQKIiEIjTu8T1V5fEaUoiy0xVhSedkV62N4kloyDIMoiAmTEIdEcHjHWEuj0nDTyUYjQaLYxFBcbRB7QXSgHzISKBAxIyrs6G90cgDqWhCiZ1Kex+I0JlROsJgrgmK4KfwPFGFG4JWFCxUREeOeGoZRSGLabalh1WOAGduIwTVcQ4xMJerd77n78lhs3WXPen4ef9BqjDDjCQPGBJGBS8HU04z0K3AijImKbIQZTxJyGhIZugk/V1mR6qYsTla9oHqPeLrddv70aAqnhHHPFBNgxjbCN4VLwqVjyrlC9PEn23N3AQFfVivzhKJxzXJcc22R0fl8vo3W1gkjHgZtVTqMvia5vszRHmy0jCoiIs8yE2DGNsK3DE9aFTiWTc/iecuW8X1FrEITBu0Bhn9xKPzx9QF+nrNjGctX16o9ycZpRBR1s3VHnPxwmeA93mIJ9dPGDx4LopTnhwkYxk6E70eAAMzxg1/oR4+/UkLLBHxRR5GnFBmLiWQux05C9WHOskVC59P5Ho6eTgmZCrKELq6gAWx0TIaEBa5jY4AZ2wjPMS5jwrnjmLjMsRV8XxGr0ITBYIhD4a7cF3CXvM44sgLnC2wFnyQcishJONkBa5r3eEtFNEyPlgi8aoWeJSbAjG2Eb4mI2gVaS6ILLenxl4tohYAvqhV5QnE49RyOS6feMp3zyXwHraMTOpzhpYKe0rm5zM8ebTSMyfbm6xpmAszYRviGhbxdojVMXmjYMr4viZVowsDUkKWwVkPLcL7CVvFJwuE25yScuc39/z3HQGS15xhizvYcHJtTTtd7jrNYQ89xijVzZ5xrBiUnsYJQCsK7XhBbObxtbV4QZZ/VgL/NXsNznqR6X+ZbXUGjvzewK6t+ou8ca9M5ZsU2+5Ztj0me/au3XZhO0j1U2E+SmaZ2SC8U4aJPL1oemP6h1rtjDs+ZTnUN5Q6hEe2QNFlZQFPiMM2P2zYjEkGatU67qaTSP8K+fGljKv1cVg2SLBtdN/X1MgG89vQE3jQZdtU6+RtXis+luKxKX8PLXqPmCPlUdovKj0W6v4a0LJokbVxubg4lSIC7Dn/6bzG2j+gDOoWbJD3A+98o/FLOhjK89kbMi2VLsZwpEoRebGhiTc+Px1OIBGT76qF7d1BWx0M9IwiLg+6fyxh5j77OBXIh24K3gb8nzyd7zn/7Yl6IiHio7P59SD90Cxs94di487a8uwYD/WhwNz2+wm1ZFbqqG+/Fwn/HIwpSCmVuZHN0cmVhbQplbmRvYmoKOSAwIG9iago8PAovQ29udGVudHMgMTAgMCBSCi9QYXJlbnQgMSAwIFIKL1Jlc291cmNlcyAxOSAwIFIKL1R5cGUgL1BhZ2UKPj4KZW5kb2JqCjEwIDAgb2JqCjw8Ci9GaWx0ZXIgL0ZsYXRlRGVjb2RlCi9MZW5ndGggMTE4NAo+PgpzdHJlYW0KeJytWE1z2zYUvPtXvGM6cRACBAiwl7Z2m0wz007qyIccaQqy2FKkTVFx3F/fxw8QgPghHjr2jAxztW+xC4B8ZPDpKiBKwMvVzQbef2BAKQkC2Ozgtw1eoZwy8D/uPuL/BYs5+B/V49UzBPAISBRSQhVIIfESbLbw5vbtW/gZbsv8dHjIErgvsm+6Omb16w+w+RtLwV/4ZaZIKPBbjEQCDiBU2PzRj3P4MrAHnEQML/BGeUMPLk2P4rEiAXNFfNAP1SmpXoGJa2ABC+232slTYNxOfiCiUpFIQqQkkVFL9LnSeXaAL+leb0+5hndwV5YHGPNROcHHooBECiIhCI1bvo9VeXpClqIstOWYc3k+FZtjeFZaMoRBFMSESYhDIji8Y6yRUWm4aW2jkSBRbDAUZxvEHoj28kNGAgUiZkSFrfyNTg5A3QhCzEzKy1ycxoTKERdzTVAMF4X/gSZMGLwwcaEiImJcU/0wCklM2yXVz3oAmLFF9KnhHGJUKtHvbs3dladi6057MvPL/L1XA8KMRwoa40XkSvjz6z38MuH7ApcIY6IiizDjUTVOI6KoW62NRv10NuEZwzu+85W28y8PeXBKGPfyMAAztgg/Dy4Jl04ebGUeHf9oZe5WCPBNtSaPJDIWNSeXo/FzlRWprstiKrRZSZcL+inaVEeSTKpWUpuqXJlqxzfERlWzIN3YDMCMLcKPDQ9aFTixXTo6L/P7pliTRgoYE0QGrgRzW5oKZZ7O99h6PirYeu4V/FTuC/iUvK4zvSOc3UrdZZMJjwVRysvEAPqxg/AzCZCAOZnwlZl0/AtbaV6A7+rg8lgiYzGRzNU49vD5jG5hJ83X81McUh0r4gwPRuoqak7jm1WR9mxDZjIkLHAzGwBmbBFeZlzGhHMnM7EuswV+3xJr0UhBH4kjYXSUPK9g8w22ho/q8TBoHiacel+TXK/zuyOb20L95SEOgc9aoReHAZixRfhxiKiZnY0jWhlHxz+/hRYE+I5ah0cS+7uRo3HpbjQv6XJBP0Ib6UiSidRKWh9pRzZkxmTz9OtmZgBmbBF+ZiFvZmgzkyszm+f3HbEOjRT0tyJHwsKtaIHON9gaPirYH1pOwbND6//vOXoRiz1Hj7nYc3BsTjld7jkucvU9xznXxIPjVDMoOYkVhFIQ3vaC2MrhE9fmBVn22RHwt95reMqTVO/LfKsrqPX3GnZl1V3oOsej6RyzYpt9y7anJM/+1dsWppN0DxX2k2Siqe3LC0W46MqLRgeWvz/q3SmHp0yn+gjlDqmR7ZDUWVlAXeIwzU/bpiIKQZlHnbaXkkr/CPvypcFU+qmsahRZ1vpYH6/nBeBDTyfgTZ1hV62Tf3Cm+L0Up1Xpa3jZa/QcKR/LdlL5qUj315CWRZ2ktavNraEECXDV4U/3V4ztI+aASeEiSQ/w/ncKv5aTUIaPvhHzsGwOy5kiQehhQ4M1PT9ulBAFyObIbN8dlNXpcJwwhMVBe28ZkHeY6xSQC9ncLy3wj+TpbM35b1/MCxER97u6ex/SDd1NjZlwbNw5kV0PfYt51LiaHl7htqwKXR1r78XCf/+hCkwKZW5kc3RyZWFtCmVuZG9iagoxMSAwIG9iago8PAovQ29udGVudHMgMTIgMCBSCi9QYXJlbnQgMSAwIFIKL1Jlc291cmNlcyAxOSAwIFIKL1R5cGUgL1BhZ2UKPj4KZW5kb2JqCjEyIDAgb2JqCjw8Ci9GaWx0ZXIgL0ZsYXRlRGVjb2RlCi9MZW5ndGggMTE4Nwo+PgpzdHJlYW0KeJytWE1z2zYUvPtXvGM6cRDiiwB7aWu3ydQz7aSOfMiRpiCLLUU6FBXH/fV9/AABiKSkQ8eekWEu9y12ARGPDO6uIqIlvFzdrOD9BwaUkiiC1QZ+W+EVKiiD8OP+I/5fskRA+FE/XX2FCJ4AiTglVIOSCi/Bag1vbt++hZ/htioOu8c8hYcy/2bqfd68/gCrv7EU/IU3M024xLsYiSXsQGre/jGMC/g8skeCxAwviFZ5Sw8+zYASiSYR80V8MI/1Ia1fgclrYBHj7q5u8hSYcJMfiajSJFYQa0VU3BF9qk2R7+BztjXrQ2HgHdxX1Q7EhI+qGT4WRyTWEEtJaNLxfayrwzOylFVpHMeSy8upuBz5UWnFEAZxlBCmIOFECnjHWCujNnDT2UZjSeLEYijONkoCEB3kc0YiDTJhRPNO/sqkO6B+BBwzU+o8l6AJoWrCxXwTNMNFEX6gCTMGn5i41DGRCa6pYRhzktBuSQ2zHgF27BBDajiHBJUq9Ltfc/fVoVz7057N/Dz/4NWIsOOJAsYSopgv4a7alnCXvs5Yf4JO8oTo2CHseFJQ8KiNzyv4JS3M0YQXDO/JjlfaJrw85iEoYSLIwwLs2CHCPIQiQnl5sAvz6PknK3NzgYDQUefwRCLjvP0G8jT++eUBbubSWpRzvlgYn4tzIkfQmGjqy+k2m/7pskR7vjEyqomMg8gswI4dIowMv2R15EU2/Rqej2yZPzTFmTRRYBNxEhYTWeYKDXaGT6rZ/eOqXb5/erLF/dNftmGIRBKtgzAsYBh7iDCMCAmYF8a5Z1jIf2L/LAsIHR0dnkpsnzSI8DS2af0yl9ainPPFwvjGOKdyBOVEcV/OpzovM9NU5UWZDoxjaIoTFvmhjQA7doggNKESIoQXmrwstBP8oS3OpokCxiRRkS/BHupmYjlBF7rsXJ8UbI8IsfALHi2CU473bEu7aLg8BiLxjMWDQCzAjh0iDETG7fRcIPGFgfT8y7vohIDQUmfxROJwbPA0njg2LCs6Xy+M0EU6UTQ8iDxF3YNIXfYgGvjG1Jhqz71+ahZgxw4RpsZFO0mXmrowtWX+0BRn0kSBDcVJmFjw9QK20GJn+aSetfyonv/s///bjUHGyXZjwJxtNwT2pYKebjfOcg3txjHXzJlxrg9UgiQauJJEdG0gdnF44Fq9IMs23wP+NlsDz0WamW1VrE0NjfnewKaq+wt907i3TWNervNv+fqQFvm/Zt3BTJptocZWksz0s0N5qYmQfXnZ6sDyD3uzORTwnJvM7KHaIDWy7dImr0poKhxmxWHdVkQhKHNvsu5SWpsfYVu9tJjaPFd1gyKrxuyb/fWyADz29ALeNDk21Cb9B2eK92U4rdpcw8vWoOdI+VR1kyoOZba9hqwqmzRrfG1+DS1JhKsOf/q/EuwcMQdMChdJtoP3v1P4tZqFMjz5xizAsiWsYJpEPMByi7XtPosIRwGqfevQvTao6sNuP2MIS6Lu8TIi7zHXOaCQqt3tDvhH+ny05sIXL/ZdiEyGfd2/CumH/rbGTAT27KI9mHQPY8yjwdX0+Aq3VV2aet8E7xT+A5f1BvUKZW5kc3RyZWFtCmVuZG9iagoxMyAwIG9iago8PAovQmFzZUZvbnQgL1RpbWVzLVJvbWFuCi9FbmNvZGluZyAvV2luQW5zaUVuY29kaW5nCi9TdWJ0eXBlIC9UeXBlMQovVHlwZSAvRm9udAo+PgplbmRvYmoKMTQgMCBvYmoKPDwKL0Jhc2VGb250IC9UaW1lcy1JdGFsaWMKL0VuY29kaW5nIC9XaW5BbnNpRW5jb2RpbmcKL1N1YnR5cGUgL1R5cGUxCi9UeXBlIC9Gb250Cj4+CmVuZG9iagoxNSAwIG9iago8PAovQmFzZUZvbnQgL1RpbWVzLUJvbGQKL0VuY29kaW5nIC9XaW5BbnNpRW5jb2RpbmcKL1N1YnR5cGUgL1R5cGUxCi9UeXBlIC9Gb250Cj4+CmVuZG9iagoxNiAwIG9iago8PAovQml0c1BlckNvbXBvbmVudCAxCi9Db2xvclNwYWNlIC9EZXZpY2VHcmF5Ci9EZWNvZGVQYXJtcyA8PC9QcmVkaWN0b3IgMTUgL0NvbG9ycyAxIC9Db2x1bW5zIDQxMCAvQml0c1BlckNvbXBvbmVudCAxPj4KL0ZpbHRlciAvRmxhdGVEZWNvZGUKL0hlaWdodCA0MTAKL0xlbmd0aCA1MjMKL1N1YnR5cGUgL0ltYWdlCi9UeXBlIC9YT2JqZWN0Ci9XaWR0aCA0MTAKPj4Kc3RyZWFtCnic7ZpBroMwDEQtcQCOxNU5EgdAym/sGce/7aZbPF7QAH6sRrE9qY3f4zRBggQJEiRIkCBChthe68tsnLu/e936aj6LOAQ1gfxmXNtc3eUZLtc2Sp6gDtAUykEIKxfPDshFJqghhCzuM+c+VSWoL4QIBd0mqC0UqVM3xnyPkxtLyRPUAEJsg1Xm7cIEQU2gFWxCvQOxuLylCGoA1QHFR1bvO2wpCDuOoD4QrYuQUZSaeMYJNiwOQT2gYlx5vZkR37C8rGZVUAPoTI1ET7pnqQmX68YHD0E9oNpwEgocb311C2oDxZMcVPGO9YaFSFAfyPJkbMnIC8w6KKvGhqDHQyEZtJ6pJZYaz7cPo1PQgyHY3KGl2o7ilqoS1AVaw0gMqllg3kwMQV0g2JveY1i2oxxLfBX1RlAf6P6/utP1Zj5wQV2gwa4zZDTvry19T1SjT+0JeiiE9uKGj3WW2oI+1T79ckEPhpBqFAqn1aoq7j2CekB4TK8Cm4h7GlFlyicFPR/CAZiViQSQv/X4MucKeiq0AvUmve5sOUJQgppAEEq2HOljLTuc84qgHpDLI07PCa12tOwuh6AuUJ6MjZJw22o+2JUI6gfVPcW1FEUnBSWoF5SuN/+etw0KygQ1gvznwoHpWEenRVpfbC1Bj4UQsL45oKS+RkpLUA/otxAkSJAgQYIECZrQH62oS0MKZW5kc3RyZWFtCmVuZG9iagoxNyAwIG9iago8PAovQml0c1BlckNvbXBvbmVudCAxCi9Db2xvclNwYWNlIC9EZXZpY2VHcmF5Ci9EZWNvZGVQYXJtcyA8PC9QcmVkaWN0b3IgMTUgL0NvbG9ycyAxIC9Db2x1bW5zIDM3MCAvQml0c1BlckNvbXBvbmVudCAxPj4KL0ZpbHRlciAvRmxhdGVEZWNvZGUKL0hlaWdodCAzNzAKL0xlbmd0aCA0MzYKL1N1YnR5cGUgL0ltYWdlCi9UeXBlIC9YT2JqZWN0Ci9XaWR0aCAzNzAKPj4Kc3RyZWFtCnic7dpBjsMgDAVQSzlAjpSr50gcAMkTsA0OjUYzUjc/+ixoA49uYsAhFf1XOYWenp6enp7+S168bK1ls8vr21Vpib6DHtf3Cy2bRnMDpVebJkIP6kffuVfpI69Sra0HCv07fJvgNssP+0b/Ji+yqw/y9Zz+Db5/xHzvZfpE6DG9l3bby1JFHz2uT+Xc1ZJuy7yPpZce0c8AsFRbbJBHwVVVocf2Mlr6Uj5Cwdb4p+cpehhvu7St3bZfDxWZNz2w94u47TLLoc/znR7Jx2PTvaTIqGs+Rg/lz9YzQsHbYr4/ref0WD5OQSbImfdnPNBD+XY2HYM86U5JmZ1h0wP7Mh6Q47z693igh/L3sw9f2XdV36/X82p6LO8ZdYn3TXPmq6XaSzzQY/m441UiM6uS2z7Wc3ooH6n2bdJLvHmabfSYfpbbA1SN85CP8zF6KO/3XXw999cT8/88az5GD+b7hW/QebgvBI/rOT2QH1Eg6c1EjLRfo3+Bn0/JMctj+EH/Au9zu+SpbpFBj+z7RzrK9EpsD39+/0gP4yX68sjIwmbmTY/p/1zo6enp6enpv+B/AL6yrhYKZW5kc3RyZWFtCmVuZG9iagoxOCAwIG9iago8PAovQml0c1BlckNvbXBvbmVudCAxCi9Db2xvclNwYWNlIC9EZXZpY2VHcmF5Ci9EZWNvZGVQYXJtcyA8PC9QcmVkaWN0b3IgMTUgL0NvbG9ycyAxIC9Db2x1bW5zIDM3MCAvQml0c1BlckNvbXBvbmVudCAxPj4KL0ZpbHRlciAvRmxhdGVEZWNvZGUKL0hlaWdodCAzNzAKL0xlbmd0aCA0NDQKL1N1YnR5cGUgL0ltYWdlCi9UeXBlIC9YT2JqZWN0Ci9XaWR0aCAzNzAKPj4Kc3RyZWFtCnic7dpdroMgEAXgSViAS3LrLokFmFCZP6i0ub1JX05zeLBaP3xxGGBaaf9qh9DT09PT09N/yYu3cp3X0mRv53W1ndfdGvd2elyvF0p7U9WOy8teS5sIPajvr13vHVv07EERzyj0P+PPDAWh/zV/ZXH9Wkf5B/FAj+H1o7qy7jZL/5H/6SG8t/7a6+2QPelh/dwyAHq736SH9CMAbL6276aDf0cP6yVHvk7aZwxz8TX4Or/Tw3gre+yxi/LIkDjYXXpcf1ju1q1UXFoUxDPC0SN6m6Wn9Xac+Xg/l/ihh/L5xtMHyMigx/XHlu9eJ+kBRvmLHtvba5eR2XMpJtuS/+mhfG9Gp1Kmtvomn9Nj+dglS0SG9owcUN7lf3oEb2WP3CrPRS8b6rd4oMfytuzy/ZSmcvGz3vNV/qdH8l7vqrm2NuU53kKBHteP5lvl2E/5Ya2P0SN58ea1y7Hyjsi45396LK8X7SkURhXE/gPS6IH99HtEdm8jny/xQI/pm6+tn4rWaz6nB/VjbEd49ELny9+X6YG8ftS5Xm1n2ckeQo/pvZUsirQIhdf5nB7Kf9zo6enp6enpv+Afbh7CHwplbmRzdHJlYW0KZW5kb2JqCjE5IDAgb2JqCjw8Ci9Gb250IDw8L0YxIDEzIDAgUgovRjIgMTQgMCBSCi9GMyAxNSAwIFI+PgovUHJvY1NldCBbL1BERiAvVGV4dCAvSW1hZ2VCIC9JbWFnZUMgL0ltYWdlSV0KL1hPYmplY3QgPDwvSTEgMTYgMCBSCi9JMiAxNyAwIFIKL0kzIDE4IDAgUj4+Cj4+CmVuZG9iagoyMCAwIG9iago8PAovQ3JlYXRpb25EYXRlIChEOjIwMjMwMjE1MTYwMTM2WjE2JzAxJykKPj4KZW5kb2JqCnhyZWYKMCAyMQowMDAwMDAwMDAwIDY1NTM1IGYgCjAwMDAwMDAwMDkgMDAwMDAgbiAKMDAwMDAwMDEyMSAwMDAwMCBuIAowMDAwMDAwMjI0IDAwMDAwIG4gCjAwMDAwMDAzMDUgMDAwMDAgbiAKMDAwMDAwMDU3MSAwMDAwMCBuIAowMDAwMDAwNjUyIDAwMDAwIG4gCjAwMDAwMDE5MTggMDAwMDAgbiAKMDAwMDAwMTk5OSAwMDAwMCBuIAowMDAwMDAzMjU1IDAwMDAwIG4gCjAwMDAwMDMzMzcgMDAwMDAgbiAKMDAwMDAwNDU5NSAwMDAwMCBuIAowMDAwMDA0Njc4IDAwMDAwIG4gCjAwMDAwMDU5MzkgMDAwMDAgbiAKMDAwMDAwNjAzOSAwMDAwMCBuIAowMDAwMDA2MTQwIDAwMDAwIG4gCjAwMDAwMDYyMzkgMDAwMDAgbiAKMDAwMDAwNzAwNyAwMDAwMCBuIAowMDAwMDA3Njg4IDAwMDAwIG4gCjAwMDAwMDgzNzcgMDAwMDAgbiAKMDAwMDAwODUzNCAwMDAwMCBuIAp0cmFpbGVyCjw8Ci9TaXplIDIxCi9Sb290IDIgMCBSCi9JbmZvIDIwIDAgUgovSUQgWzw2MkMyQTJCRDRDMjRDMkFBNzQ5OEZERDY5RUU0MEEwMT48NjJDMkEyQkQ0QzI0QzJBQTc0OThGREQ2OUVFNDBBMDE+XQo+PgpzdGFydHhyZWYKODU5NgolJUVPRgo=\">Click to download PDF of individual room schedules.</a>"
            ]
          },
          "metadata": {}
        }
      ]
    },
    {
      "cell_type": "code",
      "source": [
        "stop here"
      ],
      "metadata": {
        "collapsed": true,
        "id": "VNcIYjguqvFB",
        "colab": {
          "base_uri": "https://localhost:8080/",
          "height": 131
        },
        "outputId": "670afb7e-7eb1-47cc-caed-7f4f43d7b1d1"
      },
      "execution_count": 37,
      "outputs": [
        {
          "output_type": "error",
          "ename": "SyntaxError",
          "evalue": "ignored",
          "traceback": [
            "\u001b[0;36m  File \u001b[0;32m\"<ipython-input-37-a96ba3aab008>\"\u001b[0;36m, line \u001b[0;32m1\u001b[0m\n\u001b[0;31m    stop here\u001b[0m\n\u001b[0m         ^\u001b[0m\n\u001b[0;31mSyntaxError\u001b[0m\u001b[0;31m:\u001b[0m invalid syntax\n"
          ]
        }
      ]
    },
    {
      "cell_type": "markdown",
      "source": [
        "# Prelim Analysis"
      ],
      "metadata": {
        "id": "iKG1VUXVdJTn"
      }
    },
    {
      "cell_type": "markdown",
      "source": [
        "# Playoff Scheduler"
      ],
      "metadata": {
        "id": "_YfbhDePdJTn"
      }
    },
    {
      "cell_type": "markdown",
      "source": [
        "# Playoff PDF Writer"
      ],
      "metadata": {
        "id": "eexAPF__dJTn"
      }
    },
    {
      "cell_type": "markdown",
      "source": [
        "# Superplayoff Scheduler"
      ],
      "metadata": {
        "id": "Qb5McvXKdPxF"
      }
    },
    {
      "cell_type": "markdown",
      "source": [
        "# Superplayoff PDF Writer "
      ],
      "metadata": {
        "id": "--DoUNDedPuN"
      }
    },
    {
      "cell_type": "markdown",
      "source": [
        "# NSC Scheduler"
      ],
      "metadata": {
        "id": "b3l5IrdtdrTf"
      }
    },
    {
      "cell_type": "markdown",
      "source": [
        "# *** Workspace below this point ***"
      ],
      "metadata": {
        "id": "qagHkeo1VeeJ"
      }
    },
    {
      "cell_type": "markdown",
      "source": [
        "\n",
        "\n",
        "---\n",
        "\n"
      ],
      "metadata": {
        "id": "_k8_duRuVhG4"
      }
    },
    {
      "cell_type": "markdown",
      "source": [
        "# Importing csv files from Github\n",
        "This will be useful later when grabbing templates for the scheduling functions.\n",
        "\n",
        "For more info on loading external files into Colabs, see [this article](https://towardsdatascience.com/7-ways-to-load-external-data-into-google-colab-7ba73e7d5fc7)."
      ],
      "metadata": {
        "id": "rLwWCJ3lixKD"
      }
    },
    {
      "cell_type": "code",
      "source": [
        "filename = 'templates/rr_schedules/rr_10.xlsx'\n",
        "\n",
        "df = pd.read_csv('https://raw.githubusercontent.com/victorprieto2265/cornerstone/main/archive/brackets.csv')\n",
        "\n",
        "# get_all_values gives a list of rows.\n",
        "print(df)"
      ],
      "metadata": {
        "id": "-Wd7s6KAj9it"
      },
      "execution_count": null,
      "outputs": []
    },
    {
      "cell_type": "markdown",
      "source": [
        "What about uploading excel files? Will that work?"
      ],
      "metadata": {
        "id": "8iW6m7Oz0w52"
      }
    },
    {
      "cell_type": "code",
      "source": [
        "url = \"https://github.com/victorprieto2265/cornerstone/blob/main/templates/rr_schedules/rr_templates.xlsx?raw=true\"\n",
        "db=pd.read_excel(url, sheet_name=None)\n",
        "\n",
        "print(type(db))\n",
        "print(db.keys())"
      ],
      "metadata": {
        "id": "Kd83cUbR00zf"
      },
      "execution_count": null,
      "outputs": []
    },
    {
      "cell_type": "markdown",
      "source": [
        "# Compiling latex files (incomplete)"
      ],
      "metadata": {
        "id": "UCnmv2_eVvjP"
      }
    },
    {
      "cell_type": "markdown",
      "source": [
        "Load a sample Latex file from my github repo. In this case, it's team index, which does not have any QR codes."
      ],
      "metadata": {
        "id": "tXq_OSEUWkBH"
      }
    },
    {
      "cell_type": "code",
      "source": [
        "import base64\n",
        "import requests\n",
        "\n",
        "url = 'https://raw.githubusercontent.com/victorprieto2265/cornerstone/main/output/prelim_team_index.tex'\n",
        "\n",
        "req = requests.get(url)\n",
        "req = req.text"
      ],
      "metadata": {
        "id": "6LUaIVrQV-nW"
      },
      "execution_count": null,
      "outputs": []
    },
    {
      "cell_type": "code",
      "source": [
        "from pdflatex import PDFLaTeX\n",
        "from google.colab import drive\n",
        "drive.mount('/content/drive')"
      ],
      "metadata": {
        "id": "sEhER_lVX-Pg"
      },
      "execution_count": null,
      "outputs": []
    },
    {
      "cell_type": "code",
      "source": [
        "filename = 'prelim_team_index.tex'\n",
        "with open(f'/content/drive/My Drive/{filename}', 'w') as f:\n",
        "  f.write(req)\n",
        "!cat /content/drive/My\\ Drive/prelim_team_index.tex"
      ],
      "metadata": {
        "id": "AnU54_nSbHHa"
      },
      "execution_count": null,
      "outputs": []
    },
    {
      "cell_type": "code",
      "source": [
        "!sudo apt install cm-super dvipng texlive-latex-extra texlive-latex-recommended"
      ],
      "metadata": {
        "id": "Nv7ztIeVbVxV"
      },
      "execution_count": null,
      "outputs": []
    },
    {
      "cell_type": "code",
      "source": [
        "!pip install pdflatex\n",
        "from pdflatex import PDFLaTeX\n",
        "pdfl = PDFLaTeX.from_texfile(req)\n",
        "pdf, log, completed_process = pdfl.create_pdf(keep_pdf_file=True, keep_log_file=False)\n"
      ],
      "metadata": {
        "id": "8F3Yx_Tca_2V"
      },
      "execution_count": null,
      "outputs": []
    },
    {
      "cell_type": "code",
      "source": [
        "# drive.flush_and_unmount()"
      ],
      "metadata": {
        "id": "M32Sg87hcZDZ"
      },
      "execution_count": null,
      "outputs": []
    }
  ]
}