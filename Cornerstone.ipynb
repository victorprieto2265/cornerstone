{
  "nbformat": 4,
  "nbformat_minor": 0,
  "metadata": {
    "colab": {
      "provenance": [],
      "toc_visible": true,
      "collapsed_sections": [
        "--DoUNDedPuN",
        "b3l5IrdtdrTf",
        "qagHkeo1VeeJ",
        "rLwWCJ3lixKD"
      ],
      "authorship_tag": "ABX9TyMwTxsZATVExj0si3wFnwQS",
      "include_colab_link": true
    },
    "kernelspec": {
      "name": "python3",
      "display_name": "Python 3"
    },
    "language_info": {
      "name": "python"
    }
  },
  "cells": [
    {
      "cell_type": "markdown",
      "metadata": {
        "id": "view-in-github",
        "colab_type": "text"
      },
      "source": [
        "<a href=\"https://colab.research.google.com/github/victorprieto2265/cornerstone/blob/main/Cornerstone.ipynb\" target=\"_parent\"><img src=\"https://colab.research.google.com/assets/colab-badge.svg\" alt=\"Open In Colab\"/></a>"
      ]
    },
    {
      "cell_type": "markdown",
      "source": [
        "# TODO\n",
        "\n"
      ],
      "metadata": {
        "id": "IwJ6m76Ee1va"
      }
    },
    {
      "cell_type": "markdown",
      "source": [
        "TODO\n",
        "\n",
        "*  import computer modern typeface for use (consider open sans or interstate as an alternative)\n",
        "*  detect and split up tables that run over multiple pages (likely documents other than individual schedules for any 32+ team tournaments)\n",
        "*  qr_toggle keeps returning as false despite being updated differently in prelims_input, can't figure out the github new file issue!"
      ],
      "metadata": {
        "id": "QEwWOlwXfE0H"
      }
    },
    {
      "cell_type": "markdown",
      "source": [
        "\n",
        "# Import modules / libraries"
      ],
      "metadata": {
        "id": "LxPWT_oriuCh"
      }
    },
    {
      "cell_type": "code",
      "source": [
        "!pip install fpdf2\n",
        "!pip install qrcode\n",
        "\n",
        "import sys\n",
        "import pandas as pd\n",
        "import warnings\n",
        "warnings.simplefilter('default', DeprecationWarning)\n",
        "from fpdf import FPDF\n",
        "import fpdf\n",
        "from base64 import b64encode\n",
        "import IPython\n",
        "from IPython.display import display, HTML\n",
        "import qrcode"
      ],
      "metadata": {
        "id": "pl18nTJ1uVlv",
        "colab": {
          "base_uri": "https://localhost:8080/"
        },
        "outputId": "fab5336b-88cb-46d7-9124-591e82a09d9c"
      },
      "execution_count": 1,
      "outputs": [
        {
          "output_type": "stream",
          "name": "stdout",
          "text": [
            "Looking in indexes: https://pypi.org/simple, https://us-python.pkg.dev/colab-wheels/public/simple/\n",
            "Collecting fpdf2\n",
            "  Downloading fpdf2-2.6.1-py2.py3-none-any.whl (255 kB)\n",
            "\u001b[2K     \u001b[90m━━━━━━━━━━━━━━━━━━━━━━━━━━━━━━━━━━━━━━━\u001b[0m \u001b[32m255.6/255.6 KB\u001b[0m \u001b[31m5.9 MB/s\u001b[0m eta \u001b[36m0:00:00\u001b[0m\n",
            "\u001b[?25hCollecting fonttools>=4.34.0\n",
            "  Downloading fonttools-4.38.0-py3-none-any.whl (965 kB)\n",
            "\u001b[2K     \u001b[90m━━━━━━━━━━━━━━━━━━━━━━━━━━━━━━━━━━━━━━\u001b[0m \u001b[32m965.4/965.4 KB\u001b[0m \u001b[31m26.0 MB/s\u001b[0m eta \u001b[36m0:00:00\u001b[0m\n",
            "\u001b[?25hRequirement already satisfied: Pillow!=9.2.*,>=6.2.2 in /usr/local/lib/python3.8/dist-packages (from fpdf2) (7.1.2)\n",
            "Requirement already satisfied: defusedxml in /usr/local/lib/python3.8/dist-packages (from fpdf2) (0.7.1)\n",
            "Installing collected packages: fonttools, fpdf2\n",
            "Successfully installed fonttools-4.38.0 fpdf2-2.6.1\n",
            "Looking in indexes: https://pypi.org/simple, https://us-python.pkg.dev/colab-wheels/public/simple/\n",
            "Collecting qrcode\n",
            "  Downloading qrcode-7.4.2-py3-none-any.whl (46 kB)\n",
            "\u001b[2K     \u001b[90m━━━━━━━━━━━━━━━━━━━━━━━━━━━━━━━━━━━━━━━━\u001b[0m \u001b[32m46.2/46.2 KB\u001b[0m \u001b[31m2.2 MB/s\u001b[0m eta \u001b[36m0:00:00\u001b[0m\n",
            "\u001b[?25hRequirement already satisfied: typing-extensions in /usr/local/lib/python3.8/dist-packages (from qrcode) (4.4.0)\n",
            "Collecting pypng\n",
            "  Downloading pypng-0.20220715.0-py3-none-any.whl (58 kB)\n",
            "\u001b[2K     \u001b[90m━━━━━━━━━━━━━━━━━━━━━━━━━━━━━━━━━━━━━━━━\u001b[0m \u001b[32m58.1/58.1 KB\u001b[0m \u001b[31m4.6 MB/s\u001b[0m eta \u001b[36m0:00:00\u001b[0m\n",
            "\u001b[?25hInstalling collected packages: pypng, qrcode\n",
            "Successfully installed pypng-0.20220715.0 qrcode-7.4.2\n"
          ]
        }
      ]
    },
    {
      "cell_type": "markdown",
      "source": [
        "# Cornerstone Input\n",
        "\n",
        "This section imports all of the input files, except tournament format,\n",
        "which is handled by the tournament_format script.\n",
        "\n",
        "TODO uncomment sys.exit at end of this script for testing\n",
        "\n",
        "TODO figure out how to handle blank spaces and/or none in input file...\n",
        "There was an unusual error where integers were being converted to floats\n",
        "if one of the cells in a range was empty instead of string 'none'.\n",
        "\n",
        "TODO apparently bracket names (and presumably other things) are case-sensitive.\n",
        "\n",
        "TODO currently a global variable for checking for errors, which is a no no?\n"
      ],
      "metadata": {
        "id": "jaurrPCkdJTm"
      }
    },
    {
      "cell_type": "code",
      "source": [
        "error = 0\n",
        "\n",
        "# checks for duplicates and (optional) character limits\n",
        "def error_check(alist, listname, max_length=float('inf'), max_duplicates=1):\n",
        "    global error  # TODO this is apparently a no no, but works for now\n",
        "    print('\\n')\n",
        "    # duplicate checker\n",
        "    seen = {}\n",
        "    duplicates = []\n",
        "    for item in alist:\n",
        "        if item not in seen:\n",
        "            seen[item] = 1\n",
        "        else:\n",
        "            seen[item] += 1\n",
        "            if seen[item] > max_duplicates:\n",
        "                duplicates.append(' - ' + item)\n",
        "    if not duplicates:\n",
        "        if max_duplicates > 1:\n",
        "            print(f'No excess duplicates detected for {listname}.')\n",
        "        else:\n",
        "            print(f'No duplicates detected for {listname}.')\n",
        "    else:\n",
        "        # error = True\n",
        "        error += 1\n",
        "        print(f'\\nDuplicates detected for {listname}:')\n",
        "        print(*duplicates, sep='\\n')\n",
        "\n",
        "    # character length checker\n",
        "    long_items = [' - ' + item for item in alist if len(item) > max_length]\n",
        "    if not long_items:\n",
        "        print(f'No character lengths exceeded for {listname}.')\n",
        "    else:\n",
        "        error += 1\n",
        "        # error = True\n",
        "        print(f'Character lengths exceeded for {listname}:')\n",
        "        print(*long_items, sep='\\n')"
      ],
      "metadata": {
        "id": "Hd9MUoAjgvDO"
      },
      "execution_count": 2,
      "outputs": []
    },
    {
      "cell_type": "markdown",
      "source": [
        "Function definition: analyze sheet and generate list from pandas dataframe."
      ],
      "metadata": {
        "id": "_Jl-_l1RkTvk"
      }
    },
    {
      "cell_type": "code",
      "source": [
        "def analyze_input(sheet_name, df_dict):\n",
        "    df = df_dict[sheet_name]\n",
        "    temp_list = df.values.tolist()  # note: temp_list may be multiple lists!\n",
        "    return temp_list"
      ],
      "metadata": {
        "id": "fwaKQucMkRJT"
      },
      "execution_count": 3,
      "outputs": []
    },
    {
      "cell_type": "markdown",
      "source": [
        "Prompt user for which tournament phase is being implemented. TODO consider in future to automatically evaluate tournament phase based on file name."
      ],
      "metadata": {
        "id": "TBmhikVaiydS"
      }
    },
    {
      "cell_type": "code",
      "source": [
        "# step 0 = identify which excel files to pull? (not implemented while testing)\n",
        "print('\\n***\\nAre you uploading excel sheets for prelim schedule creation'\n",
        "      + ' or rebracketing for playoffs?')\n",
        "# tournament_phase = input('   enter \"prelims\" or \"playoffs\" => ')\n",
        "tournament_phase = 'prelims'\n",
        "\n",
        "while tournament_phase not in ['prelims', 'playoffs', 'super']:\n",
        "    print('\\n***incorrect input provided, please retry***')\n",
        "    print('\\nSelect either prelim schedule creation or '\n",
        "          + 'rebracketing for playoffs:')\n",
        "    tournament_phase = input('   enter \"prelims\" or \"playoffs\" => ')"
      ],
      "metadata": {
        "colab": {
          "base_uri": "https://localhost:8080/"
        },
        "id": "dH0Bwv5_knSt",
        "outputId": "def0dbb7-d683-4689-e79b-81a72a5ebe03",
        "collapsed": true
      },
      "execution_count": 4,
      "outputs": [
        {
          "output_type": "stream",
          "name": "stdout",
          "text": [
            "\n",
            "***\n",
            "Are you uploading excel sheets for prelim schedule creation or rebracketing for playoffs?\n"
          ]
        }
      ]
    },
    {
      "cell_type": "markdown",
      "source": [
        "---\n",
        "\n",
        "Upload the prelims_data excel spreadsheet from local computer, and create dictionary containing the sheet name and each dataframe.\n",
        "\n",
        "TODO For now, this is commented out. While testing Cornerstone as I'm porting over to Colab, I will be directly pulling the excel file from a dedicated location in github."
      ],
      "metadata": {
        "id": "QIwjrPCFjYas"
      }
    },
    {
      "cell_type": "code",
      "source": [
        "from google.colab import files\n",
        "file_upload = files.upload()\n",
        "file_upload = list(file_upload.keys())[0]\n",
        "\n",
        "sheet_names = ['tournament format', 'list of teams', 'team codes',\n",
        "                'group names', 'room assignments',\n",
        "                'QR codes', 'text input']\n",
        "df_dict_prelim = pd.read_excel(file_upload,\n",
        "                               sheet_name=sheet_names)"
      ],
      "metadata": {
        "id": "xysCWCW7g83a",
        "colab": {
          "base_uri": "https://localhost:8080/",
          "height": 90
        },
        "collapsed": true,
        "outputId": "94c929d5-cf67-4d77-ae30-5360f6c4d4c3"
      },
      "execution_count": 5,
      "outputs": [
        {
          "output_type": "display_data",
          "data": {
            "text/plain": [
              "<IPython.core.display.HTML object>"
            ],
            "text/html": [
              "\n",
              "     <input type=\"file\" id=\"files-9adc9962-9eaa-4e81-9709-5cf32c78c610\" name=\"files[]\" multiple disabled\n",
              "        style=\"border:none\" />\n",
              "     <output id=\"result-9adc9962-9eaa-4e81-9709-5cf32c78c610\">\n",
              "      Upload widget is only available when the cell has been executed in the\n",
              "      current browser session. Please rerun this cell to enable.\n",
              "      </output>\n",
              "      <script>// Copyright 2017 Google LLC\n",
              "//\n",
              "// Licensed under the Apache License, Version 2.0 (the \"License\");\n",
              "// you may not use this file except in compliance with the License.\n",
              "// You may obtain a copy of the License at\n",
              "//\n",
              "//      http://www.apache.org/licenses/LICENSE-2.0\n",
              "//\n",
              "// Unless required by applicable law or agreed to in writing, software\n",
              "// distributed under the License is distributed on an \"AS IS\" BASIS,\n",
              "// WITHOUT WARRANTIES OR CONDITIONS OF ANY KIND, either express or implied.\n",
              "// See the License for the specific language governing permissions and\n",
              "// limitations under the License.\n",
              "\n",
              "/**\n",
              " * @fileoverview Helpers for google.colab Python module.\n",
              " */\n",
              "(function(scope) {\n",
              "function span(text, styleAttributes = {}) {\n",
              "  const element = document.createElement('span');\n",
              "  element.textContent = text;\n",
              "  for (const key of Object.keys(styleAttributes)) {\n",
              "    element.style[key] = styleAttributes[key];\n",
              "  }\n",
              "  return element;\n",
              "}\n",
              "\n",
              "// Max number of bytes which will be uploaded at a time.\n",
              "const MAX_PAYLOAD_SIZE = 100 * 1024;\n",
              "\n",
              "function _uploadFiles(inputId, outputId) {\n",
              "  const steps = uploadFilesStep(inputId, outputId);\n",
              "  const outputElement = document.getElementById(outputId);\n",
              "  // Cache steps on the outputElement to make it available for the next call\n",
              "  // to uploadFilesContinue from Python.\n",
              "  outputElement.steps = steps;\n",
              "\n",
              "  return _uploadFilesContinue(outputId);\n",
              "}\n",
              "\n",
              "// This is roughly an async generator (not supported in the browser yet),\n",
              "// where there are multiple asynchronous steps and the Python side is going\n",
              "// to poll for completion of each step.\n",
              "// This uses a Promise to block the python side on completion of each step,\n",
              "// then passes the result of the previous step as the input to the next step.\n",
              "function _uploadFilesContinue(outputId) {\n",
              "  const outputElement = document.getElementById(outputId);\n",
              "  const steps = outputElement.steps;\n",
              "\n",
              "  const next = steps.next(outputElement.lastPromiseValue);\n",
              "  return Promise.resolve(next.value.promise).then((value) => {\n",
              "    // Cache the last promise value to make it available to the next\n",
              "    // step of the generator.\n",
              "    outputElement.lastPromiseValue = value;\n",
              "    return next.value.response;\n",
              "  });\n",
              "}\n",
              "\n",
              "/**\n",
              " * Generator function which is called between each async step of the upload\n",
              " * process.\n",
              " * @param {string} inputId Element ID of the input file picker element.\n",
              " * @param {string} outputId Element ID of the output display.\n",
              " * @return {!Iterable<!Object>} Iterable of next steps.\n",
              " */\n",
              "function* uploadFilesStep(inputId, outputId) {\n",
              "  const inputElement = document.getElementById(inputId);\n",
              "  inputElement.disabled = false;\n",
              "\n",
              "  const outputElement = document.getElementById(outputId);\n",
              "  outputElement.innerHTML = '';\n",
              "\n",
              "  const pickedPromise = new Promise((resolve) => {\n",
              "    inputElement.addEventListener('change', (e) => {\n",
              "      resolve(e.target.files);\n",
              "    });\n",
              "  });\n",
              "\n",
              "  const cancel = document.createElement('button');\n",
              "  inputElement.parentElement.appendChild(cancel);\n",
              "  cancel.textContent = 'Cancel upload';\n",
              "  const cancelPromise = new Promise((resolve) => {\n",
              "    cancel.onclick = () => {\n",
              "      resolve(null);\n",
              "    };\n",
              "  });\n",
              "\n",
              "  // Wait for the user to pick the files.\n",
              "  const files = yield {\n",
              "    promise: Promise.race([pickedPromise, cancelPromise]),\n",
              "    response: {\n",
              "      action: 'starting',\n",
              "    }\n",
              "  };\n",
              "\n",
              "  cancel.remove();\n",
              "\n",
              "  // Disable the input element since further picks are not allowed.\n",
              "  inputElement.disabled = true;\n",
              "\n",
              "  if (!files) {\n",
              "    return {\n",
              "      response: {\n",
              "        action: 'complete',\n",
              "      }\n",
              "    };\n",
              "  }\n",
              "\n",
              "  for (const file of files) {\n",
              "    const li = document.createElement('li');\n",
              "    li.append(span(file.name, {fontWeight: 'bold'}));\n",
              "    li.append(span(\n",
              "        `(${file.type || 'n/a'}) - ${file.size} bytes, ` +\n",
              "        `last modified: ${\n",
              "            file.lastModifiedDate ? file.lastModifiedDate.toLocaleDateString() :\n",
              "                                    'n/a'} - `));\n",
              "    const percent = span('0% done');\n",
              "    li.appendChild(percent);\n",
              "\n",
              "    outputElement.appendChild(li);\n",
              "\n",
              "    const fileDataPromise = new Promise((resolve) => {\n",
              "      const reader = new FileReader();\n",
              "      reader.onload = (e) => {\n",
              "        resolve(e.target.result);\n",
              "      };\n",
              "      reader.readAsArrayBuffer(file);\n",
              "    });\n",
              "    // Wait for the data to be ready.\n",
              "    let fileData = yield {\n",
              "      promise: fileDataPromise,\n",
              "      response: {\n",
              "        action: 'continue',\n",
              "      }\n",
              "    };\n",
              "\n",
              "    // Use a chunked sending to avoid message size limits. See b/62115660.\n",
              "    let position = 0;\n",
              "    do {\n",
              "      const length = Math.min(fileData.byteLength - position, MAX_PAYLOAD_SIZE);\n",
              "      const chunk = new Uint8Array(fileData, position, length);\n",
              "      position += length;\n",
              "\n",
              "      const base64 = btoa(String.fromCharCode.apply(null, chunk));\n",
              "      yield {\n",
              "        response: {\n",
              "          action: 'append',\n",
              "          file: file.name,\n",
              "          data: base64,\n",
              "        },\n",
              "      };\n",
              "\n",
              "      let percentDone = fileData.byteLength === 0 ?\n",
              "          100 :\n",
              "          Math.round((position / fileData.byteLength) * 100);\n",
              "      percent.textContent = `${percentDone}% done`;\n",
              "\n",
              "    } while (position < fileData.byteLength);\n",
              "  }\n",
              "\n",
              "  // All done.\n",
              "  yield {\n",
              "    response: {\n",
              "      action: 'complete',\n",
              "    }\n",
              "  };\n",
              "}\n",
              "\n",
              "scope.google = scope.google || {};\n",
              "scope.google.colab = scope.google.colab || {};\n",
              "scope.google.colab._files = {\n",
              "  _uploadFiles,\n",
              "  _uploadFilesContinue,\n",
              "};\n",
              "})(self);\n",
              "</script> "
            ]
          },
          "metadata": {}
        },
        {
          "output_type": "stream",
          "name": "stdout",
          "text": [
            "Saving prelims_data.xlsx to prelims_data.xlsx\n"
          ]
        }
      ]
    },
    {
      "cell_type": "code",
      "source": [
        "# sheet_names = ['tournament format', 'list of teams', 'team codes',\n",
        "#                 'group names', 'room assignments',\n",
        "#                 'QR codes', 'text input']\n",
        "# url = \"https://github.com/victorprieto2265/cornerstone/blob/main/data%20input/prelims_data.xlsx?raw=true\"\n",
        "# df_dict_prelim = pd.read_excel(url,\n",
        "#                                sheet_name=sheet_names)\n"
      ],
      "metadata": {
        "id": "Y1gg7KUvlGRK"
      },
      "execution_count": 6,
      "outputs": []
    },
    {
      "cell_type": "markdown",
      "source": [
        "Using the analyze_input function, create a list from each tab of the spreadsheet corresponding to the relevant information (e.g. a list of room assignments). If in playoffs or superplayoffs, also create the relevant lists there."
      ],
      "metadata": {
        "id": "EvXL0iGwFMH7"
      }
    },
    {
      "cell_type": "code",
      "source": [
        "list_of_teams = analyze_input('list of teams', df_dict_prelim)\n",
        "team_codes = analyze_input('team codes', df_dict_prelim)\n",
        "room_assignments = analyze_input('room assignments', df_dict_prelim)\n",
        "qr_codelist = analyze_input('QR codes', df_dict_prelim)\n",
        "textlist = analyze_input('text input', df_dict_prelim)\n",
        "tournament_format = analyze_input('tournament format', df_dict_prelim)\n",
        "\n",
        "group_names = analyze_input('group names', df_dict_prelim)\n",
        "prelim_group_names = [row[0] for row in group_names]\n",
        "\n",
        "if tournament_phase in ['playoffs', 'super']:\n",
        "    playoff_bracket_names = [row[1] for row in group_names]\n",
        "    playoff_bracket_names = [x for x in playoff_bracket_names\n",
        "                             if str(x) != 'nan']\n",
        "if tournament_phase == 'super':\n",
        "    super_bracket_names = [row[2] for row in group_names]\n",
        "    super_bracket_names = [x for x in super_bracket_names\n",
        "                             if str(x) != 'nan']"
      ],
      "metadata": {
        "id": "3CAhOiL09mfs"
      },
      "execution_count": 7,
      "outputs": []
    },
    {
      "cell_type": "markdown",
      "source": [
        "A dictionary containing general information about the tournament is also generated from the tournament_format sheet.\n",
        "\n",
        "It's necessary to convert the datetime value from excel to a more suitable string before printing."
      ],
      "metadata": {
        "id": "irPSh0zaFwLj"
      }
    },
    {
      "cell_type": "code",
      "source": [
        "format_dict = {}\n",
        "for row in tournament_format:\n",
        "    key = row[0]  # item, e.g. \"tournament name\"\n",
        "    value = row[1]  # input, e.g. \"2022 NSC\"\n",
        "    format_dict[key] = value\n",
        "\n",
        "# convert Excel datetime format to more suitable date string\n",
        "date = format_dict['tournament date'].strftime('%B %d, %Y')\n",
        "format_dict['tournament date'] = date"
      ],
      "metadata": {
        "id": "SNGO4QFRkOZ5"
      },
      "execution_count": 8,
      "outputs": []
    },
    {
      "cell_type": "markdown",
      "source": [
        "Next is the analysis section for the text and QR code inputs. Did the user turn these on? If not, these sections are skipped.\n",
        "\n",
        "TODO qr_codes used to have a NoEscape function, but that was because of pylatex and has been removed."
      ],
      "metadata": {
        "id": "8EDjXCXfn9Wd"
      }
    },
    {
      "cell_type": "code",
      "source": [
        "if format_dict['QR codes'] == 'Y':\n",
        "    qr_toggle = True\n",
        "\n",
        "    qr_names = [code[0] for code in qr_codelist]\n",
        "    qr_codes = [code[2] for code in qr_codelist]\n",
        "    qr_captions = [code[3] for code in qr_codelist]\n",
        "\n",
        "else:\n",
        "    qr_toggle = False\n",
        "    qr_codes = False\n",
        "    qr_captions = False\n",
        "\n",
        "if format_dict['text'] == 'Y':\n",
        "    text_toggle = True\n",
        "    texts = [text[1] for text in textlist]\n",
        "\n",
        "    # lorem text, delete later\n",
        "    lorem = '''\n",
        "\n",
        "    Lorem ipsum dolor sit amet. Sed iusto reprehenderit ut quis voluptas ea Quis assumenda ut eius magni eum voluptate modi? Id unde libero ad pariatur sunt eos nisi possimus est omnis nisi ut internos laboriosam. Sit nesciunt ducimus et totam maxime est voluptas vero sed itaque nihil. Et expedita culpa et fuga sunt quo esse ipsam eos doloribus autem rem perferendis modi et molestiae vitae.\n",
        "\n",
        "    Sed cumque odio eum temporibus deleniti ad consequatur consequatur aut molestias maiores. Est doloribus tenetur est dolorem ducimus sit quasi provident. Est facere expedita non expedita molestiae non error magnam vel obcaecati debitis et blanditiis reiciendis est cupiditate voluptatem ea soluta consequatur. Qui tempore ipsam eos asperiores aliquid ex unde velit est repellendus temporibus hic quidem assumenda!\n",
        "\n",
        "    Non autem maiores aut reprehenderit nulla sit repellendus dolore ut illum incidunt ut dignissimos eaque! Ex aperiam minima eos quis dolor id consequatur eligendi ut culpa galisum. Non fugiat corporis vel doloremque dignissimos sit vero quasi sed voluptatem explicabo.\n",
        "\n",
        "    '''\n",
        "else:\n",
        "    text_toggle = False\n",
        "    texts = False"
      ],
      "metadata": {
        "id": "cZ3mT363oBcD"
      },
      "execution_count": 9,
      "outputs": []
    },
    {
      "cell_type": "markdown",
      "source": [
        "More dictionary creation here: this time, for team names and team codes.\n",
        "\n",
        "RFE get rid of team codes if the user is okay with foregoing the complete team schedule in favor of individual team schedules."
      ],
      "metadata": {
        "id": "ozsWkM-bHtSP"
      }
    },
    {
      "cell_type": "code",
      "source": [
        "# key is team name\n",
        "# value is team code\n",
        "# also created a dictionary where the key/value pairs are swapped\n",
        "team_code_dict = {}\n",
        "code_team_dict = {}\n",
        "for row in team_codes:\n",
        "    team_name = row[0]\n",
        "    team_code = row[1]\n",
        "    team_code_dict[team_name] = team_code\n",
        "    code_team_dict[team_code] = team_name\n",
        "\n",
        "# key is prelim group and a number (i.e. Accra1)\n",
        "# value is corresponding room (i.e. Grand Ballroom A is Accra1)\n",
        "# also created dictionary where key is a playoff bracket instead\n",
        "prelim_room_dict = {}\n",
        "playoff_room_dict = {}\n",
        "super_room_dict = {}\n",
        "for i in room_assignments:\n",
        "    key = i[1] + str(i[2])\n",
        "    value = i[0]\n",
        "    if tournament_phase == 'prelims':\n",
        "        prelim_room_dict[key] = value\n",
        "    elif tournament_phase == 'playoffs':\n",
        "        playoff_room_dict[key] = value\n",
        "    elif tournament_phase == 'super':\n",
        "        super_room_dict[key] = value"
      ],
      "metadata": {
        "id": "zCCyM_MCg-H0"
      },
      "execution_count": 10,
      "outputs": []
    },
    {
      "cell_type": "markdown",
      "source": [
        "Last is the error check section, to see if any of the data submitted by the user was improperly formatted."
      ],
      "metadata": {
        "id": "dKTcWKPmHfV8"
      }
    },
    {
      "cell_type": "code",
      "source": [
        "# %% error catching\n",
        "\n",
        "# if prelim_team_count <= 3 or playoff_team_count <= 3:\n",
        "#     print('Unable to produce round robins smaller than 4.')\n",
        "#     sys.exit()\n",
        "\n",
        "# if prelim_team_count >= 15 or playoff_team_count >= 15:\n",
        "#     print('Unable to produce round robins larger than 14.')\n",
        "#     sys.exit()\n",
        "\n",
        "# TODO modify max_duplicates to be flexible on schedule and not hard coded\n",
        "# or perhaps get rid of max duplicates since it doesn't make a lot of sense\n",
        "# error check imported lists/sublists\n",
        "error_check([sublist[0] for sublist in list_of_teams],\n",
        "            'the team names in list_of_teams',\n",
        "            max_length=26)\n",
        "\n",
        "# error_check([sublist[2] for sublist in list_of_teams],\n",
        "#             'the prelim groups in list_of_teams',\n",
        "#             max_length=15,\n",
        "#             )\n",
        "\n",
        "error_check([sublist[1] for sublist in team_codes],\n",
        "            'the team codes in team_codes',\n",
        "            max_length=4)\n",
        "\n",
        "try:\n",
        "    error_check(prelim_group_names,\n",
        "                'the groups in prelim_group_names',\n",
        "                max_length=15)\n",
        "except:  # TODO bare except\n",
        "    None\n",
        "\n",
        "try:\n",
        "    error_check(playoff_bracket_names,\n",
        "                'the brackets in playoff_bracket_names',\n",
        "                max_length=15)\n",
        "except:  # TODO bare except\n",
        "    None\n",
        "\n",
        "error_check([sublist[0] for sublist in room_assignments],\n",
        "            'the list of rooms in room_assignments',\n",
        "            max_length=15)\n",
        "\n",
        "if error == 0:\n",
        "    print('\\n*** No errors detected upon import. ***')\n",
        "else:\n",
        "    print('\\n*** Errors detected during import! ***')\n",
        "    sys.exit()"
      ],
      "metadata": {
        "id": "DhUxZUHJHehk",
        "colab": {
          "base_uri": "https://localhost:8080/"
        },
        "outputId": "2745d732-a4fb-4116-e182-169284fcf044",
        "collapsed": true
      },
      "execution_count": 11,
      "outputs": [
        {
          "output_type": "stream",
          "name": "stdout",
          "text": [
            "\n",
            "\n",
            "No duplicates detected for the team names in list_of_teams.\n",
            "No character lengths exceeded for the team names in list_of_teams.\n",
            "\n",
            "\n",
            "No duplicates detected for the team codes in team_codes.\n",
            "No character lengths exceeded for the team codes in team_codes.\n",
            "\n",
            "\n",
            "No duplicates detected for the groups in prelim_group_names.\n",
            "No character lengths exceeded for the groups in prelim_group_names.\n",
            "\n",
            "\n",
            "No duplicates detected for the list of rooms in room_assignments.\n",
            "No character lengths exceeded for the list of rooms in room_assignments.\n",
            "\n",
            "*** No errors detected upon import. ***\n"
          ]
        }
      ]
    },
    {
      "cell_type": "markdown",
      "source": [
        "# Function Definitions"
      ],
      "metadata": {
        "id": "owcZyEiJdJTm"
      }
    },
    {
      "cell_type": "markdown",
      "source": [
        "Function for removing duplicates from a list."
      ],
      "metadata": {
        "id": "uQuJVhmyA3CC"
      }
    },
    {
      "cell_type": "code",
      "source": [
        "def remove_duplicates(alist):\n",
        "    newlist = []\n",
        "    [newlist.append(x) for x in alist if x not in newlist]\n",
        "    return newlist"
      ],
      "metadata": {
        "id": "a81URiBdA7G8"
      },
      "execution_count": 12,
      "outputs": []
    },
    {
      "cell_type": "markdown",
      "source": [
        "original function_definitions.py"
      ],
      "metadata": {
        "id": "EUZolcmPAy4y"
      }
    },
    {
      "cell_type": "code",
      "source": [
        "# import time\n",
        "# import sys\n",
        "# from pathlib import Path\n",
        "# from pylatex import (Document, Tabularx, Command,\n",
        "#                       NewPage, HugeText, Package,\n",
        "#                      VerticalSpace)\n",
        "# from pylatex.utils import NoEscape\n",
        "# from cornerstone_input import format_dict\n",
        "\n",
        "# # place additional modules here\n",
        "\n",
        "# header = \"\"\"\n",
        "\n",
        "# Depository for a bunch of class and function definitions shared across\n",
        "# prelim/playoff scripts.\n",
        "\n",
        "# TODO what if snake seed is fed a list with odd number of teams?\n",
        "\n",
        "# TODO what if qr_count ≠ 3?\n",
        "\n",
        "# Created on Mon Nov 1 13:53:44 2021 Eastern Time\n",
        "\n",
        "# @author: Victor Prieto\n",
        "\n",
        "# \"\"\"\n",
        "\n",
        "\n",
        "# # starts program runtime\n",
        "# start_time = time.time()\n",
        "# print('\\n', header)\n",
        "# print('start time: %s' % time.ctime())\n",
        "\n",
        "# # %% function definitions\n",
        "\n",
        "\n",
        "\n",
        "\n",
        "\n",
        "# def split_list(alist, wanted_parts=1):\n",
        "#     length = len(alist)\n",
        "#     return [alist[i*length // wanted_parts: (i+1)*length // wanted_parts]\n",
        "#             for i in range(wanted_parts)]\n",
        "\n",
        "\n",
        "# def snake_seed(list_of_teams, bracket_count):\n",
        "#     \"\"\"\n",
        "#     Parameters\n",
        "#     ----------\n",
        "#     list_of_teams : list\n",
        "#         A list of teams for reordering into playoff brackets by snake seeding.\n",
        "#     bracket_count : int\n",
        "#         Number of playoff brackets to snake seed across.\n",
        "\n",
        "#     Returns\n",
        "#     -------\n",
        "#     newlist : list\n",
        "#         Same list of teams accepted as input, but reordered by snake seeding.\n",
        "#         The list is also split into the number of playoff brackets.\n",
        "#         Example:\n",
        "#             (1, 2, 3, 4... 23, 24)\n",
        "#             snake seeded across four brackets becomes\n",
        "#             ((1, 8, 9, 16, 17, 24), (2, 7, 10, 15, 18... 12, 13, 20, 21))\n",
        "\n",
        "#     \"\"\"\n",
        "\n",
        "#     # generates sequence of indices for snake seeding\n",
        "#     sequence_length = 2 * bracket_count\n",
        "#     reps = len(list_of_teams) / sequence_length\n",
        "#     sequence = []\n",
        "#     for i in range(0, int(sequence_length/2)):\n",
        "#         for j in range(0, int(reps)):\n",
        "#             sequence.append(i+j*sequence_length)\n",
        "#             sequence.append((sequence_length-1-i)+j*sequence_length)\n",
        "\n",
        "#     # quits program if odd number of teams in list_of_teams\n",
        "#     if (len(list_of_teams)) % 2 == 1:\n",
        "#         print('ODD NUMBER OF TEAMS DETECTED')\n",
        "#         sys.exit()\n",
        "\n",
        "#     # use sequence of indices to generate new list of teams\n",
        "#     newlist = (list_of_teams[index] for index in sequence)\n",
        "#     return newlist\n",
        "\n",
        "\n",
        "# def alternating_rows(doc, color):\n",
        "#     return doc.append(NoEscape(r'\\rowcolors{3}{white}{%s}' % color))\n",
        "\n",
        "\n",
        "# def duplicate_checker(alist):\n",
        "#     seen = set()\n",
        "#     for x in alist:\n",
        "#         if x in seen:\n",
        "#             return True\n",
        "#         seen.add(x)\n",
        "#     return False\n",
        "\n",
        "\n",
        "# def start_latex(filename_input, docname, title=True, fontsize=False):\n",
        "\n",
        "#     Path(\"./output/\").mkdir(parents=True, exist_ok=True)\n",
        "#     file_path = r'./output/'\n",
        "#     Path(file_path).mkdir(parents=True, exist_ok=True)\n",
        "#     filename = file_path + filename_input        \n",
        "    \n",
        "#     geometry_options = {\n",
        "#         \"includeheadfoot\": True\n",
        "#     }\n",
        "\n",
        "#     doc = Document(filename, geometry_options=geometry_options)\n",
        "\n",
        "#     # this changed font sizes, but it doesn't work so well\n",
        "#     if fontsize is True:\n",
        "#         doc = Document(filename_input, geometry_options=geometry_options,\n",
        "#                        font_size='')\n",
        "#         doc.append(Command('fontsize', arguments=['12', '12']))\n",
        "#         doc.append(Command('selectfont'))\n",
        "\n",
        "#     doc.preamble.append(Command('title', format_dict['tournament name']))\n",
        "#     doc.preamble.append(Command('author', format_dict['tournament location']))\n",
        "#     doc.preamble.append(Command('date', format_dict['tournament date']))\n",
        "    \n",
        "#     doc.packages.append(Package('qrcode'))  # add qrcode to packages\n",
        "#     doc.packages.append(Package('fancyhdr'))  # add qrcode to packages\n",
        "\n",
        "#     doc.append(NoEscape(r'\\newcolumntype{Y}{>{\\centering\\arraybackslash}X}'))\n",
        "\n",
        "#     # TODO vertically center docname text on page\n",
        "#     if title is True:\n",
        "#         doc.append(NoEscape(r'\\maketitle'))\n",
        "#         doc.append(VerticalSpace('48pt'))\n",
        "#         doc.append(NoEscape(r'\\begin{center}'))\n",
        "#         doc.append(HugeText(docname))\n",
        "#         doc.append(NoEscape(r'\\end{center}'))\n",
        "#         doc.append(NewPage())\n",
        "    \n",
        "#     doc.append(NoEscape(r'\\pagestyle{fancy}'))\n",
        "#     doc.append(NoEscape(r'\\fancyhf{}'))\n",
        "#     date = '{' + format_dict['tournament date'] + '}'\n",
        "#     name = '{' + format_dict['tournament name'] + '}'\n",
        "#     doc.append(NoEscape(fr'\\rhead{date}'))\n",
        "#     doc.append(NoEscape(fr'\\lhead{name}'))\n",
        "#     doc.append(NoEscape(r'\\rfoot{Created by Cornerstone.}'))\n",
        "        \n",
        "#     return doc\n",
        "\n",
        "\n",
        "# def close_latex(filename_input, doc_input):\n",
        "#     file_path = r'./output/'\n",
        "#     filename = file_path + filename_input\n",
        "#     doc_input.generate_tex()\n",
        "#     doc_input.generate_pdf()\n",
        "\n",
        "#     file = open(filename + '.tex')\n",
        "#     latex_string = file.read()\n",
        "#     bad_string = '\\\\usepackage{lastpage}%'\n",
        "#     good_string = '\\\\usepackage[table]{xcolor}%'\n",
        "#     # print(latex_string)\n",
        "#     latex_string = latex_string.replace(bad_string, good_string)\n",
        "\n",
        "#     # for visual debugging\n",
        "#     # print('\\n\\n', latex_string[0:700], '\\n\\n')\n",
        "\n",
        "#     with open(f'{filename}.tex', 'w') as f:\n",
        "#         f.write(latex_string)\n",
        "\n",
        "\n",
        "# # %% classes, mostly not in use\n",
        "# # TODO figure out class inheritance for team/prelim_team/playoff_team\n",
        "# class team:\n",
        "#     def __init__(self,\n",
        "#                  name,\n",
        "#                  code):\n",
        "#         self.name = name\n",
        "#         self.code = code\n",
        "\n",
        "\n",
        "# class prelim_team(team):\n",
        "#     def __init__(self,\n",
        "#                  name,\n",
        "#                  code,\n",
        "#                  prelim_group,\n",
        "#                  prelim_seed):\n",
        "#         super().__init__(name, code)\n",
        "#         self.prelim_group = prelim_group\n",
        "#         self.prelim_seed = prelim_seed\n",
        "\n",
        "\n",
        "# class playoff_team():\n",
        "#     def __init__(self,\n",
        "#                  name,\n",
        "#                  code,\n",
        "#                  prelim_group,\n",
        "#                  playoff_bracket,\n",
        "#                  playoff_seed):  # playoff seed also the prelim finish\n",
        "#         self.name = name\n",
        "#         self.code = code\n",
        "#         self.prelim_group = prelim_group\n",
        "#         self.playoff_bracket = playoff_bracket\n",
        "#         self.playoff_seed = playoff_seed\n",
        "\n",
        "# # %% more function definitions\n",
        "\n",
        "\n",
        "# def header_stringify(teamcount, tabularx=False):\n",
        "#     \"\"\"\n",
        "\n",
        "#     Parameters\n",
        "#     ----------\n",
        "#     teamcount : int\n",
        "#         Number of teams in the round robin.\n",
        "#     tabularx : bool, optional\n",
        "#         Changes header string to account for newcolumntype Y, used in tabularx.\n",
        "#         The default is False.\n",
        "\n",
        "#     Returns\n",
        "#     -------\n",
        "#     A string for pylatex to use when defining the table.\n",
        "#     Example: '|l|cc|cc|cc|cc|'\n",
        "\n",
        "#     If tabularx is set to True, returns a string that utilizes newcolumntype Y.\n",
        "#     Example: '|l|Y|Y|Y|Y|Y|Y|'\n",
        "\n",
        "#     \"\"\"\n",
        "\n",
        "#     roomcount = teamcount // 2\n",
        "\n",
        "#     header_string = '|l' + ('|cc' * roomcount + '|')\n",
        "#     if teamcount % 2 == 1:\n",
        "#         header_string = header_string + 'c|'\n",
        "\n",
        "#     if tabularx is True:\n",
        "#         header_string = '|l' + ('|Y' * teamcount + '|')\n",
        "\n",
        "#     return header_string\n",
        "\n",
        "\n",
        "# # %% prints runtime\n",
        "# print('end time: %s' % time.ctime())\n",
        "# print(\"--- %s seconds ---\" % '%.3f' % (time.time() - start_time))\n",
        "# print(\"--- %s minutes ---\" % '%.3f' % (time.time()/60 - start_time/60))"
      ],
      "metadata": {
        "id": "83PLhfS0ArVn"
      },
      "execution_count": 13,
      "outputs": []
    },
    {
      "cell_type": "markdown",
      "source": [
        "# Standard Scheduler Function\n",
        "\n",
        "Created on Mon Nov 22 2021\n",
        "\n",
        "Definition of functions used for creating a table for a round robin schedule,\n",
        "between 4 and 14 teams.\n",
        "\n",
        "TODO if possible, fix pylatex table lines and shading in this function"
      ],
      "metadata": {
        "id": "GEJoeZNfdPrN"
      }
    },
    {
      "cell_type": "markdown",
      "source": [
        "First: retrieve the round robin templates stored on the cornerstone github page. The templates will automatically populate a dictionary.\n",
        "\n",
        "Each key is the name of the sheet corresponding to the round robin template: rr_6 is a basic 6 team round robin, rr_12 is for 12 teams, rr_crossover_A8 is the 8 team playoff roundrobin including crossovers (there are two possible crossovers, A and B, based on [Dwight Wynne's spreadsheet of schedule formats](https://https://docs.google.com/spreadsheets/d/1BPF6jFvhkh5qe7eesGFGU9KH6FVps2tS3YeseFocpIE/edit#gid=16)).\n",
        "\n",
        "The dictionary values are the pandas dataframes for each template.\n",
        "\n",
        "These templates will be used in the standard scheduler function and retrieved based on the key name."
      ],
      "metadata": {
        "id": "Q__BsPTWAtPh"
      }
    },
    {
      "cell_type": "code",
      "source": [
        "url = \"https://github.com/victorprieto2265/cornerstone/blob/main/templates/rr_schedules/rr_templates.xlsx?raw=true\"\n",
        "rr_template_dict = pd.read_excel(url,\n",
        "                                 sheet_name = None)\n",
        "rr_template_dict.keys()"
      ],
      "metadata": {
        "colab": {
          "base_uri": "https://localhost:8080/"
        },
        "id": "7FtnKegkiJUy",
        "outputId": "1fb30be1-1b44-4d26-e283-73dcacd37d71",
        "collapsed": true
      },
      "execution_count": 14,
      "outputs": [
        {
          "output_type": "execute_result",
          "data": {
            "text/plain": [
              "dict_keys(['rr_3', 'rr_4', 'rr_5', 'rr_6', 'rr_7', 'rr_8', 'rr_9', 'rr_10', 'rr_11', 'rr_12', 'rr_13', 'rr_14', 'rr_crossover_B3', 'rr_crossover_A6', 'rr_crossover_B6', 'rr_crossover_B7', 'rr_crossover_A8', 'rr_crossover_B8'])"
            ]
          },
          "metadata": {},
          "execution_count": 14
        }
      ]
    },
    {
      "cell_type": "markdown",
      "source": [
        "DONE \n",
        "\n",
        "*  testing of proper schedule retrieval from rr_template_dict\n",
        "\n",
        "TODO\n",
        "\n",
        "*  fix the crossover templates in the excel file, which right now are a mess "
      ],
      "metadata": {
        "id": "szp10lDJkBo2"
      }
    },
    {
      "cell_type": "code",
      "source": [
        "teamcount = 8\n",
        "crossover = 'A'\n",
        "\n",
        "if crossover is False:\n",
        "  key = f'rr_{teamcount}'\n",
        "else:\n",
        "  key = f'rr_crossover_{crossover}{teamcount}'\n",
        "\n",
        "rr_schedule = rr_template_dict[key].values.tolist()\n",
        "\n",
        "print(*rr_schedule, sep='\\n')"
      ],
      "metadata": {
        "id": "xDcLJrurF1zG",
        "colab": {
          "base_uri": "https://localhost:8080/"
        },
        "outputId": "e88d5ec1-0427-4b0a-d554-febb503a7d72",
        "collapsed": true
      },
      "execution_count": 15,
      "outputs": [
        {
          "output_type": "stream",
          "name": "stdout",
          "text": [
            "['A1', 'B2', 'C1', 'D2', 'B1', 'A2', 'D1', 'C2']\n",
            "['C1', 'A2', 'A1', 'C2', 'D1', 'B2', 'B1', 'D2']\n",
            "['B1', 'C2', 'D1', 'A2', 'A1', 'D2', 'C1', 'B2']\n",
            "['A1', 'D1', 'B2', 'C2', 'B1', 'C1', 'A2', 'D2']\n",
            "['B2', 'D2', 'B1', 'D1', 'A2', 'C2', 'A1', 'C1']\n",
            "['C1', 'D1', 'A1', 'B1', 'C2', 'D2', 'A2', 'B2']\n"
          ]
        }
      ]
    },
    {
      "cell_type": "markdown",
      "source": [
        "Definition of the standard scheduler function is below."
      ],
      "metadata": {
        "id": "rLOCcNtEFpce"
      }
    },
    {
      "cell_type": "code",
      "source": [
        "def standard_schedule(group_name, teamcode_dict, room_dict, roundstart=1,\n",
        "                      crossover=False, superplayoff=False):\n",
        "    \"\"\"\n",
        "\n",
        "\n",
        "    Parameters\n",
        "    ----------\n",
        "    groupname : string\n",
        "        String of the prelim group or playoff bracket name.\n",
        "        Example: Lilongwe\n",
        "    teamcode_dict : dict\n",
        "        k : v = a group/bracket code : teamcode corresponding to that code\n",
        "        example: Lilongwe4 = MBA\n",
        "    room_dict : dict\n",
        "        k : v = a group/bracket code : room corresponding to that code\n",
        "        example: Lilongwe2 = Suite 1132\n",
        "    roundstart : int, optional\n",
        "        Number for the first round in the schedule. The default is 1.\n",
        "\n",
        "    Returns\n",
        "    -------\n",
        "    schedule_grid : list\n",
        "        Latex-friendly table. First row = table header, remaining rows =\n",
        "        schedule for each round.\n",
        "\n",
        "    \"\"\"\n",
        "\n",
        "    # produce teamlist\n",
        "    teamlist = [k for k, v in list(teamcode_dict.items())\n",
        "                if k.startswith(group_name)]\n",
        "    sorted_list = sorted(teamlist)\n",
        "    teamlist = [teamcode_dict[i] for i in sorted_list]\n",
        "\n",
        "    # identify number of teams in teamlist and appropriate number of rooms\n",
        "    teamcount = len(teamlist)\n",
        "    roomcount = teamcount // 2\n",
        "\n",
        "    # retrieve correct rr_template from rr_template_dict\n",
        "    if crossover is False:\n",
        "      key = f'rr_{teamcount}'\n",
        "    else:\n",
        "      key = f'rr_crossover_{crossover}{teamcount}'\n",
        "\n",
        "    rr_schedule = rr_template_dict[key].values.tolist()\n",
        "\n",
        "    # produce roomlist\n",
        "    roomlist = [k for k, v in list(room_dict.items())\n",
        "                if k.startswith(group_name)]\n",
        "    roomlist = [room_dict[i] for i in sorted(roomlist)]\n",
        "\n",
        "    # populate header with room names\n",
        "    rooms = []\n",
        "    header = ['']\n",
        "    for index in range(roomcount):\n",
        "        room = roomlist[index]\n",
        "        header.append(room)\n",
        "\n",
        "    # the last element in the header should be BYE if teamcount is odd\n",
        "    if teamcount % 2 == 1:\n",
        "        header.append('BYE')\n",
        "\n",
        "    # use rr_schedule template and roundstart to produce rest of schedule grid\n",
        "    schedule_grid = [header]\n",
        "    for round_num, row in enumerate(rr_schedule):\n",
        "        round_num += roundstart\n",
        "        new_row = [f'Round {round_num}']\n",
        "        for index in row:\n",
        "            code = group_name + str(index)\n",
        "            team = teamcode_dict[code]\n",
        "            new_row.append(team)\n",
        "        schedule_grid.append(new_row)\n",
        "\n",
        "    return schedule_grid"
      ],
      "metadata": {
        "id": "wlG8swh1trsX"
      },
      "execution_count": 16,
      "outputs": []
    },
    {
      "cell_type": "markdown",
      "source": [
        "# Individual Schedule Functions "
      ],
      "metadata": {
        "id": "5n9ob-8odPkM"
      }
    },
    {
      "cell_type": "markdown",
      "source": [
        "This section contains the functions that extract individual team and room schedules from a schedule grid.\n",
        "\n",
        "Use get_team_list() and get_room_list() to generate a list of teams and a list of rooms from a schedule grid."
      ],
      "metadata": {
        "id": "wS0ljqoELnJq"
      }
    },
    {
      "cell_type": "code",
      "source": [
        "def get_team_list(schedule_grid):\n",
        "    team_list = sorted(schedule_grid[1][1:])\n",
        "    return team_list\n",
        "\n",
        "\n",
        "def get_room_list(schedule_grid):\n",
        "    # remove first element in header, which should be an empty string\n",
        "    header = schedule_grid[0][1:]\n",
        "    \n",
        "    # retrieve room list\n",
        "    room_list = [i for i in header]\n",
        "    if 'BYE' in header:\n",
        "        room_list[-1] = 'BYE'\n",
        "    return room_list"
      ],
      "metadata": {
        "id": "WPJyVdz1Ltml"
      },
      "execution_count": 17,
      "outputs": []
    },
    {
      "cell_type": "markdown",
      "source": [
        "For a given team in a given round, what team do they play and where? Use find_opponent().\n"
      ],
      "metadata": {
        "id": "a7OD0aUxL8W9"
      }
    },
    {
      "cell_type": "code",
      "source": [
        "def find_opponent(team, row, room_list, code_dict):\n",
        "    index = row.index(team)\n",
        "    room = room_list[index]\n",
        "    if row[-1] == team and room_list[-1] == 'BYE':\n",
        "        opponent = 'BYE'\n",
        "    elif index % 2 == 0:\n",
        "        opponent_code = row[index+1]\n",
        "        opponent = code_dict[opponent_code]\n",
        "    else:\n",
        "        opponent_code = row[index-1]\n",
        "        opponent = code_dict[opponent_code]\n",
        "    return room, opponent"
      ],
      "metadata": {
        "id": "KJH6zps2NyoC"
      },
      "execution_count": 18,
      "outputs": []
    },
    {
      "cell_type": "markdown",
      "source": [
        "what teams are in a room at a given round?"
      ],
      "metadata": {
        "id": "7UtVnnn7N2ei"
      }
    },
    {
      "cell_type": "code",
      "source": [
        "def find_teams(row, room, roomlist, code_dict):\n",
        "    index = roomlist.index(room)\n",
        "    teams = row[2*index:2*index+2]\n",
        "    teams = [*map(code_dict.get, teams)]\n",
        "    return sorted(teams)  # alphabetically sorts teams"
      ],
      "metadata": {
        "id": "BqybAya0N24c"
      },
      "execution_count": 19,
      "outputs": []
    },
    {
      "cell_type": "markdown",
      "source": [
        "The clean_up_grid function is sometimes used to remove the header row (room list) and the round number column on the left."
      ],
      "metadata": {
        "id": "uU0U0j32OBUN"
      }
    },
    {
      "cell_type": "code",
      "source": [
        "def clean_up_grid(schedule_grid):\n",
        "    no_header = schedule_grid[1:]\n",
        "    basic_schedule_grid = []\n",
        "    for index, row in enumerate(no_header):\n",
        "        basic_schedule_grid.append(row[1:])\n",
        "\n",
        "    return basic_schedule_grid"
      ],
      "metadata": {
        "id": "kBKx4V4WN98S"
      },
      "execution_count": 20,
      "outputs": []
    },
    {
      "cell_type": "markdown",
      "source": [
        "The specific_team_scheduler function is the key for generating a schedule grid for a single team."
      ],
      "metadata": {
        "id": "cNyCExgmOLlu"
      }
    },
    {
      "cell_type": "code",
      "source": [
        "def specific_team_scheduler(team, schedule_grid, room_list, code_dict,\n",
        "                            round_start=1):\n",
        "    \n",
        "    # generate room_list with duplicated values\n",
        "    # need this for finding an opponent at a particular index\n",
        "    dup_room_list = [room for room in room_list for _ in (0, 1)]\n",
        "\n",
        "    # how many rounds in the grid?\n",
        "    rounds = len(schedule_grid)\n",
        "\n",
        "    specific_grid = [['', 'Room Name', 'Opponent']]\n",
        "    for i in range(0, rounds):\n",
        "        room, opponent = find_opponent(team,\n",
        "                                       schedule_grid[i],\n",
        "                                       dup_room_list,\n",
        "                                       code_dict)\n",
        "\n",
        "        specific_grid.append([f'Round {round_start+i}', room, opponent])\n",
        "\n",
        "    return specific_grid"
      ],
      "metadata": {
        "id": "Ap0lkVL1OOKM"
      },
      "execution_count": 21,
      "outputs": []
    },
    {
      "cell_type": "markdown",
      "source": [
        "Like specific_team_scheduler(), specific_room_scheduler is the key for generating the schedule for an individual room."
      ],
      "metadata": {
        "id": "kD6q752_O-jC"
      }
    },
    {
      "cell_type": "code",
      "source": [
        "def specific_room_scheduler(room, schedule_grid, room_list,\n",
        "                            code_dict, round_start=1):\n",
        "    basic_schedule_grid = clean_up_grid(schedule_grid)\n",
        "    specific_grid = [['', 'Team 1', 'Team 2']]\n",
        "    for index, row in enumerate(basic_schedule_grid):\n",
        "        teams = find_teams(row, room, room_list, code_dict)\n",
        "        if room == 'BYE':\n",
        "            return 'BYE'\n",
        "        specific_grid.append([f'Round {round_start+index}',\n",
        "                              teams[0], teams[1]])\n",
        "\n",
        "    return specific_grid"
      ],
      "metadata": {
        "id": "xfuyEiYnPG1p"
      },
      "execution_count": 22,
      "outputs": []
    },
    {
      "cell_type": "markdown",
      "source": [
        "# Prelim Scheduler\n",
        "\n",
        "This section reads the list of prelim teams and information from the tournament format dictionary to produce a set of prelim schedules."
      ],
      "metadata": {
        "id": "K4OmpZngcsFP"
      }
    },
    {
      "cell_type": "markdown",
      "source": [
        "dictionary creation\n",
        "\n",
        "prelim group names"
      ],
      "metadata": {
        "id": "Is1C6X6cAbNi"
      }
    },
    {
      "cell_type": "code",
      "source": [
        "prelim_group_names = [sublist[1] for sublist in list_of_teams]\n",
        "prelim_group_names = remove_duplicates(prelim_group_names)\n",
        "\n",
        "# key is a prelim group name and a seed (i.e. Belmopan6)\n",
        "# value is the corresponding team (i.e. Great Valley A for Belmopan6)\n",
        "# also created a dictionary where values are team codes (i.e. GVA)\n",
        "prelim_team_dict = {}\n",
        "prelim_teamcode_dict = {}\n",
        "team_group_dict = {}\n",
        "teamcode_group_dict = {}\n",
        "for i in list_of_teams:\n",
        "    # key = i[2] + str(i[3])\n",
        "    key = i[1] + str(i[2])\n",
        "    value = i[0]  # team name\n",
        "    prelim_team_dict[key] = value\n",
        "    # also created dictionary where k/v pairs are swapped\n",
        "    team_group_dict[value] = key\n",
        "    # value = i[1]  # team code\n",
        "    value = team_code_dict[value]\n",
        "    prelim_teamcode_dict[key] = value\n",
        "    # also created dictionary where k/v pairs are swapped\n",
        "    teamcode_group_dict[value] = key\n",
        "\n",
        "# key is prelim group and a number (i.e. Accra1)\n",
        "# value is corresponding room (i.e. Grand Ballroom A is Accra1)\n",
        "# also created dictionary where key is a playoff bracket instead\n",
        "prelim_room_dict = {}\n",
        "for i in room_assignments:\n",
        "    key = i[1] + str(i[2])\n",
        "    value = i[0]\n",
        "    prelim_room_dict[key] = value"
      ],
      "metadata": {
        "id": "yqDIBPxpAXbJ"
      },
      "execution_count": 23,
      "outputs": []
    },
    {
      "cell_type": "markdown",
      "source": [
        "full schedule grid creation"
      ],
      "metadata": {
        "id": "rAozDnfXAiC6"
      }
    },
    {
      "cell_type": "code",
      "source": [
        "full_schedule_grid = []\n",
        "\n",
        "# perform this process for each prelim group, add to full_schedule_grid\n",
        "for group_name in prelim_group_names:\n",
        "    schedule_grid = (standard_schedule(group_name,\n",
        "                                       prelim_teamcode_dict,\n",
        "                                       prelim_room_dict))\n",
        "    full_schedule_grid.append(schedule_grid)"
      ],
      "metadata": {
        "id": "9Q-DolBuAaJZ"
      },
      "execution_count": 24,
      "outputs": []
    },
    {
      "cell_type": "markdown",
      "source": [
        "To make sure the full_schedule_grid was populated correctly, we'll print it out line by line."
      ],
      "metadata": {
        "id": "2yJI1x6PBUjr"
      }
    },
    {
      "cell_type": "code",
      "source": [
        "# for visual debugging\n",
        "for index, prelim_group in enumerate(prelim_group_names):\n",
        "    print(f'\\nPrelim Group: {prelim_group}')\n",
        "    print(*full_schedule_grid[index], sep='\\n')"
      ],
      "metadata": {
        "id": "Ozt12wMnBT2A",
        "collapsed": true
      },
      "execution_count": null,
      "outputs": []
    },
    {
      "cell_type": "markdown",
      "source": [
        "# Class Definitions for fpdf2"
      ],
      "metadata": {
        "id": "A5Qp8Ae2cA7Z"
      }
    },
    {
      "cell_type": "markdown",
      "source": [
        "There are five types of tables that Cornerstone will need to generate:\n",
        "*  the full schedule\n",
        "*  the individualized team schedule\n",
        "*  the individualized room schedule\n",
        "*  the team index (includes toggle for prelims/playoffs/superplayoffs)\n",
        "*  the playoff quickstart schedule (first playoff room for all teams)\n",
        "\n",
        "The last one will not be needed for the prelim writer, but will be necessary for playoffs (and superplayoffs if needed).\n",
        "\n",
        "For all of these tables, we will create a unique class via fpdf2 for writing the table onto a PDF. These five classes are at the bottom of this section. First, we will define a few templates used across the printed documents:\n",
        "\n",
        "*  the title page\n",
        "*  the header\n",
        "*  the footer\n"
      ],
      "metadata": {
        "id": "6_mFRVFAcFY9"
      }
    },
    {
      "cell_type": "markdown",
      "source": [
        "First is the title page to start each document. A nice touch, albeit not 100% necessary and may add a toggle for this later.\n",
        "\n",
        "Important: this is the first instance of the PDF class. Therefore, the argument is FPDF, while all other later class instances have PDF instead to build on the existing class."
      ],
      "metadata": {
        "id": "580yHo0SklgX"
      }
    },
    {
      "cell_type": "code",
      "source": [
        "class PDF(FPDF):\n",
        "\n",
        "    def title_page(self, tournament_name, tournament_location, tournament_date,\n",
        "                   document_title):\n",
        "                \n",
        "        # Setting font: bold times 11, black\n",
        "        self.set_text_color(0)\n",
        "\n",
        "        # move cursor 6.2 cm down the page\n",
        "        self.set_y(62)\n",
        "\n",
        "        # write the tournament name, location, and date\n",
        "        self.set_font(\"times\", size=16)\n",
        "        self.cell(0, None, tournament_name, align=\"C\",\n",
        "                  new_x=\"LEFT\", new_y=\"NEXT\")\n",
        "        self.ln(10)  # line break\n",
        "\n",
        "        self.set_font(\"times\", size=12)\n",
        "        self.cell(0, None, tournament_location, align=\"C\")\n",
        "        self.ln(10)  # line break\n",
        "        self.cell(0, None, tournament_date, align=\"C\")\n",
        "        self.ln(45)  # line break\n",
        "\n",
        "        self.set_font(\"times\", size=24)\n",
        "        self.cell(0, None, document_title, align=\"C\")"
      ],
      "metadata": {
        "id": "N2BgXfyLkzy7"
      },
      "execution_count": 28,
      "outputs": []
    },
    {
      "cell_type": "code",
      "source": [
        "class PDF(PDF):\n",
        "\n",
        "    def page_header(self, tournament_name, tournament_date):\n",
        "                \n",
        "        # Setting font: bold times 11\n",
        "        font_size = 11\n",
        "        self.set_font(\"times\", style=\"I\", size=font_size)\n",
        "\n",
        "        # Print tournament name in upper left:\n",
        "        self.cell(None, 2, tournament_name, new_x=\"LEFT\")\n",
        "\n",
        "        # Create empty cell with bottom border (can modify for centered text)\n",
        "        self.cell(0, None, \" \", \"B\", align=\"C\")\n",
        "\n",
        "        # Print tournament date in upper right\n",
        "        self.cell(0, 2, tournament_date, align=\"R\")\n",
        "\n",
        "        # Performing a line break:\n",
        "        self.ln(20)\n",
        "\n",
        "    def page_footer(self):\n",
        "        \n",
        "        # # putting in a logo:\n",
        "        # self.image(\"../docs/fpdf2-logo.png\", 10, 8, 33)\n",
        "        \n",
        "        # Position cursor at left and 26.04 cm from bottom:\n",
        "        # self.set_y(0, 260.4)\n",
        "        self.set_y(-27)\n",
        "\n",
        "        # Setting font: times italic 11\n",
        "        font_size = 11\n",
        "        self.set_text_color(0)\n",
        "        self.set_font(\"times\", style=\"I\", size=font_size)\n",
        "        \n",
        "        # Print footer text:\n",
        "        self.cell(0, 6, \"Created by Cornerstone\", border=\"B\", align=\"R\")\n"
      ],
      "metadata": {
        "id": "m_slBLE2dOK0"
      },
      "execution_count": 29,
      "outputs": []
    },
    {
      "cell_type": "markdown",
      "source": [
        "## Prelims - Complete Schedule"
      ],
      "metadata": {
        "id": "T3jjXFPX1gTK"
      }
    },
    {
      "cell_type": "code",
      "source": [
        "# full schedule\n",
        "\n",
        "class PDF(PDF):\n",
        "\n",
        "    def full_schedule(self, header, rows,\n",
        "                      header_color=(135, 135, 135), row_color=(210, 210, 210)):\n",
        "      \n",
        "      header_count = len(header)\n",
        "      if header[-1] == 'BYE':\n",
        "        cell_count = header_count * 2 - 2\n",
        "      else:\n",
        "        cell_count = header_count * 2 - 1\n",
        "      col_width = pdf.epw / cell_count  # distribute columns evenly\n",
        "\n",
        "      header_widths = [col_width * 2] * (header_count - 2)  # populate list with col widths\n",
        "      header_widths.insert(0, col_width)\n",
        "      header_widths.append(col_width)\n",
        "\n",
        "      cell_widths = [col_width] * cell_count\n",
        "\n",
        "      self.set_fill_color(*header_color)  # * required to unpack tuple\n",
        "      self.set_text_color(255)\n",
        "      self.set_draw_color(36, 36, 36)\n",
        "      self.set_line_width(0.3)\n",
        "      self.set_font(style=\"B\")\n",
        "      for col_width, heading in zip(header_widths, header):\n",
        "          self.cell(col_width, 7, heading, border=1, align=\"C\", fill=True)\n",
        "      self.ln()\n",
        "\n",
        "      # Color and font restoration:\n",
        "      self.set_fill_color(*row_color)  # * required to unpack tuple\n",
        "      self.set_text_color(0)\n",
        "      self.set_font()\n",
        "      fill = False\n",
        "      for row in rows:\n",
        "        for index, item in enumerate(row):          \n",
        "          if index == 0:\n",
        "            self.set_font(style=\"B\")\n",
        "          else:\n",
        "            self.set_font()\n",
        "          self.cell(cell_widths[index],\n",
        "                    7,\n",
        "                    item,\n",
        "                    border=\"LR\",\n",
        "                    align=\"C\",\n",
        "                    fill=fill)\n",
        "        self.ln()\n",
        "        fill = not fill\n",
        "        # self.cell(sum(col_widths), 0, \"\", \"T\")  # this was in the original but broke things so it's commented out for now\n",
        "\n",
        "      self.set_fill_color(*header_color)  # * required to unpack tuple\n",
        "      self.set_text_color(255)\n",
        "      self.set_draw_color(36, 36, 36)\n",
        "      self.set_line_width(0.3)\n",
        "      self.set_font(style=\"B\")\n",
        "      for col_width, heading in zip(header_widths, header):\n",
        "          self.cell(col_width, 7, heading, border=1, align=\"C\", fill=True)\n",
        "\n",
        "      self.ln(14)"
      ],
      "metadata": {
        "id": "2sXgrSqj4QQz"
      },
      "execution_count": 30,
      "outputs": []
    },
    {
      "cell_type": "markdown",
      "source": [
        "## Prelims - Individual Team Schedule"
      ],
      "metadata": {
        "id": "eezzJwYi1msx"
      }
    },
    {
      "cell_type": "code",
      "source": [
        "# team schedules\n",
        "\n",
        "class PDF(PDF):\n",
        "\n",
        "    def team_schedule(self, header, rows,\n",
        "                      header_color=(135, 135, 135), row_color=(210, 210, 210)):\n",
        "      \n",
        "      # start table at 15.45, draw cells 33 + 66 + 66 for each column\n",
        "      # right margin will also be 15.45\n",
        "\n",
        "      self.set_x(25.45)\n",
        "      cell_widths = [33, 66, 66]\n",
        "\n",
        "      self.set_fill_color(*header_color)  # * required to unpack tuple\n",
        "      self.set_text_color(255)\n",
        "      self.set_draw_color(36, 36, 36)\n",
        "      self.set_line_width(0.3)\n",
        "      self.set_font(style=\"B\")\n",
        "      for cell_width, heading in zip(cell_widths, header):\n",
        "          self.cell(cell_width, 8, heading, border=1, align=\"C\", fill=True)\n",
        "      self.ln()\n",
        "      self.set_x(25.45)\n",
        "\n",
        "      # Color and font restoration:\n",
        "      self.set_fill_color(*row_color)  # * required to unpack tuple\n",
        "      self.set_text_color(0)\n",
        "      self.set_font()\n",
        "      fill = False\n",
        "      for row in rows:\n",
        "        for index, item in enumerate(row):          \n",
        "          if index == 0:\n",
        "            self.set_font(style=\"B\")\n",
        "          else:\n",
        "            self.set_font()\n",
        "          self.cell(cell_widths[index],\n",
        "                    8,\n",
        "                    item,\n",
        "                    border=\"LR\",\n",
        "                    align=\"C\",\n",
        "                    fill=fill)\n",
        "        fill = not fill  # I am pretty sure this is what alternates row colors!\n",
        "\n",
        "        self.ln()\n",
        "        self.set_x(25.45)\n",
        "\n",
        "      self.set_fill_color(*header_color)  # * required to unpack tuple\n",
        "      self.set_text_color(255)\n",
        "      self.set_draw_color(36, 36, 36)\n",
        "      self.set_line_width(0.3)\n",
        "      self.set_font(style=\"B\")\n",
        "      for cell_width, heading in zip(cell_widths, header):\n",
        "          self.cell(cell_width, 8, heading, border=1, align=\"C\", fill=True)\n",
        "\n",
        "      self.ln(14)"
      ],
      "metadata": {
        "id": "nJM6QIB9Auu2"
      },
      "execution_count": 31,
      "outputs": []
    },
    {
      "cell_type": "markdown",
      "source": [
        "# Prelim PDF Writer"
      ],
      "metadata": {
        "id": "-G75IfqqdJTn"
      }
    },
    {
      "cell_type": "markdown",
      "source": [
        "First to generate: full prelim schedule for all teams, all rooms."
      ],
      "metadata": {
        "id": "dpuJ3YH8Px9l"
      }
    },
    {
      "cell_type": "code",
      "source": [
        "pdf = PDF(format=\"letter\")  # default is A4, need to specify US letter\n",
        "\n",
        "# title page\n",
        "pdf.add_page()\n",
        "\n",
        "pdf.title_page(format_dict['tournament name'],\n",
        "               format_dict['tournament location'],\n",
        "               format_dict['tournament date'],\n",
        "               \"Prelims - Complete Schedule\")\n",
        "\n",
        "# full schedule page\n",
        "pdf.add_page()\n",
        "\n",
        "pdf.page_header(format_dict['tournament name'],\n",
        "                format_dict['tournament date'])\n",
        "\n",
        "for index, grid in enumerate(full_schedule_grid):\n",
        "  \n",
        "  header = grid[0]\n",
        "  schedule = grid[1:]\n",
        "  pdf.full_schedule(header, schedule)\n",
        "\n",
        "pdf.page_footer()\n",
        "\n",
        "pdf.output(\"full_prelim_schedule.pdf\")\n",
        "pdf_bytes = pdf.output()\n",
        "full_prelim_schedule = b64encode(pdf_bytes).decode(\"utf-8\")"
      ],
      "metadata": {
        "id": "wqJPg3lP4pq8"
      },
      "execution_count": 32,
      "outputs": []
    },
    {
      "cell_type": "code",
      "source": [
        "# Diplay a download button:\n",
        "display(HTML(f'<a style=\"font-size: 30px\" download=\"full_prelim_schedule.pdf\" href=\"data:application/pdf;base64,{full_prelim_schedule}\">Click to download PDF of full schedule.</a>'))"
      ],
      "metadata": {
        "colab": {
          "base_uri": "https://localhost:8080/",
          "height": 54
        },
        "id": "EfFoOvgwS1Ir",
        "outputId": "b1b1848b-4f33-4a5e-9063-c5d048d12778",
        "collapsed": true
      },
      "execution_count": 33,
      "outputs": [
        {
          "output_type": "display_data",
          "data": {
            "text/plain": [
              "<IPython.core.display.HTML object>"
            ],
            "text/html": [
              "<a style=\"font-size: 30px\" download=\"full_prelim_schedule.pdf\" href=\"data:application/pdf;base64,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\">Click to download PDF of full schedule.</a>"
            ]
          },
          "metadata": {}
        }
      ]
    },
    {
      "cell_type": "markdown",
      "source": [
        "Next, we'll generate the individualized team schedules."
      ],
      "metadata": {
        "id": "Xpwa3vsEQC4E"
      }
    },
    {
      "cell_type": "code",
      "source": [
        "pdf = PDF(format=\"letter\")  # default is A4, need to specify US letter\n",
        "\n",
        "# title page\n",
        "pdf.add_page()\n",
        "\n",
        "pdf.title_page(format_dict['tournament name'],\n",
        "               format_dict['tournament location'],\n",
        "               format_dict['tournament date'],\n",
        "               \"Prelims - Individual Team Schedules\")\n",
        "\n",
        "# full schedule page\n",
        "\n",
        "# sort list of teams alphabetically, so documents easier to distribute\n",
        "list_of_teams = sorted(list_of_teams, key=lambda x: (x[0]))\n",
        "\n",
        "for team in list_of_teams:\n",
        "\n",
        "  # iterate through schedule grids. Is the team in that grid?\n",
        "  for index, schedule_grid in enumerate(full_schedule_grid):\n",
        "\n",
        "    team_name = team[0]  # full team name \n",
        "    team_code = team_code_dict[team_name]  # 3-letter team code\n",
        "    team_list = get_team_list(schedule_grid)  # list of teams in grid\n",
        "\n",
        "    if team_code in team_list:\n",
        "      group = team[1]  # prelim group name\n",
        "      room_list = get_room_list(schedule_grid)\n",
        "      basic_schedule_grid = clean_up_grid(schedule_grid)\n",
        "      \n",
        "      # create page and add header\n",
        "      pdf.add_page()\n",
        "      pdf.page_header(format_dict['tournament name'],\n",
        "                      format_dict['tournament date'])\n",
        "      \n",
        "      # add team name, a line break, and prelim group name\n",
        "      pdf.set_font(\"times\", size=24)\n",
        "      pdf.cell(w=0, h=None, txt=team_name,\n",
        "                align=\"C\", new_x=\"LEFT\", new_y=\"NEXT\")\n",
        "      \n",
        "      pdf.ln(5)\n",
        "\n",
        "      pdf.set_font(\"times\", size=17)\n",
        "      pdf.cell(w=0, h=None, txt=f'Prelim Group - {group}',\n",
        "                align=\"C\", new_x=\"LEFT\", new_y=\"NEXT\")\n",
        "  \n",
        "\n",
        "      pdf.ln(15)\n",
        "\n",
        "      grid = specific_team_scheduler(team_code,\n",
        "                                     basic_schedule_grid,\n",
        "                                     room_list,\n",
        "                                     code_team_dict)\n",
        "\n",
        "      header = grid[0]\n",
        "      schedule = grid[1:]\n",
        "      pdf.team_schedule(header, schedule)\n",
        "\n",
        "      if text_toggle is True:\n",
        "        pdf.set_x(25.45)\n",
        "        font_size = 14\n",
        "        pdf.set_font(\"times\", size=font_size)\n",
        "        pdf.set_text_color(0)\n",
        "        pdf.multi_cell(165, 6, texts[0], new_x=\"LMARGIN\")\n",
        "\n",
        "      pdf.page_footer()\n",
        "\n",
        "      if qr_toggle is True:\n",
        "          qr_codes_1 = qr_codes[0:3]\n",
        "          qr_captions_1 = qr_captions[0:3]\n",
        "\n",
        "          qr_positions = [35, 93, 151]\n",
        "          for index, qr_code in enumerate(qr_codes_1):\n",
        "            img = qrcode.make(qr_code)\n",
        "            x_pos = qr_positions[index]\n",
        "            pdf.image(img.get_image(), x=x_pos, y=210, w=30, h=30)\n",
        "\n",
        "          for index, qr_caption in enumerate(qr_captions_1):\n",
        "            x_pos = qr_positions[index] - 5\n",
        "            pdf.set_xy(x_pos, 241)\n",
        "            pdf.cell(w=40, h=None, txt=qr_caption,\n",
        "                     align=\"C\")\n",
        "\n",
        "      break\n",
        "\n",
        "pdf.output(\"prelim_individual_team_schedules.pdf\")\n",
        "pdf_bytes = pdf.output()\n",
        "prelim_individual_team_schedules = b64encode(pdf_bytes).decode(\"utf-8\")"
      ],
      "metadata": {
        "id": "k_zGqv3NQDPU"
      },
      "execution_count": 34,
      "outputs": []
    },
    {
      "cell_type": "code",
      "source": [
        "# Diplay a download button:\n",
        "display(HTML(f'<a style=\"font-size: 30px\" download=\"prelim_individual_team_schedules.pdf\" href=\"data:application/pdf;base64,{prelim_individual_team_schedules}\">Click to download PDF of individual team schedules.</a>'))"
      ],
      "metadata": {
        "colab": {
          "base_uri": "https://localhost:8080/",
          "height": 54
        },
        "collapsed": true,
        "id": "EsFqwdMJQDam",
        "outputId": "2bbc3da5-ae04-4f0a-8212-82f0bdfdd217"
      },
      "execution_count": 35,
      "outputs": [
        {
          "output_type": "display_data",
          "data": {
            "text/plain": [
              "<IPython.core.display.HTML object>"
            ],
            "text/html": [
              "<a style=\"font-size: 30px\" download=\"prelim_individual_team_schedules.pdf\" href=\"data:application/pdf;base64,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\">Click to download PDF of individual team schedules.</a>"
            ]
          },
          "metadata": {}
        }
      ]
    },
    {
      "cell_type": "code",
      "source": [
        "stop here"
      ],
      "metadata": {
        "colab": {
          "base_uri": "https://localhost:8080/",
          "height": 131
        },
        "collapsed": true,
        "id": "VNcIYjguqvFB",
        "outputId": "6e4914ac-7502-4deb-c4f3-43478084eb01"
      },
      "execution_count": 36,
      "outputs": [
        {
          "output_type": "error",
          "ename": "SyntaxError",
          "evalue": "ignored",
          "traceback": [
            "\u001b[0;36m  File \u001b[0;32m\"<ipython-input-36-a96ba3aab008>\"\u001b[0;36m, line \u001b[0;32m1\u001b[0m\n\u001b[0;31m    stop here\u001b[0m\n\u001b[0m         ^\u001b[0m\n\u001b[0;31mSyntaxError\u001b[0m\u001b[0;31m:\u001b[0m invalid syntax\n"
          ]
        }
      ]
    },
    {
      "cell_type": "markdown",
      "source": [
        " Prelim Analysis"
      ],
      "metadata": {
        "id": "iKG1VUXVdJTn"
      }
    },
    {
      "cell_type": "markdown",
      "source": [
        "# Playoff Scheduler"
      ],
      "metadata": {
        "id": "_YfbhDePdJTn"
      }
    },
    {
      "cell_type": "markdown",
      "source": [
        "# Playoff PDF Writer"
      ],
      "metadata": {
        "id": "eexAPF__dJTn"
      }
    },
    {
      "cell_type": "markdown",
      "source": [
        "# Superplayoff Scheduler"
      ],
      "metadata": {
        "id": "Qb5McvXKdPxF"
      }
    },
    {
      "cell_type": "markdown",
      "source": [
        "# Superplayoff PDF Writer "
      ],
      "metadata": {
        "id": "--DoUNDedPuN"
      }
    },
    {
      "cell_type": "markdown",
      "source": [
        "# NSC Scheduler"
      ],
      "metadata": {
        "id": "b3l5IrdtdrTf"
      }
    },
    {
      "cell_type": "markdown",
      "source": [
        "# *** Workspace below this point ***"
      ],
      "metadata": {
        "id": "qagHkeo1VeeJ"
      }
    },
    {
      "cell_type": "markdown",
      "source": [
        "\n",
        "\n",
        "---\n",
        "\n"
      ],
      "metadata": {
        "id": "_k8_duRuVhG4"
      }
    },
    {
      "cell_type": "markdown",
      "source": [
        "# Importing csv files from Github\n",
        "This will be useful later when grabbing templates for the scheduling functions.\n",
        "\n",
        "For more info on loading external files into Colabs, see [this article](https://towardsdatascience.com/7-ways-to-load-external-data-into-google-colab-7ba73e7d5fc7)."
      ],
      "metadata": {
        "id": "rLwWCJ3lixKD"
      }
    },
    {
      "cell_type": "code",
      "source": [
        "filename = 'templates/rr_schedules/rr_10.xlsx'\n",
        "\n",
        "df = pd.read_csv('https://raw.githubusercontent.com/victorprieto2265/cornerstone/main/archive/brackets.csv')\n",
        "\n",
        "# get_all_values gives a list of rows.\n",
        "print(df)"
      ],
      "metadata": {
        "id": "-Wd7s6KAj9it"
      },
      "execution_count": null,
      "outputs": []
    },
    {
      "cell_type": "markdown",
      "source": [
        "What about uploading excel files? Will that work?"
      ],
      "metadata": {
        "id": "8iW6m7Oz0w52"
      }
    },
    {
      "cell_type": "code",
      "source": [
        "url = \"https://github.com/victorprieto2265/cornerstone/blob/main/templates/rr_schedules/rr_templates.xlsx?raw=true\"\n",
        "db=pd.read_excel(url, sheet_name=None)\n",
        "\n",
        "print(type(db))\n",
        "print(db.keys())"
      ],
      "metadata": {
        "id": "Kd83cUbR00zf"
      },
      "execution_count": null,
      "outputs": []
    },
    {
      "cell_type": "markdown",
      "source": [
        "# Compiling latex files (incomplete)"
      ],
      "metadata": {
        "id": "UCnmv2_eVvjP"
      }
    },
    {
      "cell_type": "markdown",
      "source": [
        "Load a sample Latex file from my github repo. In this case, it's team index, which does not have any QR codes."
      ],
      "metadata": {
        "id": "tXq_OSEUWkBH"
      }
    },
    {
      "cell_type": "code",
      "source": [
        "import base64\n",
        "import requests\n",
        "\n",
        "url = 'https://raw.githubusercontent.com/victorprieto2265/cornerstone/main/output/prelim_team_index.tex'\n",
        "\n",
        "req = requests.get(url)\n",
        "req = req.text"
      ],
      "metadata": {
        "id": "6LUaIVrQV-nW"
      },
      "execution_count": null,
      "outputs": []
    },
    {
      "cell_type": "code",
      "source": [
        "from pdflatex import PDFLaTeX\n",
        "from google.colab import drive\n",
        "drive.mount('/content/drive')"
      ],
      "metadata": {
        "id": "sEhER_lVX-Pg"
      },
      "execution_count": null,
      "outputs": []
    },
    {
      "cell_type": "code",
      "source": [
        "filename = 'prelim_team_index.tex'\n",
        "with open(f'/content/drive/My Drive/{filename}', 'w') as f:\n",
        "  f.write(req)\n",
        "!cat /content/drive/My\\ Drive/prelim_team_index.tex"
      ],
      "metadata": {
        "id": "AnU54_nSbHHa"
      },
      "execution_count": null,
      "outputs": []
    },
    {
      "cell_type": "code",
      "source": [
        "!sudo apt install cm-super dvipng texlive-latex-extra texlive-latex-recommended"
      ],
      "metadata": {
        "id": "Nv7ztIeVbVxV"
      },
      "execution_count": null,
      "outputs": []
    },
    {
      "cell_type": "code",
      "source": [
        "!pip install pdflatex\n",
        "from pdflatex import PDFLaTeX\n",
        "pdfl = PDFLaTeX.from_texfile(req)\n",
        "pdf, log, completed_process = pdfl.create_pdf(keep_pdf_file=True, keep_log_file=False)\n"
      ],
      "metadata": {
        "id": "8F3Yx_Tca_2V"
      },
      "execution_count": null,
      "outputs": []
    },
    {
      "cell_type": "code",
      "source": [
        "# drive.flush_and_unmount()"
      ],
      "metadata": {
        "id": "M32Sg87hcZDZ"
      },
      "execution_count": null,
      "outputs": []
    }
  ]
}