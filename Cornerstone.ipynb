{
  "nbformat": 4,
  "nbformat_minor": 0,
  "metadata": {
    "colab": {
      "provenance": [],
      "toc_visible": true,
      "authorship_tag": "ABX9TyOde90QwlnmJ8Ii3VX7kQrl",
      "include_colab_link": true
    },
    "kernelspec": {
      "name": "python3",
      "display_name": "Python 3"
    },
    "language_info": {
      "name": "python"
    }
  },
  "cells": [
    {
      "cell_type": "markdown",
      "metadata": {
        "id": "view-in-github",
        "colab_type": "text"
      },
      "source": [
        "<a href=\"https://colab.research.google.com/github/victorprieto2265/cornerstone/blob/cornerstone/Cornerstone.ipynb\" target=\"_parent\"><img src=\"https://colab.research.google.com/assets/colab-badge.svg\" alt=\"Open In Colab\"/></a>"
      ]
    },
    {
      "cell_type": "markdown",
      "source": [
        "# TODO\n",
        "\n"
      ],
      "metadata": {
        "id": "IwJ6m76Ee1va"
      }
    },
    {
      "cell_type": "markdown",
      "source": [
        "import a csv file from Github DONE\n",
        "\n"
      ],
      "metadata": {
        "id": "QEwWOlwXfE0H"
      }
    },
    {
      "cell_type": "markdown",
      "source": [
        "# Import modules / libraries"
      ],
      "metadata": {
        "id": "LxPWT_oriuCh"
      }
    },
    {
      "cell_type": "code",
      "source": [
        "!pip install pdflatex\n",
        "!pip install pylatex"
      ],
      "metadata": {
        "colab": {
          "base_uri": "https://localhost:8080/"
        },
        "id": "MMiMnYoeuJT0",
        "outputId": "17429089-a11b-4968-ad06-0bb86cb6647c"
      },
      "execution_count": 4,
      "outputs": [
        {
          "output_type": "stream",
          "name": "stdout",
          "text": [
            "Looking in indexes: https://pypi.org/simple, https://us-python.pkg.dev/colab-wheels/public/simple/\n",
            "Collecting pdflatex\n",
            "  Downloading pdflatex-0.1.3-py3-none-any.whl (8.3 kB)\n",
            "Collecting attrs<19.0,>=18.2\n",
            "  Downloading attrs-18.2.0-py2.py3-none-any.whl (34 kB)\n",
            "Installing collected packages: attrs, pdflatex\n",
            "  Attempting uninstall: attrs\n",
            "    Found existing installation: attrs 22.2.0\n",
            "    Uninstalling attrs-22.2.0:\n",
            "      Successfully uninstalled attrs-22.2.0\n",
            "Successfully installed attrs-18.2.0 pdflatex-0.1.3\n",
            "Looking in indexes: https://pypi.org/simple, https://us-python.pkg.dev/colab-wheels/public/simple/\n",
            "Collecting pylatex\n",
            "  Downloading PyLaTeX-1.4.1.tar.gz (84 kB)\n",
            "\u001b[2K     \u001b[90m━━━━━━━━━━━━━━━━━━━━━━━━━━━━━━━━━━━━━━━━\u001b[0m \u001b[32m85.0/85.0 KB\u001b[0m \u001b[31m3.6 MB/s\u001b[0m eta \u001b[36m0:00:00\u001b[0m\n",
            "\u001b[?25h  Preparing metadata (setup.py) ... \u001b[?25l\u001b[?25hdone\n",
            "Collecting ordered-set\n",
            "  Downloading ordered_set-4.1.0-py3-none-any.whl (7.6 kB)\n",
            "Building wheels for collected packages: pylatex\n",
            "  Building wheel for pylatex (setup.py) ... \u001b[?25l\u001b[?25hdone\n",
            "  Created wheel for pylatex: filename=PyLaTeX-1.4.1-py3-none-any.whl size=42815 sha256=c21510a31d8795f5d5711b40c2b9ccab146cf86c05f91fbcecd3edb9e20d2540\n",
            "  Stored in directory: /root/.cache/pip/wheels/11/33/be/8b396510c8b5aaf308d22248f7cb1cf90fef1039583f7a7e15\n",
            "Successfully built pylatex\n",
            "Installing collected packages: ordered-set, pylatex\n",
            "Successfully installed ordered-set-4.1.0 pylatex-1.4.1\n"
          ]
        }
      ]
    },
    {
      "cell_type": "code",
      "source": [
        "!pip install folium==0.2.1\n",
        "!pip install pdflatex\n",
        "!sudo apt-get install texlive-latex-recommended \n",
        "!sudo apt install texlive-latex-extra\n",
        "!sudo apt install dvipng"
      ],
      "metadata": {
        "id": "gx7WWt2ld2CI",
        "colab": {
          "base_uri": "https://localhost:8080/"
        },
        "outputId": "f97b334e-2175-455c-a865-a8e2545d4538"
      },
      "execution_count": 5,
      "outputs": [
        {
          "output_type": "stream",
          "name": "stdout",
          "text": [
            "Looking in indexes: https://pypi.org/simple, https://us-python.pkg.dev/colab-wheels/public/simple/\n",
            "Collecting folium==0.2.1\n",
            "  Downloading folium-0.2.1.tar.gz (69 kB)\n",
            "\u001b[2K     \u001b[90m━━━━━━━━━━━━━━━━━━━━━━━━━━━━━━━━━━━━━━━━\u001b[0m \u001b[32m70.0/70.0 KB\u001b[0m \u001b[31m3.0 MB/s\u001b[0m eta \u001b[36m0:00:00\u001b[0m\n",
            "\u001b[?25h  Preparing metadata (setup.py) ... \u001b[?25l\u001b[?25hdone\n",
            "Requirement already satisfied: Jinja2 in /usr/local/lib/python3.8/dist-packages (from folium==0.2.1) (2.11.3)\n",
            "Requirement already satisfied: MarkupSafe>=0.23 in /usr/local/lib/python3.8/dist-packages (from Jinja2->folium==0.2.1) (2.0.1)\n",
            "Building wheels for collected packages: folium\n",
            "  Building wheel for folium (setup.py) ... \u001b[?25l\u001b[?25hdone\n",
            "  Created wheel for folium: filename=folium-0.2.1-py3-none-any.whl size=79813 sha256=1b9a9ed4fa572e72c0d54da6c13ed02267a28b1342599b460b04a1d12cbf4766\n",
            "  Stored in directory: /root/.cache/pip/wheels/24/be/74/8b4e42555090b2aad019a42e9d354060820e2fffb8c48e44a7\n",
            "Successfully built folium\n",
            "Installing collected packages: folium\n",
            "  Attempting uninstall: folium\n",
            "    Found existing installation: folium 0.12.1.post1\n",
            "    Uninstalling folium-0.12.1.post1:\n",
            "      Successfully uninstalled folium-0.12.1.post1\n",
            "\u001b[31mERROR: pip's dependency resolver does not currently take into account all the packages that are installed. This behaviour is the source of the following dependency conflicts.\n",
            "datascience 0.17.5 requires folium>=0.9.1, but you have folium 0.2.1 which is incompatible.\u001b[0m\u001b[31m\n",
            "\u001b[0mSuccessfully installed folium-0.2.1\n",
            "Looking in indexes: https://pypi.org/simple, https://us-python.pkg.dev/colab-wheels/public/simple/\n",
            "Requirement already satisfied: pdflatex in /usr/local/lib/python3.8/dist-packages (0.1.3)\n",
            "Requirement already satisfied: attrs<19.0,>=18.2 in /usr/local/lib/python3.8/dist-packages (from pdflatex) (18.2.0)\n",
            "Reading package lists... Done\n",
            "Building dependency tree       \n",
            "Reading state information... Done\n",
            "The following package was automatically installed and is no longer required:\n",
            "  libnvidia-common-510\n",
            "Use 'sudo apt autoremove' to remove it.\n",
            "The following additional packages will be installed:\n",
            "  dvisvgm fonts-droid-fallback fonts-lmodern fonts-noto-mono fonts-urw-base35\n",
            "  libgs9 libgs9-common libidn11 libijs-0.35 libjbig2dec0 libkpathsea6\n",
            "  libptexenc1 libsynctex2 libteckit0 libtexlua53 libtexluajit2 libzzip-0-13\n",
            "  lmodern poppler-data t1utils tex-common texlive-base texlive-binaries\n",
            "  texlive-latex-base xfonts-encodings xfonts-utils\n",
            "Suggested packages:\n",
            "  fonts-noto fonts-freefont-otf | fonts-freefont-ttf fonts-texgyre\n",
            "  poppler-utils ghostscript fonts-japanese-mincho | fonts-ipafont-mincho\n",
            "  fonts-japanese-gothic | fonts-ipafont-gothic fonts-arphic-ukai\n",
            "  fonts-arphic-uming fonts-nanum debhelper gv | postscript-viewer perl-tk xpdf\n",
            "  | pdf-viewer xzdec texlive-latex-base-doc texlive-latex-recommended-doc\n",
            "  texlive-luatex texlive-pstricks\n",
            "The following NEW packages will be installed:\n",
            "  dvisvgm fonts-droid-fallback fonts-lmodern fonts-noto-mono fonts-urw-base35\n",
            "  libgs9 libgs9-common libidn11 libijs-0.35 libjbig2dec0 libkpathsea6\n",
            "  libptexenc1 libsynctex2 libteckit0 libtexlua53 libtexluajit2 libzzip-0-13\n",
            "  lmodern poppler-data t1utils tex-common texlive-base texlive-binaries\n",
            "  texlive-latex-base texlive-latex-recommended xfonts-encodings xfonts-utils\n",
            "0 upgraded, 27 newly installed, 0 to remove and 27 not upgraded.\n",
            "Need to get 74.9 MB of archives.\n",
            "After this operation, 260 MB of additional disk space will be used.\n",
            "Get:1 http://archive.ubuntu.com/ubuntu focal/main amd64 fonts-droid-fallback all 1:6.0.1r16-1.1 [1,805 kB]\n",
            "Get:2 http://archive.ubuntu.com/ubuntu focal/main amd64 poppler-data all 0.4.9-2 [1,475 kB]\n",
            "Get:3 http://archive.ubuntu.com/ubuntu focal/universe amd64 tex-common all 6.13 [32.7 kB]\n",
            "Get:4 http://archive.ubuntu.com/ubuntu focal/main amd64 fonts-urw-base35 all 20170801.1-3 [6,333 kB]\n",
            "Get:5 http://archive.ubuntu.com/ubuntu focal-updates/main amd64 libgs9-common all 9.50~dfsg-5ubuntu4.6 [681 kB]\n",
            "Get:6 http://archive.ubuntu.com/ubuntu focal/main amd64 libidn11 amd64 1.33-2.2ubuntu2 [46.2 kB]\n",
            "Get:7 http://archive.ubuntu.com/ubuntu focal/main amd64 libijs-0.35 amd64 0.35-15 [15.7 kB]\n",
            "Get:8 http://archive.ubuntu.com/ubuntu focal/main amd64 libjbig2dec0 amd64 0.18-1ubuntu1 [60.0 kB]\n",
            "Get:9 http://archive.ubuntu.com/ubuntu focal-updates/main amd64 libgs9 amd64 9.50~dfsg-5ubuntu4.6 [2,173 kB]\n",
            "Get:10 http://archive.ubuntu.com/ubuntu focal/main amd64 libkpathsea6 amd64 2019.20190605.51237-3build2 [57.0 kB]\n",
            "Get:11 http://archive.ubuntu.com/ubuntu focal/universe amd64 dvisvgm amd64 2.8.1-1build1 [1,048 kB]\n",
            "Get:12 http://archive.ubuntu.com/ubuntu focal/universe amd64 fonts-lmodern all 2.004.5-6 [4,532 kB]\n",
            "Get:13 http://archive.ubuntu.com/ubuntu focal-updates/main amd64 fonts-noto-mono all 20200323-1build1~ubuntu20.04.1 [80.6 kB]\n",
            "Get:14 http://archive.ubuntu.com/ubuntu focal/main amd64 libptexenc1 amd64 2019.20190605.51237-3build2 [35.5 kB]\n",
            "Get:15 http://archive.ubuntu.com/ubuntu focal/main amd64 libsynctex2 amd64 2019.20190605.51237-3build2 [55.0 kB]\n",
            "Get:16 http://archive.ubuntu.com/ubuntu focal/universe amd64 libteckit0 amd64 2.5.8+ds2-5ubuntu2 [320 kB]\n",
            "Get:17 http://archive.ubuntu.com/ubuntu focal/main amd64 libtexlua53 amd64 2019.20190605.51237-3build2 [105 kB]\n",
            "Get:18 http://archive.ubuntu.com/ubuntu focal/main amd64 libtexluajit2 amd64 2019.20190605.51237-3build2 [235 kB]\n",
            "Get:19 http://archive.ubuntu.com/ubuntu focal/universe amd64 libzzip-0-13 amd64 0.13.62-3.2ubuntu1 [26.2 kB]\n",
            "Get:20 http://archive.ubuntu.com/ubuntu focal/main amd64 xfonts-encodings all 1:1.0.5-0ubuntu1 [573 kB]\n",
            "Get:21 http://archive.ubuntu.com/ubuntu focal/main amd64 xfonts-utils amd64 1:7.7+6 [91.5 kB]\n",
            "Get:22 http://archive.ubuntu.com/ubuntu focal/universe amd64 lmodern all 2.004.5-6 [9,474 kB]\n",
            "Get:23 http://archive.ubuntu.com/ubuntu focal/main amd64 t1utils amd64 1.41-3 [56.1 kB]\n",
            "Get:24 http://archive.ubuntu.com/ubuntu focal/universe amd64 texlive-binaries amd64 2019.20190605.51237-3build2 [8,041 kB]\n",
            "Get:25 http://archive.ubuntu.com/ubuntu focal/universe amd64 texlive-base all 2019.20200218-1 [20.8 MB]\n",
            "Get:26 http://archive.ubuntu.com/ubuntu focal/universe amd64 texlive-latex-base all 2019.20200218-1 [990 kB]\n",
            "Get:27 http://archive.ubuntu.com/ubuntu focal/universe amd64 texlive-latex-recommended all 2019.20200218-1 [15.7 MB]\n",
            "Fetched 74.9 MB in 1s (57.4 MB/s)\n",
            "debconf: unable to initialize frontend: Dialog\n",
            "debconf: (No usable dialog-like program is installed, so the dialog based frontend cannot be used. at /usr/share/perl5/Debconf/FrontEnd/Dialog.pm line 76, <> line 27.)\n",
            "debconf: falling back to frontend: Readline\n",
            "debconf: unable to initialize frontend: Readline\n",
            "debconf: (This frontend requires a controlling tty.)\n",
            "debconf: falling back to frontend: Teletype\n",
            "dpkg-preconfigure: unable to re-open stdin: \n",
            "Selecting previously unselected package fonts-droid-fallback.\n",
            "(Reading database ... 129496 files and directories currently installed.)\n",
            "Preparing to unpack .../00-fonts-droid-fallback_1%3a6.0.1r16-1.1_all.deb ...\n",
            "Unpacking fonts-droid-fallback (1:6.0.1r16-1.1) ...\n",
            "Selecting previously unselected package poppler-data.\n",
            "Preparing to unpack .../01-poppler-data_0.4.9-2_all.deb ...\n",
            "Unpacking poppler-data (0.4.9-2) ...\n",
            "Selecting previously unselected package tex-common.\n",
            "Preparing to unpack .../02-tex-common_6.13_all.deb ...\n",
            "Unpacking tex-common (6.13) ...\n",
            "Selecting previously unselected package fonts-urw-base35.\n",
            "Preparing to unpack .../03-fonts-urw-base35_20170801.1-3_all.deb ...\n",
            "Unpacking fonts-urw-base35 (20170801.1-3) ...\n",
            "Selecting previously unselected package libgs9-common.\n",
            "Preparing to unpack .../04-libgs9-common_9.50~dfsg-5ubuntu4.6_all.deb ...\n",
            "Unpacking libgs9-common (9.50~dfsg-5ubuntu4.6) ...\n",
            "Selecting previously unselected package libidn11:amd64.\n",
            "Preparing to unpack .../05-libidn11_1.33-2.2ubuntu2_amd64.deb ...\n",
            "Unpacking libidn11:amd64 (1.33-2.2ubuntu2) ...\n",
            "Selecting previously unselected package libijs-0.35:amd64.\n",
            "Preparing to unpack .../06-libijs-0.35_0.35-15_amd64.deb ...\n",
            "Unpacking libijs-0.35:amd64 (0.35-15) ...\n",
            "Selecting previously unselected package libjbig2dec0:amd64.\n",
            "Preparing to unpack .../07-libjbig2dec0_0.18-1ubuntu1_amd64.deb ...\n",
            "Unpacking libjbig2dec0:amd64 (0.18-1ubuntu1) ...\n",
            "Selecting previously unselected package libgs9:amd64.\n",
            "Preparing to unpack .../08-libgs9_9.50~dfsg-5ubuntu4.6_amd64.deb ...\n",
            "Unpacking libgs9:amd64 (9.50~dfsg-5ubuntu4.6) ...\n",
            "Selecting previously unselected package libkpathsea6:amd64.\n",
            "Preparing to unpack .../09-libkpathsea6_2019.20190605.51237-3build2_amd64.deb ...\n",
            "Unpacking libkpathsea6:amd64 (2019.20190605.51237-3build2) ...\n",
            "Selecting previously unselected package dvisvgm.\n",
            "Preparing to unpack .../10-dvisvgm_2.8.1-1build1_amd64.deb ...\n",
            "Unpacking dvisvgm (2.8.1-1build1) ...\n",
            "Selecting previously unselected package fonts-lmodern.\n",
            "Preparing to unpack .../11-fonts-lmodern_2.004.5-6_all.deb ...\n",
            "Unpacking fonts-lmodern (2.004.5-6) ...\n",
            "Selecting previously unselected package fonts-noto-mono.\n",
            "Preparing to unpack .../12-fonts-noto-mono_20200323-1build1~ubuntu20.04.1_all.deb ...\n",
            "Unpacking fonts-noto-mono (20200323-1build1~ubuntu20.04.1) ...\n",
            "Selecting previously unselected package libptexenc1:amd64.\n",
            "Preparing to unpack .../13-libptexenc1_2019.20190605.51237-3build2_amd64.deb ...\n",
            "Unpacking libptexenc1:amd64 (2019.20190605.51237-3build2) ...\n",
            "Selecting previously unselected package libsynctex2:amd64.\n",
            "Preparing to unpack .../14-libsynctex2_2019.20190605.51237-3build2_amd64.deb ...\n",
            "Unpacking libsynctex2:amd64 (2019.20190605.51237-3build2) ...\n",
            "Selecting previously unselected package libteckit0:amd64.\n",
            "Preparing to unpack .../15-libteckit0_2.5.8+ds2-5ubuntu2_amd64.deb ...\n",
            "Unpacking libteckit0:amd64 (2.5.8+ds2-5ubuntu2) ...\n",
            "Selecting previously unselected package libtexlua53:amd64.\n",
            "Preparing to unpack .../16-libtexlua53_2019.20190605.51237-3build2_amd64.deb ...\n",
            "Unpacking libtexlua53:amd64 (2019.20190605.51237-3build2) ...\n",
            "Selecting previously unselected package libtexluajit2:amd64.\n",
            "Preparing to unpack .../17-libtexluajit2_2019.20190605.51237-3build2_amd64.deb ...\n",
            "Unpacking libtexluajit2:amd64 (2019.20190605.51237-3build2) ...\n",
            "Selecting previously unselected package libzzip-0-13:amd64.\n",
            "Preparing to unpack .../18-libzzip-0-13_0.13.62-3.2ubuntu1_amd64.deb ...\n",
            "Unpacking libzzip-0-13:amd64 (0.13.62-3.2ubuntu1) ...\n",
            "Selecting previously unselected package xfonts-encodings.\n",
            "Preparing to unpack .../19-xfonts-encodings_1%3a1.0.5-0ubuntu1_all.deb ...\n",
            "Unpacking xfonts-encodings (1:1.0.5-0ubuntu1) ...\n",
            "Selecting previously unselected package xfonts-utils.\n",
            "Preparing to unpack .../20-xfonts-utils_1%3a7.7+6_amd64.deb ...\n",
            "Unpacking xfonts-utils (1:7.7+6) ...\n",
            "Selecting previously unselected package lmodern.\n",
            "Preparing to unpack .../21-lmodern_2.004.5-6_all.deb ...\n",
            "Unpacking lmodern (2.004.5-6) ...\n",
            "Selecting previously unselected package t1utils.\n",
            "Preparing to unpack .../22-t1utils_1.41-3_amd64.deb ...\n",
            "Unpacking t1utils (1.41-3) ...\n",
            "Selecting previously unselected package texlive-binaries.\n",
            "Preparing to unpack .../23-texlive-binaries_2019.20190605.51237-3build2_amd64.deb ...\n",
            "Unpacking texlive-binaries (2019.20190605.51237-3build2) ...\n",
            "Selecting previously unselected package texlive-base.\n",
            "Preparing to unpack .../24-texlive-base_2019.20200218-1_all.deb ...\n",
            "Unpacking texlive-base (2019.20200218-1) ...\n",
            "Selecting previously unselected package texlive-latex-base.\n",
            "Preparing to unpack .../25-texlive-latex-base_2019.20200218-1_all.deb ...\n",
            "Unpacking texlive-latex-base (2019.20200218-1) ...\n",
            "Selecting previously unselected package texlive-latex-recommended.\n",
            "Preparing to unpack .../26-texlive-latex-recommended_2019.20200218-1_all.deb ...\n",
            "Unpacking texlive-latex-recommended (2019.20200218-1) ...\n",
            "Setting up fonts-noto-mono (20200323-1build1~ubuntu20.04.1) ...\n",
            "Setting up libtexlua53:amd64 (2019.20190605.51237-3build2) ...\n",
            "Setting up libijs-0.35:amd64 (0.35-15) ...\n",
            "Setting up libtexluajit2:amd64 (2019.20190605.51237-3build2) ...\n",
            "Setting up libzzip-0-13:amd64 (0.13.62-3.2ubuntu1) ...\n",
            "Setting up fonts-urw-base35 (20170801.1-3) ...\n",
            "Setting up poppler-data (0.4.9-2) ...\n",
            "Setting up tex-common (6.13) ...\n",
            "debconf: unable to initialize frontend: Dialog\n",
            "debconf: (No usable dialog-like program is installed, so the dialog based frontend cannot be used. at /usr/share/perl5/Debconf/FrontEnd/Dialog.pm line 76.)\n",
            "debconf: falling back to frontend: Readline\n",
            "update-language: texlive-base not installed and configured, doing nothing!\n",
            "Setting up libjbig2dec0:amd64 (0.18-1ubuntu1) ...\n",
            "Setting up libidn11:amd64 (1.33-2.2ubuntu2) ...\n",
            "Setting up libteckit0:amd64 (2.5.8+ds2-5ubuntu2) ...\n",
            "Setting up xfonts-encodings (1:1.0.5-0ubuntu1) ...\n",
            "Setting up t1utils (1.41-3) ...\n",
            "Setting up libkpathsea6:amd64 (2019.20190605.51237-3build2) ...\n",
            "Setting up fonts-lmodern (2.004.5-6) ...\n",
            "Setting up fonts-droid-fallback (1:6.0.1r16-1.1) ...\n",
            "Setting up libsynctex2:amd64 (2019.20190605.51237-3build2) ...\n",
            "Setting up libgs9-common (9.50~dfsg-5ubuntu4.6) ...\n",
            "Setting up libgs9:amd64 (9.50~dfsg-5ubuntu4.6) ...\n",
            "Setting up dvisvgm (2.8.1-1build1) ...\n",
            "Setting up xfonts-utils (1:7.7+6) ...\n",
            "Setting up libptexenc1:amd64 (2019.20190605.51237-3build2) ...\n",
            "Setting up texlive-binaries (2019.20190605.51237-3build2) ...\n",
            "update-alternatives: using /usr/bin/xdvi-xaw to provide /usr/bin/xdvi.bin (xdvi.bin) in auto mode\n",
            "update-alternatives: using /usr/bin/bibtex.original to provide /usr/bin/bibtex (bibtex) in auto mode\n",
            "Setting up lmodern (2.004.5-6) ...\n",
            "Setting up texlive-base (2019.20200218-1) ...\n",
            "mktexlsr: Updating /var/lib/texmf/ls-R-TEXLIVEDIST... \n",
            "mktexlsr: Updating /var/lib/texmf/ls-R-TEXMFMAIN... \n",
            "mktexlsr: Updating /var/lib/texmf/ls-R... \n",
            "mktexlsr: Done.\n",
            "tl-paper: setting paper size for dvips to a4: /var/lib/texmf/dvips/config/config-paper.ps\n",
            "tl-paper: setting paper size for dvipdfmx to a4: /var/lib/texmf/dvipdfmx/dvipdfmx-paper.cfg\n",
            "tl-paper: setting paper size for xdvi to a4: /var/lib/texmf/xdvi/XDvi-paper\n",
            "tl-paper: setting paper size for pdftex to a4: /var/lib/texmf/tex/generic/config/pdftexconfig.tex\n",
            "debconf: unable to initialize frontend: Dialog\n",
            "debconf: (No usable dialog-like program is installed, so the dialog based frontend cannot be used. at /usr/share/perl5/Debconf/FrontEnd/Dialog.pm line 76.)\n",
            "debconf: falling back to frontend: Readline\n",
            "Setting up texlive-latex-base (2019.20200218-1) ...\n",
            "Setting up texlive-latex-recommended (2019.20200218-1) ...\n",
            "Processing triggers for mime-support (3.64ubuntu1) ...\n",
            "Processing triggers for libc-bin (2.31-0ubuntu9.9) ...\n",
            "Processing triggers for man-db (2.9.1-1) ...\n",
            "Processing triggers for fontconfig (2.13.1-2ubuntu3) ...\n",
            "Processing triggers for tex-common (6.13) ...\n",
            "debconf: unable to initialize frontend: Dialog\n",
            "debconf: (No usable dialog-like program is installed, so the dialog based frontend cannot be used. at /usr/share/perl5/Debconf/FrontEnd/Dialog.pm line 76.)\n",
            "debconf: falling back to frontend: Readline\n",
            "Running updmap-sys. This may take some time... done.\n",
            "Running mktexlsr /var/lib/texmf ... done.\n",
            "Building format(s) --all.\n",
            "\tThis may take some time... done.\n",
            "Reading package lists... Done\n",
            "Building dependency tree       \n",
            "Reading state information... Done\n",
            "The following package was automatically installed and is no longer required:\n",
            "  libnvidia-common-510\n",
            "Use 'sudo apt autoremove' to remove it.\n",
            "The following additional packages will be installed:\n",
            "  fonts-lato fonts-texgyre javascript-common libapache-pom-java\n",
            "  libcommons-logging-java libcommons-parent-java libfontbox-java libjs-jquery\n",
            "  libpdfbox-java libruby2.7 preview-latex-style rake ruby ruby-minitest\n",
            "  ruby-net-telnet ruby-power-assert ruby-test-unit ruby-xmlrpc ruby2.7\n",
            "  rubygems-integration tex-gyre texlive-fonts-recommended texlive-pictures\n",
            "  texlive-plain-generic tipa\n",
            "Suggested packages:\n",
            "  apache2 | lighttpd | httpd libavalon-framework-java\n",
            "  libcommons-logging-java-doc libexcalibur-logkit-java liblog4j1.2-java ri\n",
            "  ruby-dev bundler texlive-fonts-recommended-doc python3-pygments icc-profiles\n",
            "  libfile-which-perl libspreadsheet-parseexcel-perl texlive-latex-extra-doc\n",
            "  dot2tex prerex ruby-tcltk | libtcltk-ruby texlive-pictures-doc vprerex\n",
            "The following NEW packages will be installed:\n",
            "  fonts-lato fonts-texgyre javascript-common libapache-pom-java\n",
            "  libcommons-logging-java libcommons-parent-java libfontbox-java libjs-jquery\n",
            "  libpdfbox-java libruby2.7 preview-latex-style rake ruby ruby-minitest\n",
            "  ruby-net-telnet ruby-power-assert ruby-test-unit ruby-xmlrpc ruby2.7\n",
            "  rubygems-integration tex-gyre texlive-fonts-recommended texlive-latex-extra\n",
            "  texlive-pictures texlive-plain-generic tipa\n",
            "0 upgraded, 26 newly installed, 0 to remove and 27 not upgraded.\n",
            "Need to get 78.5 MB of archives.\n",
            "After this operation, 245 MB of additional disk space will be used.\n",
            "Get:1 http://archive.ubuntu.com/ubuntu focal/main amd64 fonts-lato all 2.0-2 [2,698 kB]\n",
            "Get:2 http://archive.ubuntu.com/ubuntu focal/universe amd64 fonts-texgyre all 20180621-3 [10.2 MB]\n",
            "Get:3 http://archive.ubuntu.com/ubuntu focal/main amd64 javascript-common all 11 [6,066 B]\n",
            "Get:4 http://archive.ubuntu.com/ubuntu focal/universe amd64 libapache-pom-java all 18-1 [4,720 B]\n",
            "Get:5 http://archive.ubuntu.com/ubuntu focal/universe amd64 libcommons-parent-java all 43-1 [10.8 kB]\n",
            "Get:6 http://archive.ubuntu.com/ubuntu focal/universe amd64 libcommons-logging-java all 1.2-2 [60.3 kB]\n",
            "Get:7 http://archive.ubuntu.com/ubuntu focal/main amd64 libjs-jquery all 3.3.1~dfsg-3 [329 kB]\n",
            "Get:8 http://archive.ubuntu.com/ubuntu focal/main amd64 rubygems-integration all 1.16 [5,092 B]\n",
            "Get:9 http://archive.ubuntu.com/ubuntu focal-updates/main amd64 ruby2.7 amd64 2.7.0-5ubuntu1.7 [95.6 kB]\n",
            "Get:10 http://archive.ubuntu.com/ubuntu focal/main amd64 ruby amd64 1:2.7+1 [5,412 B]\n",
            "Get:11 http://archive.ubuntu.com/ubuntu focal/main amd64 rake all 13.0.1-4 [61.6 kB]\n",
            "Get:12 http://archive.ubuntu.com/ubuntu focal/main amd64 ruby-minitest all 5.13.0-1 [40.9 kB]\n",
            "Get:13 http://archive.ubuntu.com/ubuntu focal/main amd64 ruby-net-telnet all 0.1.1-2 [12.6 kB]\n",
            "Get:14 http://archive.ubuntu.com/ubuntu focal/main amd64 ruby-power-assert all 1.1.7-1 [11.4 kB]\n",
            "Get:15 http://archive.ubuntu.com/ubuntu focal/main amd64 ruby-test-unit all 3.3.5-1 [73.2 kB]\n",
            "Get:16 http://archive.ubuntu.com/ubuntu focal/main amd64 ruby-xmlrpc all 0.3.0-2 [23.8 kB]\n",
            "Get:17 http://archive.ubuntu.com/ubuntu focal-updates/main amd64 libruby2.7 amd64 2.7.0-5ubuntu1.7 [3,533 kB]\n",
            "Get:18 http://archive.ubuntu.com/ubuntu focal/universe amd64 preview-latex-style all 11.91-2ubuntu2 [184 kB]\n",
            "Get:19 http://archive.ubuntu.com/ubuntu focal/universe amd64 tex-gyre all 20180621-3 [6,209 kB]\n",
            "Get:20 http://archive.ubuntu.com/ubuntu focal/universe amd64 texlive-fonts-recommended all 2019.20200218-1 [4,972 kB]\n",
            "Get:21 http://archive.ubuntu.com/ubuntu focal/universe amd64 libfontbox-java all 1:1.8.16-2 [207 kB]\n",
            "Get:22 http://archive.ubuntu.com/ubuntu focal/universe amd64 libpdfbox-java all 1:1.8.16-2 [5,199 kB]\n",
            "Get:23 http://archive.ubuntu.com/ubuntu focal/universe amd64 texlive-pictures all 2019.20200218-1 [4,492 kB]\n",
            "Get:24 http://archive.ubuntu.com/ubuntu focal/universe amd64 texlive-latex-extra all 2019.202000218-1 [12.5 MB]\n",
            "Get:25 http://archive.ubuntu.com/ubuntu focal/universe amd64 texlive-plain-generic all 2019.202000218-1 [24.6 MB]\n",
            "Get:26 http://archive.ubuntu.com/ubuntu focal/universe amd64 tipa all 2:1.3-20 [2,978 kB]\n",
            "Fetched 78.5 MB in 4s (21.4 MB/s)\n",
            "debconf: unable to initialize frontend: Dialog\n",
            "debconf: (No usable dialog-like program is installed, so the dialog based frontend cannot be used. at /usr/share/perl5/Debconf/FrontEnd/Dialog.pm line 76, <> line 26.)\n",
            "debconf: falling back to frontend: Readline\n",
            "debconf: unable to initialize frontend: Readline\n",
            "debconf: (This frontend requires a controlling tty.)\n",
            "debconf: falling back to frontend: Teletype\n",
            "dpkg-preconfigure: unable to re-open stdin: \n",
            "Selecting previously unselected package fonts-lato.\n",
            "(Reading database ... 138676 files and directories currently installed.)\n",
            "Preparing to unpack .../00-fonts-lato_2.0-2_all.deb ...\n",
            "Unpacking fonts-lato (2.0-2) ...\n",
            "Selecting previously unselected package fonts-texgyre.\n",
            "Preparing to unpack .../01-fonts-texgyre_20180621-3_all.deb ...\n",
            "Unpacking fonts-texgyre (20180621-3) ...\n",
            "Selecting previously unselected package javascript-common.\n",
            "Preparing to unpack .../02-javascript-common_11_all.deb ...\n",
            "Unpacking javascript-common (11) ...\n",
            "Selecting previously unselected package libapache-pom-java.\n",
            "Preparing to unpack .../03-libapache-pom-java_18-1_all.deb ...\n",
            "Unpacking libapache-pom-java (18-1) ...\n",
            "Selecting previously unselected package libcommons-parent-java.\n",
            "Preparing to unpack .../04-libcommons-parent-java_43-1_all.deb ...\n",
            "Unpacking libcommons-parent-java (43-1) ...\n",
            "Selecting previously unselected package libcommons-logging-java.\n",
            "Preparing to unpack .../05-libcommons-logging-java_1.2-2_all.deb ...\n",
            "Unpacking libcommons-logging-java (1.2-2) ...\n",
            "Selecting previously unselected package libjs-jquery.\n",
            "Preparing to unpack .../06-libjs-jquery_3.3.1~dfsg-3_all.deb ...\n",
            "Unpacking libjs-jquery (3.3.1~dfsg-3) ...\n",
            "Selecting previously unselected package rubygems-integration.\n",
            "Preparing to unpack .../07-rubygems-integration_1.16_all.deb ...\n",
            "Unpacking rubygems-integration (1.16) ...\n",
            "Selecting previously unselected package ruby2.7.\n",
            "Preparing to unpack .../08-ruby2.7_2.7.0-5ubuntu1.7_amd64.deb ...\n",
            "Unpacking ruby2.7 (2.7.0-5ubuntu1.7) ...\n",
            "Selecting previously unselected package ruby.\n",
            "Preparing to unpack .../09-ruby_1%3a2.7+1_amd64.deb ...\n",
            "Unpacking ruby (1:2.7+1) ...\n",
            "Selecting previously unselected package rake.\n",
            "Preparing to unpack .../10-rake_13.0.1-4_all.deb ...\n",
            "Unpacking rake (13.0.1-4) ...\n",
            "Selecting previously unselected package ruby-minitest.\n",
            "Preparing to unpack .../11-ruby-minitest_5.13.0-1_all.deb ...\n",
            "Unpacking ruby-minitest (5.13.0-1) ...\n",
            "Selecting previously unselected package ruby-net-telnet.\n",
            "Preparing to unpack .../12-ruby-net-telnet_0.1.1-2_all.deb ...\n",
            "Unpacking ruby-net-telnet (0.1.1-2) ...\n",
            "Selecting previously unselected package ruby-power-assert.\n",
            "Preparing to unpack .../13-ruby-power-assert_1.1.7-1_all.deb ...\n",
            "Unpacking ruby-power-assert (1.1.7-1) ...\n",
            "Selecting previously unselected package ruby-test-unit.\n",
            "Preparing to unpack .../14-ruby-test-unit_3.3.5-1_all.deb ...\n",
            "Unpacking ruby-test-unit (3.3.5-1) ...\n",
            "Selecting previously unselected package ruby-xmlrpc.\n",
            "Preparing to unpack .../15-ruby-xmlrpc_0.3.0-2_all.deb ...\n",
            "Unpacking ruby-xmlrpc (0.3.0-2) ...\n",
            "Selecting previously unselected package libruby2.7:amd64.\n",
            "Preparing to unpack .../16-libruby2.7_2.7.0-5ubuntu1.7_amd64.deb ...\n",
            "Unpacking libruby2.7:amd64 (2.7.0-5ubuntu1.7) ...\n",
            "Selecting previously unselected package preview-latex-style.\n",
            "Preparing to unpack .../17-preview-latex-style_11.91-2ubuntu2_all.deb ...\n",
            "Unpacking preview-latex-style (11.91-2ubuntu2) ...\n",
            "Selecting previously unselected package tex-gyre.\n",
            "Preparing to unpack .../18-tex-gyre_20180621-3_all.deb ...\n",
            "Unpacking tex-gyre (20180621-3) ...\n",
            "Selecting previously unselected package texlive-fonts-recommended.\n",
            "Preparing to unpack .../19-texlive-fonts-recommended_2019.20200218-1_all.deb ...\n",
            "Unpacking texlive-fonts-recommended (2019.20200218-1) ...\n",
            "Selecting previously unselected package libfontbox-java.\n",
            "Preparing to unpack .../20-libfontbox-java_1%3a1.8.16-2_all.deb ...\n",
            "Unpacking libfontbox-java (1:1.8.16-2) ...\n",
            "Selecting previously unselected package libpdfbox-java.\n",
            "Preparing to unpack .../21-libpdfbox-java_1%3a1.8.16-2_all.deb ...\n",
            "Unpacking libpdfbox-java (1:1.8.16-2) ...\n",
            "Selecting previously unselected package texlive-pictures.\n",
            "Preparing to unpack .../22-texlive-pictures_2019.20200218-1_all.deb ...\n",
            "Unpacking texlive-pictures (2019.20200218-1) ...\n",
            "Selecting previously unselected package texlive-latex-extra.\n",
            "Preparing to unpack .../23-texlive-latex-extra_2019.202000218-1_all.deb ...\n",
            "Unpacking texlive-latex-extra (2019.202000218-1) ...\n",
            "Selecting previously unselected package texlive-plain-generic.\n",
            "Preparing to unpack .../24-texlive-plain-generic_2019.202000218-1_all.deb ...\n",
            "Unpacking texlive-plain-generic (2019.202000218-1) ...\n",
            "Selecting previously unselected package tipa.\n",
            "Preparing to unpack .../25-tipa_2%3a1.3-20_all.deb ...\n",
            "Unpacking tipa (2:1.3-20) ...\n",
            "Setting up javascript-common (11) ...\n",
            "Setting up fonts-lato (2.0-2) ...\n",
            "Setting up ruby-power-assert (1.1.7-1) ...\n",
            "Setting up preview-latex-style (11.91-2ubuntu2) ...\n",
            "Setting up libfontbox-java (1:1.8.16-2) ...\n",
            "Setting up texlive-plain-generic (2019.202000218-1) ...\n",
            "Setting up rubygems-integration (1.16) ...\n",
            "Setting up ruby-minitest (5.13.0-1) ...\n",
            "Setting up ruby-test-unit (3.3.5-1) ...\n",
            "Setting up libapache-pom-java (18-1) ...\n",
            "Setting up ruby-net-telnet (0.1.1-2) ...\n",
            "Setting up fonts-texgyre (20180621-3) ...\n",
            "Setting up texlive-pictures (2019.20200218-1) ...\n",
            "Setting up texlive-fonts-recommended (2019.20200218-1) ...\n",
            "Setting up tipa (2:1.3-20) ...\n",
            "Regenerating '/var/lib/texmf/fmtutil.cnf-DEBIAN'... done.\n",
            "Regenerating '/var/lib/texmf/fmtutil.cnf-TEXLIVEDIST'... done.\n",
            "update-fmtutil has updated the following file(s):\n",
            "\t/var/lib/texmf/fmtutil.cnf-DEBIAN\n",
            "\t/var/lib/texmf/fmtutil.cnf-TEXLIVEDIST\n",
            "If you want to activate the changes in the above file(s),\n",
            "you should run fmtutil-sys or fmtutil.\n",
            "Setting up libjs-jquery (3.3.1~dfsg-3) ...\n",
            "Setting up ruby-xmlrpc (0.3.0-2) ...\n",
            "Setting up tex-gyre (20180621-3) ...\n",
            "Setting up libpdfbox-java (1:1.8.16-2) ...\n",
            "Setting up libcommons-parent-java (43-1) ...\n",
            "Setting up libcommons-logging-java (1.2-2) ...\n",
            "Setting up texlive-latex-extra (2019.202000218-1) ...\n",
            "Setting up libruby2.7:amd64 (2.7.0-5ubuntu1.7) ...\n",
            "Setting up ruby2.7 (2.7.0-5ubuntu1.7) ...\n",
            "Setting up ruby (1:2.7+1) ...\n",
            "Setting up rake (13.0.1-4) ...\n",
            "Processing triggers for fontconfig (2.13.1-2ubuntu3) ...\n",
            "Processing triggers for libc-bin (2.31-0ubuntu9.9) ...\n",
            "Processing triggers for man-db (2.9.1-1) ...\n",
            "Processing triggers for tex-common (6.13) ...\n",
            "debconf: unable to initialize frontend: Dialog\n",
            "debconf: (No usable dialog-like program is installed, so the dialog based frontend cannot be used. at /usr/share/perl5/Debconf/FrontEnd/Dialog.pm line 76.)\n",
            "debconf: falling back to frontend: Readline\n",
            "Running mktexlsr. This may take some time... done.\n",
            "Running updmap-sys. This may take some time... done.\n",
            "Running mktexlsr /var/lib/texmf ... done.\n",
            "Building format(s) --all.\n",
            "\tThis may take some time... done.\n",
            "Reading package lists... Done\n",
            "Building dependency tree       \n",
            "Reading state information... Done\n",
            "The following package was automatically installed and is no longer required:\n",
            "  libnvidia-common-510\n",
            "Use 'sudo apt autoremove' to remove it.\n",
            "The following additional packages will be installed:\n",
            "  ghostscript\n",
            "Suggested packages:\n",
            "  ghostscript-x\n",
            "The following NEW packages will be installed:\n",
            "  dvipng ghostscript\n",
            "0 upgraded, 2 newly installed, 0 to remove and 27 not upgraded.\n",
            "Need to get 131 kB of archives.\n",
            "After this operation, 406 kB of additional disk space will be used.\n",
            "Get:1 http://archive.ubuntu.com/ubuntu focal-updates/main amd64 ghostscript amd64 9.50~dfsg-5ubuntu4.6 [51.8 kB]\n",
            "Get:2 http://archive.ubuntu.com/ubuntu focal/universe amd64 dvipng amd64 1.15-1.1 [78.9 kB]\n",
            "Fetched 131 kB in 0s (446 kB/s)\n",
            "debconf: unable to initialize frontend: Dialog\n",
            "debconf: (No usable dialog-like program is installed, so the dialog based frontend cannot be used. at /usr/share/perl5/Debconf/FrontEnd/Dialog.pm line 76, <> line 2.)\n",
            "debconf: falling back to frontend: Readline\n",
            "debconf: unable to initialize frontend: Readline\n",
            "debconf: (This frontend requires a controlling tty.)\n",
            "debconf: falling back to frontend: Teletype\n",
            "dpkg-preconfigure: unable to re-open stdin: \n",
            "Selecting previously unselected package ghostscript.\n",
            "(Reading database ... 159823 files and directories currently installed.)\n",
            "Preparing to unpack .../ghostscript_9.50~dfsg-5ubuntu4.6_amd64.deb ...\n",
            "Unpacking ghostscript (9.50~dfsg-5ubuntu4.6) ...\n",
            "Selecting previously unselected package dvipng.\n",
            "Preparing to unpack .../dvipng_1.15-1.1_amd64.deb ...\n",
            "Unpacking dvipng (1.15-1.1) ...\n",
            "Setting up ghostscript (9.50~dfsg-5ubuntu4.6) ...\n",
            "Setting up dvipng (1.15-1.1) ...\n",
            "Processing triggers for man-db (2.9.1-1) ...\n"
          ]
        }
      ]
    },
    {
      "cell_type": "code",
      "source": [
        "import time, sys\n",
        "import pandas as pd\n",
        "from pylatex import MultiColumn"
      ],
      "metadata": {
        "id": "pl18nTJ1uVlv"
      },
      "execution_count": 6,
      "outputs": []
    },
    {
      "cell_type": "markdown",
      "source": [
        "# Cornerstone Input"
      ],
      "metadata": {
        "id": "jaurrPCkdJTm"
      }
    },
    {
      "cell_type": "markdown",
      "source": [
        "# Function Definitions"
      ],
      "metadata": {
        "id": "owcZyEiJdJTm"
      }
    },
    {
      "cell_type": "markdown",
      "source": [
        "# Standard Scheduler Function\n",
        "\n",
        "Created on Mon Nov 22 2021\n",
        "\n",
        "Definition of functions used for creating a table for a round robin schedule,\n",
        "between 4 and 14 teams.\n",
        "\n",
        "TODO create new files for crossover templates other than B8\n",
        "TODO maybe write function (called pylatex_stringer) that does the following:\n",
        "1. pylatex writes to a .tex file\n",
        "2. python reads the .tex file as a string, then deletes the file\n",
        "\n",
        "TODO if possible, fix pylatex table lines and shading in this function"
      ],
      "metadata": {
        "id": "GEJoeZNfdPrN"
      }
    },
    {
      "cell_type": "code",
      "source": [
        "def standard_schedule(group_name, teamcode_dict, room_dict, roundstart=1,\n",
        "                      crossover=False, superplayoff=False):\n",
        "    \"\"\"\n",
        "\n",
        "\n",
        "    Parameters\n",
        "    ----------\n",
        "    groupname : string\n",
        "        String of the prelim group or playoff bracket name.\n",
        "        Example: Lilongwe\n",
        "    teamcode_dict : dict\n",
        "        k : v = a group/bracket code : teamcode corresponding to that code\n",
        "        example: Lilongwe4 = MBA\n",
        "    room_dict : dict\n",
        "        k : v = a group/bracket code : room corresponding to that code\n",
        "        example: Lilongwe2 = Suite 1132\n",
        "    roundstart : int, optional\n",
        "        Number for the first round in the schedule. The default is 1.\n",
        "\n",
        "    Returns\n",
        "    -------\n",
        "    schedule_grid : list\n",
        "        Latex-friendly table. First row = table header, remaining rows =\n",
        "        schedule for each round.\n",
        "\n",
        "    \"\"\"\n",
        "\n",
        "    # produce teamlist\n",
        "    teamlist = [k for k, v in list(teamcode_dict.items())\n",
        "                if k.startswith(group_name)]\n",
        "    sorted_list = sorted(teamlist)\n",
        "    teamlist = [teamcode_dict[i] for i in sorted_list]\n",
        "\n",
        "    # identify number of teams in teamlist and appropriate number of rooms\n",
        "    teamcount = len(teamlist)\n",
        "    roomcount = teamcount // 2\n",
        "\n",
        "    # identify correct rr_schedule and import template\n",
        "    rr_schedule = f\"./templates/rr_schedules/rr_{teamcount}\"\n",
        "\n",
        "    if crossover is not False:\n",
        "        rr_schedule = f\"./templates/rr_schedules/rr_crossover_{crossover}{teamcount}\"\n",
        "\n",
        "    try:\n",
        "        rr_schedule = pd.read_excel(f'{rr_schedule}.xlsx').values.tolist()\n",
        "    except FileNotFoundError:\n",
        "        print(f'*** WARNING ***\\nNo file found for \"{rr_schedule}\"... '\n",
        "              + 'Or, too many prelim groups or playoff brackets?')\n",
        "        sys.exit()\n",
        "\n",
        "    # produce roomlist\n",
        "    roomlist = [k for k, v in list(room_dict.items())\n",
        "                if k.startswith(group_name)]\n",
        "    roomlist = [room_dict[i] for i in sorted(roomlist)]\n",
        "\n",
        "    # produce header, including bye\n",
        "    rooms = []\n",
        "    header = ['']\n",
        "    for index in range(roomcount):\n",
        "        room = roomlist[index]\n",
        "        rooms.append(room)\n",
        "        header.append(MultiColumn(2, align='c|', data=room))\n",
        "\n",
        "    if teamcount % 2 == 1:\n",
        "        header.append('BYE')\n",
        "\n",
        "    # use rr_schedule template and roundstart to produce rest of schedule grid\n",
        "    schedule_grid = [header]\n",
        "    for round_num, row in enumerate(rr_schedule):\n",
        "        round_num += roundstart\n",
        "        new_row = [f'Round {round_num}']\n",
        "        for index in row:\n",
        "            code = group_name + str(index)\n",
        "            team = teamcode_dict[code]\n",
        "            new_row.append(team)\n",
        "        schedule_grid.append(new_row)\n",
        "\n",
        "    # for debugging\n",
        "    # print('\\n\\n***schedule grid***\\n\\n')\n",
        "    # print(*schedule_grid, sep='\\n')\n",
        "    # print('\\n\\n')\n",
        "\n",
        "    return schedule_grid"
      ],
      "metadata": {
        "id": "wlG8swh1trsX"
      },
      "execution_count": 7,
      "outputs": []
    },
    {
      "cell_type": "markdown",
      "source": [
        "## Individual Schedule Functions "
      ],
      "metadata": {
        "id": "5n9ob-8odPkM"
      }
    },
    {
      "cell_type": "markdown",
      "source": [
        "# Prelim Scheduler"
      ],
      "metadata": {
        "id": "K4OmpZngcsFP"
      }
    },
    {
      "cell_type": "markdown",
      "source": [
        "# Prelim Latex Writer"
      ],
      "metadata": {
        "id": "-G75IfqqdJTn"
      }
    },
    {
      "cell_type": "markdown",
      "source": [
        "# Prelim Analysis"
      ],
      "metadata": {
        "id": "iKG1VUXVdJTn"
      }
    },
    {
      "cell_type": "markdown",
      "source": [
        "# Playoff Scheduler"
      ],
      "metadata": {
        "id": "_YfbhDePdJTn"
      }
    },
    {
      "cell_type": "markdown",
      "source": [
        "# Playoff Latex Writer"
      ],
      "metadata": {
        "id": "eexAPF__dJTn"
      }
    },
    {
      "cell_type": "markdown",
      "source": [
        "# Superplayoff Scheduler"
      ],
      "metadata": {
        "id": "Qb5McvXKdPxF"
      }
    },
    {
      "cell_type": "markdown",
      "source": [
        "# Superplayoff Latex Writer "
      ],
      "metadata": {
        "id": "--DoUNDedPuN"
      }
    },
    {
      "cell_type": "markdown",
      "source": [
        "# NSC Scheduler"
      ],
      "metadata": {
        "id": "b3l5IrdtdrTf"
      }
    },
    {
      "cell_type": "markdown",
      "source": [
        "# Workspace below here"
      ],
      "metadata": {
        "id": "qagHkeo1VeeJ"
      }
    },
    {
      "cell_type": "markdown",
      "source": [
        "\n",
        "\n",
        "---\n",
        "\n"
      ],
      "metadata": {
        "id": "_k8_duRuVhG4"
      }
    },
    {
      "cell_type": "markdown",
      "source": [
        "# Importing csv files from Github\n",
        "This will be useful later when grabbing templates for the scheduling functions.\n",
        "\n",
        "For more info on loading external files into Colabs, see [this article](https://towardsdatascience.com/7-ways-to-load-external-data-into-google-colab-7ba73e7d5fc7)."
      ],
      "metadata": {
        "id": "rLwWCJ3lixKD"
      }
    },
    {
      "cell_type": "code",
      "source": [
        "filename = 'templates/rr_schedules/rr_10.xlsx'\n",
        "\n",
        "df = pd.read_csv('https://raw.githubusercontent.com/victorprieto2265/cornerstone/main/archive/brackets.csv')\n",
        "\n",
        "# get_all_values gives a list of rows.\n",
        "print(df)\n"
      ],
      "metadata": {
        "colab": {
          "base_uri": "https://localhost:8080/"
        },
        "id": "-Wd7s6KAj9it",
        "outputId": "9bf2f1f5-5352-4a55-c896-57c08f02f83a"
      },
      "execution_count": 8,
      "outputs": [
        {
          "output_type": "stream",
          "name": "stdout",
          "text": [
            "         Aruba          Azores\n",
            "0      Barbuda        Balearic\n",
            "1      Cozumel          Canary\n",
            "2     Dominica      Dodecanese\n",
            "3    Eleuthera        Elaphiti\n",
            "4     Flanagan       Falklands\n",
            "5      Grenada       Galapagos\n",
            "6   Hispaniola        Hebrides\n",
            "7      Jamaica  Juan Fernandez\n",
            "8     Key West           Kuril\n",
            "9         Long         Leeward\n",
            "10  Montserrat        Maldives\n",
            "11         NaN         Nicobar\n",
            "12         NaN          Orkney\n",
            "13         NaN         Pelagie\n",
            "14         NaN       Quirimbas\n"
          ]
        }
      ]
    },
    {
      "cell_type": "markdown",
      "source": [
        "# Compiling latex files"
      ],
      "metadata": {
        "id": "UCnmv2_eVvjP"
      }
    },
    {
      "cell_type": "markdown",
      "source": [
        "Load a sample Latex file from my github repo. In this case, it's team index, which does not have any QR codes."
      ],
      "metadata": {
        "id": "tXq_OSEUWkBH"
      }
    },
    {
      "cell_type": "code",
      "source": [
        "import base64\n",
        "import requests\n",
        "\n",
        "url = 'https://raw.githubusercontent.com/victorprieto2265/cornerstone/main/output/prelim_team_index.tex'\n",
        "\n",
        "req = requests.get(url)\n",
        "req = req.text"
      ],
      "metadata": {
        "id": "6LUaIVrQV-nW"
      },
      "execution_count": 9,
      "outputs": []
    },
    {
      "cell_type": "code",
      "source": [
        "from pdflatex import PDFLaTeX\n",
        "from google.colab import drive\n",
        "drive.mount('/content/drive')"
      ],
      "metadata": {
        "colab": {
          "base_uri": "https://localhost:8080/"
        },
        "id": "sEhER_lVX-Pg",
        "outputId": "e0c5d895-3a74-4724-fe4c-4bf286a917e1"
      },
      "execution_count": 10,
      "outputs": [
        {
          "output_type": "stream",
          "name": "stdout",
          "text": [
            "Mounted at /content/drive\n"
          ]
        }
      ]
    },
    {
      "cell_type": "code",
      "source": [
        "filename = 'prelim_team_index.tex'\n",
        "with open(f'/content/drive/My Drive/{filename}', 'w') as f:\n",
        "  f.write(req)\n",
        "!cat /content/drive/My\\ Drive/prelim_team_index.tex"
      ],
      "metadata": {
        "id": "AnU54_nSbHHa"
      },
      "execution_count": null,
      "outputs": []
    },
    {
      "cell_type": "code",
      "source": [
        "!sudo apt install cm-super dvipng texlive-latex-extra texlive-latex-recommended"
      ],
      "metadata": {
        "colab": {
          "base_uri": "https://localhost:8080/"
        },
        "id": "Nv7ztIeVbVxV",
        "outputId": "54d20dae-9c23-4b41-be6a-5cced0884bb6"
      },
      "execution_count": 13,
      "outputs": [
        {
          "output_type": "stream",
          "name": "stdout",
          "text": [
            "Reading package lists... Done\n",
            "Building dependency tree       \n",
            "Reading state information... Done\n",
            "dvipng is already the newest version (1.15-1.1).\n",
            "texlive-latex-extra is already the newest version (2019.202000218-1).\n",
            "texlive-latex-recommended is already the newest version (2019.20200218-1).\n",
            "The following package was automatically installed and is no longer required:\n",
            "  libnvidia-common-510\n",
            "Use 'sudo apt autoremove' to remove it.\n",
            "The following additional packages will be installed:\n",
            "  cm-super-minimal pfb2t1c2pfb\n",
            "The following NEW packages will be installed:\n",
            "  cm-super cm-super-minimal pfb2t1c2pfb\n",
            "0 upgraded, 3 newly installed, 0 to remove and 27 not upgraded.\n",
            "Need to get 24.5 MB of archives.\n",
            "After this operation, 59.9 MB of additional disk space will be used.\n",
            "Get:1 http://archive.ubuntu.com/ubuntu focal/universe amd64 cm-super-minimal all 0.3.4-15 [5,811 kB]\n",
            "Get:2 http://archive.ubuntu.com/ubuntu focal/universe amd64 pfb2t1c2pfb amd64 0.3-11 [9,342 B]\n",
            "Get:3 http://archive.ubuntu.com/ubuntu focal/universe amd64 cm-super all 0.3.4-15 [18.7 MB]\n",
            "Fetched 24.5 MB in 2s (13.8 MB/s)\n",
            "debconf: unable to initialize frontend: Dialog\n",
            "debconf: (No usable dialog-like program is installed, so the dialog based frontend cannot be used. at /usr/share/perl5/Debconf/FrontEnd/Dialog.pm line 76, <> line 3.)\n",
            "debconf: falling back to frontend: Readline\n",
            "debconf: unable to initialize frontend: Readline\n",
            "debconf: (This frontend requires a controlling tty.)\n",
            "debconf: falling back to frontend: Teletype\n",
            "dpkg-preconfigure: unable to re-open stdin: \n",
            "Selecting previously unselected package cm-super-minimal.\n",
            "(Reading database ... 159903 files and directories currently installed.)\n",
            "Preparing to unpack .../cm-super-minimal_0.3.4-15_all.deb ...\n",
            "Unpacking cm-super-minimal (0.3.4-15) ...\n",
            "Selecting previously unselected package pfb2t1c2pfb.\n",
            "Preparing to unpack .../pfb2t1c2pfb_0.3-11_amd64.deb ...\n",
            "Unpacking pfb2t1c2pfb (0.3-11) ...\n",
            "Selecting previously unselected package cm-super.\n",
            "Preparing to unpack .../cm-super_0.3.4-15_all.deb ...\n",
            "Unpacking cm-super (0.3.4-15) ...\n",
            "Setting up pfb2t1c2pfb (0.3-11) ...\n",
            "Setting up cm-super-minimal (0.3.4-15) ...\n",
            "Setting up cm-super (0.3.4-15) ...\n",
            "Creating fonts. This may take some time... done.\n",
            "Processing triggers for man-db (2.9.1-1) ...\n",
            "Processing triggers for tex-common (6.13) ...\n",
            "debconf: unable to initialize frontend: Dialog\n",
            "debconf: (No usable dialog-like program is installed, so the dialog based frontend cannot be used. at /usr/share/perl5/Debconf/FrontEnd/Dialog.pm line 76.)\n",
            "debconf: falling back to frontend: Readline\n",
            "Running mktexlsr. This may take some time... done.\n",
            "Running updmap-sys. This may take some time... done.\n",
            "Running mktexlsr /var/lib/texmf ... done.\n",
            "Processing triggers for fontconfig (2.13.1-2ubuntu3) ...\n"
          ]
        }
      ]
    },
    {
      "cell_type": "code",
      "source": [
        "pdfl = PDFLaTeX.from_texfile(f'/content/drive/My Drive/{filename}')\n",
        "pdf, log, completed_process = pdfl.create_pdf(keep_pdf_file=True, keep_log_file=False)\n"
      ],
      "metadata": {
        "colab": {
          "base_uri": "https://localhost:8080/",
          "height": 320
        },
        "id": "8F3Yx_Tca_2V",
        "outputId": "4b39b5c3-c4f3-4f4d-fe04-e5e737967738"
      },
      "execution_count": 16,
      "outputs": [
        {
          "output_type": "error",
          "ename": "FileNotFoundError",
          "evalue": "ignored",
          "traceback": [
            "\u001b[0;31m---------------------------------------------------------------------------\u001b[0m",
            "\u001b[0;31mFileNotFoundError\u001b[0m                         Traceback (most recent call last)",
            "\u001b[0;32m<ipython-input-16-266e328ec793>\u001b[0m in \u001b[0;36m<module>\u001b[0;34m\u001b[0m\n\u001b[1;32m      1\u001b[0m \u001b[0mpdfl\u001b[0m \u001b[0;34m=\u001b[0m \u001b[0mPDFLaTeX\u001b[0m\u001b[0;34m.\u001b[0m\u001b[0mfrom_texfile\u001b[0m\u001b[0;34m(\u001b[0m\u001b[0;34mf'/content/drive/My Drive/{filename}'\u001b[0m\u001b[0;34m)\u001b[0m\u001b[0;34m\u001b[0m\u001b[0;34m\u001b[0m\u001b[0m\n\u001b[0;32m----> 2\u001b[0;31m \u001b[0mpdf\u001b[0m\u001b[0;34m,\u001b[0m \u001b[0mlog\u001b[0m\u001b[0;34m,\u001b[0m \u001b[0mcompleted_process\u001b[0m \u001b[0;34m=\u001b[0m \u001b[0mpdfl\u001b[0m\u001b[0;34m.\u001b[0m\u001b[0mcreate_pdf\u001b[0m\u001b[0;34m(\u001b[0m\u001b[0mkeep_pdf_file\u001b[0m\u001b[0;34m=\u001b[0m\u001b[0;32mTrue\u001b[0m\u001b[0;34m,\u001b[0m \u001b[0mkeep_log_file\u001b[0m\u001b[0;34m=\u001b[0m\u001b[0;32mFalse\u001b[0m\u001b[0;34m)\u001b[0m\u001b[0;34m\u001b[0m\u001b[0;34m\u001b[0m\u001b[0m\n\u001b[0m",
            "\u001b[0;32m/usr/local/lib/python3.8/dist-packages/pdflatex/pdflatex.py\u001b[0m in \u001b[0;36mcreate_pdf\u001b[0;34m(self, keep_pdf_file, keep_log_file, env)\u001b[0m\n\u001b[1;32m     75\u001b[0m             \u001b[0margs\u001b[0m \u001b[0;34m=\u001b[0m \u001b[0mself\u001b[0m\u001b[0;34m.\u001b[0m\u001b[0mget_run_args\u001b[0m\u001b[0;34m(\u001b[0m\u001b[0;34m)\u001b[0m\u001b[0;34m\u001b[0m\u001b[0;34m\u001b[0m\u001b[0m\n\u001b[1;32m     76\u001b[0m             \u001b[0mfp\u001b[0m \u001b[0;34m=\u001b[0m \u001b[0msubprocess\u001b[0m\u001b[0;34m.\u001b[0m\u001b[0mrun\u001b[0m\u001b[0;34m(\u001b[0m\u001b[0margs\u001b[0m\u001b[0;34m,\u001b[0m \u001b[0minput\u001b[0m\u001b[0;34m=\u001b[0m\u001b[0mself\u001b[0m\u001b[0;34m.\u001b[0m\u001b[0mlatex\u001b[0m\u001b[0;34m,\u001b[0m \u001b[0menv\u001b[0m\u001b[0;34m=\u001b[0m\u001b[0menv\u001b[0m\u001b[0;34m,\u001b[0m \u001b[0mtimeout\u001b[0m\u001b[0;34m=\u001b[0m\u001b[0;36m15\u001b[0m\u001b[0;34m,\u001b[0m \u001b[0mstdout\u001b[0m\u001b[0;34m=\u001b[0m\u001b[0mPIPE\u001b[0m\u001b[0;34m,\u001b[0m \u001b[0mstderr\u001b[0m\u001b[0;34m=\u001b[0m\u001b[0mPIPE\u001b[0m\u001b[0;34m)\u001b[0m\u001b[0;34m\u001b[0m\u001b[0;34m\u001b[0m\u001b[0m\n\u001b[0;32m---> 77\u001b[0;31m             \u001b[0;32mwith\u001b[0m \u001b[0mopen\u001b[0m\u001b[0;34m(\u001b[0m\u001b[0mos\u001b[0m\u001b[0;34m.\u001b[0m\u001b[0mpath\u001b[0m\u001b[0;34m.\u001b[0m\u001b[0mjoin\u001b[0m\u001b[0;34m(\u001b[0m\u001b[0mtd\u001b[0m\u001b[0;34m,\u001b[0m \u001b[0;34m'file.pdf'\u001b[0m\u001b[0;34m)\u001b[0m\u001b[0;34m,\u001b[0m \u001b[0;34m'rb'\u001b[0m\u001b[0;34m)\u001b[0m \u001b[0;32mas\u001b[0m \u001b[0mf\u001b[0m\u001b[0;34m:\u001b[0m\u001b[0;34m\u001b[0m\u001b[0;34m\u001b[0m\u001b[0m\n\u001b[0m\u001b[1;32m     78\u001b[0m                 \u001b[0mself\u001b[0m\u001b[0;34m.\u001b[0m\u001b[0mpdf\u001b[0m \u001b[0;34m=\u001b[0m \u001b[0mf\u001b[0m\u001b[0;34m.\u001b[0m\u001b[0mread\u001b[0m\u001b[0;34m(\u001b[0m\u001b[0;34m)\u001b[0m\u001b[0;34m\u001b[0m\u001b[0;34m\u001b[0m\u001b[0m\n\u001b[1;32m     79\u001b[0m             \u001b[0;32mwith\u001b[0m \u001b[0mopen\u001b[0m\u001b[0;34m(\u001b[0m\u001b[0mos\u001b[0m\u001b[0;34m.\u001b[0m\u001b[0mpath\u001b[0m\u001b[0;34m.\u001b[0m\u001b[0mjoin\u001b[0m\u001b[0;34m(\u001b[0m\u001b[0mtd\u001b[0m\u001b[0;34m,\u001b[0m \u001b[0;34m'file.log'\u001b[0m\u001b[0;34m)\u001b[0m\u001b[0;34m,\u001b[0m \u001b[0;34m'rb'\u001b[0m\u001b[0;34m)\u001b[0m \u001b[0;32mas\u001b[0m \u001b[0mf\u001b[0m\u001b[0;34m:\u001b[0m\u001b[0;34m\u001b[0m\u001b[0;34m\u001b[0m\u001b[0m\n",
            "\u001b[0;31mFileNotFoundError\u001b[0m: [Errno 2] No such file or directory: '/tmp/tmpfqgtgc08/file.pdf'"
          ]
        }
      ]
    },
    {
      "cell_type": "code",
      "source": [
        "# drive.flush_and_unmount()"
      ],
      "metadata": {
        "id": "M32Sg87hcZDZ"
      },
      "execution_count": null,
      "outputs": []
    }
  ]
}