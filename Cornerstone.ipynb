{
  "nbformat": 4,
  "nbformat_minor": 0,
  "metadata": {
    "colab": {
      "provenance": [],
      "toc_visible": true,
      "collapsed_sections": [
        "LxPWT_oriuCh",
        "owcZyEiJdJTm",
        "5n9ob-8odPkM",
        "Lsvgg3XgLlT9",
        "ejmFTFC8LQVB",
        "iKG1VUXVdJTn",
        "Qb5McvXKdPxF",
        "qagHkeo1VeeJ",
        "rLwWCJ3lixKD"
      ],
      "authorship_tag": "ABX9TyMY9CNFsRwSyO3WTpuXsPib",
      "include_colab_link": true
    },
    "kernelspec": {
      "name": "python3",
      "display_name": "Python 3"
    },
    "language_info": {
      "name": "python"
    }
  },
  "cells": [
    {
      "cell_type": "markdown",
      "metadata": {
        "id": "view-in-github",
        "colab_type": "text"
      },
      "source": [
        "<a href=\"https://colab.research.google.com/github/victorprieto2265/cornerstone/blob/main/Cornerstone.ipynb\" target=\"_parent\"><img src=\"https://colab.research.google.com/assets/colab-badge.svg\" alt=\"Open In Colab\"/></a>"
      ]
    },
    {
      "cell_type": "markdown",
      "source": [
        "# TODO + RFE\n",
        "\n"
      ],
      "metadata": {
        "id": "IwJ6m76Ee1va"
      }
    },
    {
      "cell_type": "markdown",
      "source": [
        "TODO\n",
        "\n",
        "* Import computer modern typeface for use (consider open sans or interstate as an alternative).\n",
        "* Detect and split up tables that run over multiple pages (likely documents other than individual schedules for any 32+ team tournaments).\n",
        "* Qr_toggle keeps returning as false despite being updated differently in prelims_input, can't figure out the github new file issue!\n",
        "* Write new error check for duplicates and length limits. The old one is currently commented out.\n",
        "* There's an encoding problem for text: FPDF2 only accepts Latin-1, and I don't know enough around encoding except to tell users not to use anything outside Latin-1. Notably, an em dash and an ellipsis character will cause an encoding problem (the latter is what led me to identify this problem). This could affect all text inputs anywhere, not just individual text schedule inputs.\n",
        "* Finish the crossover templates in rr_templates.xlsx at some point. Right now crossovers are kind of a mess.\n",
        "\n",
        "RFE\n",
        "\n",
        "* Someone has pointed out 3-letter team codes are unnecessary for everything outside of the complete schedule. It's included in the team index, but not actually used in any documents other than the complete schedule. After Cornerstone has been in use for some time, re-evaluate the necessity of the 3-letter code, and correspondingly the complete schedule.\n",
        " * Cornerstone relies on 3-letter codes for a lot of functions. To avoid rewriting half the program, instead assign a unique short string to each team upon input - for instance, T1 through Tn would be fine.\n",
        "* In class definition for individual room schedules, add a row for score confirmation + signature.\n"
      ],
      "metadata": {
        "id": "QEwWOlwXfE0H"
      }
    },
    {
      "cell_type": "markdown",
      "source": [
        "\n",
        "# Import modules / libraries"
      ],
      "metadata": {
        "id": "LxPWT_oriuCh"
      }
    },
    {
      "cell_type": "code",
      "source": [
        "!pip install fpdf2\n",
        "!pip install qrcode\n",
        "\n",
        "import sys\n",
        "import pandas as pd\n",
        "import warnings\n",
        "warnings.simplefilter('default', DeprecationWarning)\n",
        "from fpdf import FPDF\n",
        "import fpdf\n",
        "from base64 import b64encode\n",
        "import IPython\n",
        "from IPython.display import display, HTML\n",
        "import qrcode"
      ],
      "metadata": {
        "id": "pl18nTJ1uVlv",
        "colab": {
          "base_uri": "https://localhost:8080/"
        },
        "outputId": "866cadb9-5f51-4a16-bf70-fa148e2b44f5"
      },
      "execution_count": 1,
      "outputs": [
        {
          "output_type": "stream",
          "name": "stdout",
          "text": [
            "Looking in indexes: https://pypi.org/simple, https://us-python.pkg.dev/colab-wheels/public/simple/\n",
            "Collecting fpdf2\n",
            "  Downloading fpdf2-2.6.1-py2.py3-none-any.whl (255 kB)\n",
            "\u001b[2K     \u001b[90m━━━━━━━━━━━━━━━━━━━━━━━━━━━━━━━━━━━━━━━\u001b[0m \u001b[32m255.6/255.6 KB\u001b[0m \u001b[31m4.8 MB/s\u001b[0m eta \u001b[36m0:00:00\u001b[0m\n",
            "\u001b[?25hCollecting fonttools>=4.34.0\n",
            "  Downloading fonttools-4.38.0-py3-none-any.whl (965 kB)\n",
            "\u001b[2K     \u001b[90m━━━━━━━━━━━━━━━━━━━━━━━━━━━━━━━━━━━━━━\u001b[0m \u001b[32m965.4/965.4 KB\u001b[0m \u001b[31m21.9 MB/s\u001b[0m eta \u001b[36m0:00:00\u001b[0m\n",
            "\u001b[?25hRequirement already satisfied: Pillow!=9.2.*,>=6.2.2 in /usr/local/lib/python3.8/dist-packages (from fpdf2) (7.1.2)\n",
            "Requirement already satisfied: defusedxml in /usr/local/lib/python3.8/dist-packages (from fpdf2) (0.7.1)\n",
            "Installing collected packages: fonttools, fpdf2\n",
            "Successfully installed fonttools-4.38.0 fpdf2-2.6.1\n",
            "Looking in indexes: https://pypi.org/simple, https://us-python.pkg.dev/colab-wheels/public/simple/\n",
            "Collecting qrcode\n",
            "  Downloading qrcode-7.4.2-py3-none-any.whl (46 kB)\n",
            "\u001b[2K     \u001b[90m━━━━━━━━━━━━━━━━━━━━━━━━━━━━━━━━━━━━━━━━\u001b[0m \u001b[32m46.2/46.2 KB\u001b[0m \u001b[31m2.2 MB/s\u001b[0m eta \u001b[36m0:00:00\u001b[0m\n",
            "\u001b[?25hRequirement already satisfied: typing-extensions in /usr/local/lib/python3.8/dist-packages (from qrcode) (4.4.0)\n",
            "Collecting pypng\n",
            "  Downloading pypng-0.20220715.0-py3-none-any.whl (58 kB)\n",
            "\u001b[2K     \u001b[90m━━━━━━━━━━━━━━━━━━━━━━━━━━━━━━━━━━━━━━━━\u001b[0m \u001b[32m58.1/58.1 KB\u001b[0m \u001b[31m3.4 MB/s\u001b[0m eta \u001b[36m0:00:00\u001b[0m\n",
            "\u001b[?25hInstalling collected packages: pypng, qrcode\n",
            "Successfully installed pypng-0.20220715.0 qrcode-7.4.2\n"
          ]
        }
      ]
    },
    {
      "cell_type": "markdown",
      "source": [
        "# Cornerstone Input\n",
        "\n",
        "This section imports all of the input files, except tournament format,\n",
        "which is handled by the tournament_format script.\n",
        "\n",
        "TODO uncomment sys.exit at end of this script for testing\n",
        "\n",
        "TODO figure out how to handle blank spaces and/or none in input file...\n",
        "There was an unusual error where integers were being converted to floats\n",
        "if one of the cells in a range was empty instead of string 'none'.\n",
        "\n",
        "TODO apparently bracket names (and presumably other things) are case-sensitive.\n",
        "\n",
        "TODO currently a global variable for checking for errors, which is a no no?\n"
      ],
      "metadata": {
        "id": "jaurrPCkdJTm"
      }
    },
    {
      "cell_type": "code",
      "source": [
        "error = 0\n",
        "\n",
        "# checks for duplicates and (optional) character limits\n",
        "def error_check(alist, listname, max_length=float('inf'), max_duplicates=1):\n",
        "    global error  # TODO this is apparently a no no, but works for now\n",
        "    print('\\n')\n",
        "    # duplicate checker\n",
        "    seen = {}\n",
        "    duplicates = []\n",
        "    for item in alist:\n",
        "        if item not in seen:\n",
        "            seen[item] = 1\n",
        "        else:\n",
        "            seen[item] += 1\n",
        "            if seen[item] > max_duplicates:\n",
        "                duplicates.append(' - ' + str(item))\n",
        "    if not duplicates:\n",
        "        if max_duplicates > 1:\n",
        "            print(f'No excess duplicates detected for {listname}.')\n",
        "        else:\n",
        "            print(f'No duplicates detected for {listname}.')\n",
        "    else:\n",
        "        # error = True\n",
        "        error += 1\n",
        "        print(f'\\nDuplicates detected for {listname}:')\n",
        "        print(*duplicates, sep='\\n')\n",
        "\n",
        "    # character length checker\n",
        "    long_items = [' - ' + item for item in alist if len(item) > max_length]\n",
        "    if not long_items:\n",
        "        print(f'No character lengths exceeded for {listname}.')\n",
        "    else:\n",
        "        error += 1\n",
        "        # error = True\n",
        "        print(f'Character lengths exceeded for {listname}:')\n",
        "        print(*long_items, sep='\\n')"
      ],
      "metadata": {
        "id": "Hd9MUoAjgvDO"
      },
      "execution_count": 98,
      "outputs": []
    },
    {
      "cell_type": "markdown",
      "source": [
        "Function definition: analyze sheet and generate list from pandas dataframe."
      ],
      "metadata": {
        "id": "_Jl-_l1RkTvk"
      }
    },
    {
      "cell_type": "code",
      "source": [
        "def analyze_input(sheet_name, df_dict):\n",
        "    df = df_dict[sheet_name]\n",
        "    temp_list = df.values.tolist()  # note: temp_list may be multiple lists!\n",
        "    return temp_list"
      ],
      "metadata": {
        "id": "fwaKQucMkRJT"
      },
      "execution_count": 99,
      "outputs": []
    },
    {
      "cell_type": "markdown",
      "source": [
        "---\n",
        "\n",
        "Upload the prelims_data excel spreadsheet from local computer, and create dictionary containing the sheet name and each dataframe.\n",
        "\n",
        "TODO For now, this is commented out. While testing Cornerstone as I'm porting over to Colab, I will be directly pulling the excel file from a dedicated location in github."
      ],
      "metadata": {
        "id": "QIwjrPCFjYas"
      }
    },
    {
      "cell_type": "code",
      "source": [
        "from google.colab import files\n",
        "file_upload = files.upload()\n",
        "file_upload = list(file_upload.keys())[0]\n",
        "\n",
        "sheet_names = ['tournament format', 'list of teams', 'team codes',\n",
        "                'group names', 'room assignments',\n",
        "                'QR codes', 'text input']\n",
        "df_dict_prelim = pd.read_excel(file_upload,\n",
        "                               sheet_name=sheet_names)"
      ],
      "metadata": {
        "id": "xysCWCW7g83a",
        "colab": {
          "base_uri": "https://localhost:8080/",
          "height": 90
        },
        "collapsed": true,
        "outputId": "7a84a8f2-de31-4e39-a876-a1cb019f61a3"
      },
      "execution_count": 126,
      "outputs": [
        {
          "output_type": "display_data",
          "data": {
            "text/plain": [
              "<IPython.core.display.HTML object>"
            ],
            "text/html": [
              "\n",
              "     <input type=\"file\" id=\"files-d91329fa-f14b-4f1d-8ab6-c96499456220\" name=\"files[]\" multiple disabled\n",
              "        style=\"border:none\" />\n",
              "     <output id=\"result-d91329fa-f14b-4f1d-8ab6-c96499456220\">\n",
              "      Upload widget is only available when the cell has been executed in the\n",
              "      current browser session. Please rerun this cell to enable.\n",
              "      </output>\n",
              "      <script>// Copyright 2017 Google LLC\n",
              "//\n",
              "// Licensed under the Apache License, Version 2.0 (the \"License\");\n",
              "// you may not use this file except in compliance with the License.\n",
              "// You may obtain a copy of the License at\n",
              "//\n",
              "//      http://www.apache.org/licenses/LICENSE-2.0\n",
              "//\n",
              "// Unless required by applicable law or agreed to in writing, software\n",
              "// distributed under the License is distributed on an \"AS IS\" BASIS,\n",
              "// WITHOUT WARRANTIES OR CONDITIONS OF ANY KIND, either express or implied.\n",
              "// See the License for the specific language governing permissions and\n",
              "// limitations under the License.\n",
              "\n",
              "/**\n",
              " * @fileoverview Helpers for google.colab Python module.\n",
              " */\n",
              "(function(scope) {\n",
              "function span(text, styleAttributes = {}) {\n",
              "  const element = document.createElement('span');\n",
              "  element.textContent = text;\n",
              "  for (const key of Object.keys(styleAttributes)) {\n",
              "    element.style[key] = styleAttributes[key];\n",
              "  }\n",
              "  return element;\n",
              "}\n",
              "\n",
              "// Max number of bytes which will be uploaded at a time.\n",
              "const MAX_PAYLOAD_SIZE = 100 * 1024;\n",
              "\n",
              "function _uploadFiles(inputId, outputId) {\n",
              "  const steps = uploadFilesStep(inputId, outputId);\n",
              "  const outputElement = document.getElementById(outputId);\n",
              "  // Cache steps on the outputElement to make it available for the next call\n",
              "  // to uploadFilesContinue from Python.\n",
              "  outputElement.steps = steps;\n",
              "\n",
              "  return _uploadFilesContinue(outputId);\n",
              "}\n",
              "\n",
              "// This is roughly an async generator (not supported in the browser yet),\n",
              "// where there are multiple asynchronous steps and the Python side is going\n",
              "// to poll for completion of each step.\n",
              "// This uses a Promise to block the python side on completion of each step,\n",
              "// then passes the result of the previous step as the input to the next step.\n",
              "function _uploadFilesContinue(outputId) {\n",
              "  const outputElement = document.getElementById(outputId);\n",
              "  const steps = outputElement.steps;\n",
              "\n",
              "  const next = steps.next(outputElement.lastPromiseValue);\n",
              "  return Promise.resolve(next.value.promise).then((value) => {\n",
              "    // Cache the last promise value to make it available to the next\n",
              "    // step of the generator.\n",
              "    outputElement.lastPromiseValue = value;\n",
              "    return next.value.response;\n",
              "  });\n",
              "}\n",
              "\n",
              "/**\n",
              " * Generator function which is called between each async step of the upload\n",
              " * process.\n",
              " * @param {string} inputId Element ID of the input file picker element.\n",
              " * @param {string} outputId Element ID of the output display.\n",
              " * @return {!Iterable<!Object>} Iterable of next steps.\n",
              " */\n",
              "function* uploadFilesStep(inputId, outputId) {\n",
              "  const inputElement = document.getElementById(inputId);\n",
              "  inputElement.disabled = false;\n",
              "\n",
              "  const outputElement = document.getElementById(outputId);\n",
              "  outputElement.innerHTML = '';\n",
              "\n",
              "  const pickedPromise = new Promise((resolve) => {\n",
              "    inputElement.addEventListener('change', (e) => {\n",
              "      resolve(e.target.files);\n",
              "    });\n",
              "  });\n",
              "\n",
              "  const cancel = document.createElement('button');\n",
              "  inputElement.parentElement.appendChild(cancel);\n",
              "  cancel.textContent = 'Cancel upload';\n",
              "  const cancelPromise = new Promise((resolve) => {\n",
              "    cancel.onclick = () => {\n",
              "      resolve(null);\n",
              "    };\n",
              "  });\n",
              "\n",
              "  // Wait for the user to pick the files.\n",
              "  const files = yield {\n",
              "    promise: Promise.race([pickedPromise, cancelPromise]),\n",
              "    response: {\n",
              "      action: 'starting',\n",
              "    }\n",
              "  };\n",
              "\n",
              "  cancel.remove();\n",
              "\n",
              "  // Disable the input element since further picks are not allowed.\n",
              "  inputElement.disabled = true;\n",
              "\n",
              "  if (!files) {\n",
              "    return {\n",
              "      response: {\n",
              "        action: 'complete',\n",
              "      }\n",
              "    };\n",
              "  }\n",
              "\n",
              "  for (const file of files) {\n",
              "    const li = document.createElement('li');\n",
              "    li.append(span(file.name, {fontWeight: 'bold'}));\n",
              "    li.append(span(\n",
              "        `(${file.type || 'n/a'}) - ${file.size} bytes, ` +\n",
              "        `last modified: ${\n",
              "            file.lastModifiedDate ? file.lastModifiedDate.toLocaleDateString() :\n",
              "                                    'n/a'} - `));\n",
              "    const percent = span('0% done');\n",
              "    li.appendChild(percent);\n",
              "\n",
              "    outputElement.appendChild(li);\n",
              "\n",
              "    const fileDataPromise = new Promise((resolve) => {\n",
              "      const reader = new FileReader();\n",
              "      reader.onload = (e) => {\n",
              "        resolve(e.target.result);\n",
              "      };\n",
              "      reader.readAsArrayBuffer(file);\n",
              "    });\n",
              "    // Wait for the data to be ready.\n",
              "    let fileData = yield {\n",
              "      promise: fileDataPromise,\n",
              "      response: {\n",
              "        action: 'continue',\n",
              "      }\n",
              "    };\n",
              "\n",
              "    // Use a chunked sending to avoid message size limits. See b/62115660.\n",
              "    let position = 0;\n",
              "    do {\n",
              "      const length = Math.min(fileData.byteLength - position, MAX_PAYLOAD_SIZE);\n",
              "      const chunk = new Uint8Array(fileData, position, length);\n",
              "      position += length;\n",
              "\n",
              "      const base64 = btoa(String.fromCharCode.apply(null, chunk));\n",
              "      yield {\n",
              "        response: {\n",
              "          action: 'append',\n",
              "          file: file.name,\n",
              "          data: base64,\n",
              "        },\n",
              "      };\n",
              "\n",
              "      let percentDone = fileData.byteLength === 0 ?\n",
              "          100 :\n",
              "          Math.round((position / fileData.byteLength) * 100);\n",
              "      percent.textContent = `${percentDone}% done`;\n",
              "\n",
              "    } while (position < fileData.byteLength);\n",
              "  }\n",
              "\n",
              "  // All done.\n",
              "  yield {\n",
              "    response: {\n",
              "      action: 'complete',\n",
              "    }\n",
              "  };\n",
              "}\n",
              "\n",
              "scope.google = scope.google || {};\n",
              "scope.google.colab = scope.google.colab || {};\n",
              "scope.google.colab._files = {\n",
              "  _uploadFiles,\n",
              "  _uploadFilesContinue,\n",
              "};\n",
              "})(self);\n",
              "</script> "
            ]
          },
          "metadata": {}
        },
        {
          "output_type": "stream",
          "name": "stdout",
          "text": [
            "Saving prelims_data_columbia.xlsx to prelims_data_columbia (1).xlsx\n"
          ]
        }
      ]
    },
    {
      "cell_type": "code",
      "source": [
        "# sheet_names = ['tournament format', 'list of teams', 'team codes',\n",
        "#                 'group names', 'room assignments',\n",
        "#                 'QR codes', 'text input']\n",
        "# url = \"https://github.com/victorprieto2265/cornerstone/blob/main/data%20input/prelims_data.xlsx?raw=true\"\n",
        "# df_dict_prelim = pd.read_excel(url,\n",
        "#                                sheet_name=sheet_names)\n"
      ],
      "metadata": {
        "id": "Y1gg7KUvlGRK"
      },
      "execution_count": 127,
      "outputs": []
    },
    {
      "cell_type": "markdown",
      "source": [
        "Determine phase of the tournament based on import filename."
      ],
      "metadata": {
        "id": "Ym7NjjhXATSB"
      }
    },
    {
      "cell_type": "code",
      "source": [
        "# check to make sure filename has the correct prefix for tournament phase\n",
        "acceptable_file_prefixes = ('prelims', 'playoffs', 'superplayoffs')\n",
        "if not file_upload.startswith(acceptable_file_prefixes):\n",
        "  print('\\nWARNING: filename must start with one of the following:')\n",
        "  for prefix in acceptable_file_prefixes:\n",
        "    print(prefix)\n",
        "  sys.exit()\n",
        "\n",
        "if file_upload.startswith('prelims'):\n",
        "  tournament_phase = 'prelims'\n",
        "elif file_upload.startswith('playoffs'):\n",
        "  tournament_phase = 'playoffs'\n",
        "elif file_upload.startswith('super'):\n",
        "  tournament_phase = 'super'"
      ],
      "metadata": {
        "id": "oLibmsoU-Mv_"
      },
      "execution_count": 128,
      "outputs": []
    },
    {
      "cell_type": "markdown",
      "source": [
        "Using the analyze_input function, create a list from each tab of the spreadsheet corresponding to the relevant information (e.g. a list of room assignments). If in playoffs or superplayoffs, also create the relevant lists there."
      ],
      "metadata": {
        "id": "EvXL0iGwFMH7"
      }
    },
    {
      "cell_type": "code",
      "source": [
        "list_of_teams = analyze_input('list of teams', df_dict_prelim)\n",
        "team_codes = analyze_input('team codes', df_dict_prelim)\n",
        "room_assignments = analyze_input('room assignments', df_dict_prelim)\n",
        "qr_codelist = analyze_input('QR codes', df_dict_prelim)\n",
        "textlist = analyze_input('text input', df_dict_prelim)\n",
        "tournament_format = analyze_input('tournament format', df_dict_prelim)\n",
        "\n",
        "group_names = analyze_input('group names', df_dict_prelim)\n",
        "prelim_group_names = [row[0] for row in group_names]\n",
        "\n",
        "if tournament_phase in ['playoffs', 'super']:\n",
        "    playoff_bracket_names = [row[1] for row in group_names]\n",
        "    playoff_bracket_names = [x for x in playoff_bracket_names\n",
        "                             if str(x) != 'nan']\n",
        "if tournament_phase == 'super':\n",
        "    super_bracket_names = [row[2] for row in group_names]\n",
        "    super_bracket_names = [x for x in super_bracket_names\n",
        "                             if str(x) != 'nan']"
      ],
      "metadata": {
        "id": "3CAhOiL09mfs"
      },
      "execution_count": 129,
      "outputs": []
    },
    {
      "cell_type": "markdown",
      "source": [
        "Sometimes, tournaments don't have enough teams to warrant more than one prelim group. We'll do a quick check to see if that's the case."
      ],
      "metadata": {
        "id": "hMBNDAmFJNuK"
      }
    },
    {
      "cell_type": "code",
      "source": [
        "if len(prelim_group_names) == 1:\n",
        "  single_prelim_group = True\n",
        "else:\n",
        "  single_prelim_group = False\n",
        "\n",
        "print(prelim_group_names)\n",
        "print(len(prelim_group_names))"
      ],
      "metadata": {
        "colab": {
          "base_uri": "https://localhost:8080/"
        },
        "id": "_aY-0K2lJiXN",
        "outputId": "dee9719e-fba8-48af-eba8-6d72ec9a02c3"
      },
      "execution_count": 130,
      "outputs": [
        {
          "output_type": "stream",
          "name": "stdout",
          "text": [
            "['none']\n",
            "1\n"
          ]
        }
      ]
    },
    {
      "cell_type": "markdown",
      "source": [
        "A dictionary containing general information about the tournament is also generated from the tournament_format sheet.\n",
        "\n",
        "It's necessary to convert the datetime value from excel to a more suitable string before printing."
      ],
      "metadata": {
        "id": "irPSh0zaFwLj"
      }
    },
    {
      "cell_type": "code",
      "source": [
        "format_dict = {}\n",
        "for row in tournament_format:\n",
        "    key = row[0]  # item, e.g. \"tournament name\"\n",
        "    value = row[1]  # input, e.g. \"2022 NSC\"\n",
        "    format_dict[key] = value\n",
        "\n",
        "# convert Excel datetime format to more suitable date string\n",
        "date = format_dict['tournament date'].strftime('%B %d, %Y')\n",
        "format_dict['tournament date'] = date"
      ],
      "metadata": {
        "id": "SNGO4QFRkOZ5"
      },
      "execution_count": 131,
      "outputs": []
    },
    {
      "cell_type": "markdown",
      "source": [
        "Next is the analysis section for the text and QR code inputs. Did the user turn these on? If not, these sections are skipped."
      ],
      "metadata": {
        "id": "8EDjXCXfn9Wd"
      }
    },
    {
      "cell_type": "code",
      "source": [
        "if format_dict['QR codes'] == 'Y':\n",
        "    qr_toggle = True\n",
        "\n",
        "    qr_names = [code[0] for code in qr_codelist]\n",
        "    qr_codes = [code[2] for code in qr_codelist]\n",
        "    qr_captions = [code[3] for code in qr_codelist]\n",
        "\n",
        "else:\n",
        "    qr_toggle = False\n",
        "    qr_codes = False\n",
        "    qr_captions = False\n",
        "\n",
        "if format_dict['text'] == 'Y':\n",
        "    text_toggle = True\n",
        "    texts = [text[1] for text in textlist]\n",
        "\n",
        "else:\n",
        "    text_toggle = False\n",
        "    texts = False"
      ],
      "metadata": {
        "id": "cZ3mT363oBcD"
      },
      "execution_count": 132,
      "outputs": []
    },
    {
      "cell_type": "markdown",
      "source": [
        "More dictionary creation here: this time, for team names and team codes.\n",
        "\n",
        "RFE get rid of team codes if the user is okay with foregoing the complete team schedule in favor of individual team schedules."
      ],
      "metadata": {
        "id": "ozsWkM-bHtSP"
      }
    },
    {
      "cell_type": "code",
      "source": [
        "# key is team name\n",
        "# value is team code\n",
        "# also created a dictionary where the key/value pairs are swapped\n",
        "team_code_dict = {}\n",
        "code_team_dict = {}\n",
        "for row in team_codes:\n",
        "    team_name = row[0]\n",
        "    team_code = row[1]\n",
        "    team_code_dict[team_name] = team_code\n",
        "    code_team_dict[team_code] = team_name\n",
        "\n",
        "# key is prelim group and a number (i.e. Accra1)\n",
        "# value is corresponding room (i.e. Grand Ballroom A is Accra1)\n",
        "# also created dictionary where key is a playoff bracket instead\n",
        "prelim_room_dict = {}\n",
        "playoff_room_dict = {}\n",
        "super_room_dict = {}\n",
        "for i in room_assignments:\n",
        "    key = i[1] + str(i[2])\n",
        "    value = i[0]\n",
        "    if tournament_phase == 'prelims':\n",
        "        prelim_room_dict[key] = value\n",
        "    elif tournament_phase == 'playoffs':\n",
        "        playoff_room_dict[key] = value\n",
        "    elif tournament_phase == 'super':\n",
        "        super_room_dict[key] = value"
      ],
      "metadata": {
        "id": "zCCyM_MCg-H0"
      },
      "execution_count": 133,
      "outputs": []
    },
    {
      "cell_type": "markdown",
      "source": [
        "Last is the error check section, to see if any of the data submitted by the user was improperly formatted.\n",
        "\n",
        "TODO this whole section needs to be updated... And perhaps error checks should be distributed elsewhere in the program. It's not working well."
      ],
      "metadata": {
        "id": "dKTcWKPmHfV8"
      }
    },
    {
      "cell_type": "code",
      "source": [
        "# TODO modify max_duplicates to be flexible on schedule and not hard coded\n",
        "# or perhaps get rid of max duplicates since it doesn't make a lot of sense\n",
        "\n",
        "# error_check([sublist[0] for sublist in list_of_teams],\n",
        "#             'the team names in list_of_teams',\n",
        "#             max_length=26)\n",
        "\n",
        "# error_check([sublist[2] for sublist in list_of_teams],\n",
        "#             'the prelim groups in list_of_teams',\n",
        "#             max_length=15,\n",
        "#             )\n",
        "\n",
        "# error_check([sublist[1] for sublist in team_codes],\n",
        "#             'the team codes in team_codes',\n",
        "#             max_length=4)\n",
        "\n",
        "# try:\n",
        "#     error_check(prelim_group_names,\n",
        "#                 'the groups in prelim_group_names',\n",
        "#                 max_length=15)\n",
        "# except:  # TODO bare except\n",
        "#     None\n",
        "\n",
        "# try:\n",
        "#     error_check(playoff_bracket_names,\n",
        "#                 'the brackets in playoff_bracket_names',\n",
        "#                 max_length=15)\n",
        "# except:  # TODO bare except\n",
        "#     None\n",
        "\n",
        "# error_check([sublist[0] for sublist in room_assignments],\n",
        "#             'the list of rooms in room_assignments',\n",
        "#             max_length=15)\n",
        "\n",
        "if error == 0:\n",
        "    print('\\n*** No errors detected upon import. ***')\n",
        "else:\n",
        "    print('\\n*** Errors detected during import! ***')\n",
        "    sys.exit()"
      ],
      "metadata": {
        "id": "DhUxZUHJHehk",
        "collapsed": true,
        "colab": {
          "base_uri": "https://localhost:8080/"
        },
        "outputId": "1a2cae25-8162-44f5-e7ce-3b35eb13dbe0"
      },
      "execution_count": 134,
      "outputs": [
        {
          "output_type": "stream",
          "name": "stdout",
          "text": [
            "\n",
            "*** No errors detected upon import. ***\n"
          ]
        }
      ]
    },
    {
      "cell_type": "markdown",
      "source": [
        "# Function Definitions"
      ],
      "metadata": {
        "id": "owcZyEiJdJTm"
      }
    },
    {
      "cell_type": "markdown",
      "source": [
        "Function for removing duplicates from a list."
      ],
      "metadata": {
        "id": "uQuJVhmyA3CC"
      }
    },
    {
      "cell_type": "code",
      "source": [
        "def remove_duplicates(alist):\n",
        "    newlist = []\n",
        "    [newlist.append(x) for x in alist if x not in newlist]\n",
        "    return newlist"
      ],
      "metadata": {
        "id": "a81URiBdA7G8"
      },
      "execution_count": 135,
      "outputs": []
    },
    {
      "cell_type": "markdown",
      "source": [
        "original function_definitions.py"
      ],
      "metadata": {
        "id": "EUZolcmPAy4y"
      }
    },
    {
      "cell_type": "code",
      "source": [
        "# import time\n",
        "# import sys\n",
        "# from pathlib import Path\n",
        "# from pylatex import (Document, Tabularx, Command,\n",
        "#                       NewPage, HugeText, Package,\n",
        "#                      VerticalSpace)\n",
        "# from pylatex.utils import NoEscape\n",
        "# from cornerstone_input import format_dict\n",
        "\n",
        "# # place additional modules here\n",
        "\n",
        "# header = \"\"\"\n",
        "\n",
        "# Depository for a bunch of class and function definitions shared across\n",
        "# prelim/playoff scripts.\n",
        "\n",
        "# TODO what if snake seed is fed a list with odd number of teams?\n",
        "\n",
        "# TODO what if qr_count ≠ 3?\n",
        "\n",
        "# Created on Mon Nov 1 13:53:44 2021 Eastern Time\n",
        "\n",
        "# @author: Victor Prieto\n",
        "\n",
        "# \"\"\"\n",
        "\n",
        "\n",
        "# # starts program runtime\n",
        "# start_time = time.time()\n",
        "# print('\\n', header)\n",
        "# print('start time: %s' % time.ctime())\n",
        "\n",
        "# # %% function definitions\n",
        "\n",
        "\n",
        "\n",
        "\n",
        "\n",
        "# def split_list(alist, wanted_parts=1):\n",
        "#     length = len(alist)\n",
        "#     return [alist[i*length // wanted_parts: (i+1)*length // wanted_parts]\n",
        "#             for i in range(wanted_parts)]\n",
        "\n",
        "\n",
        "# def snake_seed(list_of_teams, bracket_count):\n",
        "#     \"\"\"\n",
        "#     Parameters\n",
        "#     ----------\n",
        "#     list_of_teams : list\n",
        "#         A list of teams for reordering into playoff brackets by snake seeding.\n",
        "#     bracket_count : int\n",
        "#         Number of playoff brackets to snake seed across.\n",
        "\n",
        "#     Returns\n",
        "#     -------\n",
        "#     newlist : list\n",
        "#         Same list of teams accepted as input, but reordered by snake seeding.\n",
        "#         The list is also split into the number of playoff brackets.\n",
        "#         Example:\n",
        "#             (1, 2, 3, 4... 23, 24)\n",
        "#             snake seeded across four brackets becomes\n",
        "#             ((1, 8, 9, 16, 17, 24), (2, 7, 10, 15, 18... 12, 13, 20, 21))\n",
        "\n",
        "#     \"\"\"\n",
        "\n",
        "#     # generates sequence of indices for snake seeding\n",
        "#     sequence_length = 2 * bracket_count\n",
        "#     reps = len(list_of_teams) / sequence_length\n",
        "#     sequence = []\n",
        "#     for i in range(0, int(sequence_length/2)):\n",
        "#         for j in range(0, int(reps)):\n",
        "#             sequence.append(i+j*sequence_length)\n",
        "#             sequence.append((sequence_length-1-i)+j*sequence_length)\n",
        "\n",
        "#     # quits program if odd number of teams in list_of_teams\n",
        "#     if (len(list_of_teams)) % 2 == 1:\n",
        "#         print('ODD NUMBER OF TEAMS DETECTED')\n",
        "#         sys.exit()\n",
        "\n",
        "#     # use sequence of indices to generate new list of teams\n",
        "#     newlist = (list_of_teams[index] for index in sequence)\n",
        "#     return newlist\n",
        "\n",
        "\n",
        "# def alternating_rows(doc, color):\n",
        "#     return doc.append(NoEscape(r'\\rowcolors{3}{white}{%s}' % color))\n",
        "\n",
        "\n",
        "# def duplicate_checker(alist):\n",
        "#     seen = set()\n",
        "#     for x in alist:\n",
        "#         if x in seen:\n",
        "#             return True\n",
        "#         seen.add(x)\n",
        "#     return False\n",
        "\n",
        "\n",
        "# def start_latex(filename_input, docname, title=True, fontsize=False):\n",
        "\n",
        "#     Path(\"./output/\").mkdir(parents=True, exist_ok=True)\n",
        "#     file_path = r'./output/'\n",
        "#     Path(file_path).mkdir(parents=True, exist_ok=True)\n",
        "#     filename = file_path + filename_input        \n",
        "    \n",
        "#     geometry_options = {\n",
        "#         \"includeheadfoot\": True\n",
        "#     }\n",
        "\n",
        "#     doc = Document(filename, geometry_options=geometry_options)\n",
        "\n",
        "#     # this changed font sizes, but it doesn't work so well\n",
        "#     if fontsize is True:\n",
        "#         doc = Document(filename_input, geometry_options=geometry_options,\n",
        "#                        font_size='')\n",
        "#         doc.append(Command('fontsize', arguments=['12', '12']))\n",
        "#         doc.append(Command('selectfont'))\n",
        "\n",
        "#     doc.preamble.append(Command('title', format_dict['tournament name']))\n",
        "#     doc.preamble.append(Command('author', format_dict['tournament location']))\n",
        "#     doc.preamble.append(Command('date', format_dict['tournament date']))\n",
        "    \n",
        "#     doc.packages.append(Package('qrcode'))  # add qrcode to packages\n",
        "#     doc.packages.append(Package('fancyhdr'))  # add qrcode to packages\n",
        "\n",
        "#     doc.append(NoEscape(r'\\newcolumntype{Y}{>{\\centering\\arraybackslash}X}'))\n",
        "\n",
        "#     # TODO vertically center docname text on page\n",
        "#     if title is True:\n",
        "#         doc.append(NoEscape(r'\\maketitle'))\n",
        "#         doc.append(VerticalSpace('48pt'))\n",
        "#         doc.append(NoEscape(r'\\begin{center}'))\n",
        "#         doc.append(HugeText(docname))\n",
        "#         doc.append(NoEscape(r'\\end{center}'))\n",
        "#         doc.append(NewPage())\n",
        "    \n",
        "#     doc.append(NoEscape(r'\\pagestyle{fancy}'))\n",
        "#     doc.append(NoEscape(r'\\fancyhf{}'))\n",
        "#     date = '{' + format_dict['tournament date'] + '}'\n",
        "#     name = '{' + format_dict['tournament name'] + '}'\n",
        "#     doc.append(NoEscape(fr'\\rhead{date}'))\n",
        "#     doc.append(NoEscape(fr'\\lhead{name}'))\n",
        "#     doc.append(NoEscape(r'\\rfoot{Created by Cornerstone.}'))\n",
        "        \n",
        "#     return doc\n",
        "\n",
        "\n",
        "# def close_latex(filename_input, doc_input):\n",
        "#     file_path = r'./output/'\n",
        "#     filename = file_path + filename_input\n",
        "#     doc_input.generate_tex()\n",
        "#     doc_input.generate_pdf()\n",
        "\n",
        "#     file = open(filename + '.tex')\n",
        "#     latex_string = file.read()\n",
        "#     bad_string = '\\\\usepackage{lastpage}%'\n",
        "#     good_string = '\\\\usepackage[table]{xcolor}%'\n",
        "#     # print(latex_string)\n",
        "#     latex_string = latex_string.replace(bad_string, good_string)\n",
        "\n",
        "#     # for visual debugging\n",
        "#     # print('\\n\\n', latex_string[0:700], '\\n\\n')\n",
        "\n",
        "#     with open(f'{filename}.tex', 'w') as f:\n",
        "#         f.write(latex_string)\n",
        "\n",
        "\n",
        "# # %% classes, mostly not in use\n",
        "# # TODO figure out class inheritance for team/prelim_team/playoff_team\n",
        "# class team:\n",
        "#     def __init__(self,\n",
        "#                  name,\n",
        "#                  code):\n",
        "#         self.name = name\n",
        "#         self.code = code\n",
        "\n",
        "\n",
        "# class prelim_team(team):\n",
        "#     def __init__(self,\n",
        "#                  name,\n",
        "#                  code,\n",
        "#                  prelim_group,\n",
        "#                  prelim_seed):\n",
        "#         super().__init__(name, code)\n",
        "#         self.prelim_group = prelim_group\n",
        "#         self.prelim_seed = prelim_seed\n",
        "\n",
        "\n",
        "# class playoff_team():\n",
        "#     def __init__(self,\n",
        "#                  name,\n",
        "#                  code,\n",
        "#                  prelim_group,\n",
        "#                  playoff_bracket,\n",
        "#                  playoff_seed):  # playoff seed also the prelim finish\n",
        "#         self.name = name\n",
        "#         self.code = code\n",
        "#         self.prelim_group = prelim_group\n",
        "#         self.playoff_bracket = playoff_bracket\n",
        "#         self.playoff_seed = playoff_seed\n",
        "\n",
        "# # %% more function definitions\n",
        "\n",
        "\n",
        "# def header_stringify(teamcount, tabularx=False):\n",
        "#     \"\"\"\n",
        "\n",
        "#     Parameters\n",
        "#     ----------\n",
        "#     teamcount : int\n",
        "#         Number of teams in the round robin.\n",
        "#     tabularx : bool, optional\n",
        "#         Changes header string to account for newcolumntype Y, used in tabularx.\n",
        "#         The default is False.\n",
        "\n",
        "#     Returns\n",
        "#     -------\n",
        "#     A string for pylatex to use when defining the table.\n",
        "#     Example: '|l|cc|cc|cc|cc|'\n",
        "\n",
        "#     If tabularx is set to True, returns a string that utilizes newcolumntype Y.\n",
        "#     Example: '|l|Y|Y|Y|Y|Y|Y|'\n",
        "\n",
        "#     \"\"\"\n",
        "\n",
        "#     roomcount = teamcount // 2\n",
        "\n",
        "#     header_string = '|l' + ('|cc' * roomcount + '|')\n",
        "#     if teamcount % 2 == 1:\n",
        "#         header_string = header_string + 'c|'\n",
        "\n",
        "#     if tabularx is True:\n",
        "#         header_string = '|l' + ('|Y' * teamcount + '|')\n",
        "\n",
        "#     return header_string\n",
        "\n",
        "\n",
        "# # %% prints runtime\n",
        "# print('end time: %s' % time.ctime())\n",
        "# print(\"--- %s seconds ---\" % '%.3f' % (time.time() - start_time))\n",
        "# print(\"--- %s minutes ---\" % '%.3f' % (time.time()/60 - start_time/60))"
      ],
      "metadata": {
        "id": "83PLhfS0ArVn"
      },
      "execution_count": 136,
      "outputs": []
    },
    {
      "cell_type": "markdown",
      "source": [
        "# Standard Scheduler Function\n",
        "\n",
        "Created on Mon Nov 22 2021\n",
        "\n",
        "Definition of functions used for creating a table for a round robin schedule,\n",
        "between 4 and 14 teams.\n",
        "\n",
        "TODO if possible, fix pylatex table lines and shading in this function"
      ],
      "metadata": {
        "id": "GEJoeZNfdPrN"
      }
    },
    {
      "cell_type": "markdown",
      "source": [
        "First: retrieve the round robin templates stored on the cornerstone github page. The templates will automatically populate a dictionary.\n",
        "\n",
        "Each key is the name of the sheet corresponding to the round robin template: rr_6 is a basic 6 team round robin, rr_12 is for 12 teams, rr_crossover_A8 is the 8 team playoff roundrobin including crossovers (there are two possible crossovers, A and B, based on [Dwight Wynne's spreadsheet of schedule formats](https://https://docs.google.com/spreadsheets/d/1BPF6jFvhkh5qe7eesGFGU9KH6FVps2tS3YeseFocpIE/edit#gid=16)).\n",
        "\n",
        "The dictionary values are the pandas dataframes for each template.\n",
        "\n",
        "These templates will be used in the standard scheduler function and retrieved based on the key name."
      ],
      "metadata": {
        "id": "Q__BsPTWAtPh"
      }
    },
    {
      "cell_type": "code",
      "source": [
        "url = \"https://github.com/victorprieto2265/cornerstone/blob/main/templates/rr_schedules/rr_templates.xlsx?raw=true\"\n",
        "rr_template_dict = pd.read_excel(url,\n",
        "                                 sheet_name = None)\n",
        "rr_template_dict.keys()"
      ],
      "metadata": {
        "id": "7FtnKegkiJUy",
        "collapsed": true,
        "colab": {
          "base_uri": "https://localhost:8080/"
        },
        "outputId": "06108a58-20c8-465a-c0a8-8e3d76583db6"
      },
      "execution_count": 137,
      "outputs": [
        {
          "output_type": "execute_result",
          "data": {
            "text/plain": [
              "dict_keys(['rr_3', 'rr_4', 'rr_4_2x', 'rr_4_3x', 'rr_5', 'rr_5_2x', 'rr_6', 'rr_6_2x', 'rr_7', 'rr_7_2x', 'rr_8', 'rr_8_2x', 'rr_9', 'rr_10', 'rr_11', 'rr_12', 'rr_13', 'rr_14', 'rr_crossover_B3', 'rr_crossover_A6', 'rr_crossover_B6', 'rr_crossover_B7', 'rr_crossover_A8', 'rr_crossover_B8'])"
            ]
          },
          "metadata": {},
          "execution_count": 137
        }
      ]
    },
    {
      "cell_type": "markdown",
      "source": [
        "Definition of the standard scheduler function is below."
      ],
      "metadata": {
        "id": "rLOCcNtEFpce"
      }
    },
    {
      "cell_type": "code",
      "source": [
        "def standard_schedule(group_name, teamcode_dict, room_dict, roundstart=1,\n",
        "                      multiple_rr=1, crossover=False, superplayoff=False):\n",
        "    \"\"\"\n",
        "\n",
        "\n",
        "    Parameters\n",
        "    ----------\n",
        "    groupname : string\n",
        "        String of the prelim group or playoff bracket name.\n",
        "        Example: Lilongwe\n",
        "    teamcode_dict : dict\n",
        "        k : v = a group/bracket code : teamcode corresponding to that code\n",
        "        example: Lilongwe4 = MBA\n",
        "    room_dict : dict\n",
        "        k : v = a group/bracket code : room corresponding to that code\n",
        "        example: Lilongwe2 = Suite 1132\n",
        "    roundstart : int, optional\n",
        "        Number for the first round in the schedule. The default is 1.\n",
        "\n",
        "    Returns\n",
        "    -------\n",
        "    schedule_grid : list\n",
        "        Latex-friendly table. First row = table header, remaining rows =\n",
        "        schedule for each round.\n",
        "\n",
        "    \"\"\"\n",
        "\n",
        "    # produce teamlist\n",
        "    teamlist = [k for k, v in list(teamcode_dict.items())\n",
        "                if k.startswith(group_name)]\n",
        "    sorted_list = sorted(teamlist)\n",
        "    teamlist = [teamcode_dict[i] for i in sorted_list]\n",
        "\n",
        "    # identify number of teams in teamlist and appropriate number of rooms\n",
        "    teamcount = len(teamlist)\n",
        "    roomcount = teamcount // 2\n",
        "\n",
        "    if len(teamlist) <= 2:\n",
        "      print('Unable to produce round robins smaller than 3.')\n",
        "      sys.exit()\n",
        "\n",
        "    if len(teamlist) >= 15:\n",
        "      print('Unable to produce round robins larger than 14.')\n",
        "      sys.exit()\n",
        "\n",
        "    # retrieve correct rr_template from rr_template_dict\n",
        "    if multiple_rr >= 2:\n",
        "      key = f'rr_{teamcount}_{multiple_rr}x'\n",
        "    elif crossover is False:\n",
        "      key = f'rr_{teamcount}'\n",
        "    else:\n",
        "      key = f'rr_crossover_{crossover}{teamcount}'\n",
        "\n",
        "    try:\n",
        "      rr_schedule = rr_template_dict[key].values.tolist()\n",
        "    except KeyError:\n",
        "      print('Warning! Round robin template not found. Please check your '\n",
        "            + 'input and try again.')\n",
        "      sys.exit()\n",
        "    \n",
        "\n",
        "    # produce roomlist\n",
        "    roomlist = [k for k, v in list(room_dict.items())\n",
        "                if k.startswith(group_name)]\n",
        "    roomlist = [room_dict[i] for i in sorted(roomlist)]\n",
        "\n",
        "    # populate header with room names\n",
        "    rooms = []\n",
        "    header = ['']\n",
        "    for index in range(roomcount):\n",
        "        room = roomlist[index]\n",
        "        header.append(room)\n",
        "\n",
        "    # the last element in the header should be BYE if teamcount is odd\n",
        "    if teamcount % 2 == 1:\n",
        "        header.append('BYE')\n",
        "\n",
        "    # use rr_schedule template and roundstart to produce rest of schedule grid\n",
        "    schedule_grid = [header]\n",
        "    for round_num, row in enumerate(rr_schedule):\n",
        "        round_num += roundstart\n",
        "        new_row = [f'Round {round_num}']\n",
        "        for index in row:\n",
        "            code = group_name + str(index)\n",
        "            team = teamcode_dict[code]\n",
        "            new_row.append(team)\n",
        "        schedule_grid.append(new_row)\n",
        "\n",
        "    return schedule_grid"
      ],
      "metadata": {
        "id": "wlG8swh1trsX"
      },
      "execution_count": 138,
      "outputs": []
    },
    {
      "cell_type": "markdown",
      "source": [
        "# Individual Schedule Functions "
      ],
      "metadata": {
        "id": "5n9ob-8odPkM"
      }
    },
    {
      "cell_type": "markdown",
      "source": [
        "This section contains the functions that extract individual team and room schedules from a schedule grid.\n",
        "\n",
        "Use get_team_list() and get_room_list() to generate a list of teams and a list of rooms from a schedule grid."
      ],
      "metadata": {
        "id": "wS0ljqoELnJq"
      }
    },
    {
      "cell_type": "code",
      "source": [
        "def get_team_list(schedule_grid):\n",
        "    team_list = sorted(schedule_grid[1][1:])\n",
        "    return team_list\n",
        "\n",
        "\n",
        "def get_room_list(schedule_grid):\n",
        "    # remove first element in header, which should be an empty string\n",
        "    header = schedule_grid[0][1:]\n",
        "    \n",
        "    # retrieve room list\n",
        "    room_list = [i for i in header]\n",
        "    if 'BYE' in header:\n",
        "        room_list[-1] = 'BYE'\n",
        "    return room_list"
      ],
      "metadata": {
        "id": "WPJyVdz1Ltml"
      },
      "execution_count": 139,
      "outputs": []
    },
    {
      "cell_type": "markdown",
      "source": [
        "For a given team in a given round, what team do they play and where? Use find_opponent().\n"
      ],
      "metadata": {
        "id": "a7OD0aUxL8W9"
      }
    },
    {
      "cell_type": "code",
      "source": [
        "def find_opponent(team, row, room_list, code_dict):\n",
        "    index = row.index(team)\n",
        "    room = room_list[index]\n",
        "    if row[-1] == team and room_list[-1] == 'BYE':\n",
        "        opponent = 'BYE'\n",
        "    elif index % 2 == 0:\n",
        "        opponent_code = row[index+1]\n",
        "        opponent = code_dict[opponent_code]\n",
        "    else:\n",
        "        opponent_code = row[index-1]\n",
        "        opponent = code_dict[opponent_code]\n",
        "    return room, opponent"
      ],
      "metadata": {
        "id": "KJH6zps2NyoC"
      },
      "execution_count": 140,
      "outputs": []
    },
    {
      "cell_type": "markdown",
      "source": [
        "what teams are in a room at a given round?"
      ],
      "metadata": {
        "id": "7UtVnnn7N2ei"
      }
    },
    {
      "cell_type": "code",
      "source": [
        "def find_teams(row, room, roomlist, code_dict):\n",
        "    index = roomlist.index(room)\n",
        "    teams = row[2*index:2*index+2]\n",
        "    teams = [*map(code_dict.get, teams)]\n",
        "    return sorted(teams)  # alphabetically sorts teams"
      ],
      "metadata": {
        "id": "BqybAya0N24c"
      },
      "execution_count": 141,
      "outputs": []
    },
    {
      "cell_type": "markdown",
      "source": [
        "The clean_up_grid function is sometimes used to remove the header row (room list) and the round number column on the left."
      ],
      "metadata": {
        "id": "uU0U0j32OBUN"
      }
    },
    {
      "cell_type": "code",
      "source": [
        "def clean_up_grid(schedule_grid):\n",
        "    no_header = schedule_grid[1:]\n",
        "    basic_schedule_grid = []\n",
        "    for index, row in enumerate(no_header):\n",
        "        basic_schedule_grid.append(row[1:])\n",
        "\n",
        "    return basic_schedule_grid"
      ],
      "metadata": {
        "id": "kBKx4V4WN98S"
      },
      "execution_count": 142,
      "outputs": []
    },
    {
      "cell_type": "markdown",
      "source": [
        "The specific_team_scheduler function is the key for generating a schedule grid for a single team."
      ],
      "metadata": {
        "id": "cNyCExgmOLlu"
      }
    },
    {
      "cell_type": "code",
      "source": [
        "def specific_team_scheduler(team, schedule_grid, room_list, code_dict,\n",
        "                            round_start=1):\n",
        "    \n",
        "    # generate room_list with duplicated values\n",
        "    # need this for finding an opponent at a particular index\n",
        "    dup_room_list = [room for room in room_list for _ in (0, 1)]\n",
        "\n",
        "    # how many rounds in the grid?\n",
        "    rounds = len(schedule_grid)\n",
        "\n",
        "    specific_grid = [['', 'Room Name', 'Opponent']]\n",
        "    for i in range(0, rounds):\n",
        "        room, opponent = find_opponent(team,\n",
        "                                       schedule_grid[i],\n",
        "                                       dup_room_list,\n",
        "                                       code_dict)\n",
        "\n",
        "        specific_grid.append([f'Round {round_start+i}', room, opponent])\n",
        "\n",
        "    return specific_grid"
      ],
      "metadata": {
        "id": "Ap0lkVL1OOKM"
      },
      "execution_count": 143,
      "outputs": []
    },
    {
      "cell_type": "markdown",
      "source": [
        "Like specific_team_scheduler(), specific_room_scheduler is the key for generating the schedule for an individual room."
      ],
      "metadata": {
        "id": "kD6q752_O-jC"
      }
    },
    {
      "cell_type": "code",
      "source": [
        "def specific_room_scheduler(room, schedule_grid, room_list,\n",
        "                            code_dict, round_start=1):\n",
        "\n",
        "    specific_grid = [['', 'Team 1', 'Team 2']]\n",
        "    for index, row in enumerate(basic_schedule_grid):\n",
        "        teams = find_teams(row, room, room_list, code_dict)\n",
        "        if room == 'BYE':\n",
        "            return 'BYE'\n",
        "        specific_grid.append([f'Round {round_start+index}',\n",
        "                              teams[0], teams[1]])\n",
        "\n",
        "    return specific_grid"
      ],
      "metadata": {
        "id": "xfuyEiYnPG1p"
      },
      "execution_count": 144,
      "outputs": []
    },
    {
      "cell_type": "markdown",
      "source": [
        "# Prelim Scheduler\n",
        "\n",
        "This section reads the list of prelim teams and information from the tournament format dictionary to produce a set of prelim schedules."
      ],
      "metadata": {
        "id": "K4OmpZngcsFP"
      }
    },
    {
      "cell_type": "markdown",
      "source": [
        "A series of lists and dictionaries are created here, which will be useful at various points throughout the program:\n",
        "* prelim_group_names: a list of prelim group names\n",
        "* prelim_team_dict: a dictionary where every prelim group and seed is matched up with a group name + seed\n",
        "* prelim_teamcode_dict: identical, but a teamcode instead of a full team name\n",
        "* team_group_dict: same as prelim_team_dict, but the key/value pairs are swapped\n",
        "* teamcode_group_dict: again, identical but with a teamcode instead of full team name\n",
        "* prelim_room_dict: matches a prelim group and room assignment (e.g. group 2, room 3) with an actual room name"
      ],
      "metadata": {
        "id": "Is1C6X6cAbNi"
      }
    },
    {
      "cell_type": "code",
      "source": [
        "prelim_group_names = [sublist[1] for sublist in list_of_teams]\n",
        "prelim_group_names = remove_duplicates(prelim_group_names)\n",
        "\n",
        "# key is a prelim group name and a seed (i.e. Belmopan6)\n",
        "# value is the corresponding team (i.e. Great Valley A for Belmopan6)\n",
        "# also created a dictionary where values are team codes (i.e. GVA)\n",
        "prelim_team_dict = {}\n",
        "prelim_teamcode_dict = {}\n",
        "team_group_dict = {}\n",
        "teamcode_group_dict = {}\n",
        "for i in list_of_teams:\n",
        "    # key = i[2] + str(i[3])\n",
        "    key = i[1] + str(i[2])\n",
        "    value = i[0]  # team name\n",
        "    prelim_team_dict[key] = value\n",
        "    # also created dictionary where k/v pairs are swapped\n",
        "    team_group_dict[value] = key\n",
        "    # value = i[1]  # team code\n",
        "    value = team_code_dict[value]\n",
        "    prelim_teamcode_dict[key] = value\n",
        "    # also created dictionary where k/v pairs are swapped\n",
        "    teamcode_group_dict[value] = key\n",
        "\n",
        "# key is prelim group and a number (i.e. Accra1)\n",
        "# value is corresponding room (i.e. Grand Ballroom A is Accra1)\n",
        "# also created dictionary where key is a playoff bracket instead\n",
        "prelim_room_dict = {}\n",
        "for i in room_assignments:\n",
        "    key = i[1] + str(i[2])\n",
        "    value = i[0]\n",
        "    prelim_room_dict[key] = value"
      ],
      "metadata": {
        "id": "yqDIBPxpAXbJ"
      },
      "execution_count": 145,
      "outputs": []
    },
    {
      "cell_type": "markdown",
      "source": [
        "Using standard_schedule, a schedule grid is created for each group in order, and assembled into **full_schedule_grid**."
      ],
      "metadata": {
        "id": "rAozDnfXAiC6"
      }
    },
    {
      "cell_type": "code",
      "source": [
        "full_schedule_grid = []\n",
        "multiple_rr = format_dict['repeat round robin']\n",
        "\n",
        "# perform this process for each prelim group, add to full_schedule_grid\n",
        "for group_name in prelim_group_names:\n",
        "    schedule_grid = (standard_schedule(group_name,\n",
        "                                       prelim_teamcode_dict,\n",
        "                                       prelim_room_dict,\n",
        "                                       multiple_rr=multiple_rr))\n",
        "    full_schedule_grid.append(schedule_grid)"
      ],
      "metadata": {
        "id": "9Q-DolBuAaJZ"
      },
      "execution_count": 146,
      "outputs": []
    },
    {
      "cell_type": "markdown",
      "source": [
        "To make sure the full_schedule_grid was populated correctly, we'll print it out line by line."
      ],
      "metadata": {
        "id": "2yJI1x6PBUjr"
      }
    },
    {
      "cell_type": "code",
      "source": [
        "# for visual debugging\n",
        "for index, prelim_group in enumerate(prelim_group_names):\n",
        "    print(f'\\nPrelim Group: {prelim_group}')\n",
        "    print(*full_schedule_grid[index], sep='\\n')"
      ],
      "metadata": {
        "id": "Ozt12wMnBT2A",
        "collapsed": true,
        "colab": {
          "base_uri": "https://localhost:8080/"
        },
        "outputId": "098d9823-2dcf-4521-c03b-a05da8f16462"
      },
      "execution_count": 147,
      "outputs": [
        {
          "output_type": "stream",
          "name": "stdout",
          "text": [
            "\n",
            "Prelim Group: none\n",
            "['', 'Room 1', 'Room 2', 'Room 3', 'Room 4']\n",
            "['Round 1', 'NYUB', 'T7', 'PRIN', 'COLA', 'NYUA', 'T8', 'YALE', 'JOHN']\n",
            "['Round 2', 'NYUA', 'JOHN', 'YALE', 'COLA', 'PRIN', 'T7', 'NYUB', 'T8']\n",
            "['Round 3', 'PRIN', 'T8', 'NYUA', 'T7', 'JOHN', 'COLA', 'YALE', 'NYUB']\n",
            "['Round 4', 'COLA', 'T7', 'YALE', 'T8', 'JOHN', 'NYUB', 'NYUA', 'PRIN']\n",
            "['Round 5', 'PRIN', 'NYUB', 'JOHN', 'T8', 'YALE', 'T7', 'NYUA', 'COLA']\n",
            "['Round 6', 'COLA', 'T8', 'NYUA', 'NYUB', 'YALE', 'PRIN', 'JOHN', 'T7']\n",
            "['Round 7', 'YALE', 'NYUA', 'PRIN', 'JOHN', 'NYUB', 'COLA', 'T7', 'T8']\n",
            "['Round 8', 'T8', 'YALE', 'NYUB', 'T7', 'PRIN', 'COLA', 'NYUA', 'JOHN']\n",
            "['Round 9', 'T7', 'NYUB', 'NYUA', 'JOHN', 'YALE', 'COLA', 'PRIN', 'T8']\n",
            "['Round 10', 'COLA', 'YALE', 'PRIN', 'T8', 'NYUA', 'T7', 'JOHN', 'NYUB']\n",
            "['Round 11', 'NYUB', 'NYUA', 'COLA', 'T7', 'YALE', 'T8', 'JOHN', 'PRIN']\n",
            "['Round 12', 'T7', 'NYUA', 'PRIN', 'NYUB', 'JOHN', 'T8', 'YALE', 'COLA']\n",
            "['Round 13', 'PRIN', 'JOHN', 'COLA', 'T8', 'NYUA', 'NYUB', 'YALE', 'T7']\n",
            "['Round 14', 'COLA', 'T7', 'YALE', 'NYUA', 'PRIN', 'JOHN', 'NYUB', 'T8']\n"
          ]
        }
      ]
    },
    {
      "cell_type": "markdown",
      "source": [
        "# Class Definitions for fpdf2"
      ],
      "metadata": {
        "id": "A5Qp8Ae2cA7Z"
      }
    },
    {
      "cell_type": "markdown",
      "source": [
        "There are five types of tables that Cornerstone will need to generate:\n",
        "*  the full schedule\n",
        "*  the individualized team schedule\n",
        "*  the individualized room schedule\n",
        "*  the team index (includes toggle for prelims/playoffs/superplayoffs)\n",
        "*  the playoff quickstart schedule (first playoff room for all teams)\n",
        "\n",
        "The last one will not be needed for the prelim writer, but will be necessary for playoffs (and superplayoffs if needed).\n",
        "\n",
        "For all of these tables, we will create a unique class via fpdf2 for writing the table onto a PDF. These five classes are at the bottom of this section. First, we will define a few templates used across the printed documents:\n",
        "\n",
        "*  the title page\n",
        "*  the header\n",
        "*  the footer\n"
      ],
      "metadata": {
        "id": "6_mFRVFAcFY9"
      }
    },
    {
      "cell_type": "markdown",
      "source": [
        "First is the title page to start each document. A nice touch, albeit not 100% necessary and may add a toggle for this later.\n",
        "\n",
        "Important: this is the first instance of the PDF class. Therefore, the argument is FPDF, while all other later class instances have PDF instead to build on the existing class."
      ],
      "metadata": {
        "id": "580yHo0SklgX"
      }
    },
    {
      "cell_type": "code",
      "source": [
        "class PDF(FPDF):\n",
        "\n",
        "    def title_page(self, tournament_name, tournament_location, tournament_date,\n",
        "                   document_title):\n",
        "                \n",
        "        # Setting font: bold times 11, black\n",
        "        self.set_text_color(0)\n",
        "\n",
        "        # move cursor 6.2 cm down the page\n",
        "        self.set_y(62)\n",
        "\n",
        "        # write the tournament name, location, and date\n",
        "        self.set_font(\"times\", size=16)\n",
        "        self.cell(0, None, tournament_name, align=\"C\",\n",
        "                  new_x=\"LEFT\", new_y=\"NEXT\")\n",
        "        self.ln(10)  # line break\n",
        "\n",
        "        self.set_font(\"times\", size=12)\n",
        "        self.cell(0, None, tournament_location, align=\"C\")\n",
        "        self.ln(10)  # line break\n",
        "        self.cell(0, None, tournament_date, align=\"C\")\n",
        "        self.ln(45)  # line break\n",
        "\n",
        "        self.set_font(\"times\", size=24)\n",
        "        self.cell(0, None, document_title, align=\"C\")"
      ],
      "metadata": {
        "id": "N2BgXfyLkzy7"
      },
      "execution_count": 148,
      "outputs": []
    },
    {
      "cell_type": "code",
      "source": [
        "class PDF(PDF):\n",
        "\n",
        "    def page_header(self, tournament_name, tournament_date):\n",
        "                \n",
        "        # Setting font: bold times 11\n",
        "        font_size = 11\n",
        "        self.set_font(\"times\", style=\"I\", size=font_size)\n",
        "\n",
        "        # Print tournament name in upper left:\n",
        "        self.cell(None, 2, tournament_name, new_x=\"LEFT\")\n",
        "\n",
        "        # Create empty cell with bottom border (can modify for centered text)\n",
        "        self.cell(0, None, \" \", \"B\", align=\"C\")\n",
        "\n",
        "        # Print tournament date in upper right\n",
        "        self.cell(0, 2, tournament_date, align=\"R\")\n",
        "\n",
        "        # Performing a line break:\n",
        "        self.ln(20)\n",
        "\n",
        "    def page_footer(self):\n",
        "        \n",
        "        # # putting in a logo:\n",
        "        # self.image(\"../docs/fpdf2-logo.png\", 10, 8, 33)\n",
        "        \n",
        "        # Position cursor at left and 26.04 cm from bottom:\n",
        "        # self.set_y(0, 260.4)\n",
        "        self.set_y(-27)\n",
        "\n",
        "        # Setting font: times italic 11\n",
        "        font_size = 11\n",
        "        self.set_text_color(0)\n",
        "        self.set_font(\"times\", style=\"I\", size=font_size)\n",
        "        \n",
        "        # Print footer text:\n",
        "        self.cell(0, 6, \"Created by Cornerstone\", border=\"B\", align=\"R\")\n"
      ],
      "metadata": {
        "id": "m_slBLE2dOK0"
      },
      "execution_count": 149,
      "outputs": []
    },
    {
      "cell_type": "markdown",
      "source": [
        "## Prelims - Complete Schedule"
      ],
      "metadata": {
        "id": "T3jjXFPX1gTK"
      }
    },
    {
      "cell_type": "markdown",
      "source": [
        "This class generates the tables used for the full schedule."
      ],
      "metadata": {
        "id": "uX138nHO9JVN"
      }
    },
    {
      "cell_type": "code",
      "source": [
        "class PDF(PDF):\n",
        "\n",
        "    def full_schedule(self, header, rows,\n",
        "                      header_color=(135, 135, 135), row_color=(210, 210, 210)):\n",
        "\n",
        "      header_count = len(header)\n",
        "      if header[-1] == 'BYE':\n",
        "        cell_count = header_count * 2 - 2\n",
        "      else:\n",
        "        cell_count = header_count * 2 - 1\n",
        "      col_width = pdf.epw / cell_count  # distribute columns evenly\n",
        "      print('col_width:')\n",
        "      print(col_width)\n",
        "\n",
        "      header_widths = [col_width * 2] * (header_count - 1)  # populate list with col widths\n",
        "      header_widths.insert(0, col_width)\n",
        "      if header[-1] == 'BYE':\n",
        "        header_widths[-1] = col_width\n",
        "      print(*header_widths, sep='\\n')\n",
        "\n",
        "      cell_widths = [col_width] * cell_count\n",
        "\n",
        "      self.set_fill_color(*header_color)  # * required to unpack tuple\n",
        "      self.set_text_color(255)\n",
        "      self.set_draw_color(36, 36, 36)\n",
        "      self.set_line_width(0.3)\n",
        "      self.set_font(style=\"B\")\n",
        "      for col_width, heading in zip(header_widths, header):\n",
        "          self.cell(col_width, 8, heading, border=1, align=\"C\", fill=True)\n",
        "      self.ln()\n",
        "\n",
        "      # Color and font restoration:\n",
        "      self.set_fill_color(*row_color)  # * required to unpack tuple\n",
        "      self.set_text_color(0)\n",
        "      self.set_font()\n",
        "      fill = False\n",
        "      for row in rows:\n",
        "        for index, item in enumerate(row):          \n",
        "          if index == 0:\n",
        "            self.set_font(style=\"B\")\n",
        "          else:\n",
        "            self.set_font()\n",
        "          self.cell(cell_widths[index],\n",
        "                    7,\n",
        "                    item,\n",
        "                    border=\"LR\",\n",
        "                    align=\"C\",\n",
        "                    fill=fill)\n",
        "        self.ln()\n",
        "        fill = not fill\n",
        "\n",
        "      self.set_fill_color(*header_color)  # * required to unpack tuple\n",
        "      self.set_text_color(255)\n",
        "      self.set_draw_color(36, 36, 36)\n",
        "      self.set_line_width(0.3)\n",
        "      self.set_font(style=\"B\")\n",
        "      for col_width, heading in zip(header_widths, header):\n",
        "          self.cell(col_width, 8, heading, border=1, align=\"C\", fill=True)\n",
        "\n",
        "      self.ln(14)"
      ],
      "metadata": {
        "id": "2sXgrSqj4QQz"
      },
      "execution_count": 159,
      "outputs": []
    },
    {
      "cell_type": "markdown",
      "source": [
        "## Prelims - Individual Schedule"
      ],
      "metadata": {
        "id": "Lsvgg3XgLlT9"
      }
    },
    {
      "cell_type": "markdown",
      "source": [
        "This class is used to generate the tables for individual team and room schedules, which are nearly identical except the room schedules will have a confirmation box for team scores and signatures."
      ],
      "metadata": {
        "id": "wvG1_G3o8wDb"
      }
    },
    {
      "cell_type": "code",
      "source": [
        "class PDF(PDF):\n",
        "\n",
        "    def individual_schedule(self, header, rows, signature=False,\n",
        "                      header_color=(135, 135, 135), row_color=(210, 210, 210)):\n",
        "\n",
        "      # start table at 15.45, draw cells 33 + 66 + 66 for each column\n",
        "      # right margin will also be 15.45\n",
        "\n",
        "      self.set_x(25.45)\n",
        "      cell_widths = [33, 66, 66]\n",
        "\n",
        "      self.set_fill_color(*header_color)  # * required to unpack tuple\n",
        "      self.set_text_color(255)\n",
        "      self.set_draw_color(36, 36, 36)\n",
        "      self.set_line_width(0.3)\n",
        "      self.set_font(style=\"B\", size=12)\n",
        "      for cell_width, heading in zip(cell_widths, header):\n",
        "          self.cell(cell_width, 8, heading, border=1, align=\"C\", fill=True)\n",
        "      self.ln()\n",
        "      self.set_x(25.45)\n",
        "\n",
        "      # Color and font restoration:\n",
        "      self.set_fill_color(*row_color)  # * required to unpack tuple\n",
        "      self.set_text_color(0)\n",
        "      self.set_font()\n",
        "      fill = False\n",
        "      if len(rows) >= 12:\n",
        "        font_size = 10\n",
        "        row_height = 6\n",
        "      else:\n",
        "        font_size = 12\n",
        "        row_height = 8\n",
        "      for row in rows:\n",
        "        for index, item in enumerate(row):          \n",
        "          if index == 0:\n",
        "            self.set_font(style=\"B\", size=font_size)\n",
        "          else:\n",
        "            self.set_font(size=font_size)\n",
        "          self.cell(cell_widths[index],\n",
        "                    row_height,\n",
        "                    item,\n",
        "                    border=\"LR\",\n",
        "                    align=\"C\",\n",
        "                    fill=fill)\n",
        "        fill = not fill  # I am pretty sure this is what alternates row colors!\n",
        "\n",
        "        self.ln()\n",
        "        self.set_x(25.45)\n",
        "\n",
        "        # RFE add row for team score + signature confirmation\n",
        "        if signature == True:\n",
        "          pass\n",
        "\n",
        "      self.set_fill_color(*header_color)  # * required to unpack tuple\n",
        "      self.set_text_color(255)\n",
        "      self.set_draw_color(36, 36, 36)\n",
        "      self.set_line_width(0.3)\n",
        "      self.set_font(style=\"B\", size=12)\n",
        "      for cell_width, heading in zip(cell_widths, header):\n",
        "          self.cell(cell_width, 8, heading, border=1, align=\"C\", fill=True)\n",
        "\n",
        "      self.ln(14)"
      ],
      "metadata": {
        "id": "HEELLKhcL8_O"
      },
      "execution_count": 169,
      "outputs": []
    },
    {
      "cell_type": "markdown",
      "source": [
        "# Prelim PDF Writer"
      ],
      "metadata": {
        "id": "-G75IfqqdJTn"
      }
    },
    {
      "cell_type": "markdown",
      "source": [
        "First to generate: full prelim schedule for all teams, all rooms."
      ],
      "metadata": {
        "id": "dpuJ3YH8Px9l"
      }
    },
    {
      "cell_type": "code",
      "source": [
        "pdf = PDF(format=\"letter\")  # default is A4, need to specify US letter\n",
        "\n",
        "# title page\n",
        "pdf.add_page()\n",
        "\n",
        "pdf.title_page(format_dict['tournament name'],\n",
        "               format_dict['tournament location'],\n",
        "               format_dict['tournament date'],\n",
        "               \"Prelims - Complete Schedule\")\n",
        "\n",
        "# full schedule page\n",
        "pdf.add_page()\n",
        "\n",
        "pdf.page_header(format_dict['tournament name'],\n",
        "                format_dict['tournament date'])\n",
        "\n",
        "for index, grid in enumerate(full_schedule_grid):\n",
        "  header = grid[0]\n",
        "  schedule = grid[1:]\n",
        "  pdf.full_schedule(header, schedule)\n",
        "\n",
        "pdf.page_footer()\n",
        "\n",
        "pdf.output(\"full_prelim_schedule.pdf\")\n",
        "pdf_bytes = pdf.output()\n",
        "full_prelim_schedule = b64encode(pdf_bytes).decode(\"utf-8\")"
      ],
      "metadata": {
        "id": "wqJPg3lP4pq8",
        "colab": {
          "base_uri": "https://localhost:8080/"
        },
        "outputId": "551c5ba4-ed93-45f8-d884-c6e36005ebd5"
      },
      "execution_count": 170,
      "outputs": [
        {
          "output_type": "stream",
          "name": "stdout",
          "text": [
            "col_width:\n",
            "21.766666666666666\n",
            "21.766666666666666\n",
            "43.53333333333333\n",
            "43.53333333333333\n",
            "43.53333333333333\n",
            "43.53333333333333\n"
          ]
        }
      ]
    },
    {
      "cell_type": "markdown",
      "source": [
        "Next, we'll generate the individualized team schedules."
      ],
      "metadata": {
        "id": "Xpwa3vsEQC4E"
      }
    },
    {
      "cell_type": "code",
      "source": [
        "pdf = PDF(format=\"letter\")  # default is A4, need to specify US letter\n",
        "\n",
        "# title page\n",
        "pdf.add_page()\n",
        "\n",
        "pdf.title_page(format_dict['tournament name'],\n",
        "               format_dict['tournament location'],\n",
        "               format_dict['tournament date'],\n",
        "               \"Prelims - Individual Team Schedules\")\n",
        "\n",
        "# sort list of teams alphabetically, so documents easier to distribute\n",
        "list_of_teams = sorted(list_of_teams, key=lambda x: (x[0]))\n",
        "\n",
        "for team in list_of_teams:\n",
        "\n",
        "  # iterate through schedule grids. Is the team in that grid?\n",
        "  for index, schedule_grid in enumerate(full_schedule_grid):\n",
        "\n",
        "    team_name = team[0]  # full team name \n",
        "    team_code = team_code_dict[team_name]  # 3-letter team code\n",
        "    team_list = get_team_list(schedule_grid)  # list of teams in grid\n",
        "\n",
        "    if team_code in team_list:\n",
        "      group = team[1]  # prelim group name\n",
        "      room_list = get_room_list(schedule_grid)\n",
        "      basic_schedule_grid = clean_up_grid(schedule_grid)\n",
        "      \n",
        "      # create page and add header\n",
        "      pdf.add_page()\n",
        "      pdf.page_header(format_dict['tournament name'],\n",
        "                      format_dict['tournament date'])\n",
        "      \n",
        "      # add team name, a line break, and prelim group name\n",
        "      pdf.set_font(\"times\", size=24)\n",
        "      pdf.cell(w=0, h=None, txt=f'Prelim Schedule - {team_name}',\n",
        "                align=\"C\", new_x=\"LEFT\", new_y=\"NEXT\")\n",
        "      \n",
        "      print(single_prelim_group)\n",
        "      # skip the prelim group name if only one prelim group\n",
        "      if single_prelim_group == True:   \n",
        "        pdf.ln(15)\n",
        "      if single_prelim_group == False:   \n",
        "        pdf.ln(5)\n",
        "        pdf.set_font(\"times\", size=17)\n",
        "        pdf.cell(w=0, h=None, txt=f'Group - {group}',\n",
        "                  align=\"C\", new_x=\"LEFT\", new_y=\"NEXT\")\n",
        "        pdf.ln(10)\n",
        "\n",
        "      grid = specific_team_scheduler(team_code,\n",
        "                                     basic_schedule_grid,\n",
        "                                     room_list,\n",
        "                                     code_team_dict)\n",
        "\n",
        "      header = grid[0]\n",
        "      schedule = grid[1:]\n",
        "      pdf.individual_schedule(header, schedule)\n",
        "\n",
        "      if text_toggle is True:\n",
        "\n",
        "        # todo: figure out latin-1 encoding issue\n",
        "        text = texts[0]\n",
        "        text = text.encode('latin-1', 'ignore').decode('latin-1')\n",
        "\n",
        "        pdf.set_x(25.45)\n",
        "        font_size = 14\n",
        "        pdf.set_font(\"times\", size=font_size)\n",
        "        pdf.set_text_color(0)\n",
        "        pdf.multi_cell(165, 6, text, new_x=\"LMARGIN\")\n",
        "\n",
        "      if qr_toggle is True:\n",
        "          qr_codes_1 = qr_codes[0:3]\n",
        "          qr_captions_1 = qr_captions[0:3]\n",
        "\n",
        "          qr_positions = [35, 93, 151]\n",
        "          for index, qr_code in enumerate(qr_codes_1):\n",
        "            img = qrcode.make(qr_code)\n",
        "            x_pos = qr_positions[index]\n",
        "            pdf.image(img.get_image(), x=x_pos, y=210, w=30, h=30)\n",
        "\n",
        "          for index, qr_caption in enumerate(qr_captions_1):\n",
        "            x_pos = qr_positions[index] - 5\n",
        "            pdf.set_xy(x_pos, 241)\n",
        "            pdf.cell(w=40, h=None, txt=qr_caption,\n",
        "                     align=\"C\")\n",
        "\n",
        "      pdf.page_footer()\n",
        "\n",
        "      break  # saves time by ending search for team name in other schedule grids\n",
        "\n",
        "pdf.output(\"prelim_individual_team_schedules.pdf\")\n",
        "pdf_bytes = pdf.output()\n",
        "prelim_individual_team_schedules = b64encode(pdf_bytes).decode(\"utf-8\")"
      ],
      "metadata": {
        "id": "k_zGqv3NQDPU",
        "colab": {
          "base_uri": "https://localhost:8080/"
        },
        "outputId": "a16e80ec-2717-4aa0-db36-c46a8de8fdab"
      },
      "execution_count": 171,
      "outputs": [
        {
          "output_type": "stream",
          "name": "stdout",
          "text": [
            "True\n",
            "True\n",
            "True\n",
            "True\n",
            "True\n",
            "True\n",
            "True\n",
            "True\n"
          ]
        }
      ]
    },
    {
      "cell_type": "markdown",
      "source": [
        "We'll do the same individual schedules, but for rooms instead of teams."
      ],
      "metadata": {
        "id": "aFFPYMqzMhCC"
      }
    },
    {
      "cell_type": "code",
      "source": [
        "pdf = PDF(format=\"letter\")  # default is A4, need to specify US letter\n",
        "\n",
        "# title page\n",
        "pdf.add_page()\n",
        "\n",
        "pdf.title_page(format_dict['tournament name'],\n",
        "               format_dict['tournament location'],\n",
        "               format_dict['tournament date'],\n",
        "               \"Prelims - Individual Room Schedules\")\n",
        "\n",
        "for index, schedule_grid in enumerate(full_schedule_grid):\n",
        "\n",
        "  group = prelim_group_names[index]\n",
        "  room_list = get_room_list(schedule_grid)\n",
        "  basic_schedule_grid = clean_up_grid(schedule_grid)\n",
        "\n",
        "  # iterate for each room in room_list\n",
        "  for room in room_list:\n",
        "    if room == 'BYE':\n",
        "      continue\n",
        "  \n",
        "    # create page and add header\n",
        "    pdf.add_page()\n",
        "    pdf.page_header(format_dict['tournament name'],\n",
        "                    format_dict['tournament date'])\n",
        "\n",
        "    # add team name, a line break, and prelim group name\n",
        "    pdf.set_font(\"times\", size=24)\n",
        "    pdf.cell(w=0, h=None, txt=f'Prelim Schedule - {room}',\n",
        "              align=\"C\", new_x=\"LEFT\", new_y=\"NEXT\")\n",
        "\n",
        "    # skip the prelim group name if only one prelim group\n",
        "    if single_prelim_group == True:       \n",
        "      pdf.ln(5)\n",
        "      pdf.set_font(\"times\", size=17)\n",
        "      pdf.cell(w=0, h=None, txt=f'Group - {group}',\n",
        "                align=\"C\", new_x=\"LEFT\", new_y=\"NEXT\")\n",
        "      pdf.ln(15)\n",
        "    else:\n",
        "      pdf.ln(20)\n",
        "\n",
        "    grid = specific_room_scheduler(room,\n",
        "                                   basic_schedule_grid,\n",
        "                                   room_list,\n",
        "                                   code_team_dict)\n",
        "\n",
        "    header = grid[0]\n",
        "    schedule = grid[1:]\n",
        "    pdf.individual_schedule(header, schedule)\n",
        "\n",
        "    if text_toggle is True:\n",
        "\n",
        "        # todo: figure out latin-1 encoding issue\n",
        "        text = texts[1]\n",
        "        text = text.encode('latin-1', 'ignore').decode('latin-1')\n",
        "\n",
        "        pdf.set_x(25.45)\n",
        "        font_size = 14\n",
        "        pdf.set_font(\"times\", size=font_size)\n",
        "        pdf.set_text_color(0)\n",
        "        pdf.multi_cell(165, 6, text, new_x=\"LMARGIN\")\n",
        "\n",
        "    if qr_toggle is True:\n",
        "        qr_codes_2 = qr_codes[3:6]\n",
        "        qr_captions_2 = qr_captions[3:6]\n",
        "\n",
        "        qr_positions = [35, 93, 151]\n",
        "        for index, qr_code in enumerate(qr_codes_2):\n",
        "          img = qrcode.make(qr_code)\n",
        "          x_pos = qr_positions[index]\n",
        "          pdf.image(img.get_image(), x=x_pos, y=210, w=30, h=30)\n",
        "\n",
        "        for index, qr_caption in enumerate(qr_captions_2):\n",
        "          x_pos = qr_positions[index] - 5\n",
        "          pdf.set_xy(x_pos, 241)\n",
        "          pdf.cell(w=40, h=None, txt=qr_caption,\n",
        "                    align=\"C\")\n",
        "\n",
        "    pdf.page_footer()\n",
        "\n",
        "pdf.output(\"prelim_individual_room_schedules.pdf\")\n",
        "pdf_bytes = pdf.output()\n",
        "prelim_individual_room_schedules = b64encode(pdf_bytes).decode(\"utf-8\")"
      ],
      "metadata": {
        "id": "PyNdY14VMlLL"
      },
      "execution_count": 172,
      "outputs": []
    },
    {
      "cell_type": "markdown",
      "source": [
        "## Download Prelim PDFs"
      ],
      "metadata": {
        "id": "ejmFTFC8LQVB"
      }
    },
    {
      "cell_type": "code",
      "source": [
        "# Diplay a download button:\n",
        "display(HTML(f'<a style=\"font-size: 30px\" download=\"full_prelim_schedule.pdf\" href=\"data:application/pdf;base64,{full_prelim_schedule}\">Click to download PDF of full schedule.</a>'))"
      ],
      "metadata": {
        "id": "EfFoOvgwS1Ir",
        "collapsed": true,
        "colab": {
          "base_uri": "https://localhost:8080/",
          "height": 54
        },
        "outputId": "c1b0d0ee-5aa6-4072-e870-a1f8688a6050"
      },
      "execution_count": 173,
      "outputs": [
        {
          "output_type": "display_data",
          "data": {
            "text/plain": [
              "<IPython.core.display.HTML object>"
            ],
            "text/html": [
              "<a style=\"font-size: 30px\" download=\"full_prelim_schedule.pdf\" href=\"data:application/pdf;base64,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\">Click to download PDF of full schedule.</a>"
            ]
          },
          "metadata": {}
        }
      ]
    },
    {
      "cell_type": "code",
      "source": [
        "# Diplay a download button:\n",
        "display(HTML(f'<a style=\"font-size: 30px\" download=\"prelim_individual_team_schedules.pdf\" href=\"data:application/pdf;base64,{prelim_individual_team_schedules}\">Click to download PDF of individual team schedules.</a>'))"
      ],
      "metadata": {
        "collapsed": true,
        "id": "EsFqwdMJQDam",
        "colab": {
          "base_uri": "https://localhost:8080/",
          "height": 54
        },
        "outputId": "b525aa5a-6420-4b88-8b7a-31125f216897"
      },
      "execution_count": 174,
      "outputs": [
        {
          "output_type": "display_data",
          "data": {
            "text/plain": [
              "<IPython.core.display.HTML object>"
            ],
            "text/html": [
              "<a style=\"font-size: 30px\" download=\"prelim_individual_team_schedules.pdf\" href=\"data:application/pdf;base64,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\">Click to download PDF of individual team schedules.</a>"
            ]
          },
          "metadata": {}
        }
      ]
    },
    {
      "cell_type": "code",
      "source": [
        "# Diplay a download button:\n",
        "display(HTML(f'<a style=\"font-size: 30px\" download=\"prelim_individual_room_schedules.pdf\" href=\"data:application/pdf;base64,{prelim_individual_room_schedules}\">Click to download PDF of individual room schedules.</a>'))"
      ],
      "metadata": {
        "id": "o_Ny_J3AaYq0",
        "colab": {
          "base_uri": "https://localhost:8080/",
          "height": 54
        },
        "outputId": "f40ea905-1ff2-41ea-cfd9-d227be630500"
      },
      "execution_count": 175,
      "outputs": [
        {
          "output_type": "display_data",
          "data": {
            "text/plain": [
              "<IPython.core.display.HTML object>"
            ],
            "text/html": [
              "<a style=\"font-size: 30px\" download=\"prelim_individual_room_schedules.pdf\" href=\"data:application/pdf;base64,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\">Click to download PDF of individual room schedules.</a>"
            ]
          },
          "metadata": {}
        }
      ]
    },
    {
      "cell_type": "code",
      "source": [
        "stop here"
      ],
      "metadata": {
        "collapsed": true,
        "id": "VNcIYjguqvFB",
        "colab": {
          "base_uri": "https://localhost:8080/",
          "height": 131
        },
        "outputId": "9096bab0-004e-4347-ae2c-99554411407e"
      },
      "execution_count": 176,
      "outputs": [
        {
          "output_type": "error",
          "ename": "SyntaxError",
          "evalue": "ignored",
          "traceback": [
            "\u001b[0;36m  File \u001b[0;32m\"<ipython-input-176-a96ba3aab008>\"\u001b[0;36m, line \u001b[0;32m1\u001b[0m\n\u001b[0;31m    stop here\u001b[0m\n\u001b[0m         ^\u001b[0m\n\u001b[0;31mSyntaxError\u001b[0m\u001b[0;31m:\u001b[0m invalid syntax\n"
          ]
        }
      ]
    },
    {
      "cell_type": "markdown",
      "source": [
        "# Prelim Analysis"
      ],
      "metadata": {
        "id": "iKG1VUXVdJTn"
      }
    },
    {
      "cell_type": "markdown",
      "source": [
        "# Playoff Scheduler"
      ],
      "metadata": {
        "id": "_YfbhDePdJTn"
      }
    },
    {
      "cell_type": "markdown",
      "source": [
        "# Playoff PDF Writer"
      ],
      "metadata": {
        "id": "eexAPF__dJTn"
      }
    },
    {
      "cell_type": "markdown",
      "source": [
        "# Superplayoff Scheduler"
      ],
      "metadata": {
        "id": "Qb5McvXKdPxF"
      }
    },
    {
      "cell_type": "markdown",
      "source": [
        "# Superplayoff PDF Writer "
      ],
      "metadata": {
        "id": "--DoUNDedPuN"
      }
    },
    {
      "cell_type": "markdown",
      "source": [
        "# NSC Scheduler"
      ],
      "metadata": {
        "id": "b3l5IrdtdrTf"
      }
    },
    {
      "cell_type": "markdown",
      "source": [
        "# *** Workspace below this point ***"
      ],
      "metadata": {
        "id": "qagHkeo1VeeJ"
      }
    },
    {
      "cell_type": "markdown",
      "source": [
        "\n",
        "\n",
        "---\n",
        "\n"
      ],
      "metadata": {
        "id": "_k8_duRuVhG4"
      }
    },
    {
      "cell_type": "markdown",
      "source": [
        "# Importing csv files from Github\n",
        "This will be useful later when grabbing templates for the scheduling functions.\n",
        "\n",
        "For more info on loading external files into Colabs, see [this article](https://towardsdatascience.com/7-ways-to-load-external-data-into-google-colab-7ba73e7d5fc7)."
      ],
      "metadata": {
        "id": "rLwWCJ3lixKD"
      }
    },
    {
      "cell_type": "code",
      "source": [
        "filename = 'templates/rr_schedules/rr_10.xlsx'\n",
        "\n",
        "df = pd.read_csv('https://raw.githubusercontent.com/victorprieto2265/cornerstone/main/archive/brackets.csv')\n",
        "\n",
        "# get_all_values gives a list of rows.\n",
        "print(df)"
      ],
      "metadata": {
        "id": "-Wd7s6KAj9it"
      },
      "execution_count": null,
      "outputs": []
    },
    {
      "cell_type": "markdown",
      "source": [
        "What about uploading excel files? Will that work?"
      ],
      "metadata": {
        "id": "8iW6m7Oz0w52"
      }
    },
    {
      "cell_type": "code",
      "source": [
        "url = \"https://github.com/victorprieto2265/cornerstone/blob/main/templates/rr_schedules/rr_templates.xlsx?raw=true\"\n",
        "db=pd.read_excel(url, sheet_name=None)\n",
        "\n",
        "print(type(db))\n",
        "print(db.keys())"
      ],
      "metadata": {
        "id": "Kd83cUbR00zf"
      },
      "execution_count": null,
      "outputs": []
    }
  ]
}