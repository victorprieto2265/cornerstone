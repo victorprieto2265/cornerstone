{
  "nbformat": 4,
  "nbformat_minor": 0,
  "metadata": {
    "colab": {
      "provenance": [],
      "authorship_tag": "ABX9TyP3MWwIhu2IPfOiha9ADgck",
      "include_colab_link": true
    },
    "kernelspec": {
      "name": "python3",
      "display_name": "Python 3"
    },
    "language_info": {
      "name": "python"
    }
  },
  "cells": [
    {
      "cell_type": "markdown",
      "metadata": {
        "id": "view-in-github",
        "colab_type": "text"
      },
      "source": [
        "<a href=\"https://colab.research.google.com/github/victorprieto2265/cornerstone/blob/main/Cornerstone.ipynb\" target=\"_parent\"><img src=\"https://colab.research.google.com/assets/colab-badge.svg\" alt=\"Open In Colab\"/></a>"
      ]
    },
    {
      "cell_type": "markdown",
      "source": [
        "# TODO + RFE\n",
        "\n"
      ],
      "metadata": {
        "id": "IwJ6m76Ee1va"
      }
    },
    {
      "cell_type": "markdown",
      "source": [
        "TODO\n",
        "\n",
        "* Fix import problem again... I'm uploading the playoffs data file but it keeps seeing only the prelims one...\n",
        " * update: the cause of this bug was discovered - cornerstone will only use the first uploaded file even if additional spreadsheets with the same name are uploaded, it ignores the copy. The manual workaround is to delete the first original copy if changes are made.\n",
        "* Import computer modern typeface for use (consider open sans or interstate as an alternative).\n",
        "* Detect and split up tables that run over multiple pages (likely documents other than individual schedules for any 32+ team tournaments).\n",
        "* Qr_toggle keeps returning as false despite being updated differently in prelims_input, can't figure out the github new file issue!\n",
        "* Write new error check for duplicates and length limits. The old one is currently commented out.\n",
        "* There's an encoding problem for text: FPDF2 only accepts Latin-1, and I don't know enough around encoding except to tell users not to use anything outside Latin-1. Notably, an em dash and an ellipsis character will cause an encoding problem (the latter is what led me to identify this problem). This could affect all text inputs anywhere, not just individual text schedule inputs.\n",
        "* Finish the crossover templates in rr_templates.xlsx at some point. Right now crossovers are kind of a mess.\n",
        "* related: mixed crossover formats (e.g. 16 teams into 6/6/4 crossover) doesn't work at all right now without manual input. Figure out a workaround based on schedule code two!\n",
        "\n",
        "RFE\n",
        "\n",
        "* Someone has pointed out 3-letter team codes are unnecessary for everything outside of the full schedule. It's included in the team index, but not actually used in any documents other than the full schedule. After Cornerstone has been in use for some time, re-evaluate the necessity of the 3-letter code, and correspondingly the full schedule.\n",
        " * Cornerstone relies on 3-letter codes for a lot of functions. To avoid rewriting half the program, instead assign a unique short string to each team upon input - for instance, T1 through Tn would be fine.\n",
        "* In class definition for individual room schedules, add a row for score confirmation + signature.\n"
      ],
      "metadata": {
        "id": "QEwWOlwXfE0H"
      }
    },
    {
      "cell_type": "markdown",
      "source": [
        "\n",
        "# Import modules / libraries"
      ],
      "metadata": {
        "id": "LxPWT_oriuCh"
      }
    },
    {
      "cell_type": "code",
      "source": [
        "!pip install fpdf2\n",
        "!pip install qrcode\n",
        "\n",
        "import sys\n",
        "import pandas as pd\n",
        "import warnings\n",
        "warnings.simplefilter('default', DeprecationWarning)\n",
        "from fpdf import FPDF\n",
        "import fpdf\n",
        "from base64 import b64encode\n",
        "import IPython\n",
        "from IPython.display import display, HTML\n",
        "import qrcode\n",
        "import base64\n",
        "import requests\n",
        "from google.colab import files\n",
        "import pprint"
      ],
      "metadata": {
        "id": "pl18nTJ1uVlv",
        "colab": {
          "base_uri": "https://localhost:8080/"
        },
        "outputId": "7246b267-8e35-4970-90df-6f2c06350c8b"
      },
      "execution_count": 42,
      "outputs": [
        {
          "output_type": "stream",
          "name": "stdout",
          "text": [
            "Looking in indexes: https://pypi.org/simple, https://us-python.pkg.dev/colab-wheels/public/simple/\n",
            "Requirement already satisfied: fpdf2 in /usr/local/lib/python3.8/dist-packages (2.6.1)\n",
            "Requirement already satisfied: defusedxml in /usr/local/lib/python3.8/dist-packages (from fpdf2) (0.7.1)\n",
            "Requirement already satisfied: fonttools>=4.34.0 in /usr/local/lib/python3.8/dist-packages (from fpdf2) (4.38.0)\n",
            "Requirement already satisfied: Pillow!=9.2.*,>=6.2.2 in /usr/local/lib/python3.8/dist-packages (from fpdf2) (8.4.0)\n",
            "Looking in indexes: https://pypi.org/simple, https://us-python.pkg.dev/colab-wheels/public/simple/\n",
            "Requirement already satisfied: qrcode in /usr/local/lib/python3.8/dist-packages (7.4.2)\n",
            "Requirement already satisfied: pypng in /usr/local/lib/python3.8/dist-packages (from qrcode) (0.20220715.0)\n",
            "Requirement already satisfied: typing-extensions in /usr/local/lib/python3.8/dist-packages (from qrcode) (4.5.0)\n"
          ]
        }
      ]
    },
    {
      "cell_type": "markdown",
      "source": [
        "# Cornerstone Input\n",
        "\n",
        "This section imports all of the input files, except tournament format,\n",
        "which is handled by the tournament_format script.\n",
        "\n",
        "TODO uncomment sys.exit at end of this script for testing\n",
        "\n",
        "TODO figure out how to handle blank spaces and/or none in input file...\n",
        "There was an unusual error where integers were being converted to floats\n",
        "if one of the cells in a range was empty instead of string 'none'.\n",
        "\n",
        "TODO apparently bracket names (and presumably other things) are case-sensitive.\n",
        "\n",
        "TODO currently a global variable for checking for errors, which is a no no?\n"
      ],
      "metadata": {
        "id": "jaurrPCkdJTm"
      }
    },
    {
      "cell_type": "code",
      "source": [
        "error = 0\n",
        "\n",
        "# checks for duplicates and (optional) character limits\n",
        "def error_check(alist, listname, max_length=float('inf'), max_duplicates=1):\n",
        "    global error  # TODO this is apparently a no no, but works for now\n",
        "    print('\\n')\n",
        "    # duplicate checker\n",
        "    seen = {}\n",
        "    duplicates = []\n",
        "    for item in alist:\n",
        "        if item not in seen:\n",
        "            seen[item] = 1\n",
        "        else:\n",
        "            seen[item] += 1\n",
        "            if seen[item] > max_duplicates:\n",
        "                duplicates.append(' - ' + str(item))\n",
        "    if not duplicates:\n",
        "        if max_duplicates > 1:\n",
        "            print(f'No excess duplicates detected for {listname}.')\n",
        "        else:\n",
        "            print(f'No duplicates detected for {listname}.')\n",
        "    else:\n",
        "        # error = True\n",
        "        error += 1\n",
        "        print(f'\\nDuplicates detected for {listname}:')\n",
        "        print(*duplicates, sep='\\n')\n",
        "\n",
        "    # character length checker\n",
        "    long_items = [' - ' + item for item in alist if len(item) > max_length]\n",
        "    if not long_items:\n",
        "        print(f'No character lengths exceeded for {listname}.')\n",
        "    else:\n",
        "        error += 1\n",
        "        # error = True\n",
        "        print(f'Character lengths exceeded for {listname}:')\n",
        "        print(*long_items, sep='\\n')"
      ],
      "metadata": {
        "id": "Hd9MUoAjgvDO"
      },
      "execution_count": 43,
      "outputs": []
    },
    {
      "cell_type": "markdown",
      "source": [
        "Function definition: analyze sheet and generate list from pandas dataframe."
      ],
      "metadata": {
        "id": "_Jl-_l1RkTvk"
      }
    },
    {
      "cell_type": "code",
      "source": [
        "def analyze_input(sheet_name, df_dict):\n",
        "    df = df_dict[sheet_name]\n",
        "    temp_list = df.values.tolist()  # note: temp_list may be multiple lists!\n",
        "    return temp_list"
      ],
      "metadata": {
        "id": "fwaKQucMkRJT"
      },
      "execution_count": 44,
      "outputs": []
    },
    {
      "cell_type": "markdown",
      "source": [
        "---\n",
        "\n",
        "Upload the prelims_data excel spreadsheet from local computer, and create dictionary containing the sheet name and each dataframe.\n",
        "\n",
        "TODO For now, this is commented out. While testing Cornerstone as I'm porting over to Colab, I will be directly pulling the excel file from a dedicated location in github."
      ],
      "metadata": {
        "id": "QIwjrPCFjYas"
      }
    },
    {
      "cell_type": "code",
      "source": [
        "file_upload = files.upload()\n",
        "file_upload = list(file_upload.keys())[0]\n",
        "\n",
        "sheet_names = ['tournament format', 'list of teams', 'team codes',\n",
        "                'group names', 'room assignments',\n",
        "                'QR codes', 'text input']\n",
        "df_dict = pd.read_excel(file_upload,\n",
        "                               sheet_name=sheet_names)"
      ],
      "metadata": {
        "id": "xysCWCW7g83a",
        "colab": {
          "base_uri": "https://localhost:8080/",
          "height": 91
        },
        "collapsed": true,
        "outputId": "4e7ee8a5-e806-4dae-c203-6bfa9f79cb54"
      },
      "execution_count": 45,
      "outputs": [
        {
          "output_type": "display_data",
          "data": {
            "text/plain": [
              "<IPython.core.display.HTML object>"
            ],
            "text/html": [
              "\n",
              "     <input type=\"file\" id=\"files-70205842-ced9-4d64-9bdc-d9ebd2d04714\" name=\"files[]\" multiple disabled\n",
              "        style=\"border:none\" />\n",
              "     <output id=\"result-70205842-ced9-4d64-9bdc-d9ebd2d04714\">\n",
              "      Upload widget is only available when the cell has been executed in the\n",
              "      current browser session. Please rerun this cell to enable.\n",
              "      </output>\n",
              "      <script>// Copyright 2017 Google LLC\n",
              "//\n",
              "// Licensed under the Apache License, Version 2.0 (the \"License\");\n",
              "// you may not use this file except in compliance with the License.\n",
              "// You may obtain a copy of the License at\n",
              "//\n",
              "//      http://www.apache.org/licenses/LICENSE-2.0\n",
              "//\n",
              "// Unless required by applicable law or agreed to in writing, software\n",
              "// distributed under the License is distributed on an \"AS IS\" BASIS,\n",
              "// WITHOUT WARRANTIES OR CONDITIONS OF ANY KIND, either express or implied.\n",
              "// See the License for the specific language governing permissions and\n",
              "// limitations under the License.\n",
              "\n",
              "/**\n",
              " * @fileoverview Helpers for google.colab Python module.\n",
              " */\n",
              "(function(scope) {\n",
              "function span(text, styleAttributes = {}) {\n",
              "  const element = document.createElement('span');\n",
              "  element.textContent = text;\n",
              "  for (const key of Object.keys(styleAttributes)) {\n",
              "    element.style[key] = styleAttributes[key];\n",
              "  }\n",
              "  return element;\n",
              "}\n",
              "\n",
              "// Max number of bytes which will be uploaded at a time.\n",
              "const MAX_PAYLOAD_SIZE = 100 * 1024;\n",
              "\n",
              "function _uploadFiles(inputId, outputId) {\n",
              "  const steps = uploadFilesStep(inputId, outputId);\n",
              "  const outputElement = document.getElementById(outputId);\n",
              "  // Cache steps on the outputElement to make it available for the next call\n",
              "  // to uploadFilesContinue from Python.\n",
              "  outputElement.steps = steps;\n",
              "\n",
              "  return _uploadFilesContinue(outputId);\n",
              "}\n",
              "\n",
              "// This is roughly an async generator (not supported in the browser yet),\n",
              "// where there are multiple asynchronous steps and the Python side is going\n",
              "// to poll for completion of each step.\n",
              "// This uses a Promise to block the python side on completion of each step,\n",
              "// then passes the result of the previous step as the input to the next step.\n",
              "function _uploadFilesContinue(outputId) {\n",
              "  const outputElement = document.getElementById(outputId);\n",
              "  const steps = outputElement.steps;\n",
              "\n",
              "  const next = steps.next(outputElement.lastPromiseValue);\n",
              "  return Promise.resolve(next.value.promise).then((value) => {\n",
              "    // Cache the last promise value to make it available to the next\n",
              "    // step of the generator.\n",
              "    outputElement.lastPromiseValue = value;\n",
              "    return next.value.response;\n",
              "  });\n",
              "}\n",
              "\n",
              "/**\n",
              " * Generator function which is called between each async step of the upload\n",
              " * process.\n",
              " * @param {string} inputId Element ID of the input file picker element.\n",
              " * @param {string} outputId Element ID of the output display.\n",
              " * @return {!Iterable<!Object>} Iterable of next steps.\n",
              " */\n",
              "function* uploadFilesStep(inputId, outputId) {\n",
              "  const inputElement = document.getElementById(inputId);\n",
              "  inputElement.disabled = false;\n",
              "\n",
              "  const outputElement = document.getElementById(outputId);\n",
              "  outputElement.innerHTML = '';\n",
              "\n",
              "  const pickedPromise = new Promise((resolve) => {\n",
              "    inputElement.addEventListener('change', (e) => {\n",
              "      resolve(e.target.files);\n",
              "    });\n",
              "  });\n",
              "\n",
              "  const cancel = document.createElement('button');\n",
              "  inputElement.parentElement.appendChild(cancel);\n",
              "  cancel.textContent = 'Cancel upload';\n",
              "  const cancelPromise = new Promise((resolve) => {\n",
              "    cancel.onclick = () => {\n",
              "      resolve(null);\n",
              "    };\n",
              "  });\n",
              "\n",
              "  // Wait for the user to pick the files.\n",
              "  const files = yield {\n",
              "    promise: Promise.race([pickedPromise, cancelPromise]),\n",
              "    response: {\n",
              "      action: 'starting',\n",
              "    }\n",
              "  };\n",
              "\n",
              "  cancel.remove();\n",
              "\n",
              "  // Disable the input element since further picks are not allowed.\n",
              "  inputElement.disabled = true;\n",
              "\n",
              "  if (!files) {\n",
              "    return {\n",
              "      response: {\n",
              "        action: 'complete',\n",
              "      }\n",
              "    };\n",
              "  }\n",
              "\n",
              "  for (const file of files) {\n",
              "    const li = document.createElement('li');\n",
              "    li.append(span(file.name, {fontWeight: 'bold'}));\n",
              "    li.append(span(\n",
              "        `(${file.type || 'n/a'}) - ${file.size} bytes, ` +\n",
              "        `last modified: ${\n",
              "            file.lastModifiedDate ? file.lastModifiedDate.toLocaleDateString() :\n",
              "                                    'n/a'} - `));\n",
              "    const percent = span('0% done');\n",
              "    li.appendChild(percent);\n",
              "\n",
              "    outputElement.appendChild(li);\n",
              "\n",
              "    const fileDataPromise = new Promise((resolve) => {\n",
              "      const reader = new FileReader();\n",
              "      reader.onload = (e) => {\n",
              "        resolve(e.target.result);\n",
              "      };\n",
              "      reader.readAsArrayBuffer(file);\n",
              "    });\n",
              "    // Wait for the data to be ready.\n",
              "    let fileData = yield {\n",
              "      promise: fileDataPromise,\n",
              "      response: {\n",
              "        action: 'continue',\n",
              "      }\n",
              "    };\n",
              "\n",
              "    // Use a chunked sending to avoid message size limits. See b/62115660.\n",
              "    let position = 0;\n",
              "    do {\n",
              "      const length = Math.min(fileData.byteLength - position, MAX_PAYLOAD_SIZE);\n",
              "      const chunk = new Uint8Array(fileData, position, length);\n",
              "      position += length;\n",
              "\n",
              "      const base64 = btoa(String.fromCharCode.apply(null, chunk));\n",
              "      yield {\n",
              "        response: {\n",
              "          action: 'append',\n",
              "          file: file.name,\n",
              "          data: base64,\n",
              "        },\n",
              "      };\n",
              "\n",
              "      let percentDone = fileData.byteLength === 0 ?\n",
              "          100 :\n",
              "          Math.round((position / fileData.byteLength) * 100);\n",
              "      percent.textContent = `${percentDone}% done`;\n",
              "\n",
              "    } while (position < fileData.byteLength);\n",
              "  }\n",
              "\n",
              "  // All done.\n",
              "  yield {\n",
              "    response: {\n",
              "      action: 'complete',\n",
              "    }\n",
              "  };\n",
              "}\n",
              "\n",
              "scope.google = scope.google || {};\n",
              "scope.google.colab = scope.google.colab || {};\n",
              "scope.google.colab._files = {\n",
              "  _uploadFiles,\n",
              "  _uploadFilesContinue,\n",
              "};\n",
              "})(self);\n",
              "</script> "
            ]
          },
          "metadata": {}
        },
        {
          "output_type": "stream",
          "name": "stdout",
          "text": [
            "Saving playoffs_data_columbia.xlsx to playoffs_data_columbia (1).xlsx\n"
          ]
        }
      ]
    },
    {
      "cell_type": "code",
      "source": [
        "# sheet_names = ['tournament format', 'list of teams', 'team codes',\n",
        "#                 'group names', 'room assignments',\n",
        "#                 'QR codes', 'text input']\n",
        "# url = \"https://github.com/victorprieto2265/cornerstone/blob/main/data%20input/prelims_data.xlsx?raw=true\"\n",
        "# df_dict = pd.read_excel(url,\n",
        "#                                sheet_name=sheet_names)\n"
      ],
      "metadata": {
        "id": "Y1gg7KUvlGRK"
      },
      "execution_count": 46,
      "outputs": []
    },
    {
      "cell_type": "markdown",
      "source": [
        "Determine phase of the tournament based on import filename."
      ],
      "metadata": {
        "id": "Ym7NjjhXATSB"
      }
    },
    {
      "cell_type": "code",
      "source": [
        "# check to make sure filename has the correct prefix for tournament phase\n",
        "acceptable_file_prefixes = ('prelims', 'playoffs', 'super')\n",
        "if not file_upload.startswith(acceptable_file_prefixes):\n",
        "  print('\\nWARNING: filename must start with one of the following:')\n",
        "  for prefix in acceptable_file_prefixes:\n",
        "    print(prefix)\n",
        "  sys.exit()\n",
        "\n",
        "if file_upload.startswith('prelims'):\n",
        "  tournament_phase = 'prelims'\n",
        "elif file_upload.startswith('playoffs'):\n",
        "  tournament_phase = 'playoffs'\n",
        "elif file_upload.startswith('super'):\n",
        "  tournament_phase = 'superplayoffs'"
      ],
      "metadata": {
        "id": "oLibmsoU-Mv_"
      },
      "execution_count": 47,
      "outputs": []
    },
    {
      "cell_type": "markdown",
      "source": [
        "Using the analyze_input function, create a list from each tab of the spreadsheet corresponding to the relevant information (e.g. a list of room assignments). If in playoffs or superplayoffs, also create the relevant lists there."
      ],
      "metadata": {
        "id": "EvXL0iGwFMH7"
      }
    },
    {
      "cell_type": "code",
      "source": [
        "list_of_teams = analyze_input('list of teams', df_dict)\n",
        "team_codes = analyze_input('team codes', df_dict)\n",
        "room_assignments = analyze_input('room assignments', df_dict)\n",
        "qr_codelist = analyze_input('QR codes', df_dict)\n",
        "textlist = analyze_input('text input', df_dict)\n",
        "tournament_format = analyze_input('tournament format', df_dict)\n",
        "\n",
        "imported_group_names = analyze_input('group names', df_dict)"
      ],
      "metadata": {
        "id": "3CAhOiL09mfs"
      },
      "execution_count": 48,
      "outputs": []
    },
    {
      "cell_type": "markdown",
      "source": [
        "A dictionary containing general information about the tournament is also generated from the tournament_format sheet.\n",
        "\n",
        "It's necessary to convert the datetime value from excel to a more suitable string before printing."
      ],
      "metadata": {
        "id": "irPSh0zaFwLj"
      }
    },
    {
      "cell_type": "code",
      "source": [
        "format_dict = {}\n",
        "for row in tournament_format:\n",
        "    key = row[0]  # item, e.g. \"tournament name\"\n",
        "    value = row[1]  # input, e.g. \"2022 NSC\"\n",
        "    format_dict[key] = value\n",
        "\n",
        "# convert Excel datetime format to more suitable date string\n",
        "date = format_dict['tournament date'].strftime('%B %d, %Y')\n",
        "format_dict['tournament date'] = date"
      ],
      "metadata": {
        "id": "SNGO4QFRkOZ5"
      },
      "execution_count": 49,
      "outputs": []
    },
    {
      "cell_type": "markdown",
      "source": [
        "Next is the analysis section for the text and QR code inputs. Did the user turn these on? If not, these sections are skipped."
      ],
      "metadata": {
        "id": "8EDjXCXfn9Wd"
      }
    },
    {
      "cell_type": "code",
      "source": [
        "if format_dict['QR codes'] == 'Y':\n",
        "    qr_toggle = True\n",
        "\n",
        "    qr_names = [code[0] for code in qr_codelist]\n",
        "    qr_codes = [code[2] for code in qr_codelist]\n",
        "    qr_captions = [code[3] for code in qr_codelist]\n",
        "\n",
        "else:\n",
        "    qr_toggle = False\n",
        "    qr_codes = False\n",
        "    qr_captions = False\n",
        "\n",
        "if format_dict['text'] == 'Y':\n",
        "    text_toggle = True\n",
        "    texts = [text[1] for text in textlist]\n",
        "\n",
        "else:\n",
        "    text_toggle = False\n",
        "    texts = False"
      ],
      "metadata": {
        "id": "cZ3mT363oBcD"
      },
      "execution_count": 50,
      "outputs": []
    },
    {
      "cell_type": "markdown",
      "source": [
        "More dictionary creation here: this time, for team names and team codes.\n",
        "\n",
        "RFE get rid of team codes if the user is okay with foregoing the full team schedule in favor of individual team schedules."
      ],
      "metadata": {
        "id": "ozsWkM-bHtSP"
      }
    },
    {
      "cell_type": "code",
      "source": [
        "# key is team name\n",
        "# value is team code\n",
        "# also created a dictionary where the key/value pairs are swapped\n",
        "team_code_dict = {}\n",
        "code_team_dict = {}\n",
        "for row in team_codes:\n",
        "    team_name = row[0]\n",
        "    team_code = row[1]\n",
        "    team_code_dict[team_name] = team_code\n",
        "    code_team_dict[team_code] = team_name\n",
        "\n",
        "# key is prelim group and a number (i.e. Accra1)\n",
        "# value is corresponding room (i.e. Grand Ballroom A is Accra1)\n",
        "# also created dictionary where key is a playoff bracket instead\n",
        "prelim_room_dict = {}\n",
        "playoff_room_dict = {}\n",
        "super_room_dict = {}\n",
        "for i in room_assignments:\n",
        "    key = i[1] + str(i[2])\n",
        "    value = i[0]\n",
        "    if tournament_phase == 'prelims':\n",
        "        prelim_room_dict[key] = value\n",
        "    elif tournament_phase == 'playoffs':\n",
        "        playoff_room_dict[key] = value\n",
        "    elif tournament_phase == 'superplayoffs':\n",
        "        super_room_dict[key] = value"
      ],
      "metadata": {
        "id": "zCCyM_MCg-H0"
      },
      "execution_count": 51,
      "outputs": []
    },
    {
      "cell_type": "markdown",
      "source": [
        "Last is the error check section, to see if any of the data submitted by the user was improperly formatted.\n",
        "\n",
        "TODO this whole section needs to be updated... And perhaps error checks should be distributed elsewhere in the program. It's not working well."
      ],
      "metadata": {
        "id": "dKTcWKPmHfV8"
      }
    },
    {
      "cell_type": "code",
      "source": [
        "# TODO modify max_duplicates to be flexible on schedule and not hard coded\n",
        "# or perhaps get rid of max duplicates since it doesn't make a lot of sense\n",
        "\n",
        "# error_check([sublist[0] for sublist in list_of_teams],\n",
        "#             'the team names in list_of_teams',\n",
        "#             max_length=26)\n",
        "\n",
        "# error_check([sublist[2] for sublist in list_of_teams],\n",
        "#             'the prelim groups in list_of_teams',\n",
        "#             max_length=15,\n",
        "#             )\n",
        "\n",
        "# error_check([sublist[1] for sublist in team_codes],\n",
        "#             'the team codes in team_codes',\n",
        "#             max_length=4)\n",
        "\n",
        "# try:\n",
        "#     error_check(prelim_group_names,\n",
        "#                 'the groups in prelim_group_names',\n",
        "#                 max_length=15)\n",
        "# except:  # TODO bare except\n",
        "#     None\n",
        "\n",
        "# try:\n",
        "#     error_check(playoff_bracket_names,\n",
        "#                 'the brackets in playoff_bracket_names',\n",
        "#                 max_length=15)\n",
        "# except:  # TODO bare except\n",
        "#     None\n",
        "\n",
        "# error_check([sublist[0] for sublist in room_assignments],\n",
        "#             'the list of rooms in room_assignments',\n",
        "#             max_length=15)\n",
        "\n",
        "if error == 0:\n",
        "    print('\\n*** No errors detected upon import. ***')\n",
        "else:\n",
        "    print('\\n*** Errors detected during import! ***')\n",
        "    sys.exit()"
      ],
      "metadata": {
        "id": "DhUxZUHJHehk",
        "collapsed": true,
        "colab": {
          "base_uri": "https://localhost:8080/"
        },
        "outputId": "1ec4cfc1-6fb7-4ff0-c9d4-12fe31c4cf22"
      },
      "execution_count": 52,
      "outputs": [
        {
          "output_type": "stream",
          "name": "stdout",
          "text": [
            "\n",
            "*** No errors detected upon import. ***\n"
          ]
        }
      ]
    },
    {
      "cell_type": "markdown",
      "source": [
        "# Function Definitions"
      ],
      "metadata": {
        "id": "owcZyEiJdJTm"
      }
    },
    {
      "cell_type": "markdown",
      "source": [
        "Functions for removing duplicates and NaN values from a list."
      ],
      "metadata": {
        "id": "uQuJVhmyA3CC"
      }
    },
    {
      "cell_type": "code",
      "source": [
        "def remove_duplicates(alist):\n",
        "    newlist = []\n",
        "    [newlist.append(x) for x in alist if x not in newlist]\n",
        "    return newlist\n",
        "\n",
        "def remove_NaN(alist):\n",
        "  return [x for x in alist if str(x) != 'nan']"
      ],
      "metadata": {
        "id": "a81URiBdA7G8"
      },
      "execution_count": 53,
      "outputs": []
    },
    {
      "cell_type": "markdown",
      "source": [
        "Functions for reading playoff codes 1 and 2 and returning the correctly sorted list of teams."
      ],
      "metadata": {
        "id": "aoLv-Ht2TI1C"
      }
    },
    {
      "cell_type": "code",
      "source": [
        "def code_1_scheduler(teamlist, code):\n",
        "  code_1 = code.split(',')\n",
        "  newlist = []\n",
        "  for i in code_1:\n",
        "    newlist.append(teamlist[int(i)-1])\n",
        "  return newlist\n",
        "\n",
        "\n",
        "def code_2_scheduler(teamlist, code):\n",
        "  code_2 = code.split(',')\n",
        "  code_3 = []\n",
        "  for i in code_2:\n",
        "    if i.endswith('A') or i.endswith('B'):\n",
        "      code_3.append(int(i[:-1]))  # integer of string without last character\n",
        "    else:\n",
        "      code_3.append(int(i))\n",
        "\n",
        "  newlist = []\n",
        "  for index, element in enumerate(code_3):\n",
        "    slice1 = sum(code_3[0:index])\n",
        "    slice2 = slice1 + element\n",
        "    newlist.append(teamlist[slice1:slice2])\n",
        "\n",
        "  return code_2, newlist"
      ],
      "metadata": {
        "id": "tw-A9wJmTJYr"
      },
      "execution_count": 54,
      "outputs": []
    },
    {
      "cell_type": "markdown",
      "source": [
        "\n",
        "Visual debugging this program often requires visualization of tables. This function is a quick way of displaying pretty tables."
      ],
      "metadata": {
        "id": "LjsKCcri1v-C"
      }
    },
    {
      "cell_type": "code",
      "source": [
        "def visual_debugger(table):\n",
        "  # Create texttable object\n",
        "  tableObj = texttable.Texttable(max_width=250)\n",
        "\n",
        "  # Set columns\n",
        "  tableObj.set_cols_align([\"l\", \"r\", \"c\"])\n",
        "\n",
        "  # Set datatype of each column\n",
        "  tableObj.set_cols_dtype([\"a\", \"i\", \"t\"])\n",
        "\n",
        "  # Adjust columns\n",
        "  tableObj.set_cols_valign([\"t\", \"m\", \"b\"])\n",
        "  # col_widths = [5 for col in table[0]]\n",
        "  # print(col_widths)\n",
        "  # tableObj.set_cols_width(col_widths)\n",
        "\n",
        "  # Insert rows\n",
        "  tableObj.add_rows(table)\n",
        "\n",
        "  # Display table\n",
        "  print(tableObj.draw())\n"
      ],
      "metadata": {
        "id": "81Nm4sRF15oi"
      },
      "execution_count": 55,
      "outputs": []
    },
    {
      "cell_type": "markdown",
      "source": [
        "original function_definitions.py"
      ],
      "metadata": {
        "id": "EUZolcmPAy4y"
      }
    },
    {
      "cell_type": "code",
      "source": [
        "# import time\n",
        "# import sys\n",
        "# from pathlib import Path\n",
        "# from pylatex import (Document, Tabularx, Command,\n",
        "#                       NewPage, HugeText, Package,\n",
        "#                      VerticalSpace)\n",
        "# from pylatex.utils import NoEscape\n",
        "# from cornerstone_input import format_dict\n",
        "\n",
        "# # place additional modules here\n",
        "\n",
        "# header = \"\"\"\n",
        "\n",
        "# Depository for a bunch of class and function definitions shared across\n",
        "# prelim/playoff scripts.\n",
        "\n",
        "# TODO what if snake seed is fed a list with odd number of teams?\n",
        "\n",
        "# TODO what if qr_count ≠ 3?\n",
        "\n",
        "# Created on Mon Nov 1 13:53:44 2021 Eastern Time\n",
        "\n",
        "# @author: Victor Prieto\n",
        "\n",
        "# \"\"\"\n",
        "\n",
        "\n",
        "# # starts program runtime\n",
        "# start_time = time.time()\n",
        "# print('\\n', header)\n",
        "# print('start time: %s' % time.ctime())\n",
        "\n",
        "# # %% function definitions\n",
        "\n",
        "\n",
        "\n",
        "\n",
        "\n",
        "# def split_list(alist, wanted_parts=1):\n",
        "#     length = len(alist)\n",
        "#     return [alist[i*length // wanted_parts: (i+1)*length // wanted_parts]\n",
        "#             for i in range(wanted_parts)]\n",
        "\n",
        "\n",
        "# def snake_seed(list_of_teams, bracket_count):\n",
        "#     \"\"\"\n",
        "#     Parameters\n",
        "#     ----------\n",
        "#     list_of_teams : list\n",
        "#         A list of teams for reordering into playoff brackets by snake seeding.\n",
        "#     bracket_count : int\n",
        "#         Number of playoff brackets to snake seed across.\n",
        "\n",
        "#     Returns\n",
        "#     -------\n",
        "#     newlist : list\n",
        "#         Same list of teams accepted as input, but reordered by snake seeding.\n",
        "#         The list is also split into the number of playoff brackets.\n",
        "#         Example:\n",
        "#             (1, 2, 3, 4... 23, 24)\n",
        "#             snake seeded across four brackets becomes\n",
        "#             ((1, 8, 9, 16, 17, 24), (2, 7, 10, 15, 18... 12, 13, 20, 21))\n",
        "\n",
        "#     \"\"\"\n",
        "\n",
        "#     # generates sequence of indices for snake seeding\n",
        "#     sequence_length = 2 * bracket_count\n",
        "#     reps = len(list_of_teams) / sequence_length\n",
        "#     sequence = []\n",
        "#     for i in range(0, int(sequence_length/2)):\n",
        "#         for j in range(0, int(reps)):\n",
        "#             sequence.append(i+j*sequence_length)\n",
        "#             sequence.append((sequence_length-1-i)+j*sequence_length)\n",
        "\n",
        "#     # quits program if odd number of teams in list_of_teams\n",
        "#     if (len(list_of_teams)) % 2 == 1:\n",
        "#         print('ODD NUMBER OF TEAMS DETECTED')\n",
        "#         sys.exit()\n",
        "\n",
        "#     # use sequence of indices to generate new list of teams\n",
        "#     newlist = (list_of_teams[index] for index in sequence)\n",
        "#     return newlist\n",
        "\n",
        "\n",
        "# def alternating_rows(doc, color):\n",
        "#     return doc.append(NoEscape(r'\\rowcolors{3}{white}{%s}' % color))\n",
        "\n",
        "\n",
        "# def duplicate_checker(alist):\n",
        "#     seen = set()\n",
        "#     for x in alist:\n",
        "#         if x in seen:\n",
        "#             return True\n",
        "#         seen.add(x)\n",
        "#     return False\n",
        "\n",
        "\n",
        "# # %% classes, mostly not in use\n",
        "# # TODO figure out class inheritance for team/prelim_team/playoff_team\n",
        "# class team:\n",
        "#     def __init__(self,\n",
        "#                  name,\n",
        "#                  code):\n",
        "#         self.name = name\n",
        "#         self.code = code\n",
        "\n",
        "\n",
        "# class prelim_team(team):\n",
        "#     def __init__(self,\n",
        "#                  name,\n",
        "#                  code,\n",
        "#                  prelim_group,\n",
        "#                  prelim_seed):\n",
        "#         super().__init__(name, code)\n",
        "#         self.prelim_group = prelim_group\n",
        "#         self.prelim_seed = prelim_seed\n",
        "\n",
        "\n",
        "# class playoff_team():\n",
        "#     def __init__(self,\n",
        "#                  name,\n",
        "#                  code,\n",
        "#                  prelim_group,\n",
        "#                  playoff_bracket,\n",
        "#                  playoff_seed):  # playoff seed also the prelim finish\n",
        "#         self.name = name\n",
        "#         self.code = code\n",
        "#         self.prelim_group = prelim_group\n",
        "#         self.playoff_bracket = playoff_bracket\n",
        "#         self.playoff_seed = playoff_seed\n",
        "\n",
        "\n",
        "\n",
        "# # %% prints runtime\n",
        "# print('end time: %s' % time.ctime())\n",
        "# print(\"--- %s seconds ---\" % '%.3f' % (time.time() - start_time))\n",
        "# print(\"--- %s minutes ---\" % '%.3f' % (time.time()/60 - start_time/60))"
      ],
      "metadata": {
        "id": "83PLhfS0ArVn"
      },
      "execution_count": 56,
      "outputs": []
    },
    {
      "cell_type": "markdown",
      "source": [
        "# Standard Scheduler Function\n",
        "\n",
        "Created on Mon Nov 22 2021\n",
        "\n",
        "Definition of functions used for creating a table for a round robin schedule,\n",
        "between 4 and 14 teams.\n",
        "\n",
        "TODO if possible, fix pylatex table lines and shading in this function"
      ],
      "metadata": {
        "id": "GEJoeZNfdPrN"
      }
    },
    {
      "cell_type": "markdown",
      "source": [
        "First: retrieve the round robin templates stored on the cornerstone github page. The templates will automatically populate a dictionary.\n",
        "\n",
        "Each key is the name of the sheet corresponding to the round robin template: rr_6 is a basic 6 team round robin, rr_12 is for 12 teams, rr_crossover_A8 is the 8 team playoff roundrobin including crossovers (there are two possible crossovers, A and B, based on [Dwight Wynne's spreadsheet of schedule formats](https://https://docs.google.com/spreadsheets/d/1BPF6jFvhkh5qe7eesGFGU9KH6FVps2tS3YeseFocpIE/edit#gid=16)).\n",
        "\n",
        "The dictionary values are the pandas dataframes for each template.\n",
        "\n",
        "These templates will be used in the standard scheduler function and retrieved based on the key name."
      ],
      "metadata": {
        "id": "Q__BsPTWAtPh"
      }
    },
    {
      "cell_type": "code",
      "source": [
        "url = \"https://github.com/victorprieto2265/cornerstone/blob/main/templates/rr_schedules/rr_templates.xlsx?raw=true\"\n",
        "rr_template_dict = pd.read_excel(url,\n",
        "                                 sheet_name = None)"
      ],
      "metadata": {
        "id": "7FtnKegkiJUy",
        "collapsed": true
      },
      "execution_count": 57,
      "outputs": []
    },
    {
      "cell_type": "markdown",
      "source": [
        "Definition of the standard scheduler function is below."
      ],
      "metadata": {
        "id": "rLOCcNtEFpce"
      }
    },
    {
      "cell_type": "code",
      "source": [
        "def standard_schedule(group_name, teamcode_dict, room_dict, roundstart=1,\n",
        "                      multiple_rr=1, crossover=False, superplayoff=False):\n",
        "    \"\"\"\n",
        "\n",
        "\n",
        "    Parameters\n",
        "    ----------\n",
        "    groupname : string\n",
        "        String of the prelim group or playoff bracket name.\n",
        "        Example: Lilongwe\n",
        "    teamcode_dict : dict\n",
        "        k : v = a group/bracket code : teamcode corresponding to that code\n",
        "        example: Lilongwe4 = MBA\n",
        "    room_dict : dict\n",
        "        k : v = a group/bracket code : room corresponding to that code\n",
        "        example: Lilongwe2 = Suite 1132\n",
        "    roundstart : int, optional\n",
        "        Number for the first round in the schedule. The default is 1.\n",
        "\n",
        "    Returns\n",
        "    -------\n",
        "    schedule_grid : list\n",
        "        Latex-friendly table. First row = table header, remaining rows =\n",
        "        schedule for each round.\n",
        "\n",
        "    \"\"\"\n",
        "\n",
        "    # produce teamlist\n",
        "    teamlist = [k for k, v in list(teamcode_dict.items())\n",
        "                if k.startswith(group_name)]\n",
        "    sorted_list = sorted(teamlist)\n",
        "    teamlist = [teamcode_dict[i] for i in sorted_list]\n",
        "\n",
        "    # identify number of teams in teamlist and appropriate number of rooms\n",
        "    teamcount = len(teamlist)\n",
        "    roomcount = teamcount // 2\n",
        "\n",
        "    if teamcount <= 2:\n",
        "      print('Unable to produce round robins smaller than 3.')\n",
        "      sys.exit()\n",
        "\n",
        "    if teamcount >= 15:\n",
        "      print('Unable to produce round robins larger than 14.')\n",
        "      sys.exit()\n",
        "\n",
        "    # retrieve correct rr_template from rr_template_dict\n",
        "    if multiple_rr >= 2 or not isinstance(multiple_rr, int):\n",
        "      key = f'rr_{teamcount}_{multiple_rr}x'\n",
        "    elif crossover is False:\n",
        "      key = f'rr_{teamcount}'\n",
        "    else:\n",
        "      crossover_format = crossover[-1]  # either A or B crossover format\n",
        "      key = f'rr_crossover_{crossover_format}{teamcount}'\n",
        "    \n",
        "    try:\n",
        "      rr_schedule = rr_template_dict[key].values.tolist()\n",
        "    except KeyError:\n",
        "      print('Warning! Round robin template not found. Please check your '\n",
        "            + 'input and try again.')\n",
        "      sys.exit()\n",
        "    \n",
        "\n",
        "    # produce roomlist\n",
        "    roomlist = [k for k, v in list(room_dict.items())\n",
        "                if k.startswith(group_name)]\n",
        "    roomlist = [room_dict[i] for i in sorted(roomlist)]\n",
        "\n",
        "    # populate header with room names\n",
        "    rooms = []\n",
        "    header = ['']\n",
        "    for index in range(roomcount):\n",
        "        room = roomlist[index]\n",
        "        header.append(room)\n",
        "\n",
        "    # the last element in the header should be BYE if teamcount is odd\n",
        "    if teamcount % 2 == 1:\n",
        "        header.append('BYE')\n",
        "\n",
        "    # use rr_schedule template and roundstart to produce rest of schedule grid\n",
        "    schedule_grid = [header]\n",
        "    for round_num, row in enumerate(rr_schedule):\n",
        "        round_num += roundstart\n",
        "        new_row = [f'Round {round_num}']\n",
        "        for index in row:\n",
        "            code = group_name + str(index)\n",
        "            team = teamcode_dict[code]\n",
        "            new_row.append(team)\n",
        "        schedule_grid.append(new_row)\n",
        "\n",
        "    return schedule_grid"
      ],
      "metadata": {
        "id": "ae4F4oNdCba6"
      },
      "execution_count": 107,
      "outputs": []
    },
    {
      "cell_type": "markdown",
      "source": [
        "# Individual Schedule Functions "
      ],
      "metadata": {
        "id": "5n9ob-8odPkM"
      }
    },
    {
      "cell_type": "markdown",
      "source": [
        "This section contains the functions that extract individual team and room schedules from a schedule grid.\n",
        "\n",
        "Use get_team_list() and get_room_list() to generate a list of teams and a list of rooms from a schedule grid."
      ],
      "metadata": {
        "id": "wS0ljqoELnJq"
      }
    },
    {
      "cell_type": "code",
      "source": [
        "def get_team_list(schedule_grid):\n",
        "    team_list = sorted(schedule_grid[1][1:])\n",
        "    return team_list\n",
        "\n",
        "\n",
        "def get_room_list(schedule_grid):\n",
        "    # remove first element in header, which should be an empty string\n",
        "    header = schedule_grid[0][1:]\n",
        "    \n",
        "    # retrieve room list\n",
        "    room_list = [i for i in header]\n",
        "    if 'BYE' in header:\n",
        "        room_list[-1] = 'BYE'\n",
        "    return room_list"
      ],
      "metadata": {
        "id": "WPJyVdz1Ltml"
      },
      "execution_count": 59,
      "outputs": []
    },
    {
      "cell_type": "markdown",
      "source": [
        "For a given team in a given round, what team do they play and where? Use find_opponent().\n"
      ],
      "metadata": {
        "id": "a7OD0aUxL8W9"
      }
    },
    {
      "cell_type": "code",
      "source": [
        "def find_opponent(team, row, room_list, code_dict):\n",
        "    index = row.index(team)\n",
        "    room = room_list[index]\n",
        "    if row[-1] == team and room_list[-1] == 'BYE':\n",
        "        opponent = 'BYE'\n",
        "    elif index % 2 == 0:\n",
        "        opponent_code = row[index+1]\n",
        "        opponent = code_dict[opponent_code]\n",
        "    else:\n",
        "        opponent_code = row[index-1]\n",
        "        opponent = code_dict[opponent_code]\n",
        "    return room, opponent"
      ],
      "metadata": {
        "id": "KJH6zps2NyoC"
      },
      "execution_count": 60,
      "outputs": []
    },
    {
      "cell_type": "markdown",
      "source": [
        "what teams are in a room at a given round?"
      ],
      "metadata": {
        "id": "7UtVnnn7N2ei"
      }
    },
    {
      "cell_type": "code",
      "source": [
        "def find_teams(row, room, roomlist, code_dict):\n",
        "    index = roomlist.index(room)\n",
        "    teams = row[2*index:2*index+2]\n",
        "    teams = [*map(code_dict.get, teams)]\n",
        "    return sorted(teams)  # alphabetically sorts teams"
      ],
      "metadata": {
        "id": "BqybAya0N24c"
      },
      "execution_count": 61,
      "outputs": []
    },
    {
      "cell_type": "markdown",
      "source": [
        "The clean_up_grid function is sometimes used to remove the header row (room list) and the round number column on the left."
      ],
      "metadata": {
        "id": "uU0U0j32OBUN"
      }
    },
    {
      "cell_type": "code",
      "source": [
        "def clean_up_grid(schedule_grid):\n",
        "    no_header = schedule_grid[1:]\n",
        "    basic_schedule_grid = []\n",
        "    for index, row in enumerate(no_header):\n",
        "        basic_schedule_grid.append(row[1:])\n",
        "\n",
        "    return basic_schedule_grid"
      ],
      "metadata": {
        "id": "kBKx4V4WN98S"
      },
      "execution_count": 62,
      "outputs": []
    },
    {
      "cell_type": "markdown",
      "source": [
        "The specific_team_scheduler function is the key for generating a schedule grid for a single team."
      ],
      "metadata": {
        "id": "cNyCExgmOLlu"
      }
    },
    {
      "cell_type": "code",
      "source": [
        "def specific_team_scheduler(team, schedule_grid, room_list, code_dict,\n",
        "                            round_start=1):\n",
        "    \n",
        "    # generate room_list with duplicated values\n",
        "    # need this for finding an opponent at a particular index\n",
        "    dup_room_list = [room for room in room_list for _ in (0, 1)]\n",
        "\n",
        "    # how many rounds in the grid?\n",
        "    rounds = len(schedule_grid)\n",
        "\n",
        "    specific_grid = [['', 'Room Name', 'Opponent']]\n",
        "    for i in range(0, rounds):\n",
        "        room, opponent = find_opponent(team,\n",
        "                                       schedule_grid[i],\n",
        "                                       dup_room_list,\n",
        "                                       code_dict)\n",
        "\n",
        "        specific_grid.append([f'Round {round_start+i}', room, opponent])\n",
        "\n",
        "    return specific_grid"
      ],
      "metadata": {
        "id": "Ap0lkVL1OOKM"
      },
      "execution_count": 63,
      "outputs": []
    },
    {
      "cell_type": "markdown",
      "source": [
        "Like specific_team_scheduler(), specific_room_scheduler is the key for generating the schedule for an individual room."
      ],
      "metadata": {
        "id": "kD6q752_O-jC"
      }
    },
    {
      "cell_type": "code",
      "source": [
        "def specific_room_scheduler(room, schedule_grid, room_list,\n",
        "                            code_dict, round_start=1):\n",
        "\n",
        "    specific_grid = [['', 'Team 1', 'Team 2']]\n",
        "    for index, row in enumerate(basic_schedule_grid):\n",
        "        teams = find_teams(row, room, room_list, code_dict)\n",
        "        if room == 'BYE':\n",
        "            return 'BYE'\n",
        "        specific_grid.append([f'Round {round_start+index}',\n",
        "                              teams[0], teams[1]])\n",
        "\n",
        "    return specific_grid"
      ],
      "metadata": {
        "id": "xfuyEiYnPG1p"
      },
      "execution_count": 64,
      "outputs": []
    },
    {
      "cell_type": "markdown",
      "source": [
        "# Class Definitions for fpdf2"
      ],
      "metadata": {
        "id": "A5Qp8Ae2cA7Z"
      }
    },
    {
      "cell_type": "markdown",
      "source": [
        "There are five types of tables that Cornerstone will need to generate:\n",
        "*  the full schedule\n",
        "*  the individualized team schedule\n",
        "*  the individualized room schedule\n",
        "*  the team index (includes toggle for prelims/playoffs/superplayoffs)\n",
        "*  the playoff quickstart schedule (first playoff room for all teams)\n",
        "\n",
        "The last one will not be needed for the prelim writer, but will be necessary for playoffs (and superplayoffs if needed).\n",
        "\n",
        "For all of these tables, we will create a unique class via fpdf2 for writing the table onto a PDF. These five classes are at the bottom of this section. First, we will define a few templates used across the printed documents:\n",
        "\n",
        "*  the title page\n",
        "*  the header\n",
        "*  the footer\n"
      ],
      "metadata": {
        "id": "6_mFRVFAcFY9"
      }
    },
    {
      "cell_type": "markdown",
      "source": [
        "First is the title page to start each document. A nice touch, albeit not 100% necessary and may add a toggle for this later.\n",
        "\n",
        "Important: this is the first instance of the PDF class. Therefore, the argument is FPDF, while all other later class instances have PDF instead to build on the existing class."
      ],
      "metadata": {
        "id": "580yHo0SklgX"
      }
    },
    {
      "cell_type": "code",
      "source": [
        "class PDF(FPDF):\n",
        "\n",
        "    def title_page(self, tournament_name, tournament_location, tournament_date,\n",
        "                   document_title):\n",
        "                \n",
        "        # Setting font: bold times 11, black\n",
        "        self.set_text_color(0)\n",
        "\n",
        "        # move cursor 6.2 cm down the page\n",
        "        self.set_y(62)\n",
        "\n",
        "        # write the tournament name, location, and date\n",
        "        self.set_font(\"times\", size=16)\n",
        "        self.cell(0, None, tournament_name, align=\"C\",\n",
        "                  new_x=\"LEFT\", new_y=\"NEXT\")\n",
        "        self.ln(10)  # line break\n",
        "\n",
        "        self.set_font(\"times\", size=12)\n",
        "        self.cell(0, None, tournament_location, align=\"C\")\n",
        "        self.ln(10)  # line break\n",
        "        self.cell(0, None, tournament_date, align=\"C\")\n",
        "        self.ln(45)  # line break\n",
        "\n",
        "        self.set_font(\"times\", size=24)\n",
        "        self.cell(0, None, document_title, align=\"C\")"
      ],
      "metadata": {
        "id": "N2BgXfyLkzy7"
      },
      "execution_count": 65,
      "outputs": []
    },
    {
      "cell_type": "code",
      "source": [
        "class PDF(PDF):\n",
        "\n",
        "    def page_header(self, tournament_name, tournament_date):\n",
        "                \n",
        "        # Setting font: bold times 11\n",
        "        font_size = 11\n",
        "        self.set_font(\"times\", style=\"I\", size=font_size)\n",
        "\n",
        "        # Print tournament name in upper left:\n",
        "        self.cell(None, 2, tournament_name, new_x=\"LEFT\")\n",
        "\n",
        "        # Create empty cell with bottom border (can modify for centered text)\n",
        "        self.cell(0, None, \" \", \"B\", align=\"C\")\n",
        "\n",
        "        # Print tournament date in upper right\n",
        "        self.cell(0, 2, tournament_date, align=\"R\")\n",
        "\n",
        "        # Performing a line break:\n",
        "        self.ln(20)\n",
        "\n",
        "    def page_footer(self):\n",
        "        \n",
        "        # # putting in a logo:\n",
        "        # self.image(\"../docs/fpdf2-logo.png\", 10, 8, 33)\n",
        "        \n",
        "        # Position cursor at left and 26.04 cm from bottom:\n",
        "        # self.set_y(0, 260.4)\n",
        "        self.set_y(-27)\n",
        "\n",
        "        # Setting font: times italic 11\n",
        "        font_size = 11\n",
        "        self.set_text_color(0)\n",
        "        self.set_font(\"times\", style=\"I\", size=font_size)\n",
        "        \n",
        "        # Print footer text:\n",
        "        self.cell(0, 6, \"Created by Cornerstone.\", border=\"B\", align=\"R\")\n"
      ],
      "metadata": {
        "id": "m_slBLE2dOK0"
      },
      "execution_count": 66,
      "outputs": []
    },
    {
      "cell_type": "markdown",
      "source": [
        "## Full Schedule"
      ],
      "metadata": {
        "id": "T3jjXFPX1gTK"
      }
    },
    {
      "cell_type": "markdown",
      "source": [
        "This class generates the tables used for the full schedule."
      ],
      "metadata": {
        "id": "uX138nHO9JVN"
      }
    },
    {
      "cell_type": "code",
      "source": [
        "class PDF(PDF):\n",
        "\n",
        "    def full_schedule(self, header, rows,\n",
        "                      header_color=(135, 135, 135), row_color=(210, 210, 210)):\n",
        "\n",
        "      header_count = len(header)\n",
        "      if header[-1] == 'BYE':\n",
        "        cell_count = header_count * 2 - 2\n",
        "      else:\n",
        "        cell_count = header_count * 2 - 1\n",
        "      col_width = pdf.epw / cell_count  # distribute columns evenly\n",
        "\n",
        "      header_widths = [col_width * 2] * (header_count - 1)  # populate list with col widths\n",
        "      header_widths.insert(0, col_width)\n",
        "      if header[-1] == 'BYE':\n",
        "        header_widths[-1] = col_width\n",
        "\n",
        "      cell_widths = [col_width] * cell_count\n",
        "\n",
        "      self.set_fill_color(*header_color)  # * required to unpack tuple\n",
        "      self.set_text_color(255)\n",
        "      self.set_draw_color(36, 36, 36)\n",
        "      self.set_line_width(0.3)\n",
        "      self.set_font(style=\"B\", size=14)\n",
        "      for col_width, heading in zip(header_widths, header):\n",
        "          self.cell(col_width, 8, heading, border=1, align=\"C\", fill=True)\n",
        "      self.ln()\n",
        "\n",
        "      # Color and font restoration:\n",
        "      self.set_fill_color(*row_color)  # * required to unpack tuple\n",
        "      self.set_text_color(0)\n",
        "      self.set_font_size(12)\n",
        "      fill = False\n",
        "      for row in rows:\n",
        "        for index, item in enumerate(row):          \n",
        "          if index == 0:\n",
        "            self.set_font(style=\"B\")\n",
        "          else:\n",
        "            self.set_font()\n",
        "          self.cell(cell_widths[index],\n",
        "                    7,\n",
        "                    item,\n",
        "                    border=\"LR\",\n",
        "                    align=\"C\",\n",
        "                    fill=fill)\n",
        "        self.ln()\n",
        "        fill = not fill\n",
        "\n",
        "      self.set_fill_color(*header_color)  # * required to unpack tuple\n",
        "      self.set_text_color(255)\n",
        "      self.set_draw_color(36, 36, 36)\n",
        "      self.set_line_width(0.3)\n",
        "      self.set_font(style=\"B\", size=14)\n",
        "      for col_width, heading in zip(header_widths, header):\n",
        "          self.cell(col_width, 8, heading, border=1, align=\"C\", fill=True)\n",
        "\n",
        "      self.ln(14)"
      ],
      "metadata": {
        "id": "2sXgrSqj4QQz"
      },
      "execution_count": 67,
      "outputs": []
    },
    {
      "cell_type": "markdown",
      "source": [
        "Immediately following the full schedule is the team index page(s), formerly a separate document. The class for that can be found below."
      ],
      "metadata": {
        "id": "oeaL4ET5pg30"
      }
    },
    {
      "cell_type": "code",
      "source": [
        "class PDF(PDF):\n",
        "\n",
        "    def team_index(self, list_of_teams, phase='prelims',\n",
        "                   header_color=(135, 135, 135), row_color=(210, 210, 210)):\n",
        "\n",
        "      # start table at 25.45, draw cells depending on cell widths\n",
        "      # right margin will also be 25.45\n",
        "      # EXCEPTION: prelims will have a narrower table\n",
        "      x_start = 25.45\n",
        "\n",
        "\n",
        "      rows = []\n",
        "      \n",
        "      # depending on phase: change formatting, header, and team data\n",
        "      if phase == 'prelims':\n",
        "\n",
        "        header = ['Team Name', 'Team Code', 'Prelim Group']\n",
        "        cell_widths = [60, 28, 50]\n",
        "        x_start = (215.9 - sum(cell_widths)) / 2  # 21.59 cm = 8.5 in page width\n",
        "        self.set_x(x_start)  \n",
        "\n",
        "        for team in list_of_teams:\n",
        "          team_name = team[0]\n",
        "          team_code = team_code_dict[team_name]\n",
        "          group = team[1]\n",
        "          rows.append([team_name, team_code, group])\n",
        "\n",
        "      elif phase == 'playoffs':\n",
        "\n",
        "        header = ['Team Name', 'Prelim Group', 'Finish',\n",
        "                  'PPB', 'Playoff Bracket']\n",
        "        cell_widths = [47, 35, 23.5, 12, 47]\n",
        "        x_start = (215.9 - sum(cell_widths)) / 2  # 21.59 cm = 8.5 in page width\n",
        "        self.set_x(x_start)  \n",
        "\n",
        "        for team in list_of_teams:\n",
        "          team_name = team[0]\n",
        "          team_code = team_code_dict[team_name]\n",
        "          group = team[1]\n",
        "          finish = team[2]\n",
        "          PPB = '%s' % '%.2f' % team[4]\n",
        "          playoff_bracket = team_playoff_dict[team_code][:-1]\n",
        "          rows.append([team_name, group, finish, PPB, playoff_bracket])\n",
        "\n",
        "      elif phase == 'superplayoffs':\n",
        "        header = ['Team Name', 'Playoff Bracket', 'Finish',\n",
        "                  'PPB*', 'Super-playoff Bracket', 'W-L']  # may be too long\n",
        "        cell_widths = [30, 45, 15, 15, 45, 15]\n",
        "        x_start = (215.9 - sum(cell_widths)) / 2  # 21.59 cm = 8.5 in page width\n",
        "        self.set_x(x_start)\n",
        "\n",
        "\n",
        "\n",
        "      self.set_fill_color(*header_color)  # * required to unpack tuple\n",
        "      self.set_text_color(255)\n",
        "      self.set_draw_color(36, 36, 36)\n",
        "      self.set_line_width(0.3)\n",
        "      self.set_font(style=\"B\", size=12)\n",
        "      for cell_width, heading in zip(cell_widths, header):\n",
        "          self.cell(cell_width, 8, heading, border=1, align=\"C\", fill=True)\n",
        "      self.ln()\n",
        "      self.set_x(x_start)\n",
        "\n",
        "      # Color and font restoration:\n",
        "      self.set_fill_color(*row_color)  # * required to unpack tuple\n",
        "      self.set_text_color(0)\n",
        "      self.set_font()\n",
        "      fill = False\n",
        "      if len(rows) >= 12:\n",
        "        font_size = 10\n",
        "        row_height = 6\n",
        "      else:\n",
        "        font_size = 12\n",
        "        row_height = 8\n",
        "      for row in rows:\n",
        "        for index, item in enumerate(row):       \n",
        "          self.set_font(size=font_size)\n",
        "          self.cell(cell_widths[index],\n",
        "                    row_height,\n",
        "                    str(item),\n",
        "                    border=\"LR\",\n",
        "                    align=\"C\",\n",
        "                    fill=fill)\n",
        "        fill = not fill  # I am pretty sure this is what alternates row colors!\n",
        "\n",
        "        self.ln()\n",
        "        self.set_x(x_start)\n",
        "\n",
        "      self.set_fill_color(*header_color)  # * required to unpack tuple\n",
        "      self.set_text_color(255)\n",
        "      self.set_draw_color(36, 36, 36)\n",
        "      self.set_line_width(0.3)\n",
        "      self.set_font(style=\"B\", size=12)\n",
        "      for cell_width, heading in zip(cell_widths, header):\n",
        "          self.cell(cell_width, 8, heading, border=1, align=\"C\", fill=True)\n",
        "\n",
        "      self.ln(14)"
      ],
      "metadata": {
        "id": "MqS0PC45dL6e"
      },
      "execution_count": 133,
      "outputs": []
    },
    {
      "cell_type": "markdown",
      "source": [
        "## Individual Team/Room Schedule"
      ],
      "metadata": {
        "id": "Lsvgg3XgLlT9"
      }
    },
    {
      "cell_type": "markdown",
      "source": [
        "This class is used to generate the tables for individual team and room schedules, which are nearly identical except the room schedules will have a confirmation box for team scores and signatures."
      ],
      "metadata": {
        "id": "wvG1_G3o8wDb"
      }
    },
    {
      "cell_type": "code",
      "source": [
        "class PDF(PDF):\n",
        "\n",
        "    def individual_schedule(self, header, rows, signature=False,\n",
        "                      header_color=(135, 135, 135), row_color=(210, 210, 210)):\n",
        "\n",
        "      # start table at 15.45, draw cells 33 + 66 + 66 for each column\n",
        "      # right margin will also be 15.45\n",
        "\n",
        "      self.set_x(25.45)\n",
        "      cell_widths = [33, 66, 66]\n",
        "\n",
        "      self.set_fill_color(*header_color)  # * required to unpack tuple\n",
        "      self.set_text_color(255)\n",
        "      self.set_draw_color(36, 36, 36)\n",
        "      self.set_line_width(0.3)\n",
        "      self.set_font(style=\"B\", size=14)\n",
        "      for cell_width, heading in zip(cell_widths, header):\n",
        "          self.cell(cell_width, 8, heading, border=1, align=\"C\", fill=True)\n",
        "      self.ln()\n",
        "      self.set_x(25.45)\n",
        "\n",
        "      # Color and font restoration:\n",
        "      self.set_fill_color(*row_color)  # * required to unpack tuple\n",
        "      self.set_text_color(0)\n",
        "      self.set_font()\n",
        "      fill = False\n",
        "      if len(rows) >= 12:\n",
        "        font_size = 10\n",
        "        row_height = 6\n",
        "      else:\n",
        "        font_size = 12\n",
        "        row_height = 7\n",
        "      for row in rows:\n",
        "        for index, item in enumerate(row):          \n",
        "          if index == 0:\n",
        "            self.set_font(style=\"B\", size=font_size)\n",
        "          else:\n",
        "            self.set_font(size=font_size)\n",
        "          self.cell(cell_widths[index],\n",
        "                    row_height,\n",
        "                    item,\n",
        "                    border=\"LR\",\n",
        "                    align=\"C\",\n",
        "                    fill=fill)\n",
        "        fill = not fill  # I am pretty sure this is what alternates row colors!\n",
        "\n",
        "        self.ln()\n",
        "        self.set_x(25.45)\n",
        "\n",
        "        # RFE add row for team score + signature confirmation\n",
        "        if signature == True:\n",
        "          pass\n",
        "\n",
        "      self.set_fill_color(*header_color)  # * required to unpack tuple\n",
        "      self.set_text_color(255)\n",
        "      self.set_draw_color(36, 36, 36)\n",
        "      self.set_line_width(0.3)\n",
        "      self.set_font(style=\"B\", size=14)\n",
        "      for cell_width, heading in zip(cell_widths, header):\n",
        "          self.cell(cell_width, 8, heading, border=1, align=\"C\", fill=True)\n",
        "\n",
        "      self.ln(14)"
      ],
      "metadata": {
        "id": "HEELLKhcL8_O"
      },
      "execution_count": 69,
      "outputs": []
    },
    {
      "cell_type": "markdown",
      "source": [
        "# Prelim Scheduler\n",
        "\n",
        "This section reads the list of prelim teams and information from the tournament format dictionary to produce a set of prelim schedules."
      ],
      "metadata": {
        "id": "K4OmpZngcsFP"
      }
    },
    {
      "cell_type": "markdown",
      "source": [
        "Lists of prelim group and playoff bracket names are determined here."
      ],
      "metadata": {
        "id": "yqDIBPxpAXbJ"
      }
    },
    {
      "cell_type": "code",
      "source": [
        "prelim_group_names = [sublist[1] for sublist in list_of_teams]\n",
        "prelim_group_names = remove_duplicates(prelim_group_names)\n",
        "\n",
        "if tournament_phase == 'prelims':\n",
        "  group_names = prelim_group_names\n",
        "\n",
        "if tournament_phase in ['playoffs', 'superplayoffs']:\n",
        "  group_names = [row[1] for row in imported_group_names]\n",
        "  group_names = remove_NaN(group_names)\n",
        "  # playoff_list_of_teams = list_of_teams\n",
        "\n",
        "# if tournament_phase == 'superplayoffs':\n",
        "#   group_names = [row[2] for row in imported_group_names]\n",
        "#   group_names = [x for x in super_bracket_names\n",
        "#                             if str(x) != 'nan']\n",
        "#   super_list_of_teams = list_of_teams"
      ],
      "metadata": {
        "id": "0j8TgdXpxuiF"
      },
      "execution_count": 70,
      "outputs": []
    },
    {
      "cell_type": "markdown",
      "source": [
        "Sometimes, tournaments don't have enough teams to warrant more than one prelim group. We'll do a quick check to see if that's the case."
      ],
      "metadata": {
        "id": "hMBNDAmFJNuK"
      }
    },
    {
      "cell_type": "code",
      "source": [
        "if len(prelim_group_names) == 1:\n",
        "  single_prelim_group = True\n",
        "else:\n",
        "  single_prelim_group = False"
      ],
      "metadata": {
        "id": "_aY-0K2lJiXN"
      },
      "execution_count": 71,
      "outputs": []
    },
    {
      "cell_type": "markdown",
      "source": [
        "Two dictionaries are created here, which will be useful at various points throughout the program:\n",
        "* seed_code_dict: a dictionary where every groupname + seed is matched to a team's 3-letter code\n",
        "* room_dict: matches a group or bracket and room assignment (e.g. group 2, room 3) with an actual room name"
      ],
      "metadata": {
        "id": "Is1C6X6cAbNi"
      }
    },
    {
      "cell_type": "code",
      "source": [
        "# key is a prelim group name and a seed (i.e. Belmopan6)\n",
        "# value is the corresponding team (i.e. Great Valley A for Belmopan6)\n",
        "# also created a dictionary where values are team codes (i.e. GVA)\n",
        "seed_code_dict = {}"
      ],
      "metadata": {
        "id": "HDmjyK52o1Px"
      },
      "execution_count": 72,
      "outputs": []
    },
    {
      "cell_type": "code",
      "source": [
        "for i in list_of_teams:\n",
        "  seed = i[1] + str(i[2])\n",
        "  team = i[0]  # team name\n",
        "  code = team_code_dict[team]\n",
        "\n",
        "  seed_code_dict[seed] = code"
      ],
      "metadata": {
        "id": "gbhlZS_foUhA"
      },
      "execution_count": 73,
      "outputs": []
    },
    {
      "cell_type": "code",
      "source": [
        "# key is prelim group and a number (i.e. Accra1)\n",
        "# value is corresponding room (i.e. Grand Ballroom A is Accra1)\n",
        "# also created dictionary where key is a playoff bracket instead\n",
        "room_dict = {}\n",
        "for i in room_assignments:\n",
        "    key = i[1] + str(i[2])\n",
        "    value = i[0]\n",
        "    room_dict[key] = value"
      ],
      "metadata": {
        "id": "nvFXxX4_p-74"
      },
      "execution_count": 74,
      "outputs": []
    },
    {
      "cell_type": "markdown",
      "source": [
        "For playoffs: \n",
        "* two dictionaries are created for prelim group placement (CURRENTLY REDUNDANT WITIH TEAM GROUP DICT) and prelim PPB\n",
        "* determine number of teams that advance to each bracket (still in use?)\n",
        "* determine if crossover format is in play\n",
        "* sort list of teams by descending finish, then ascending PPB\n",
        "\n",
        "If we're not in playoffs, set crossover equal to False."
      ],
      "metadata": {
        "id": "kR72nrh5xt5N"
      }
    },
    {
      "cell_type": "code",
      "source": [
        "if tournament_phase == 'playoffs':\n",
        "\n",
        "  team_placement = {rows[0]: (rows[1], str(rows[2])) for rows in list_of_teams}\n",
        "  team_ppb = {rows[0]: (rows[3]) for rows in list_of_teams}\n",
        "\n",
        "  advance_count = format_dict['the number of teams that advance to each bracket'\n",
        "                              + ' (e.g. top 2 or top 3)']\n",
        "\n",
        "  crossover = format_dict['crossover']\n",
        "  if crossover == 'N':\n",
        "    crossover = False\n",
        "    \n",
        "  # sort list by index 1 descending (finish), then index 2 ascending (PPB)\n",
        "  sorted_list = sorted(list_of_teams, key=lambda x: (x[2], -x[3], -x[4]))\n",
        "  if crossover != 'N':\n",
        "      # ignore PPB if using crossover schedule\n",
        "      # TODO I don't know if this is best method but it works for now\n",
        "      sorted_list = sorted(list_of_teams, key=lambda x: (x[2]))\n",
        "\n",
        "else:\n",
        "  crossover = False"
      ],
      "metadata": {
        "id": "IzpE6FskBerU"
      },
      "execution_count": 75,
      "outputs": []
    },
    {
      "cell_type": "markdown",
      "source": [
        "For prelim format and multiple round robins (e.g. a 6 team round robin), set multiple_rr = correct value."
      ],
      "metadata": {
        "id": "mJ2qD4KyuPTT"
      }
    },
    {
      "cell_type": "code",
      "source": [
        "# playoffs input doesn't have multiple_rr or is set to non-integer...\n",
        "# set multiple_rr = 1\n",
        "if tournament_phase == 'prelims':\n",
        "  try:\n",
        "    multiple_rr = format_dict['repeat round robin']\n",
        "  except KeyError:\n",
        "    multiple_rr=1\n",
        "  if not isinstance(multiple_rr, int):\n",
        "    multiple_rr = 1\n",
        "else:\n",
        "  multiple_rr = 1"
      ],
      "metadata": {
        "id": "BmijOTT_uOmK"
      },
      "execution_count": 76,
      "outputs": []
    },
    {
      "cell_type": "code",
      "source": [
        "full_schedule_grid = []\n",
        "\n",
        "if tournament_phase == 'prelims':\n",
        "  # perform this process for each prelim group, add to full_schedule_grid\n",
        "  for group_name in group_names:\n",
        "    schedule_grid = (standard_schedule(group_name,\n",
        "                                      seed_code_dict,\n",
        "                                      prelim_room_dict,\n",
        "                                      multiple_rr=multiple_rr))\n",
        "    full_schedule_grid.append(schedule_grid)\n",
        "\n",
        "# # for visual debugging\n",
        "# for index, prelim_group in enumerate(prelim_group_names):\n",
        "#     print(f'\\nPrelim Group: {prelim_group}')\n",
        "#     print(*full_schedule_grid[index], sep='\\n')"
      ],
      "metadata": {
        "id": "9Q-DolBuAaJZ"
      },
      "execution_count": 77,
      "outputs": []
    },
    {
      "cell_type": "markdown",
      "source": [
        "# Playoff Scheduler\n",
        "\n",
        "This section ranks teams by prelim group finish, then PPB. The list is then provided to the playoff scheduler."
      ],
      "metadata": {
        "id": "_YfbhDePdJTn"
      }
    },
    {
      "cell_type": "markdown",
      "source": [
        "Reorganize sorted_list according to the playoff schedule codes 1 and 2:\n",
        "* Code 1 is for reordering the list of teams according to the playoff format (most of the time, it will be in order from 1 through N).\n",
        "* Code 2 is for splitting the list of teams into different brackets (most of the time, it will be the same number repeated, but occasionally it will be different numbers if not all brackets have the same size).\n",
        " * Also retrieved from Code 2 is the rr_template_list, as sometimes playoff schedules have mixed formats across brackets.\n",
        "\n",
        "In addition, the number of prelim rounds will be identified, so the playoff rounds start from the correct number.\n",
        "\n",
        "Finally, a playoff_team_dict and its partner team_playoff_dict will be created for seeding."
      ],
      "metadata": {
        "id": "pQr8QtKkqDNq"
      }
    },
    {
      "cell_type": "code",
      "source": [
        "if tournament_phase == 'playoffs':\n",
        "\n",
        "  schedule_code_1 = format_dict['playoff schedule code 1']\n",
        "  sorted_list_1 = code_1_scheduler(sorted_list, schedule_code_1)\n",
        "\n",
        "  schedule_code_2 = format_dict['playoff schedule code 2']\n",
        "  rr_template_list, sorted_list_2 = code_2_scheduler(sorted_list_1, schedule_code_2)\n",
        "\n",
        "  prelim_round_count = format_dict['number of prelim rounds '\n",
        "                                 + '(do not include tiebreakers)']\n",
        "\n",
        "  playoff_team_dict = {}\n",
        "  team_playoff_dict = {}\n",
        "\n",
        "  for index, bracket_name in enumerate(group_names):\n",
        "    for index2, team in enumerate(sorted_list_2[index]):\n",
        "      playoff_seed = bracket_name + str(index2+1)\n",
        "      team_code = team_code_dict[team[0]]\n",
        "      playoff_team_dict[playoff_seed] = team_code\n",
        "      team_playoff_dict[team_code] = playoff_seed"
      ],
      "metadata": {
        "id": "mhFhOqxFp4KJ"
      },
      "execution_count": 129,
      "outputs": []
    },
    {
      "cell_type": "markdown",
      "source": [
        "Finally, the creation of the full schedule grid."
      ],
      "metadata": {
        "id": "o6jwf2sqz4XB"
      }
    },
    {
      "cell_type": "code",
      "source": [
        "# %% create full schedule grid + first playoff room dict\n",
        "\n",
        "full_schedule_grid = []\n",
        "first_playoff_rooms = {}\n",
        "\n",
        "if tournament_phase == 'playoffs':\n",
        "\n",
        "  # perform this process for each playoff group, add to full_schedule_grid\n",
        "  for index, bracket_name in enumerate(group_names):\n",
        "\n",
        "    crossover_format = rr_template_list[index]\n",
        "    try:\n",
        "      crossover_format = int(crossover_format)\n",
        "      crossover_format = False\n",
        "    except ValueError:\n",
        "      pass\n",
        "\n",
        "    # this schedule grid will contain all match information split up by line\n",
        "    schedule_grid = (standard_schedule(bracket_name,\n",
        "                                      playoff_team_dict,\n",
        "                                      room_dict,\n",
        "                                      crossover=crossover_format,\n",
        "                                      roundstart=prelim_round_count+1))\n",
        "\n",
        "    full_schedule_grid.append(schedule_grid)\n",
        "\n"
      ],
      "metadata": {
        "id": "F3MOT6_cz7wy"
      },
      "execution_count": 110,
      "outputs": []
    },
    {
      "cell_type": "markdown",
      "source": [
        "For larger tournaments, it is typically necessary to have a one-page table listing the room for the first playoff match of all teams. The code below generates that information and stores it in the first_playoff_rooms dictionary."
      ],
      "metadata": {
        "id": "hMu1mLIODdAc"
      }
    },
    {
      "cell_type": "code",
      "source": [
        "if tournament_phase == 'playoffs':\n",
        "\n",
        "  # produce roomlist + bye if needed\n",
        "  roomlist = [k for k, v in list(playoff_room_dict.items())\n",
        "              if k.startswith(bracket_name)]\n",
        "  roomlist = [playoff_room_dict[i] for i in roomlist]\n",
        "\n",
        "  if schedule_grid[0][-1] == 'BYE':\n",
        "    roomlist.append('BYE')\n",
        "\n",
        "  # populate first_playoff_rooms dict\n",
        "  first_row = schedule_grid[1]\n",
        "  for index, team in enumerate(first_row[1:]):\n",
        "    room_index = int(index//2)\n",
        "    first_room = roomlist[room_index]\n",
        "    first_playoff_rooms[team] = first_room\n",
        "\n",
        "  # # prints output for visual debugging\n",
        "  # for index, playoff_bracket in enumerate(group_names):\n",
        "  #   print(f'\\nPlayoff Bracket: {playoff_bracket}')\n",
        "  #   pprint.pprint(full_schedule_grid[index])"
      ],
      "metadata": {
        "colab": {
          "base_uri": "https://localhost:8080/"
        },
        "id": "QDkwLep-DblZ",
        "outputId": "64afe8a0-1f88-4786-936a-ea18123b9b66"
      },
      "execution_count": 116,
      "outputs": [
        {
          "output_type": "stream",
          "name": "stdout",
          "text": [
            "\n",
            "Playoff Bracket: Championship\n",
            "[['', 'Hamilton 401', 'Hamilton 402', 'Hamilton 406'],\n",
            " ['Round 8', 'RUA', 'RUB', 'HUA', 'PRA', 'YAA', 'YAB'],\n",
            " ['Round 9', 'YAA', 'HUA', 'YAB', 'RUB', 'RUA', 'PRA'],\n",
            " ['Round 10', 'PRA', 'YAB', 'RUA', 'YAA', 'HUA', 'RUB']]\n",
            "\n",
            "Playoff Bracket: 7th - 12th\n",
            "[['', 'Hamilton 407', 'Hamilton 411', 'Hamilton 413'],\n",
            " ['Round 8', 'PRB', 'NYB', 'NYA', 'PEN', 'RIA', 'AMH'],\n",
            " ['Round 9', 'RIA', 'NYA', 'AMH', 'NYB', 'PRB', 'PEN'],\n",
            " ['Round 10', 'PEN', 'AMH', 'PRB', 'RIA', 'NYA', 'NYB']]\n",
            "\n",
            "Playoff Bracket: 13th - 16th\n",
            "[['', 'Hamilton 315', 'Hamilton 316'],\n",
            " ['Round 8', 'BAT', 'RIB', 'HUB', 'BAC'],\n",
            " ['Round 9', 'BAT', 'BAC', 'HUB', 'RIB'],\n",
            " ['Round 10', 'BAT', 'HUB', 'RIB', 'BAC']]\n"
          ]
        }
      ]
    },
    {
      "cell_type": "markdown",
      "source": [
        "# Superplayoff Scheduler"
      ],
      "metadata": {
        "id": "Qb5McvXKdPxF"
      }
    },
    {
      "cell_type": "markdown",
      "source": [
        "# PDF Writer"
      ],
      "metadata": {
        "id": "-G75IfqqdJTn"
      }
    },
    {
      "cell_type": "markdown",
      "source": [
        "The list of group names needs to be defined prior to writing the PDF files."
      ],
      "metadata": {
        "id": "SqtzUYIm5QTe"
      }
    },
    {
      "cell_type": "code",
      "source": [
        "phase_capitalized = tournament_phase.capitalize()\n",
        "groups = group_names\n",
        "\n",
        "if tournament_phase == 'prelims':\n",
        "  round_start = 1\n",
        "elif tournament_phase == 'playoffs':\n",
        "  round_start = prelim_round_count+1\n",
        "elif tournament_phase == 'superplayoffs':\n",
        "  pass\n",
        "  groups = playoff_bracket_names\n",
        "  round_start = prelim_round_count+1"
      ],
      "metadata": {
        "id": "I8PrwzXb5WlQ"
      },
      "execution_count": 120,
      "outputs": []
    },
    {
      "cell_type": "markdown",
      "source": [
        "First to generate: full schedule for all teams, all rooms."
      ],
      "metadata": {
        "id": "dpuJ3YH8Px9l"
      }
    },
    {
      "cell_type": "code",
      "source": [
        "pdf = PDF(format=\"letter\")  # default is A4, need to specify US letter\n",
        "\n",
        "# title page\n",
        "pdf.add_page()\n",
        "\n",
        "doc_title = f\"{phase_capitalized} - Full Schedule\"\n",
        "pdf.title_page(format_dict['tournament name'],\n",
        "               format_dict['tournament location'],\n",
        "               format_dict['tournament date'],\n",
        "               doc_title)\n",
        "\n",
        "# full schedule page\n",
        "pdf.add_page()\n",
        "\n",
        "pdf.page_header(format_dict['tournament name'],\n",
        "                format_dict['tournament date'])\n",
        "\n",
        "for index, grid in enumerate(full_schedule_grid):\n",
        "  \n",
        "  # write group name above grid\n",
        "  group = groups[index]\n",
        "  pdf.set_text_color(0)\n",
        "  pdf.set_font(style='I', size=16)\n",
        "  pdf.cell(w=0, h=None, txt=f'Group - {group}',\n",
        "            align=\"L\", new_x=\"LEFT\", new_y=\"NEXT\")\n",
        "  pdf.ln(5)\n",
        "\n",
        "  # print grid\n",
        "  header = grid[0]\n",
        "  schedule = grid[1:]\n",
        "  pdf.full_schedule(header, schedule)\n",
        "  \n",
        "  # line break spacer\n",
        "  pdf.ln(10)\n",
        "\n",
        "pdf.page_footer()\n",
        "\n",
        "# add team index page at end of full schedule\n",
        "pdf.add_page()\n",
        "\n",
        "pdf.page_header(format_dict['tournament name'],\n",
        "                format_dict['tournament date'])\n",
        "\n",
        "pdf.team_index(list_of_teams, phase=tournament_phase)\n",
        "\n",
        "pdf.page_footer()\n",
        "\n",
        "pdf.output(f\"full_{tournament_phase}_schedule.pdf\")\n",
        "pdf_bytes = pdf.output()\n",
        "full_schedule = b64encode(pdf_bytes).decode(\"utf-8\")"
      ],
      "metadata": {
        "id": "wqJPg3lP4pq8"
      },
      "execution_count": 134,
      "outputs": []
    },
    {
      "cell_type": "markdown",
      "source": [
        "Next, we'll generate the individualized team schedules."
      ],
      "metadata": {
        "id": "Xpwa3vsEQC4E"
      }
    },
    {
      "cell_type": "code",
      "source": [
        "pdf = PDF(format=\"letter\")  # default is A4, need to specify US letter\n",
        "\n",
        "# title page\n",
        "pdf.add_page()\n",
        "\n",
        "doc_title = f\"{phase_capitalized} - Individual Team Schedules\"\n",
        "pdf.title_page(format_dict['tournament name'],\n",
        "               format_dict['tournament location'],\n",
        "               format_dict['tournament date'],\n",
        "               doc_title)\n",
        "\n",
        "# sort list of teams alphabetically, so documents easier to distribute\n",
        "list_of_teams = sorted(list_of_teams, key=lambda x: (x[0]))\n",
        "\n",
        "for team in list_of_teams:\n",
        "\n",
        "  # iterate through schedule grids. Is the team in that grid?\n",
        "  for index, schedule_grid in enumerate(full_schedule_grid):\n",
        "\n",
        "    team_name = team[0]  # full team name \n",
        "    team_code = team_code_dict[team_name]  # 3-letter team code\n",
        "    team_list = get_team_list(schedule_grid)  # list of teams in grid\n",
        "\n",
        "    if team_code in team_list:\n",
        "      group = groups[index]  # group name\n",
        "      room_list = get_room_list(schedule_grid)\n",
        "      basic_schedule_grid = clean_up_grid(schedule_grid)\n",
        "      \n",
        "      # create page and add header\n",
        "      pdf.add_page()\n",
        "      pdf.page_header(format_dict['tournament name'],\n",
        "                      format_dict['tournament date'])\n",
        "      \n",
        "      # add team name, a line break, and group name\n",
        "      pdf.set_font(\"times\", size=24)\n",
        "      pdf.cell(w=0, h=None, txt=f'{tournament_phase.capitalize()} Schedule: {team_name}',\n",
        "                align=\"C\", new_x=\"LEFT\", new_y=\"NEXT\")\n",
        "      \n",
        "      if single_prelim_group == True:   \n",
        "        pdf.ln(15)\n",
        "      if single_prelim_group == False:   \n",
        "        pdf.ln(5)\n",
        "        pdf.set_font(\"times\", size=17)\n",
        "        pdf.cell(w=0, h=None, txt=f'Group: {group}',\n",
        "                  align=\"C\", new_x=\"LEFT\", new_y=\"NEXT\")\n",
        "        pdf.ln(10)\n",
        "\n",
        "      grid = specific_team_scheduler(team_code,\n",
        "                                     basic_schedule_grid,\n",
        "                                     room_list,\n",
        "                                     code_team_dict,\n",
        "                                     round_start = round_start)\n",
        "\n",
        "      header = grid[0]\n",
        "      schedule = grid[1:]\n",
        "      pdf.individual_schedule(header, schedule)\n",
        "\n",
        "      if text_toggle is True:\n",
        "\n",
        "        # todo: figure out latin-1 encoding issue\n",
        "        text = texts[0]\n",
        "        text = text.encode('latin-1', 'ignore').decode('latin-1')\n",
        "\n",
        "        pdf.set_x(25.45)\n",
        "        font_size = 14\n",
        "        pdf.set_font(\"times\", size=font_size)\n",
        "        pdf.set_text_color(0)\n",
        "        pdf.multi_cell(165, 6, text, new_x=\"LMARGIN\")\n",
        "\n",
        "      if qr_toggle is True:\n",
        "          qr_codes_1 = qr_codes[0:3]\n",
        "          qr_captions_1 = qr_captions[0:3]\n",
        "\n",
        "          qr_positions = [35, 93, 151]\n",
        "          for index, qr_code in enumerate(qr_codes_1):\n",
        "            img = qrcode.make(qr_code)\n",
        "            x_pos = qr_positions[index]\n",
        "            pdf.image(img.get_image(), x=x_pos, y=210, w=30, h=30)\n",
        "\n",
        "          for index, qr_caption in enumerate(qr_captions_1):\n",
        "            x_pos = qr_positions[index] - 5\n",
        "            pdf.set_xy(x_pos, 241)\n",
        "            pdf.cell(w=40, h=None, txt=qr_caption,\n",
        "                     align=\"C\")\n",
        "\n",
        "      pdf.page_footer()\n",
        "\n",
        "      break  # saves time by ending search for team name in other schedule grids\n",
        "\n",
        "pdf.output(f\"{tournament_phase}_individual_team_schedules.pdf\")\n",
        "pdf_bytes = pdf.output()\n",
        "individual_team_schedules = b64encode(pdf_bytes).decode(\"utf-8\")"
      ],
      "metadata": {
        "id": "k_zGqv3NQDPU"
      },
      "execution_count": 135,
      "outputs": []
    },
    {
      "cell_type": "markdown",
      "source": [
        "We'll do the same individual schedules, but for rooms instead of teams."
      ],
      "metadata": {
        "id": "aFFPYMqzMhCC"
      }
    },
    {
      "cell_type": "code",
      "source": [
        "pdf = PDF(format=\"letter\")  # default is A4, need to specify US letter\n",
        "\n",
        "# title page\n",
        "pdf.add_page()\n",
        "\n",
        "doc_title = f\"{phase_capitalized} - Individual Room Schedules\"\n",
        "pdf.title_page(format_dict['tournament name'],\n",
        "               format_dict['tournament location'],\n",
        "               format_dict['tournament date'],\n",
        "               doc_title)\n",
        "\n",
        "for index, schedule_grid in enumerate(full_schedule_grid):\n",
        "\n",
        "  group = groups[index]\n",
        "  room_list = get_room_list(schedule_grid)\n",
        "  basic_schedule_grid = clean_up_grid(schedule_grid)\n",
        "\n",
        "  # iterate for each room in room_list\n",
        "  for room in room_list:\n",
        "    if room == 'BYE':\n",
        "      continue\n",
        "  \n",
        "    # create page and add header\n",
        "    pdf.add_page()\n",
        "    pdf.page_header(format_dict['tournament name'],\n",
        "                    format_dict['tournament date'])\n",
        "\n",
        "    # add team name, a line break, and prelim group name\n",
        "    pdf.set_font(\"times\", size=24)\n",
        "    \n",
        "    pdf.cell(w=0, h=None, txt=f'{tournament_phase.capitalize()} Schedule: {room}',\n",
        "              align=\"C\", new_x=\"LEFT\", new_y=\"NEXT\")\n",
        "\n",
        "    # skip the prelim group name if only one prelim group\n",
        "    if single_prelim_group == True:   \n",
        "      pdf.ln(15)\n",
        "    if single_prelim_group == False:   \n",
        "      pdf.ln(5)\n",
        "      pdf.set_font(\"times\", size=17)\n",
        "      pdf.cell(w=0, h=None, txt=f'Group: {group}',\n",
        "                align=\"C\", new_x=\"LEFT\", new_y=\"NEXT\")\n",
        "      pdf.ln(10)\n",
        "\n",
        "    grid = specific_room_scheduler(room,\n",
        "                                   basic_schedule_grid,\n",
        "                                   room_list,\n",
        "                                   code_team_dict,\n",
        "                                   round_start = round_start)\n",
        "\n",
        "    header = grid[0]\n",
        "    schedule = grid[1:]\n",
        "    pdf.individual_schedule(header, schedule)\n",
        "\n",
        "    if text_toggle is True:\n",
        "\n",
        "        # todo: figure out latin-1 encoding issue\n",
        "        text = texts[1]\n",
        "        text = text.encode('latin-1', 'ignore').decode('latin-1')\n",
        "\n",
        "        pdf.set_x(25.45)\n",
        "        font_size = 14\n",
        "        pdf.set_font(\"times\", size=font_size)\n",
        "        pdf.set_text_color(0)\n",
        "        pdf.multi_cell(165, 6, text, new_x=\"LMARGIN\")\n",
        "\n",
        "    if qr_toggle is True:\n",
        "        qr_codes_2 = qr_codes[3:6]\n",
        "        qr_captions_2 = qr_captions[3:6]\n",
        "\n",
        "        qr_positions = [35, 93, 151]\n",
        "        for index, qr_code in enumerate(qr_codes_2):\n",
        "          img = qrcode.make(qr_code)\n",
        "          x_pos = qr_positions[index]\n",
        "          pdf.image(img.get_image(), x=x_pos, y=210, w=30, h=30)\n",
        "\n",
        "        for index, qr_caption in enumerate(qr_captions_2):\n",
        "          x_pos = qr_positions[index] - 5\n",
        "          pdf.set_xy(x_pos, 241)\n",
        "          pdf.cell(w=40, h=None, txt=qr_caption,\n",
        "                    align=\"C\")\n",
        "\n",
        "    pdf.page_footer()\n",
        "\n",
        "pdf.output(f\"{tournament_phase}_individual_room_schedules.pdf\")\n",
        "pdf_bytes = pdf.output()\n",
        "individual_room_schedules = b64encode(pdf_bytes).decode(\"utf-8\")"
      ],
      "metadata": {
        "id": "PyNdY14VMlLL"
      },
      "execution_count": 136,
      "outputs": []
    },
    {
      "cell_type": "markdown",
      "source": [
        "## Download PDFs"
      ],
      "metadata": {
        "id": "ejmFTFC8LQVB"
      }
    },
    {
      "cell_type": "code",
      "source": [
        "# Diplay a download button:\n",
        "display(HTML(f'<a style=\"font-size: 30px\" download=\"{tournament_phase}_full_schedule.pdf\" href=\"data:application/pdf;base64,{full_schedule}\">Click to download PDF of full schedule.</a>'))"
      ],
      "metadata": {
        "id": "EfFoOvgwS1Ir",
        "collapsed": true,
        "colab": {
          "base_uri": "https://localhost:8080/",
          "height": 54
        },
        "outputId": "8773283f-ec94-42fc-a43d-d0ac2284b23c"
      },
      "execution_count": 137,
      "outputs": [
        {
          "output_type": "display_data",
          "data": {
            "text/plain": [
              "<IPython.core.display.HTML object>"
            ],
            "text/html": [
              "<a style=\"font-size: 30px\" download=\"playoffs_full_schedule.pdf\" href=\"data:application/pdf;base64,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\">Click to download PDF of full schedule.</a>"
            ]
          },
          "metadata": {}
        }
      ]
    },
    {
      "cell_type": "code",
      "source": [
        "# Diplay a download button:\n",
        "display(HTML(f'<a style=\"font-size: 30px\" download=\"{tournament_phase}_individual_team_schedules.pdf\" href=\"data:application/pdf;base64,{individual_team_schedules}\">Click to download PDF of individual team schedules.</a>'))"
      ],
      "metadata": {
        "collapsed": true,
        "id": "EsFqwdMJQDam",
        "colab": {
          "base_uri": "https://localhost:8080/",
          "height": 54
        },
        "outputId": "e2f88176-89b9-46ae-d969-aaf8f6cc2ff7"
      },
      "execution_count": 138,
      "outputs": [
        {
          "output_type": "display_data",
          "data": {
            "text/plain": [
              "<IPython.core.display.HTML object>"
            ],
            "text/html": [
              "<a style=\"font-size: 30px\" download=\"playoffs_individual_team_schedules.pdf\" href=\"data:application/pdf;base64,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\">Click to download PDF of individual team schedules.</a>"
            ]
          },
          "metadata": {}
        }
      ]
    },
    {
      "cell_type": "code",
      "source": [
        "# Diplay a download button:\n",
        "display(HTML(f'<a style=\"font-size: 30px\" download=\"{tournament_phase}_individual_room_schedules.pdf\" href=\"data:application/pdf;base64,{individual_room_schedules}\">Click to download PDF of individual room schedules.</a>'))"
      ],
      "metadata": {
        "id": "o_Ny_J3AaYq0",
        "colab": {
          "base_uri": "https://localhost:8080/",
          "height": 54
        },
        "outputId": "e4539a36-fae4-47c2-c21a-d1d355c82a85"
      },
      "execution_count": 139,
      "outputs": [
        {
          "output_type": "display_data",
          "data": {
            "text/plain": [
              "<IPython.core.display.HTML object>"
            ],
            "text/html": [
              "<a style=\"font-size: 30px\" download=\"playoffs_individual_room_schedules.pdf\" href=\"data:application/pdf;base64,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\">Click to download PDF of individual room schedules.</a>"
            ]
          },
          "metadata": {}
        }
      ]
    },
    {
      "cell_type": "code",
      "source": [
        "stop here"
      ],
      "metadata": {
        "id": "CSK1KFv4Aj37"
      },
      "execution_count": null,
      "outputs": []
    },
    {
      "cell_type": "markdown",
      "source": [
        "# NSC Scheduler"
      ],
      "metadata": {
        "id": "b3l5IrdtdrTf"
      }
    },
    {
      "cell_type": "markdown",
      "source": [
        "# *** Workspace below this point ***"
      ],
      "metadata": {
        "id": "qagHkeo1VeeJ"
      }
    },
    {
      "cell_type": "markdown",
      "source": [
        "\n",
        "\n",
        "---\n",
        "\n"
      ],
      "metadata": {
        "id": "_k8_duRuVhG4"
      }
    },
    {
      "cell_type": "markdown",
      "source": [
        "# Importing csv files from Github\n",
        "This will be useful later when grabbing templates for the scheduling functions.\n",
        "\n",
        "For more info on loading external files into Colabs, see [this article](https://towardsdatascience.com/7-ways-to-load-external-data-into-google-colab-7ba73e7d5fc7)."
      ],
      "metadata": {
        "id": "rLwWCJ3lixKD"
      }
    },
    {
      "cell_type": "code",
      "source": [
        "filename = 'templates/rr_schedules/rr_10.xlsx'\n",
        "\n",
        "df = pd.read_csv('https://raw.githubusercontent.com/victorprieto2265/cornerstone/main/archive/brackets.csv')\n",
        "\n",
        "# get_all_values gives a list of rows.\n",
        "print(df)"
      ],
      "metadata": {
        "id": "-Wd7s6KAj9it"
      },
      "execution_count": null,
      "outputs": []
    },
    {
      "cell_type": "markdown",
      "source": [
        "What about uploading excel files? Will that work?"
      ],
      "metadata": {
        "id": "8iW6m7Oz0w52"
      }
    },
    {
      "cell_type": "code",
      "source": [
        "url = \"https://github.com/victorprieto2265/cornerstone/blob/main/templates/rr_schedules/rr_templates.xlsx?raw=true\"\n",
        "db=pd.read_excel(url, sheet_name=None)\n",
        "\n",
        "print(type(db))\n",
        "print(db.keys())"
      ],
      "metadata": {
        "id": "Kd83cUbR00zf"
      },
      "execution_count": null,
      "outputs": []
    }
  ]
}